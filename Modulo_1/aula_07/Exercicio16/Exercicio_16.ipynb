{
 "cells": [
  {
   "cell_type": "markdown",
   "id": "6bb98113-7d76-4c55-befe-c4b5fa859234",
   "metadata": {},
   "source": [
    "## Exercício 16\n",
    "### Considere o dataset 16_dataset_notas_alunos.csv (ver nos recursos da aula no Discord). Então, extraia as seguintes informações:\n",
    "### 1. Calcule a média das notas em Matemática e Ciências.\n",
    "### 2. Encontre a mediana das notas em Matemática e Ciências.\n",
    "### 3. Determine a moda das notas em Matemática e Ciências.\n",
    "### 4. Calcule a amplitude das notas em Matemática e Ciências.\n",
    "### 5. Calcule a variância das notas em Matemática e Ciências.\n",
    "### 6. Calcule o desvio padrão das notas em Matemática e Ciências.\n",
    "### 7. Calcule a covariância entre as notas de Matemática e Ciências. \n",
    "### 8. Calcule a correlação entre as notas de Matemática e Ciências."
   ]
  },
  {
   "cell_type": "code",
   "execution_count": 2,
   "id": "c25b8f57-5e97-4f98-be8e-a808480113c8",
   "metadata": {},
   "outputs": [
    {
     "data": {
      "text/html": [
       "<div>\n",
       "<style scoped>\n",
       "    .dataframe tbody tr th:only-of-type {\n",
       "        vertical-align: middle;\n",
       "    }\n",
       "\n",
       "    .dataframe tbody tr th {\n",
       "        vertical-align: top;\n",
       "    }\n",
       "\n",
       "    .dataframe thead th {\n",
       "        text-align: right;\n",
       "    }\n",
       "</style>\n",
       "<table border=\"1\" class=\"dataframe\">\n",
       "  <thead>\n",
       "    <tr style=\"text-align: right;\">\n",
       "      <th></th>\n",
       "      <th>Aluno</th>\n",
       "      <th>Idade</th>\n",
       "      <th>Matemática</th>\n",
       "      <th>Ciências</th>\n",
       "    </tr>\n",
       "  </thead>\n",
       "  <tbody>\n",
       "    <tr>\n",
       "      <th>0</th>\n",
       "      <td>1</td>\n",
       "      <td>17</td>\n",
       "      <td>67</td>\n",
       "      <td>60</td>\n",
       "    </tr>\n",
       "    <tr>\n",
       "      <th>1</th>\n",
       "      <td>2</td>\n",
       "      <td>15</td>\n",
       "      <td>83</td>\n",
       "      <td>78</td>\n",
       "    </tr>\n",
       "    <tr>\n",
       "      <th>2</th>\n",
       "      <td>3</td>\n",
       "      <td>17</td>\n",
       "      <td>70</td>\n",
       "      <td>61</td>\n",
       "    </tr>\n",
       "    <tr>\n",
       "      <th>3</th>\n",
       "      <td>4</td>\n",
       "      <td>17</td>\n",
       "      <td>76</td>\n",
       "      <td>85</td>\n",
       "    </tr>\n",
       "    <tr>\n",
       "      <th>4</th>\n",
       "      <td>5</td>\n",
       "      <td>15</td>\n",
       "      <td>67</td>\n",
       "      <td>91</td>\n",
       "    </tr>\n",
       "    <tr>\n",
       "      <th>...</th>\n",
       "      <td>...</td>\n",
       "      <td>...</td>\n",
       "      <td>...</td>\n",
       "      <td>...</td>\n",
       "    </tr>\n",
       "    <tr>\n",
       "      <th>95</th>\n",
       "      <td>96</td>\n",
       "      <td>15</td>\n",
       "      <td>87</td>\n",
       "      <td>71</td>\n",
       "    </tr>\n",
       "    <tr>\n",
       "      <th>96</th>\n",
       "      <td>97</td>\n",
       "      <td>15</td>\n",
       "      <td>82</td>\n",
       "      <td>81</td>\n",
       "    </tr>\n",
       "    <tr>\n",
       "      <th>97</th>\n",
       "      <td>98</td>\n",
       "      <td>17</td>\n",
       "      <td>96</td>\n",
       "      <td>81</td>\n",
       "    </tr>\n",
       "    <tr>\n",
       "      <th>98</th>\n",
       "      <td>99</td>\n",
       "      <td>15</td>\n",
       "      <td>91</td>\n",
       "      <td>89</td>\n",
       "    </tr>\n",
       "    <tr>\n",
       "      <th>99</th>\n",
       "      <td>100</td>\n",
       "      <td>15</td>\n",
       "      <td>92</td>\n",
       "      <td>97</td>\n",
       "    </tr>\n",
       "  </tbody>\n",
       "</table>\n",
       "<p>100 rows × 4 columns</p>\n",
       "</div>"
      ],
      "text/plain": [
       "    Aluno  Idade  Matemática  Ciências\n",
       "0       1     17          67        60\n",
       "1       2     15          83        78\n",
       "2       3     17          70        61\n",
       "3       4     17          76        85\n",
       "4       5     15          67        91\n",
       "..    ...    ...         ...       ...\n",
       "95     96     15          87        71\n",
       "96     97     15          82        81\n",
       "97     98     17          96        81\n",
       "98     99     15          91        89\n",
       "99    100     15          92        97\n",
       "\n",
       "[100 rows x 4 columns]"
      ]
     },
     "execution_count": 2,
     "metadata": {},
     "output_type": "execute_result"
    }
   ],
   "source": [
    "import pandas as pd\n",
    "dataSet16 = pd.read_csv(\"../DataSet_16.csv\")\n",
    "dataSet16"
   ]
  },
  {
   "cell_type": "code",
   "execution_count": 3,
   "id": "14743655-4d03-4528-a657-11297ab4ee13",
   "metadata": {},
   "outputs": [
    {
     "data": {
      "text/plain": [
       "Matemática    81.57\n",
       "Ciências      80.26\n",
       "dtype: float64"
      ]
     },
     "execution_count": 3,
     "metadata": {},
     "output_type": "execute_result"
    }
   ],
   "source": [
    "## Media das notas Matematicas e Ciencias\n",
    "mediaDataSet = dataSet16[[\"Matemática\", \"Ciências\"]].mean()\n",
    "mediaDataSet"
   ]
  },
  {
   "cell_type": "code",
   "execution_count": 4,
   "id": "70f3670d-b13c-43cc-a234-9bb91d8bc338",
   "metadata": {},
   "outputs": [
    {
     "data": {
      "text/plain": [
       "Matemática    84.5\n",
       "Ciências      79.5\n",
       "dtype: float64"
      ]
     },
     "execution_count": 4,
     "metadata": {},
     "output_type": "execute_result"
    }
   ],
   "source": [
    "## Mediana das notas Matematica e Ciencias\n",
    "medianaDataSet = dataSet16[[\"Matemática\", \"Ciências\"]].median()\n",
    "medianaDataSet"
   ]
  },
  {
   "cell_type": "code",
   "execution_count": 5,
   "id": "5849e156-8417-41a5-af90-fb38ec9bdadc",
   "metadata": {},
   "outputs": [
    {
     "data": {
      "text/html": [
       "<div>\n",
       "<style scoped>\n",
       "    .dataframe tbody tr th:only-of-type {\n",
       "        vertical-align: middle;\n",
       "    }\n",
       "\n",
       "    .dataframe tbody tr th {\n",
       "        vertical-align: top;\n",
       "    }\n",
       "\n",
       "    .dataframe thead th {\n",
       "        text-align: right;\n",
       "    }\n",
       "</style>\n",
       "<table border=\"1\" class=\"dataframe\">\n",
       "  <thead>\n",
       "    <tr style=\"text-align: right;\">\n",
       "      <th></th>\n",
       "      <th>Matemática</th>\n",
       "      <th>Ciências</th>\n",
       "    </tr>\n",
       "  </thead>\n",
       "  <tbody>\n",
       "    <tr>\n",
       "      <th>0</th>\n",
       "      <td>98</td>\n",
       "      <td>92</td>\n",
       "    </tr>\n",
       "  </tbody>\n",
       "</table>\n",
       "</div>"
      ],
      "text/plain": [
       "   Matemática  Ciências\n",
       "0          98        92"
      ]
     },
     "execution_count": 5,
     "metadata": {},
     "output_type": "execute_result"
    }
   ],
   "source": [
    "## Moda das notas Matematica e Ciencias\n",
    "modaDataSet = dataSet16[[\"Matemática\", \"Ciências\"]].mode()\n",
    "modaDataSet"
   ]
  },
  {
   "cell_type": "code",
   "execution_count": 6,
   "id": "9615f8f1-e77e-4230-86e4-d4ca5dcd2dc8",
   "metadata": {},
   "outputs": [
    {
     "data": {
      "text/plain": [
       "np.int64(40)"
      ]
     },
     "execution_count": 6,
     "metadata": {},
     "output_type": "execute_result"
    }
   ],
   "source": [
    "## Amplitude das notas Matematica\n",
    "amplitude_coluna_matematica = dataSet16[\"Matemática\"].max() - dataSet16[\"Matemática\"].min()\n",
    "amplitude_coluna_matematica"
   ]
  },
  {
   "cell_type": "code",
   "execution_count": 7,
   "id": "dd80e99e-1117-4ae8-811d-31c8c7d86186",
   "metadata": {},
   "outputs": [
    {
     "data": {
      "text/plain": [
       "np.int64(40)"
      ]
     },
     "execution_count": 7,
     "metadata": {},
     "output_type": "execute_result"
    }
   ],
   "source": [
    "## Amplitude da coluna Ciencias\n",
    "amplitude_coluna_ciencias = dataSet16[\"Ciências\"].max() - dataSet16[\"Ciências\"].min()\n",
    "amplitude_coluna_ciencias"
   ]
  },
  {
   "cell_type": "code",
   "execution_count": 8,
   "id": "851bcd03-0e1e-4f8d-91a9-063df18b6f94",
   "metadata": {},
   "outputs": [
    {
     "data": {
      "text/plain": [
       "Matemática    160.752626\n",
       "Ciências      150.153939\n",
       "dtype: float64"
      ]
     },
     "execution_count": 8,
     "metadata": {},
     "output_type": "execute_result"
    }
   ],
   "source": [
    "## Variancia das colunas\n",
    "variancia_dataSet = dataSet16[[\"Matemática\", \"Ciências\"]].var()\n",
    "variancia_dataSet"
   ]
  },
  {
   "cell_type": "code",
   "execution_count": 9,
   "id": "f0b4a967-9e99-4d28-8fa3-925a0eb07bb5",
   "metadata": {},
   "outputs": [
    {
     "data": {
      "text/plain": [
       "<bound method DataFrame.cov of     Matemática  Ciências\n",
       "0           67        60\n",
       "1           83        78\n",
       "2           70        61\n",
       "3           76        85\n",
       "4           67        91\n",
       "..         ...       ...\n",
       "95          87        71\n",
       "96          82        81\n",
       "97          96        81\n",
       "98          91        89\n",
       "99          92        97\n",
       "\n",
       "[100 rows x 2 columns]>"
      ]
     },
     "execution_count": 9,
     "metadata": {},
     "output_type": "execute_result"
    }
   ],
   "source": [
    "## Covariancia entre Matematica e Ciencias\n",
    "covariancia = dataSet16[[\"Matemática\", \"Ciências\"]].cov\n",
    "covariancia"
   ]
  },
  {
   "cell_type": "code",
   "execution_count": 11,
   "id": "64290ec6-c038-423a-935f-cdb1e7e9d656",
   "metadata": {},
   "outputs": [
    {
     "data": {
      "text/html": [
       "<div>\n",
       "<style scoped>\n",
       "    .dataframe tbody tr th:only-of-type {\n",
       "        vertical-align: middle;\n",
       "    }\n",
       "\n",
       "    .dataframe tbody tr th {\n",
       "        vertical-align: top;\n",
       "    }\n",
       "\n",
       "    .dataframe thead th {\n",
       "        text-align: right;\n",
       "    }\n",
       "</style>\n",
       "<table border=\"1\" class=\"dataframe\">\n",
       "  <thead>\n",
       "    <tr style=\"text-align: right;\">\n",
       "      <th></th>\n",
       "      <th>Matemática</th>\n",
       "      <th>Ciências</th>\n",
       "    </tr>\n",
       "  </thead>\n",
       "  <tbody>\n",
       "    <tr>\n",
       "      <th>Matemática</th>\n",
       "      <td>1.000000</td>\n",
       "      <td>0.058786</td>\n",
       "    </tr>\n",
       "    <tr>\n",
       "      <th>Ciências</th>\n",
       "      <td>0.058786</td>\n",
       "      <td>1.000000</td>\n",
       "    </tr>\n",
       "  </tbody>\n",
       "</table>\n",
       "</div>"
      ],
      "text/plain": [
       "            Matemática  Ciências\n",
       "Matemática    1.000000  0.058786\n",
       "Ciências      0.058786  1.000000"
      ]
     },
     "execution_count": 11,
     "metadata": {},
     "output_type": "execute_result"
    }
   ],
   "source": [
    "## Calculando correlacao das colunas matematicas e Ciencias\n",
    "correlacao_dataSet = dataSet16[[\"Matemática\", \"Ciências\"]].corr()\n",
    "correlacao_dataSet"
   ]
  }
 ],
 "metadata": {
  "kernelspec": {
   "display_name": "Python 3 (ipykernel)",
   "language": "python",
   "name": "python3"
  },
  "language_info": {
   "codemirror_mode": {
    "name": "ipython",
    "version": 3
   },
   "file_extension": ".py",
   "mimetype": "text/x-python",
   "name": "python",
   "nbconvert_exporter": "python",
   "pygments_lexer": "ipython3",
   "version": "3.12.4"
  }
 },
 "nbformat": 4,
 "nbformat_minor": 5
}
