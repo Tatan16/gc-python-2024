{
 "cells": [
  {
   "cell_type": "markdown",
   "id": "a54aec06-96c4-4e9a-9075-f431d62640cd",
   "metadata": {},
   "source": [
    "## Exercício 18 (MINI BOSS): Análise de Desempenho Escolar\n",
    "### Você é um cientista de dados contratado por uma escola para analisar o desempenho de três turmas (Turma A, Turma B, Turma C) em duas disciplinas: Matemática e Ciências.\n",
    "### O objetivo é gerar um relatório completo utilizando as medidas estatísticas estudadas para entender o desempenho geral dos alunos e descobrir padrões importantes.\n",
    "### Tarefas:\n",
    "### 1. Carregar o dataset que contém as notas dos alunos das três turmas. O arquivo chama 18_analise_avancada.csv.\n",
    "### 2. Calcular as seguintes medidas estatísticas para cada turma (A, B e C) em Matemática e Ciências:\n",
    "### a. Média\n",
    "### b. Mediana\n",
    "### c. Moda\n",
    "### d. Amplitude (diferença entre a maior e a menor nota)\n",
    "### e. Variância\n",
    "### f. Desvio Padrão\n",
    "### g. Covariância e Correlação entre Matemática e Ciências\n",
    "### Conclusões:\n",
    "### 1. Com base nas medidas acima, qual turma teve o melhor desempenho geral em Matemática e Ciências?\n",
    "### 2. Qual turma tem as notas mais consistentes em termos de desvio padrão?\n",
    "### 3. Existe uma correlação entre o desempenho em Matemática e Ciências para cada turma? Essa correlação é positiva ou negativa?\n",
    "### 4. Qual turma apresenta a maior amplitude de notas? O que isso nos diz sobre a desigualdade de desempenho dentro da turma?"
   ]
  },
  {
   "cell_type": "code",
   "execution_count": 11,
   "id": "bdfab9c5-885b-478f-b1a1-9ddaab7629be",
   "metadata": {},
   "outputs": [
    {
     "data": {
      "text/html": [
       "<div>\n",
       "<style scoped>\n",
       "    .dataframe tbody tr th:only-of-type {\n",
       "        vertical-align: middle;\n",
       "    }\n",
       "\n",
       "    .dataframe tbody tr th {\n",
       "        vertical-align: top;\n",
       "    }\n",
       "\n",
       "    .dataframe thead th {\n",
       "        text-align: right;\n",
       "    }\n",
       "</style>\n",
       "<table border=\"1\" class=\"dataframe\">\n",
       "  <thead>\n",
       "    <tr style=\"text-align: right;\">\n",
       "      <th></th>\n",
       "      <th>Turma</th>\n",
       "      <th>Matemática</th>\n",
       "      <th>Ciências</th>\n",
       "    </tr>\n",
       "  </thead>\n",
       "  <tbody>\n",
       "    <tr>\n",
       "      <th>0</th>\n",
       "      <td>C</td>\n",
       "      <td>83</td>\n",
       "      <td>96</td>\n",
       "    </tr>\n",
       "    <tr>\n",
       "      <th>1</th>\n",
       "      <td>A</td>\n",
       "      <td>47</td>\n",
       "      <td>91</td>\n",
       "    </tr>\n",
       "    <tr>\n",
       "      <th>2</th>\n",
       "      <td>C</td>\n",
       "      <td>63</td>\n",
       "      <td>52</td>\n",
       "    </tr>\n",
       "    <tr>\n",
       "      <th>3</th>\n",
       "      <td>C</td>\n",
       "      <td>50</td>\n",
       "      <td>80</td>\n",
       "    </tr>\n",
       "    <tr>\n",
       "      <th>4</th>\n",
       "      <td>A</td>\n",
       "      <td>90</td>\n",
       "      <td>42</td>\n",
       "    </tr>\n",
       "    <tr>\n",
       "      <th>...</th>\n",
       "      <td>...</td>\n",
       "      <td>...</td>\n",
       "      <td>...</td>\n",
       "    </tr>\n",
       "    <tr>\n",
       "      <th>95</th>\n",
       "      <td>A</td>\n",
       "      <td>78</td>\n",
       "      <td>79</td>\n",
       "    </tr>\n",
       "    <tr>\n",
       "      <th>96</th>\n",
       "      <td>A</td>\n",
       "      <td>72</td>\n",
       "      <td>78</td>\n",
       "    </tr>\n",
       "    <tr>\n",
       "      <th>97</th>\n",
       "      <td>C</td>\n",
       "      <td>40</td>\n",
       "      <td>57</td>\n",
       "    </tr>\n",
       "    <tr>\n",
       "      <th>98</th>\n",
       "      <td>A</td>\n",
       "      <td>96</td>\n",
       "      <td>79</td>\n",
       "    </tr>\n",
       "    <tr>\n",
       "      <th>99</th>\n",
       "      <td>A</td>\n",
       "      <td>66</td>\n",
       "      <td>40</td>\n",
       "    </tr>\n",
       "  </tbody>\n",
       "</table>\n",
       "<p>100 rows × 3 columns</p>\n",
       "</div>"
      ],
      "text/plain": [
       "   Turma  Matemática  Ciências\n",
       "0      C          83        96\n",
       "1      A          47        91\n",
       "2      C          63        52\n",
       "3      C          50        80\n",
       "4      A          90        42\n",
       "..   ...         ...       ...\n",
       "95     A          78        79\n",
       "96     A          72        78\n",
       "97     C          40        57\n",
       "98     A          96        79\n",
       "99     A          66        40\n",
       "\n",
       "[100 rows x 3 columns]"
      ]
     },
     "execution_count": 11,
     "metadata": {},
     "output_type": "execute_result"
    }
   ],
   "source": [
    "## Carregando o DataSet das nota dos alunos das tres turmas\n",
    "import pandas as pd\n",
    "notas = pd.read_csv(\"../DataSet_18.csv\")\n",
    "notas"
   ]
  },
  {
   "cell_type": "code",
   "execution_count": 12,
   "id": "7ac7253d-1e1a-446e-8399-6dd1d5468f9f",
   "metadata": {},
   "outputs": [],
   "source": [
    "turma_A = notas[notas[\"Turma\"] == \"A\"]\n",
    "turma_B = notas[notas[\"Turma\"] == \"B\"]\n",
    "turma_C = notas[notas[\"Turma\"] == \"C\"]\n"
   ]
  },
  {
   "cell_type": "markdown",
   "id": "d86eee0b-e7e0-4dbe-bc43-ef34a029db73",
   "metadata": {},
   "source": [
    "## Com base nas medidas acima, qual turma teve o melhor desempenho geral em Matemática e Ciências?\n",
    "### R= Com base nas Turmas A, B e C a Turma que teve melhor desempenho nas materias Matemática e Ciências foi a *Turma B*, abaixo um exemplo mostrando a media, mediana, moda e variância"
   ]
  },
  {
   "cell_type": "code",
   "execution_count": 13,
   "id": "121d1522-9f56-4817-9f07-9739dce154fd",
   "metadata": {},
   "outputs": [
    {
     "data": {
      "text/plain": [
       "Matemática    69.515152\n",
       "Ciências      70.393939\n",
       "dtype: float64"
      ]
     },
     "execution_count": 13,
     "metadata": {},
     "output_type": "execute_result"
    }
   ],
   "source": [
    "# Media das Turmas\n",
    "media_A = turma_A[[\"Matemática\", \"Ciências\"]].mean()\n",
    "media_A"
   ]
  },
  {
   "cell_type": "code",
   "execution_count": 14,
   "id": "7367c817-2fe8-4493-b5f8-7cfb7a30a3eb",
   "metadata": {},
   "outputs": [
    {
     "data": {
      "text/plain": [
       "Matemática    70.888889\n",
       "Ciências      71.555556\n",
       "dtype: float64"
      ]
     },
     "execution_count": 14,
     "metadata": {},
     "output_type": "execute_result"
    }
   ],
   "source": [
    "media_B = turma_B[[\"Matemática\", \"Ciências\"]].mean()\n",
    "media_B"
   ]
  },
  {
   "cell_type": "code",
   "execution_count": 15,
   "id": "13aca94a-c275-40c2-acc9-bffe7a05f8a7",
   "metadata": {},
   "outputs": [
    {
     "data": {
      "text/plain": [
       "Matemática    68.741935\n",
       "Ciências      67.580645\n",
       "dtype: float64"
      ]
     },
     "execution_count": 15,
     "metadata": {},
     "output_type": "execute_result"
    }
   ],
   "source": [
    "media_C = turma_C[[\"Matemática\", \"Ciências\"]].mean()\n",
    "media_C"
   ]
  },
  {
   "cell_type": "code",
   "execution_count": 16,
   "id": "17e184d3-a87d-48c8-8767-433a487047a6",
   "metadata": {},
   "outputs": [
    {
     "data": {
      "text/plain": [
       "Matemática    69.515152\n",
       "Ciências      70.393939\n",
       "dtype: float64"
      ]
     },
     "execution_count": 16,
     "metadata": {},
     "output_type": "execute_result"
    }
   ],
   "source": [
    "# Mediana das Turmas\n",
    "mediana_A = turma_A[[\"Matemática\", \"Ciências\"]].median()\n",
    "media_A"
   ]
  },
  {
   "cell_type": "code",
   "execution_count": 17,
   "id": "951f17ed-35c9-418b-8e56-04f961b3e992",
   "metadata": {},
   "outputs": [
    {
     "data": {
      "text/plain": [
       "Matemática    70.888889\n",
       "Ciências      71.555556\n",
       "dtype: float64"
      ]
     },
     "execution_count": 17,
     "metadata": {},
     "output_type": "execute_result"
    }
   ],
   "source": [
    "mediana_B = turma_B[[\"Matemática\", \"Ciências\"]].median()\n",
    "media_B"
   ]
  },
  {
   "cell_type": "code",
   "execution_count": 18,
   "id": "fdf7ecdd-a347-490b-a0b4-e5244262f6e7",
   "metadata": {},
   "outputs": [
    {
     "data": {
      "text/plain": [
       "Matemática    68.741935\n",
       "Ciências      67.580645\n",
       "dtype: float64"
      ]
     },
     "execution_count": 18,
     "metadata": {},
     "output_type": "execute_result"
    }
   ],
   "source": [
    "mediana_C = turma_C[[\"Matemática\", \"Ciências\"]].median()\n",
    "media_C"
   ]
  },
  {
   "cell_type": "code",
   "execution_count": 19,
   "id": "86218eee-254a-4cab-9016-b0987ec8ef3b",
   "metadata": {},
   "outputs": [
    {
     "data": {
      "text/html": [
       "<div>\n",
       "<style scoped>\n",
       "    .dataframe tbody tr th:only-of-type {\n",
       "        vertical-align: middle;\n",
       "    }\n",
       "\n",
       "    .dataframe tbody tr th {\n",
       "        vertical-align: top;\n",
       "    }\n",
       "\n",
       "    .dataframe thead th {\n",
       "        text-align: right;\n",
       "    }\n",
       "</style>\n",
       "<table border=\"1\" class=\"dataframe\">\n",
       "  <thead>\n",
       "    <tr style=\"text-align: right;\">\n",
       "      <th></th>\n",
       "      <th>Matemática</th>\n",
       "      <th>Ciências</th>\n",
       "    </tr>\n",
       "  </thead>\n",
       "  <tbody>\n",
       "    <tr>\n",
       "      <th>0</th>\n",
       "      <td>94.0</td>\n",
       "      <td>71</td>\n",
       "    </tr>\n",
       "    <tr>\n",
       "      <th>1</th>\n",
       "      <td>NaN</td>\n",
       "      <td>88</td>\n",
       "    </tr>\n",
       "  </tbody>\n",
       "</table>\n",
       "</div>"
      ],
      "text/plain": [
       "   Matemática  Ciências\n",
       "0        94.0        71\n",
       "1         NaN        88"
      ]
     },
     "execution_count": 19,
     "metadata": {},
     "output_type": "execute_result"
    }
   ],
   "source": [
    "# Moda das Turmas\n",
    "moda_A = turma_A[[\"Matemática\", \"Ciências\"]].mode()\n",
    "moda_A"
   ]
  },
  {
   "cell_type": "code",
   "execution_count": 20,
   "id": "853aed07-64c4-4e01-9071-7c88006a406a",
   "metadata": {},
   "outputs": [
    {
     "data": {
      "text/html": [
       "<div>\n",
       "<style scoped>\n",
       "    .dataframe tbody tr th:only-of-type {\n",
       "        vertical-align: middle;\n",
       "    }\n",
       "\n",
       "    .dataframe tbody tr th {\n",
       "        vertical-align: top;\n",
       "    }\n",
       "\n",
       "    .dataframe thead th {\n",
       "        text-align: right;\n",
       "    }\n",
       "</style>\n",
       "<table border=\"1\" class=\"dataframe\">\n",
       "  <thead>\n",
       "    <tr style=\"text-align: right;\">\n",
       "      <th></th>\n",
       "      <th>Matemática</th>\n",
       "      <th>Ciências</th>\n",
       "    </tr>\n",
       "  </thead>\n",
       "  <tbody>\n",
       "    <tr>\n",
       "      <th>0</th>\n",
       "      <td>54</td>\n",
       "      <td>58.0</td>\n",
       "    </tr>\n",
       "    <tr>\n",
       "      <th>1</th>\n",
       "      <td>74</td>\n",
       "      <td>NaN</td>\n",
       "    </tr>\n",
       "  </tbody>\n",
       "</table>\n",
       "</div>"
      ],
      "text/plain": [
       "   Matemática  Ciências\n",
       "0          54      58.0\n",
       "1          74       NaN"
      ]
     },
     "execution_count": 20,
     "metadata": {},
     "output_type": "execute_result"
    }
   ],
   "source": [
    "moda_B = turma_B[[\"Matemática\", \"Ciências\"]].mode()\n",
    "moda_B"
   ]
  },
  {
   "cell_type": "code",
   "execution_count": 21,
   "id": "84099ccb-3bb2-4c33-946c-1a87982725dc",
   "metadata": {},
   "outputs": [
    {
     "data": {
      "text/html": [
       "<div>\n",
       "<style scoped>\n",
       "    .dataframe tbody tr th:only-of-type {\n",
       "        vertical-align: middle;\n",
       "    }\n",
       "\n",
       "    .dataframe tbody tr th {\n",
       "        vertical-align: top;\n",
       "    }\n",
       "\n",
       "    .dataframe thead th {\n",
       "        text-align: right;\n",
       "    }\n",
       "</style>\n",
       "<table border=\"1\" class=\"dataframe\">\n",
       "  <thead>\n",
       "    <tr style=\"text-align: right;\">\n",
       "      <th></th>\n",
       "      <th>Matemática</th>\n",
       "      <th>Ciências</th>\n",
       "    </tr>\n",
       "  </thead>\n",
       "  <tbody>\n",
       "    <tr>\n",
       "      <th>0</th>\n",
       "      <td>78.0</td>\n",
       "      <td>42</td>\n",
       "    </tr>\n",
       "    <tr>\n",
       "      <th>1</th>\n",
       "      <td>83.0</td>\n",
       "      <td>45</td>\n",
       "    </tr>\n",
       "    <tr>\n",
       "      <th>2</th>\n",
       "      <td>NaN</td>\n",
       "      <td>50</td>\n",
       "    </tr>\n",
       "    <tr>\n",
       "      <th>3</th>\n",
       "      <td>NaN</td>\n",
       "      <td>71</td>\n",
       "    </tr>\n",
       "    <tr>\n",
       "      <th>4</th>\n",
       "      <td>NaN</td>\n",
       "      <td>80</td>\n",
       "    </tr>\n",
       "    <tr>\n",
       "      <th>5</th>\n",
       "      <td>NaN</td>\n",
       "      <td>94</td>\n",
       "    </tr>\n",
       "  </tbody>\n",
       "</table>\n",
       "</div>"
      ],
      "text/plain": [
       "   Matemática  Ciências\n",
       "0        78.0        42\n",
       "1        83.0        45\n",
       "2         NaN        50\n",
       "3         NaN        71\n",
       "4         NaN        80\n",
       "5         NaN        94"
      ]
     },
     "execution_count": 21,
     "metadata": {},
     "output_type": "execute_result"
    }
   ],
   "source": [
    "moda_C = turma_C[[\"Matemática\", \"Ciências\"]].mode()\n",
    "moda_C"
   ]
  },
  {
   "cell_type": "code",
   "execution_count": 22,
   "id": "b66876d4-6525-44d5-bbce-603c997b31b3",
   "metadata": {},
   "outputs": [
    {
     "data": {
      "text/plain": [
       "Matemática    325.570076\n",
       "Ciências      345.996212\n",
       "dtype: float64"
      ]
     },
     "execution_count": 22,
     "metadata": {},
     "output_type": "execute_result"
    }
   ],
   "source": [
    "# Variancia das Turmas\n",
    "variancia_A = turma_A[[\"Matemática\", \"Ciências\"]].var()\n",
    "variancia_A"
   ]
  },
  {
   "cell_type": "code",
   "execution_count": 23,
   "id": "0b7aa627-c632-4c7a-a738-859a241ae4b6",
   "metadata": {},
   "outputs": [
    {
     "data": {
      "text/plain": [
       "Matemática    234.101587\n",
       "Ciências      374.311111\n",
       "dtype: float64"
      ]
     },
     "execution_count": 23,
     "metadata": {},
     "output_type": "execute_result"
    }
   ],
   "source": [
    "variancia_B = turma_B[[\"Matemática\", \"Ciências\"]].var()\n",
    "variancia_B"
   ]
  },
  {
   "cell_type": "code",
   "execution_count": 24,
   "id": "8b60b17d-1543-470d-8169-7288c955ca2c",
   "metadata": {},
   "outputs": [
    {
     "data": {
      "text/plain": [
       "Matemática    307.997849\n",
       "Ciências      347.318280\n",
       "dtype: float64"
      ]
     },
     "execution_count": 24,
     "metadata": {},
     "output_type": "execute_result"
    }
   ],
   "source": [
    "variancia_C = turma_C[[\"Matemática\", \"Ciências\"]].var()\n",
    "variancia_C"
   ]
  },
  {
   "cell_type": "markdown",
   "id": "5921eb46-bdaf-4864-bba5-6681f7455947",
   "metadata": {},
   "source": [
    "## Qual turma apresenta a maior amplitude de notas? O que isso nos diz sobre a desigualdade de desempenho dentro da turma?\n",
    "### R= A Turma que apresenta mais amplitude das notas seria a turma A e B a diferençã da turma C, o que isso nos traz sobre a desigualdade de desempenho das turmas é que a turma A e B tem notas mais baixas e altas que a turma C."
   ]
  },
  {
   "cell_type": "code",
   "execution_count": 43,
   "id": "a9b786b5-f340-451c-85c5-721b946942dd",
   "metadata": {},
   "outputs": [
    {
     "data": {
      "text/plain": [
       "Matemática    57\n",
       "Ciências      58\n",
       "dtype: int64"
      ]
     },
     "execution_count": 43,
     "metadata": {},
     "output_type": "execute_result"
    }
   ],
   "source": [
    "# Amplitude de cada uma das turmas\n",
    "amplitude_A =turma_A[[\"Matemática\", \"Ciências\"]].max() - turma_A[[\"Matemática\", \"Ciências\"]].min()\n",
    "amplitude_A"
   ]
  },
  {
   "cell_type": "code",
   "execution_count": 44,
   "id": "3ffade1e-1796-42fb-ab5d-cce6d60a4769",
   "metadata": {},
   "outputs": [
    {
     "data": {
      "text/plain": [
       "Matemática    53\n",
       "Ciências      58\n",
       "dtype: int64"
      ]
     },
     "execution_count": 44,
     "metadata": {},
     "output_type": "execute_result"
    }
   ],
   "source": [
    "amplitude_B = turma_B[[\"Matemática\", \"Ciências\"]].max() - turma_B[[\"Matemática\", \"Ciências\"]].min()\n",
    "amplitude_B"
   ]
  },
  {
   "cell_type": "code",
   "execution_count": 27,
   "id": "ca02ac05-6fde-49bc-8a62-e76d4a86e90d",
   "metadata": {},
   "outputs": [
    {
     "data": {
      "text/plain": [
       "Matemática    54\n",
       "Ciências      57\n",
       "dtype: int64"
      ]
     },
     "execution_count": 27,
     "metadata": {},
     "output_type": "execute_result"
    }
   ],
   "source": [
    "amplitude_C = turma_C[[\"Matemática\", \"Ciências\"]].max() - turma_B[[\"Matemática\", \"Ciências\"]].min()\n",
    "amplitude_C"
   ]
  },
  {
   "cell_type": "markdown",
   "id": "f7079b7f-09a6-4b09-9037-9b0705dfaf24",
   "metadata": {},
   "source": [
    "## Qual turma tem as notas mais consistentes em termos de desvio padrão?\n",
    "### R= A Turma que tem as notas mais consistentes seria novamente a Turma B, pois seu Desvio Padrão é menor a comparação com as Turmas A e C, Abaixo os calculos para saber o Desvio Padrão de cada turma:"
   ]
  },
  {
   "cell_type": "code",
   "execution_count": 28,
   "id": "2d992c89-c716-4c0b-b66d-755b07d1fe1b",
   "metadata": {},
   "outputs": [
    {
     "data": {
      "text/plain": [
       "Matemática    18.043561\n",
       "Ciências      18.600973\n",
       "dtype: float64"
      ]
     },
     "execution_count": 28,
     "metadata": {},
     "output_type": "execute_result"
    }
   ],
   "source": [
    "# Desvio Padrao\n",
    "desvioPadrao_A = turma_A[[\"Matemática\", \"Ciências\"]].std()\n",
    "desvioPadrao_A"
   ]
  },
  {
   "cell_type": "code",
   "execution_count": 29,
   "id": "0787c73d-89ef-43a7-93b7-40b7702703ef",
   "metadata": {},
   "outputs": [
    {
     "data": {
      "text/plain": [
       "Matemática    25.956299\n",
       "Ciências      26.424112\n",
       "dtype: float64"
      ]
     },
     "execution_count": 29,
     "metadata": {},
     "output_type": "execute_result"
    }
   ],
   "source": [
    "coeficiente_variacao_A = (desvioPadrao_A/media_A) * 100\n",
    "coeficiente_variacao_A"
   ]
  },
  {
   "cell_type": "code",
   "execution_count": 30,
   "id": "8bc4e8d5-d5d5-4a68-8354-9e0d313587af",
   "metadata": {},
   "outputs": [
    {
     "data": {
      "text/plain": [
       "Matemática    15.300379\n",
       "Ciências      19.347122\n",
       "dtype: float64"
      ]
     },
     "execution_count": 30,
     "metadata": {},
     "output_type": "execute_result"
    }
   ],
   "source": [
    "desvioPadrao_B = turma_B[[\"Matemática\", \"Ciências\"]].std()\n",
    "desvioPadrao_B"
   ]
  },
  {
   "cell_type": "code",
   "execution_count": 31,
   "id": "8fc64673-c79d-46eb-ae5e-a522db5b9e5b",
   "metadata": {},
   "outputs": [
    {
     "data": {
      "text/plain": [
       "Matemática    21.583606\n",
       "Ciências      27.037903\n",
       "dtype: float64"
      ]
     },
     "execution_count": 31,
     "metadata": {},
     "output_type": "execute_result"
    }
   ],
   "source": [
    "coeficiente_variacao_B = (desvioPadrao_B/media_B) * 100\n",
    "coeficiente_variacao_B"
   ]
  },
  {
   "cell_type": "code",
   "execution_count": 32,
   "id": "8ed35d17-d555-431f-961b-9c0b3d9d657d",
   "metadata": {},
   "outputs": [
    {
     "data": {
      "text/plain": [
       "Matemática    17.549868\n",
       "Ciências      18.636477\n",
       "dtype: float64"
      ]
     },
     "execution_count": 32,
     "metadata": {},
     "output_type": "execute_result"
    }
   ],
   "source": [
    "desvioPadrao_C = turma_C[[\"Matemática\", \"Ciências\"]].std()\n",
    "desvioPadrao_C"
   ]
  },
  {
   "cell_type": "code",
   "execution_count": 33,
   "id": "18849a17-a506-4cbd-95dd-94730f887eb8",
   "metadata": {},
   "outputs": [
    {
     "data": {
      "text/plain": [
       "Matemática    25.530075\n",
       "Ciências      27.576649\n",
       "dtype: float64"
      ]
     },
     "execution_count": 33,
     "metadata": {},
     "output_type": "execute_result"
    }
   ],
   "source": [
    "coeficiente_variacao_C = (desvioPadrao_C/media_C) * 100\n",
    "coeficiente_variacao_C"
   ]
  },
  {
   "cell_type": "code",
   "execution_count": 34,
   "id": "f1728654-9c34-41b9-ba92-87dd2c333bf1",
   "metadata": {},
   "outputs": [
    {
     "data": {
      "text/html": [
       "<div>\n",
       "<style scoped>\n",
       "    .dataframe tbody tr th:only-of-type {\n",
       "        vertical-align: middle;\n",
       "    }\n",
       "\n",
       "    .dataframe tbody tr th {\n",
       "        vertical-align: top;\n",
       "    }\n",
       "\n",
       "    .dataframe thead th {\n",
       "        text-align: right;\n",
       "    }\n",
       "</style>\n",
       "<table border=\"1\" class=\"dataframe\">\n",
       "  <thead>\n",
       "    <tr style=\"text-align: right;\">\n",
       "      <th></th>\n",
       "      <th>Matemática</th>\n",
       "      <th>Ciências</th>\n",
       "    </tr>\n",
       "  </thead>\n",
       "  <tbody>\n",
       "    <tr>\n",
       "      <th>Matemática</th>\n",
       "      <td>325.570076</td>\n",
       "      <td>-68.646780</td>\n",
       "    </tr>\n",
       "    <tr>\n",
       "      <th>Ciências</th>\n",
       "      <td>-68.646780</td>\n",
       "      <td>345.996212</td>\n",
       "    </tr>\n",
       "  </tbody>\n",
       "</table>\n",
       "</div>"
      ],
      "text/plain": [
       "            Matemática    Ciências\n",
       "Matemática  325.570076  -68.646780\n",
       "Ciências    -68.646780  345.996212"
      ]
     },
     "execution_count": 34,
     "metadata": {},
     "output_type": "execute_result"
    }
   ],
   "source": [
    "# Covariancia das Turmas\n",
    "covariancia_A = turma_A[[\"Matemática\", \"Ciências\"]].cov()\n",
    "covariancia_A"
   ]
  },
  {
   "cell_type": "code",
   "execution_count": 35,
   "id": "6e30affb-84a9-4153-b959-1fb259b593ff",
   "metadata": {},
   "outputs": [
    {
     "data": {
      "text/html": [
       "<div>\n",
       "<style scoped>\n",
       "    .dataframe tbody tr th:only-of-type {\n",
       "        vertical-align: middle;\n",
       "    }\n",
       "\n",
       "    .dataframe tbody tr th {\n",
       "        vertical-align: top;\n",
       "    }\n",
       "\n",
       "    .dataframe thead th {\n",
       "        text-align: right;\n",
       "    }\n",
       "</style>\n",
       "<table border=\"1\" class=\"dataframe\">\n",
       "  <thead>\n",
       "    <tr style=\"text-align: right;\">\n",
       "      <th></th>\n",
       "      <th>Matemática</th>\n",
       "      <th>Ciências</th>\n",
       "    </tr>\n",
       "  </thead>\n",
       "  <tbody>\n",
       "    <tr>\n",
       "      <th>Matemática</th>\n",
       "      <td>234.101587</td>\n",
       "      <td>-25.165079</td>\n",
       "    </tr>\n",
       "    <tr>\n",
       "      <th>Ciências</th>\n",
       "      <td>-25.165079</td>\n",
       "      <td>374.311111</td>\n",
       "    </tr>\n",
       "  </tbody>\n",
       "</table>\n",
       "</div>"
      ],
      "text/plain": [
       "            Matemática    Ciências\n",
       "Matemática  234.101587  -25.165079\n",
       "Ciências    -25.165079  374.311111"
      ]
     },
     "execution_count": 35,
     "metadata": {},
     "output_type": "execute_result"
    }
   ],
   "source": [
    "covariancia_B = turma_B[[\"Matemática\", \"Ciências\"]].cov()\n",
    "covariancia_B"
   ]
  },
  {
   "cell_type": "code",
   "execution_count": 36,
   "id": "b55019ab-5d02-4b44-8057-1f7ac7cf98f0",
   "metadata": {},
   "outputs": [
    {
     "data": {
      "text/html": [
       "<div>\n",
       "<style scoped>\n",
       "    .dataframe tbody tr th:only-of-type {\n",
       "        vertical-align: middle;\n",
       "    }\n",
       "\n",
       "    .dataframe tbody tr th {\n",
       "        vertical-align: top;\n",
       "    }\n",
       "\n",
       "    .dataframe thead th {\n",
       "        text-align: right;\n",
       "    }\n",
       "</style>\n",
       "<table border=\"1\" class=\"dataframe\">\n",
       "  <thead>\n",
       "    <tr style=\"text-align: right;\">\n",
       "      <th></th>\n",
       "      <th>Matemática</th>\n",
       "      <th>Ciências</th>\n",
       "    </tr>\n",
       "  </thead>\n",
       "  <tbody>\n",
       "    <tr>\n",
       "      <th>Matemática</th>\n",
       "      <td>307.997849</td>\n",
       "      <td>77.054839</td>\n",
       "    </tr>\n",
       "    <tr>\n",
       "      <th>Ciências</th>\n",
       "      <td>77.054839</td>\n",
       "      <td>347.318280</td>\n",
       "    </tr>\n",
       "  </tbody>\n",
       "</table>\n",
       "</div>"
      ],
      "text/plain": [
       "            Matemática    Ciências\n",
       "Matemática  307.997849   77.054839\n",
       "Ciências     77.054839  347.318280"
      ]
     },
     "execution_count": 36,
     "metadata": {},
     "output_type": "execute_result"
    }
   ],
   "source": [
    "covariancia_C = turma_C[[\"Matemática\", \"Ciências\"]].cov()\n",
    "covariancia_C"
   ]
  },
  {
   "cell_type": "markdown",
   "id": "c4e92610-ee79-4dc6-8d9d-09c1216e51dc",
   "metadata": {},
   "source": [
    "## Existe uma correlação entre o desempenho em Matemática e Ciências para cada turma? Essa correlação é positiva ou negativa?\n",
    "### R= Sim existe correlação entre o desempenho em Matemática e Ciências, mas esta é bem pouca dando negativo ou números com casa decimais, o que nós mostra a baixa correlação que tem, abaixo os calculos:"
   ]
  },
  {
   "cell_type": "code",
   "execution_count": 37,
   "id": "0f99325c-d0e8-4b63-ba97-7abedb702e85",
   "metadata": {},
   "outputs": [
    {
     "data": {
      "text/html": [
       "<div>\n",
       "<style scoped>\n",
       "    .dataframe tbody tr th:only-of-type {\n",
       "        vertical-align: middle;\n",
       "    }\n",
       "\n",
       "    .dataframe tbody tr th {\n",
       "        vertical-align: top;\n",
       "    }\n",
       "\n",
       "    .dataframe thead th {\n",
       "        text-align: right;\n",
       "    }\n",
       "</style>\n",
       "<table border=\"1\" class=\"dataframe\">\n",
       "  <thead>\n",
       "    <tr style=\"text-align: right;\">\n",
       "      <th></th>\n",
       "      <th>Matemática</th>\n",
       "      <th>Ciências</th>\n",
       "    </tr>\n",
       "  </thead>\n",
       "  <tbody>\n",
       "    <tr>\n",
       "      <th>Matemática</th>\n",
       "      <td>1.000000</td>\n",
       "      <td>-0.204532</td>\n",
       "    </tr>\n",
       "    <tr>\n",
       "      <th>Ciências</th>\n",
       "      <td>-0.204532</td>\n",
       "      <td>1.000000</td>\n",
       "    </tr>\n",
       "  </tbody>\n",
       "</table>\n",
       "</div>"
      ],
      "text/plain": [
       "            Matemática  Ciências\n",
       "Matemática    1.000000 -0.204532\n",
       "Ciências     -0.204532  1.000000"
      ]
     },
     "execution_count": 37,
     "metadata": {},
     "output_type": "execute_result"
    }
   ],
   "source": [
    "# Correlacao das Turmas\n",
    "correlacao_A = turma_A[[\"Matemática\", \"Ciências\"]].corr()\n",
    "correlacao_A"
   ]
  },
  {
   "cell_type": "code",
   "execution_count": 48,
   "id": "c4da99ab-ef9b-4239-b20d-c1d8e94d32c5",
   "metadata": {},
   "outputs": [
    {
     "data": {
      "text/html": [
       "<div>\n",
       "<style scoped>\n",
       "    .dataframe tbody tr th:only-of-type {\n",
       "        vertical-align: middle;\n",
       "    }\n",
       "\n",
       "    .dataframe tbody tr th {\n",
       "        vertical-align: top;\n",
       "    }\n",
       "\n",
       "    .dataframe thead th {\n",
       "        text-align: right;\n",
       "    }\n",
       "</style>\n",
       "<table border=\"1\" class=\"dataframe\">\n",
       "  <thead>\n",
       "    <tr style=\"text-align: right;\">\n",
       "      <th></th>\n",
       "      <th>Matemática</th>\n",
       "      <th>Ciências</th>\n",
       "    </tr>\n",
       "  </thead>\n",
       "  <tbody>\n",
       "    <tr>\n",
       "      <th>Matemática</th>\n",
       "      <td>1.000000</td>\n",
       "      <td>-0.085012</td>\n",
       "    </tr>\n",
       "    <tr>\n",
       "      <th>Ciências</th>\n",
       "      <td>-0.085012</td>\n",
       "      <td>1.000000</td>\n",
       "    </tr>\n",
       "  </tbody>\n",
       "</table>\n",
       "</div>"
      ],
      "text/plain": [
       "            Matemática  Ciências\n",
       "Matemática    1.000000 -0.085012\n",
       "Ciências     -0.085012  1.000000"
      ]
     },
     "execution_count": 48,
     "metadata": {},
     "output_type": "execute_result"
    }
   ],
   "source": [
    "correlacao_B = turma_B[[\"Matemática\", \"Ciências\"]].corr()\n",
    "correlacao_B"
   ]
  },
  {
   "cell_type": "code",
   "execution_count": 49,
   "id": "074f9f6c-8c83-454b-a762-58534e503e1b",
   "metadata": {},
   "outputs": [
    {
     "data": {
      "text/html": [
       "<div>\n",
       "<style scoped>\n",
       "    .dataframe tbody tr th:only-of-type {\n",
       "        vertical-align: middle;\n",
       "    }\n",
       "\n",
       "    .dataframe tbody tr th {\n",
       "        vertical-align: top;\n",
       "    }\n",
       "\n",
       "    .dataframe thead th {\n",
       "        text-align: right;\n",
       "    }\n",
       "</style>\n",
       "<table border=\"1\" class=\"dataframe\">\n",
       "  <thead>\n",
       "    <tr style=\"text-align: right;\">\n",
       "      <th></th>\n",
       "      <th>Matemática</th>\n",
       "      <th>Ciências</th>\n",
       "    </tr>\n",
       "  </thead>\n",
       "  <tbody>\n",
       "    <tr>\n",
       "      <th>Matemática</th>\n",
       "      <td>1.000000</td>\n",
       "      <td>0.235593</td>\n",
       "    </tr>\n",
       "    <tr>\n",
       "      <th>Ciências</th>\n",
       "      <td>0.235593</td>\n",
       "      <td>1.000000</td>\n",
       "    </tr>\n",
       "  </tbody>\n",
       "</table>\n",
       "</div>"
      ],
      "text/plain": [
       "            Matemática  Ciências\n",
       "Matemática    1.000000  0.235593\n",
       "Ciências      0.235593  1.000000"
      ]
     },
     "execution_count": 49,
     "metadata": {},
     "output_type": "execute_result"
    }
   ],
   "source": [
    "correlacao_C = turma_C[[\"Matemática\", \"Ciências\"]].corr()\n",
    "correlacao_C"
   ]
  },
  {
   "cell_type": "code",
   "execution_count": null,
   "id": "2f9c3999-4a62-4e13-a63d-53ab137393e9",
   "metadata": {},
   "outputs": [],
   "source": []
  }
 ],
 "metadata": {
  "kernelspec": {
   "display_name": "Python 3 (ipykernel)",
   "language": "python",
   "name": "python3"
  },
  "language_info": {
   "codemirror_mode": {
    "name": "ipython",
    "version": 3
   },
   "file_extension": ".py",
   "mimetype": "text/x-python",
   "name": "python",
   "nbconvert_exporter": "python",
   "pygments_lexer": "ipython3",
   "version": "3.12.4"
  }
 },
 "nbformat": 4,
 "nbformat_minor": 5
}
