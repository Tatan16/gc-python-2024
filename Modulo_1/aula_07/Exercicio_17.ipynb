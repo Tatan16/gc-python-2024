{
 "cells": [
  {
   "cell_type": "markdown",
   "id": "813b1f8c-945e-413f-a43a-0aff93a4ffae",
   "metadata": {},
   "source": [
    "## Exercício 17\n",
    "### Você é um professor que deseja analisar as notas de dois grupos de alunos em um teste de matemática. Carregue o dataset chamado 17_notas_grupos.csv (ver nos recursos da aula no Discord), que contém duas colunas: Grupo_A e Grupo_B, representando as notas dos alunos.\n",
    "### Calcule e compare:\n",
    "### 1. a média das notas de ambos os grupos\n",
    "### 2. a mediana das notas de ambos os grupos\n",
    "### 3. o desvio padrão das notas de ambos os grupos..\n",
    "### Não se esqueça de imprimir os resultados comparando as duas turmas para cada resultado obtido, mas garanta que está em uma forma amigável e fácil de entender."
   ]
  },
  {
   "cell_type": "code",
   "execution_count": 26,
   "id": "c3d6d9fb-2a3c-4893-b18e-2af368565735",
   "metadata": {},
   "outputs": [
    {
     "data": {
      "text/html": [
       "<div>\n",
       "<style scoped>\n",
       "    .dataframe tbody tr th:only-of-type {\n",
       "        vertical-align: middle;\n",
       "    }\n",
       "\n",
       "    .dataframe tbody tr th {\n",
       "        vertical-align: top;\n",
       "    }\n",
       "\n",
       "    .dataframe thead th {\n",
       "        text-align: right;\n",
       "    }\n",
       "</style>\n",
       "<table border=\"1\" class=\"dataframe\">\n",
       "  <thead>\n",
       "    <tr style=\"text-align: right;\">\n",
       "      <th></th>\n",
       "      <th>Grupo_A</th>\n",
       "      <th>Grupo_B</th>\n",
       "    </tr>\n",
       "  </thead>\n",
       "  <tbody>\n",
       "    <tr>\n",
       "      <th>0</th>\n",
       "      <td>51</td>\n",
       "      <td>23</td>\n",
       "    </tr>\n",
       "    <tr>\n",
       "      <th>1</th>\n",
       "      <td>92</td>\n",
       "      <td>25</td>\n",
       "    </tr>\n",
       "    <tr>\n",
       "      <th>2</th>\n",
       "      <td>14</td>\n",
       "      <td>88</td>\n",
       "    </tr>\n",
       "    <tr>\n",
       "      <th>3</th>\n",
       "      <td>71</td>\n",
       "      <td>59</td>\n",
       "    </tr>\n",
       "    <tr>\n",
       "      <th>4</th>\n",
       "      <td>60</td>\n",
       "      <td>40</td>\n",
       "    </tr>\n",
       "    <tr>\n",
       "      <th>...</th>\n",
       "      <td>...</td>\n",
       "      <td>...</td>\n",
       "    </tr>\n",
       "    <tr>\n",
       "      <th>95</th>\n",
       "      <td>39</td>\n",
       "      <td>0</td>\n",
       "    </tr>\n",
       "    <tr>\n",
       "      <th>96</th>\n",
       "      <td>84</td>\n",
       "      <td>26</td>\n",
       "    </tr>\n",
       "    <tr>\n",
       "      <th>97</th>\n",
       "      <td>79</td>\n",
       "      <td>61</td>\n",
       "    </tr>\n",
       "    <tr>\n",
       "      <th>98</th>\n",
       "      <td>81</td>\n",
       "      <td>76</td>\n",
       "    </tr>\n",
       "    <tr>\n",
       "      <th>99</th>\n",
       "      <td>52</td>\n",
       "      <td>2</td>\n",
       "    </tr>\n",
       "  </tbody>\n",
       "</table>\n",
       "<p>100 rows × 2 columns</p>\n",
       "</div>"
      ],
      "text/plain": [
       "    Grupo_A  Grupo_B\n",
       "0        51       23\n",
       "1        92       25\n",
       "2        14       88\n",
       "3        71       59\n",
       "4        60       40\n",
       "..      ...      ...\n",
       "95       39        0\n",
       "96       84       26\n",
       "97       79       61\n",
       "98       81       76\n",
       "99       52        2\n",
       "\n",
       "[100 rows x 2 columns]"
      ]
     },
     "execution_count": 26,
     "metadata": {},
     "output_type": "execute_result"
    }
   ],
   "source": [
    "import pandas as pd\n",
    "dataSet_17 = pd.read_csv(\"DataSet_17.csv\")\n",
    "dataSet_17"
   ]
  },
  {
   "cell_type": "code",
   "execution_count": 27,
   "id": "4cf2a37e-47cb-426e-a25d-51061aae9ad5",
   "metadata": {},
   "outputs": [
    {
     "data": {
      "text/plain": [
       "np.float64(51.31)"
      ]
     },
     "execution_count": 27,
     "metadata": {},
     "output_type": "execute_result"
    }
   ],
   "source": [
    "## Media do Grupo_A\n",
    "media_ga_dataSet = dataSet_17[\"Grupo_A\"].mean()\n",
    "media_ga_dataSet"
   ]
  },
  {
   "cell_type": "code",
   "execution_count": 28,
   "id": "2958c5b4-c723-4420-a510-b26eb0634f8c",
   "metadata": {},
   "outputs": [
    {
     "data": {
      "text/plain": [
       "np.float64(48.05)"
      ]
     },
     "execution_count": 28,
     "metadata": {},
     "output_type": "execute_result"
    }
   ],
   "source": [
    "## Media do Grupo B\n",
    "media_gb_dataSet = dataSet_17[\"Grupo_B\"].mean()\n",
    "media_gb_dataSet"
   ]
  },
  {
   "cell_type": "code",
   "execution_count": 29,
   "id": "8c492323-7715-453b-8852-7e530c3f5638",
   "metadata": {},
   "outputs": [
    {
     "data": {
      "text/plain": [
       "np.float64(53.5)"
      ]
     },
     "execution_count": 29,
     "metadata": {},
     "output_type": "execute_result"
    }
   ],
   "source": [
    "## Mediana do Grupo A\n",
    "mediana_ga_dataSet = dataSet_17[\"Grupo_A\"].median()\n",
    "mediana_ga_dataSet"
   ]
  },
  {
   "cell_type": "code",
   "execution_count": 30,
   "id": "f2f3eac5-f07e-416f-8d4a-5a8238e7cd16",
   "metadata": {},
   "outputs": [
    {
     "data": {
      "text/plain": [
       "np.float64(43.5)"
      ]
     },
     "execution_count": 30,
     "metadata": {},
     "output_type": "execute_result"
    }
   ],
   "source": [
    "## Mediana do Grupo B\n",
    "mediana_gb_dataSet= dataSet_17[\"Grupo_B\"].median()\n",
    "mediana_gb_dataSet"
   ]
  },
  {
   "cell_type": "code",
   "execution_count": 31,
   "id": "27517cae-ca49-4a1e-8375-d05e0095a0f8",
   "metadata": {},
   "outputs": [
    {
     "data": {
      "text/plain": [
       "np.float64(29.704162548829295)"
      ]
     },
     "execution_count": 31,
     "metadata": {},
     "output_type": "execute_result"
    }
   ],
   "source": [
    "## Desvio padrao do Grupo A\n",
    "desvio_padrao_ga_dataset = dataSet_17[\"Grupo_A\"].std()\n",
    "desvio_padrao_ga_dataset"
   ]
  },
  {
   "cell_type": "code",
   "execution_count": 32,
   "id": "380440e1-f19c-46a1-9435-49bfb0879c40",
   "metadata": {},
   "outputs": [
    {
     "data": {
      "text/plain": [
       "np.float64(30.74278267933283)"
      ]
     },
     "execution_count": 32,
     "metadata": {},
     "output_type": "execute_result"
    }
   ],
   "source": [
    "## Desvio padrao do Grupo B\n",
    "desvio_padrao_gb_dataset = dataSet_17[\"Grupo_B\"].std()\n",
    "desvio_padrao_gb_dataset"
   ]
  },
  {
   "cell_type": "code",
   "execution_count": 33,
   "id": "ab41b453-c785-4dba-a26c-bb06f48e1959",
   "metadata": {},
   "outputs": [
    {
     "name": "stdout",
     "output_type": "stream",
     "text": [
      "Análise das Notas dos Grupos:\n",
      "Média das notas - Grupo A: 51.31 | Grupo B: 48.05\n",
      "Mediana das notas - Grupo A: 53.50 | Grupo B: 43.50\n",
      "Desvio Padrão das notas - Grupo A: 29.70 | Grupo B: 30.74\n"
     ]
    }
   ],
   "source": [
    "## Imprimindo Resultados\n",
    "print(\"Análise das Notas dos Grupos:\")\n",
    "print(f\"Média das notas - Grupo A: {media_ga_dataSet:.2f} | Grupo B: {media_gb_dataSet:.2f}\")\n",
    "print(f\"Mediana das notas - Grupo A: {mediana_ga_dataSet:.2f} | Grupo B: {mediana_gb_dataSet:.2f}\")\n",
    "print(f\"Desvio Padrão das notas - Grupo A: {desvio_padrao_ga_dataset:.2f} | Grupo B: {desvio_padrao_gb_dataset:.2f}\")"
   ]
  },
  {
   "cell_type": "code",
   "execution_count": null,
   "id": "83a1008c-04dc-4ce3-84ab-73d839b9c255",
   "metadata": {},
   "outputs": [],
   "source": []
  }
 ],
 "metadata": {
  "kernelspec": {
   "display_name": "Python 3 (ipykernel)",
   "language": "python",
   "name": "python3"
  },
  "language_info": {
   "codemirror_mode": {
    "name": "ipython",
    "version": 3
   },
   "file_extension": ".py",
   "mimetype": "text/x-python",
   "name": "python",
   "nbconvert_exporter": "python",
   "pygments_lexer": "ipython3",
   "version": "3.12.4"
  }
 },
 "nbformat": 4,
 "nbformat_minor": 5
}
