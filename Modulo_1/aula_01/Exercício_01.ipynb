{
 "cells": [
  {
   "cell_type": "markdown",
   "id": "c64bb20c-6250-4897-a712-c84ba2398006",
   "metadata": {},
   "source": [
    "# Exercicio 1"
   ]
  },
  {
   "cell_type": "markdown",
   "id": "bbbcef60-db24-4943-9dc2-acd31068b05b",
   "metadata": {},
   "source": [
    "## Crie um programa que leia seu nome e imprima na tela."
   ]
  },
  {
   "cell_type": "code",
   "execution_count": 1,
   "id": "258c904e-570a-4db1-aff5-4a7632bd676e",
   "metadata": {},
   "outputs": [
    {
     "name": "stdout",
     "output_type": "stream",
     "text": [
      "Jhonathan Miguel Aguirre Ibarra\n"
     ]
    }
   ],
   "source": [
    "## Mostrando mensagem na tela\n",
    "print (\"Jhonathan Miguel Aguirre Ibarra\")"
   ]
  }
 ],
 "metadata": {
  "kernelspec": {
   "display_name": "Python 3 (ipykernel)",
   "language": "python",
   "name": "python3"
  },
  "language_info": {
   "codemirror_mode": {
    "name": "ipython",
    "version": 3
   },
   "file_extension": ".py",
   "mimetype": "text/x-python",
   "name": "python",
   "nbconvert_exporter": "python",
   "pygments_lexer": "ipython3",
   "version": "3.12.4"
  }
 },
 "nbformat": 4,
 "nbformat_minor": 5
}
