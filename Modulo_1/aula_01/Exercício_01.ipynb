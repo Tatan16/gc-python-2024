{
 "cells": [
  {
   "cell_type": "raw",
   "id": "564dd388-25b4-4789-92bf-6fce63463a6e",
   "metadata": {},
   "source": [
    "// Crie um programa que leia seu nome e imprima na tela."
   ]
  },
  {
   "cell_type": "code",
   "execution_count": 1,
   "id": "258c904e-570a-4db1-aff5-4a7632bd676e",
   "metadata": {},
   "outputs": [
    {
     "name": "stdout",
     "output_type": "stream",
     "text": [
      "Jhonathan Miguel Aguirre Ibarra\n"
     ]
    }
   ],
   "source": [
    "print (\"Jhonathan Miguel Aguirre Ibarra\")"
   ]
  }
 ],
 "metadata": {
  "kernelspec": {
   "display_name": "Python 3 (ipykernel)",
   "language": "python",
   "name": "python3"
  },
  "language_info": {
   "codemirror_mode": {
    "name": "ipython",
    "version": 3
   },
   "file_extension": ".py",
   "mimetype": "text/x-python",
   "name": "python",
   "nbconvert_exporter": "python",
   "pygments_lexer": "ipython3",
   "version": "3.12.4"
  }
 },
 "nbformat": 4,
 "nbformat_minor": 5
}
