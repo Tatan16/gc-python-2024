{
 "cells": [
  {
   "cell_type": "markdown",
   "id": "c1cbb6aa-d9b2-4778-8269-ee5530dc02a3",
   "metadata": {},
   "source": [
    "# Exercicio 2"
   ]
  },
  {
   "cell_type": "markdown",
   "id": "f3fbd415-4727-492e-936a-0bcceaf8a919",
   "metadata": {},
   "source": [
    "## Crie um programa que receba 2 números e imprima a soma deles na tela."
   ]
  },
  {
   "cell_type": "code",
   "execution_count": 1,
   "id": "d58db49b-aebf-4e60-a4f3-7b6146204b5a",
   "metadata": {},
   "outputs": [
    {
     "name": "stdin",
     "output_type": "stream",
     "text": [
      "Digite um número:  1\n",
      "Digite outro número:  2\n"
     ]
    },
    {
     "name": "stdout",
     "output_type": "stream",
     "text": [
      "A soma de 1 + 2 é: 3\n"
     ]
    }
   ],
   "source": [
    "## Solicitando os 2 números\n",
    "numero_1 = int(input(\"Digite um número: \"))\n",
    "numero_2 = int(input(\"Digite outro número: \"))\n",
    "# Soma destes 2 números\n",
    "soma = numero_1 + numero_2\n",
    "\n",
    "# Printando na tela o resulta da soma destes 2 números\n",
    "resultado = (f\"A soma de {numero_1} + {numero_2} é: {soma}\")\n",
    "print(resultado)"
   ]
  }
 ],
 "metadata": {
  "kernelspec": {
   "display_name": "Python 3 (ipykernel)",
   "language": "python",
   "name": "python3"
  },
  "language_info": {
   "codemirror_mode": {
    "name": "ipython",
    "version": 3
   },
   "file_extension": ".py",
   "mimetype": "text/x-python",
   "name": "python",
   "nbconvert_exporter": "python",
   "pygments_lexer": "ipython3",
   "version": "3.12.4"
  }
 },
 "nbformat": 4,
 "nbformat_minor": 5
}
