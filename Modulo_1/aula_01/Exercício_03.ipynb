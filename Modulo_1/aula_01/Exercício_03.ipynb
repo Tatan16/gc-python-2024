{
 "cells": [
  {
   "cell_type": "markdown",
   "id": "355026c2-f47c-4209-9b01-37b759369b84",
   "metadata": {},
   "source": [
    "# Exercicio 3"
   ]
  },
  {
   "cell_type": "markdown",
   "id": "8d4d10e1-561d-4dd9-8c2f-767dd7325361",
   "metadata": {},
   "source": [
    "## Crie um programa que leia 3 números, imprima o maior, o menor e a média aritmética."
   ]
  },
  {
   "cell_type": "code",
   "execution_count": 11,
   "id": "d4dbb16a-963d-4da1-93d6-9aa43809c609",
   "metadata": {},
   "outputs": [
    {
     "name": "stdin",
     "output_type": "stream",
     "text": [
      "Digite o primeiro número:  1\n",
      "Digite o primeiro número:  3\n",
      "Digite o primeiro número:  2\n"
     ]
    }
   ],
   "source": [
    "## lER OS 3 NÚMEROS\n",
    "n1 = int(input(\"Digite o primeiro número: \"))\n",
    "n2 = int(input(\"Digite o primeiro número: \"))\n",
    "n3 = int(input(\"Digite o primeiro número: \"))"
   ]
  },
  {
   "cell_type": "code",
   "execution_count": 12,
   "id": "51ba180c-be4a-4a59-b485-906635f6ae6b",
   "metadata": {},
   "outputs": [],
   "source": [
    "## CALCULO PARA SABER O MAIOR NÚMERO\n",
    "if n1 >= n2 and n1 >= n3:\n",
    "    maior_numero = n1\n",
    "elif n2 >= n1 and n2 >= n3:\n",
    "    maior_numero = n2\n",
    "else:\n",
    "    maior_numero = n3"
   ]
  },
  {
   "cell_type": "code",
   "execution_count": 13,
   "id": "eaa1912f-c4d7-4bf1-834f-9587e68565e0",
   "metadata": {},
   "outputs": [],
   "source": [
    "## CALCULO PARA SABER O MENOR NÚMERO\n",
    "if n1 <= n2 and n1 <= n3:\n",
    "    menor_numero = n1\n",
    "elif n2 <= n1 and n2 <= n3:\n",
    "    menor_numero = n2\n",
    "else:\n",
    "    menor_numero = n3"
   ]
  },
  {
   "cell_type": "code",
   "execution_count": 14,
   "id": "e7369b04-e3c0-4451-a3f1-ef85754724a2",
   "metadata": {},
   "outputs": [],
   "source": [
    "## CALCULO DE LA MEDIA ARITMETICA\n",
    "media_aritmetica = (n1 + n2 + n3) / 3 "
   ]
  },
  {
   "cell_type": "code",
   "execution_count": 15,
   "id": "c9844a7c-fb92-4124-a693-8dca5637ad3b",
   "metadata": {},
   "outputs": [
    {
     "name": "stdout",
     "output_type": "stream",
     "text": [
      "O mair número entre 1, 3 e 2 é: 3\n",
      "O menor número entre 1, 3 e 2 é: 1\n",
      "E a sua media aritmetica é: 2.0 \n"
     ]
    }
   ],
   "source": [
    "## RESULTADO\n",
    "print(F\"O mair número entre {n1}, {n2} e {n3} é: {maior_numero}\")\n",
    "print(f\"O menor número entre {n1}, {n2} e {n3} é: {menor_numero}\")\n",
    "print(f\"E a sua media aritmetica é: {media_aritmetica} \")"
   ]
  }
 ],
 "metadata": {
  "kernelspec": {
   "display_name": "Python 3 (ipykernel)",
   "language": "python",
   "name": "python3"
  },
  "language_info": {
   "codemirror_mode": {
    "name": "ipython",
    "version": 3
   },
   "file_extension": ".py",
   "mimetype": "text/x-python",
   "name": "python",
   "nbconvert_exporter": "python",
   "pygments_lexer": "ipython3",
   "version": "3.12.4"
  }
 },
 "nbformat": 4,
 "nbformat_minor": 5
}
