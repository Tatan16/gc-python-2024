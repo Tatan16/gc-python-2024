{
 "cells": [
  {
   "cell_type": "raw",
   "id": "87121816-9093-45a0-9d3c-99f03b78fc09",
   "metadata": {},
   "source": [
    "// Crie um programa que receba 2 números e imprima a soma deles na tela."
   ]
  },
  {
   "cell_type": "code",
   "execution_count": 3,
   "id": "d58db49b-aebf-4e60-a4f3-7b6146204b5a",
   "metadata": {},
   "outputs": [
    {
     "name": "stdin",
     "output_type": "stream",
     "text": [
      "Digite um número:  3\n",
      "Digite outro número:  7\n"
     ]
    },
    {
     "name": "stdout",
     "output_type": "stream",
     "text": [
      "A soma de 3 + 7 é: 10\n"
     ]
    }
   ],
   "source": [
    "numero_1 = int(input(\"Digite um número: \"))\n",
    "numero_2 = int(input(\"Digite outro número: \"))\n",
    "soma = numero_1 + numero_2\n",
    "\n",
    "resultado = (f\"A soma de {numero_1} + {numero_2} é: {soma}\")\n",
    "print(resultado)"
   ]
  },
  {
   "cell_type": "code",
   "execution_count": null,
   "id": "970b8224-2c30-49a3-8f90-ffeecc40f294",
   "metadata": {},
   "outputs": [],
   "source": []
  }
 ],
 "metadata": {
  "kernelspec": {
   "display_name": "Python 3 (ipykernel)",
   "language": "python",
   "name": "python3"
  },
  "language_info": {
   "codemirror_mode": {
    "name": "ipython",
    "version": 3
   },
   "file_extension": ".py",
   "mimetype": "text/x-python",
   "name": "python",
   "nbconvert_exporter": "python",
   "pygments_lexer": "ipython3",
   "version": "3.12.4"
  }
 },
 "nbformat": 4,
 "nbformat_minor": 5
}
