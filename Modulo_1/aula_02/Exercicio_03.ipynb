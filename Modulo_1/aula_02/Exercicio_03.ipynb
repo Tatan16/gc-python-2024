{
 "cells": [
  {
   "cell_type": "markdown",
   "id": "192be510-aa42-49a6-898a-28fe3d70ad82",
   "metadata": {},
   "source": [
    "# Exercicio 3"
   ]
  },
  {
   "cell_type": "markdown",
   "id": "d677edae-43f4-4b8d-bd2c-baba88bfc908",
   "metadata": {},
   "source": [
    "## Crie um programa em Python que peça ao usuario para inserir o nome de três amigos.\n",
    "## O programa deve armazenar esse nomes em uma lista e, em seguida , exibir uma mensagem personalizada para cada amigo, indicando que ele é seu amigo\n",
    "\n",
    "## O programa deve solicitar o nome de três amigos, um por vez.\n",
    "\n",
    "## Após coletar os nomes, o programa deve exibir uma mensagem para cada nome na lista, como \"Nome_do_Amigo é meu amigo\"."
   ]
  },
  {
   "cell_type": "code",
   "execution_count": 7,
   "id": "528cd97f-71c0-49b0-8afe-ee2a57f29ec9",
   "metadata": {},
   "outputs": [
    {
     "name": "stdin",
     "output_type": "stream",
     "text": [
      "Digite o nome do amigo 1:  pedro\n",
      "Digite o nome do amigo 2:  maria\n",
      "Digite o nome do amigo 3:  jose\n"
     ]
    }
   ],
   "source": [
    "# Criando lista de nomes vazia\n",
    "lista_de_amigos = []\n",
    "\n",
    "# Criando um loop for para solicitar o nome dos 3 amigos e adicionar á lista\n",
    "for i in range(3):\n",
    "    nome = input(f\"Digite o nome do amigo {i+1}: \")\n",
    "    lista_de_amigos.append(nome)"
   ]
  },
  {
   "cell_type": "code",
   "execution_count": 8,
   "id": "a2595cd9-d60e-4a85-b27f-f1ed2a64df90",
   "metadata": {},
   "outputs": [
    {
     "name": "stdout",
     "output_type": "stream",
     "text": [
      "pedro é meu amigo!!\n",
      "maria é meu amigo!!\n",
      "jose é meu amigo!!\n"
     ]
    }
   ],
   "source": [
    "# Criando outro loop para imprimir a frase com o nome de cada amigo\n",
    "for amigo in lista_de_amigos:\n",
    "    print(f\"{amigo} é meu amigo!!\")"
   ]
  }
 ],
 "metadata": {
  "kernelspec": {
   "display_name": "Python 3 (ipykernel)",
   "language": "python",
   "name": "python3"
  },
  "language_info": {
   "codemirror_mode": {
    "name": "ipython",
    "version": 3
   },
   "file_extension": ".py",
   "mimetype": "text/x-python",
   "name": "python",
   "nbconvert_exporter": "python",
   "pygments_lexer": "ipython3",
   "version": "3.12.4"
  }
 },
 "nbformat": 4,
 "nbformat_minor": 5
}
