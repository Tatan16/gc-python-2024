{
 "cells": [
  {
   "cell_type": "markdown",
   "id": "a95a25ba-c46a-42f5-a5f2-3fcddafdf5dd",
   "metadata": {},
   "source": [
    "# Exercicio 2"
   ]
  },
  {
   "cell_type": "markdown",
   "id": "be28f198-d4e1-40c3-96cd-e44238b5988f",
   "metadata": {},
   "source": [
    "## Crie um programa em Python que utilize um laço de repetição para contar de 1 a 5\n",
    "## O programa deve exibir cada número da contagem, um por vez, na tela.\n",
    "\n",
    "## Inicie a contagemem 1 e continue até alcançar o número 5.\n",
    "\n",
    "## Para cada número, o programa deve exibir a mensagem \"Contagem: X\", onde X é o número atual da contagem."
   ]
  },
  {
   "cell_type": "code",
   "execution_count": 7,
   "id": "44dbe12a-9479-48f1-a065-b6c4f73f8f8c",
   "metadata": {},
   "outputs": [
    {
     "name": "stdout",
     "output_type": "stream",
     "text": [
      "Constagem: 1\n",
      "Constagem: 2\n",
      "Constagem: 3\n",
      "Constagem: 4\n",
      "Constagem: 5\n"
     ]
    }
   ],
   "source": [
    "# Criando laço de repetição para contar de 1 até 5\n",
    "x = 1\n",
    "while (x < 5 + 1):\n",
    "    print(f\"Constagem: {x}\")\n",
    "    x = x + 1"
   ]
  }
 ],
 "metadata": {
  "kernelspec": {
   "display_name": "Python 3 (ipykernel)",
   "language": "python",
   "name": "python3"
  },
  "language_info": {
   "codemirror_mode": {
    "name": "ipython",
    "version": 3
   },
   "file_extension": ".py",
   "mimetype": "text/x-python",
   "name": "python",
   "nbconvert_exporter": "python",
   "pygments_lexer": "ipython3",
   "version": "3.12.4"
  }
 },
 "nbformat": 4,
 "nbformat_minor": 5
}
