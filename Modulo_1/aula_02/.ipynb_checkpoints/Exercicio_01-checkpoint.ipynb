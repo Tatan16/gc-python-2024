{
 "cells": [
  {
   "cell_type": "markdown",
   "id": "426eca80-21aa-45e6-a56e-b017fd71c372",
   "metadata": {},
   "source": [
    "# Exercicio 1"
   ]
  },
  {
   "cell_type": "markdown",
   "id": "d0d2a4ea-6823-416a-9b87-5b75457b3042",
   "metadata": {},
   "source": [
    "## Crie um programa em Python que solicite ao usuario que insira a sua idade. Com base na idade fornecida, o programa deve verificar se o usuario é menor de idade, maior de idade ou se está completando 18 anos.\n",
    "\n",
    "## Se a idade for menor que 18 anos, o programa deve exibir \"Menor de idade\".\n",
    "\n",
    "## Se a idade for exatamente 18 anos, o programa deve exibir \"Feliz aniversario\".\n",
    "\n",
    "## Se a idade for maior que 18 anos, o programa deve exibir \"Maior de Idade\"."
   ]
  },
  {
   "cell_type": "code",
   "execution_count": null,
   "id": "325ea92f-5fa4-480d-9bf8-c1b46a619059",
   "metadata": {},
   "outputs": [],
   "source": [
    "# Pedindo a idade da pessoa.\n",
    "idade = int(input(\"Qual é a sua idade?: \"))\n",
    "\n",
    "# Estrutura condicional para verificar se o usuario é maior ou menor de idade\n",
    "if idade < 18:\n",
    "    print(\"Menor de Idade!!\")\n",
    "elif idade == 18:\n",
    "    print(\"Feliz Aniversario!!\")\n",
    "else:\n",
    "    print(\"Maior de Idade!!\")"
   ]
  }
 ],
 "metadata": {
  "kernelspec": {
   "display_name": "Python 3 (ipykernel)",
   "language": "python",
   "name": "python3"
  },
  "language_info": {
   "codemirror_mode": {
    "name": "ipython",
    "version": 3
   },
   "file_extension": ".py",
   "mimetype": "text/x-python",
   "name": "python",
   "nbconvert_exporter": "python",
   "pygments_lexer": "ipython3",
   "version": "3.12.4"
  }
 },
 "nbformat": 4,
 "nbformat_minor": 5
}
