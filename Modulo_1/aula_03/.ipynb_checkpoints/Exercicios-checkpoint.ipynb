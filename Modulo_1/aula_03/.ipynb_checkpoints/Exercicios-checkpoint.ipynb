{
 "cells": [
  {
   "cell_type": "markdown",
   "id": "9dab6534-ade7-4779-86ba-5e38698c6f7c",
   "metadata": {},
   "source": [
    "# Exercicio 1\n",
    "\n",
    "### Crie uam lista com 5 nomes de filmes que você goste."
   ]
  },
  {
   "cell_type": "code",
   "execution_count": 2,
   "id": "226a6297-6786-4605-8d3d-4b2e0e3a0b7b",
   "metadata": {},
   "outputs": [],
   "source": [
    "import numpy as np"
   ]
  },
  {
   "cell_type": "code",
   "execution_count": 3,
   "id": "bad49084-d268-4420-b62c-038383b74657",
   "metadata": {},
   "outputs": [],
   "source": [
    "nomes_de_filmes = np.array([\n",
    "    \"Rei Leão\",\n",
    "    \"Até o ultimo homem\",\n",
    "    \"Homem de Ferro\",\n",
    "    \"Esqueceram de Mim\",\n",
    "    \"Kung fu panda \"\n",
    "])"
   ]
  },
  {
   "cell_type": "markdown",
   "id": "b22b6883-80f4-4217-aef2-8fdc9f17f2a7",
   "metadata": {},
   "source": [
    "# Exercicio 2\n",
    "\n",
    "### Crie uma 2a lista com o ano de lançamento desses 5 filmes"
   ]
  },
  {
   "cell_type": "code",
   "execution_count": 4,
   "id": "11d05952-d267-46a6-8e84-1ea36c198d96",
   "metadata": {},
   "outputs": [],
   "source": [
    "ano_de_lancamento = np.array([\n",
    "    1994,\n",
    "    2016,\n",
    "    2008,\n",
    "    1990,\n",
    "    2008\n",
    "])"
   ]
  },
  {
   "cell_type": "markdown",
   "id": "7844adeb-44b0-49ac-bc54-77808139472a",
   "metadata": {},
   "source": [
    "# Exercicio 3\n",
    "\n",
    "### Transforme os dois arrays em um dataframe."
   ]
  },
  {
   "cell_type": "code",
   "execution_count": 5,
   "id": "f1b0289b-ae5f-4456-9cd4-e77b4001ddaa",
   "metadata": {},
   "outputs": [],
   "source": [
    "import pandas as pd"
   ]
  },
  {
   "cell_type": "code",
   "execution_count": 15,
   "id": "51783fda-a540-4d40-ae76-87363dd404d7",
   "metadata": {},
   "outputs": [
    {
     "data": {
      "text/html": [
       "<div>\n",
       "<style scoped>\n",
       "    .dataframe tbody tr th:only-of-type {\n",
       "        vertical-align: middle;\n",
       "    }\n",
       "\n",
       "    .dataframe tbody tr th {\n",
       "        vertical-align: top;\n",
       "    }\n",
       "\n",
       "    .dataframe thead th {\n",
       "        text-align: right;\n",
       "    }\n",
       "</style>\n",
       "<table border=\"1\" class=\"dataframe\">\n",
       "  <thead>\n",
       "    <tr style=\"text-align: right;\">\n",
       "      <th></th>\n",
       "      <th>Meus_Filmes_Favoritos</th>\n",
       "      <th>Ano_de_Lançamento</th>\n",
       "    </tr>\n",
       "  </thead>\n",
       "  <tbody>\n",
       "    <tr>\n",
       "      <th>0</th>\n",
       "      <td>Rei Leão</td>\n",
       "      <td>1994</td>\n",
       "    </tr>\n",
       "    <tr>\n",
       "      <th>1</th>\n",
       "      <td>Até o ultimo homem</td>\n",
       "      <td>2016</td>\n",
       "    </tr>\n",
       "    <tr>\n",
       "      <th>2</th>\n",
       "      <td>Homem de Ferro</td>\n",
       "      <td>2008</td>\n",
       "    </tr>\n",
       "    <tr>\n",
       "      <th>3</th>\n",
       "      <td>Esqueceram de Mim</td>\n",
       "      <td>1990</td>\n",
       "    </tr>\n",
       "    <tr>\n",
       "      <th>4</th>\n",
       "      <td>Kung fu panda</td>\n",
       "      <td>2008</td>\n",
       "    </tr>\n",
       "  </tbody>\n",
       "</table>\n",
       "</div>"
      ],
      "text/plain": [
       "  Meus_Filmes_Favoritos  Ano_de_Lançamento\n",
       "0              Rei Leão               1994\n",
       "1    Até o ultimo homem               2016\n",
       "2        Homem de Ferro               2008\n",
       "3     Esqueceram de Mim               1990\n",
       "4        Kung fu panda                2008"
      ]
     },
     "execution_count": 15,
     "metadata": {},
     "output_type": "execute_result"
    }
   ],
   "source": [
    "meu_dataframe_filmes = pd.DataFrame({\n",
    "    \n",
    "    \"Meus_Filmes_Favoritos\": nomes_de_filmes,\n",
    "    \"Ano_de_lançamento\": ano_de_lancamento\n",
    "})\n",
    "\n",
    "meu_dataframe_filmes"
   ]
  },
  {
   "cell_type": "markdown",
   "id": "b820bb9d-6e98-40a0-884e-188298074a7d",
   "metadata": {},
   "source": [
    "# Exercicio 4\n",
    "\n",
    "### Adicione uma nova nova coluna com nota, de 1 a 10, de quanto você gosta deles."
   ]
  },
  {
   "cell_type": "code",
   "execution_count": 8,
   "id": "da073b21-2d5f-4560-868d-59057db34f0d",
   "metadata": {},
   "outputs": [],
   "source": [
    "notas_filmes =([\n",
    "    10,\n",
    "    9,\n",
    "    9,\n",
    "    8,\n",
    "    10\n",
    "])"
   ]
  },
  {
   "cell_type": "code",
   "execution_count": 9,
   "id": "45ca45cc-4738-4943-aa82-684e240748b1",
   "metadata": {},
   "outputs": [
    {
     "data": {
      "text/html": [
       "<div>\n",
       "<style scoped>\n",
       "    .dataframe tbody tr th:only-of-type {\n",
       "        vertical-align: middle;\n",
       "    }\n",
       "\n",
       "    .dataframe tbody tr th {\n",
       "        vertical-align: top;\n",
       "    }\n",
       "\n",
       "    .dataframe thead th {\n",
       "        text-align: right;\n",
       "    }\n",
       "</style>\n",
       "<table border=\"1\" class=\"dataframe\">\n",
       "  <thead>\n",
       "    <tr style=\"text-align: right;\">\n",
       "      <th></th>\n",
       "      <th>Meus_Filmes_Favoritos</th>\n",
       "      <th>Ano_de_Lançamento</th>\n",
       "      <th>Nota_de_quanto_gosto</th>\n",
       "    </tr>\n",
       "  </thead>\n",
       "  <tbody>\n",
       "    <tr>\n",
       "      <th>0</th>\n",
       "      <td>Rei Leão</td>\n",
       "      <td>1994</td>\n",
       "      <td>10</td>\n",
       "    </tr>\n",
       "    <tr>\n",
       "      <th>1</th>\n",
       "      <td>Até o ultimo homem</td>\n",
       "      <td>2016</td>\n",
       "      <td>9</td>\n",
       "    </tr>\n",
       "    <tr>\n",
       "      <th>2</th>\n",
       "      <td>Homem de Ferro</td>\n",
       "      <td>2008</td>\n",
       "      <td>9</td>\n",
       "    </tr>\n",
       "    <tr>\n",
       "      <th>3</th>\n",
       "      <td>Esqueceram de Mim</td>\n",
       "      <td>1990</td>\n",
       "      <td>8</td>\n",
       "    </tr>\n",
       "    <tr>\n",
       "      <th>4</th>\n",
       "      <td>Kung fu panda</td>\n",
       "      <td>2008</td>\n",
       "      <td>10</td>\n",
       "    </tr>\n",
       "  </tbody>\n",
       "</table>\n",
       "</div>"
      ],
      "text/plain": [
       "  Meus_Filmes_Favoritos  Ano_de_Lançamento  Nota_de_quanto_gosto\n",
       "0              Rei Leão               1994                    10\n",
       "1    Até o ultimo homem               2016                     9\n",
       "2        Homem de Ferro               2008                     9\n",
       "3     Esqueceram de Mim               1990                     8\n",
       "4        Kung fu panda                2008                    10"
      ]
     },
     "execution_count": 9,
     "metadata": {},
     "output_type": "execute_result"
    }
   ],
   "source": [
    "meu_dataframe_filmes [\"Nota_de_quanto_gosto\"] = notas_filmes\n",
    "meu_dataframe_filmes"
   ]
  },
  {
   "cell_type": "markdown",
   "id": "45f8d344-ad35-4d8e-805c-6288eaa66ce7",
   "metadata": {},
   "source": [
    "# Exercicio 5\n",
    "## Crie mais 2 dataframes, de series e anime/desenhos que você gosta, com as mesmas colunas acima."
   ]
  },
  {
   "cell_type": "code",
   "execution_count": 14,
   "id": "8b62a362-b626-4d26-bf1a-3f21c37fd89e",
   "metadata": {},
   "outputs": [
    {
     "data": {
      "text/html": [
       "<div>\n",
       "<style scoped>\n",
       "    .dataframe tbody tr th:only-of-type {\n",
       "        vertical-align: middle;\n",
       "    }\n",
       "\n",
       "    .dataframe tbody tr th {\n",
       "        vertical-align: top;\n",
       "    }\n",
       "\n",
       "    .dataframe thead th {\n",
       "        text-align: right;\n",
       "    }\n",
       "</style>\n",
       "<table border=\"1\" class=\"dataframe\">\n",
       "  <thead>\n",
       "    <tr style=\"text-align: right;\">\n",
       "      <th></th>\n",
       "      <th>Meus_animes_favoritos</th>\n",
       "      <th>Ano_de_Lançamento</th>\n",
       "      <th>Nota_de_quanto_gosto</th>\n",
       "    </tr>\n",
       "  </thead>\n",
       "  <tbody>\n",
       "    <tr>\n",
       "      <th>0</th>\n",
       "      <td>Demons Slayer</td>\n",
       "      <td>2019</td>\n",
       "      <td>10</td>\n",
       "    </tr>\n",
       "    <tr>\n",
       "      <th>1</th>\n",
       "      <td>Attack on Titan</td>\n",
       "      <td>2013</td>\n",
       "      <td>8</td>\n",
       "    </tr>\n",
       "    <tr>\n",
       "      <th>2</th>\n",
       "      <td>Overlord</td>\n",
       "      <td>2015</td>\n",
       "      <td>10</td>\n",
       "    </tr>\n",
       "    <tr>\n",
       "      <th>3</th>\n",
       "      <td>Dragon Ball</td>\n",
       "      <td>1986</td>\n",
       "      <td>10</td>\n",
       "    </tr>\n",
       "    <tr>\n",
       "      <th>4</th>\n",
       "      <td>Sword Art Online</td>\n",
       "      <td>2012</td>\n",
       "      <td>9</td>\n",
       "    </tr>\n",
       "  </tbody>\n",
       "</table>\n",
       "</div>"
      ],
      "text/plain": [
       "  Meus_animes_favoritos  Ano_de_Lançamento  Nota_de_quanto_gosto\n",
       "0         Demons Slayer               2019                    10\n",
       "1       Attack on Titan               2013                     8\n",
       "2              Overlord               2015                    10\n",
       "3           Dragon Ball               1986                    10\n",
       "4      Sword Art Online               2012                     9"
      ]
     },
     "execution_count": 14,
     "metadata": {},
     "output_type": "execute_result"
    }
   ],
   "source": [
    "meu_dataframe_animes = pd.DataFrame ({\n",
    "    \n",
    "    \"Meus_animes_favoritos\":[\"Demons Slayer\", \"Attack on Titan\", \"Overlord\", \"Dragon Ball\", \"Sword Art Online\"],\n",
    "    \"Ano_de_lançamento\":[2019, 2013, 2015, 1986, 2012],\n",
    "    \"Nota_de_quanto_gosto\":[10, 8, 10, 10, 9]\n",
    "})\n",
    "\n",
    "meu_dataframe_animes"
   ]
  },
  {
   "cell_type": "code",
   "execution_count": 17,
   "id": "df9997b8-fe6d-4419-a1f2-207ed06d72b3",
   "metadata": {},
   "outputs": [
    {
     "data": {
      "text/html": [
       "<div>\n",
       "<style scoped>\n",
       "    .dataframe tbody tr th:only-of-type {\n",
       "        vertical-align: middle;\n",
       "    }\n",
       "\n",
       "    .dataframe tbody tr th {\n",
       "        vertical-align: top;\n",
       "    }\n",
       "\n",
       "    .dataframe thead th {\n",
       "        text-align: right;\n",
       "    }\n",
       "</style>\n",
       "<table border=\"1\" class=\"dataframe\">\n",
       "  <thead>\n",
       "    <tr style=\"text-align: right;\">\n",
       "      <th></th>\n",
       "      <th>Meus_desenhos_favoritos</th>\n",
       "      <th>An_de_lançamento</th>\n",
       "      <th>Nota_de_quanto_gosto</th>\n",
       "    </tr>\n",
       "  </thead>\n",
       "  <tbody>\n",
       "    <tr>\n",
       "      <th>0</th>\n",
       "      <td>Hora de Aventura</td>\n",
       "      <td>2010</td>\n",
       "      <td>10</td>\n",
       "    </tr>\n",
       "    <tr>\n",
       "      <th>1</th>\n",
       "      <td>Bakugan</td>\n",
       "      <td>2007</td>\n",
       "      <td>10</td>\n",
       "    </tr>\n",
       "    <tr>\n",
       "      <th>2</th>\n",
       "      <td>Bem 10</td>\n",
       "      <td>2005</td>\n",
       "      <td>8</td>\n",
       "    </tr>\n",
       "    <tr>\n",
       "      <th>3</th>\n",
       "      <td>Apenas um Show</td>\n",
       "      <td>2010</td>\n",
       "      <td>10</td>\n",
       "    </tr>\n",
       "    <tr>\n",
       "      <th>4</th>\n",
       "      <td>Bob Esponja Calça Quadrada</td>\n",
       "      <td>1999</td>\n",
       "      <td>8</td>\n",
       "    </tr>\n",
       "  </tbody>\n",
       "</table>\n",
       "</div>"
      ],
      "text/plain": [
       "      Meus_desenhos_favoritos  An_de_lançamento  Nota_de_quanto_gosto\n",
       "0            Hora de Aventura              2010                    10\n",
       "1                     Bakugan              2007                    10\n",
       "2                      Bem 10              2005                     8\n",
       "3              Apenas um Show              2010                    10\n",
       "4  Bob Esponja Calça Quadrada              1999                     8"
      ]
     },
     "execution_count": 17,
     "metadata": {},
     "output_type": "execute_result"
    }
   ],
   "source": [
    "meu_dataframe_desenhos = pd.DataFrame({\n",
    "\n",
    "    \"Meus_desenhos_favoritos\":[\"Hora de Aventura\", \"Bakugan\", \"Bem 10\", \"Apenas um Show\", \"Bob Esponja Calça Quadrada\"],\n",
    "    \"An_de_lançamento\":[2010, 2007, 2005, 2010, 1999],\n",
    "    \"Nota_de_quanto_gosto\":[10, 10, 8, 10, 8]\n",
    "})\n",
    "\n",
    "meu_dataframe_desenhos"
   ]
  },
  {
   "cell_type": "markdown",
   "id": "04e00157-7ee0-429d-a4d1-a794f9b04ab4",
   "metadata": {},
   "source": [
    "# Exercicio 6\n",
    "## Salve os 3 dataframe em 'csv', 'json' e 'html' e nos envie os arquivos."
   ]
  },
  {
   "cell_type": "code",
   "execution_count": null,
   "id": "53b0ae17-5f65-4169-af76-da1e3a13ecf5",
   "metadata": {},
   "outputs": [],
   "source": []
  }
 ],
 "metadata": {
  "kernelspec": {
   "display_name": "Python 3 (ipykernel)",
   "language": "python",
   "name": "python3"
  },
  "language_info": {
   "codemirror_mode": {
    "name": "ipython",
    "version": 3
   },
   "file_extension": ".py",
   "mimetype": "text/x-python",
   "name": "python",
   "nbconvert_exporter": "python",
   "pygments_lexer": "ipython3",
   "version": "3.12.4"
  }
 },
 "nbformat": 4,
 "nbformat_minor": 5
}
