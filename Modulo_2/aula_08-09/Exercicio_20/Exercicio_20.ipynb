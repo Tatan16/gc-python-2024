{
 "cells": [
  {
   "cell_type": "markdown",
   "id": "20aeaaaa-1d0f-467b-b82e-303962083145",
   "metadata": {},
   "source": [
    "## Exercício 20\n",
    "### Análise de Consumo de Energia e Emissões de CO2 \n",
    "### Análises e Visualizações:"
   ]
  },
  {
   "cell_type": "code",
   "execution_count": 8,
   "id": "d5f66e49-2a9f-4f97-a9ad-70166ae38093",
   "metadata": {},
   "outputs": [
    {
     "data": {
      "text/html": [
       "<div>\n",
       "<style scoped>\n",
       "    .dataframe tbody tr th:only-of-type {\n",
       "        vertical-align: middle;\n",
       "    }\n",
       "\n",
       "    .dataframe tbody tr th {\n",
       "        vertical-align: top;\n",
       "    }\n",
       "\n",
       "    .dataframe thead th {\n",
       "        text-align: right;\n",
       "    }\n",
       "</style>\n",
       "<table border=\"1\" class=\"dataframe\">\n",
       "  <thead>\n",
       "    <tr style=\"text-align: right;\">\n",
       "      <th></th>\n",
       "      <th>Ano</th>\n",
       "      <th>Continente</th>\n",
       "      <th>País</th>\n",
       "      <th>Setor</th>\n",
       "      <th>Consumo_Energia_Renovável (MWh)</th>\n",
       "      <th>Consumo_Energia_Fóssil (MWh)</th>\n",
       "      <th>Emissões_CO2 (toneladas)</th>\n",
       "      <th>PIB (milhões de USD)</th>\n",
       "      <th>População (milhões)</th>\n",
       "    </tr>\n",
       "  </thead>\n",
       "  <tbody>\n",
       "    <tr>\n",
       "      <th>0</th>\n",
       "      <td>2016</td>\n",
       "      <td>Oceania</td>\n",
       "      <td>China</td>\n",
       "      <td>Comercial</td>\n",
       "      <td>7397.685031</td>\n",
       "      <td>12535.546950</td>\n",
       "      <td>78910.224574</td>\n",
       "      <td>2.463037e+06</td>\n",
       "      <td>165.908531</td>\n",
       "    </tr>\n",
       "    <tr>\n",
       "      <th>1</th>\n",
       "      <td>2020</td>\n",
       "      <td>América do Sul</td>\n",
       "      <td>Brasil</td>\n",
       "      <td>Transporte</td>\n",
       "      <td>971.598203</td>\n",
       "      <td>10036.494790</td>\n",
       "      <td>93896.756176</td>\n",
       "      <td>6.152132e+06</td>\n",
       "      <td>19.864661</td>\n",
       "    </tr>\n",
       "    <tr>\n",
       "      <th>2</th>\n",
       "      <td>2003</td>\n",
       "      <td>América do Sul</td>\n",
       "      <td>China</td>\n",
       "      <td>Indústria</td>\n",
       "      <td>5455.079849</td>\n",
       "      <td>6789.106081</td>\n",
       "      <td>22068.881619</td>\n",
       "      <td>2.228470e+06</td>\n",
       "      <td>184.533453</td>\n",
       "    </tr>\n",
       "    <tr>\n",
       "      <th>3</th>\n",
       "      <td>2019</td>\n",
       "      <td>América do Sul</td>\n",
       "      <td>China</td>\n",
       "      <td>Indústria</td>\n",
       "      <td>2778.436239</td>\n",
       "      <td>12941.548015</td>\n",
       "      <td>49534.631946</td>\n",
       "      <td>6.481451e+06</td>\n",
       "      <td>134.801730</td>\n",
       "    </tr>\n",
       "    <tr>\n",
       "      <th>4</th>\n",
       "      <td>2019</td>\n",
       "      <td>América do Sul</td>\n",
       "      <td>Rússia</td>\n",
       "      <td>Residencial</td>\n",
       "      <td>6429.091172</td>\n",
       "      <td>11755.142517</td>\n",
       "      <td>117101.029860</td>\n",
       "      <td>3.262370e+06</td>\n",
       "      <td>76.268548</td>\n",
       "    </tr>\n",
       "    <tr>\n",
       "      <th>...</th>\n",
       "      <td>...</td>\n",
       "      <td>...</td>\n",
       "      <td>...</td>\n",
       "      <td>...</td>\n",
       "      <td>...</td>\n",
       "      <td>...</td>\n",
       "      <td>...</td>\n",
       "      <td>...</td>\n",
       "      <td>...</td>\n",
       "    </tr>\n",
       "    <tr>\n",
       "      <th>1995</th>\n",
       "      <td>2015</td>\n",
       "      <td>Ásia</td>\n",
       "      <td>Rússia</td>\n",
       "      <td>Transporte</td>\n",
       "      <td>6174.180266</td>\n",
       "      <td>15064.717870</td>\n",
       "      <td>46007.220740</td>\n",
       "      <td>4.508684e+06</td>\n",
       "      <td>88.329964</td>\n",
       "    </tr>\n",
       "    <tr>\n",
       "      <th>1996</th>\n",
       "      <td>2004</td>\n",
       "      <td>América do Norte</td>\n",
       "      <td>Austrália</td>\n",
       "      <td>Residencial</td>\n",
       "      <td>5830.025049</td>\n",
       "      <td>11171.756011</td>\n",
       "      <td>94509.378347</td>\n",
       "      <td>3.220615e+06</td>\n",
       "      <td>183.781460</td>\n",
       "    </tr>\n",
       "    <tr>\n",
       "      <th>1997</th>\n",
       "      <td>2004</td>\n",
       "      <td>Ásia</td>\n",
       "      <td>China</td>\n",
       "      <td>Indústria</td>\n",
       "      <td>3582.590823</td>\n",
       "      <td>15129.916098</td>\n",
       "      <td>148449.630977</td>\n",
       "      <td>5.943108e+06</td>\n",
       "      <td>137.441825</td>\n",
       "    </tr>\n",
       "    <tr>\n",
       "      <th>1998</th>\n",
       "      <td>2009</td>\n",
       "      <td>Oceania</td>\n",
       "      <td>Estados Unidos</td>\n",
       "      <td>Residencial</td>\n",
       "      <td>2798.483361</td>\n",
       "      <td>10352.844393</td>\n",
       "      <td>50669.152564</td>\n",
       "      <td>5.887057e+06</td>\n",
       "      <td>50.080865</td>\n",
       "    </tr>\n",
       "    <tr>\n",
       "      <th>1999</th>\n",
       "      <td>2015</td>\n",
       "      <td>Europa</td>\n",
       "      <td>Estados Unidos</td>\n",
       "      <td>Comercial</td>\n",
       "      <td>9416.467891</td>\n",
       "      <td>17186.472888</td>\n",
       "      <td>54497.992178</td>\n",
       "      <td>4.120616e+06</td>\n",
       "      <td>146.130403</td>\n",
       "    </tr>\n",
       "  </tbody>\n",
       "</table>\n",
       "<p>2000 rows × 9 columns</p>\n",
       "</div>"
      ],
      "text/plain": [
       "       Ano        Continente            País        Setor  \\\n",
       "0     2016           Oceania           China    Comercial   \n",
       "1     2020    América do Sul          Brasil   Transporte   \n",
       "2     2003    América do Sul           China    Indústria   \n",
       "3     2019    América do Sul           China    Indústria   \n",
       "4     2019    América do Sul          Rússia  Residencial   \n",
       "...    ...               ...             ...          ...   \n",
       "1995  2015              Ásia          Rússia   Transporte   \n",
       "1996  2004  América do Norte       Austrália  Residencial   \n",
       "1997  2004              Ásia           China    Indústria   \n",
       "1998  2009           Oceania  Estados Unidos  Residencial   \n",
       "1999  2015            Europa  Estados Unidos    Comercial   \n",
       "\n",
       "      Consumo_Energia_Renovável (MWh)  Consumo_Energia_Fóssil (MWh)  \\\n",
       "0                         7397.685031                  12535.546950   \n",
       "1                          971.598203                  10036.494790   \n",
       "2                         5455.079849                   6789.106081   \n",
       "3                         2778.436239                  12941.548015   \n",
       "4                         6429.091172                  11755.142517   \n",
       "...                               ...                           ...   \n",
       "1995                      6174.180266                  15064.717870   \n",
       "1996                      5830.025049                  11171.756011   \n",
       "1997                      3582.590823                  15129.916098   \n",
       "1998                      2798.483361                  10352.844393   \n",
       "1999                      9416.467891                  17186.472888   \n",
       "\n",
       "      Emissões_CO2 (toneladas)  PIB (milhões de USD)  População (milhões)  \n",
       "0                 78910.224574          2.463037e+06           165.908531  \n",
       "1                 93896.756176          6.152132e+06            19.864661  \n",
       "2                 22068.881619          2.228470e+06           184.533453  \n",
       "3                 49534.631946          6.481451e+06           134.801730  \n",
       "4                117101.029860          3.262370e+06            76.268548  \n",
       "...                        ...                   ...                  ...  \n",
       "1995              46007.220740          4.508684e+06            88.329964  \n",
       "1996              94509.378347          3.220615e+06           183.781460  \n",
       "1997             148449.630977          5.943108e+06           137.441825  \n",
       "1998              50669.152564          5.887057e+06            50.080865  \n",
       "1999              54497.992178          4.120616e+06           146.130403  \n",
       "\n",
       "[2000 rows x 9 columns]"
      ]
     },
     "metadata": {},
     "output_type": "display_data"
    }
   ],
   "source": [
    "import plotly.express as px\n",
    "import matplotlib.pyplot as plt\n",
    "import plotly.graph_objects as go\n",
    "import pandas as pd\n",
    "df = pd.read_csv(\"dados_energia_simulados_ptbr.csv\")\n",
    "display(df)"
   ]
  },
  {
   "cell_type": "code",
   "execution_count": 9,
   "id": "8164df86-2920-4261-ae19-8b82ac386569",
   "metadata": {},
   "outputs": [
    {
     "data": {
      "text/html": [
       "<div>\n",
       "<style scoped>\n",
       "    .dataframe tbody tr th:only-of-type {\n",
       "        vertical-align: middle;\n",
       "    }\n",
       "\n",
       "    .dataframe tbody tr th {\n",
       "        vertical-align: top;\n",
       "    }\n",
       "\n",
       "    .dataframe thead th {\n",
       "        text-align: right;\n",
       "    }\n",
       "</style>\n",
       "<table border=\"1\" class=\"dataframe\">\n",
       "  <thead>\n",
       "    <tr style=\"text-align: right;\">\n",
       "      <th></th>\n",
       "      <th>Ano</th>\n",
       "      <th>Consumo_Energia_Renovável (MWh)</th>\n",
       "      <th>Consumo_Energia_Fóssil (MWh)</th>\n",
       "      <th>Emissões_CO2 (toneladas)</th>\n",
       "      <th>PIB (milhões de USD)</th>\n",
       "      <th>População (milhões)</th>\n",
       "    </tr>\n",
       "  </thead>\n",
       "  <tbody>\n",
       "    <tr>\n",
       "      <th>count</th>\n",
       "      <td>2000.000000</td>\n",
       "      <td>2000.000000</td>\n",
       "      <td>2000.000000</td>\n",
       "      <td>2000.000000</td>\n",
       "      <td>2.000000e+03</td>\n",
       "      <td>2000.000000</td>\n",
       "    </tr>\n",
       "    <tr>\n",
       "      <th>mean</th>\n",
       "      <td>2010.991000</td>\n",
       "      <td>5047.241453</td>\n",
       "      <td>9972.486177</td>\n",
       "      <td>99890.594067</td>\n",
       "      <td>4.991574e+06</td>\n",
       "      <td>99.571949</td>\n",
       "    </tr>\n",
       "    <tr>\n",
       "      <th>std</th>\n",
       "      <td>6.750534</td>\n",
       "      <td>1989.358867</td>\n",
       "      <td>5115.427170</td>\n",
       "      <td>50561.848340</td>\n",
       "      <td>1.979496e+06</td>\n",
       "      <td>50.500185</td>\n",
       "    </tr>\n",
       "    <tr>\n",
       "      <th>min</th>\n",
       "      <td>2000.000000</td>\n",
       "      <td>-1376.610759</td>\n",
       "      <td>-7908.823002</td>\n",
       "      <td>-67666.540624</td>\n",
       "      <td>-2.207004e+06</td>\n",
       "      <td>-61.365517</td>\n",
       "    </tr>\n",
       "    <tr>\n",
       "      <th>25%</th>\n",
       "      <td>2005.000000</td>\n",
       "      <td>3628.462963</td>\n",
       "      <td>6534.967027</td>\n",
       "      <td>64374.810818</td>\n",
       "      <td>3.603225e+06</td>\n",
       "      <td>65.267282</td>\n",
       "    </tr>\n",
       "    <tr>\n",
       "      <th>50%</th>\n",
       "      <td>2011.000000</td>\n",
       "      <td>5048.885126</td>\n",
       "      <td>9871.284228</td>\n",
       "      <td>100749.256341</td>\n",
       "      <td>5.066709e+06</td>\n",
       "      <td>98.684757</td>\n",
       "    </tr>\n",
       "    <tr>\n",
       "      <th>75%</th>\n",
       "      <td>2017.000000</td>\n",
       "      <td>6486.014516</td>\n",
       "      <td>13310.305836</td>\n",
       "      <td>135078.752569</td>\n",
       "      <td>6.328770e+06</td>\n",
       "      <td>133.097287</td>\n",
       "    </tr>\n",
       "    <tr>\n",
       "      <th>max</th>\n",
       "      <td>2022.000000</td>\n",
       "      <td>11590.030991</td>\n",
       "      <td>29338.727046</td>\n",
       "      <td>249096.437916</td>\n",
       "      <td>1.130907e+07</td>\n",
       "      <td>289.533188</td>\n",
       "    </tr>\n",
       "  </tbody>\n",
       "</table>\n",
       "</div>"
      ],
      "text/plain": [
       "               Ano  Consumo_Energia_Renovável (MWh)  \\\n",
       "count  2000.000000                      2000.000000   \n",
       "mean   2010.991000                      5047.241453   \n",
       "std       6.750534                      1989.358867   \n",
       "min    2000.000000                     -1376.610759   \n",
       "25%    2005.000000                      3628.462963   \n",
       "50%    2011.000000                      5048.885126   \n",
       "75%    2017.000000                      6486.014516   \n",
       "max    2022.000000                     11590.030991   \n",
       "\n",
       "       Consumo_Energia_Fóssil (MWh)  Emissões_CO2 (toneladas)  \\\n",
       "count                   2000.000000               2000.000000   \n",
       "mean                    9972.486177              99890.594067   \n",
       "std                     5115.427170              50561.848340   \n",
       "min                    -7908.823002             -67666.540624   \n",
       "25%                     6534.967027              64374.810818   \n",
       "50%                     9871.284228             100749.256341   \n",
       "75%                    13310.305836             135078.752569   \n",
       "max                    29338.727046             249096.437916   \n",
       "\n",
       "       PIB (milhões de USD)  População (milhões)  \n",
       "count          2.000000e+03          2000.000000  \n",
       "mean           4.991574e+06            99.571949  \n",
       "std            1.979496e+06            50.500185  \n",
       "min           -2.207004e+06           -61.365517  \n",
       "25%            3.603225e+06            65.267282  \n",
       "50%            5.066709e+06            98.684757  \n",
       "75%            6.328770e+06           133.097287  \n",
       "max            1.130907e+07           289.533188  "
      ]
     },
     "execution_count": 9,
     "metadata": {},
     "output_type": "execute_result"
    }
   ],
   "source": [
    "df.describe()"
   ]
  },
  {
   "cell_type": "markdown",
   "id": "48f7dee0-10aa-48ec-9056-ed3cce64927d",
   "metadata": {},
   "source": [
    "### • Crie um Boxplot que compare o consumo de energias renováveis e fósseis por continente."
   ]
  },
  {
   "cell_type": "code",
   "execution_count": 10,
   "id": "ebf59256-34de-42a3-ac34-9a226fc38026",
   "metadata": {},
   "outputs": [
    {
     "data": {
      "text/html": [
       "<div>\n",
       "<style scoped>\n",
       "    .dataframe tbody tr th:only-of-type {\n",
       "        vertical-align: middle;\n",
       "    }\n",
       "\n",
       "    .dataframe tbody tr th {\n",
       "        vertical-align: top;\n",
       "    }\n",
       "\n",
       "    .dataframe thead tr th {\n",
       "        text-align: left;\n",
       "    }\n",
       "</style>\n",
       "<table border=\"1\" class=\"dataframe\">\n",
       "  <thead>\n",
       "    <tr>\n",
       "      <th></th>\n",
       "      <th>Continente</th>\n",
       "      <th>Ano</th>\n",
       "      <th>Consumo_Energia_Renovável (MWh)</th>\n",
       "      <th>Consumo_Energia_Fóssil (MWh)</th>\n",
       "      <th>Emissões_CO2 (toneladas)</th>\n",
       "    </tr>\n",
       "    <tr>\n",
       "      <th></th>\n",
       "      <th></th>\n",
       "      <th></th>\n",
       "      <th>sum</th>\n",
       "      <th>sum</th>\n",
       "      <th>mean</th>\n",
       "    </tr>\n",
       "  </thead>\n",
       "  <tbody>\n",
       "    <tr>\n",
       "      <th>0</th>\n",
       "      <td>América do Norte</td>\n",
       "      <td>2000</td>\n",
       "      <td>56956.608529</td>\n",
       "      <td>137819.639685</td>\n",
       "      <td>113433.567598</td>\n",
       "    </tr>\n",
       "    <tr>\n",
       "      <th>1</th>\n",
       "      <td>América do Norte</td>\n",
       "      <td>2001</td>\n",
       "      <td>108317.302959</td>\n",
       "      <td>229094.441592</td>\n",
       "      <td>99383.607983</td>\n",
       "    </tr>\n",
       "    <tr>\n",
       "      <th>2</th>\n",
       "      <td>América do Norte</td>\n",
       "      <td>2002</td>\n",
       "      <td>124945.691702</td>\n",
       "      <td>266825.635368</td>\n",
       "      <td>106401.831634</td>\n",
       "    </tr>\n",
       "    <tr>\n",
       "      <th>3</th>\n",
       "      <td>América do Norte</td>\n",
       "      <td>2003</td>\n",
       "      <td>52366.648443</td>\n",
       "      <td>83029.074755</td>\n",
       "      <td>101202.650526</td>\n",
       "    </tr>\n",
       "    <tr>\n",
       "      <th>4</th>\n",
       "      <td>América do Norte</td>\n",
       "      <td>2004</td>\n",
       "      <td>77393.698013</td>\n",
       "      <td>151822.998408</td>\n",
       "      <td>122097.291518</td>\n",
       "    </tr>\n",
       "    <tr>\n",
       "      <th>...</th>\n",
       "      <td>...</td>\n",
       "      <td>...</td>\n",
       "      <td>...</td>\n",
       "      <td>...</td>\n",
       "      <td>...</td>\n",
       "    </tr>\n",
       "    <tr>\n",
       "      <th>133</th>\n",
       "      <td>Ásia</td>\n",
       "      <td>2018</td>\n",
       "      <td>62450.438828</td>\n",
       "      <td>121426.801195</td>\n",
       "      <td>108504.319146</td>\n",
       "    </tr>\n",
       "    <tr>\n",
       "      <th>134</th>\n",
       "      <td>Ásia</td>\n",
       "      <td>2019</td>\n",
       "      <td>40361.204496</td>\n",
       "      <td>43331.518247</td>\n",
       "      <td>110886.396524</td>\n",
       "    </tr>\n",
       "    <tr>\n",
       "      <th>135</th>\n",
       "      <td>Ásia</td>\n",
       "      <td>2020</td>\n",
       "      <td>56312.887043</td>\n",
       "      <td>98753.364016</td>\n",
       "      <td>125144.942911</td>\n",
       "    </tr>\n",
       "    <tr>\n",
       "      <th>136</th>\n",
       "      <td>Ásia</td>\n",
       "      <td>2021</td>\n",
       "      <td>59070.631118</td>\n",
       "      <td>126755.975175</td>\n",
       "      <td>99804.768125</td>\n",
       "    </tr>\n",
       "    <tr>\n",
       "      <th>137</th>\n",
       "      <td>Ásia</td>\n",
       "      <td>2022</td>\n",
       "      <td>87000.846762</td>\n",
       "      <td>216968.156325</td>\n",
       "      <td>115334.641566</td>\n",
       "    </tr>\n",
       "  </tbody>\n",
       "</table>\n",
       "<p>138 rows × 5 columns</p>\n",
       "</div>"
      ],
      "text/plain": [
       "           Continente   Ano Consumo_Energia_Renovável (MWh)  \\\n",
       "                                                        sum   \n",
       "0    América do Norte  2000                    56956.608529   \n",
       "1    América do Norte  2001                   108317.302959   \n",
       "2    América do Norte  2002                   124945.691702   \n",
       "3    América do Norte  2003                    52366.648443   \n",
       "4    América do Norte  2004                    77393.698013   \n",
       "..                ...   ...                             ...   \n",
       "133              Ásia  2018                    62450.438828   \n",
       "134              Ásia  2019                    40361.204496   \n",
       "135              Ásia  2020                    56312.887043   \n",
       "136              Ásia  2021                    59070.631118   \n",
       "137              Ásia  2022                    87000.846762   \n",
       "\n",
       "    Consumo_Energia_Fóssil (MWh) Emissões_CO2 (toneladas)  \n",
       "                             sum                     mean  \n",
       "0                  137819.639685            113433.567598  \n",
       "1                  229094.441592             99383.607983  \n",
       "2                  266825.635368            106401.831634  \n",
       "3                   83029.074755            101202.650526  \n",
       "4                  151822.998408            122097.291518  \n",
       "..                           ...                      ...  \n",
       "133                121426.801195            108504.319146  \n",
       "134                 43331.518247            110886.396524  \n",
       "135                 98753.364016            125144.942911  \n",
       "136                126755.975175             99804.768125  \n",
       "137                216968.156325            115334.641566  \n",
       "\n",
       "[138 rows x 5 columns]"
      ]
     },
     "execution_count": 10,
     "metadata": {},
     "output_type": "execute_result"
    }
   ],
   "source": [
    "df = df.sort_values(by=\"Ano\")\n",
    "energia_Renovavel_e_Fossil = df.groupby([\"Continente\",\"Ano\"]).agg({\"Consumo_Energia_Renovável (MWh)\": [\"sum\"],\n",
    "                                                  \"Consumo_Energia_Fóssil (MWh)\": [\"sum\"],\n",
    "                                                    \"Emissões_CO2 (toneladas)\": \"mean\"}).reset_index()\n",
    "energia_Renovavel_e_Fossil\n"
   ]
  },
  {
   "cell_type": "code",
   "execution_count": 11,
   "id": "ce822b3e-67ad-44c7-8301-c7c65dddda02",
   "metadata": {},
   "outputs": [
    {
     "data": {
      "image/png": "[encoded data removed]",
      "text/plain": [
       "<Figure size 1000x500 with 2 Axes>"
      ]
     },
     "metadata": {},
     "output_type": "display_data"
    }
   ],
   "source": [
    "fig, axs = plt.subplots(1, 2, figsize=(10,5))\n",
    "plt.suptitle(\"Comparação de Energias\")\n",
    "axs[0].boxplot(energia_Renovavel_e_Fossil[\"Consumo_Energia_Renovável (MWh)\"],whiskerprops=dict(color=\"green\"))\n",
    "axs[0].set_title(\"Energia Renovavel\")\n",
    "axs[0].set_ylabel(\"Consumo (MWh)\")\n",
    "axs[1].boxplot(energia_Renovavel_e_Fossil[\"Consumo_Energia_Fóssil (MWh)\"])\n",
    "axs[1].set_title(\"Energia Fossil\")\n",
    "axs[1].set_ylabel(\"Consumo (MWh)\")\n",
    "\n",
    "plt.show()"
   ]
  },
  {
   "cell_type": "markdown",
   "id": "fbd94f6b-1336-4d47-bf1f-6337c3c04980",
   "metadata": {},
   "source": [
    "### • Use gráficos de linha para mostrar a evolução do consumo de energias renováveis e fósseis e as emissões de CO2 ao longo do tempo."
   ]
  },
  {
   "cell_type": "code",
   "execution_count": 12,
   "id": "5a9fd050-522d-4427-a457-b05329c5b295",
   "metadata": {},
   "outputs": [
    {
     "data": {
      "application/vnd.plotly.v1+json": {
       "config": {
        "plotlyServerURL": "https://plot.ly"
       },
       "data": [
        {
         "hovertemplate": "variable=Consumo_Energia_Renovável (MWh)<br>Ano=%{x}<br>value=%{y}<extra></extra>",
         "legendgroup": "Consumo_Energia_Renovável (MWh)",
         "line": {
          "color": "#636efa",
          "dash": "solid"
         },
         "marker": {
          "symbol": "circle"
         },
         "mode": "lines",
         "name": "Consumo_Energia_Renovável (MWh)",
         "orientation": "v",
         "showlegend": true,
         "type": "scatter",
         "x": [
          2000,
          2001,
          2002,
          2003,
          2004,
          2005,
          2006,
          2007,
          2008,
          2009,
          2010,
          2011,
          2012,
          2013,
          2014,
          2015,
          2016,
          2017,
          2018,
          2019,
          2020,
          2021,
          2022
         ],
         "xaxis": "x",
         "y": [
          458430.8811751059,
          527685.3533984877,
          421217.37214653374,
          435198.6445278642,
          396869.5941270592,
          486985.15619132813,
          482363.08894710307,
          367311.106850719,
          374526.9519549965,
          459577.81795725325,
          462907.1187038329,
          380918.9324674958,
          358483.14005138323,
          412135.4768098936,
          425559.24487369356,
          458723.8227414929,
          444165.29213898303,
          381331.3020842775,
          494871.96911771834,
          461670.86137302604,
          500667.9088991052,
          491119.1544309126,
          411762.7153895402
         ],
         "yaxis": "y"
        },
        {
         "hovertemplate": "variable=Consumo_Energia_Fóssil (MWh)<br>Ano=%{x}<br>value=%{y}<extra></extra>",
         "legendgroup": "Consumo_Energia_Fóssil (MWh)",
         "line": {
          "color": "#EF553B",
          "dash": "solid"
         },
         "marker": {
          "symbol": "circle"
         },
         "mode": "lines",
         "name": "Consumo_Energia_Fóssil (MWh)",
         "orientation": "v",
         "showlegend": true,
         "type": "scatter",
         "x": [
          2000,
          2001,
          2002,
          2003,
          2004,
          2005,
          2006,
          2007,
          2008,
          2009,
          2010,
          2011,
          2012,
          2013,
          2014,
          2015,
          2016,
          2017,
          2018,
          2019,
          2020,
          2021,
          2022
         ],
         "xaxis": "x",
         "y": [
          938555.4163002975,
          996953.8121857024,
          845856.1971403316,
          815189.6633451736,
          807278.1072806923,
          1090935.7006201325,
          1013425.3172722214,
          770775.4994492913,
          703189.9817581009,
          968757.0476732871,
          819369.408814806,
          785759.5548097343,
          695652.765926387,
          791959.2940427612,
          776723.3665376044,
          803930.0608783013,
          850525.7360879508,
          720698.409209178,
          938647.7420540573,
          1020791.162013572,
          968934.9836474928,
          1006268.2824810031,
          814794.8441863154
         ],
         "yaxis": "y"
        },
        {
         "hovertemplate": "variable=Emissões_CO2 (toneladas)<br>Ano=%{x}<br>value=%{y}<extra></extra>",
         "legendgroup": "Emissões_CO2 (toneladas)",
         "line": {
          "color": "#00cc96",
          "dash": "solid"
         },
         "marker": {
          "symbol": "circle"
         },
         "mode": "lines",
         "name": "Emissões_CO2 (toneladas)",
         "orientation": "v",
         "showlegend": true,
         "type": "scatter",
         "x": [
          2000,
          2001,
          2002,
          2003,
          2004,
          2005,
          2006,
          2007,
          2008,
          2009,
          2010,
          2011,
          2012,
          2013,
          2014,
          2015,
          2016,
          2017,
          2018,
          2019,
          2020,
          2021,
          2022
         ],
         "xaxis": "x",
         "y": [
          8696494.010598868,
          10130942.317204636,
          9074517.748676922,
          6912898.453453073,
          8876116.31945957,
          10268007.359706612,
          9791212.227221077,
          7520070.990718241,
          6818519.451040892,
          9631960.010092795,
          8968297.782436922,
          8111924.306629627,
          7688902.752030589,
          8275179.843773232,
          8756839.807295196,
          8648182.209095487,
          8147588.771748493,
          7321534.118421828,
          9009249.110873513,
          9489107.93379944,
          10055708.927970603,
          9320240.833856935,
          8267692.848028189
         ],
         "yaxis": "y"
        }
       ],
       "layout": {
        "autosize": true,
        "legend": {
         "title": {
          "text": "variable"
         },
         "tracegroupgap": 0
        },
        "template": {
         "data": {
          "bar": [
           {
            "error_x": {
             "color": "#2a3f5f"
            },
            "error_y": {
             "color": "#2a3f5f"
            },
            "marker": {
             "line": {
              "color": "#E5ECF6",
              "width": 0.5
             },
             "pattern": {
              "fillmode": "overlay",
              "size": 10,
              "solidity": 0.2
             }
            },
            "type": "bar"
           }
          ],
          "barpolar": [
           {
            "marker": {
             "line": {
              "color": "#E5ECF6",
              "width": 0.5
             },
             "pattern": {
              "fillmode": "overlay",
              "size": 10,
              "solidity": 0.2
             }
            },
            "type": "barpolar"
           }
          ],
          "carpet": [
           {
            "aaxis": {
             "endlinecolor": "#2a3f5f",
             "gridcolor": "white",
             "linecolor": "white",
             "minorgridcolor": "white",
             "startlinecolor": "#2a3f5f"
            },
            "baxis": {
             "endlinecolor": "#2a3f5f",
             "gridcolor": "white",
             "linecolor": "white",
             "minorgridcolor": "white",
             "startlinecolor": "#2a3f5f"
            },
            "type": "carpet"
           }
          ],
          "choropleth": [
           {
            "colorbar": {
             "outlinewidth": 0,
             "ticks": ""
            },
            "type": "choropleth"
           }
          ],
          "contour": [
           {
            "colorbar": {
             "outlinewidth": 0,
             "ticks": ""
            },
            "colorscale": [
             [
              0,
              "#0d0887"
             ],
             [
              0.1111111111111111,
              "#46039f"
             ],
             [
              0.2222222222222222,
              "#7201a8"
             ],
             [
              0.3333333333333333,
              "#9c179e"
             ],
             [
              0.4444444444444444,
              "#bd3786"
             ],
             [
              0.5555555555555556,
              "#d8576b"
             ],
             [
              0.6666666666666666,
              "#ed7953"
             ],
             [
              0.7777777777777778,
              "#fb9f3a"
             ],
             [
              0.8888888888888888,
              "#fdca26"
             ],
             [
              1,
              "#f0f921"
             ]
            ],
            "type": "contour"
           }
          ],
          "contourcarpet": [
           {
            "colorbar": {
             "outlinewidth": 0,
             "ticks": ""
            },
            "type": "contourcarpet"
           }
          ],
          "heatmap": [
           {
            "colorbar": {
             "outlinewidth": 0,
             "ticks": ""
            },
            "colorscale": [
             [
              0,
              "#0d0887"
             ],
             [
              0.1111111111111111,
              "#46039f"
             ],
             [
              0.2222222222222222,
              "#7201a8"
             ],
             [
              0.3333333333333333,
              "#9c179e"
             ],
             [
              0.4444444444444444,
              "#bd3786"
             ],
             [
              0.5555555555555556,
              "#d8576b"
             ],
             [
              0.6666666666666666,
              "#ed7953"
             ],
             [
              0.7777777777777778,
              "#fb9f3a"
             ],
             [
              0.8888888888888888,
              "#fdca26"
             ],
             [
              1,
              "#f0f921"
             ]
            ],
            "type": "heatmap"
           }
          ],
          "heatmapgl": [
           {
            "colorbar": {
             "outlinewidth": 0,
             "ticks": ""
            },
            "colorscale": [
             [
              0,
              "#0d0887"
             ],
             [
              0.1111111111111111,
              "#46039f"
             ],
             [
              0.2222222222222222,
              "#7201a8"
             ],
             [
              0.3333333333333333,
              "#9c179e"
             ],
             [
              0.4444444444444444,
              "#bd3786"
             ],
             [
              0.5555555555555556,
              "#d8576b"
             ],
             [
              0.6666666666666666,
              "#ed7953"
             ],
             [
              0.7777777777777778,
              "#fb9f3a"
             ],
             [
              0.8888888888888888,
              "#fdca26"
             ],
             [
              1,
              "#f0f921"
             ]
            ],
            "type": "heatmapgl"
           }
          ],
          "histogram": [
           {
            "marker": {
             "pattern": {
              "fillmode": "overlay",
              "size": 10,
              "solidity": 0.2
             }
            },
            "type": "histogram"
           }
          ],
          "histogram2d": [
           {
            "colorbar": {
             "outlinewidth": 0,
             "ticks": ""
            },
            "colorscale": [
             [
              0,
              "#0d0887"
             ],
             [
              0.1111111111111111,
              "#46039f"
             ],
             [
              0.2222222222222222,
              "#7201a8"
             ],
             [
              0.3333333333333333,
              "#9c179e"
             ],
             [
              0.4444444444444444,
              "#bd3786"
             ],
             [
              0.5555555555555556,
              "#d8576b"
             ],
             [
              0.6666666666666666,
              "#ed7953"
             ],
             [
              0.7777777777777778,
              "#fb9f3a"
             ],
             [
              0.8888888888888888,
              "#fdca26"
             ],
             [
              1,
              "#f0f921"
             ]
            ],
            "type": "histogram2d"
           }
          ],
          "histogram2dcontour": [
           {
            "colorbar": {
             "outlinewidth": 0,
             "ticks": ""
            },
            "colorscale": [
             [
              0,
              "#0d0887"
             ],
             [
              0.1111111111111111,
              "#46039f"
             ],
             [
              0.2222222222222222,
              "#7201a8"
             ],
             [
              0.3333333333333333,
              "#9c179e"
             ],
             [
              0.4444444444444444,
              "#bd3786"
             ],
             [
              0.5555555555555556,
              "#d8576b"
             ],
             [
              0.6666666666666666,
              "#ed7953"
             ],
             [
              0.7777777777777778,
              "#fb9f3a"
             ],
             [
              0.8888888888888888,
              "#fdca26"
             ],
             [
              1,
              "#f0f921"
             ]
            ],
            "type": "histogram2dcontour"
           }
          ],
          "mesh3d": [
           {
            "colorbar": {
             "outlinewidth": 0,
             "ticks": ""
            },
            "type": "mesh3d"
           }
          ],
          "parcoords": [
           {
            "line": {
             "colorbar": {
              "outlinewidth": 0,
              "ticks": ""
             }
            },
            "type": "parcoords"
           }
          ],
          "pie": [
           {
            "automargin": true,
            "type": "pie"
           }
          ],
          "scatter": [
           {
            "fillpattern": {
             "fillmode": "overlay",
             "size": 10,
             "solidity": 0.2
            },
            "type": "scatter"
           }
          ],
          "scatter3d": [
           {
            "line": {
             "colorbar": {
              "outlinewidth": 0,
              "ticks": ""
             }
            },
            "marker": {
             "colorbar": {
              "outlinewidth": 0,
              "ticks": ""
             }
            },
            "type": "scatter3d"
           }
          ],
          "scattercarpet": [
           {
            "marker": {
             "colorbar": {
              "outlinewidth": 0,
              "ticks": ""
             }
            },
            "type": "scattercarpet"
           }
          ],
          "scattergeo": [
           {
            "marker": {
             "colorbar": {
              "outlinewidth": 0,
              "ticks": ""
             }
            },
            "type": "scattergeo"
           }
          ],
          "scattergl": [
           {
            "marker": {
             "colorbar": {
              "outlinewidth": 0,
              "ticks": ""
             }
            },
            "type": "scattergl"
           }
          ],
          "scattermapbox": [
           {
            "marker": {
             "colorbar": {
              "outlinewidth": 0,
              "ticks": ""
             }
            },
            "type": "scattermapbox"
           }
          ],
          "scatterpolar": [
           {
            "marker": {
             "colorbar": {
              "outlinewidth": 0,
              "ticks": ""
             }
            },
            "type": "scatterpolar"
           }
          ],
          "scatterpolargl": [
           {
            "marker": {
             "colorbar": {
              "outlinewidth": 0,
              "ticks": ""
             }
            },
            "type": "scatterpolargl"
           }
          ],
          "scatterternary": [
           {
            "marker": {
             "colorbar": {
              "outlinewidth": 0,
              "ticks": ""
             }
            },
            "type": "scatterternary"
           }
          ],
          "surface": [
           {
            "colorbar": {
             "outlinewidth": 0,
             "ticks": ""
            },
            "colorscale": [
             [
              0,
              "#0d0887"
             ],
             [
              0.1111111111111111,
              "#46039f"
             ],
             [
              0.2222222222222222,
              "#7201a8"
             ],
             [
              0.3333333333333333,
              "#9c179e"
             ],
             [
              0.4444444444444444,
              "#bd3786"
             ],
             [
              0.5555555555555556,
              "#d8576b"
             ],
             [
              0.6666666666666666,
              "#ed7953"
             ],
             [
              0.7777777777777778,
              "#fb9f3a"
             ],
             [
              0.8888888888888888,
              "#fdca26"
             ],
             [
              1,
              "#f0f921"
             ]
            ],
            "type": "surface"
           }
          ],
          "table": [
           {
            "cells": {
             "fill": {
              "color": "#EBF0F8"
             },
             "line": {
              "color": "white"
             }
            },
            "header": {
             "fill": {
              "color": "#C8D4E3"
             },
             "line": {
              "color": "white"
             }
            },
            "type": "table"
           }
          ]
         },
         "layout": {
          "annotationdefaults": {
           "arrowcolor": "#2a3f5f",
           "arrowhead": 0,
           "arrowwidth": 1
          },
          "autotypenumbers": "strict",
          "coloraxis": {
           "colorbar": {
            "outlinewidth": 0,
            "ticks": ""
           }
          },
          "colorscale": {
           "diverging": [
            [
             0,
             "#8e0152"
            ],
            [
             0.1,
             "#c51b7d"
            ],
            [
             0.2,
             "#de77ae"
            ],
            [
             0.3,
             "#f1b6da"
            ],
            [
             0.4,
             "#fde0ef"
            ],
            [
             0.5,
             "#f7f7f7"
            ],
            [
             0.6,
             "#e6f5d0"
            ],
            [
             0.7,
             "#b8e186"
            ],
            [
             0.8,
             "#7fbc41"
            ],
            [
             0.9,
             "#4d9221"
            ],
            [
             1,
             "#276419"
            ]
           ],
           "sequential": [
            [
             0,
             "#0d0887"
            ],
            [
             0.1111111111111111,
             "#46039f"
            ],
            [
             0.2222222222222222,
             "#7201a8"
            ],
            [
             0.3333333333333333,
             "#9c179e"
            ],
            [
             0.4444444444444444,
             "#bd3786"
            ],
            [
             0.5555555555555556,
             "#d8576b"
            ],
            [
             0.6666666666666666,
             "#ed7953"
            ],
            [
             0.7777777777777778,
             "#fb9f3a"
            ],
            [
             0.8888888888888888,
             "#fdca26"
            ],
            [
             1,
             "#f0f921"
            ]
           ],
           "sequentialminus": [
            [
             0,
             "#0d0887"
            ],
            [
             0.1111111111111111,
             "#46039f"
            ],
            [
             0.2222222222222222,
             "#7201a8"
            ],
            [
             0.3333333333333333,
             "#9c179e"
            ],
            [
             0.4444444444444444,
             "#bd3786"
            ],
            [
             0.5555555555555556,
             "#d8576b"
            ],
            [
             0.6666666666666666,
             "#ed7953"
            ],
            [
             0.7777777777777778,
             "#fb9f3a"
            ],
            [
             0.8888888888888888,
             "#fdca26"
            ],
            [
             1,
             "#f0f921"
            ]
           ]
          },
          "colorway": [
           "#636efa",
           "#EF553B",
           "#00cc96",
           "#ab63fa",
           "#FFA15A",
           "#19d3f3",
           "#FF6692",
           "#B6E880",
           "#FF97FF",
           "#FECB52"
          ],
          "font": {
           "color": "#2a3f5f"
          },
          "geo": {
           "bgcolor": "white",
           "lakecolor": "white",
           "landcolor": "#E5ECF6",
           "showlakes": true,
           "showland": true,
           "subunitcolor": "white"
          },
          "hoverlabel": {
           "align": "left"
          },
          "hovermode": "closest",
          "mapbox": {
           "style": "light"
          },
          "paper_bgcolor": "white",
          "plot_bgcolor": "#E5ECF6",
          "polar": {
           "angularaxis": {
            "gridcolor": "white",
            "linecolor": "white",
            "ticks": ""
           },
           "bgcolor": "#E5ECF6",
           "radialaxis": {
            "gridcolor": "white",
            "linecolor": "white",
            "ticks": ""
           }
          },
          "scene": {
           "xaxis": {
            "backgroundcolor": "#E5ECF6",
            "gridcolor": "white",
            "gridwidth": 2,
            "linecolor": "white",
            "showbackground": true,
            "ticks": "",
            "zerolinecolor": "white"
           },
           "yaxis": {
            "backgroundcolor": "#E5ECF6",
            "gridcolor": "white",
            "gridwidth": 2,
            "linecolor": "white",
            "showbackground": true,
            "ticks": "",
            "zerolinecolor": "white"
           },
           "zaxis": {
            "backgroundcolor": "#E5ECF6",
            "gridcolor": "white",
            "gridwidth": 2,
            "linecolor": "white",
            "showbackground": true,
            "ticks": "",
            "zerolinecolor": "white"
           }
          },
          "shapedefaults": {
           "line": {
            "color": "#2a3f5f"
           }
          },
          "ternary": {
           "aaxis": {
            "gridcolor": "white",
            "linecolor": "white",
            "ticks": ""
           },
           "baxis": {
            "gridcolor": "white",
            "linecolor": "white",
            "ticks": ""
           },
           "bgcolor": "#E5ECF6",
           "caxis": {
            "gridcolor": "white",
            "linecolor": "white",
            "ticks": ""
           }
          },
          "title": {
           "x": 0.05
          },
          "xaxis": {
           "automargin": true,
           "gridcolor": "white",
           "linecolor": "white",
           "ticks": "",
           "title": {
            "standoff": 15
           },
           "zerolinecolor": "white",
           "zerolinewidth": 2
          },
          "yaxis": {
           "automargin": true,
           "gridcolor": "white",
           "linecolor": "white",
           "ticks": "",
           "title": {
            "standoff": 15
           },
           "zerolinecolor": "white",
           "zerolinewidth": 2
          }
         }
        },
        "title": {
         "text": "Evolução do Consumo de Energias Renováveis e Fósseis"
        },
        "xaxis": {
         "anchor": "y",
         "autorange": true,
         "domain": [
          0,
          1
         ],
         "range": [
          2000,
          2022
         ],
         "title": {
          "text": "Ano"
         },
         "type": "linear"
        },
        "yaxis": {
         "anchor": "x",
         "autorange": true,
         "domain": [
          0,
          1
         ],
         "range": [
          -192045.98326279613,
          10818536.483020792
         ],
         "title": {
          "text": "Consumo em milhões"
         },
         "type": "linear"
        }
       }
      },
      "text/html": [
       "<div>                            <div id=\"58d4b375-f7a2-4a0a-a311-f36821e1154a\" class=\"plotly-graph-div\" style=\"height:525px; width:100%;\"></div>            <script type=\"text/javascript\">                require([\"plotly\"], function(Plotly) {                    window.PLOTLYENV=window.PLOTLYENV || {};                                    if (document.getElementById(\"58d4b375-f7a2-4a0a-a311-f36821e1154a\")) {                    Plotly.newPlot(                        \"58d4b375-f7a2-4a0a-a311-f36821e1154a\",                        [{\"hovertemplate\":\"variable=Consumo_Energia_Renov\\u00e1vel (MWh)\\u003cbr\\u003eAno=%{x}\\u003cbr\\u003evalue=%{y}\\u003cextra\\u003e\\u003c\\u002fextra\\u003e\",\"legendgroup\":\"Consumo_Energia_Renov\\u00e1vel (MWh)\",\"line\":{\"color\":\"#636efa\",\"dash\":\"solid\"},\"marker\":{\"symbol\":\"circle\"},\"mode\":\"lines\",\"name\":\"Consumo_Energia_Renov\\u00e1vel (MWh)\",\"orientation\":\"v\",\"showlegend\":true,\"x\":[2000,2001,2002,2003,2004,2005,2006,2007,2008,2009,2010,2011,2012,2013,2014,2015,2016,2017,2018,2019,2020,2021,2022],\"xaxis\":\"x\",\"y\":[458430.8811751059,527685.3533984877,421217.37214653374,435198.6445278642,396869.5941270592,486985.15619132813,482363.08894710307,367311.106850719,374526.9519549965,459577.81795725325,462907.1187038329,380918.9324674958,358483.14005138323,412135.4768098936,425559.24487369356,458723.8227414929,444165.29213898303,381331.3020842775,494871.96911771834,461670.86137302604,500667.9088991052,491119.1544309126,411762.7153895402],\"yaxis\":\"y\",\"type\":\"scatter\"},{\"hovertemplate\":\"variable=Consumo_Energia_F\\u00f3ssil (MWh)\\u003cbr\\u003eAno=%{x}\\u003cbr\\u003evalue=%{y}\\u003cextra\\u003e\\u003c\\u002fextra\\u003e\",\"legendgroup\":\"Consumo_Energia_F\\u00f3ssil (MWh)\",\"line\":{\"color\":\"#EF553B\",\"dash\":\"solid\"},\"marker\":{\"symbol\":\"circle\"},\"mode\":\"lines\",\"name\":\"Consumo_Energia_F\\u00f3ssil (MWh)\",\"orientation\":\"v\",\"showlegend\":true,\"x\":[2000,2001,2002,2003,2004,2005,2006,2007,2008,2009,2010,2011,2012,2013,2014,2015,2016,2017,2018,2019,2020,2021,2022],\"xaxis\":\"x\",\"y\":[938555.4163002975,996953.8121857024,845856.1971403316,815189.6633451736,807278.1072806923,1090935.7006201325,1013425.3172722214,770775.4994492913,703189.9817581009,968757.0476732871,819369.408814806,785759.5548097343,695652.765926387,791959.2940427612,776723.3665376044,803930.0608783013,850525.7360879508,720698.409209178,938647.7420540573,1020791.162013572,968934.9836474928,1006268.2824810031,814794.8441863154],\"yaxis\":\"y\",\"type\":\"scatter\"},{\"hovertemplate\":\"variable=Emiss\\u00f5es_CO2 (toneladas)\\u003cbr\\u003eAno=%{x}\\u003cbr\\u003evalue=%{y}\\u003cextra\\u003e\\u003c\\u002fextra\\u003e\",\"legendgroup\":\"Emiss\\u00f5es_CO2 (toneladas)\",\"line\":{\"color\":\"#00cc96\",\"dash\":\"solid\"},\"marker\":{\"symbol\":\"circle\"},\"mode\":\"lines\",\"name\":\"Emiss\\u00f5es_CO2 (toneladas)\",\"orientation\":\"v\",\"showlegend\":true,\"x\":[2000,2001,2002,2003,2004,2005,2006,2007,2008,2009,2010,2011,2012,2013,2014,2015,2016,2017,2018,2019,2020,2021,2022],\"xaxis\":\"x\",\"y\":[8696494.010598868,10130942.317204636,9074517.748676922,6912898.453453073,8876116.31945957,10268007.359706612,9791212.227221077,7520070.990718241,6818519.451040892,9631960.010092795,8968297.782436922,8111924.306629627,7688902.752030589,8275179.843773232,8756839.807295196,8648182.209095487,8147588.771748493,7321534.118421828,9009249.110873513,9489107.93379944,10055708.927970603,9320240.833856935,8267692.848028189],\"yaxis\":\"y\",\"type\":\"scatter\"}],                        {\"template\":{\"data\":{\"histogram2dcontour\":[{\"type\":\"histogram2dcontour\",\"colorbar\":{\"outlinewidth\":0,\"ticks\":\"\"},\"colorscale\":[[0.0,\"#0d0887\"],[0.1111111111111111,\"#46039f\"],[0.2222222222222222,\"#7201a8\"],[0.3333333333333333,\"#9c179e\"],[0.4444444444444444,\"#bd3786\"],[0.5555555555555556,\"#d8576b\"],[0.6666666666666666,\"#ed7953\"],[0.7777777777777778,\"#fb9f3a\"],[0.8888888888888888,\"#fdca26\"],[1.0,\"#f0f921\"]]}],\"choropleth\":[{\"type\":\"choropleth\",\"colorbar\":{\"outlinewidth\":0,\"ticks\":\"\"}}],\"histogram2d\":[{\"type\":\"histogram2d\",\"colorbar\":{\"outlinewidth\":0,\"ticks\":\"\"},\"colorscale\":[[0.0,\"#0d0887\"],[0.1111111111111111,\"#46039f\"],[0.2222222222222222,\"#7201a8\"],[0.3333333333333333,\"#9c179e\"],[0.4444444444444444,\"#bd3786\"],[0.5555555555555556,\"#d8576b\"],[0.6666666666666666,\"#ed7953\"],[0.7777777777777778,\"#fb9f3a\"],[0.8888888888888888,\"#fdca26\"],[1.0,\"#f0f921\"]]}],\"heatmap\":[{\"type\":\"heatmap\",\"colorbar\":{\"outlinewidth\":0,\"ticks\":\"\"},\"colorscale\":[[0.0,\"#0d0887\"],[0.1111111111111111,\"#46039f\"],[0.2222222222222222,\"#7201a8\"],[0.3333333333333333,\"#9c179e\"],[0.4444444444444444,\"#bd3786\"],[0.5555555555555556,\"#d8576b\"],[0.6666666666666666,\"#ed7953\"],[0.7777777777777778,\"#fb9f3a\"],[0.8888888888888888,\"#fdca26\"],[1.0,\"#f0f921\"]]}],\"heatmapgl\":[{\"type\":\"heatmapgl\",\"colorbar\":{\"outlinewidth\":0,\"ticks\":\"\"},\"colorscale\":[[0.0,\"#0d0887\"],[0.1111111111111111,\"#46039f\"],[0.2222222222222222,\"#7201a8\"],[0.3333333333333333,\"#9c179e\"],[0.4444444444444444,\"#bd3786\"],[0.5555555555555556,\"#d8576b\"],[0.6666666666666666,\"#ed7953\"],[0.7777777777777778,\"#fb9f3a\"],[0.8888888888888888,\"#fdca26\"],[1.0,\"#f0f921\"]]}],\"contourcarpet\":[{\"type\":\"contourcarpet\",\"colorbar\":{\"outlinewidth\":0,\"ticks\":\"\"}}],\"contour\":[{\"type\":\"contour\",\"colorbar\":{\"outlinewidth\":0,\"ticks\":\"\"},\"colorscale\":[[0.0,\"#0d0887\"],[0.1111111111111111,\"#46039f\"],[0.2222222222222222,\"#7201a8\"],[0.3333333333333333,\"#9c179e\"],[0.4444444444444444,\"#bd3786\"],[0.5555555555555556,\"#d8576b\"],[0.6666666666666666,\"#ed7953\"],[0.7777777777777778,\"#fb9f3a\"],[0.8888888888888888,\"#fdca26\"],[1.0,\"#f0f921\"]]}],\"surface\":[{\"type\":\"surface\",\"colorbar\":{\"outlinewidth\":0,\"ticks\":\"\"},\"colorscale\":[[0.0,\"#0d0887\"],[0.1111111111111111,\"#46039f\"],[0.2222222222222222,\"#7201a8\"],[0.3333333333333333,\"#9c179e\"],[0.4444444444444444,\"#bd3786\"],[0.5555555555555556,\"#d8576b\"],[0.6666666666666666,\"#ed7953\"],[0.7777777777777778,\"#fb9f3a\"],[0.8888888888888888,\"#fdca26\"],[1.0,\"#f0f921\"]]}],\"mesh3d\":[{\"type\":\"mesh3d\",\"colorbar\":{\"outlinewidth\":0,\"ticks\":\"\"}}],\"scatter\":[{\"fillpattern\":{\"fillmode\":\"overlay\",\"size\":10,\"solidity\":0.2},\"type\":\"scatter\"}],\"parcoords\":[{\"type\":\"parcoords\",\"line\":{\"colorbar\":{\"outlinewidth\":0,\"ticks\":\"\"}}}],\"scatterpolargl\":[{\"type\":\"scatterpolargl\",\"marker\":{\"colorbar\":{\"outlinewidth\":0,\"ticks\":\"\"}}}],\"bar\":[{\"error_x\":{\"color\":\"#2a3f5f\"},\"error_y\":{\"color\":\"#2a3f5f\"},\"marker\":{\"line\":{\"color\":\"#E5ECF6\",\"width\":0.5},\"pattern\":{\"fillmode\":\"overlay\",\"size\":10,\"solidity\":0.2}},\"type\":\"bar\"}],\"scattergeo\":[{\"type\":\"scattergeo\",\"marker\":{\"colorbar\":{\"outlinewidth\":0,\"ticks\":\"\"}}}],\"scatterpolar\":[{\"type\":\"scatterpolar\",\"marker\":{\"colorbar\":{\"outlinewidth\":0,\"ticks\":\"\"}}}],\"histogram\":[{\"marker\":{\"pattern\":{\"fillmode\":\"overlay\",\"size\":10,\"solidity\":0.2}},\"type\":\"histogram\"}],\"scattergl\":[{\"type\":\"scattergl\",\"marker\":{\"colorbar\":{\"outlinewidth\":0,\"ticks\":\"\"}}}],\"scatter3d\":[{\"type\":\"scatter3d\",\"line\":{\"colorbar\":{\"outlinewidth\":0,\"ticks\":\"\"}},\"marker\":{\"colorbar\":{\"outlinewidth\":0,\"ticks\":\"\"}}}],\"scattermapbox\":[{\"type\":\"scattermapbox\",\"marker\":{\"colorbar\":{\"outlinewidth\":0,\"ticks\":\"\"}}}],\"scatterternary\":[{\"type\":\"scatterternary\",\"marker\":{\"colorbar\":{\"outlinewidth\":0,\"ticks\":\"\"}}}],\"scattercarpet\":[{\"type\":\"scattercarpet\",\"marker\":{\"colorbar\":{\"outlinewidth\":0,\"ticks\":\"\"}}}],\"carpet\":[{\"aaxis\":{\"endlinecolor\":\"#2a3f5f\",\"gridcolor\":\"white\",\"linecolor\":\"white\",\"minorgridcolor\":\"white\",\"startlinecolor\":\"#2a3f5f\"},\"baxis\":{\"endlinecolor\":\"#2a3f5f\",\"gridcolor\":\"white\",\"linecolor\":\"white\",\"minorgridcolor\":\"white\",\"startlinecolor\":\"#2a3f5f\"},\"type\":\"carpet\"}],\"table\":[{\"cells\":{\"fill\":{\"color\":\"#EBF0F8\"},\"line\":{\"color\":\"white\"}},\"header\":{\"fill\":{\"color\":\"#C8D4E3\"},\"line\":{\"color\":\"white\"}},\"type\":\"table\"}],\"barpolar\":[{\"marker\":{\"line\":{\"color\":\"#E5ECF6\",\"width\":0.5},\"pattern\":{\"fillmode\":\"overlay\",\"size\":10,\"solidity\":0.2}},\"type\":\"barpolar\"}],\"pie\":[{\"automargin\":true,\"type\":\"pie\"}]},\"layout\":{\"autotypenumbers\":\"strict\",\"colorway\":[\"#636efa\",\"#EF553B\",\"#00cc96\",\"#ab63fa\",\"#FFA15A\",\"#19d3f3\",\"#FF6692\",\"#B6E880\",\"#FF97FF\",\"#FECB52\"],\"font\":{\"color\":\"#2a3f5f\"},\"hovermode\":\"closest\",\"hoverlabel\":{\"align\":\"left\"},\"paper_bgcolor\":\"white\",\"plot_bgcolor\":\"#E5ECF6\",\"polar\":{\"bgcolor\":\"#E5ECF6\",\"angularaxis\":{\"gridcolor\":\"white\",\"linecolor\":\"white\",\"ticks\":\"\"},\"radialaxis\":{\"gridcolor\":\"white\",\"linecolor\":\"white\",\"ticks\":\"\"}},\"ternary\":{\"bgcolor\":\"#E5ECF6\",\"aaxis\":{\"gridcolor\":\"white\",\"linecolor\":\"white\",\"ticks\":\"\"},\"baxis\":{\"gridcolor\":\"white\",\"linecolor\":\"white\",\"ticks\":\"\"},\"caxis\":{\"gridcolor\":\"white\",\"linecolor\":\"white\",\"ticks\":\"\"}},\"coloraxis\":{\"colorbar\":{\"outlinewidth\":0,\"ticks\":\"\"}},\"colorscale\":{\"sequential\":[[0.0,\"#0d0887\"],[0.1111111111111111,\"#46039f\"],[0.2222222222222222,\"#7201a8\"],[0.3333333333333333,\"#9c179e\"],[0.4444444444444444,\"#bd3786\"],[0.5555555555555556,\"#d8576b\"],[0.6666666666666666,\"#ed7953\"],[0.7777777777777778,\"#fb9f3a\"],[0.8888888888888888,\"#fdca26\"],[1.0,\"#f0f921\"]],\"sequentialminus\":[[0.0,\"#0d0887\"],[0.1111111111111111,\"#46039f\"],[0.2222222222222222,\"#7201a8\"],[0.3333333333333333,\"#9c179e\"],[0.4444444444444444,\"#bd3786\"],[0.5555555555555556,\"#d8576b\"],[0.6666666666666666,\"#ed7953\"],[0.7777777777777778,\"#fb9f3a\"],[0.8888888888888888,\"#fdca26\"],[1.0,\"#f0f921\"]],\"diverging\":[[0,\"#8e0152\"],[0.1,\"#c51b7d\"],[0.2,\"#de77ae\"],[0.3,\"#f1b6da\"],[0.4,\"#fde0ef\"],[0.5,\"#f7f7f7\"],[0.6,\"#e6f5d0\"],[0.7,\"#b8e186\"],[0.8,\"#7fbc41\"],[0.9,\"#4d9221\"],[1,\"#276419\"]]},\"xaxis\":{\"gridcolor\":\"white\",\"linecolor\":\"white\",\"ticks\":\"\",\"title\":{\"standoff\":15},\"zerolinecolor\":\"white\",\"automargin\":true,\"zerolinewidth\":2},\"yaxis\":{\"gridcolor\":\"white\",\"linecolor\":\"white\",\"ticks\":\"\",\"title\":{\"standoff\":15},\"zerolinecolor\":\"white\",\"automargin\":true,\"zerolinewidth\":2},\"scene\":{\"xaxis\":{\"backgroundcolor\":\"#E5ECF6\",\"gridcolor\":\"white\",\"linecolor\":\"white\",\"showbackground\":true,\"ticks\":\"\",\"zerolinecolor\":\"white\",\"gridwidth\":2},\"yaxis\":{\"backgroundcolor\":\"#E5ECF6\",\"gridcolor\":\"white\",\"linecolor\":\"white\",\"showbackground\":true,\"ticks\":\"\",\"zerolinecolor\":\"white\",\"gridwidth\":2},\"zaxis\":{\"backgroundcolor\":\"#E5ECF6\",\"gridcolor\":\"white\",\"linecolor\":\"white\",\"showbackground\":true,\"ticks\":\"\",\"zerolinecolor\":\"white\",\"gridwidth\":2}},\"shapedefaults\":{\"line\":{\"color\":\"#2a3f5f\"}},\"annotationdefaults\":{\"arrowcolor\":\"#2a3f5f\",\"arrowhead\":0,\"arrowwidth\":1},\"geo\":{\"bgcolor\":\"white\",\"landcolor\":\"#E5ECF6\",\"subunitcolor\":\"white\",\"showland\":true,\"showlakes\":true,\"lakecolor\":\"white\"},\"title\":{\"x\":0.05},\"mapbox\":{\"style\":\"light\"}}},\"xaxis\":{\"anchor\":\"y\",\"domain\":[0.0,1.0],\"title\":{\"text\":\"Ano\"}},\"yaxis\":{\"anchor\":\"x\",\"domain\":[0.0,1.0],\"title\":{\"text\":\"Consumo em milh\\u00f5es\"}},\"legend\":{\"title\":{\"text\":\"variable\"},\"tracegroupgap\":0},\"title\":{\"text\":\"Evolu\\u00e7\\u00e3o do Consumo de Energias Renov\\u00e1veis e F\\u00f3sseis\"}},                        {\"responsive\": true}                    ).then(function(){\n",
       "                            \n",
       "var gd = document.getElementById('58d4b375-f7a2-4a0a-a311-f36821e1154a');\n",
       "var x = new MutationObserver(function (mutations, observer) {{\n",
       "        var display = window.getComputedStyle(gd).display;\n",
       "        if (!display || display === 'none') {{\n",
       "            console.log([gd, 'removed!']);\n",
       "            Plotly.purge(gd);\n",
       "            observer.disconnect();\n",
       "        }}\n",
       "}});\n",
       "\n",
       "// Listen for the removal of the full notebook cells\n",
       "var notebookContainer = gd.closest('#notebook-container');\n",
       "if (notebookContainer) {{\n",
       "    x.observe(notebookContainer, {childList: true});\n",
       "}}\n",
       "\n",
       "// Listen for the clearing of the current output cell\n",
       "var outputEl = gd.closest('.output');\n",
       "if (outputEl) {{\n",
       "    x.observe(outputEl, {childList: true});\n",
       "}}\n",
       "\n",
       "                        })                };                });            </script>        </div>"
      ]
     },
     "metadata": {},
     "output_type": "display_data"
    }
   ],
   "source": [
    "df_agrupado = df.groupby(\"Ano\").sum()\n",
    "\n",
    "fig = px.line(df_agrupado, x=df_agrupado.index, y=[\"Consumo_Energia_Renovável (MWh)\",\n",
    "                                                \"Consumo_Energia_Fóssil (MWh)\",\n",
    "                                                \"Emissões_CO2 (toneladas)\"]\n",
    "              ,title=(\"Evolução do Consumo de Energias Renováveis e Fósseis\"))\n",
    "\n",
    "fig.update_layout(\n",
    "    xaxis_title=\"Ano\",\n",
    "    yaxis_title=\"Consumo em milhões\",)\n",
    "\n",
    "fig.show()"
   ]
  },
  {
   "cell_type": "markdown",
   "id": "4e0d3972-70d2-4fc6-89e1-97a09232514a",
   "metadata": {},
   "source": [
    "### • Visualize a contribuição dos setores (indústria, transporte, etc.) para as emissões de CO2 por continente."
   ]
  },
  {
   "cell_type": "code",
   "execution_count": 13,
   "id": "37620566-1650-4210-9a70-6c6f4df2cc5b",
   "metadata": {},
   "outputs": [
    {
     "data": {
      "application/vnd.plotly.v1+json": {
       "config": {
        "plotlyServerURL": "https://plot.ly"
       },
       "data": [
        {
         "alignmentgroup": "True",
         "customdata": [
          [
           2000
          ],
          [
           2000
          ],
          [
           2000
          ],
          [
           2000
          ],
          [
           2000
          ],
          [
           2000
          ],
          [
           2000
          ],
          [
           2000
          ],
          [
           2000
          ],
          [
           2000
          ],
          [
           2000
          ],
          [
           2000
          ],
          [
           2000
          ],
          [
           2000
          ],
          [
           2000
          ],
          [
           2000
          ],
          [
           2000
          ],
          [
           2000
          ],
          [
           2000
          ],
          [
           2000
          ],
          [
           2000
          ],
          [
           2000
          ],
          [
           2000
          ],
          [
           2000
          ],
          [
           2000
          ],
          [
           2000
          ],
          [
           2000
          ],
          [
           2000
          ],
          [
           2000
          ],
          [
           2001
          ],
          [
           2001
          ],
          [
           2001
          ],
          [
           2001
          ],
          [
           2001
          ],
          [
           2001
          ],
          [
           2001
          ],
          [
           2001
          ],
          [
           2001
          ],
          [
           2001
          ],
          [
           2001
          ],
          [
           2001
          ],
          [
           2001
          ],
          [
           2001
          ],
          [
           2001
          ],
          [
           2001
          ],
          [
           2001
          ],
          [
           2001
          ],
          [
           2001
          ],
          [
           2001
          ],
          [
           2001
          ],
          [
           2001
          ],
          [
           2001
          ],
          [
           2002
          ],
          [
           2002
          ],
          [
           2002
          ],
          [
           2002
          ],
          [
           2002
          ],
          [
           2002
          ],
          [
           2002
          ],
          [
           2002
          ],
          [
           2002
          ],
          [
           2002
          ],
          [
           2002
          ],
          [
           2002
          ],
          [
           2002
          ],
          [
           2002
          ],
          [
           2002
          ],
          [
           2002
          ],
          [
           2002
          ],
          [
           2002
          ],
          [
           2002
          ],
          [
           2002
          ],
          [
           2002
          ],
          [
           2003
          ],
          [
           2003
          ],
          [
           2003
          ],
          [
           2003
          ],
          [
           2003
          ],
          [
           2003
          ],
          [
           2003
          ],
          [
           2003
          ],
          [
           2003
          ],
          [
           2003
          ],
          [
           2003
          ],
          [
           2003
          ],
          [
           2003
          ],
          [
           2003
          ],
          [
           2003
          ],
          [
           2003
          ],
          [
           2004
          ],
          [
           2004
          ],
          [
           2004
          ],
          [
           2004
          ],
          [
           2004
          ],
          [
           2004
          ],
          [
           2004
          ],
          [
           2004
          ],
          [
           2004
          ],
          [
           2004
          ],
          [
           2004
          ],
          [
           2004
          ],
          [
           2004
          ],
          [
           2004
          ],
          [
           2004
          ],
          [
           2004
          ],
          [
           2004
          ],
          [
           2004
          ],
          [
           2004
          ],
          [
           2004
          ],
          [
           2004
          ],
          [
           2004
          ],
          [
           2005
          ],
          [
           2005
          ],
          [
           2005
          ],
          [
           2005
          ],
          [
           2005
          ],
          [
           2005
          ],
          [
           2005
          ],
          [
           2005
          ],
          [
           2005
          ],
          [
           2005
          ],
          [
           2005
          ],
          [
           2005
          ],
          [
           2005
          ],
          [
           2005
          ],
          [
           2005
          ],
          [
           2005
          ],
          [
           2005
          ],
          [
           2005
          ],
          [
           2005
          ],
          [
           2005
          ],
          [
           2005
          ],
          [
           2005
          ],
          [
           2005
          ],
          [
           2006
          ],
          [
           2006
          ],
          [
           2006
          ],
          [
           2006
          ],
          [
           2006
          ],
          [
           2006
          ],
          [
           2006
          ],
          [
           2006
          ],
          [
           2006
          ],
          [
           2006
          ],
          [
           2006
          ],
          [
           2006
          ],
          [
           2006
          ],
          [
           2006
          ],
          [
           2006
          ],
          [
           2006
          ],
          [
           2006
          ],
          [
           2006
          ],
          [
           2006
          ],
          [
           2006
          ],
          [
           2006
          ],
          [
           2006
          ],
          [
           2006
          ],
          [
           2007
          ],
          [
           2007
          ],
          [
           2007
          ],
          [
           2007
          ],
          [
           2007
          ],
          [
           2007
          ],
          [
           2007
          ],
          [
           2007
          ],
          [
           2007
          ],
          [
           2007
          ],
          [
           2007
          ],
          [
           2007
          ],
          [
           2007
          ],
          [
           2007
          ],
          [
           2007
          ],
          [
           2007
          ],
          [
           2007
          ],
          [
           2008
          ],
          [
           2008
          ],
          [
           2008
          ],
          [
           2008
          ],
          [
           2008
          ],
          [
           2008
          ],
          [
           2008
          ],
          [
           2008
          ],
          [
           2008
          ],
          [
           2008
          ],
          [
           2008
          ],
          [
           2008
          ],
          [
           2008
          ],
          [
           2008
          ],
          [
           2008
          ],
          [
           2008
          ],
          [
           2008
          ],
          [
           2008
          ],
          [
           2008
          ],
          [
           2008
          ],
          [
           2008
          ],
          [
           2008
          ],
          [
           2009
          ],
          [
           2009
          ],
          [
           2009
          ],
          [
           2009
          ],
          [
           2009
          ],
          [
           2009
          ],
          [
           2009
          ],
          [
           2009
          ],
          [
           2009
          ],
          [
           2009
          ],
          [
           2009
          ],
          [
           2009
          ],
          [
           2009
          ],
          [
           2009
          ],
          [
           2009
          ],
          [
           2009
          ],
          [
           2009
          ],
          [
           2009
          ],
          [
           2009
          ],
          [
           2009
          ],
          [
           2009
          ],
          [
           2009
          ],
          [
           2009
          ],
          [
           2009
          ],
          [
           2009
          ],
          [
           2009
          ],
          [
           2009
          ],
          [
           2009
          ],
          [
           2009
          ],
          [
           2009
          ],
          [
           2010
          ],
          [
           2010
          ],
          [
           2010
          ],
          [
           2010
          ],
          [
           2010
          ],
          [
           2010
          ],
          [
           2010
          ],
          [
           2010
          ],
          [
           2010
          ],
          [
           2010
          ],
          [
           2010
          ],
          [
           2010
          ],
          [
           2010
          ],
          [
           2010
          ],
          [
           2010
          ],
          [
           2010
          ],
          [
           2010
          ],
          [
           2010
          ],
          [
           2010
          ],
          [
           2010
          ],
          [
           2010
          ],
          [
           2010
          ],
          [
           2010
          ],
          [
           2010
          ],
          [
           2010
          ],
          [
           2010
          ],
          [
           2010
          ],
          [
           2010
          ],
          [
           2011
          ],
          [
           2011
          ],
          [
           2011
          ],
          [
           2011
          ],
          [
           2011
          ],
          [
           2011
          ],
          [
           2011
          ],
          [
           2011
          ],
          [
           2011
          ],
          [
           2011
          ],
          [
           2011
          ],
          [
           2011
          ],
          [
           2011
          ],
          [
           2011
          ],
          [
           2011
          ],
          [
           2011
          ],
          [
           2011
          ],
          [
           2011
          ],
          [
           2012
          ],
          [
           2012
          ],
          [
           2012
          ],
          [
           2012
          ],
          [
           2012
          ],
          [
           2012
          ],
          [
           2012
          ],
          [
           2012
          ],
          [
           2012
          ],
          [
           2012
          ],
          [
           2012
          ],
          [
           2012
          ],
          [
           2012
          ],
          [
           2012
          ],
          [
           2012
          ],
          [
           2012
          ],
          [
           2012
          ],
          [
           2012
          ],
          [
           2012
          ],
          [
           2012
          ],
          [
           2012
          ],
          [
           2012
          ],
          [
           2012
          ],
          [
           2012
          ],
          [
           2012
          ],
          [
           2012
          ],
          [
           2012
          ],
          [
           2012
          ],
          [
           2012
          ],
          [
           2012
          ],
          [
           2012
          ],
          [
           2012
          ],
          [
           2013
          ],
          [
           2013
          ],
          [
           2013
          ],
          [
           2013
          ],
          [
           2013
          ],
          [
           2013
          ],
          [
           2013
          ],
          [
           2013
          ],
          [
           2013
          ],
          [
           2013
          ],
          [
           2013
          ],
          [
           2013
          ],
          [
           2013
          ],
          [
           2013
          ],
          [
           2013
          ],
          [
           2013
          ],
          [
           2013
          ],
          [
           2013
          ],
          [
           2013
          ],
          [
           2013
          ],
          [
           2013
          ],
          [
           2013
          ],
          [
           2014
          ],
          [
           2014
          ],
          [
           2014
          ],
          [
           2014
          ],
          [
           2014
          ],
          [
           2014
          ],
          [
           2014
          ],
          [
           2014
          ],
          [
           2014
          ],
          [
           2014
          ],
          [
           2014
          ],
          [
           2014
          ],
          [
           2014
          ],
          [
           2014
          ],
          [
           2014
          ],
          [
           2014
          ],
          [
           2014
          ],
          [
           2014
          ],
          [
           2014
          ],
          [
           2014
          ],
          [
           2014
          ],
          [
           2014
          ],
          [
           2014
          ],
          [
           2014
          ],
          [
           2014
          ],
          [
           2014
          ],
          [
           2014
          ],
          [
           2015
          ],
          [
           2015
          ],
          [
           2015
          ],
          [
           2015
          ],
          [
           2015
          ],
          [
           2015
          ],
          [
           2015
          ],
          [
           2015
          ],
          [
           2015
          ],
          [
           2015
          ],
          [
           2015
          ],
          [
           2015
          ],
          [
           2015
          ],
          [
           2015
          ],
          [
           2015
          ],
          [
           2015
          ],
          [
           2015
          ],
          [
           2015
          ],
          [
           2016
          ],
          [
           2016
          ],
          [
           2016
          ],
          [
           2016
          ],
          [
           2016
          ],
          [
           2016
          ],
          [
           2016
          ],
          [
           2016
          ],
          [
           2016
          ],
          [
           2016
          ],
          [
           2016
          ],
          [
           2016
          ],
          [
           2016
          ],
          [
           2016
          ],
          [
           2016
          ],
          [
           2016
          ],
          [
           2016
          ],
          [
           2017
          ],
          [
           2017
          ],
          [
           2017
          ],
          [
           2017
          ],
          [
           2017
          ],
          [
           2017
          ],
          [
           2017
          ],
          [
           2017
          ],
          [
           2017
          ],
          [
           2017
          ],
          [
           2017
          ],
          [
           2017
          ],
          [
           2018
          ],
          [
           2018
          ],
          [
           2018
          ],
          [
           2018
          ],
          [
           2018
          ],
          [
           2018
          ],
          [
           2018
          ],
          [
           2018
          ],
          [
           2018
          ],
          [
           2018
          ],
          [
           2018
          ],
          [
           2018
          ],
          [
           2018
          ],
          [
           2018
          ],
          [
           2018
          ],
          [
           2018
          ],
          [
           2018
          ],
          [
           2018
          ],
          [
           2018
          ],
          [
           2018
          ],
          [
           2018
          ],
          [
           2018
          ],
          [
           2018
          ],
          [
           2019
          ],
          [
           2019
          ],
          [
           2019
          ],
          [
           2019
          ],
          [
           2019
          ],
          [
           2019
          ],
          [
           2019
          ],
          [
           2019
          ],
          [
           2019
          ],
          [
           2019
          ],
          [
           2019
          ],
          [
           2019
          ],
          [
           2019
          ],
          [
           2019
          ],
          [
           2019
          ],
          [
           2019
          ],
          [
           2019
          ],
          [
           2019
          ],
          [
           2019
          ],
          [
           2019
          ],
          [
           2020
          ],
          [
           2020
          ],
          [
           2020
          ],
          [
           2020
          ],
          [
           2020
          ],
          [
           2020
          ],
          [
           2020
          ],
          [
           2020
          ],
          [
           2020
          ],
          [
           2020
          ],
          [
           2020
          ],
          [
           2020
          ],
          [
           2020
          ],
          [
           2020
          ],
          [
           2020
          ],
          [
           2020
          ],
          [
           2020
          ],
          [
           2020
          ],
          [
           2020
          ],
          [
           2020
          ],
          [
           2020
          ],
          [
           2020
          ],
          [
           2020
          ],
          [
           2020
          ],
          [
           2021
          ],
          [
           2021
          ],
          [
           2021
          ],
          [
           2021
          ],
          [
           2021
          ],
          [
           2021
          ],
          [
           2021
          ],
          [
           2021
          ],
          [
           2021
          ],
          [
           2021
          ],
          [
           2021
          ],
          [
           2021
          ],
          [
           2021
          ],
          [
           2021
          ],
          [
           2021
          ],
          [
           2021
          ],
          [
           2021
          ],
          [
           2021
          ],
          [
           2021
          ],
          [
           2022
          ],
          [
           2022
          ],
          [
           2022
          ],
          [
           2022
          ],
          [
           2022
          ],
          [
           2022
          ],
          [
           2022
          ],
          [
           2022
          ],
          [
           2022
          ],
          [
           2022
          ],
          [
           2022
          ],
          [
           2022
          ],
          [
           2022
          ],
          [
           2022
          ],
          [
           2022
          ],
          [
           2022
          ],
          [
           2022
          ],
          [
           2022
          ],
          [
           2022
          ],
          [
           2022
          ]
         ],
         "hovertemplate": "Setor=Residencial<br>Continente=%{x}<br>Emissões_CO2 (toneladas)=%{y}<br>Ano=%{customdata[0]}<extra></extra>",
         "legendgroup": "Residencial",
         "marker": {
          "color": "#636efa",
          "pattern": {
           "shape": ""
          }
         },
         "name": "Residencial",
         "offsetgroup": "Residencial",
         "orientation": "v",
         "showlegend": true,
         "textposition": "auto",
         "type": "bar",
         "x": [
          "América do Sul",
          "América do Sul",
          "América do Sul",
          "África",
          "América do Sul",
          "América do Norte",
          "América do Sul",
          "África",
          "América do Norte",
          "América do Norte",
          "Oceania",
          "Europa",
          "Oceania",
          "Oceania",
          "África",
          "Oceania",
          "América do Sul",
          "Ásia",
          "América do Norte",
          "África",
          "América do Sul",
          "América do Sul",
          "Europa",
          "Europa",
          "Oceania",
          "Oceania",
          "Ásia",
          "África",
          "América do Sul",
          "América do Sul",
          "América do Norte",
          "América do Norte",
          "Ásia",
          "África",
          "África",
          "Europa",
          "Europa",
          "Oceania",
          "Europa",
          "América do Norte",
          "Europa",
          "Ásia",
          "Europa",
          "América do Sul",
          "América do Norte",
          "Europa",
          "Ásia",
          "América do Norte",
          "América do Norte",
          "Ásia",
          "Europa",
          "América do Norte",
          "Ásia",
          "Ásia",
          "América do Norte",
          "Ásia",
          "América do Norte",
          "América do Norte",
          "América do Norte",
          "América do Norte",
          "América do Sul",
          "América do Norte",
          "América do Norte",
          "Europa",
          "Ásia",
          "Oceania",
          "América do Norte",
          "Ásia",
          "Oceania",
          "América do Norte",
          "África",
          "América do Sul",
          "América do Norte",
          "Oceania",
          "Europa",
          "Europa",
          "África",
          "Ásia",
          "Ásia",
          "América do Norte",
          "Europa",
          "Oceania",
          "Oceania",
          "Europa",
          "América do Sul",
          "América do Sul",
          "América do Norte",
          "África",
          "Europa",
          "Europa",
          "Oceania",
          "América do Sul",
          "Europa",
          "América do Sul",
          "África",
          "América do Norte",
          "Europa",
          "Europa",
          "Europa",
          "América do Norte",
          "Ásia",
          "Ásia",
          "América do Norte",
          "África",
          "América do Sul",
          "América do Norte",
          "Oceania",
          "África",
          "América do Norte",
          "Oceania",
          "América do Sul",
          "América do Norte",
          "América do Norte",
          "Ásia",
          "África",
          "América do Norte",
          "América do Sul",
          "América do Norte",
          "Ásia",
          "Ásia",
          "África",
          "América do Sul",
          "Oceania",
          "Europa",
          "Ásia",
          "Ásia",
          "América do Sul",
          "Ásia",
          "África",
          "América do Sul",
          "América do Sul",
          "América do Norte",
          "América do Sul",
          "América do Sul",
          "Ásia",
          "América do Norte",
          "América do Sul",
          "Oceania",
          "Oceania",
          "Europa",
          "Oceania",
          "África",
          "África",
          "África",
          "Oceania",
          "Europa",
          "América do Sul",
          "América do Norte",
          "América do Sul",
          "Ásia",
          "América do Sul",
          "América do Sul",
          "África",
          "América do Norte",
          "América do Sul",
          "América do Sul",
          "África",
          "América do Norte",
          "América do Sul",
          "Ásia",
          "Europa",
          "Oceania",
          "Ásia",
          "Ásia",
          "África",
          "América do Sul",
          "Oceania",
          "Europa",
          "América do Norte",
          "América do Sul",
          "África",
          "Oceania",
          "América do Norte",
          "África",
          "Oceania",
          "América do Sul",
          "Oceania",
          "Europa",
          "Oceania",
          "América do Sul",
          "Europa",
          "Europa",
          "Ásia",
          "América do Norte",
          "Oceania",
          "Oceania",
          "América do Norte",
          "Oceania",
          "Europa",
          "Europa",
          "América do Norte",
          "Ásia",
          "África",
          "Oceania",
          "Ásia",
          "América do Sul",
          "América do Sul",
          "Oceania",
          "Europa",
          "Ásia",
          "Europa",
          "América do Sul",
          "América do Sul",
          "África",
          "África",
          "África",
          "Oceania",
          "América do Sul",
          "Europa",
          "América do Norte",
          "Europa",
          "Ásia",
          "América do Sul",
          "Oceania",
          "Oceania",
          "Europa",
          "Ásia",
          "América do Norte",
          "Oceania",
          "América do Sul",
          "Europa",
          "América do Sul",
          "América do Sul",
          "América do Sul",
          "América do Sul",
          "Oceania",
          "Oceania",
          "África",
          "América do Sul",
          "África",
          "América do Sul",
          "África",
          "Europa",
          "Europa",
          "Europa",
          "Oceania",
          "Ásia",
          "Europa",
          "África",
          "África",
          "América do Sul",
          "América do Sul",
          "América do Norte",
          "Oceania",
          "Ásia",
          "Europa",
          "América do Norte",
          "Oceania",
          "Europa",
          "África",
          "África",
          "América do Norte",
          "América do Sul",
          "Ásia",
          "Oceania",
          "Ásia",
          "América do Sul",
          "Oceania",
          "África",
          "Ásia",
          "América do Norte",
          "América do Norte",
          "América do Sul",
          "Europa",
          "África",
          "África",
          "Oceania",
          "África",
          "América do Norte",
          "Oceania",
          "África",
          "África",
          "Europa",
          "África",
          "África",
          "Europa",
          "América do Sul",
          "Ásia",
          "Ásia",
          "América do Sul",
          "Ásia",
          "América do Norte",
          "América do Norte",
          "África",
          "África",
          "Oceania",
          "Ásia",
          "América do Sul",
          "América do Norte",
          "América do Norte",
          "América do Norte",
          "Oceania",
          "América do Sul",
          "Oceania",
          "América do Sul",
          "África",
          "América do Sul",
          "América do Norte",
          "América do Norte",
          "América do Norte",
          "Europa",
          "Europa",
          "Ásia",
          "Ásia",
          "América do Sul",
          "Europa",
          "Europa",
          "Ásia",
          "Oceania",
          "África",
          "América do Norte",
          "Ásia",
          "Europa",
          "Oceania",
          "Ásia",
          "África",
          "Europa",
          "América do Sul",
          "África",
          "África",
          "Oceania",
          "Europa",
          "Ásia",
          "África",
          "Europa",
          "Ásia",
          "América do Norte",
          "Oceania",
          "Ásia",
          "Ásia",
          "Oceania",
          "América do Norte",
          "Ásia",
          "América do Norte",
          "América do Sul",
          "Europa",
          "Ásia",
          "Ásia",
          "América do Norte",
          "América do Sul",
          "Oceania",
          "América do Sul",
          "América do Norte",
          "Oceania",
          "África",
          "América do Sul",
          "Ásia",
          "América do Norte",
          "América do Sul",
          "Ásia",
          "Oceania",
          "África",
          "África",
          "Oceania",
          "Ásia",
          "Ásia",
          "Oceania",
          "África",
          "Ásia",
          "Ásia",
          "Ásia",
          "Ásia",
          "Europa",
          "Ásia",
          "América do Sul",
          "Europa",
          "América do Norte",
          "África",
          "América do Sul",
          "Ásia",
          "Europa",
          "América do Norte",
          "América do Sul",
          "Ásia",
          "Oceania",
          "Ásia",
          "Europa",
          "Europa",
          "América do Norte",
          "América do Sul",
          "América do Sul",
          "Ásia",
          "Oceania",
          "África",
          "América do Sul",
          "Europa",
          "África",
          "África",
          "Europa",
          "Ásia",
          "Ásia",
          "Oceania",
          "Europa",
          "Ásia",
          "América do Sul",
          "América do Sul",
          "América do Norte",
          "Oceania",
          "Oceania",
          "Europa",
          "Oceania",
          "Oceania",
          "Ásia",
          "Ásia",
          "América do Norte",
          "Europa",
          "Europa",
          "Europa",
          "América do Norte",
          "Ásia",
          "Europa",
          "África",
          "África",
          "Oceania",
          "África",
          "América do Norte",
          "América do Norte",
          "Ásia",
          "África",
          "Oceania",
          "Oceania",
          "América do Sul",
          "América do Sul",
          "América do Norte",
          "América do Norte",
          "América do Norte",
          "América do Norte",
          "Oceania",
          "Oceania",
          "América do Norte",
          "América do Norte",
          "América do Norte",
          "África",
          "Oceania",
          "Oceania",
          "Europa",
          "América do Norte",
          "África",
          "Ásia",
          "América do Norte",
          "América do Sul",
          "América do Sul",
          "África",
          "América do Norte",
          "América do Norte",
          "Ásia",
          "Europa",
          "Europa",
          "Europa",
          "Europa",
          "América do Norte",
          "América do Norte",
          "África",
          "Ásia",
          "América do Norte",
          "África",
          "Oceania",
          "Europa",
          "Europa",
          "América do Norte",
          "América do Sul",
          "América do Norte",
          "Ásia",
          "América do Norte",
          "África",
          "Europa",
          "América do Norte",
          "América do Norte",
          "África",
          "Europa",
          "América do Norte",
          "América do Norte",
          "América do Norte",
          "Oceania",
          "América do Sul",
          "América do Norte",
          "Europa",
          "América do Sul",
          "Ásia",
          "Oceania",
          "América do Norte",
          "Oceania",
          "América do Norte",
          "Europa",
          "América do Norte",
          "América do Sul",
          "África",
          "Europa",
          "Europa",
          "África",
          "África",
          "África",
          "América do Norte",
          "Oceania",
          "Oceania",
          "América do Sul",
          "Ásia",
          "América do Sul",
          "África",
          "América do Norte",
          "América do Norte",
          "África",
          "América do Norte",
          "Ásia",
          "América do Sul",
          "Europa"
         ],
         "xaxis": "x",
         "y": [
          90806.22092575004,
          90718.9431148646,
          134397.94958513664,
          101059.42196251174,
          129424.3576279904,
          205821.2125099637,
          35789.283045985234,
          87831.89843076798,
          151060.00627922732,
          103003.30040077004,
          126559.0389954859,
          117505.61496056596,
          128180.05136121888,
          139458.9071844935,
          54854.76152374082,
          93144.41799065824,
          54929.67221783084,
          -1157.0207622851449,
          4732.563441213148,
          77622.0057621856,
          91799.26335339223,
          136182.6278441347,
          -32097.948656043503,
          67043.37595626159,
          165039.89721187393,
          26820.37731733451,
          144427.72705734492,
          64263.06967914613,
          -800.0235465374135,
          108932.31178262988,
          59727.007437785454,
          146673.1991553972,
          117361.85822257272,
          56489.05677847292,
          150339.02656015893,
          15586.289295575,
          111255.89833700436,
          169913.13579203733,
          91450.8182582648,
          67110.09518944364,
          30927.37173077125,
          87101.51485032243,
          95871.0801522183,
          36102.78504447343,
          100142.80657842604,
          117681.27704882476,
          128310.28865403426,
          79668.39374668506,
          116298.03139577807,
          15808.42879360859,
          23176.053433701032,
          123020.80375861654,
          16827.55353700822,
          161076.8812140777,
          182825.27613720443,
          21070.08825752388,
          75583.94891522054,
          125305.61874420752,
          184460.14753310263,
          42659.12470190111,
          60598.61867184116,
          88980.67207946104,
          50436.00653468139,
          80005.6844456393,
          55048.982358302674,
          126832.42603271444,
          123127.37554094371,
          64412.05786418228,
          35689.19915056139,
          93517.60676740814,
          67973.73448651485,
          46015.45262840181,
          15629.805929011753,
          71064.27037340442,
          -29949.595508006503,
          136314.604871833,
          57705.16254788124,
          63767.027998234575,
          3571.822471708961,
          92707.6504750585,
          91359.04405014132,
          175243.31832824112,
          82771.79751812255,
          27260.242949388263,
          129814.2233777968,
          84418.99362607501,
          92819.71192134247,
          84274.20462837115,
          47049.95743660653,
          66966.86324530184,
          163966.45975031125,
          -12635.472896259656,
          108368.3714807806,
          141989.01697077832,
          125227.82285606884,
          158126.70543396525,
          61624.535327165344,
          167693.2932796116,
          98164.52607587964,
          140143.81019956278,
          177144.9061138364,
          62184.96894078122,
          61438.47849454319,
          229499.58507794404,
          -10562.025750088287,
          95188.87646613356,
          150038.41404002224,
          93035.06926139252,
          94509.37834672024,
          150263.4851554542,
          153467.90821702167,
          47933.64293347292,
          51431.786989216256,
          124280.00465345503,
          127800.953789094,
          134678.94912088572,
          121235.53873615785,
          105955.6957847284,
          91685.9686330062,
          156715.86348727718,
          56378.13686818544,
          91481.89027617988,
          136666.31887292868,
          62375.66407041879,
          120565.9997988218,
          78369.95291601664,
          99228.89930209068,
          88794.40719295625,
          157014.37513052614,
          134633.90526410364,
          128173.23202468862,
          112382.04156525304,
          65676.8877311392,
          77670.97413461789,
          187898.45858066363,
          3477.778921576712,
          92502.51490008336,
          159838.25924269424,
          131344.40261056746,
          168316.15167329123,
          82068.42815574183,
          54793.17438026195,
          83729.29240146292,
          38388.25436003915,
          116832.96929149875,
          -13618.344216647964,
          72049.33000052,
          112735.46526736398,
          53872.315529964086,
          76680.56726824967,
          203292.8887271254,
          68976.05940026899,
          145325.71400225765,
          103147.09838548032,
          -19941.37921075904,
          81946.08396837207,
          108695.53746399548,
          64161.98135689261,
          139615.74828307942,
          101167.49954070464,
          52905.0457931736,
          50937.31285244234,
          206930.3059634518,
          92200.42556864924,
          87646.78886591338,
          42976.9287727991,
          192824.68168991568,
          -35835.56970377054,
          78883.5893514462,
          170364.17656674556,
          134545.28069117182,
          79897.30473296256,
          147299.70498321566,
          71992.83914375836,
          80991.77833630308,
          126407.62581105206,
          52079.63540869101,
          159129.68524784475,
          100579.01723776844,
          114709.93064416685,
          86310.37883319994,
          92591.63325703947,
          110778.96004243044,
          60933.10938886332,
          82804.24732076317,
          98073.6528837094,
          44536.393574240654,
          20281.20180212015,
          88295.10551412198,
          49968.99796333069,
          87197.0424541639,
          56190.49351346944,
          52607.691596698525,
          125138.99237590824,
          105470.01185701834,
          80537.33190789359,
          23897.76541976226,
          111897.33309342824,
          86997.4853722492,
          140165.2172716874,
          34120.52929624308,
          58096.14120648571,
          172947.3907169659,
          128327.7566852058,
          79165.3577674566,
          134630.19714695675,
          158195.0490368661,
          91022.16361412632,
          146270.76676586267,
          117979.76341533483,
          35222.257575637086,
          79874.78153794594,
          143604.63586432522,
          96521.39045813064,
          50669.15256359067,
          128562.94764653512,
          37864.16688899727,
          152527.84100574022,
          39148.358126612846,
          74747.2001218437,
          158528.78992352504,
          63492.933155993975,
          53824.23290557551,
          154720.8057774516,
          88179.65889294827,
          160326.7241604566,
          69560.26732426863,
          187174.3298049773,
          118667.0599422365,
          125989.86991854476,
          75072.28258175316,
          76074.91644626929,
          48827.93491029546,
          135071.29875136912,
          79018.02925013367,
          73865.1071049347,
          85870.00545287019,
          77869.6321933936,
          127648.8442156222,
          -9560.489775146983,
          117930.71017133664,
          141201.40064600875,
          122611.37529330664,
          121521.52922712183,
          135601.3815164626,
          70473.08831956051,
          86744.6303495806,
          55569.55483153686,
          101671.72076034406,
          59209.81906586259,
          156779.93470499,
          72321.15039469156,
          57746.7569093881,
          140110.25018828132,
          54510.33768681501,
          70092.63616024419,
          102621.43443956078,
          105634.61442349914,
          82429.60201162205,
          133540.58516697615,
          99702.29581809769,
          50079.72254485945,
          119577.50436610298,
          30026.667516843227,
          142813.6356881346,
          110850.8170791954,
          133926.09040438372,
          75026.01655204725,
          172793.49572075327,
          81165.29549886416,
          99139.28167723988,
          97424.36607896212,
          63021.3795440972,
          82446.10367636321,
          192852.63868694435,
          -2979.5636364713864,
          1545.1370319741254,
          75230.1795662654,
          145988.55213327697,
          138678.47975638064,
          162422.41524672008,
          58160.18516615469,
          182670.20045020408,
          107446.46131093614,
          109190.34852245275,
          147221.81534779683,
          76854.82625795783,
          131710.12302383542,
          167276.46686785782,
          165527.79583124816,
          137464.01057640993,
          97467.8282153146,
          29217.10853144005,
          71085.16310599758,
          1753.007255698889,
          103941.40819539406,
          74957.33781425649,
          154457.16696215217,
          77125.71511285947,
          153798.35291283828,
          146397.9817111023,
          221585.17665409343,
          85830.12961055736,
          72871.2744202075,
          128493.57982705212,
          86818.58332809465,
          14876.152861977142,
          52549.066702669465,
          90077.24041547449,
          165210.43390521692,
          118075.86650705512,
          87121.28914757783,
          171873.80793259066,
          151605.01448705024,
          103954.8656525298,
          127023.03558252486,
          43477.33591206971,
          72355.64085110254,
          72049.35748448595,
          64483.74600630667,
          91105.39961847223,
          122976.47275290285,
          7317.916906595172,
          183755.54523822825,
          81840.48669058978,
          156662.9213999873,
          136912.8585572695,
          83329.35474195672,
          75589.29554945987,
          81570.70998248128,
          8866.539566255757,
          84031.71955571156,
          148277.24512071224,
          89058.35846289061,
          138857.40621042848,
          103701.16589154444,
          70557.69037025777,
          62548.7557623477,
          81288.49021134284,
          127505.66034449548,
          76553.51233816268,
          186780.80318329905,
          169220.6202331737,
          105914.61459945267,
          91946.47990025958,
          105979.99071793703,
          32528.99860701023,
          50736.13146712343,
          42532.29739424175,
          89601.51172699204,
          79117.82830201404,
          170742.59866545838,
          170965.60833946086,
          126044.15847924988,
          74283.19632452518,
          52468.9526042914,
          98120.40859764173,
          93665.66758042305,
          85171.34762605336,
          65027.33444202248,
          168480.70136599807,
          112800.487392533,
          82528.06997606429,
          41940.80191869009,
          15110.763923042134,
          162971.878933934,
          181853.85516287215,
          122175.06840338776,
          133290.56398339703,
          233154.8581811134,
          105614.718988284,
          162213.10993284345,
          91678.90402726553,
          76209.63641826624,
          154415.07478839674,
          93667.59636103484,
          50303.51313772055,
          36834.555136397226,
          123742.05263357656,
          96329.58148905863,
          63429.54941769717,
          81383.16305349839,
          158007.47913041298,
          111853.26003648707,
          29964.6676052939,
          182185.720767114,
          170089.33429617193,
          112484.40574257146,
          74507.86562282967,
          133840.6984021901,
          30613.85002356308,
          -471.14835740400304,
          69979.13169764628,
          74864.04762037257,
          157851.28853092328,
          99173.7244184022,
          33869.84547296312,
          101922.03517960657,
          75735.8067541011,
          51562.18411750984,
          94926.04797586404,
          60279.58222888988,
          129873.68274145974,
          110318.2347661587,
          181196.0190760269,
          157342.6971051356,
          102982.0290153832,
          100120.8508311025,
          132220.24057203947,
          110909.31043015647,
          130995.62469742012,
          114193.75156131868,
          87289.1595680887,
          116716.6667139872,
          94507.1955259924,
          146873.17866486538,
          71290.5281587447,
          79223.92351302446,
          233137.12629464403,
          155142.24695286478,
          25052.42855502569,
          110172.78569080672,
          58577.70558200111,
          198601.13753927223,
          49545.69919366751,
          76606.34150017201,
          98529.33191640888,
          132910.37204424336,
          143507.57278607457,
          110864.370899925,
          50418.79993917318,
          115224.21818017552,
          110300.5884867632,
          23943.74548058727,
          111342.44890842016,
          69461.50629571479,
          98626.35290000794,
          141409.68450315628,
          177376.3649680356,
          120479.51839292885,
          90768.71439826544,
          117101.02986026368,
          134043.5105063396,
          138972.72719809835,
          140160.85876851066,
          115472.23097358173,
          27718.712357508542,
          104882.0444375402,
          113728.53725036696,
          85667.47304671863,
          119482.77283103726,
          127330.3499147625,
          204629.3169547008,
          119107.34975475293,
          121203.24432737476,
          151360.38614251738,
          80376.52910934531,
          17501.81536456413,
          84744.4017535092,
          42977.88940706581,
          89454.34826583862,
          29811.2294043584,
          136835.58562383003,
          151283.4389697932,
          76457.00976552695,
          60426.685719868525,
          134871.9691101795,
          127271.77668995036,
          197241.58989023857,
          151834.27481084722,
          105357.53640006644,
          146103.36689626524,
          171539.0067141498,
          46243.79084447332,
          161056.6808549655,
          120577.15537686716,
          124251.31728482163,
          104527.61793930017,
          206424.01481553068,
          40274.61581220792,
          119070.0294878521,
          59205.410090477664,
          80050.2091324245,
          74170.01349515546,
          112479.67600873492,
          49397.95652205517,
          107024.68034970175,
          39372.73997482137,
          91390.70181653636,
          158480.05489437535,
          128518.87532205298,
          63812.52821194079,
          100621.97561883276,
          26887.057999093697,
          169459.5719684918,
          19663.820925767708,
          148686.44657475382,
          112384.23436380835,
          32495.972232721542,
          110585.7775095549,
          166826.73851750925,
          132824.44081219303,
          98245.28894969016,
          166414.5573285502,
          116268.5938298492,
          121866.2135918066
         ],
         "yaxis": "y"
        },
        {
         "alignmentgroup": "True",
         "customdata": [
          [
           2000
          ],
          [
           2000
          ],
          [
           2000
          ],
          [
           2000
          ],
          [
           2000
          ],
          [
           2000
          ],
          [
           2000
          ],
          [
           2000
          ],
          [
           2000
          ],
          [
           2000
          ],
          [
           2000
          ],
          [
           2000
          ],
          [
           2000
          ],
          [
           2000
          ],
          [
           2000
          ],
          [
           2000
          ],
          [
           2000
          ],
          [
           2000
          ],
          [
           2000
          ],
          [
           2000
          ],
          [
           2000
          ],
          [
           2000
          ],
          [
           2000
          ],
          [
           2001
          ],
          [
           2001
          ],
          [
           2001
          ],
          [
           2001
          ],
          [
           2001
          ],
          [
           2001
          ],
          [
           2001
          ],
          [
           2001
          ],
          [
           2001
          ],
          [
           2001
          ],
          [
           2001
          ],
          [
           2001
          ],
          [
           2001
          ],
          [
           2001
          ],
          [
           2001
          ],
          [
           2001
          ],
          [
           2001
          ],
          [
           2001
          ],
          [
           2001
          ],
          [
           2001
          ],
          [
           2001
          ],
          [
           2001
          ],
          [
           2001
          ],
          [
           2001
          ],
          [
           2001
          ],
          [
           2001
          ],
          [
           2001
          ],
          [
           2001
          ],
          [
           2001
          ],
          [
           2002
          ],
          [
           2002
          ],
          [
           2002
          ],
          [
           2002
          ],
          [
           2002
          ],
          [
           2002
          ],
          [
           2002
          ],
          [
           2002
          ],
          [
           2002
          ],
          [
           2002
          ],
          [
           2002
          ],
          [
           2002
          ],
          [
           2002
          ],
          [
           2002
          ],
          [
           2002
          ],
          [
           2002
          ],
          [
           2002
          ],
          [
           2002
          ],
          [
           2002
          ],
          [
           2002
          ],
          [
           2002
          ],
          [
           2002
          ],
          [
           2002
          ],
          [
           2002
          ],
          [
           2002
          ],
          [
           2002
          ],
          [
           2002
          ],
          [
           2002
          ],
          [
           2002
          ],
          [
           2003
          ],
          [
           2003
          ],
          [
           2003
          ],
          [
           2003
          ],
          [
           2003
          ],
          [
           2003
          ],
          [
           2003
          ],
          [
           2003
          ],
          [
           2003
          ],
          [
           2003
          ],
          [
           2003
          ],
          [
           2003
          ],
          [
           2003
          ],
          [
           2003
          ],
          [
           2003
          ],
          [
           2003
          ],
          [
           2003
          ],
          [
           2003
          ],
          [
           2003
          ],
          [
           2003
          ],
          [
           2004
          ],
          [
           2004
          ],
          [
           2004
          ],
          [
           2004
          ],
          [
           2004
          ],
          [
           2004
          ],
          [
           2004
          ],
          [
           2004
          ],
          [
           2004
          ],
          [
           2004
          ],
          [
           2004
          ],
          [
           2004
          ],
          [
           2004
          ],
          [
           2004
          ],
          [
           2004
          ],
          [
           2004
          ],
          [
           2005
          ],
          [
           2005
          ],
          [
           2005
          ],
          [
           2005
          ],
          [
           2005
          ],
          [
           2005
          ],
          [
           2005
          ],
          [
           2005
          ],
          [
           2005
          ],
          [
           2005
          ],
          [
           2005
          ],
          [
           2005
          ],
          [
           2005
          ],
          [
           2005
          ],
          [
           2005
          ],
          [
           2005
          ],
          [
           2005
          ],
          [
           2005
          ],
          [
           2005
          ],
          [
           2005
          ],
          [
           2005
          ],
          [
           2005
          ],
          [
           2005
          ],
          [
           2005
          ],
          [
           2005
          ],
          [
           2006
          ],
          [
           2006
          ],
          [
           2006
          ],
          [
           2006
          ],
          [
           2006
          ],
          [
           2006
          ],
          [
           2006
          ],
          [
           2006
          ],
          [
           2006
          ],
          [
           2006
          ],
          [
           2006
          ],
          [
           2006
          ],
          [
           2006
          ],
          [
           2006
          ],
          [
           2006
          ],
          [
           2006
          ],
          [
           2006
          ],
          [
           2006
          ],
          [
           2006
          ],
          [
           2006
          ],
          [
           2006
          ],
          [
           2006
          ],
          [
           2006
          ],
          [
           2006
          ],
          [
           2006
          ],
          [
           2007
          ],
          [
           2007
          ],
          [
           2007
          ],
          [
           2007
          ],
          [
           2007
          ],
          [
           2007
          ],
          [
           2007
          ],
          [
           2007
          ],
          [
           2007
          ],
          [
           2007
          ],
          [
           2007
          ],
          [
           2007
          ],
          [
           2007
          ],
          [
           2007
          ],
          [
           2007
          ],
          [
           2007
          ],
          [
           2007
          ],
          [
           2008
          ],
          [
           2008
          ],
          [
           2008
          ],
          [
           2008
          ],
          [
           2008
          ],
          [
           2008
          ],
          [
           2008
          ],
          [
           2008
          ],
          [
           2008
          ],
          [
           2008
          ],
          [
           2008
          ],
          [
           2008
          ],
          [
           2008
          ],
          [
           2008
          ],
          [
           2008
          ],
          [
           2008
          ],
          [
           2008
          ],
          [
           2008
          ],
          [
           2008
          ],
          [
           2009
          ],
          [
           2009
          ],
          [
           2009
          ],
          [
           2009
          ],
          [
           2009
          ],
          [
           2009
          ],
          [
           2009
          ],
          [
           2009
          ],
          [
           2009
          ],
          [
           2009
          ],
          [
           2009
          ],
          [
           2009
          ],
          [
           2009
          ],
          [
           2009
          ],
          [
           2009
          ],
          [
           2009
          ],
          [
           2009
          ],
          [
           2009
          ],
          [
           2009
          ],
          [
           2010
          ],
          [
           2010
          ],
          [
           2010
          ],
          [
           2010
          ],
          [
           2010
          ],
          [
           2010
          ],
          [
           2010
          ],
          [
           2010
          ],
          [
           2010
          ],
          [
           2010
          ],
          [
           2010
          ],
          [
           2010
          ],
          [
           2010
          ],
          [
           2010
          ],
          [
           2010
          ],
          [
           2010
          ],
          [
           2010
          ],
          [
           2010
          ],
          [
           2010
          ],
          [
           2011
          ],
          [
           2011
          ],
          [
           2011
          ],
          [
           2011
          ],
          [
           2011
          ],
          [
           2011
          ],
          [
           2011
          ],
          [
           2011
          ],
          [
           2011
          ],
          [
           2011
          ],
          [
           2011
          ],
          [
           2011
          ],
          [
           2011
          ],
          [
           2011
          ],
          [
           2011
          ],
          [
           2011
          ],
          [
           2011
          ],
          [
           2011
          ],
          [
           2011
          ],
          [
           2011
          ],
          [
           2012
          ],
          [
           2012
          ],
          [
           2012
          ],
          [
           2012
          ],
          [
           2012
          ],
          [
           2012
          ],
          [
           2012
          ],
          [
           2012
          ],
          [
           2012
          ],
          [
           2013
          ],
          [
           2013
          ],
          [
           2013
          ],
          [
           2013
          ],
          [
           2013
          ],
          [
           2013
          ],
          [
           2013
          ],
          [
           2013
          ],
          [
           2013
          ],
          [
           2013
          ],
          [
           2013
          ],
          [
           2013
          ],
          [
           2013
          ],
          [
           2013
          ],
          [
           2014
          ],
          [
           2014
          ],
          [
           2014
          ],
          [
           2014
          ],
          [
           2014
          ],
          [
           2014
          ],
          [
           2014
          ],
          [
           2014
          ],
          [
           2014
          ],
          [
           2014
          ],
          [
           2014
          ],
          [
           2014
          ],
          [
           2014
          ],
          [
           2014
          ],
          [
           2014
          ],
          [
           2014
          ],
          [
           2014
          ],
          [
           2014
          ],
          [
           2014
          ],
          [
           2014
          ],
          [
           2014
          ],
          [
           2014
          ],
          [
           2014
          ],
          [
           2014
          ],
          [
           2014
          ],
          [
           2015
          ],
          [
           2015
          ],
          [
           2015
          ],
          [
           2015
          ],
          [
           2015
          ],
          [
           2015
          ],
          [
           2015
          ],
          [
           2015
          ],
          [
           2015
          ],
          [
           2015
          ],
          [
           2015
          ],
          [
           2015
          ],
          [
           2015
          ],
          [
           2015
          ],
          [
           2015
          ],
          [
           2015
          ],
          [
           2015
          ],
          [
           2015
          ],
          [
           2015
          ],
          [
           2015
          ],
          [
           2015
          ],
          [
           2015
          ],
          [
           2015
          ],
          [
           2015
          ],
          [
           2015
          ],
          [
           2015
          ],
          [
           2016
          ],
          [
           2016
          ],
          [
           2016
          ],
          [
           2016
          ],
          [
           2016
          ],
          [
           2016
          ],
          [
           2016
          ],
          [
           2016
          ],
          [
           2016
          ],
          [
           2016
          ],
          [
           2016
          ],
          [
           2016
          ],
          [
           2016
          ],
          [
           2016
          ],
          [
           2016
          ],
          [
           2016
          ],
          [
           2016
          ],
          [
           2016
          ],
          [
           2016
          ],
          [
           2017
          ],
          [
           2017
          ],
          [
           2017
          ],
          [
           2017
          ],
          [
           2017
          ],
          [
           2017
          ],
          [
           2017
          ],
          [
           2017
          ],
          [
           2017
          ],
          [
           2017
          ],
          [
           2017
          ],
          [
           2017
          ],
          [
           2017
          ],
          [
           2017
          ],
          [
           2017
          ],
          [
           2017
          ],
          [
           2017
          ],
          [
           2017
          ],
          [
           2017
          ],
          [
           2017
          ],
          [
           2018
          ],
          [
           2018
          ],
          [
           2018
          ],
          [
           2018
          ],
          [
           2018
          ],
          [
           2018
          ],
          [
           2018
          ],
          [
           2018
          ],
          [
           2018
          ],
          [
           2018
          ],
          [
           2018
          ],
          [
           2018
          ],
          [
           2018
          ],
          [
           2018
          ],
          [
           2018
          ],
          [
           2018
          ],
          [
           2018
          ],
          [
           2018
          ],
          [
           2018
          ],
          [
           2018
          ],
          [
           2018
          ],
          [
           2018
          ],
          [
           2018
          ],
          [
           2018
          ],
          [
           2018
          ],
          [
           2018
          ],
          [
           2018
          ],
          [
           2018
          ],
          [
           2018
          ],
          [
           2018
          ],
          [
           2019
          ],
          [
           2019
          ],
          [
           2019
          ],
          [
           2019
          ],
          [
           2019
          ],
          [
           2019
          ],
          [
           2019
          ],
          [
           2019
          ],
          [
           2019
          ],
          [
           2019
          ],
          [
           2019
          ],
          [
           2019
          ],
          [
           2019
          ],
          [
           2019
          ],
          [
           2019
          ],
          [
           2019
          ],
          [
           2019
          ],
          [
           2019
          ],
          [
           2019
          ],
          [
           2019
          ],
          [
           2019
          ],
          [
           2019
          ],
          [
           2019
          ],
          [
           2019
          ],
          [
           2019
          ],
          [
           2019
          ],
          [
           2019
          ],
          [
           2020
          ],
          [
           2020
          ],
          [
           2020
          ],
          [
           2020
          ],
          [
           2020
          ],
          [
           2020
          ],
          [
           2020
          ],
          [
           2020
          ],
          [
           2020
          ],
          [
           2020
          ],
          [
           2020
          ],
          [
           2020
          ],
          [
           2020
          ],
          [
           2020
          ],
          [
           2020
          ],
          [
           2020
          ],
          [
           2020
          ],
          [
           2020
          ],
          [
           2020
          ],
          [
           2020
          ],
          [
           2020
          ],
          [
           2020
          ],
          [
           2020
          ],
          [
           2021
          ],
          [
           2021
          ],
          [
           2021
          ],
          [
           2021
          ],
          [
           2021
          ],
          [
           2021
          ],
          [
           2021
          ],
          [
           2021
          ],
          [
           2021
          ],
          [
           2021
          ],
          [
           2021
          ],
          [
           2021
          ],
          [
           2021
          ],
          [
           2021
          ],
          [
           2021
          ],
          [
           2021
          ],
          [
           2021
          ],
          [
           2022
          ],
          [
           2022
          ],
          [
           2022
          ],
          [
           2022
          ],
          [
           2022
          ],
          [
           2022
          ],
          [
           2022
          ],
          [
           2022
          ],
          [
           2022
          ],
          [
           2022
          ],
          [
           2022
          ],
          [
           2022
          ],
          [
           2022
          ],
          [
           2022
          ],
          [
           2022
          ],
          [
           2022
          ],
          [
           2022
          ],
          [
           2022
          ],
          [
           2022
          ],
          [
           2022
          ],
          [
           2022
          ],
          [
           2022
          ],
          [
           2022
          ],
          [
           2022
          ],
          [
           2022
          ]
         ],
         "hovertemplate": "Setor=Transporte<br>Continente=%{x}<br>Emissões_CO2 (toneladas)=%{y}<br>Ano=%{customdata[0]}<extra></extra>",
         "legendgroup": "Transporte",
         "marker": {
          "color": "#EF553B",
          "pattern": {
           "shape": ""
          }
         },
         "name": "Transporte",
         "offsetgroup": "Transporte",
         "orientation": "v",
         "showlegend": true,
         "textposition": "auto",
         "type": "bar",
         "x": [
          "América do Sul",
          "Europa",
          "América do Norte",
          "América do Sul",
          "América do Sul",
          "Oceania",
          "Oceania",
          "América do Sul",
          "Ásia",
          "Europa",
          "Ásia",
          "Ásia",
          "Ásia",
          "Ásia",
          "América do Norte",
          "África",
          "América do Sul",
          "América do Norte",
          "África",
          "Oceania",
          "África",
          "América do Sul",
          "Ásia",
          "América do Norte",
          "África",
          "África",
          "Ásia",
          "África",
          "África",
          "América do Norte",
          "Ásia",
          "América do Sul",
          "América do Norte",
          "Ásia",
          "América do Norte",
          "Oceania",
          "Ásia",
          "Ásia",
          "Ásia",
          "Europa",
          "Europa",
          "Europa",
          "América do Norte",
          "América do Norte",
          "Ásia",
          "América do Sul",
          "África",
          "América do Sul",
          "Oceania",
          "Europa",
          "América do Norte",
          "Oceania",
          "Ásia",
          "África",
          "Ásia",
          "Ásia",
          "África",
          "Europa",
          "América do Sul",
          "Oceania",
          "Oceania",
          "América do Sul",
          "América do Sul",
          "América do Sul",
          "Europa",
          "América do Norte",
          "Oceania",
          "América do Norte",
          "Oceania",
          "América do Norte",
          "América do Norte",
          "América do Norte",
          "Ásia",
          "Europa",
          "Ásia",
          "Oceania",
          "Oceania",
          "Oceania",
          "América do Sul",
          "América do Norte",
          "América do Norte",
          "África",
          "América do Sul",
          "África",
          "Europa",
          "América do Norte",
          "América do Sul",
          "América do Norte",
          "Ásia",
          "África",
          "América do Sul",
          "África",
          "Oceania",
          "América do Norte",
          "Europa",
          "Ásia",
          "Europa",
          "África",
          "Europa",
          "Ásia",
          "Oceania",
          "África",
          "América do Norte",
          "Europa",
          "Oceania",
          "América do Sul",
          "Ásia",
          "Ásia",
          "África",
          "África",
          "América do Norte",
          "Ásia",
          "África",
          "Oceania",
          "Oceania",
          "Europa",
          "Oceania",
          "Oceania",
          "Oceania",
          "Ásia",
          "Europa",
          "Oceania",
          "África",
          "América do Sul",
          "Oceania",
          "Oceania",
          "América do Norte",
          "América do Sul",
          "Oceania",
          "Oceania",
          "Ásia",
          "América do Sul",
          "África",
          "África",
          "África",
          "Oceania",
          "América do Sul",
          "Oceania",
          "Oceania",
          "Ásia",
          "América do Norte",
          "América do Norte",
          "Europa",
          "Europa",
          "Ásia",
          "Ásia",
          "América do Sul",
          "Europa",
          "Europa",
          "América do Sul",
          "América do Norte",
          "Ásia",
          "América do Norte",
          "Ásia",
          "América do Sul",
          "América do Norte",
          "Ásia",
          "América do Norte",
          "América do Sul",
          "Oceania",
          "África",
          "Ásia",
          "Europa",
          "Europa",
          "Ásia",
          "América do Sul",
          "América do Sul",
          "América do Sul",
          "África",
          "Oceania",
          "América do Norte",
          "Europa",
          "América do Norte",
          "Ásia",
          "Oceania",
          "América do Sul",
          "Ásia",
          "Oceania",
          "Ásia",
          "América do Sul",
          "Oceania",
          "América do Norte",
          "Ásia",
          "África",
          "Oceania",
          "América do Norte",
          "Europa",
          "Europa",
          "América do Sul",
          "Ásia",
          "África",
          "América do Sul",
          "África",
          "Oceania",
          "Europa",
          "Ásia",
          "América do Sul",
          "África",
          "Europa",
          "África",
          "América do Sul",
          "Europa",
          "Europa",
          "América do Norte",
          "Oceania",
          "Europa",
          "África",
          "Ásia",
          "América do Sul",
          "América do Sul",
          "América do Sul",
          "Ásia",
          "Ásia",
          "África",
          "África",
          "América do Sul",
          "Oceania",
          "Europa",
          "América do Norte",
          "Ásia",
          "América do Sul",
          "América do Sul",
          "África",
          "África",
          "Ásia",
          "América do Norte",
          "Europa",
          "América do Sul",
          "América do Sul",
          "Oceania",
          "América do Sul",
          "Oceania",
          "Oceania",
          "África",
          "Oceania",
          "Ásia",
          "América do Sul",
          "Ásia",
          "América do Sul",
          "Ásia",
          "América do Sul",
          "Europa",
          "África",
          "América do Norte",
          "América do Norte",
          "América do Sul",
          "Oceania",
          "Ásia",
          "Europa",
          "América do Norte",
          "América do Norte",
          "África",
          "América do Norte",
          "Europa",
          "América do Norte",
          "Europa",
          "Ásia",
          "Oceania",
          "África",
          "Ásia",
          "Oceania",
          "Europa",
          "Europa",
          "África",
          "América do Norte",
          "Ásia",
          "África",
          "Ásia",
          "América do Norte",
          "América do Norte",
          "América do Norte",
          "Ásia",
          "Oceania",
          "América do Sul",
          "Oceania",
          "América do Norte",
          "Europa",
          "Oceania",
          "Oceania",
          "Europa",
          "Europa",
          "Oceania",
          "Ásia",
          "Ásia",
          "Europa",
          "América do Norte",
          "América do Norte",
          "Ásia",
          "América do Norte",
          "América do Sul",
          "América do Sul",
          "Europa",
          "África",
          "América do Sul",
          "Oceania",
          "Oceania",
          "Oceania",
          "África",
          "Ásia",
          "Oceania",
          "Oceania",
          "América do Sul",
          "Europa",
          "África",
          "Europa",
          "América do Sul",
          "América do Sul",
          "América do Norte",
          "Oceania",
          "África",
          "Europa",
          "América do Norte",
          "América do Sul",
          "América do Norte",
          "Ásia",
          "África",
          "América do Norte",
          "América do Sul",
          "América do Norte",
          "África",
          "América do Sul",
          "Ásia",
          "Oceania",
          "Europa",
          "Ásia",
          "Ásia",
          "América do Norte",
          "Ásia",
          "América do Norte",
          "Oceania",
          "América do Sul",
          "América do Norte",
          "África",
          "Europa",
          "Ásia",
          "Ásia",
          "América do Norte",
          "América do Sul",
          "África",
          "África",
          "Europa",
          "Oceania",
          "África",
          "África",
          "Ásia",
          "América do Norte",
          "Europa",
          "Ásia",
          "América do Norte",
          "América do Norte",
          "Europa",
          "América do Norte",
          "Ásia",
          "África",
          "Oceania",
          "América do Sul",
          "Europa",
          "Europa",
          "Oceania",
          "Ásia",
          "América do Norte",
          "África",
          "América do Norte",
          "Oceania",
          "América do Sul",
          "Oceania",
          "África",
          "Ásia",
          "América do Sul",
          "Ásia",
          "Oceania",
          "África",
          "África",
          "Oceania",
          "Europa",
          "Ásia",
          "Oceania",
          "Europa",
          "África",
          "América do Norte",
          "América do Norte",
          "Europa",
          "Europa",
          "Oceania",
          "África",
          "Oceania",
          "Europa",
          "Europa",
          "Europa",
          "Oceania",
          "Europa",
          "Oceania",
          "Ásia",
          "América do Sul",
          "Europa",
          "Europa",
          "Ásia",
          "Oceania",
          "América do Norte",
          "América do Norte",
          "América do Sul",
          "América do Norte",
          "Ásia",
          "África",
          "América do Sul",
          "América do Sul",
          "América do Sul",
          "Ásia",
          "América do Sul",
          "África",
          "Oceania",
          "Europa",
          "África",
          "Ásia",
          "Europa",
          "Oceania",
          "Oceania",
          "África",
          "Ásia",
          "África",
          "Europa",
          "África",
          "América do Sul",
          "América do Sul",
          "Oceania",
          "Europa",
          "Oceania",
          "Oceania",
          "América do Sul",
          "América do Norte",
          "África",
          "América do Norte",
          "Europa",
          "Europa",
          "Europa",
          "América do Sul",
          "Europa",
          "Ásia",
          "Oceania",
          "América do Sul",
          "África",
          "Europa",
          "América do Sul",
          "Europa",
          "Oceania",
          "América do Norte",
          "Europa",
          "América do Sul",
          "África",
          "América do Sul",
          "América do Norte",
          "Europa",
          "Oceania",
          "Oceania",
          "Europa",
          "Europa",
          "América do Norte",
          "Europa",
          "África",
          "Europa",
          "Oceania",
          "África",
          "Ásia",
          "América do Norte",
          "América do Norte",
          "África",
          "América do Norte",
          "Oceania",
          "Oceania",
          "Oceania",
          "África",
          "Ásia",
          "Ásia",
          "América do Norte",
          "Ásia",
          "América do Norte",
          "Europa",
          "Ásia",
          "América do Sul",
          "Oceania",
          "Europa",
          "Ásia",
          "Ásia",
          "Oceania",
          "Europa",
          "Europa",
          "Oceania",
          "América do Sul",
          "Ásia",
          "Europa",
          "África",
          "Ásia",
          "América do Sul",
          "Oceania",
          "Ásia",
          "Europa"
         ],
         "xaxis": "x",
         "y": [
          62266.15225199682,
          125153.62850157116,
          171511.84542224958,
          140935.60934079633,
          38763.45738687271,
          67215.10250652276,
          75430.13414262212,
          115949.6614332804,
          80787.41744878754,
          104892.93287152331,
          158721.9349134553,
          174026.92943042077,
          91745.5533857853,
          136698.76716775208,
          105147.94759542332,
          53085.00887148104,
          101678.68824092374,
          134892.79825425686,
          27710.317343115472,
          145668.18603029454,
          93110.34883578954,
          84794.06911642963,
          29093.23600034496,
          99149.08848913792,
          36674.99482635604,
          182352.4903105089,
          68887.21272055407,
          132544.82987185812,
          72820.05291269306,
          133102.904715312,
          185454.4578165112,
          183905.3655303299,
          146942.23816180244,
          103480.1571738758,
          19006.92089661135,
          74625.71506882053,
          97397.96534254742,
          127172.58912744146,
          106980.87086806283,
          112933.21851464224,
          125529.3014357177,
          77359.37793814659,
          67747.43017112793,
          122430.74698007424,
          90833.29866252688,
          24121.070626662116,
          105703.30377319345,
          75120.95340966182,
          76391.97807711228,
          131826.0689965753,
          103817.89888523424,
          83697.65233066976,
          43654.93985643279,
          28346.275119905116,
          223592.94332325784,
          130211.12831817128,
          119867.4364443612,
          106784.23146547946,
          144865.11622370692,
          61353.03127057111,
          150573.08853835566,
          59115.81690207792,
          5965.305502215677,
          151098.3906771139,
          121126.6186464299,
          157467.1797721266,
          47020.26853334117,
          77870.04925201417,
          196953.3734398276,
          150861.56752204132,
          116332.94775085512,
          45373.13944232983,
          112686.83352221898,
          125226.00444445512,
          145898.18347584768,
          162669.54242819123,
          121948.7643206259,
          124989.89369957004,
          47685.84344133821,
          109885.2721821965,
          49758.68045293825,
          84707.45183435187,
          170119.76362652972,
          129460.30932009708,
          34505.39388801097,
          48969.65507156524,
          17140.667815012464,
          194803.2077370608,
          166847.3801085862,
          28837.606062029605,
          44889.79316934394,
          139752.05371083505,
          -7457.222460063378,
          64831.43039572767,
          29347.6174974218,
          115877.06017493272,
          65977.07629759623,
          89666.69155008493,
          120155.93794923862,
          101737.56063779948,
          127714.7626128731,
          38291.28148122875,
          65354.97120498941,
          114958.14775162624,
          130196.17229681608,
          74258.09697062994,
          159548.90331051592,
          116546.60488070072,
          184303.81210614787,
          15442.787235857148,
          139156.52276676885,
          144749.29447258473,
          83389.27967412074,
          105140.822095076,
          114797.54576362896,
          97525.65256823618,
          54397.85997474759,
          130006.00338300467,
          117938.25993989498,
          111707.76009766525,
          104091.5551901274,
          67232.31942398286,
          59417.88025569786,
          67983.34205223373,
          103188.21156054996,
          189637.07590094488,
          78095.5457150485,
          154190.09581639897,
          48879.61862568401,
          49663.32050195648,
          134524.30225004375,
          55107.69405173633,
          127323.616353958,
          108207.947912829,
          1380.061210254964,
          107971.8619911032,
          111981.06258540982,
          79949.45247146183,
          150857.92690605565,
          109752.57672441738,
          152994.49258891476,
          131150.1529281563,
          68215.39729351329,
          49999.04500183655,
          167946.90983481432,
          15735.999827251217,
          115399.91746660792,
          91308.90134315734,
          68127.30494138734,
          223950.9530180918,
          116684.44080614112,
          139046.37874059484,
          63853.53303110365,
          128038.21753822303,
          12614.153104272877,
          101404.33788570232,
          170439.29554053972,
          138556.21812998966,
          88126.39634673203,
          46828.35238020842,
          90809.18793838492,
          130410.46380124905,
          -7593.784066555178,
          122565.19624946816,
          159990.8708962647,
          139119.6805298872,
          167062.15003192384,
          98267.84852085638,
          64664.10172569461,
          134184.90391598342,
          116059.83619963536,
          142123.52658341802,
          97854.6081587812,
          149642.15614074853,
          40916.193687272425,
          165148.36710710396,
          114315.90991766594,
          127422.25525075952,
          111577.84235853158,
          144775.82486863245,
          94723.36339846956,
          151189.03072957855,
          21620.193811811376,
          77464.10865584646,
          108619.76360811312,
          46039.94000264986,
          162898.02728209586,
          84785.11271474561,
          -13282.39520513,
          69076.0512478426,
          93526.61727201456,
          76655.89218849786,
          56602.31553320344,
          584.9889919271227,
          164488.8539653204,
          38658.188755515366,
          109350.33356807427,
          193446.16808816823,
          134864.59823352584,
          153620.3475205391,
          71222.6604646832,
          77619.08603785995,
          -11262.161282187531,
          74615.44855584405,
          122881.4164026357,
          125576.68435392008,
          51211.975596235,
          36185.41112680416,
          154799.5569037911,
          125251.79709599938,
          138945.74892489714,
          176911.87660736695,
          52590.95003661942,
          68131.13224551533,
          149689.31704242373,
          103809.91446954529,
          150712.86466156764,
          117019.58433859376,
          120331.80336301184,
          117935.883732822,
          150521.110571,
          111817.08592811615,
          195602.40908424003,
          51216.295743248345,
          147778.63040713553,
          103567.42284444766,
          106234.52507449416,
          57161.12277639694,
          26323.15687656231,
          116402.33959341416,
          181737.95144816377,
          37441.71951572593,
          46290.23108310798,
          95534.43001725715,
          102267.26017962942,
          12626.69939496192,
          101478.2923765496,
          -77.66936097397411,
          143341.92479601098,
          156775.85316204664,
          83561.98367659982,
          59303.15802819213,
          12884.241898118358,
          151755.64953980426,
          81717.13445501913,
          14789.49388718816,
          98981.90530118506,
          145773.4937229983,
          117439.65773292768,
          177446.8166533626,
          93957.62920921334,
          147775.25590521685,
          192240.1452495332,
          75897.52368330234,
          145683.49882567328,
          164414.89592729614,
          47774.98505197105,
          141737.97133210284,
          77853.2367982959,
          68986.75160801805,
          46283.69196260491,
          69460.0425125932,
          63906.28592939462,
          124866.45073441198,
          3854.5435841506114,
          142110.99733262847,
          157614.9151629936,
          92202.00839732176,
          136612.9610832494,
          62446.65227248981,
          12559.573854113769,
          14602.232166298942,
          218895.0457120915,
          119058.21483689292,
          230279.3636175132,
          152463.56735764767,
          34277.9897624142,
          160520.54331769174,
          -1499.6647765045636,
          116392.18692951498,
          99397.34207509834,
          102748.86272601562,
          51270.30038563553,
          100959.65808740072,
          115317.3775902837,
          39629.700439667504,
          177918.25734596932,
          219897.30834436647,
          101964.84478789209,
          20923.523297349675,
          143186.53973396355,
          131336.00955024952,
          111554.60534007108,
          191971.9152645844,
          128466.99717994912,
          109024.02438236904,
          95482.81364055692,
          119778.64740838567,
          104693.75708890575,
          43959.91040693331,
          109873.95689786824,
          76194.5517583425,
          70076.70838060544,
          243561.72806525015,
          156688.46637409364,
          50468.22565240745,
          157269.31423786675,
          103045.53010081944,
          18677.118274494947,
          140788.02992546908,
          129277.65133946209,
          54450.0641230386,
          31168.91574457833,
          99852.62790169836,
          87931.46596732285,
          34459.70800698633,
          105471.76697280753,
          151438.76265599823,
          203475.7250791039,
          80020.09100928351,
          120432.42165230656,
          176042.1210028453,
          126038.46253565964,
          71028.95612358066,
          26985.831922407586,
          50299.70711850095,
          44684.54532923832,
          31338.81407445595,
          16221.03407277273,
          141711.18909524177,
          229070.573120957,
          94749.95889459824,
          212662.59684206668,
          16463.84963210205,
          46007.22073985555,
          126935.54410924776,
          156708.6447790793,
          70119.29423974377,
          50057.02005382987,
          44012.21282990041,
          78769.845670416,
          101573.33446505676,
          89695.51783850188,
          -33664.998335876095,
          82678.89349481522,
          194881.79840324708,
          52424.34504701872,
          119874.53865404303,
          68540.57964839143,
          165326.0615298753,
          72902.57564138029,
          121560.72077035566,
          110465.4127198824,
          153329.7061354653,
          118340.594498063,
          187025.0482346824,
          -9570.418172756836,
          111736.66766535724,
          111439.981725503,
          25878.11018886825,
          171539.43454947654,
          193501.2449728998,
          191437.50310693576,
          60030.84872502188,
          57155.857034382105,
          8104.44578613984,
          74976.08104710323,
          75863.8185053746,
          94194.7636199445,
          112734.56567553236,
          47431.82822700864,
          167504.59978677938,
          161434.79353785288,
          77727.07179142973,
          22624.06404242608,
          90738.26108909932,
          90870.13141397442,
          141188.70061996637,
          141978.5138038002,
          127622.48960659426,
          84150.97148953995,
          20530.449949761158,
          74694.94222137854,
          55267.86670297604,
          91629.38855410132,
          155145.11815484578,
          37374.04841460876,
          143990.60560067685,
          145626.34322340583,
          4011.180155597264,
          95413.10172009112,
          88773.69896153166,
          91885.40776891808,
          54516.63503143328,
          53821.56109926565,
          83907.36175885513,
          143442.84810456308,
          135632.5132218677,
          37409.77080957429,
          41438.4396664787,
          33757.57578916804,
          92944.4912523568,
          -5932.60147029013,
          62284.01303389263,
          32390.49924197675,
          38581.625406692845,
          61926.62453671795,
          135930.83067314015,
          120577.78179534644,
          191221.5521103072,
          81406.08119245003,
          21866.888322397743,
          137255.4501926014,
          54461.99530306168,
          89090.25976788148,
          89334.353020293,
          154325.00411026733,
          115798.73895338924,
          119299.81146034008,
          14756.705478643897,
          114465.16977617714,
          14535.247125673108,
          141900.10283777167,
          167061.2576427958,
          101617.84224186924,
          79732.78446845413,
          123151.14731244797,
          43472.55461385673,
          43546.79264291976,
          126518.58305170476,
          118366.4704468733,
          76393.21699663068,
          94158.13983918652,
          212334.08792829985,
          38341.49038535497,
          45185.09129897418,
          6041.1221897331125,
          76612.30502548155,
          33256.7279763814,
          61475.24413712886,
          37807.47217570845,
          98094.92436671269,
          103160.88291558783,
          17732.03542469586,
          102836.84884943324,
          35275.31915750398,
          86316.42205810384,
          93896.75617630091,
          87581.18553858512,
          22711.86154856412,
          101833.61288143064,
          77720.80956811151,
          144447.241904465,
          139881.36838452597,
          132196.3325355011,
          122827.67319222898,
          65352.18167271145,
          77995.40648780513,
          102286.44658986492,
          137908.31125259647,
          36279.46209282544,
          221320.78063281032,
          -1605.7943245784843,
          127840.39153848692,
          26675.436855742228,
          32911.846578327924,
          118418.74771133256,
          94439.67679841277,
          -45615.18172730401,
          108794.035768975,
          150022.3608081721,
          62088.19352540399,
          158648.57395095652,
          54509.53713827181,
          21962.223214622296,
          132750.27718609496,
          114982.2937119732,
          200734.4377181909,
          151941.6662815365,
          37743.948899595205,
          99605.22699312776,
          176440.76147962536,
          195619.7298124075,
          72621.04544432843,
          13569.699801926065,
          90898.76971344955,
          96056.48227756804,
          144643.00823889405,
          32916.03286499859,
          144472.67003559502,
          146126.18076864592,
          121997.25981706788,
          121979.3074382695,
          145404.2703406572,
          145223.17738064838,
          78153.57763114804
         ],
         "yaxis": "y"
        },
        {
         "alignmentgroup": "True",
         "customdata": [
          [
           2000
          ],
          [
           2000
          ],
          [
           2000
          ],
          [
           2000
          ],
          [
           2000
          ],
          [
           2000
          ],
          [
           2000
          ],
          [
           2000
          ],
          [
           2000
          ],
          [
           2000
          ],
          [
           2000
          ],
          [
           2000
          ],
          [
           2000
          ],
          [
           2000
          ],
          [
           2000
          ],
          [
           2000
          ],
          [
           2000
          ],
          [
           2000
          ],
          [
           2000
          ],
          [
           2000
          ],
          [
           2000
          ],
          [
           2000
          ],
          [
           2000
          ],
          [
           2001
          ],
          [
           2001
          ],
          [
           2001
          ],
          [
           2001
          ],
          [
           2001
          ],
          [
           2001
          ],
          [
           2001
          ],
          [
           2001
          ],
          [
           2001
          ],
          [
           2001
          ],
          [
           2001
          ],
          [
           2001
          ],
          [
           2001
          ],
          [
           2001
          ],
          [
           2001
          ],
          [
           2001
          ],
          [
           2001
          ],
          [
           2001
          ],
          [
           2001
          ],
          [
           2001
          ],
          [
           2001
          ],
          [
           2001
          ],
          [
           2001
          ],
          [
           2001
          ],
          [
           2001
          ],
          [
           2001
          ],
          [
           2002
          ],
          [
           2002
          ],
          [
           2002
          ],
          [
           2002
          ],
          [
           2002
          ],
          [
           2002
          ],
          [
           2002
          ],
          [
           2002
          ],
          [
           2002
          ],
          [
           2002
          ],
          [
           2002
          ],
          [
           2002
          ],
          [
           2002
          ],
          [
           2002
          ],
          [
           2002
          ],
          [
           2002
          ],
          [
           2002
          ],
          [
           2002
          ],
          [
           2003
          ],
          [
           2003
          ],
          [
           2003
          ],
          [
           2003
          ],
          [
           2003
          ],
          [
           2003
          ],
          [
           2003
          ],
          [
           2003
          ],
          [
           2003
          ],
          [
           2003
          ],
          [
           2003
          ],
          [
           2003
          ],
          [
           2003
          ],
          [
           2003
          ],
          [
           2003
          ],
          [
           2003
          ],
          [
           2003
          ],
          [
           2003
          ],
          [
           2003
          ],
          [
           2003
          ],
          [
           2003
          ],
          [
           2003
          ],
          [
           2003
          ],
          [
           2003
          ],
          [
           2003
          ],
          [
           2003
          ],
          [
           2004
          ],
          [
           2004
          ],
          [
           2004
          ],
          [
           2004
          ],
          [
           2004
          ],
          [
           2004
          ],
          [
           2004
          ],
          [
           2004
          ],
          [
           2004
          ],
          [
           2004
          ],
          [
           2004
          ],
          [
           2004
          ],
          [
           2004
          ],
          [
           2004
          ],
          [
           2004
          ],
          [
           2004
          ],
          [
           2004
          ],
          [
           2004
          ],
          [
           2005
          ],
          [
           2005
          ],
          [
           2005
          ],
          [
           2005
          ],
          [
           2005
          ],
          [
           2005
          ],
          [
           2005
          ],
          [
           2005
          ],
          [
           2005
          ],
          [
           2005
          ],
          [
           2005
          ],
          [
           2005
          ],
          [
           2005
          ],
          [
           2005
          ],
          [
           2005
          ],
          [
           2005
          ],
          [
           2005
          ],
          [
           2005
          ],
          [
           2005
          ],
          [
           2005
          ],
          [
           2005
          ],
          [
           2005
          ],
          [
           2005
          ],
          [
           2005
          ],
          [
           2005
          ],
          [
           2005
          ],
          [
           2005
          ],
          [
           2005
          ],
          [
           2005
          ],
          [
           2005
          ],
          [
           2005
          ],
          [
           2005
          ],
          [
           2005
          ],
          [
           2005
          ],
          [
           2005
          ],
          [
           2006
          ],
          [
           2006
          ],
          [
           2006
          ],
          [
           2006
          ],
          [
           2006
          ],
          [
           2006
          ],
          [
           2006
          ],
          [
           2006
          ],
          [
           2006
          ],
          [
           2006
          ],
          [
           2006
          ],
          [
           2006
          ],
          [
           2006
          ],
          [
           2006
          ],
          [
           2006
          ],
          [
           2006
          ],
          [
           2006
          ],
          [
           2006
          ],
          [
           2006
          ],
          [
           2006
          ],
          [
           2006
          ],
          [
           2006
          ],
          [
           2006
          ],
          [
           2006
          ],
          [
           2006
          ],
          [
           2006
          ],
          [
           2006
          ],
          [
           2006
          ],
          [
           2006
          ],
          [
           2006
          ],
          [
           2006
          ],
          [
           2006
          ],
          [
           2007
          ],
          [
           2007
          ],
          [
           2007
          ],
          [
           2007
          ],
          [
           2007
          ],
          [
           2007
          ],
          [
           2007
          ],
          [
           2007
          ],
          [
           2007
          ],
          [
           2007
          ],
          [
           2007
          ],
          [
           2007
          ],
          [
           2007
          ],
          [
           2007
          ],
          [
           2007
          ],
          [
           2007
          ],
          [
           2007
          ],
          [
           2007
          ],
          [
           2007
          ],
          [
           2007
          ],
          [
           2007
          ],
          [
           2008
          ],
          [
           2008
          ],
          [
           2008
          ],
          [
           2008
          ],
          [
           2008
          ],
          [
           2008
          ],
          [
           2008
          ],
          [
           2008
          ],
          [
           2008
          ],
          [
           2008
          ],
          [
           2008
          ],
          [
           2008
          ],
          [
           2008
          ],
          [
           2008
          ],
          [
           2009
          ],
          [
           2009
          ],
          [
           2009
          ],
          [
           2009
          ],
          [
           2009
          ],
          [
           2009
          ],
          [
           2009
          ],
          [
           2009
          ],
          [
           2009
          ],
          [
           2009
          ],
          [
           2009
          ],
          [
           2009
          ],
          [
           2009
          ],
          [
           2009
          ],
          [
           2009
          ],
          [
           2009
          ],
          [
           2009
          ],
          [
           2009
          ],
          [
           2009
          ],
          [
           2009
          ],
          [
           2009
          ],
          [
           2009
          ],
          [
           2009
          ],
          [
           2010
          ],
          [
           2010
          ],
          [
           2010
          ],
          [
           2010
          ],
          [
           2010
          ],
          [
           2010
          ],
          [
           2010
          ],
          [
           2010
          ],
          [
           2010
          ],
          [
           2010
          ],
          [
           2010
          ],
          [
           2010
          ],
          [
           2010
          ],
          [
           2010
          ],
          [
           2010
          ],
          [
           2010
          ],
          [
           2010
          ],
          [
           2010
          ],
          [
           2010
          ],
          [
           2010
          ],
          [
           2011
          ],
          [
           2011
          ],
          [
           2011
          ],
          [
           2011
          ],
          [
           2011
          ],
          [
           2011
          ],
          [
           2011
          ],
          [
           2011
          ],
          [
           2011
          ],
          [
           2011
          ],
          [
           2011
          ],
          [
           2011
          ],
          [
           2011
          ],
          [
           2011
          ],
          [
           2011
          ],
          [
           2011
          ],
          [
           2011
          ],
          [
           2011
          ],
          [
           2011
          ],
          [
           2011
          ],
          [
           2011
          ],
          [
           2011
          ],
          [
           2011
          ],
          [
           2011
          ],
          [
           2012
          ],
          [
           2012
          ],
          [
           2012
          ],
          [
           2012
          ],
          [
           2012
          ],
          [
           2012
          ],
          [
           2012
          ],
          [
           2012
          ],
          [
           2012
          ],
          [
           2012
          ],
          [
           2012
          ],
          [
           2012
          ],
          [
           2012
          ],
          [
           2012
          ],
          [
           2012
          ],
          [
           2012
          ],
          [
           2012
          ],
          [
           2012
          ],
          [
           2012
          ],
          [
           2013
          ],
          [
           2013
          ],
          [
           2013
          ],
          [
           2013
          ],
          [
           2013
          ],
          [
           2013
          ],
          [
           2013
          ],
          [
           2013
          ],
          [
           2013
          ],
          [
           2013
          ],
          [
           2013
          ],
          [
           2013
          ],
          [
           2013
          ],
          [
           2013
          ],
          [
           2013
          ],
          [
           2013
          ],
          [
           2013
          ],
          [
           2013
          ],
          [
           2013
          ],
          [
           2014
          ],
          [
           2014
          ],
          [
           2014
          ],
          [
           2014
          ],
          [
           2014
          ],
          [
           2014
          ],
          [
           2014
          ],
          [
           2014
          ],
          [
           2014
          ],
          [
           2014
          ],
          [
           2014
          ],
          [
           2014
          ],
          [
           2015
          ],
          [
           2015
          ],
          [
           2015
          ],
          [
           2015
          ],
          [
           2015
          ],
          [
           2015
          ],
          [
           2015
          ],
          [
           2015
          ],
          [
           2015
          ],
          [
           2015
          ],
          [
           2015
          ],
          [
           2015
          ],
          [
           2015
          ],
          [
           2015
          ],
          [
           2015
          ],
          [
           2015
          ],
          [
           2015
          ],
          [
           2015
          ],
          [
           2015
          ],
          [
           2015
          ],
          [
           2015
          ],
          [
           2015
          ],
          [
           2015
          ],
          [
           2015
          ],
          [
           2015
          ],
          [
           2015
          ],
          [
           2015
          ],
          [
           2016
          ],
          [
           2016
          ],
          [
           2016
          ],
          [
           2016
          ],
          [
           2016
          ],
          [
           2016
          ],
          [
           2016
          ],
          [
           2016
          ],
          [
           2016
          ],
          [
           2016
          ],
          [
           2016
          ],
          [
           2016
          ],
          [
           2016
          ],
          [
           2016
          ],
          [
           2016
          ],
          [
           2016
          ],
          [
           2016
          ],
          [
           2016
          ],
          [
           2016
          ],
          [
           2016
          ],
          [
           2017
          ],
          [
           2017
          ],
          [
           2017
          ],
          [
           2017
          ],
          [
           2017
          ],
          [
           2017
          ],
          [
           2017
          ],
          [
           2017
          ],
          [
           2017
          ],
          [
           2017
          ],
          [
           2017
          ],
          [
           2017
          ],
          [
           2017
          ],
          [
           2017
          ],
          [
           2017
          ],
          [
           2017
          ],
          [
           2017
          ],
          [
           2017
          ],
          [
           2017
          ],
          [
           2017
          ],
          [
           2017
          ],
          [
           2018
          ],
          [
           2018
          ],
          [
           2018
          ],
          [
           2018
          ],
          [
           2018
          ],
          [
           2018
          ],
          [
           2018
          ],
          [
           2018
          ],
          [
           2018
          ],
          [
           2018
          ],
          [
           2018
          ],
          [
           2018
          ],
          [
           2018
          ],
          [
           2018
          ],
          [
           2018
          ],
          [
           2018
          ],
          [
           2018
          ],
          [
           2018
          ],
          [
           2018
          ],
          [
           2018
          ],
          [
           2018
          ],
          [
           2018
          ],
          [
           2018
          ],
          [
           2018
          ],
          [
           2018
          ],
          [
           2018
          ],
          [
           2018
          ],
          [
           2019
          ],
          [
           2019
          ],
          [
           2019
          ],
          [
           2019
          ],
          [
           2019
          ],
          [
           2019
          ],
          [
           2019
          ],
          [
           2019
          ],
          [
           2019
          ],
          [
           2019
          ],
          [
           2019
          ],
          [
           2019
          ],
          [
           2019
          ],
          [
           2019
          ],
          [
           2019
          ],
          [
           2019
          ],
          [
           2019
          ],
          [
           2019
          ],
          [
           2020
          ],
          [
           2020
          ],
          [
           2020
          ],
          [
           2020
          ],
          [
           2020
          ],
          [
           2020
          ],
          [
           2020
          ],
          [
           2020
          ],
          [
           2020
          ],
          [
           2020
          ],
          [
           2020
          ],
          [
           2020
          ],
          [
           2020
          ],
          [
           2020
          ],
          [
           2020
          ],
          [
           2020
          ],
          [
           2020
          ],
          [
           2020
          ],
          [
           2020
          ],
          [
           2020
          ],
          [
           2020
          ],
          [
           2020
          ],
          [
           2020
          ],
          [
           2020
          ],
          [
           2020
          ],
          [
           2020
          ],
          [
           2020
          ],
          [
           2020
          ],
          [
           2020
          ],
          [
           2020
          ],
          [
           2020
          ],
          [
           2020
          ],
          [
           2021
          ],
          [
           2021
          ],
          [
           2021
          ],
          [
           2021
          ],
          [
           2021
          ],
          [
           2021
          ],
          [
           2021
          ],
          [
           2021
          ],
          [
           2021
          ],
          [
           2021
          ],
          [
           2021
          ],
          [
           2021
          ],
          [
           2021
          ],
          [
           2021
          ],
          [
           2021
          ],
          [
           2021
          ],
          [
           2021
          ],
          [
           2021
          ],
          [
           2021
          ],
          [
           2021
          ],
          [
           2021
          ],
          [
           2021
          ],
          [
           2021
          ],
          [
           2021
          ],
          [
           2021
          ],
          [
           2021
          ],
          [
           2021
          ],
          [
           2021
          ],
          [
           2022
          ],
          [
           2022
          ],
          [
           2022
          ],
          [
           2022
          ],
          [
           2022
          ],
          [
           2022
          ],
          [
           2022
          ],
          [
           2022
          ],
          [
           2022
          ],
          [
           2022
          ],
          [
           2022
          ],
          [
           2022
          ],
          [
           2022
          ],
          [
           2022
          ],
          [
           2022
          ],
          [
           2022
          ],
          [
           2022
          ]
         ],
         "hovertemplate": "Setor=Comercial<br>Continente=%{x}<br>Emissões_CO2 (toneladas)=%{y}<br>Ano=%{customdata[0]}<extra></extra>",
         "legendgroup": "Comercial",
         "marker": {
          "color": "#00cc96",
          "pattern": {
           "shape": ""
          }
         },
         "name": "Comercial",
         "offsetgroup": "Comercial",
         "orientation": "v",
         "showlegend": true,
         "textposition": "auto",
         "type": "bar",
         "x": [
          "África",
          "África",
          "Ásia",
          "Oceania",
          "Ásia",
          "Oceania",
          "Europa",
          "Europa",
          "África",
          "Ásia",
          "Europa",
          "África",
          "Oceania",
          "América do Norte",
          "América do Norte",
          "Ásia",
          "Ásia",
          "América do Norte",
          "América do Norte",
          "Oceania",
          "África",
          "Europa",
          "Oceania",
          "América do Norte",
          "América do Norte",
          "África",
          "América do Sul",
          "Europa",
          "Ásia",
          "América do Norte",
          "Ásia",
          "África",
          "Ásia",
          "Europa",
          "Ásia",
          "África",
          "Oceania",
          "América do Norte",
          "Europa",
          "Europa",
          "Ásia",
          "Oceania",
          "Europa",
          "Ásia",
          "América do Norte",
          "África",
          "América do Sul",
          "América do Norte",
          "Europa",
          "América do Norte",
          "África",
          "América do Norte",
          "América do Norte",
          "África",
          "África",
          "América do Sul",
          "Ásia",
          "Ásia",
          "América do Sul",
          "Ásia",
          "África",
          "África",
          "Ásia",
          "Europa",
          "África",
          "Ásia",
          "América do Norte",
          "África",
          "Ásia",
          "América do Norte",
          "Oceania",
          "América do Sul",
          "Oceania",
          "Oceania",
          "América do Sul",
          "América do Sul",
          "Oceania",
          "Europa",
          "África",
          "Ásia",
          "Oceania",
          "Ásia",
          "Ásia",
          "Oceania",
          "América do Sul",
          "Europa",
          "África",
          "América do Norte",
          "África",
          "Europa",
          "África",
          "América do Sul",
          "América do Norte",
          "América do Norte",
          "Ásia",
          "Oceania",
          "América do Sul",
          "América do Norte",
          "Ásia",
          "Europa",
          "América do Norte",
          "América do Norte",
          "Oceania",
          "América do Norte",
          "América do Sul",
          "Europa",
          "Ásia",
          "Ásia",
          "África",
          "África",
          "Europa",
          "Oceania",
          "África",
          "América do Sul",
          "América do Sul",
          "Europa",
          "América do Sul",
          "América do Sul",
          "Europa",
          "América do Norte",
          "América do Sul",
          "América do Norte",
          "África",
          "Oceania",
          "Ásia",
          "Oceania",
          "América do Sul",
          "Ásia",
          "África",
          "Europa",
          "América do Sul",
          "América do Norte",
          "Oceania",
          "América do Sul",
          "África",
          "Oceania",
          "Europa",
          "Ásia",
          "América do Norte",
          "Ásia",
          "Europa",
          "América do Sul",
          "Ásia",
          "Europa",
          "Oceania",
          "Oceania",
          "América do Norte",
          "Oceania",
          "Europa",
          "América do Norte",
          "África",
          "América do Sul",
          "América do Norte",
          "América do Norte",
          "Oceania",
          "América do Sul",
          "África",
          "Oceania",
          "África",
          "América do Norte",
          "América do Sul",
          "América do Norte",
          "Europa",
          "Europa",
          "África",
          "África",
          "América do Norte",
          "Ásia",
          "África",
          "Oceania",
          "América do Sul",
          "Europa",
          "América do Norte",
          "África",
          "África",
          "Oceania",
          "América do Norte",
          "Ásia",
          "Oceania",
          "Oceania",
          "Oceania",
          "Europa",
          "África",
          "Oceania",
          "América do Norte",
          "América do Norte",
          "Oceania",
          "América do Sul",
          "Oceania",
          "América do Norte",
          "Europa",
          "África",
          "África",
          "América do Sul",
          "África",
          "Oceania",
          "América do Sul",
          "América do Norte",
          "África",
          "América do Norte",
          "América do Sul",
          "Europa",
          "América do Norte",
          "América do Norte",
          "América do Norte",
          "América do Sul",
          "América do Sul",
          "Oceania",
          "Ásia",
          "América do Sul",
          "América do Norte",
          "Ásia",
          "Ásia",
          "Oceania",
          "África",
          "América do Norte",
          "Ásia",
          "Oceania",
          "Ásia",
          "Ásia",
          "Oceania",
          "América do Norte",
          "América do Norte",
          "Ásia",
          "África",
          "Oceania",
          "Europa",
          "América do Sul",
          "África",
          "América do Norte",
          "América do Norte",
          "Ásia",
          "América do Sul",
          "América do Norte",
          "América do Sul",
          "África",
          "América do Sul",
          "Oceania",
          "América do Norte",
          "Europa",
          "Oceania",
          "África",
          "Oceania",
          "América do Sul",
          "América do Norte",
          "América do Sul",
          "África",
          "Oceania",
          "Ásia",
          "Europa",
          "Oceania",
          "África",
          "Europa",
          "África",
          "América do Norte",
          "América do Sul",
          "América do Sul",
          "América do Norte",
          "Europa",
          "África",
          "Europa",
          "África",
          "Oceania",
          "Europa",
          "Oceania",
          "Ásia",
          "América do Norte",
          "Oceania",
          "Europa",
          "Ásia",
          "Oceania",
          "Europa",
          "Ásia",
          "Ásia",
          "Europa",
          "Oceania",
          "Oceania",
          "Oceania",
          "Oceania",
          "América do Norte",
          "Ásia",
          "América do Norte",
          "Oceania",
          "Ásia",
          "Ásia",
          "África",
          "América do Norte",
          "Ásia",
          "Ásia",
          "África",
          "América do Sul",
          "América do Sul",
          "América do Sul",
          "Europa",
          "África",
          "África",
          "América do Sul",
          "Europa",
          "Oceania",
          "Ásia",
          "África",
          "África",
          "América do Sul",
          "África",
          "Oceania",
          "África",
          "África",
          "África",
          "Oceania",
          "Oceania",
          "América do Sul",
          "América do Norte",
          "América do Norte",
          "América do Sul",
          "América do Sul",
          "Oceania",
          "América do Norte",
          "África",
          "América do Norte",
          "Ásia",
          "África",
          "América do Sul",
          "América do Sul",
          "América do Sul",
          "África",
          "África",
          "América do Sul",
          "Ásia",
          "Europa",
          "Oceania",
          "América do Sul",
          "Ásia",
          "Ásia",
          "América do Sul",
          "América do Norte",
          "América do Sul",
          "Ásia",
          "América do Norte",
          "América do Sul",
          "África",
          "América do Sul",
          "África",
          "América do Sul",
          "Europa",
          "América do Norte",
          "Europa",
          "África",
          "África",
          "Europa",
          "Oceania",
          "Oceania",
          "Oceania",
          "Oceania",
          "Europa",
          "América do Sul",
          "Ásia",
          "Europa",
          "Oceania",
          "Ásia",
          "América do Norte",
          "América do Norte",
          "Europa",
          "África",
          "Oceania",
          "Europa",
          "África",
          "América do Sul",
          "Oceania",
          "Oceania",
          "América do Sul",
          "América do Norte",
          "Oceania",
          "América do Sul",
          "África",
          "Oceania",
          "Oceania",
          "África",
          "Europa",
          "Ásia",
          "América do Sul",
          "América do Sul",
          "África",
          "Oceania",
          "América do Norte",
          "Oceania",
          "Ásia",
          "Europa",
          "Europa",
          "Ásia",
          "África",
          "Oceania",
          "Europa",
          "Europa",
          "Oceania",
          "América do Sul",
          "Oceania",
          "Europa",
          "América do Sul",
          "América do Sul",
          "África",
          "Oceania",
          "América do Norte",
          "África",
          "Ásia",
          "África",
          "América do Sul",
          "América do Norte",
          "América do Sul",
          "Europa",
          "América do Sul",
          "Ásia",
          "América do Norte",
          "América do Norte",
          "Oceania",
          "Oceania",
          "Europa",
          "Europa",
          "Oceania",
          "Europa",
          "África",
          "Europa",
          "Oceania",
          "Ásia",
          "Europa",
          "Oceania",
          "América do Norte",
          "América do Sul",
          "América do Norte",
          "América do Norte",
          "África",
          "América do Sul",
          "Europa",
          "América do Sul",
          "América do Sul",
          "Europa",
          "América do Norte",
          "América do Sul",
          "África",
          "África",
          "Ásia",
          "América do Sul",
          "Ásia",
          "Europa",
          "África",
          "África",
          "África",
          "Ásia",
          "América do Norte",
          "América do Sul",
          "Ásia",
          "África",
          "Oceania",
          "Ásia",
          "América do Sul",
          "África",
          "América do Norte",
          "Oceania",
          "América do Sul",
          "América do Norte",
          "Oceania",
          "Europa",
          "Oceania",
          "América do Norte",
          "África",
          "Oceania",
          "Europa",
          "Ásia",
          "Europa",
          "Europa",
          "Ásia",
          "Oceania",
          "Ásia",
          "Oceania",
          "Europa",
          "América do Sul",
          "Ásia",
          "América do Norte",
          "América do Sul",
          "América do Norte",
          "Oceania",
          "América do Norte",
          "Oceania",
          "Oceania",
          "América do Norte",
          "América do Norte",
          "América do Sul",
          "Ásia",
          "América do Norte",
          "Ásia",
          "América do Sul",
          "América do Sul",
          "Ásia",
          "Ásia",
          "África",
          "África",
          "América do Norte",
          "Ásia",
          "América do Sul",
          "Europa",
          "Europa",
          "África",
          "Ásia",
          "Oceania",
          "Oceania",
          "Europa",
          "África",
          "Ásia",
          "África",
          "América do Norte",
          "América do Norte",
          "América do Sul",
          "América do Sul",
          "Europa",
          "África",
          "África",
          "África",
          "América do Sul",
          "Ásia",
          "América do Sul",
          "Oceania"
         ],
         "xaxis": "x",
         "y": [
          92394.47209718144,
          44299.97924027467,
          105600.35286726628,
          85354.8256930103,
          77900.28110292541,
          73886.73894153126,
          69704.36972447362,
          136201.71318415168,
          46683.220441436766,
          141286.59348865726,
          106811.64909236912,
          121149.08793204628,
          -23032.150378839186,
          103111.89902051684,
          4363.492980355106,
          26414.67256951772,
          47344.38656162222,
          55043.154040800735,
          63278.88525099086,
          45518.811184693695,
          98321.52603485851,
          143169.0276638532,
          111863.96453047912,
          92993.8318121126,
          45580.17913124933,
          156280.29710124488,
          203611.6495534066,
          1991.8353683597236,
          2892.081172002421,
          149049.21745360974,
          77916.80747400399,
          83240.42406482928,
          101804.20889965368,
          199810.4451194069,
          163798.70695669332,
          88351.39928359492,
          112704.91477053854,
          79760.74749325296,
          172742.41477993532,
          83162.91827016836,
          202444.82807463504,
          48009.54601326589,
          96754.33875214007,
          67965.25156622747,
          117803.19595480771,
          177910.37901530243,
          127299.33670974067,
          82081.41596488639,
          134218.63963916447,
          85650.14217161918,
          119869.98494992642,
          168078.83437344385,
          108134.92671693709,
          67644.86527283855,
          144056.52111746522,
          139177.81595844036,
          140454.6982333075,
          213216.92201532944,
          66776.31790266576,
          81187.39513739273,
          91725.75269769884,
          83746.57450165547,
          129891.55268933366,
          172927.7162020682,
          87647.3927311791,
          141755.4040317706,
          131418.24151092992,
          64575.02333789045,
          109943.31169223964,
          122468.09598663144,
          145626.6300887462,
          54297.88707042304,
          192844.2825693208,
          90072.51434194126,
          113584.80114257216,
          101465.40156374282,
          65073.84630533675,
          58474.651173147184,
          51899.715905557074,
          78704.81382246848,
          126996.46203738352,
          57212.125423121695,
          123217.52329256882,
          59786.29412738232,
          96842.0370342981,
          66695.91099919679,
          89969.42724959103,
          222570.73951690263,
          95105.68531851408,
          143786.97683670383,
          66359.62998844267,
          66948.63727661603,
          -34906.96826565522,
          175565.81276345806,
          179236.96089870657,
          87889.53382622398,
          137363.3672068767,
          63347.13826737365,
          112003.10901241802,
          25156.23254808795,
          107131.0453706702,
          144302.46047488175,
          139693.99204915232,
          187702.57570097185,
          94410.73455050924,
          21528.292456882657,
          57623.12985108743,
          68351.95571436702,
          230303.32364799164,
          189703.85863956256,
          43332.74632912226,
          98769.16904672844,
          70487.17007383032,
          73766.04923315442,
          154508.8775903291,
          59253.98588763894,
          75621.53731769208,
          50857.06158282172,
          51702.75908557334,
          36172.85892951843,
          62863.82805871391,
          137922.7481921259,
          54802.12957204419,
          142428.7285629633,
          90748.6434820258,
          60501.313232024346,
          198931.7835136471,
          153623.78405213752,
          60015.8188802024,
          41918.86165577792,
          74681.73831629241,
          9337.261739602036,
          155408.7019766673,
          93205.35670160849,
          98140.26456746648,
          76248.60074556668,
          143252.983979025,
          44996.41629860666,
          99921.43165457791,
          175442.70094836596,
          100815.00590495105,
          75273.98829754759,
          107383.71256877133,
          151069.5546103082,
          101840.84698768602,
          68358.84314003,
          101663.673054439,
          214959.95961671503,
          137199.2158924827,
          163095.97086210543,
          174202.27177916974,
          146446.07431862553,
          128201.76477553775,
          27243.83995424598,
          198904.56697732917,
          158960.15722039688,
          186536.7825031929,
          160296.19739187224,
          108117.88930154889,
          95158.63840261946,
          115673.82903138665,
          72752.71560388172,
          60589.37613685642,
          54742.17954096339,
          113311.71499053595,
          89088.8815345894,
          42001.3075596406,
          60458.41323462113,
          122752.25244230422,
          121190.27507505038,
          100806.77478756948,
          143188.07626078365,
          7542.222764468679,
          79923.2131725494,
          192630.86687464855,
          95608.49571202742,
          161442.06631899116,
          87387.02481651594,
          153427.00478868128,
          157067.26491088525,
          49722.64824429217,
          119578.7744113205,
          20695.69612390052,
          140918.8487691317,
          90435.72668243316,
          121619.14694768416,
          53551.48592574062,
          107034.73646954064,
          163137.556286074,
          176285.241240783,
          116792.07397219451,
          81425.36222624987,
          35552.51690726259,
          63197.40035855505,
          124122.93430702425,
          134825.70519091602,
          97466.13719754532,
          100336.03260380337,
          143315.83077539937,
          118258.9641108128,
          40223.313684565976,
          109722.5932850265,
          -33139.17429692604,
          174617.9705715201,
          183362.4890151122,
          161298.19922328237,
          129080.00378409943,
          81828.12818148748,
          35063.33978316236,
          49063.51347175376,
          84003.44075246358,
          72250.79713749047,
          155173.24648351863,
          87557.05058075376,
          123332.04288634135,
          119339.38527833745,
          212383.12882014475,
          69256.34004815466,
          31242.30359089452,
          126175.5009862617,
          107156.4992027429,
          118931.0690187815,
          -27206.200331951117,
          83639.35634266488,
          25599.258875056286,
          102751.06312802828,
          162826.1011034771,
          141463.1260945049,
          179826.5363659209,
          105963.20633400053,
          66232.67521975056,
          38614.2160955752,
          120295.92417816947,
          105016.80575511276,
          59356.00565457717,
          35537.98507523196,
          134366.1299073858,
          213778.89589158772,
          1390.120096573315,
          123292.57569135816,
          23338.35737439973,
          165317.2308249349,
          -10203.472310592668,
          58420.67059300712,
          42221.39506527624,
          30027.02852380251,
          76118.48179068668,
          88976.73108846568,
          111530.78181290788,
          133284.0053062507,
          138408.43885950025,
          45792.24375853808,
          82215.51442935292,
          191484.8731042667,
          83020.62449772576,
          197809.81585190404,
          110819.75980191633,
          85266.68894976607,
          62456.8435388443,
          70519.0250379663,
          198913.6263056181,
          190562.51969945585,
          49210.26664304381,
          157745.07383017289,
          50280.03226130111,
          60329.55087914907,
          111602.52436646812,
          104137.84803135446,
          155540.64510057427,
          57473.1057978565,
          152015.39471106563,
          144309.5219803633,
          177691.168656012,
          33856.056636292284,
          108936.986763401,
          61003.81987172304,
          134891.19320407603,
          18144.30832685341,
          107623.60123597212,
          30574.037605337813,
          102256.02716525506,
          121740.76296142116,
          69968.48220862017,
          101485.92531557869,
          54845.82401555314,
          147705.94028881262,
          134316.27174604023,
          91674.07071725791,
          -12117.62251276456,
          60508.63049061657,
          79706.89768230043,
          86531.52737281378,
          98247.16024539837,
          131724.55757993052,
          143283.52041074162,
          120395.17234188746,
          77048.58618283685,
          131494.18094923245,
          59119.32124977343,
          106114.5557652759,
          127266.6660927127,
          23807.523330286,
          98132.85121318144,
          101717.1193465312,
          50606.89922298202,
          97681.39122491196,
          184282.47442603856,
          99990.12395542976,
          136729.09205580014,
          124577.57882386156,
          113743.3170100205,
          71144.06598998504,
          156851.25140528125,
          52615.90558390107,
          46670.77004489015,
          110987.83671820218,
          106855.67542118202,
          230880.10913742983,
          94482.99303200464,
          77562.4624791948,
          59273.89173936878,
          157662.5328775374,
          91505.02512048194,
          129709.8032588521,
          90522.83520193509,
          114128.08480006718,
          102137.12424314984,
          51876.09999644272,
          27102.449877319785,
          -13803.972890899691,
          70488.78059568832,
          153727.34517860095,
          150967.0512143691,
          31398.519851706733,
          19449.32807936016,
          98496.23331965566,
          124810.63391083444,
          139916.60328161513,
          173194.778856148,
          146173.7307954812,
          -1189.1445893728087,
          37679.76223929278,
          128772.56649001212,
          125002.60060068149,
          55424.26495014586,
          75694.87529031507,
          58193.90711591545,
          114063.13360433636,
          123582.9083385277,
          83602.50186400604,
          88068.79753362724,
          196521.6375647488,
          139951.76370964688,
          91709.44490889502,
          150394.76067862482,
          114258.36926107944,
          54497.992177587534,
          78910.2245738619,
          66265.27609569894,
          135227.32439311125,
          160696.03816107704,
          136324.1970289542,
          186647.83556238143,
          56939.65456866741,
          110649.17219632507,
          35481.89578600254,
          152115.50446806377,
          94306.31497930612,
          147586.54789804464,
          122175.8805307546,
          182986.7683624114,
          59857.08431351185,
          -67666.54062370508,
          61746.37456793598,
          108684.15333024543,
          158982.02433944674,
          -22624.22954132197,
          137449.81687639997,
          76292.6851199148,
          191478.66118048748,
          96746.70809582206,
          91018.78492784336,
          74980.10768326347,
          78787.80261662413,
          118742.83803156344,
          75826.53186827307,
          61043.633894424,
          99974.70295873546,
          173398.00056048535,
          123100.75390311972,
          73477.21040181574,
          107095.4527243459,
          55407.842070239545,
          112387.34227267708,
          122817.89828272688,
          96928.34056372177,
          88678.2883194728,
          153372.5257471858,
          89450.017378973,
          123833.4694564392,
          146974.96996383084,
          138326.08308032498,
          35013.905731938685,
          107381.9574122848,
          69400.22975238615,
          75493.40719581296,
          75550.0115560546,
          42761.05428759879,
          133430.80804873045,
          127501.02624387956,
          135109.13354164665,
          71519.14575059342,
          187347.26322902323,
          93038.62359863972,
          72585.21968142131,
          -41187.388617828925,
          58006.63245261493,
          131494.0814328449,
          45588.5369045846,
          26908.030959364245,
          86791.04211959842,
          165117.9247839228,
          147458.0397585318,
          58214.3186582921,
          75754.96824146004,
          112146.61704540346,
          106380.55485670712,
          122254.0077283768,
          3668.028483052345,
          49672.26878817784,
          51970.86382259893,
          180901.1474897591,
          122270.35890578224,
          182853.767068041,
          172935.4809735535,
          137707.34448014255,
          143366.2092634806,
          119899.98012643652,
          61511.42157363955,
          134504.93286406333,
          169082.8990206699,
          76288.26670945335,
          128356.18230098058,
          -1738.5492967965256,
          116235.6668861168,
          28717.856343096923,
          156702.6911056027,
          113664.41345839325,
          77068.35356760805,
          110588.73666003052,
          189141.74697335943,
          47601.54807152832,
          54777.79737423987,
          85534.79019941144,
          126679.96457586266,
          107707.17895003349,
          72136.57928382617,
          118612.67038270483,
          136070.68388770416,
          59436.070731346415,
          149987.53122265515,
          158677.5424060676,
          146004.50821679915,
          55383.004747425366,
          146209.27546516366,
          143272.22289273702,
          101756.45054699323,
          110270.73149032496,
          6027.7791047234205,
          154657.11383147046,
          135405.94223306316,
          142756.4970775378,
          123776.32178870148,
          75137.36167870274,
          53755.75553692917,
          76901.1660809747,
          61491.45992817927,
          180879.45490154007,
          68316.83268603927,
          70199.79904077495,
          56651.35832780523,
          152572.49746798334,
          88552.49764008187,
          75839.09571548848,
          135638.39031170425,
          -24877.071991888137,
          130910.02595607344,
          150124.48278252585,
          151740.75178070003,
          83083.72488206795,
          83196.2448058859,
          124143.37553141757,
          76727.74119041272,
          59818.05709042071,
          -33534.847542171774,
          165283.9064100444,
          30234.546678179584,
          124713.285486157,
          177642.27789649522,
          73127.85350069584,
          87020.95945356916,
          154969.7949170053,
          180887.84788082849,
          64428.92070855053,
          137925.3618219626,
          2931.7015135628462,
          169046.53967350995,
          186880.8468295613,
          133336.9304745502,
          62349.08796220477,
          160014.93553437776,
          79497.24139479597,
          -18522.620111014912,
          139033.00545402983,
          110870.44228942368,
          105167.36685865888,
          88075.9096889994,
          128225.46465535344,
          161412.10290726303,
          80258.56545923611
         ],
         "yaxis": "y"
        },
        {
         "alignmentgroup": "True",
         "customdata": [
          [
           2000
          ],
          [
           2000
          ],
          [
           2000
          ],
          [
           2000
          ],
          [
           2000
          ],
          [
           2000
          ],
          [
           2000
          ],
          [
           2000
          ],
          [
           2000
          ],
          [
           2000
          ],
          [
           2000
          ],
          [
           2000
          ],
          [
           2000
          ],
          [
           2000
          ],
          [
           2000
          ],
          [
           2000
          ],
          [
           2000
          ],
          [
           2000
          ],
          [
           2001
          ],
          [
           2001
          ],
          [
           2001
          ],
          [
           2001
          ],
          [
           2001
          ],
          [
           2001
          ],
          [
           2001
          ],
          [
           2001
          ],
          [
           2001
          ],
          [
           2001
          ],
          [
           2001
          ],
          [
           2001
          ],
          [
           2001
          ],
          [
           2001
          ],
          [
           2001
          ],
          [
           2001
          ],
          [
           2001
          ],
          [
           2001
          ],
          [
           2001
          ],
          [
           2001
          ],
          [
           2001
          ],
          [
           2001
          ],
          [
           2001
          ],
          [
           2001
          ],
          [
           2002
          ],
          [
           2002
          ],
          [
           2002
          ],
          [
           2002
          ],
          [
           2002
          ],
          [
           2002
          ],
          [
           2002
          ],
          [
           2002
          ],
          [
           2002
          ],
          [
           2002
          ],
          [
           2002
          ],
          [
           2002
          ],
          [
           2002
          ],
          [
           2002
          ],
          [
           2002
          ],
          [
           2002
          ],
          [
           2002
          ],
          [
           2003
          ],
          [
           2003
          ],
          [
           2003
          ],
          [
           2003
          ],
          [
           2003
          ],
          [
           2003
          ],
          [
           2003
          ],
          [
           2003
          ],
          [
           2003
          ],
          [
           2003
          ],
          [
           2003
          ],
          [
           2003
          ],
          [
           2003
          ],
          [
           2003
          ],
          [
           2003
          ],
          [
           2003
          ],
          [
           2003
          ],
          [
           2004
          ],
          [
           2004
          ],
          [
           2004
          ],
          [
           2004
          ],
          [
           2004
          ],
          [
           2004
          ],
          [
           2004
          ],
          [
           2004
          ],
          [
           2004
          ],
          [
           2004
          ],
          [
           2004
          ],
          [
           2004
          ],
          [
           2004
          ],
          [
           2004
          ],
          [
           2004
          ],
          [
           2004
          ],
          [
           2004
          ],
          [
           2004
          ],
          [
           2004
          ],
          [
           2004
          ],
          [
           2004
          ],
          [
           2004
          ],
          [
           2004
          ],
          [
           2004
          ],
          [
           2004
          ],
          [
           2005
          ],
          [
           2005
          ],
          [
           2005
          ],
          [
           2005
          ],
          [
           2005
          ],
          [
           2005
          ],
          [
           2005
          ],
          [
           2005
          ],
          [
           2005
          ],
          [
           2005
          ],
          [
           2005
          ],
          [
           2005
          ],
          [
           2005
          ],
          [
           2005
          ],
          [
           2005
          ],
          [
           2005
          ],
          [
           2005
          ],
          [
           2005
          ],
          [
           2005
          ],
          [
           2006
          ],
          [
           2006
          ],
          [
           2006
          ],
          [
           2006
          ],
          [
           2006
          ],
          [
           2006
          ],
          [
           2006
          ],
          [
           2006
          ],
          [
           2006
          ],
          [
           2006
          ],
          [
           2006
          ],
          [
           2006
          ],
          [
           2006
          ],
          [
           2006
          ],
          [
           2006
          ],
          [
           2006
          ],
          [
           2007
          ],
          [
           2007
          ],
          [
           2007
          ],
          [
           2007
          ],
          [
           2007
          ],
          [
           2007
          ],
          [
           2007
          ],
          [
           2007
          ],
          [
           2007
          ],
          [
           2007
          ],
          [
           2007
          ],
          [
           2007
          ],
          [
           2007
          ],
          [
           2007
          ],
          [
           2007
          ],
          [
           2007
          ],
          [
           2007
          ],
          [
           2007
          ],
          [
           2007
          ],
          [
           2008
          ],
          [
           2008
          ],
          [
           2008
          ],
          [
           2008
          ],
          [
           2008
          ],
          [
           2008
          ],
          [
           2008
          ],
          [
           2008
          ],
          [
           2008
          ],
          [
           2008
          ],
          [
           2008
          ],
          [
           2008
          ],
          [
           2008
          ],
          [
           2008
          ],
          [
           2008
          ],
          [
           2008
          ],
          [
           2008
          ],
          [
           2008
          ],
          [
           2008
          ],
          [
           2009
          ],
          [
           2009
          ],
          [
           2009
          ],
          [
           2009
          ],
          [
           2009
          ],
          [
           2009
          ],
          [
           2009
          ],
          [
           2009
          ],
          [
           2009
          ],
          [
           2009
          ],
          [
           2009
          ],
          [
           2009
          ],
          [
           2009
          ],
          [
           2009
          ],
          [
           2009
          ],
          [
           2009
          ],
          [
           2009
          ],
          [
           2009
          ],
          [
           2009
          ],
          [
           2010
          ],
          [
           2010
          ],
          [
           2010
          ],
          [
           2010
          ],
          [
           2010
          ],
          [
           2010
          ],
          [
           2010
          ],
          [
           2010
          ],
          [
           2010
          ],
          [
           2010
          ],
          [
           2010
          ],
          [
           2010
          ],
          [
           2010
          ],
          [
           2010
          ],
          [
           2010
          ],
          [
           2010
          ],
          [
           2010
          ],
          [
           2010
          ],
          [
           2010
          ],
          [
           2010
          ],
          [
           2010
          ],
          [
           2010
          ],
          [
           2010
          ],
          [
           2011
          ],
          [
           2011
          ],
          [
           2011
          ],
          [
           2011
          ],
          [
           2011
          ],
          [
           2011
          ],
          [
           2011
          ],
          [
           2011
          ],
          [
           2011
          ],
          [
           2011
          ],
          [
           2011
          ],
          [
           2011
          ],
          [
           2011
          ],
          [
           2011
          ],
          [
           2011
          ],
          [
           2011
          ],
          [
           2011
          ],
          [
           2012
          ],
          [
           2012
          ],
          [
           2012
          ],
          [
           2012
          ],
          [
           2012
          ],
          [
           2012
          ],
          [
           2012
          ],
          [
           2012
          ],
          [
           2012
          ],
          [
           2012
          ],
          [
           2012
          ],
          [
           2012
          ],
          [
           2012
          ],
          [
           2012
          ],
          [
           2013
          ],
          [
           2013
          ],
          [
           2013
          ],
          [
           2013
          ],
          [
           2013
          ],
          [
           2013
          ],
          [
           2013
          ],
          [
           2013
          ],
          [
           2013
          ],
          [
           2013
          ],
          [
           2013
          ],
          [
           2013
          ],
          [
           2013
          ],
          [
           2013
          ],
          [
           2013
          ],
          [
           2013
          ],
          [
           2013
          ],
          [
           2013
          ],
          [
           2013
          ],
          [
           2013
          ],
          [
           2013
          ],
          [
           2013
          ],
          [
           2013
          ],
          [
           2013
          ],
          [
           2013
          ],
          [
           2013
          ],
          [
           2013
          ],
          [
           2014
          ],
          [
           2014
          ],
          [
           2014
          ],
          [
           2014
          ],
          [
           2014
          ],
          [
           2014
          ],
          [
           2014
          ],
          [
           2014
          ],
          [
           2014
          ],
          [
           2014
          ],
          [
           2014
          ],
          [
           2014
          ],
          [
           2014
          ],
          [
           2014
          ],
          [
           2014
          ],
          [
           2014
          ],
          [
           2014
          ],
          [
           2014
          ],
          [
           2014
          ],
          [
           2014
          ],
          [
           2014
          ],
          [
           2014
          ],
          [
           2014
          ],
          [
           2015
          ],
          [
           2015
          ],
          [
           2015
          ],
          [
           2015
          ],
          [
           2015
          ],
          [
           2015
          ],
          [
           2015
          ],
          [
           2015
          ],
          [
           2015
          ],
          [
           2015
          ],
          [
           2015
          ],
          [
           2015
          ],
          [
           2015
          ],
          [
           2015
          ],
          [
           2015
          ],
          [
           2015
          ],
          [
           2016
          ],
          [
           2016
          ],
          [
           2016
          ],
          [
           2016
          ],
          [
           2016
          ],
          [
           2016
          ],
          [
           2016
          ],
          [
           2016
          ],
          [
           2016
          ],
          [
           2016
          ],
          [
           2016
          ],
          [
           2016
          ],
          [
           2016
          ],
          [
           2016
          ],
          [
           2016
          ],
          [
           2016
          ],
          [
           2016
          ],
          [
           2016
          ],
          [
           2016
          ],
          [
           2016
          ],
          [
           2016
          ],
          [
           2016
          ],
          [
           2016
          ],
          [
           2016
          ],
          [
           2016
          ],
          [
           2016
          ],
          [
           2017
          ],
          [
           2017
          ],
          [
           2017
          ],
          [
           2017
          ],
          [
           2017
          ],
          [
           2017
          ],
          [
           2017
          ],
          [
           2017
          ],
          [
           2017
          ],
          [
           2017
          ],
          [
           2017
          ],
          [
           2017
          ],
          [
           2017
          ],
          [
           2017
          ],
          [
           2017
          ],
          [
           2017
          ],
          [
           2017
          ],
          [
           2017
          ],
          [
           2017
          ],
          [
           2017
          ],
          [
           2017
          ],
          [
           2017
          ],
          [
           2017
          ],
          [
           2018
          ],
          [
           2018
          ],
          [
           2018
          ],
          [
           2018
          ],
          [
           2018
          ],
          [
           2018
          ],
          [
           2018
          ],
          [
           2018
          ],
          [
           2018
          ],
          [
           2018
          ],
          [
           2018
          ],
          [
           2018
          ],
          [
           2018
          ],
          [
           2018
          ],
          [
           2018
          ],
          [
           2018
          ],
          [
           2019
          ],
          [
           2019
          ],
          [
           2019
          ],
          [
           2019
          ],
          [
           2019
          ],
          [
           2019
          ],
          [
           2019
          ],
          [
           2019
          ],
          [
           2019
          ],
          [
           2019
          ],
          [
           2019
          ],
          [
           2019
          ],
          [
           2019
          ],
          [
           2019
          ],
          [
           2019
          ],
          [
           2019
          ],
          [
           2019
          ],
          [
           2019
          ],
          [
           2019
          ],
          [
           2019
          ],
          [
           2019
          ],
          [
           2019
          ],
          [
           2019
          ],
          [
           2019
          ],
          [
           2019
          ],
          [
           2019
          ],
          [
           2019
          ],
          [
           2019
          ],
          [
           2019
          ],
          [
           2019
          ],
          [
           2019
          ],
          [
           2019
          ],
          [
           2020
          ],
          [
           2020
          ],
          [
           2020
          ],
          [
           2020
          ],
          [
           2020
          ],
          [
           2020
          ],
          [
           2020
          ],
          [
           2020
          ],
          [
           2020
          ],
          [
           2020
          ],
          [
           2020
          ],
          [
           2020
          ],
          [
           2020
          ],
          [
           2020
          ],
          [
           2020
          ],
          [
           2020
          ],
          [
           2020
          ],
          [
           2020
          ],
          [
           2020
          ],
          [
           2020
          ],
          [
           2020
          ],
          [
           2021
          ],
          [
           2021
          ],
          [
           2021
          ],
          [
           2021
          ],
          [
           2021
          ],
          [
           2021
          ],
          [
           2021
          ],
          [
           2021
          ],
          [
           2021
          ],
          [
           2021
          ],
          [
           2021
          ],
          [
           2021
          ],
          [
           2021
          ],
          [
           2021
          ],
          [
           2021
          ],
          [
           2021
          ],
          [
           2021
          ],
          [
           2021
          ],
          [
           2021
          ],
          [
           2021
          ],
          [
           2021
          ],
          [
           2021
          ],
          [
           2021
          ],
          [
           2021
          ],
          [
           2021
          ],
          [
           2021
          ],
          [
           2021
          ],
          [
           2021
          ],
          [
           2021
          ],
          [
           2022
          ],
          [
           2022
          ],
          [
           2022
          ],
          [
           2022
          ],
          [
           2022
          ],
          [
           2022
          ],
          [
           2022
          ],
          [
           2022
          ],
          [
           2022
          ],
          [
           2022
          ],
          [
           2022
          ],
          [
           2022
          ],
          [
           2022
          ],
          [
           2022
          ],
          [
           2022
          ],
          [
           2022
          ],
          [
           2022
          ],
          [
           2022
          ]
         ],
         "hovertemplate": "Setor=Indústria<br>Continente=%{x}<br>Emissões_CO2 (toneladas)=%{y}<br>Ano=%{customdata[0]}<extra></extra>",
         "legendgroup": "Indústria",
         "marker": {
          "color": "#ab63fa",
          "pattern": {
           "shape": ""
          }
         },
         "name": "Indústria",
         "offsetgroup": "Indústria",
         "orientation": "v",
         "showlegend": true,
         "textposition": "auto",
         "type": "bar",
         "x": [
          "Oceania",
          "África",
          "África",
          "América do Norte",
          "Ásia",
          "Oceania",
          "América do Sul",
          "América do Norte",
          "África",
          "América do Sul",
          "Oceania",
          "Ásia",
          "Ásia",
          "Oceania",
          "América do Sul",
          "Europa",
          "Ásia",
          "África",
          "América do Sul",
          "América do Sul",
          "África",
          "Ásia",
          "América do Sul",
          "África",
          "América do Sul",
          "América do Sul",
          "América do Sul",
          "América do Sul",
          "América do Norte",
          "África",
          "Europa",
          "América do Sul",
          "Europa",
          "América do Sul",
          "África",
          "África",
          "Oceania",
          "América do Sul",
          "África",
          "América do Norte",
          "África",
          "América do Sul",
          "América do Norte",
          "América do Sul",
          "Europa",
          "Oceania",
          "Europa",
          "Oceania",
          "África",
          "Europa",
          "África",
          "Oceania",
          "Europa",
          "América do Norte",
          "Europa",
          "Europa",
          "África",
          "Oceania",
          "América do Norte",
          "América do Sul",
          "América do Sul",
          "Ásia",
          "Ásia",
          "Oceania",
          "Europa",
          "Europa",
          "Ásia",
          "América do Norte",
          "África",
          "África",
          "América do Sul",
          "Europa",
          "África",
          "África",
          "Ásia",
          "Ásia",
          "Ásia",
          "Ásia",
          "América do Norte",
          "América do Sul",
          "África",
          "Oceania",
          "Ásia",
          "África",
          "Oceania",
          "Europa",
          "América do Sul",
          "Ásia",
          "América do Norte",
          "América do Norte",
          "Oceania",
          "Ásia",
          "Europa",
          "Oceania",
          "Europa",
          "Oceania",
          "África",
          "Oceania",
          "América do Norte",
          "Ásia",
          "África",
          "Ásia",
          "África",
          "Europa",
          "América do Sul",
          "Ásia",
          "Ásia",
          "América do Sul",
          "América do Norte",
          "Ásia",
          "Oceania",
          "Ásia",
          "Europa",
          "Oceania",
          "Ásia",
          "Oceania",
          "Oceania",
          "América do Norte",
          "Europa",
          "América do Sul",
          "Europa",
          "América do Sul",
          "Europa",
          "América do Norte",
          "Europa",
          "Europa",
          "América do Norte",
          "Ásia",
          "África",
          "Ásia",
          "África",
          "Oceania",
          "América do Norte",
          "Ásia",
          "América do Sul",
          "América do Sul",
          "Europa",
          "Europa",
          "África",
          "Europa",
          "América do Sul",
          "América do Sul",
          "América do Sul",
          "Europa",
          "Ásia",
          "Ásia",
          "Ásia",
          "Oceania",
          "Ásia",
          "Europa",
          "Oceania",
          "Europa",
          "Oceania",
          "Ásia",
          "África",
          "Ásia",
          "Europa",
          "Oceania",
          "Oceania",
          "Ásia",
          "América do Sul",
          "Europa",
          "América do Norte",
          "Europa",
          "Europa",
          "Oceania",
          "América do Sul",
          "África",
          "América do Sul",
          "África",
          "Europa",
          "Europa",
          "Europa",
          "América do Norte",
          "Europa",
          "América do Sul",
          "América do Norte",
          "Oceania",
          "África",
          "América do Sul",
          "Ásia",
          "Europa",
          "África",
          "África",
          "Europa",
          "África",
          "África",
          "África",
          "Ásia",
          "Ásia",
          "América do Sul",
          "América do Norte",
          "Oceania",
          "Europa",
          "África",
          "América do Sul",
          "Europa",
          "África",
          "Oceania",
          "América do Sul",
          "Ásia",
          "África",
          "Ásia",
          "América do Norte",
          "Europa",
          "Europa",
          "América do Norte",
          "Ásia",
          "América do Norte",
          "África",
          "Oceania",
          "África",
          "América do Sul",
          "América do Norte",
          "América do Norte",
          "Oceania",
          "América do Norte",
          "América do Sul",
          "América do Norte",
          "América do Norte",
          "Ásia",
          "América do Norte",
          "América do Sul",
          "América do Sul",
          "África",
          "Oceania",
          "África",
          "Europa",
          "África",
          "América do Norte",
          "Europa",
          "Oceania",
          "África",
          "África",
          "Europa",
          "América do Sul",
          "Ásia",
          "Ásia",
          "Oceania",
          "América do Norte",
          "Europa",
          "Oceania",
          "Oceania",
          "Oceania",
          "Europa",
          "Oceania",
          "América do Sul",
          "Ásia",
          "Europa",
          "América do Sul",
          "América do Norte",
          "América do Norte",
          "América do Sul",
          "América do Sul",
          "Europa",
          "Oceania",
          "América do Sul",
          "Europa",
          "América do Norte",
          "Europa",
          "Europa",
          "Oceania",
          "África",
          "Ásia",
          "Oceania",
          "América do Sul",
          "África",
          "Europa",
          "América do Sul",
          "África",
          "Oceania",
          "Oceania",
          "África",
          "Oceania",
          "Oceania",
          "América do Sul",
          "América do Norte",
          "América do Norte",
          "América do Sul",
          "Europa",
          "América do Sul",
          "África",
          "Europa",
          "África",
          "América do Sul",
          "América do Norte",
          "América do Norte",
          "América do Sul",
          "Ásia",
          "Ásia",
          "Europa",
          "Oceania",
          "Ásia",
          "Europa",
          "Europa",
          "Oceania",
          "Oceania",
          "Oceania",
          "Oceania",
          "África",
          "África",
          "Europa",
          "África",
          "África",
          "Ásia",
          "África",
          "América do Norte",
          "África",
          "Ásia",
          "África",
          "África",
          "Oceania",
          "Oceania",
          "Ásia",
          "América do Sul",
          "Ásia",
          "Europa",
          "África",
          "América do Sul",
          "África",
          "Ásia",
          "América do Sul",
          "África",
          "América do Norte",
          "América do Norte",
          "África",
          "Europa",
          "Ásia",
          "África",
          "América do Norte",
          "Oceania",
          "Europa",
          "Oceania",
          "África",
          "Ásia",
          "América do Norte",
          "Oceania",
          "América do Sul",
          "Ásia",
          "América do Sul",
          "América do Norte",
          "Ásia",
          "Europa",
          "Oceania",
          "Ásia",
          "Europa",
          "África",
          "Ásia",
          "Europa",
          "América do Sul",
          "Europa",
          "Ásia",
          "Ásia",
          "África",
          "África",
          "América do Norte",
          "América do Sul",
          "América do Norte",
          "Oceania",
          "África",
          "América do Norte",
          "América do Norte",
          "África",
          "América do Sul",
          "Ásia",
          "América do Sul",
          "Europa",
          "Oceania",
          "Oceania",
          "Oceania",
          "Europa",
          "Europa",
          "África",
          "Europa",
          "Ásia",
          "América do Norte",
          "Europa",
          "Europa",
          "Oceania",
          "Europa",
          "África",
          "Oceania",
          "América do Norte",
          "Ásia",
          "Oceania",
          "América do Norte",
          "Oceania",
          "América do Norte",
          "América do Sul",
          "África",
          "América do Norte",
          "Oceania",
          "Oceania",
          "América do Sul",
          "Oceania",
          "África",
          "Europa",
          "Oceania",
          "Oceania",
          "Oceania",
          "Oceania",
          "América do Norte",
          "Ásia",
          "América do Sul",
          "Oceania",
          "América do Sul",
          "Oceania",
          "Europa",
          "América do Sul",
          "Europa",
          "América do Sul",
          "Oceania",
          "América do Sul",
          "Europa",
          "América do Norte",
          "Oceania",
          "Europa",
          "América do Sul",
          "Oceania",
          "África",
          "Ásia",
          "África",
          "América do Norte",
          "Europa",
          "Europa",
          "Oceania",
          "América do Sul",
          "Oceania",
          "Ásia",
          "América do Norte",
          "América do Sul",
          "América do Norte",
          "América do Norte",
          "América do Sul",
          "América do Sul",
          "Europa",
          "América do Norte",
          "Europa",
          "Oceania",
          "Europa",
          "Ásia",
          "América do Sul",
          "América do Norte",
          "Europa",
          "América do Sul",
          "América do Sul",
          "Europa",
          "Oceania",
          "África",
          "América do Sul",
          "Europa",
          "Ásia",
          "Europa",
          "América do Sul",
          "África",
          "Europa",
          "América do Sul",
          "Ásia",
          "África",
          "África",
          "Oceania",
          "América do Sul",
          "Europa",
          "Europa",
          "Europa",
          "América do Norte",
          "Oceania",
          "América do Sul",
          "Ásia",
          "Ásia",
          "América do Sul",
          "Ásia",
          "Ásia",
          "Oceania",
          "América do Norte",
          "África",
          "Ásia",
          "América do Sul"
         ],
         "xaxis": "x",
         "y": [
          92077.16839865176,
          73802.58524801128,
          33870.548660100816,
          216817.5071979006,
          37217.1947058544,
          158193.50489483218,
          64875.53891937431,
          155851.76637651646,
          167465.79280092707,
          102655.47175778862,
          163233.67695024135,
          71116.90651186055,
          151096.14634024608,
          249096.43791570148,
          -7697.474962385138,
          162933.3270083504,
          15030.491541028505,
          104485.76780301752,
          -23771.86596034169,
          122551.08207224713,
          155380.2780960375,
          62214.10732141013,
          23113.366673282,
          63087.52332737118,
          124124.18103885005,
          61961.663507640784,
          189586.82902897932,
          42304.33179457944,
          98009.27372741816,
          51086.60056500428,
          35275.833231144,
          137970.73446095356,
          178533.89490845363,
          75676.33802240274,
          83512.49401221704,
          70380.73881899739,
          111802.88525679291,
          168661.35164289235,
          138460.06763879946,
          136323.94852649918,
          57903.124979189866,
          79656.8384890133,
          107642.01233671424,
          143455.5310704384,
          72046.24517779569,
          62965.10767892825,
          143639.06675624006,
          133597.02592892814,
          144729.18095950346,
          73123.31491839919,
          81770.47498622948,
          130842.54193426562,
          66740.73949897202,
          140240.1807350837,
          174273.38518918978,
          97419.78282613584,
          119208.19420129474,
          229800.5766634402,
          122405.20210345509,
          22068.88161907447,
          121199.24680862715,
          13373.42888614857,
          157251.72438398178,
          64801.51030231799,
          34139.47525893706,
          156910.6976637915,
          109091.34895009673,
          106560.33189769465,
          60560.92422612531,
          11817.189960604606,
          134498.1397055696,
          54561.90066041131,
          102793.11289951208,
          61273.36973083981,
          157615.71661290491,
          136689.36398611852,
          128614.52985998908,
          27859.17011570283,
          101979.40533376872,
          136011.0133153684,
          102156.19185288496,
          103201.84680758708,
          93073.63911966018,
          117549.03984125944,
          73901.25295688445,
          122200.15969077512,
          68367.12291649116,
          106293.16044318392,
          114981.0252568328,
          199296.1522675516,
          13225.94112932845,
          102924.29988970509,
          -15420.67860858023,
          111657.68872382656,
          124544.07805171184,
          129169.17052376836,
          217200.26388643504,
          99319.52591877076,
          105332.3059431484,
          148449.63097671862,
          165681.3832978519,
          36185.86199497905,
          92814.71124059784,
          172275.90381873958,
          101330.70829776594,
          104882.51233822174,
          142615.1846720819,
          89201.87070561672,
          61929.65724060699,
          165765.46605200492,
          119516.39235572648,
          149956.45932364694,
          37466.71057852219,
          159961.80253207305,
          84049.48209351995,
          228654.8159058045,
          173323.2769356811,
          109486.22623200616,
          -1736.74928746339,
          65689.32457770745,
          79204.64415638296,
          155031.53035885448,
          126653.3396219391,
          7054.435479386346,
          -22543.19187109593,
          107178.8542487982,
          130600.15865879088,
          1910.1298652702967,
          92417.10242130847,
          61867.28893463777,
          57994.24582951216,
          72293.59859288001,
          155225.0430951271,
          120696.12604960216,
          57240.070856210354,
          145321.62430094642,
          98854.76390430827,
          158976.5140690931,
          58677.421394531535,
          184510.70946803817,
          -55514.95118415941,
          150830.46533151536,
          52514.33402860535,
          37481.156214300616,
          152253.93283398193,
          60565.20605096683,
          81404.79806730553,
          49900.65740236754,
          50644.66484064471,
          118896.28131368516,
          96673.04484972046,
          42421.45426855536,
          125268.41077953736,
          118826.99799472188,
          155912.88926776304,
          140165.57603050585,
          30314.514515401388,
          39823.9084330624,
          71231.9547249396,
          104626.51580293932,
          130588.36180066183,
          101669.90103708324,
          123790.60315596356,
          163313.87185336038,
          100401.83030657,
          90588.43409896069,
          130887.08839297794,
          194001.4401884624,
          68756.67246905417,
          115763.24912658591,
          91440.89110305786,
          33085.18954684146,
          130408.63355140896,
          103726.68375742936,
          182670.14186437137,
          112252.1082242342,
          90435.66613116035,
          222939.18274451615,
          35482.261312611874,
          80840.49117228735,
          131657.85970654164,
          114426.67083173814,
          125844.68553349664,
          98282.763868999,
          81395.6343022612,
          191179.19271131096,
          151669.1182753359,
          79740.33094232772,
          120616.0675990258,
          113419.05417456174,
          149078.22559493082,
          84081.347335756,
          120191.47209414674,
          77018.49856439937,
          87630.95337276983,
          54949.21183446632,
          63478.052942034,
          146816.0639313632,
          151323.2929859341,
          91419.7350131536,
          78750.9082335447,
          67698.81719580281,
          41734.0487363697,
          106730.06163191715,
          85875.97869780219,
          77169.11517076369,
          161348.05702135916,
          130486.64727482712,
          185472.2161967202,
          100754.77253107991,
          181875.96314110176,
          131069.28366338562,
          93472.83718191716,
          150092.8195681632,
          185054.55778307296,
          111578.47841863136,
          90450.167650978,
          96487.52682090484,
          54701.98463353862,
          154839.34645021646,
          65092.67686114532,
          121204.24463848356,
          88597.43616620087,
          147140.55718000556,
          127821.81965366704,
          120252.28103385432,
          117293.35455967725,
          125681.8063631177,
          156808.2324780593,
          97916.80490906822,
          173658.07551425474,
          132439.29280581334,
          -16416.43593016638,
          208030.01931693088,
          121214.14131724909,
          114280.34809961363,
          119962.42213192915,
          94051.20209938676,
          41885.36820488055,
          102560.95884307125,
          88717.12937261915,
          92676.26574511788,
          168189.1842135294,
          188849.1462582941,
          113341.5717943748,
          93829.0451061806,
          55090.65024455612,
          141522.8824693018,
          -11330.865419648037,
          149282.99366631647,
          42507.61721878108,
          84578.79183237316,
          160352.2149935125,
          85855.99834177986,
          146357.32679250985,
          135356.7775651228,
          79005.78640290268,
          99468.47744883936,
          109321.18343126102,
          179100.91055698704,
          54098.12769627038,
          111896.1387767521,
          48828.32817273565,
          122888.49684625198,
          100674.611780192,
          56445.31948737554,
          118030.42794845956,
          76976.15401054872,
          900.6931157182698,
          15554.630754944725,
          122104.92126881736,
          160295.3071467971,
          152715.93185135428,
          86106.47758669326,
          127772.8260269742,
          67904.74527852362,
          40904.923844720266,
          139703.38773172433,
          78731.78953962005,
          165604.31855271966,
          112675.27864431655,
          177012.07627001707,
          110431.69164342077,
          20097.074508648657,
          80175.58222401701,
          123066.67712484006,
          63737.07661578021,
          38769.12173500816,
          177248.5858558108,
          36728.14317273412,
          90996.61696821883,
          2128.9989044958056,
          116996.35210588416,
          56540.330604876086,
          219378.50770776675,
          132127.06448996306,
          90271.23066467592,
          106423.00715708538,
          155261.65128073323,
          84455.93592796034,
          67051.7778436227,
          119282.54012710508,
          123323.30880556464,
          59474.33168273442,
          199.62658690813987,
          120590.8681043174,
          126001.90544138676,
          90700.5860485439,
          -20711.1560292184,
          112864.03484206996,
          49569.75301650026,
          185397.1056919012,
          46668.86098088129,
          121688.6477631196,
          30404.530262752,
          52717.64706592001,
          85529.75240156137,
          62785.29524178745,
          129593.40318080054,
          24159.368349445533,
          149459.23733081843,
          99319.1498984466,
          135504.7620423733,
          84739.11900836987,
          121579.45083884144,
          164719.4088746864,
          112918.3570608113,
          153303.1495125293,
          63493.05507338195,
          65086.16967859744,
          160096.68097145006,
          130425.07775750158,
          22356.700258330093,
          124139.4670111562,
          56064.45486039122,
          84821.58386638638,
          45990.77626086767,
          92177.61473918815,
          188241.75978002552,
          45906.1903605147,
          26767.05884762232,
          45239.68457642011,
          96291.78953093468,
          85696.52970497776,
          118971.8021355194,
          86837.73496622144,
          106535.88301692971,
          139317.89158533403,
          80235.53055392421,
          101762.75304459712,
          90774.05599688514,
          88240.7106897309,
          114416.6068219439,
          89630.58348578226,
          106190.16458980949,
          192692.7964324769,
          132888.98516080098,
          124831.91880137072,
          26583.94981068572,
          81006.81211050088,
          58510.94583938123,
          131261.6422720204,
          120615.94032757165,
          43389.66483885589,
          142838.16277032177,
          114174.73901877175,
          91438.85672647916,
          57121.744524296686,
          25452.292970681578,
          103593.44646027824,
          46130.49946228533,
          142270.09316154817,
          121579.69396873991,
          105651.01783647297,
          127309.78847667364,
          99945.41354972828,
          27903.816016968864,
          120892.52014941808,
          53306.23898916409,
          102490.28140110408,
          54393.09255859389,
          98628.83024045105,
          107377.54534433129,
          166854.88481307996,
          57805.19518864671,
          156790.589523741,
          101531.54937630332,
          35408.89779341132,
          69879.74335930825,
          128556.28135456317,
          37447.456333786045,
          25217.862290074365,
          71437.55085789184,
          19611.77461767594,
          90658.91101896268,
          137432.99810509002,
          103784.49409909736,
          68772.6368408142,
          67174.0216279326,
          118367.61990685038,
          69813.55345004547,
          92012.87288540976,
          22374.085403602192,
          150166.1514626909,
          51928.90248132827,
          49534.63194639166,
          161471.98614622751,
          66327.61624487696,
          48908.93330379413,
          124216.9509082346,
          80807.8735852227,
          128305.64397479375,
          144284.62450125953,
          78006.83469442218,
          104595.34371791343,
          -14108.569850249083,
          73463.29729408475,
          100234.02077240156,
          154702.6501301243,
          138605.15061269718,
          220308.65203269967,
          218134.74508438585,
          135101.1140222578,
          136811.12378394656,
          150826.6196903128,
          112432.5846174757,
          125719.35518372412,
          130001.86067132869,
          112163.90493007688,
          138851.77164906895,
          16893.016301042822,
          109358.63556999016,
          110104.6721105869,
          -6703.01798748711,
          199124.278046341,
          108282.2559077353,
          117433.16868902078,
          165745.5004912791,
          48930.02901458403,
          74296.65838761683,
          63329.03457916241,
          152336.93874937703,
          190824.0707465696,
          159068.5678905775,
          115280.27718868396,
          96394.22891993256,
          121268.8267124022,
          103847.65997484152,
          76266.51639267623,
          56166.80367807028,
          173695.8878895708,
          41909.08778163187,
          22308.739463335616,
          40367.43498418352,
          23522.771423746424,
          84261.17718404939,
          47109.38326608352,
          141973.47251108324,
          121439.31528299242,
          94918.79666901338,
          69537.30410211033,
          86121.55971580038,
          159238.53287887233,
          80527.70945114257,
          78107.63613240942,
          48106.103368307566,
          27999.761140799645,
          100743.74015088793,
          167424.32100849392,
          123350.12950414298,
          94465.77658808234,
          52808.99068353779,
          -21887.14603097961,
          225907.51288710337,
          129304.65618459778,
          88134.77030794173,
          26323.85503330757,
          67627.20934955089
         ],
         "yaxis": "y"
        }
       ],
       "layout": {
        "autosize": true,
        "barmode": "group",
        "legend": {
         "title": {
          "text": "Setor"
         },
         "tracegroupgap": 0
        },
        "template": {
         "data": {
          "bar": [
           {
            "error_x": {
             "color": "#2a3f5f"
            },
            "error_y": {
             "color": "#2a3f5f"
            },
            "marker": {
             "line": {
              "color": "#E5ECF6",
              "width": 0.5
             },
             "pattern": {
              "fillmode": "overlay",
              "size": 10,
              "solidity": 0.2
             }
            },
            "type": "bar"
           }
          ],
          "barpolar": [
           {
            "marker": {
             "line": {
              "color": "#E5ECF6",
              "width": 0.5
             },
             "pattern": {
              "fillmode": "overlay",
              "size": 10,
              "solidity": 0.2
             }
            },
            "type": "barpolar"
           }
          ],
          "carpet": [
           {
            "aaxis": {
             "endlinecolor": "#2a3f5f",
             "gridcolor": "white",
             "linecolor": "white",
             "minorgridcolor": "white",
             "startlinecolor": "#2a3f5f"
            },
            "baxis": {
             "endlinecolor": "#2a3f5f",
             "gridcolor": "white",
             "linecolor": "white",
             "minorgridcolor": "white",
             "startlinecolor": "#2a3f5f"
            },
            "type": "carpet"
           }
          ],
          "choropleth": [
           {
            "colorbar": {
             "outlinewidth": 0,
             "ticks": ""
            },
            "type": "choropleth"
           }
          ],
          "contour": [
           {
            "colorbar": {
             "outlinewidth": 0,
             "ticks": ""
            },
            "colorscale": [
             [
              0,
              "#0d0887"
             ],
             [
              0.1111111111111111,
              "#46039f"
             ],
             [
              0.2222222222222222,
              "#7201a8"
             ],
             [
              0.3333333333333333,
              "#9c179e"
             ],
             [
              0.4444444444444444,
              "#bd3786"
             ],
             [
              0.5555555555555556,
              "#d8576b"
             ],
             [
              0.6666666666666666,
              "#ed7953"
             ],
             [
              0.7777777777777778,
              "#fb9f3a"
             ],
             [
              0.8888888888888888,
              "#fdca26"
             ],
             [
              1,
              "#f0f921"
             ]
            ],
            "type": "contour"
           }
          ],
          "contourcarpet": [
           {
            "colorbar": {
             "outlinewidth": 0,
             "ticks": ""
            },
            "type": "contourcarpet"
           }
          ],
          "heatmap": [
           {
            "colorbar": {
             "outlinewidth": 0,
             "ticks": ""
            },
            "colorscale": [
             [
              0,
              "#0d0887"
             ],
             [
              0.1111111111111111,
              "#46039f"
             ],
             [
              0.2222222222222222,
              "#7201a8"
             ],
             [
              0.3333333333333333,
              "#9c179e"
             ],
             [
              0.4444444444444444,
              "#bd3786"
             ],
             [
              0.5555555555555556,
              "#d8576b"
             ],
             [
              0.6666666666666666,
              "#ed7953"
             ],
             [
              0.7777777777777778,
              "#fb9f3a"
             ],
             [
              0.8888888888888888,
              "#fdca26"
             ],
             [
              1,
              "#f0f921"
             ]
            ],
            "type": "heatmap"
           }
          ],
          "heatmapgl": [
           {
            "colorbar": {
             "outlinewidth": 0,
             "ticks": ""
            },
            "colorscale": [
             [
              0,
              "#0d0887"
             ],
             [
              0.1111111111111111,
              "#46039f"
             ],
             [
              0.2222222222222222,
              "#7201a8"
             ],
             [
              0.3333333333333333,
              "#9c179e"
             ],
             [
              0.4444444444444444,
              "#bd3786"
             ],
             [
              0.5555555555555556,
              "#d8576b"
             ],
             [
              0.6666666666666666,
              "#ed7953"
             ],
             [
              0.7777777777777778,
              "#fb9f3a"
             ],
             [
              0.8888888888888888,
              "#fdca26"
             ],
             [
              1,
              "#f0f921"
             ]
            ],
            "type": "heatmapgl"
           }
          ],
          "histogram": [
           {
            "marker": {
             "pattern": {
              "fillmode": "overlay",
              "size": 10,
              "solidity": 0.2
             }
            },
            "type": "histogram"
           }
          ],
          "histogram2d": [
           {
            "colorbar": {
             "outlinewidth": 0,
             "ticks": ""
            },
            "colorscale": [
             [
              0,
              "#0d0887"
             ],
             [
              0.1111111111111111,
              "#46039f"
             ],
             [
              0.2222222222222222,
              "#7201a8"
             ],
             [
              0.3333333333333333,
              "#9c179e"
             ],
             [
              0.4444444444444444,
              "#bd3786"
             ],
             [
              0.5555555555555556,
              "#d8576b"
             ],
             [
              0.6666666666666666,
              "#ed7953"
             ],
             [
              0.7777777777777778,
              "#fb9f3a"
             ],
             [
              0.8888888888888888,
              "#fdca26"
             ],
             [
              1,
              "#f0f921"
             ]
            ],
            "type": "histogram2d"
           }
          ],
          "histogram2dcontour": [
           {
            "colorbar": {
             "outlinewidth": 0,
             "ticks": ""
            },
            "colorscale": [
             [
              0,
              "#0d0887"
             ],
             [
              0.1111111111111111,
              "#46039f"
             ],
             [
              0.2222222222222222,
              "#7201a8"
             ],
             [
              0.3333333333333333,
              "#9c179e"
             ],
             [
              0.4444444444444444,
              "#bd3786"
             ],
             [
              0.5555555555555556,
              "#d8576b"
             ],
             [
              0.6666666666666666,
              "#ed7953"
             ],
             [
              0.7777777777777778,
              "#fb9f3a"
             ],
             [
              0.8888888888888888,
              "#fdca26"
             ],
             [
              1,
              "#f0f921"
             ]
            ],
            "type": "histogram2dcontour"
           }
          ],
          "mesh3d": [
           {
            "colorbar": {
             "outlinewidth": 0,
             "ticks": ""
            },
            "type": "mesh3d"
           }
          ],
          "parcoords": [
           {
            "line": {
             "colorbar": {
              "outlinewidth": 0,
              "ticks": ""
             }
            },
            "type": "parcoords"
           }
          ],
          "pie": [
           {
            "automargin": true,
            "type": "pie"
           }
          ],
          "scatter": [
           {
            "fillpattern": {
             "fillmode": "overlay",
             "size": 10,
             "solidity": 0.2
            },
            "type": "scatter"
           }
          ],
          "scatter3d": [
           {
            "line": {
             "colorbar": {
              "outlinewidth": 0,
              "ticks": ""
             }
            },
            "marker": {
             "colorbar": {
              "outlinewidth": 0,
              "ticks": ""
             }
            },
            "type": "scatter3d"
           }
          ],
          "scattercarpet": [
           {
            "marker": {
             "colorbar": {
              "outlinewidth": 0,
              "ticks": ""
             }
            },
            "type": "scattercarpet"
           }
          ],
          "scattergeo": [
           {
            "marker": {
             "colorbar": {
              "outlinewidth": 0,
              "ticks": ""
             }
            },
            "type": "scattergeo"
           }
          ],
          "scattergl": [
           {
            "marker": {
             "colorbar": {
              "outlinewidth": 0,
              "ticks": ""
             }
            },
            "type": "scattergl"
           }
          ],
          "scattermapbox": [
           {
            "marker": {
             "colorbar": {
              "outlinewidth": 0,
              "ticks": ""
             }
            },
            "type": "scattermapbox"
           }
          ],
          "scatterpolar": [
           {
            "marker": {
             "colorbar": {
              "outlinewidth": 0,
              "ticks": ""
             }
            },
            "type": "scatterpolar"
           }
          ],
          "scatterpolargl": [
           {
            "marker": {
             "colorbar": {
              "outlinewidth": 0,
              "ticks": ""
             }
            },
            "type": "scatterpolargl"
           }
          ],
          "scatterternary": [
           {
            "marker": {
             "colorbar": {
              "outlinewidth": 0,
              "ticks": ""
             }
            },
            "type": "scatterternary"
           }
          ],
          "surface": [
           {
            "colorbar": {
             "outlinewidth": 0,
             "ticks": ""
            },
            "colorscale": [
             [
              0,
              "#0d0887"
             ],
             [
              0.1111111111111111,
              "#46039f"
             ],
             [
              0.2222222222222222,
              "#7201a8"
             ],
             [
              0.3333333333333333,
              "#9c179e"
             ],
             [
              0.4444444444444444,
              "#bd3786"
             ],
             [
              0.5555555555555556,
              "#d8576b"
             ],
             [
              0.6666666666666666,
              "#ed7953"
             ],
             [
              0.7777777777777778,
              "#fb9f3a"
             ],
             [
              0.8888888888888888,
              "#fdca26"
             ],
             [
              1,
              "#f0f921"
             ]
            ],
            "type": "surface"
           }
          ],
          "table": [
           {
            "cells": {
             "fill": {
              "color": "#EBF0F8"
             },
             "line": {
              "color": "white"
             }
            },
            "header": {
             "fill": {
              "color": "#C8D4E3"
             },
             "line": {
              "color": "white"
             }
            },
            "type": "table"
           }
          ]
         },
         "layout": {
          "annotationdefaults": {
           "arrowcolor": "#2a3f5f",
           "arrowhead": 0,
           "arrowwidth": 1
          },
          "autotypenumbers": "strict",
          "coloraxis": {
           "colorbar": {
            "outlinewidth": 0,
            "ticks": ""
           }
          },
          "colorscale": {
           "diverging": [
            [
             0,
             "#8e0152"
            ],
            [
             0.1,
             "#c51b7d"
            ],
            [
             0.2,
             "#de77ae"
            ],
            [
             0.3,
             "#f1b6da"
            ],
            [
             0.4,
             "#fde0ef"
            ],
            [
             0.5,
             "#f7f7f7"
            ],
            [
             0.6,
             "#e6f5d0"
            ],
            [
             0.7,
             "#b8e186"
            ],
            [
             0.8,
             "#7fbc41"
            ],
            [
             0.9,
             "#4d9221"
            ],
            [
             1,
             "#276419"
            ]
           ],
           "sequential": [
            [
             0,
             "#0d0887"
            ],
            [
             0.1111111111111111,
             "#46039f"
            ],
            [
             0.2222222222222222,
             "#7201a8"
            ],
            [
             0.3333333333333333,
             "#9c179e"
            ],
            [
             0.4444444444444444,
             "#bd3786"
            ],
            [
             0.5555555555555556,
             "#d8576b"
            ],
            [
             0.6666666666666666,
             "#ed7953"
            ],
            [
             0.7777777777777778,
             "#fb9f3a"
            ],
            [
             0.8888888888888888,
             "#fdca26"
            ],
            [
             1,
             "#f0f921"
            ]
           ],
           "sequentialminus": [
            [
             0,
             "#0d0887"
            ],
            [
             0.1111111111111111,
             "#46039f"
            ],
            [
             0.2222222222222222,
             "#7201a8"
            ],
            [
             0.3333333333333333,
             "#9c179e"
            ],
            [
             0.4444444444444444,
             "#bd3786"
            ],
            [
             0.5555555555555556,
             "#d8576b"
            ],
            [
             0.6666666666666666,
             "#ed7953"
            ],
            [
             0.7777777777777778,
             "#fb9f3a"
            ],
            [
             0.8888888888888888,
             "#fdca26"
            ],
            [
             1,
             "#f0f921"
            ]
           ]
          },
          "colorway": [
           "#636efa",
           "#EF553B",
           "#00cc96",
           "#ab63fa",
           "#FFA15A",
           "#19d3f3",
           "#FF6692",
           "#B6E880",
           "#FF97FF",
           "#FECB52"
          ],
          "font": {
           "color": "#2a3f5f"
          },
          "geo": {
           "bgcolor": "white",
           "lakecolor": "white",
           "landcolor": "#E5ECF6",
           "showlakes": true,
           "showland": true,
           "subunitcolor": "white"
          },
          "hoverlabel": {
           "align": "left"
          },
          "hovermode": "closest",
          "mapbox": {
           "style": "light"
          },
          "paper_bgcolor": "white",
          "plot_bgcolor": "#E5ECF6",
          "polar": {
           "angularaxis": {
            "gridcolor": "white",
            "linecolor": "white",
            "ticks": ""
           },
           "bgcolor": "#E5ECF6",
           "radialaxis": {
            "gridcolor": "white",
            "linecolor": "white",
            "ticks": ""
           }
          },
          "scene": {
           "xaxis": {
            "backgroundcolor": "#E5ECF6",
            "gridcolor": "white",
            "gridwidth": 2,
            "linecolor": "white",
            "showbackground": true,
            "ticks": "",
            "zerolinecolor": "white"
           },
           "yaxis": {
            "backgroundcolor": "#E5ECF6",
            "gridcolor": "white",
            "gridwidth": 2,
            "linecolor": "white",
            "showbackground": true,
            "ticks": "",
            "zerolinecolor": "white"
           },
           "zaxis": {
            "backgroundcolor": "#E5ECF6",
            "gridcolor": "white",
            "gridwidth": 2,
            "linecolor": "white",
            "showbackground": true,
            "ticks": "",
            "zerolinecolor": "white"
           }
          },
          "shapedefaults": {
           "line": {
            "color": "#2a3f5f"
           }
          },
          "ternary": {
           "aaxis": {
            "gridcolor": "white",
            "linecolor": "white",
            "ticks": ""
           },
           "baxis": {
            "gridcolor": "white",
            "linecolor": "white",
            "ticks": ""
           },
           "bgcolor": "#E5ECF6",
           "caxis": {
            "gridcolor": "white",
            "linecolor": "white",
            "ticks": ""
           }
          },
          "title": {
           "x": 0.05
          },
          "xaxis": {
           "automargin": true,
           "gridcolor": "white",
           "linecolor": "white",
           "ticks": "",
           "title": {
            "standoff": 15
           },
           "zerolinecolor": "white",
           "zerolinewidth": 2
          },
          "yaxis": {
           "automargin": true,
           "gridcolor": "white",
           "linecolor": "white",
           "ticks": "",
           "title": {
            "standoff": 15
           },
           "zerolinecolor": "white",
           "zerolinewidth": 2
          }
         }
        },
        "title": {
         "text": "Contribuição dos Setores para as Emissões de CO2 por Continente"
        },
        "xaxis": {
         "anchor": "y",
         "autorange": true,
         "domain": [
          0,
          1
         ],
         "range": [
          -0.5,
          5.5
         ],
         "title": {
          "text": "Continente"
         },
         "type": "category"
        },
        "yaxis": {
         "anchor": "x",
         "autorange": true,
         "domain": [
          0,
          1
         ],
         "range": [
          -740119.6187596575,
          11772652.322014693
         ],
         "title": {
          "text": "Emissões_CO2 (toneladas)"
         },
         "type": "linear"
        }
       }
      },
      "text/html": [
       "<div>                            <div id=\"e22e7e7d-e7aa-4510-b4ae-0906943eadd5\" class=\"plotly-graph-div\" style=\"height:525px; width:100%;\"></div>            <script type=\"text/javascript\">                require([\"plotly\"], function(Plotly) {                    window.PLOTLYENV=window.PLOTLYENV || {};                                    if (document.getElementById(\"e22e7e7d-e7aa-4510-b4ae-0906943eadd5\")) {                    Plotly.newPlot(                        \"e22e7e7d-e7aa-4510-b4ae-0906943eadd5\",                        [{\"alignmentgroup\":\"True\",\"customdata\":[[2000],[2000],[2000],[2000],[2000],[2000],[2000],[2000],[2000],[2000],[2000],[2000],[2000],[2000],[2000],[2000],[2000],[2000],[2000],[2000],[2000],[2000],[2000],[2000],[2000],[2000],[2000],[2000],[2000],[2001],[2001],[2001],[2001],[2001],[2001],[2001],[2001],[2001],[2001],[2001],[2001],[2001],[2001],[2001],[2001],[2001],[2001],[2001],[2001],[2001],[2001],[2001],[2002],[2002],[2002],[2002],[2002],[2002],[2002],[2002],[2002],[2002],[2002],[2002],[2002],[2002],[2002],[2002],[2002],[2002],[2002],[2002],[2002],[2003],[2003],[2003],[2003],[2003],[2003],[2003],[2003],[2003],[2003],[2003],[2003],[2003],[2003],[2003],[2003],[2004],[2004],[2004],[2004],[2004],[2004],[2004],[2004],[2004],[2004],[2004],[2004],[2004],[2004],[2004],[2004],[2004],[2004],[2004],[2004],[2004],[2004],[2005],[2005],[2005],[2005],[2005],[2005],[2005],[2005],[2005],[2005],[2005],[2005],[2005],[2005],[2005],[2005],[2005],[2005],[2005],[2005],[2005],[2005],[2005],[2006],[2006],[2006],[2006],[2006],[2006],[2006],[2006],[2006],[2006],[2006],[2006],[2006],[2006],[2006],[2006],[2006],[2006],[2006],[2006],[2006],[2006],[2006],[2007],[2007],[2007],[2007],[2007],[2007],[2007],[2007],[2007],[2007],[2007],[2007],[2007],[2007],[2007],[2007],[2007],[2008],[2008],[2008],[2008],[2008],[2008],[2008],[2008],[2008],[2008],[2008],[2008],[2008],[2008],[2008],[2008],[2008],[2008],[2008],[2008],[2008],[2008],[2009],[2009],[2009],[2009],[2009],[2009],[2009],[2009],[2009],[2009],[2009],[2009],[2009],[2009],[2009],[2009],[2009],[2009],[2009],[2009],[2009],[2009],[2009],[2009],[2009],[2009],[2009],[2009],[2009],[2009],[2010],[2010],[2010],[2010],[2010],[2010],[2010],[2010],[2010],[2010],[2010],[2010],[2010],[2010],[2010],[2010],[2010],[2010],[2010],[2010],[2010],[2010],[2010],[2010],[2010],[2010],[2010],[2010],[2011],[2011],[2011],[2011],[2011],[2011],[2011],[2011],[2011],[2011],[2011],[2011],[2011],[2011],[2011],[2011],[2011],[2011],[2012],[2012],[2012],[2012],[2012],[2012],[2012],[2012],[2012],[2012],[2012],[2012],[2012],[2012],[2012],[2012],[2012],[2012],[2012],[2012],[2012],[2012],[2012],[2012],[2012],[2012],[2012],[2012],[2012],[2012],[2012],[2012],[2013],[2013],[2013],[2013],[2013],[2013],[2013],[2013],[2013],[2013],[2013],[2013],[2013],[2013],[2013],[2013],[2013],[2013],[2013],[2013],[2013],[2013],[2014],[2014],[2014],[2014],[2014],[2014],[2014],[2014],[2014],[2014],[2014],[2014],[2014],[2014],[2014],[2014],[2014],[2014],[2014],[2014],[2014],[2014],[2014],[2014],[2014],[2014],[2014],[2015],[2015],[2015],[2015],[2015],[2015],[2015],[2015],[2015],[2015],[2015],[2015],[2015],[2015],[2015],[2015],[2015],[2015],[2016],[2016],[2016],[2016],[2016],[2016],[2016],[2016],[2016],[2016],[2016],[2016],[2016],[2016],[2016],[2016],[2016],[2017],[2017],[2017],[2017],[2017],[2017],[2017],[2017],[2017],[2017],[2017],[2017],[2018],[2018],[2018],[2018],[2018],[2018],[2018],[2018],[2018],[2018],[2018],[2018],[2018],[2018],[2018],[2018],[2018],[2018],[2018],[2018],[2018],[2018],[2018],[2019],[2019],[2019],[2019],[2019],[2019],[2019],[2019],[2019],[2019],[2019],[2019],[2019],[2019],[2019],[2019],[2019],[2019],[2019],[2019],[2020],[2020],[2020],[2020],[2020],[2020],[2020],[2020],[2020],[2020],[2020],[2020],[2020],[2020],[2020],[2020],[2020],[2020],[2020],[2020],[2020],[2020],[2020],[2020],[2021],[2021],[2021],[2021],[2021],[2021],[2021],[2021],[2021],[2021],[2021],[2021],[2021],[2021],[2021],[2021],[2021],[2021],[2021],[2022],[2022],[2022],[2022],[2022],[2022],[2022],[2022],[2022],[2022],[2022],[2022],[2022],[2022],[2022],[2022],[2022],[2022],[2022],[2022]],\"hovertemplate\":\"Setor=Residencial\\u003cbr\\u003eContinente=%{x}\\u003cbr\\u003eEmiss\\u00f5es_CO2 (toneladas)=%{y}\\u003cbr\\u003eAno=%{customdata[0]}\\u003cextra\\u003e\\u003c\\u002fextra\\u003e\",\"legendgroup\":\"Residencial\",\"marker\":{\"color\":\"#636efa\",\"pattern\":{\"shape\":\"\"}},\"name\":\"Residencial\",\"offsetgroup\":\"Residencial\",\"orientation\":\"v\",\"showlegend\":true,\"textposition\":\"auto\",\"x\":[\"Am\\u00e9rica do Sul\",\"Am\\u00e9rica do Sul\",\"Am\\u00e9rica do Sul\",\"\\u00c1frica\",\"Am\\u00e9rica do Sul\",\"Am\\u00e9rica do Norte\",\"Am\\u00e9rica do Sul\",\"\\u00c1frica\",\"Am\\u00e9rica do Norte\",\"Am\\u00e9rica do Norte\",\"Oceania\",\"Europa\",\"Oceania\",\"Oceania\",\"\\u00c1frica\",\"Oceania\",\"Am\\u00e9rica do Sul\",\"\\u00c1sia\",\"Am\\u00e9rica do Norte\",\"\\u00c1frica\",\"Am\\u00e9rica do Sul\",\"Am\\u00e9rica do Sul\",\"Europa\",\"Europa\",\"Oceania\",\"Oceania\",\"\\u00c1sia\",\"\\u00c1frica\",\"Am\\u00e9rica do Sul\",\"Am\\u00e9rica do Sul\",\"Am\\u00e9rica do Norte\",\"Am\\u00e9rica do Norte\",\"\\u00c1sia\",\"\\u00c1frica\",\"\\u00c1frica\",\"Europa\",\"Europa\",\"Oceania\",\"Europa\",\"Am\\u00e9rica do Norte\",\"Europa\",\"\\u00c1sia\",\"Europa\",\"Am\\u00e9rica do Sul\",\"Am\\u00e9rica do Norte\",\"Europa\",\"\\u00c1sia\",\"Am\\u00e9rica do Norte\",\"Am\\u00e9rica do Norte\",\"\\u00c1sia\",\"Europa\",\"Am\\u00e9rica do Norte\",\"\\u00c1sia\",\"\\u00c1sia\",\"Am\\u00e9rica do Norte\",\"\\u00c1sia\",\"Am\\u00e9rica do Norte\",\"Am\\u00e9rica do Norte\",\"Am\\u00e9rica do Norte\",\"Am\\u00e9rica do Norte\",\"Am\\u00e9rica do Sul\",\"Am\\u00e9rica do Norte\",\"Am\\u00e9rica do Norte\",\"Europa\",\"\\u00c1sia\",\"Oceania\",\"Am\\u00e9rica do Norte\",\"\\u00c1sia\",\"Oceania\",\"Am\\u00e9rica do Norte\",\"\\u00c1frica\",\"Am\\u00e9rica do Sul\",\"Am\\u00e9rica do Norte\",\"Oceania\",\"Europa\",\"Europa\",\"\\u00c1frica\",\"\\u00c1sia\",\"\\u00c1sia\",\"Am\\u00e9rica do Norte\",\"Europa\",\"Oceania\",\"Oceania\",\"Europa\",\"Am\\u00e9rica do Sul\",\"Am\\u00e9rica do Sul\",\"Am\\u00e9rica do Norte\",\"\\u00c1frica\",\"Europa\",\"Europa\",\"Oceania\",\"Am\\u00e9rica do Sul\",\"Europa\",\"Am\\u00e9rica do Sul\",\"\\u00c1frica\",\"Am\\u00e9rica do Norte\",\"Europa\",\"Europa\",\"Europa\",\"Am\\u00e9rica do Norte\",\"\\u00c1sia\",\"\\u00c1sia\",\"Am\\u00e9rica do Norte\",\"\\u00c1frica\",\"Am\\u00e9rica do Sul\",\"Am\\u00e9rica do Norte\",\"Oceania\",\"\\u00c1frica\",\"Am\\u00e9rica do Norte\",\"Oceania\",\"Am\\u00e9rica do Sul\",\"Am\\u00e9rica do Norte\",\"Am\\u00e9rica do Norte\",\"\\u00c1sia\",\"\\u00c1frica\",\"Am\\u00e9rica do Norte\",\"Am\\u00e9rica do Sul\",\"Am\\u00e9rica do Norte\",\"\\u00c1sia\",\"\\u00c1sia\",\"\\u00c1frica\",\"Am\\u00e9rica do Sul\",\"Oceania\",\"Europa\",\"\\u00c1sia\",\"\\u00c1sia\",\"Am\\u00e9rica do Sul\",\"\\u00c1sia\",\"\\u00c1frica\",\"Am\\u00e9rica do Sul\",\"Am\\u00e9rica do Sul\",\"Am\\u00e9rica do Norte\",\"Am\\u00e9rica do Sul\",\"Am\\u00e9rica do Sul\",\"\\u00c1sia\",\"Am\\u00e9rica do Norte\",\"Am\\u00e9rica do Sul\",\"Oceania\",\"Oceania\",\"Europa\",\"Oceania\",\"\\u00c1frica\",\"\\u00c1frica\",\"\\u00c1frica\",\"Oceania\",\"Europa\",\"Am\\u00e9rica do Sul\",\"Am\\u00e9rica do Norte\",\"Am\\u00e9rica do Sul\",\"\\u00c1sia\",\"Am\\u00e9rica do Sul\",\"Am\\u00e9rica do Sul\",\"\\u00c1frica\",\"Am\\u00e9rica do Norte\",\"Am\\u00e9rica do Sul\",\"Am\\u00e9rica do Sul\",\"\\u00c1frica\",\"Am\\u00e9rica do Norte\",\"Am\\u00e9rica do Sul\",\"\\u00c1sia\",\"Europa\",\"Oceania\",\"\\u00c1sia\",\"\\u00c1sia\",\"\\u00c1frica\",\"Am\\u00e9rica do Sul\",\"Oceania\",\"Europa\",\"Am\\u00e9rica do Norte\",\"Am\\u00e9rica do Sul\",\"\\u00c1frica\",\"Oceania\",\"Am\\u00e9rica do Norte\",\"\\u00c1frica\",\"Oceania\",\"Am\\u00e9rica do Sul\",\"Oceania\",\"Europa\",\"Oceania\",\"Am\\u00e9rica do Sul\",\"Europa\",\"Europa\",\"\\u00c1sia\",\"Am\\u00e9rica do Norte\",\"Oceania\",\"Oceania\",\"Am\\u00e9rica do Norte\",\"Oceania\",\"Europa\",\"Europa\",\"Am\\u00e9rica do Norte\",\"\\u00c1sia\",\"\\u00c1frica\",\"Oceania\",\"\\u00c1sia\",\"Am\\u00e9rica do Sul\",\"Am\\u00e9rica do Sul\",\"Oceania\",\"Europa\",\"\\u00c1sia\",\"Europa\",\"Am\\u00e9rica do Sul\",\"Am\\u00e9rica do Sul\",\"\\u00c1frica\",\"\\u00c1frica\",\"\\u00c1frica\",\"Oceania\",\"Am\\u00e9rica do Sul\",\"Europa\",\"Am\\u00e9rica do Norte\",\"Europa\",\"\\u00c1sia\",\"Am\\u00e9rica do Sul\",\"Oceania\",\"Oceania\",\"Europa\",\"\\u00c1sia\",\"Am\\u00e9rica do Norte\",\"Oceania\",\"Am\\u00e9rica do Sul\",\"Europa\",\"Am\\u00e9rica do Sul\",\"Am\\u00e9rica do Sul\",\"Am\\u00e9rica do Sul\",\"Am\\u00e9rica do Sul\",\"Oceania\",\"Oceania\",\"\\u00c1frica\",\"Am\\u00e9rica do Sul\",\"\\u00c1frica\",\"Am\\u00e9rica do Sul\",\"\\u00c1frica\",\"Europa\",\"Europa\",\"Europa\",\"Oceania\",\"\\u00c1sia\",\"Europa\",\"\\u00c1frica\",\"\\u00c1frica\",\"Am\\u00e9rica do Sul\",\"Am\\u00e9rica do Sul\",\"Am\\u00e9rica do Norte\",\"Oceania\",\"\\u00c1sia\",\"Europa\",\"Am\\u00e9rica do Norte\",\"Oceania\",\"Europa\",\"\\u00c1frica\",\"\\u00c1frica\",\"Am\\u00e9rica do Norte\",\"Am\\u00e9rica do Sul\",\"\\u00c1sia\",\"Oceania\",\"\\u00c1sia\",\"Am\\u00e9rica do Sul\",\"Oceania\",\"\\u00c1frica\",\"\\u00c1sia\",\"Am\\u00e9rica do Norte\",\"Am\\u00e9rica do Norte\",\"Am\\u00e9rica do Sul\",\"Europa\",\"\\u00c1frica\",\"\\u00c1frica\",\"Oceania\",\"\\u00c1frica\",\"Am\\u00e9rica do Norte\",\"Oceania\",\"\\u00c1frica\",\"\\u00c1frica\",\"Europa\",\"\\u00c1frica\",\"\\u00c1frica\",\"Europa\",\"Am\\u00e9rica do Sul\",\"\\u00c1sia\",\"\\u00c1sia\",\"Am\\u00e9rica do Sul\",\"\\u00c1sia\",\"Am\\u00e9rica do Norte\",\"Am\\u00e9rica do Norte\",\"\\u00c1frica\",\"\\u00c1frica\",\"Oceania\",\"\\u00c1sia\",\"Am\\u00e9rica do Sul\",\"Am\\u00e9rica do Norte\",\"Am\\u00e9rica do Norte\",\"Am\\u00e9rica do Norte\",\"Oceania\",\"Am\\u00e9rica do Sul\",\"Oceania\",\"Am\\u00e9rica do Sul\",\"\\u00c1frica\",\"Am\\u00e9rica do Sul\",\"Am\\u00e9rica do Norte\",\"Am\\u00e9rica do Norte\",\"Am\\u00e9rica do Norte\",\"Europa\",\"Europa\",\"\\u00c1sia\",\"\\u00c1sia\",\"Am\\u00e9rica do Sul\",\"Europa\",\"Europa\",\"\\u00c1sia\",\"Oceania\",\"\\u00c1frica\",\"Am\\u00e9rica do Norte\",\"\\u00c1sia\",\"Europa\",\"Oceania\",\"\\u00c1sia\",\"\\u00c1frica\",\"Europa\",\"Am\\u00e9rica do Sul\",\"\\u00c1frica\",\"\\u00c1frica\",\"Oceania\",\"Europa\",\"\\u00c1sia\",\"\\u00c1frica\",\"Europa\",\"\\u00c1sia\",\"Am\\u00e9rica do Norte\",\"Oceania\",\"\\u00c1sia\",\"\\u00c1sia\",\"Oceania\",\"Am\\u00e9rica do Norte\",\"\\u00c1sia\",\"Am\\u00e9rica do Norte\",\"Am\\u00e9rica do Sul\",\"Europa\",\"\\u00c1sia\",\"\\u00c1sia\",\"Am\\u00e9rica do Norte\",\"Am\\u00e9rica do Sul\",\"Oceania\",\"Am\\u00e9rica do Sul\",\"Am\\u00e9rica do Norte\",\"Oceania\",\"\\u00c1frica\",\"Am\\u00e9rica do Sul\",\"\\u00c1sia\",\"Am\\u00e9rica do Norte\",\"Am\\u00e9rica do Sul\",\"\\u00c1sia\",\"Oceania\",\"\\u00c1frica\",\"\\u00c1frica\",\"Oceania\",\"\\u00c1sia\",\"\\u00c1sia\",\"Oceania\",\"\\u00c1frica\",\"\\u00c1sia\",\"\\u00c1sia\",\"\\u00c1sia\",\"\\u00c1sia\",\"Europa\",\"\\u00c1sia\",\"Am\\u00e9rica do Sul\",\"Europa\",\"Am\\u00e9rica do Norte\",\"\\u00c1frica\",\"Am\\u00e9rica do Sul\",\"\\u00c1sia\",\"Europa\",\"Am\\u00e9rica do Norte\",\"Am\\u00e9rica do Sul\",\"\\u00c1sia\",\"Oceania\",\"\\u00c1sia\",\"Europa\",\"Europa\",\"Am\\u00e9rica do Norte\",\"Am\\u00e9rica do Sul\",\"Am\\u00e9rica do Sul\",\"\\u00c1sia\",\"Oceania\",\"\\u00c1frica\",\"Am\\u00e9rica do Sul\",\"Europa\",\"\\u00c1frica\",\"\\u00c1frica\",\"Europa\",\"\\u00c1sia\",\"\\u00c1sia\",\"Oceania\",\"Europa\",\"\\u00c1sia\",\"Am\\u00e9rica do Sul\",\"Am\\u00e9rica do Sul\",\"Am\\u00e9rica do Norte\",\"Oceania\",\"Oceania\",\"Europa\",\"Oceania\",\"Oceania\",\"\\u00c1sia\",\"\\u00c1sia\",\"Am\\u00e9rica do Norte\",\"Europa\",\"Europa\",\"Europa\",\"Am\\u00e9rica do Norte\",\"\\u00c1sia\",\"Europa\",\"\\u00c1frica\",\"\\u00c1frica\",\"Oceania\",\"\\u00c1frica\",\"Am\\u00e9rica do Norte\",\"Am\\u00e9rica do Norte\",\"\\u00c1sia\",\"\\u00c1frica\",\"Oceania\",\"Oceania\",\"Am\\u00e9rica do Sul\",\"Am\\u00e9rica do Sul\",\"Am\\u00e9rica do Norte\",\"Am\\u00e9rica do Norte\",\"Am\\u00e9rica do Norte\",\"Am\\u00e9rica do Norte\",\"Oceania\",\"Oceania\",\"Am\\u00e9rica do Norte\",\"Am\\u00e9rica do Norte\",\"Am\\u00e9rica do Norte\",\"\\u00c1frica\",\"Oceania\",\"Oceania\",\"Europa\",\"Am\\u00e9rica do Norte\",\"\\u00c1frica\",\"\\u00c1sia\",\"Am\\u00e9rica do Norte\",\"Am\\u00e9rica do Sul\",\"Am\\u00e9rica do Sul\",\"\\u00c1frica\",\"Am\\u00e9rica do Norte\",\"Am\\u00e9rica do Norte\",\"\\u00c1sia\",\"Europa\",\"Europa\",\"Europa\",\"Europa\",\"Am\\u00e9rica do Norte\",\"Am\\u00e9rica do Norte\",\"\\u00c1frica\",\"\\u00c1sia\",\"Am\\u00e9rica do Norte\",\"\\u00c1frica\",\"Oceania\",\"Europa\",\"Europa\",\"Am\\u00e9rica do Norte\",\"Am\\u00e9rica do Sul\",\"Am\\u00e9rica do Norte\",\"\\u00c1sia\",\"Am\\u00e9rica do Norte\",\"\\u00c1frica\",\"Europa\",\"Am\\u00e9rica do Norte\",\"Am\\u00e9rica do Norte\",\"\\u00c1frica\",\"Europa\",\"Am\\u00e9rica do Norte\",\"Am\\u00e9rica do Norte\",\"Am\\u00e9rica do Norte\",\"Oceania\",\"Am\\u00e9rica do Sul\",\"Am\\u00e9rica do Norte\",\"Europa\",\"Am\\u00e9rica do Sul\",\"\\u00c1sia\",\"Oceania\",\"Am\\u00e9rica do Norte\",\"Oceania\",\"Am\\u00e9rica do Norte\",\"Europa\",\"Am\\u00e9rica do Norte\",\"Am\\u00e9rica do Sul\",\"\\u00c1frica\",\"Europa\",\"Europa\",\"\\u00c1frica\",\"\\u00c1frica\",\"\\u00c1frica\",\"Am\\u00e9rica do Norte\",\"Oceania\",\"Oceania\",\"Am\\u00e9rica do Sul\",\"\\u00c1sia\",\"Am\\u00e9rica do Sul\",\"\\u00c1frica\",\"Am\\u00e9rica do Norte\",\"Am\\u00e9rica do Norte\",\"\\u00c1frica\",\"Am\\u00e9rica do Norte\",\"\\u00c1sia\",\"Am\\u00e9rica do Sul\",\"Europa\"],\"xaxis\":\"x\",\"y\":[90806.22092575004,90718.9431148646,134397.94958513664,101059.42196251174,129424.3576279904,205821.2125099637,35789.283045985234,87831.89843076798,151060.00627922732,103003.30040077004,126559.0389954859,117505.61496056596,128180.05136121888,139458.9071844935,54854.76152374082,93144.41799065824,54929.67221783084,-1157.0207622851449,4732.563441213148,77622.0057621856,91799.26335339223,136182.6278441347,-32097.948656043503,67043.37595626159,165039.89721187393,26820.37731733451,144427.72705734492,64263.06967914613,-800.0235465374135,108932.31178262988,59727.007437785454,146673.1991553972,117361.85822257272,56489.05677847292,150339.02656015893,15586.289295575,111255.89833700436,169913.13579203733,91450.8182582648,67110.09518944364,30927.37173077125,87101.51485032243,95871.0801522183,36102.78504447343,100142.80657842604,117681.27704882476,128310.28865403426,79668.39374668506,116298.03139577807,15808.42879360859,23176.053433701032,123020.80375861654,16827.55353700822,161076.8812140777,182825.27613720443,21070.08825752388,75583.94891522054,125305.61874420752,184460.14753310263,42659.12470190111,60598.61867184116,88980.67207946104,50436.00653468139,80005.6844456393,55048.982358302674,126832.42603271444,123127.37554094371,64412.05786418228,35689.19915056139,93517.60676740814,67973.73448651485,46015.45262840181,15629.805929011753,71064.27037340442,-29949.595508006503,136314.604871833,57705.16254788124,63767.027998234575,3571.822471708961,92707.6504750585,91359.04405014132,175243.31832824112,82771.79751812255,27260.242949388263,129814.2233777968,84418.99362607501,92819.71192134247,84274.20462837115,47049.95743660653,66966.86324530184,163966.45975031125,-12635.472896259656,108368.3714807806,141989.01697077832,125227.82285606884,158126.70543396525,61624.535327165344,167693.2932796116,98164.52607587964,140143.81019956278,177144.9061138364,62184.96894078122,61438.47849454319,229499.58507794404,-10562.025750088287,95188.87646613356,150038.41404002224,93035.06926139252,94509.37834672024,150263.4851554542,153467.90821702167,47933.64293347292,51431.786989216256,124280.00465345503,127800.953789094,134678.94912088572,121235.53873615785,105955.6957847284,91685.9686330062,156715.86348727718,56378.13686818544,91481.89027617988,136666.31887292868,62375.66407041879,120565.9997988218,78369.95291601664,99228.89930209068,88794.40719295625,157014.37513052614,134633.90526410364,128173.23202468862,112382.04156525304,65676.8877311392,77670.97413461789,187898.45858066363,3477.778921576712,92502.51490008336,159838.25924269424,131344.40261056746,168316.15167329123,82068.42815574183,54793.17438026195,83729.29240146292,38388.25436003915,116832.96929149875,-13618.344216647964,72049.33000052,112735.46526736398,53872.315529964086,76680.56726824967,203292.8887271254,68976.05940026899,145325.71400225765,103147.09838548032,-19941.37921075904,81946.08396837207,108695.53746399548,64161.98135689261,139615.74828307942,101167.49954070464,52905.0457931736,50937.31285244234,206930.3059634518,92200.42556864924,87646.78886591338,42976.9287727991,192824.68168991568,-35835.56970377054,78883.5893514462,170364.17656674556,134545.28069117182,79897.30473296256,147299.70498321566,71992.83914375836,80991.77833630308,126407.62581105206,52079.63540869101,159129.68524784475,100579.01723776844,114709.93064416685,86310.37883319994,92591.63325703947,110778.96004243044,60933.10938886332,82804.24732076317,98073.6528837094,44536.393574240654,20281.20180212015,88295.10551412198,49968.99796333069,87197.0424541639,56190.49351346944,52607.691596698525,125138.99237590824,105470.01185701834,80537.33190789359,23897.76541976226,111897.33309342824,86997.4853722492,140165.2172716874,34120.52929624308,58096.14120648571,172947.3907169659,128327.7566852058,79165.3577674566,134630.19714695675,158195.0490368661,91022.16361412632,146270.76676586267,117979.76341533483,35222.257575637086,79874.78153794594,143604.63586432522,96521.39045813064,50669.15256359067,128562.94764653512,37864.16688899727,152527.84100574022,39148.358126612846,74747.2001218437,158528.78992352504,63492.933155993975,53824.23290557551,154720.8057774516,88179.65889294827,160326.7241604566,69560.26732426863,187174.3298049773,118667.0599422365,125989.86991854476,75072.28258175316,76074.91644626929,48827.93491029546,135071.29875136912,79018.02925013367,73865.1071049347,85870.00545287019,77869.6321933936,127648.8442156222,-9560.489775146983,117930.71017133664,141201.40064600875,122611.37529330664,121521.52922712183,135601.3815164626,70473.08831956051,86744.6303495806,55569.55483153686,101671.72076034406,59209.81906586259,156779.93470499,72321.15039469156,57746.7569093881,140110.25018828132,54510.33768681501,70092.63616024419,102621.43443956078,105634.61442349914,82429.60201162205,133540.58516697615,99702.29581809769,50079.72254485945,119577.50436610298,30026.667516843227,142813.6356881346,110850.8170791954,133926.09040438372,75026.01655204725,172793.49572075327,81165.29549886416,99139.28167723988,97424.36607896212,63021.3795440972,82446.10367636321,192852.63868694435,-2979.5636364713864,1545.1370319741254,75230.1795662654,145988.55213327697,138678.47975638064,162422.41524672008,58160.18516615469,182670.20045020408,107446.46131093614,109190.34852245275,147221.81534779683,76854.82625795783,131710.12302383542,167276.46686785782,165527.79583124816,137464.01057640993,97467.8282153146,29217.10853144005,71085.16310599758,1753.007255698889,103941.40819539406,74957.33781425649,154457.16696215217,77125.71511285947,153798.35291283828,146397.9817111023,221585.17665409343,85830.12961055736,72871.2744202075,128493.57982705212,86818.58332809465,14876.152861977142,52549.066702669465,90077.24041547449,165210.43390521692,118075.86650705512,87121.28914757783,171873.80793259066,151605.01448705024,103954.8656525298,127023.03558252486,43477.33591206971,72355.64085110254,72049.35748448595,64483.74600630667,91105.39961847223,122976.47275290285,7317.916906595172,183755.54523822825,81840.48669058978,156662.9213999873,136912.8585572695,83329.35474195672,75589.29554945987,81570.70998248128,8866.539566255757,84031.71955571156,148277.24512071224,89058.35846289061,138857.40621042848,103701.16589154444,70557.69037025777,62548.7557623477,81288.49021134284,127505.66034449548,76553.51233816268,186780.80318329905,169220.6202331737,105914.61459945267,91946.47990025958,105979.99071793703,32528.99860701023,50736.13146712343,42532.29739424175,89601.51172699204,79117.82830201404,170742.59866545838,170965.60833946086,126044.15847924988,74283.19632452518,52468.9526042914,98120.40859764173,93665.66758042305,85171.34762605336,65027.33444202248,168480.70136599807,112800.487392533,82528.06997606429,41940.80191869009,15110.763923042134,162971.878933934,181853.85516287215,122175.06840338776,133290.56398339703,233154.8581811134,105614.718988284,162213.10993284345,91678.90402726553,76209.63641826624,154415.07478839674,93667.59636103484,50303.51313772055,36834.555136397226,123742.05263357656,96329.58148905863,63429.54941769717,81383.16305349839,158007.47913041298,111853.26003648707,29964.6676052939,182185.720767114,170089.33429617193,112484.40574257146,74507.86562282967,133840.6984021901,30613.85002356308,-471.14835740400304,69979.13169764628,74864.04762037257,157851.28853092328,99173.7244184022,33869.84547296312,101922.03517960657,75735.8067541011,51562.18411750984,94926.04797586404,60279.58222888988,129873.68274145974,110318.2347661587,181196.0190760269,157342.6971051356,102982.0290153832,100120.8508311025,132220.24057203947,110909.31043015647,130995.62469742012,114193.75156131868,87289.1595680887,116716.6667139872,94507.1955259924,146873.17866486538,71290.5281587447,79223.92351302446,233137.12629464403,155142.24695286478,25052.42855502569,110172.78569080672,58577.70558200111,198601.13753927223,49545.69919366751,76606.34150017201,98529.33191640888,132910.37204424336,143507.57278607457,110864.370899925,50418.79993917318,115224.21818017552,110300.5884867632,23943.74548058727,111342.44890842016,69461.50629571479,98626.35290000794,141409.68450315628,177376.3649680356,120479.51839292885,90768.71439826544,117101.02986026368,134043.5105063396,138972.72719809835,140160.85876851066,115472.23097358173,27718.712357508542,104882.0444375402,113728.53725036696,85667.47304671863,119482.77283103726,127330.3499147625,204629.3169547008,119107.34975475293,121203.24432737476,151360.38614251738,80376.52910934531,17501.81536456413,84744.4017535092,42977.88940706581,89454.34826583862,29811.2294043584,136835.58562383003,151283.4389697932,76457.00976552695,60426.685719868525,134871.9691101795,127271.77668995036,197241.58989023857,151834.27481084722,105357.53640006644,146103.36689626524,171539.0067141498,46243.79084447332,161056.6808549655,120577.15537686716,124251.31728482163,104527.61793930017,206424.01481553068,40274.61581220792,119070.0294878521,59205.410090477664,80050.2091324245,74170.01349515546,112479.67600873492,49397.95652205517,107024.68034970175,39372.73997482137,91390.70181653636,158480.05489437535,128518.87532205298,63812.52821194079,100621.97561883276,26887.057999093697,169459.5719684918,19663.820925767708,148686.44657475382,112384.23436380835,32495.972232721542,110585.7775095549,166826.73851750925,132824.44081219303,98245.28894969016,166414.5573285502,116268.5938298492,121866.2135918066],\"yaxis\":\"y\",\"type\":\"bar\"},{\"alignmentgroup\":\"True\",\"customdata\":[[2000],[2000],[2000],[2000],[2000],[2000],[2000],[2000],[2000],[2000],[2000],[2000],[2000],[2000],[2000],[2000],[2000],[2000],[2000],[2000],[2000],[2000],[2000],[2001],[2001],[2001],[2001],[2001],[2001],[2001],[2001],[2001],[2001],[2001],[2001],[2001],[2001],[2001],[2001],[2001],[2001],[2001],[2001],[2001],[2001],[2001],[2001],[2001],[2001],[2001],[2001],[2001],[2002],[2002],[2002],[2002],[2002],[2002],[2002],[2002],[2002],[2002],[2002],[2002],[2002],[2002],[2002],[2002],[2002],[2002],[2002],[2002],[2002],[2002],[2002],[2002],[2002],[2002],[2002],[2002],[2002],[2003],[2003],[2003],[2003],[2003],[2003],[2003],[2003],[2003],[2003],[2003],[2003],[2003],[2003],[2003],[2003],[2003],[2003],[2003],[2003],[2004],[2004],[2004],[2004],[2004],[2004],[2004],[2004],[2004],[2004],[2004],[2004],[2004],[2004],[2004],[2004],[2005],[2005],[2005],[2005],[2005],[2005],[2005],[2005],[2005],[2005],[2005],[2005],[2005],[2005],[2005],[2005],[2005],[2005],[2005],[2005],[2005],[2005],[2005],[2005],[2005],[2006],[2006],[2006],[2006],[2006],[2006],[2006],[2006],[2006],[2006],[2006],[2006],[2006],[2006],[2006],[2006],[2006],[2006],[2006],[2006],[2006],[2006],[2006],[2006],[2006],[2007],[2007],[2007],[2007],[2007],[2007],[2007],[2007],[2007],[2007],[2007],[2007],[2007],[2007],[2007],[2007],[2007],[2008],[2008],[2008],[2008],[2008],[2008],[2008],[2008],[2008],[2008],[2008],[2008],[2008],[2008],[2008],[2008],[2008],[2008],[2008],[2009],[2009],[2009],[2009],[2009],[2009],[2009],[2009],[2009],[2009],[2009],[2009],[2009],[2009],[2009],[2009],[2009],[2009],[2009],[2010],[2010],[2010],[2010],[2010],[2010],[2010],[2010],[2010],[2010],[2010],[2010],[2010],[2010],[2010],[2010],[2010],[2010],[2010],[2011],[2011],[2011],[2011],[2011],[2011],[2011],[2011],[2011],[2011],[2011],[2011],[2011],[2011],[2011],[2011],[2011],[2011],[2011],[2011],[2012],[2012],[2012],[2012],[2012],[2012],[2012],[2012],[2012],[2013],[2013],[2013],[2013],[2013],[2013],[2013],[2013],[2013],[2013],[2013],[2013],[2013],[2013],[2014],[2014],[2014],[2014],[2014],[2014],[2014],[2014],[2014],[2014],[2014],[2014],[2014],[2014],[2014],[2014],[2014],[2014],[2014],[2014],[2014],[2014],[2014],[2014],[2014],[2015],[2015],[2015],[2015],[2015],[2015],[2015],[2015],[2015],[2015],[2015],[2015],[2015],[2015],[2015],[2015],[2015],[2015],[2015],[2015],[2015],[2015],[2015],[2015],[2015],[2015],[2016],[2016],[2016],[2016],[2016],[2016],[2016],[2016],[2016],[2016],[2016],[2016],[2016],[2016],[2016],[2016],[2016],[2016],[2016],[2017],[2017],[2017],[2017],[2017],[2017],[2017],[2017],[2017],[2017],[2017],[2017],[2017],[2017],[2017],[2017],[2017],[2017],[2017],[2017],[2018],[2018],[2018],[2018],[2018],[2018],[2018],[2018],[2018],[2018],[2018],[2018],[2018],[2018],[2018],[2018],[2018],[2018],[2018],[2018],[2018],[2018],[2018],[2018],[2018],[2018],[2018],[2018],[2018],[2018],[2019],[2019],[2019],[2019],[2019],[2019],[2019],[2019],[2019],[2019],[2019],[2019],[2019],[2019],[2019],[2019],[2019],[2019],[2019],[2019],[2019],[2019],[2019],[2019],[2019],[2019],[2019],[2020],[2020],[2020],[2020],[2020],[2020],[2020],[2020],[2020],[2020],[2020],[2020],[2020],[2020],[2020],[2020],[2020],[2020],[2020],[2020],[2020],[2020],[2020],[2021],[2021],[2021],[2021],[2021],[2021],[2021],[2021],[2021],[2021],[2021],[2021],[2021],[2021],[2021],[2021],[2021],[2022],[2022],[2022],[2022],[2022],[2022],[2022],[2022],[2022],[2022],[2022],[2022],[2022],[2022],[2022],[2022],[2022],[2022],[2022],[2022],[2022],[2022],[2022],[2022],[2022]],\"hovertemplate\":\"Setor=Transporte\\u003cbr\\u003eContinente=%{x}\\u003cbr\\u003eEmiss\\u00f5es_CO2 (toneladas)=%{y}\\u003cbr\\u003eAno=%{customdata[0]}\\u003cextra\\u003e\\u003c\\u002fextra\\u003e\",\"legendgroup\":\"Transporte\",\"marker\":{\"color\":\"#EF553B\",\"pattern\":{\"shape\":\"\"}},\"name\":\"Transporte\",\"offsetgroup\":\"Transporte\",\"orientation\":\"v\",\"showlegend\":true,\"textposition\":\"auto\",\"x\":[\"Am\\u00e9rica do Sul\",\"Europa\",\"Am\\u00e9rica do Norte\",\"Am\\u00e9rica do Sul\",\"Am\\u00e9rica do Sul\",\"Oceania\",\"Oceania\",\"Am\\u00e9rica do Sul\",\"\\u00c1sia\",\"Europa\",\"\\u00c1sia\",\"\\u00c1sia\",\"\\u00c1sia\",\"\\u00c1sia\",\"Am\\u00e9rica do Norte\",\"\\u00c1frica\",\"Am\\u00e9rica do Sul\",\"Am\\u00e9rica do Norte\",\"\\u00c1frica\",\"Oceania\",\"\\u00c1frica\",\"Am\\u00e9rica do Sul\",\"\\u00c1sia\",\"Am\\u00e9rica do Norte\",\"\\u00c1frica\",\"\\u00c1frica\",\"\\u00c1sia\",\"\\u00c1frica\",\"\\u00c1frica\",\"Am\\u00e9rica do Norte\",\"\\u00c1sia\",\"Am\\u00e9rica do Sul\",\"Am\\u00e9rica do Norte\",\"\\u00c1sia\",\"Am\\u00e9rica do Norte\",\"Oceania\",\"\\u00c1sia\",\"\\u00c1sia\",\"\\u00c1sia\",\"Europa\",\"Europa\",\"Europa\",\"Am\\u00e9rica do Norte\",\"Am\\u00e9rica do Norte\",\"\\u00c1sia\",\"Am\\u00e9rica do Sul\",\"\\u00c1frica\",\"Am\\u00e9rica do Sul\",\"Oceania\",\"Europa\",\"Am\\u00e9rica do Norte\",\"Oceania\",\"\\u00c1sia\",\"\\u00c1frica\",\"\\u00c1sia\",\"\\u00c1sia\",\"\\u00c1frica\",\"Europa\",\"Am\\u00e9rica do Sul\",\"Oceania\",\"Oceania\",\"Am\\u00e9rica do Sul\",\"Am\\u00e9rica do Sul\",\"Am\\u00e9rica do Sul\",\"Europa\",\"Am\\u00e9rica do Norte\",\"Oceania\",\"Am\\u00e9rica do Norte\",\"Oceania\",\"Am\\u00e9rica do Norte\",\"Am\\u00e9rica do Norte\",\"Am\\u00e9rica do Norte\",\"\\u00c1sia\",\"Europa\",\"\\u00c1sia\",\"Oceania\",\"Oceania\",\"Oceania\",\"Am\\u00e9rica do Sul\",\"Am\\u00e9rica do Norte\",\"Am\\u00e9rica do Norte\",\"\\u00c1frica\",\"Am\\u00e9rica do Sul\",\"\\u00c1frica\",\"Europa\",\"Am\\u00e9rica do Norte\",\"Am\\u00e9rica do Sul\",\"Am\\u00e9rica do Norte\",\"\\u00c1sia\",\"\\u00c1frica\",\"Am\\u00e9rica do Sul\",\"\\u00c1frica\",\"Oceania\",\"Am\\u00e9rica do Norte\",\"Europa\",\"\\u00c1sia\",\"Europa\",\"\\u00c1frica\",\"Europa\",\"\\u00c1sia\",\"Oceania\",\"\\u00c1frica\",\"Am\\u00e9rica do Norte\",\"Europa\",\"Oceania\",\"Am\\u00e9rica do Sul\",\"\\u00c1sia\",\"\\u00c1sia\",\"\\u00c1frica\",\"\\u00c1frica\",\"Am\\u00e9rica do Norte\",\"\\u00c1sia\",\"\\u00c1frica\",\"Oceania\",\"Oceania\",\"Europa\",\"Oceania\",\"Oceania\",\"Oceania\",\"\\u00c1sia\",\"Europa\",\"Oceania\",\"\\u00c1frica\",\"Am\\u00e9rica do Sul\",\"Oceania\",\"Oceania\",\"Am\\u00e9rica do Norte\",\"Am\\u00e9rica do Sul\",\"Oceania\",\"Oceania\",\"\\u00c1sia\",\"Am\\u00e9rica do Sul\",\"\\u00c1frica\",\"\\u00c1frica\",\"\\u00c1frica\",\"Oceania\",\"Am\\u00e9rica do Sul\",\"Oceania\",\"Oceania\",\"\\u00c1sia\",\"Am\\u00e9rica do Norte\",\"Am\\u00e9rica do Norte\",\"Europa\",\"Europa\",\"\\u00c1sia\",\"\\u00c1sia\",\"Am\\u00e9rica do Sul\",\"Europa\",\"Europa\",\"Am\\u00e9rica do Sul\",\"Am\\u00e9rica do Norte\",\"\\u00c1sia\",\"Am\\u00e9rica do Norte\",\"\\u00c1sia\",\"Am\\u00e9rica do Sul\",\"Am\\u00e9rica do Norte\",\"\\u00c1sia\",\"Am\\u00e9rica do Norte\",\"Am\\u00e9rica do Sul\",\"Oceania\",\"\\u00c1frica\",\"\\u00c1sia\",\"Europa\",\"Europa\",\"\\u00c1sia\",\"Am\\u00e9rica do Sul\",\"Am\\u00e9rica do Sul\",\"Am\\u00e9rica do Sul\",\"\\u00c1frica\",\"Oceania\",\"Am\\u00e9rica do Norte\",\"Europa\",\"Am\\u00e9rica do Norte\",\"\\u00c1sia\",\"Oceania\",\"Am\\u00e9rica do Sul\",\"\\u00c1sia\",\"Oceania\",\"\\u00c1sia\",\"Am\\u00e9rica do Sul\",\"Oceania\",\"Am\\u00e9rica do Norte\",\"\\u00c1sia\",\"\\u00c1frica\",\"Oceania\",\"Am\\u00e9rica do Norte\",\"Europa\",\"Europa\",\"Am\\u00e9rica do Sul\",\"\\u00c1sia\",\"\\u00c1frica\",\"Am\\u00e9rica do Sul\",\"\\u00c1frica\",\"Oceania\",\"Europa\",\"\\u00c1sia\",\"Am\\u00e9rica do Sul\",\"\\u00c1frica\",\"Europa\",\"\\u00c1frica\",\"Am\\u00e9rica do Sul\",\"Europa\",\"Europa\",\"Am\\u00e9rica do Norte\",\"Oceania\",\"Europa\",\"\\u00c1frica\",\"\\u00c1sia\",\"Am\\u00e9rica do Sul\",\"Am\\u00e9rica do Sul\",\"Am\\u00e9rica do Sul\",\"\\u00c1sia\",\"\\u00c1sia\",\"\\u00c1frica\",\"\\u00c1frica\",\"Am\\u00e9rica do Sul\",\"Oceania\",\"Europa\",\"Am\\u00e9rica do Norte\",\"\\u00c1sia\",\"Am\\u00e9rica do Sul\",\"Am\\u00e9rica do Sul\",\"\\u00c1frica\",\"\\u00c1frica\",\"\\u00c1sia\",\"Am\\u00e9rica do Norte\",\"Europa\",\"Am\\u00e9rica do Sul\",\"Am\\u00e9rica do Sul\",\"Oceania\",\"Am\\u00e9rica do Sul\",\"Oceania\",\"Oceania\",\"\\u00c1frica\",\"Oceania\",\"\\u00c1sia\",\"Am\\u00e9rica do Sul\",\"\\u00c1sia\",\"Am\\u00e9rica do Sul\",\"\\u00c1sia\",\"Am\\u00e9rica do Sul\",\"Europa\",\"\\u00c1frica\",\"Am\\u00e9rica do Norte\",\"Am\\u00e9rica do Norte\",\"Am\\u00e9rica do Sul\",\"Oceania\",\"\\u00c1sia\",\"Europa\",\"Am\\u00e9rica do Norte\",\"Am\\u00e9rica do Norte\",\"\\u00c1frica\",\"Am\\u00e9rica do Norte\",\"Europa\",\"Am\\u00e9rica do Norte\",\"Europa\",\"\\u00c1sia\",\"Oceania\",\"\\u00c1frica\",\"\\u00c1sia\",\"Oceania\",\"Europa\",\"Europa\",\"\\u00c1frica\",\"Am\\u00e9rica do Norte\",\"\\u00c1sia\",\"\\u00c1frica\",\"\\u00c1sia\",\"Am\\u00e9rica do Norte\",\"Am\\u00e9rica do Norte\",\"Am\\u00e9rica do Norte\",\"\\u00c1sia\",\"Oceania\",\"Am\\u00e9rica do Sul\",\"Oceania\",\"Am\\u00e9rica do Norte\",\"Europa\",\"Oceania\",\"Oceania\",\"Europa\",\"Europa\",\"Oceania\",\"\\u00c1sia\",\"\\u00c1sia\",\"Europa\",\"Am\\u00e9rica do Norte\",\"Am\\u00e9rica do Norte\",\"\\u00c1sia\",\"Am\\u00e9rica do Norte\",\"Am\\u00e9rica do Sul\",\"Am\\u00e9rica do Sul\",\"Europa\",\"\\u00c1frica\",\"Am\\u00e9rica do Sul\",\"Oceania\",\"Oceania\",\"Oceania\",\"\\u00c1frica\",\"\\u00c1sia\",\"Oceania\",\"Oceania\",\"Am\\u00e9rica do Sul\",\"Europa\",\"\\u00c1frica\",\"Europa\",\"Am\\u00e9rica do Sul\",\"Am\\u00e9rica do Sul\",\"Am\\u00e9rica do Norte\",\"Oceania\",\"\\u00c1frica\",\"Europa\",\"Am\\u00e9rica do Norte\",\"Am\\u00e9rica do Sul\",\"Am\\u00e9rica do Norte\",\"\\u00c1sia\",\"\\u00c1frica\",\"Am\\u00e9rica do Norte\",\"Am\\u00e9rica do Sul\",\"Am\\u00e9rica do Norte\",\"\\u00c1frica\",\"Am\\u00e9rica do Sul\",\"\\u00c1sia\",\"Oceania\",\"Europa\",\"\\u00c1sia\",\"\\u00c1sia\",\"Am\\u00e9rica do Norte\",\"\\u00c1sia\",\"Am\\u00e9rica do Norte\",\"Oceania\",\"Am\\u00e9rica do Sul\",\"Am\\u00e9rica do Norte\",\"\\u00c1frica\",\"Europa\",\"\\u00c1sia\",\"\\u00c1sia\",\"Am\\u00e9rica do Norte\",\"Am\\u00e9rica do Sul\",\"\\u00c1frica\",\"\\u00c1frica\",\"Europa\",\"Oceania\",\"\\u00c1frica\",\"\\u00c1frica\",\"\\u00c1sia\",\"Am\\u00e9rica do Norte\",\"Europa\",\"\\u00c1sia\",\"Am\\u00e9rica do Norte\",\"Am\\u00e9rica do Norte\",\"Europa\",\"Am\\u00e9rica do Norte\",\"\\u00c1sia\",\"\\u00c1frica\",\"Oceania\",\"Am\\u00e9rica do Sul\",\"Europa\",\"Europa\",\"Oceania\",\"\\u00c1sia\",\"Am\\u00e9rica do Norte\",\"\\u00c1frica\",\"Am\\u00e9rica do Norte\",\"Oceania\",\"Am\\u00e9rica do Sul\",\"Oceania\",\"\\u00c1frica\",\"\\u00c1sia\",\"Am\\u00e9rica do Sul\",\"\\u00c1sia\",\"Oceania\",\"\\u00c1frica\",\"\\u00c1frica\",\"Oceania\",\"Europa\",\"\\u00c1sia\",\"Oceania\",\"Europa\",\"\\u00c1frica\",\"Am\\u00e9rica do Norte\",\"Am\\u00e9rica do Norte\",\"Europa\",\"Europa\",\"Oceania\",\"\\u00c1frica\",\"Oceania\",\"Europa\",\"Europa\",\"Europa\",\"Oceania\",\"Europa\",\"Oceania\",\"\\u00c1sia\",\"Am\\u00e9rica do Sul\",\"Europa\",\"Europa\",\"\\u00c1sia\",\"Oceania\",\"Am\\u00e9rica do Norte\",\"Am\\u00e9rica do Norte\",\"Am\\u00e9rica do Sul\",\"Am\\u00e9rica do Norte\",\"\\u00c1sia\",\"\\u00c1frica\",\"Am\\u00e9rica do Sul\",\"Am\\u00e9rica do Sul\",\"Am\\u00e9rica do Sul\",\"\\u00c1sia\",\"Am\\u00e9rica do Sul\",\"\\u00c1frica\",\"Oceania\",\"Europa\",\"\\u00c1frica\",\"\\u00c1sia\",\"Europa\",\"Oceania\",\"Oceania\",\"\\u00c1frica\",\"\\u00c1sia\",\"\\u00c1frica\",\"Europa\",\"\\u00c1frica\",\"Am\\u00e9rica do Sul\",\"Am\\u00e9rica do Sul\",\"Oceania\",\"Europa\",\"Oceania\",\"Oceania\",\"Am\\u00e9rica do Sul\",\"Am\\u00e9rica do Norte\",\"\\u00c1frica\",\"Am\\u00e9rica do Norte\",\"Europa\",\"Europa\",\"Europa\",\"Am\\u00e9rica do Sul\",\"Europa\",\"\\u00c1sia\",\"Oceania\",\"Am\\u00e9rica do Sul\",\"\\u00c1frica\",\"Europa\",\"Am\\u00e9rica do Sul\",\"Europa\",\"Oceania\",\"Am\\u00e9rica do Norte\",\"Europa\",\"Am\\u00e9rica do Sul\",\"\\u00c1frica\",\"Am\\u00e9rica do Sul\",\"Am\\u00e9rica do Norte\",\"Europa\",\"Oceania\",\"Oceania\",\"Europa\",\"Europa\",\"Am\\u00e9rica do Norte\",\"Europa\",\"\\u00c1frica\",\"Europa\",\"Oceania\",\"\\u00c1frica\",\"\\u00c1sia\",\"Am\\u00e9rica do Norte\",\"Am\\u00e9rica do Norte\",\"\\u00c1frica\",\"Am\\u00e9rica do Norte\",\"Oceania\",\"Oceania\",\"Oceania\",\"\\u00c1frica\",\"\\u00c1sia\",\"\\u00c1sia\",\"Am\\u00e9rica do Norte\",\"\\u00c1sia\",\"Am\\u00e9rica do Norte\",\"Europa\",\"\\u00c1sia\",\"Am\\u00e9rica do Sul\",\"Oceania\",\"Europa\",\"\\u00c1sia\",\"\\u00c1sia\",\"Oceania\",\"Europa\",\"Europa\",\"Oceania\",\"Am\\u00e9rica do Sul\",\"\\u00c1sia\",\"Europa\",\"\\u00c1frica\",\"\\u00c1sia\",\"Am\\u00e9rica do Sul\",\"Oceania\",\"\\u00c1sia\",\"Europa\"],\"xaxis\":\"x\",\"y\":[62266.15225199682,125153.62850157116,171511.84542224958,140935.60934079633,38763.45738687271,67215.10250652276,75430.13414262212,115949.6614332804,80787.41744878754,104892.93287152331,158721.9349134553,174026.92943042077,91745.5533857853,136698.76716775208,105147.94759542332,53085.00887148104,101678.68824092374,134892.79825425686,27710.317343115472,145668.18603029454,93110.34883578954,84794.06911642963,29093.23600034496,99149.08848913792,36674.99482635604,182352.4903105089,68887.21272055407,132544.82987185812,72820.05291269306,133102.904715312,185454.4578165112,183905.3655303299,146942.23816180244,103480.1571738758,19006.92089661135,74625.71506882053,97397.96534254742,127172.58912744146,106980.87086806283,112933.21851464224,125529.3014357177,77359.37793814659,67747.43017112793,122430.74698007424,90833.29866252688,24121.070626662116,105703.30377319345,75120.95340966182,76391.97807711228,131826.0689965753,103817.89888523424,83697.65233066976,43654.93985643279,28346.275119905116,223592.94332325784,130211.12831817128,119867.4364443612,106784.23146547946,144865.11622370692,61353.03127057111,150573.08853835566,59115.81690207792,5965.305502215677,151098.3906771139,121126.6186464299,157467.1797721266,47020.26853334117,77870.04925201417,196953.3734398276,150861.56752204132,116332.94775085512,45373.13944232983,112686.83352221898,125226.00444445512,145898.18347584768,162669.54242819123,121948.7643206259,124989.89369957004,47685.84344133821,109885.2721821965,49758.68045293825,84707.45183435187,170119.76362652972,129460.30932009708,34505.39388801097,48969.65507156524,17140.667815012464,194803.2077370608,166847.3801085862,28837.606062029605,44889.79316934394,139752.05371083505,-7457.222460063378,64831.43039572767,29347.6174974218,115877.06017493272,65977.07629759623,89666.69155008493,120155.93794923862,101737.56063779948,127714.7626128731,38291.28148122875,65354.97120498941,114958.14775162624,130196.17229681608,74258.09697062994,159548.90331051592,116546.60488070072,184303.81210614787,15442.787235857148,139156.52276676885,144749.29447258473,83389.27967412074,105140.822095076,114797.54576362896,97525.65256823618,54397.85997474759,130006.00338300467,117938.25993989498,111707.76009766525,104091.5551901274,67232.31942398286,59417.88025569786,67983.34205223373,103188.21156054996,189637.07590094488,78095.5457150485,154190.09581639897,48879.61862568401,49663.32050195648,134524.30225004375,55107.69405173633,127323.616353958,108207.947912829,1380.061210254964,107971.8619911032,111981.06258540982,79949.45247146183,150857.92690605565,109752.57672441738,152994.49258891476,131150.1529281563,68215.39729351329,49999.04500183655,167946.90983481432,15735.999827251217,115399.91746660792,91308.90134315734,68127.30494138734,223950.9530180918,116684.44080614112,139046.37874059484,63853.53303110365,128038.21753822303,12614.153104272877,101404.33788570232,170439.29554053972,138556.21812998966,88126.39634673203,46828.35238020842,90809.18793838492,130410.46380124905,-7593.784066555178,122565.19624946816,159990.8708962647,139119.6805298872,167062.15003192384,98267.84852085638,64664.10172569461,134184.90391598342,116059.83619963536,142123.52658341802,97854.6081587812,149642.15614074853,40916.193687272425,165148.36710710396,114315.90991766594,127422.25525075952,111577.84235853158,144775.82486863245,94723.36339846956,151189.03072957855,21620.193811811376,77464.10865584646,108619.76360811312,46039.94000264986,162898.02728209586,84785.11271474561,-13282.39520513,69076.0512478426,93526.61727201456,76655.89218849786,56602.31553320344,584.9889919271227,164488.8539653204,38658.188755515366,109350.33356807427,193446.16808816823,134864.59823352584,153620.3475205391,71222.6604646832,77619.08603785995,-11262.161282187531,74615.44855584405,122881.4164026357,125576.68435392008,51211.975596235,36185.41112680416,154799.5569037911,125251.79709599938,138945.74892489714,176911.87660736695,52590.95003661942,68131.13224551533,149689.31704242373,103809.91446954529,150712.86466156764,117019.58433859376,120331.80336301184,117935.883732822,150521.110571,111817.08592811615,195602.40908424003,51216.295743248345,147778.63040713553,103567.42284444766,106234.52507449416,57161.12277639694,26323.15687656231,116402.33959341416,181737.95144816377,37441.71951572593,46290.23108310798,95534.43001725715,102267.26017962942,12626.69939496192,101478.2923765496,-77.66936097397411,143341.92479601098,156775.85316204664,83561.98367659982,59303.15802819213,12884.241898118358,151755.64953980426,81717.13445501913,14789.49388718816,98981.90530118506,145773.4937229983,117439.65773292768,177446.8166533626,93957.62920921334,147775.25590521685,192240.1452495332,75897.52368330234,145683.49882567328,164414.89592729614,47774.98505197105,141737.97133210284,77853.2367982959,68986.75160801805,46283.69196260491,69460.0425125932,63906.28592939462,124866.45073441198,3854.5435841506114,142110.99733262847,157614.9151629936,92202.00839732176,136612.9610832494,62446.65227248981,12559.573854113769,14602.232166298942,218895.0457120915,119058.21483689292,230279.3636175132,152463.56735764767,34277.9897624142,160520.54331769174,-1499.6647765045636,116392.18692951498,99397.34207509834,102748.86272601562,51270.30038563553,100959.65808740072,115317.3775902837,39629.700439667504,177918.25734596932,219897.30834436647,101964.84478789209,20923.523297349675,143186.53973396355,131336.00955024952,111554.60534007108,191971.9152645844,128466.99717994912,109024.02438236904,95482.81364055692,119778.64740838567,104693.75708890575,43959.91040693331,109873.95689786824,76194.5517583425,70076.70838060544,243561.72806525015,156688.46637409364,50468.22565240745,157269.31423786675,103045.53010081944,18677.118274494947,140788.02992546908,129277.65133946209,54450.0641230386,31168.91574457833,99852.62790169836,87931.46596732285,34459.70800698633,105471.76697280753,151438.76265599823,203475.7250791039,80020.09100928351,120432.42165230656,176042.1210028453,126038.46253565964,71028.95612358066,26985.831922407586,50299.70711850095,44684.54532923832,31338.81407445595,16221.03407277273,141711.18909524177,229070.573120957,94749.95889459824,212662.59684206668,16463.84963210205,46007.22073985555,126935.54410924776,156708.6447790793,70119.29423974377,50057.02005382987,44012.21282990041,78769.845670416,101573.33446505676,89695.51783850188,-33664.998335876095,82678.89349481522,194881.79840324708,52424.34504701872,119874.53865404303,68540.57964839143,165326.0615298753,72902.57564138029,121560.72077035566,110465.4127198824,153329.7061354653,118340.594498063,187025.0482346824,-9570.418172756836,111736.66766535724,111439.981725503,25878.11018886825,171539.43454947654,193501.2449728998,191437.50310693576,60030.84872502188,57155.857034382105,8104.44578613984,74976.08104710323,75863.8185053746,94194.7636199445,112734.56567553236,47431.82822700864,167504.59978677938,161434.79353785288,77727.07179142973,22624.06404242608,90738.26108909932,90870.13141397442,141188.70061996637,141978.5138038002,127622.48960659426,84150.97148953995,20530.449949761158,74694.94222137854,55267.86670297604,91629.38855410132,155145.11815484578,37374.04841460876,143990.60560067685,145626.34322340583,4011.180155597264,95413.10172009112,88773.69896153166,91885.40776891808,54516.63503143328,53821.56109926565,83907.36175885513,143442.84810456308,135632.5132218677,37409.77080957429,41438.4396664787,33757.57578916804,92944.4912523568,-5932.60147029013,62284.01303389263,32390.49924197675,38581.625406692845,61926.62453671795,135930.83067314015,120577.78179534644,191221.5521103072,81406.08119245003,21866.888322397743,137255.4501926014,54461.99530306168,89090.25976788148,89334.353020293,154325.00411026733,115798.73895338924,119299.81146034008,14756.705478643897,114465.16977617714,14535.247125673108,141900.10283777167,167061.2576427958,101617.84224186924,79732.78446845413,123151.14731244797,43472.55461385673,43546.79264291976,126518.58305170476,118366.4704468733,76393.21699663068,94158.13983918652,212334.08792829985,38341.49038535497,45185.09129897418,6041.1221897331125,76612.30502548155,33256.7279763814,61475.24413712886,37807.47217570845,98094.92436671269,103160.88291558783,17732.03542469586,102836.84884943324,35275.31915750398,86316.42205810384,93896.75617630091,87581.18553858512,22711.86154856412,101833.61288143064,77720.80956811151,144447.241904465,139881.36838452597,132196.3325355011,122827.67319222898,65352.18167271145,77995.40648780513,102286.44658986492,137908.31125259647,36279.46209282544,221320.78063281032,-1605.7943245784843,127840.39153848692,26675.436855742228,32911.846578327924,118418.74771133256,94439.67679841277,-45615.18172730401,108794.035768975,150022.3608081721,62088.19352540399,158648.57395095652,54509.53713827181,21962.223214622296,132750.27718609496,114982.2937119732,200734.4377181909,151941.6662815365,37743.948899595205,99605.22699312776,176440.76147962536,195619.7298124075,72621.04544432843,13569.699801926065,90898.76971344955,96056.48227756804,144643.00823889405,32916.03286499859,144472.67003559502,146126.18076864592,121997.25981706788,121979.3074382695,145404.2703406572,145223.17738064838,78153.57763114804],\"yaxis\":\"y\",\"type\":\"bar\"},{\"alignmentgroup\":\"True\",\"customdata\":[[2000],[2000],[2000],[2000],[2000],[2000],[2000],[2000],[2000],[2000],[2000],[2000],[2000],[2000],[2000],[2000],[2000],[2000],[2000],[2000],[2000],[2000],[2000],[2001],[2001],[2001],[2001],[2001],[2001],[2001],[2001],[2001],[2001],[2001],[2001],[2001],[2001],[2001],[2001],[2001],[2001],[2001],[2001],[2001],[2001],[2001],[2001],[2001],[2001],[2002],[2002],[2002],[2002],[2002],[2002],[2002],[2002],[2002],[2002],[2002],[2002],[2002],[2002],[2002],[2002],[2002],[2002],[2003],[2003],[2003],[2003],[2003],[2003],[2003],[2003],[2003],[2003],[2003],[2003],[2003],[2003],[2003],[2003],[2003],[2003],[2003],[2003],[2003],[2003],[2003],[2003],[2003],[2003],[2004],[2004],[2004],[2004],[2004],[2004],[2004],[2004],[2004],[2004],[2004],[2004],[2004],[2004],[2004],[2004],[2004],[2004],[2005],[2005],[2005],[2005],[2005],[2005],[2005],[2005],[2005],[2005],[2005],[2005],[2005],[2005],[2005],[2005],[2005],[2005],[2005],[2005],[2005],[2005],[2005],[2005],[2005],[2005],[2005],[2005],[2005],[2005],[2005],[2005],[2005],[2005],[2005],[2006],[2006],[2006],[2006],[2006],[2006],[2006],[2006],[2006],[2006],[2006],[2006],[2006],[2006],[2006],[2006],[2006],[2006],[2006],[2006],[2006],[2006],[2006],[2006],[2006],[2006],[2006],[2006],[2006],[2006],[2006],[2006],[2007],[2007],[2007],[2007],[2007],[2007],[2007],[2007],[2007],[2007],[2007],[2007],[2007],[2007],[2007],[2007],[2007],[2007],[2007],[2007],[2007],[2008],[2008],[2008],[2008],[2008],[2008],[2008],[2008],[2008],[2008],[2008],[2008],[2008],[2008],[2009],[2009],[2009],[2009],[2009],[2009],[2009],[2009],[2009],[2009],[2009],[2009],[2009],[2009],[2009],[2009],[2009],[2009],[2009],[2009],[2009],[2009],[2009],[2010],[2010],[2010],[2010],[2010],[2010],[2010],[2010],[2010],[2010],[2010],[2010],[2010],[2010],[2010],[2010],[2010],[2010],[2010],[2010],[2011],[2011],[2011],[2011],[2011],[2011],[2011],[2011],[2011],[2011],[2011],[2011],[2011],[2011],[2011],[2011],[2011],[2011],[2011],[2011],[2011],[2011],[2011],[2011],[2012],[2012],[2012],[2012],[2012],[2012],[2012],[2012],[2012],[2012],[2012],[2012],[2012],[2012],[2012],[2012],[2012],[2012],[2012],[2013],[2013],[2013],[2013],[2013],[2013],[2013],[2013],[2013],[2013],[2013],[2013],[2013],[2013],[2013],[2013],[2013],[2013],[2013],[2014],[2014],[2014],[2014],[2014],[2014],[2014],[2014],[2014],[2014],[2014],[2014],[2015],[2015],[2015],[2015],[2015],[2015],[2015],[2015],[2015],[2015],[2015],[2015],[2015],[2015],[2015],[2015],[2015],[2015],[2015],[2015],[2015],[2015],[2015],[2015],[2015],[2015],[2015],[2016],[2016],[2016],[2016],[2016],[2016],[2016],[2016],[2016],[2016],[2016],[2016],[2016],[2016],[2016],[2016],[2016],[2016],[2016],[2016],[2017],[2017],[2017],[2017],[2017],[2017],[2017],[2017],[2017],[2017],[2017],[2017],[2017],[2017],[2017],[2017],[2017],[2017],[2017],[2017],[2017],[2018],[2018],[2018],[2018],[2018],[2018],[2018],[2018],[2018],[2018],[2018],[2018],[2018],[2018],[2018],[2018],[2018],[2018],[2018],[2018],[2018],[2018],[2018],[2018],[2018],[2018],[2018],[2019],[2019],[2019],[2019],[2019],[2019],[2019],[2019],[2019],[2019],[2019],[2019],[2019],[2019],[2019],[2019],[2019],[2019],[2020],[2020],[2020],[2020],[2020],[2020],[2020],[2020],[2020],[2020],[2020],[2020],[2020],[2020],[2020],[2020],[2020],[2020],[2020],[2020],[2020],[2020],[2020],[2020],[2020],[2020],[2020],[2020],[2020],[2020],[2020],[2020],[2021],[2021],[2021],[2021],[2021],[2021],[2021],[2021],[2021],[2021],[2021],[2021],[2021],[2021],[2021],[2021],[2021],[2021],[2021],[2021],[2021],[2021],[2021],[2021],[2021],[2021],[2021],[2021],[2022],[2022],[2022],[2022],[2022],[2022],[2022],[2022],[2022],[2022],[2022],[2022],[2022],[2022],[2022],[2022],[2022]],\"hovertemplate\":\"Setor=Comercial\\u003cbr\\u003eContinente=%{x}\\u003cbr\\u003eEmiss\\u00f5es_CO2 (toneladas)=%{y}\\u003cbr\\u003eAno=%{customdata[0]}\\u003cextra\\u003e\\u003c\\u002fextra\\u003e\",\"legendgroup\":\"Comercial\",\"marker\":{\"color\":\"#00cc96\",\"pattern\":{\"shape\":\"\"}},\"name\":\"Comercial\",\"offsetgroup\":\"Comercial\",\"orientation\":\"v\",\"showlegend\":true,\"textposition\":\"auto\",\"x\":[\"\\u00c1frica\",\"\\u00c1frica\",\"\\u00c1sia\",\"Oceania\",\"\\u00c1sia\",\"Oceania\",\"Europa\",\"Europa\",\"\\u00c1frica\",\"\\u00c1sia\",\"Europa\",\"\\u00c1frica\",\"Oceania\",\"Am\\u00e9rica do Norte\",\"Am\\u00e9rica do Norte\",\"\\u00c1sia\",\"\\u00c1sia\",\"Am\\u00e9rica do Norte\",\"Am\\u00e9rica do Norte\",\"Oceania\",\"\\u00c1frica\",\"Europa\",\"Oceania\",\"Am\\u00e9rica do Norte\",\"Am\\u00e9rica do Norte\",\"\\u00c1frica\",\"Am\\u00e9rica do Sul\",\"Europa\",\"\\u00c1sia\",\"Am\\u00e9rica do Norte\",\"\\u00c1sia\",\"\\u00c1frica\",\"\\u00c1sia\",\"Europa\",\"\\u00c1sia\",\"\\u00c1frica\",\"Oceania\",\"Am\\u00e9rica do Norte\",\"Europa\",\"Europa\",\"\\u00c1sia\",\"Oceania\",\"Europa\",\"\\u00c1sia\",\"Am\\u00e9rica do Norte\",\"\\u00c1frica\",\"Am\\u00e9rica do Sul\",\"Am\\u00e9rica do Norte\",\"Europa\",\"Am\\u00e9rica do Norte\",\"\\u00c1frica\",\"Am\\u00e9rica do Norte\",\"Am\\u00e9rica do Norte\",\"\\u00c1frica\",\"\\u00c1frica\",\"Am\\u00e9rica do Sul\",\"\\u00c1sia\",\"\\u00c1sia\",\"Am\\u00e9rica do Sul\",\"\\u00c1sia\",\"\\u00c1frica\",\"\\u00c1frica\",\"\\u00c1sia\",\"Europa\",\"\\u00c1frica\",\"\\u00c1sia\",\"Am\\u00e9rica do Norte\",\"\\u00c1frica\",\"\\u00c1sia\",\"Am\\u00e9rica do Norte\",\"Oceania\",\"Am\\u00e9rica do Sul\",\"Oceania\",\"Oceania\",\"Am\\u00e9rica do Sul\",\"Am\\u00e9rica do Sul\",\"Oceania\",\"Europa\",\"\\u00c1frica\",\"\\u00c1sia\",\"Oceania\",\"\\u00c1sia\",\"\\u00c1sia\",\"Oceania\",\"Am\\u00e9rica do Sul\",\"Europa\",\"\\u00c1frica\",\"Am\\u00e9rica do Norte\",\"\\u00c1frica\",\"Europa\",\"\\u00c1frica\",\"Am\\u00e9rica do Sul\",\"Am\\u00e9rica do Norte\",\"Am\\u00e9rica do Norte\",\"\\u00c1sia\",\"Oceania\",\"Am\\u00e9rica do Sul\",\"Am\\u00e9rica do Norte\",\"\\u00c1sia\",\"Europa\",\"Am\\u00e9rica do Norte\",\"Am\\u00e9rica do Norte\",\"Oceania\",\"Am\\u00e9rica do Norte\",\"Am\\u00e9rica do Sul\",\"Europa\",\"\\u00c1sia\",\"\\u00c1sia\",\"\\u00c1frica\",\"\\u00c1frica\",\"Europa\",\"Oceania\",\"\\u00c1frica\",\"Am\\u00e9rica do Sul\",\"Am\\u00e9rica do Sul\",\"Europa\",\"Am\\u00e9rica do Sul\",\"Am\\u00e9rica do Sul\",\"Europa\",\"Am\\u00e9rica do Norte\",\"Am\\u00e9rica do Sul\",\"Am\\u00e9rica do Norte\",\"\\u00c1frica\",\"Oceania\",\"\\u00c1sia\",\"Oceania\",\"Am\\u00e9rica do Sul\",\"\\u00c1sia\",\"\\u00c1frica\",\"Europa\",\"Am\\u00e9rica do Sul\",\"Am\\u00e9rica do Norte\",\"Oceania\",\"Am\\u00e9rica do Sul\",\"\\u00c1frica\",\"Oceania\",\"Europa\",\"\\u00c1sia\",\"Am\\u00e9rica do Norte\",\"\\u00c1sia\",\"Europa\",\"Am\\u00e9rica do Sul\",\"\\u00c1sia\",\"Europa\",\"Oceania\",\"Oceania\",\"Am\\u00e9rica do Norte\",\"Oceania\",\"Europa\",\"Am\\u00e9rica do Norte\",\"\\u00c1frica\",\"Am\\u00e9rica do Sul\",\"Am\\u00e9rica do Norte\",\"Am\\u00e9rica do Norte\",\"Oceania\",\"Am\\u00e9rica do Sul\",\"\\u00c1frica\",\"Oceania\",\"\\u00c1frica\",\"Am\\u00e9rica do Norte\",\"Am\\u00e9rica do Sul\",\"Am\\u00e9rica do Norte\",\"Europa\",\"Europa\",\"\\u00c1frica\",\"\\u00c1frica\",\"Am\\u00e9rica do Norte\",\"\\u00c1sia\",\"\\u00c1frica\",\"Oceania\",\"Am\\u00e9rica do Sul\",\"Europa\",\"Am\\u00e9rica do Norte\",\"\\u00c1frica\",\"\\u00c1frica\",\"Oceania\",\"Am\\u00e9rica do Norte\",\"\\u00c1sia\",\"Oceania\",\"Oceania\",\"Oceania\",\"Europa\",\"\\u00c1frica\",\"Oceania\",\"Am\\u00e9rica do Norte\",\"Am\\u00e9rica do Norte\",\"Oceania\",\"Am\\u00e9rica do Sul\",\"Oceania\",\"Am\\u00e9rica do Norte\",\"Europa\",\"\\u00c1frica\",\"\\u00c1frica\",\"Am\\u00e9rica do Sul\",\"\\u00c1frica\",\"Oceania\",\"Am\\u00e9rica do Sul\",\"Am\\u00e9rica do Norte\",\"\\u00c1frica\",\"Am\\u00e9rica do Norte\",\"Am\\u00e9rica do Sul\",\"Europa\",\"Am\\u00e9rica do Norte\",\"Am\\u00e9rica do Norte\",\"Am\\u00e9rica do Norte\",\"Am\\u00e9rica do Sul\",\"Am\\u00e9rica do Sul\",\"Oceania\",\"\\u00c1sia\",\"Am\\u00e9rica do Sul\",\"Am\\u00e9rica do Norte\",\"\\u00c1sia\",\"\\u00c1sia\",\"Oceania\",\"\\u00c1frica\",\"Am\\u00e9rica do Norte\",\"\\u00c1sia\",\"Oceania\",\"\\u00c1sia\",\"\\u00c1sia\",\"Oceania\",\"Am\\u00e9rica do Norte\",\"Am\\u00e9rica do Norte\",\"\\u00c1sia\",\"\\u00c1frica\",\"Oceania\",\"Europa\",\"Am\\u00e9rica do Sul\",\"\\u00c1frica\",\"Am\\u00e9rica do Norte\",\"Am\\u00e9rica do Norte\",\"\\u00c1sia\",\"Am\\u00e9rica do Sul\",\"Am\\u00e9rica do Norte\",\"Am\\u00e9rica do Sul\",\"\\u00c1frica\",\"Am\\u00e9rica do Sul\",\"Oceania\",\"Am\\u00e9rica do Norte\",\"Europa\",\"Oceania\",\"\\u00c1frica\",\"Oceania\",\"Am\\u00e9rica do Sul\",\"Am\\u00e9rica do Norte\",\"Am\\u00e9rica do Sul\",\"\\u00c1frica\",\"Oceania\",\"\\u00c1sia\",\"Europa\",\"Oceania\",\"\\u00c1frica\",\"Europa\",\"\\u00c1frica\",\"Am\\u00e9rica do Norte\",\"Am\\u00e9rica do Sul\",\"Am\\u00e9rica do Sul\",\"Am\\u00e9rica do Norte\",\"Europa\",\"\\u00c1frica\",\"Europa\",\"\\u00c1frica\",\"Oceania\",\"Europa\",\"Oceania\",\"\\u00c1sia\",\"Am\\u00e9rica do Norte\",\"Oceania\",\"Europa\",\"\\u00c1sia\",\"Oceania\",\"Europa\",\"\\u00c1sia\",\"\\u00c1sia\",\"Europa\",\"Oceania\",\"Oceania\",\"Oceania\",\"Oceania\",\"Am\\u00e9rica do Norte\",\"\\u00c1sia\",\"Am\\u00e9rica do Norte\",\"Oceania\",\"\\u00c1sia\",\"\\u00c1sia\",\"\\u00c1frica\",\"Am\\u00e9rica do Norte\",\"\\u00c1sia\",\"\\u00c1sia\",\"\\u00c1frica\",\"Am\\u00e9rica do Sul\",\"Am\\u00e9rica do Sul\",\"Am\\u00e9rica do Sul\",\"Europa\",\"\\u00c1frica\",\"\\u00c1frica\",\"Am\\u00e9rica do Sul\",\"Europa\",\"Oceania\",\"\\u00c1sia\",\"\\u00c1frica\",\"\\u00c1frica\",\"Am\\u00e9rica do Sul\",\"\\u00c1frica\",\"Oceania\",\"\\u00c1frica\",\"\\u00c1frica\",\"\\u00c1frica\",\"Oceania\",\"Oceania\",\"Am\\u00e9rica do Sul\",\"Am\\u00e9rica do Norte\",\"Am\\u00e9rica do Norte\",\"Am\\u00e9rica do Sul\",\"Am\\u00e9rica do Sul\",\"Oceania\",\"Am\\u00e9rica do Norte\",\"\\u00c1frica\",\"Am\\u00e9rica do Norte\",\"\\u00c1sia\",\"\\u00c1frica\",\"Am\\u00e9rica do Sul\",\"Am\\u00e9rica do Sul\",\"Am\\u00e9rica do Sul\",\"\\u00c1frica\",\"\\u00c1frica\",\"Am\\u00e9rica do Sul\",\"\\u00c1sia\",\"Europa\",\"Oceania\",\"Am\\u00e9rica do Sul\",\"\\u00c1sia\",\"\\u00c1sia\",\"Am\\u00e9rica do Sul\",\"Am\\u00e9rica do Norte\",\"Am\\u00e9rica do Sul\",\"\\u00c1sia\",\"Am\\u00e9rica do Norte\",\"Am\\u00e9rica do Sul\",\"\\u00c1frica\",\"Am\\u00e9rica do Sul\",\"\\u00c1frica\",\"Am\\u00e9rica do Sul\",\"Europa\",\"Am\\u00e9rica do Norte\",\"Europa\",\"\\u00c1frica\",\"\\u00c1frica\",\"Europa\",\"Oceania\",\"Oceania\",\"Oceania\",\"Oceania\",\"Europa\",\"Am\\u00e9rica do Sul\",\"\\u00c1sia\",\"Europa\",\"Oceania\",\"\\u00c1sia\",\"Am\\u00e9rica do Norte\",\"Am\\u00e9rica do Norte\",\"Europa\",\"\\u00c1frica\",\"Oceania\",\"Europa\",\"\\u00c1frica\",\"Am\\u00e9rica do Sul\",\"Oceania\",\"Oceania\",\"Am\\u00e9rica do Sul\",\"Am\\u00e9rica do Norte\",\"Oceania\",\"Am\\u00e9rica do Sul\",\"\\u00c1frica\",\"Oceania\",\"Oceania\",\"\\u00c1frica\",\"Europa\",\"\\u00c1sia\",\"Am\\u00e9rica do Sul\",\"Am\\u00e9rica do Sul\",\"\\u00c1frica\",\"Oceania\",\"Am\\u00e9rica do Norte\",\"Oceania\",\"\\u00c1sia\",\"Europa\",\"Europa\",\"\\u00c1sia\",\"\\u00c1frica\",\"Oceania\",\"Europa\",\"Europa\",\"Oceania\",\"Am\\u00e9rica do Sul\",\"Oceania\",\"Europa\",\"Am\\u00e9rica do Sul\",\"Am\\u00e9rica do Sul\",\"\\u00c1frica\",\"Oceania\",\"Am\\u00e9rica do Norte\",\"\\u00c1frica\",\"\\u00c1sia\",\"\\u00c1frica\",\"Am\\u00e9rica do Sul\",\"Am\\u00e9rica do Norte\",\"Am\\u00e9rica do Sul\",\"Europa\",\"Am\\u00e9rica do Sul\",\"\\u00c1sia\",\"Am\\u00e9rica do Norte\",\"Am\\u00e9rica do Norte\",\"Oceania\",\"Oceania\",\"Europa\",\"Europa\",\"Oceania\",\"Europa\",\"\\u00c1frica\",\"Europa\",\"Oceania\",\"\\u00c1sia\",\"Europa\",\"Oceania\",\"Am\\u00e9rica do Norte\",\"Am\\u00e9rica do Sul\",\"Am\\u00e9rica do Norte\",\"Am\\u00e9rica do Norte\",\"\\u00c1frica\",\"Am\\u00e9rica do Sul\",\"Europa\",\"Am\\u00e9rica do Sul\",\"Am\\u00e9rica do Sul\",\"Europa\",\"Am\\u00e9rica do Norte\",\"Am\\u00e9rica do Sul\",\"\\u00c1frica\",\"\\u00c1frica\",\"\\u00c1sia\",\"Am\\u00e9rica do Sul\",\"\\u00c1sia\",\"Europa\",\"\\u00c1frica\",\"\\u00c1frica\",\"\\u00c1frica\",\"\\u00c1sia\",\"Am\\u00e9rica do Norte\",\"Am\\u00e9rica do Sul\",\"\\u00c1sia\",\"\\u00c1frica\",\"Oceania\",\"\\u00c1sia\",\"Am\\u00e9rica do Sul\",\"\\u00c1frica\",\"Am\\u00e9rica do Norte\",\"Oceania\",\"Am\\u00e9rica do Sul\",\"Am\\u00e9rica do Norte\",\"Oceania\",\"Europa\",\"Oceania\",\"Am\\u00e9rica do Norte\",\"\\u00c1frica\",\"Oceania\",\"Europa\",\"\\u00c1sia\",\"Europa\",\"Europa\",\"\\u00c1sia\",\"Oceania\",\"\\u00c1sia\",\"Oceania\",\"Europa\",\"Am\\u00e9rica do Sul\",\"\\u00c1sia\",\"Am\\u00e9rica do Norte\",\"Am\\u00e9rica do Sul\",\"Am\\u00e9rica do Norte\",\"Oceania\",\"Am\\u00e9rica do Norte\",\"Oceania\",\"Oceania\",\"Am\\u00e9rica do Norte\",\"Am\\u00e9rica do Norte\",\"Am\\u00e9rica do Sul\",\"\\u00c1sia\",\"Am\\u00e9rica do Norte\",\"\\u00c1sia\",\"Am\\u00e9rica do Sul\",\"Am\\u00e9rica do Sul\",\"\\u00c1sia\",\"\\u00c1sia\",\"\\u00c1frica\",\"\\u00c1frica\",\"Am\\u00e9rica do Norte\",\"\\u00c1sia\",\"Am\\u00e9rica do Sul\",\"Europa\",\"Europa\",\"\\u00c1frica\",\"\\u00c1sia\",\"Oceania\",\"Oceania\",\"Europa\",\"\\u00c1frica\",\"\\u00c1sia\",\"\\u00c1frica\",\"Am\\u00e9rica do Norte\",\"Am\\u00e9rica do Norte\",\"Am\\u00e9rica do Sul\",\"Am\\u00e9rica do Sul\",\"Europa\",\"\\u00c1frica\",\"\\u00c1frica\",\"\\u00c1frica\",\"Am\\u00e9rica do Sul\",\"\\u00c1sia\",\"Am\\u00e9rica do Sul\",\"Oceania\"],\"xaxis\":\"x\",\"y\":[92394.47209718144,44299.97924027467,105600.35286726628,85354.8256930103,77900.28110292541,73886.73894153126,69704.36972447362,136201.71318415168,46683.220441436766,141286.59348865726,106811.64909236912,121149.08793204628,-23032.150378839186,103111.89902051684,4363.492980355106,26414.67256951772,47344.38656162222,55043.154040800735,63278.88525099086,45518.811184693695,98321.52603485851,143169.0276638532,111863.96453047912,92993.8318121126,45580.17913124933,156280.29710124488,203611.6495534066,1991.8353683597236,2892.081172002421,149049.21745360974,77916.80747400399,83240.42406482928,101804.20889965368,199810.4451194069,163798.70695669332,88351.39928359492,112704.91477053854,79760.74749325296,172742.41477993532,83162.91827016836,202444.82807463504,48009.54601326589,96754.33875214007,67965.25156622747,117803.19595480771,177910.37901530243,127299.33670974067,82081.41596488639,134218.63963916447,85650.14217161918,119869.98494992642,168078.83437344385,108134.92671693709,67644.86527283855,144056.52111746522,139177.81595844036,140454.6982333075,213216.92201532944,66776.31790266576,81187.39513739273,91725.75269769884,83746.57450165547,129891.55268933366,172927.7162020682,87647.3927311791,141755.4040317706,131418.24151092992,64575.02333789045,109943.31169223964,122468.09598663144,145626.6300887462,54297.88707042304,192844.2825693208,90072.51434194126,113584.80114257216,101465.40156374282,65073.84630533675,58474.651173147184,51899.715905557074,78704.81382246848,126996.46203738352,57212.125423121695,123217.52329256882,59786.29412738232,96842.0370342981,66695.91099919679,89969.42724959103,222570.73951690263,95105.68531851408,143786.97683670383,66359.62998844267,66948.63727661603,-34906.96826565522,175565.81276345806,179236.96089870657,87889.53382622398,137363.3672068767,63347.13826737365,112003.10901241802,25156.23254808795,107131.0453706702,144302.46047488175,139693.99204915232,187702.57570097185,94410.73455050924,21528.292456882657,57623.12985108743,68351.95571436702,230303.32364799164,189703.85863956256,43332.74632912226,98769.16904672844,70487.17007383032,73766.04923315442,154508.8775903291,59253.98588763894,75621.53731769208,50857.06158282172,51702.75908557334,36172.85892951843,62863.82805871391,137922.7481921259,54802.12957204419,142428.7285629633,90748.6434820258,60501.313232024346,198931.7835136471,153623.78405213752,60015.8188802024,41918.86165577792,74681.73831629241,9337.261739602036,155408.7019766673,93205.35670160849,98140.26456746648,76248.60074556668,143252.983979025,44996.41629860666,99921.43165457791,175442.70094836596,100815.00590495105,75273.98829754759,107383.71256877133,151069.5546103082,101840.84698768602,68358.84314003,101663.673054439,214959.95961671503,137199.2158924827,163095.97086210543,174202.27177916974,146446.07431862553,128201.76477553775,27243.83995424598,198904.56697732917,158960.15722039688,186536.7825031929,160296.19739187224,108117.88930154889,95158.63840261946,115673.82903138665,72752.71560388172,60589.37613685642,54742.17954096339,113311.71499053595,89088.8815345894,42001.3075596406,60458.41323462113,122752.25244230422,121190.27507505038,100806.77478756948,143188.07626078365,7542.222764468679,79923.2131725494,192630.86687464855,95608.49571202742,161442.06631899116,87387.02481651594,153427.00478868128,157067.26491088525,49722.64824429217,119578.7744113205,20695.69612390052,140918.8487691317,90435.72668243316,121619.14694768416,53551.48592574062,107034.73646954064,163137.556286074,176285.241240783,116792.07397219451,81425.36222624987,35552.51690726259,63197.40035855505,124122.93430702425,134825.70519091602,97466.13719754532,100336.03260380337,143315.83077539937,118258.9641108128,40223.313684565976,109722.5932850265,-33139.17429692604,174617.9705715201,183362.4890151122,161298.19922328237,129080.00378409943,81828.12818148748,35063.33978316236,49063.51347175376,84003.44075246358,72250.79713749047,155173.24648351863,87557.05058075376,123332.04288634135,119339.38527833745,212383.12882014475,69256.34004815466,31242.30359089452,126175.5009862617,107156.4992027429,118931.0690187815,-27206.200331951117,83639.35634266488,25599.258875056286,102751.06312802828,162826.1011034771,141463.1260945049,179826.5363659209,105963.20633400053,66232.67521975056,38614.2160955752,120295.92417816947,105016.80575511276,59356.00565457717,35537.98507523196,134366.1299073858,213778.89589158772,1390.120096573315,123292.57569135816,23338.35737439973,165317.2308249349,-10203.472310592668,58420.67059300712,42221.39506527624,30027.02852380251,76118.48179068668,88976.73108846568,111530.78181290788,133284.0053062507,138408.43885950025,45792.24375853808,82215.51442935292,191484.8731042667,83020.62449772576,197809.81585190404,110819.75980191633,85266.68894976607,62456.8435388443,70519.0250379663,198913.6263056181,190562.51969945585,49210.26664304381,157745.07383017289,50280.03226130111,60329.55087914907,111602.52436646812,104137.84803135446,155540.64510057427,57473.1057978565,152015.39471106563,144309.5219803633,177691.168656012,33856.056636292284,108936.986763401,61003.81987172304,134891.19320407603,18144.30832685341,107623.60123597212,30574.037605337813,102256.02716525506,121740.76296142116,69968.48220862017,101485.92531557869,54845.82401555314,147705.94028881262,134316.27174604023,91674.07071725791,-12117.62251276456,60508.63049061657,79706.89768230043,86531.52737281378,98247.16024539837,131724.55757993052,143283.52041074162,120395.17234188746,77048.58618283685,131494.18094923245,59119.32124977343,106114.5557652759,127266.6660927127,23807.523330286,98132.85121318144,101717.1193465312,50606.89922298202,97681.39122491196,184282.47442603856,99990.12395542976,136729.09205580014,124577.57882386156,113743.3170100205,71144.06598998504,156851.25140528125,52615.90558390107,46670.77004489015,110987.83671820218,106855.67542118202,230880.10913742983,94482.99303200464,77562.4624791948,59273.89173936878,157662.5328775374,91505.02512048194,129709.8032588521,90522.83520193509,114128.08480006718,102137.12424314984,51876.09999644272,27102.449877319785,-13803.972890899691,70488.78059568832,153727.34517860095,150967.0512143691,31398.519851706733,19449.32807936016,98496.23331965566,124810.63391083444,139916.60328161513,173194.778856148,146173.7307954812,-1189.1445893728087,37679.76223929278,128772.56649001212,125002.60060068149,55424.26495014586,75694.87529031507,58193.90711591545,114063.13360433636,123582.9083385277,83602.50186400604,88068.79753362724,196521.6375647488,139951.76370964688,91709.44490889502,150394.76067862482,114258.36926107944,54497.992177587534,78910.2245738619,66265.27609569894,135227.32439311125,160696.03816107704,136324.1970289542,186647.83556238143,56939.65456866741,110649.17219632507,35481.89578600254,152115.50446806377,94306.31497930612,147586.54789804464,122175.8805307546,182986.7683624114,59857.08431351185,-67666.54062370508,61746.37456793598,108684.15333024543,158982.02433944674,-22624.22954132197,137449.81687639997,76292.6851199148,191478.66118048748,96746.70809582206,91018.78492784336,74980.10768326347,78787.80261662413,118742.83803156344,75826.53186827307,61043.633894424,99974.70295873546,173398.00056048535,123100.75390311972,73477.21040181574,107095.4527243459,55407.842070239545,112387.34227267708,122817.89828272688,96928.34056372177,88678.2883194728,153372.5257471858,89450.017378973,123833.4694564392,146974.96996383084,138326.08308032498,35013.905731938685,107381.9574122848,69400.22975238615,75493.40719581296,75550.0115560546,42761.05428759879,133430.80804873045,127501.02624387956,135109.13354164665,71519.14575059342,187347.26322902323,93038.62359863972,72585.21968142131,-41187.388617828925,58006.63245261493,131494.0814328449,45588.5369045846,26908.030959364245,86791.04211959842,165117.9247839228,147458.0397585318,58214.3186582921,75754.96824146004,112146.61704540346,106380.55485670712,122254.0077283768,3668.028483052345,49672.26878817784,51970.86382259893,180901.1474897591,122270.35890578224,182853.767068041,172935.4809735535,137707.34448014255,143366.2092634806,119899.98012643652,61511.42157363955,134504.93286406333,169082.8990206699,76288.26670945335,128356.18230098058,-1738.5492967965256,116235.6668861168,28717.856343096923,156702.6911056027,113664.41345839325,77068.35356760805,110588.73666003052,189141.74697335943,47601.54807152832,54777.79737423987,85534.79019941144,126679.96457586266,107707.17895003349,72136.57928382617,118612.67038270483,136070.68388770416,59436.070731346415,149987.53122265515,158677.5424060676,146004.50821679915,55383.004747425366,146209.27546516366,143272.22289273702,101756.45054699323,110270.73149032496,6027.7791047234205,154657.11383147046,135405.94223306316,142756.4970775378,123776.32178870148,75137.36167870274,53755.75553692917,76901.1660809747,61491.45992817927,180879.45490154007,68316.83268603927,70199.79904077495,56651.35832780523,152572.49746798334,88552.49764008187,75839.09571548848,135638.39031170425,-24877.071991888137,130910.02595607344,150124.48278252585,151740.75178070003,83083.72488206795,83196.2448058859,124143.37553141757,76727.74119041272,59818.05709042071,-33534.847542171774,165283.9064100444,30234.546678179584,124713.285486157,177642.27789649522,73127.85350069584,87020.95945356916,154969.7949170053,180887.84788082849,64428.92070855053,137925.3618219626,2931.7015135628462,169046.53967350995,186880.8468295613,133336.9304745502,62349.08796220477,160014.93553437776,79497.24139479597,-18522.620111014912,139033.00545402983,110870.44228942368,105167.36685865888,88075.9096889994,128225.46465535344,161412.10290726303,80258.56545923611],\"yaxis\":\"y\",\"type\":\"bar\"},{\"alignmentgroup\":\"True\",\"customdata\":[[2000],[2000],[2000],[2000],[2000],[2000],[2000],[2000],[2000],[2000],[2000],[2000],[2000],[2000],[2000],[2000],[2000],[2000],[2001],[2001],[2001],[2001],[2001],[2001],[2001],[2001],[2001],[2001],[2001],[2001],[2001],[2001],[2001],[2001],[2001],[2001],[2001],[2001],[2001],[2001],[2001],[2001],[2002],[2002],[2002],[2002],[2002],[2002],[2002],[2002],[2002],[2002],[2002],[2002],[2002],[2002],[2002],[2002],[2002],[2003],[2003],[2003],[2003],[2003],[2003],[2003],[2003],[2003],[2003],[2003],[2003],[2003],[2003],[2003],[2003],[2003],[2004],[2004],[2004],[2004],[2004],[2004],[2004],[2004],[2004],[2004],[2004],[2004],[2004],[2004],[2004],[2004],[2004],[2004],[2004],[2004],[2004],[2004],[2004],[2004],[2004],[2005],[2005],[2005],[2005],[2005],[2005],[2005],[2005],[2005],[2005],[2005],[2005],[2005],[2005],[2005],[2005],[2005],[2005],[2005],[2006],[2006],[2006],[2006],[2006],[2006],[2006],[2006],[2006],[2006],[2006],[2006],[2006],[2006],[2006],[2006],[2007],[2007],[2007],[2007],[2007],[2007],[2007],[2007],[2007],[2007],[2007],[2007],[2007],[2007],[2007],[2007],[2007],[2007],[2007],[2008],[2008],[2008],[2008],[2008],[2008],[2008],[2008],[2008],[2008],[2008],[2008],[2008],[2008],[2008],[2008],[2008],[2008],[2008],[2009],[2009],[2009],[2009],[2009],[2009],[2009],[2009],[2009],[2009],[2009],[2009],[2009],[2009],[2009],[2009],[2009],[2009],[2009],[2010],[2010],[2010],[2010],[2010],[2010],[2010],[2010],[2010],[2010],[2010],[2010],[2010],[2010],[2010],[2010],[2010],[2010],[2010],[2010],[2010],[2010],[2010],[2011],[2011],[2011],[2011],[2011],[2011],[2011],[2011],[2011],[2011],[2011],[2011],[2011],[2011],[2011],[2011],[2011],[2012],[2012],[2012],[2012],[2012],[2012],[2012],[2012],[2012],[2012],[2012],[2012],[2012],[2012],[2013],[2013],[2013],[2013],[2013],[2013],[2013],[2013],[2013],[2013],[2013],[2013],[2013],[2013],[2013],[2013],[2013],[2013],[2013],[2013],[2013],[2013],[2013],[2013],[2013],[2013],[2013],[2014],[2014],[2014],[2014],[2014],[2014],[2014],[2014],[2014],[2014],[2014],[2014],[2014],[2014],[2014],[2014],[2014],[2014],[2014],[2014],[2014],[2014],[2014],[2015],[2015],[2015],[2015],[2015],[2015],[2015],[2015],[2015],[2015],[2015],[2015],[2015],[2015],[2015],[2015],[2016],[2016],[2016],[2016],[2016],[2016],[2016],[2016],[2016],[2016],[2016],[2016],[2016],[2016],[2016],[2016],[2016],[2016],[2016],[2016],[2016],[2016],[2016],[2016],[2016],[2016],[2017],[2017],[2017],[2017],[2017],[2017],[2017],[2017],[2017],[2017],[2017],[2017],[2017],[2017],[2017],[2017],[2017],[2017],[2017],[2017],[2017],[2017],[2017],[2018],[2018],[2018],[2018],[2018],[2018],[2018],[2018],[2018],[2018],[2018],[2018],[2018],[2018],[2018],[2018],[2019],[2019],[2019],[2019],[2019],[2019],[2019],[2019],[2019],[2019],[2019],[2019],[2019],[2019],[2019],[2019],[2019],[2019],[2019],[2019],[2019],[2019],[2019],[2019],[2019],[2019],[2019],[2019],[2019],[2019],[2019],[2019],[2020],[2020],[2020],[2020],[2020],[2020],[2020],[2020],[2020],[2020],[2020],[2020],[2020],[2020],[2020],[2020],[2020],[2020],[2020],[2020],[2020],[2021],[2021],[2021],[2021],[2021],[2021],[2021],[2021],[2021],[2021],[2021],[2021],[2021],[2021],[2021],[2021],[2021],[2021],[2021],[2021],[2021],[2021],[2021],[2021],[2021],[2021],[2021],[2021],[2021],[2022],[2022],[2022],[2022],[2022],[2022],[2022],[2022],[2022],[2022],[2022],[2022],[2022],[2022],[2022],[2022],[2022],[2022]],\"hovertemplate\":\"Setor=Ind\\u00fastria\\u003cbr\\u003eContinente=%{x}\\u003cbr\\u003eEmiss\\u00f5es_CO2 (toneladas)=%{y}\\u003cbr\\u003eAno=%{customdata[0]}\\u003cextra\\u003e\\u003c\\u002fextra\\u003e\",\"legendgroup\":\"Ind\\u00fastria\",\"marker\":{\"color\":\"#ab63fa\",\"pattern\":{\"shape\":\"\"}},\"name\":\"Ind\\u00fastria\",\"offsetgroup\":\"Ind\\u00fastria\",\"orientation\":\"v\",\"showlegend\":true,\"textposition\":\"auto\",\"x\":[\"Oceania\",\"\\u00c1frica\",\"\\u00c1frica\",\"Am\\u00e9rica do Norte\",\"\\u00c1sia\",\"Oceania\",\"Am\\u00e9rica do Sul\",\"Am\\u00e9rica do Norte\",\"\\u00c1frica\",\"Am\\u00e9rica do Sul\",\"Oceania\",\"\\u00c1sia\",\"\\u00c1sia\",\"Oceania\",\"Am\\u00e9rica do Sul\",\"Europa\",\"\\u00c1sia\",\"\\u00c1frica\",\"Am\\u00e9rica do Sul\",\"Am\\u00e9rica do Sul\",\"\\u00c1frica\",\"\\u00c1sia\",\"Am\\u00e9rica do Sul\",\"\\u00c1frica\",\"Am\\u00e9rica do Sul\",\"Am\\u00e9rica do Sul\",\"Am\\u00e9rica do Sul\",\"Am\\u00e9rica do Sul\",\"Am\\u00e9rica do Norte\",\"\\u00c1frica\",\"Europa\",\"Am\\u00e9rica do Sul\",\"Europa\",\"Am\\u00e9rica do Sul\",\"\\u00c1frica\",\"\\u00c1frica\",\"Oceania\",\"Am\\u00e9rica do Sul\",\"\\u00c1frica\",\"Am\\u00e9rica do Norte\",\"\\u00c1frica\",\"Am\\u00e9rica do Sul\",\"Am\\u00e9rica do Norte\",\"Am\\u00e9rica do Sul\",\"Europa\",\"Oceania\",\"Europa\",\"Oceania\",\"\\u00c1frica\",\"Europa\",\"\\u00c1frica\",\"Oceania\",\"Europa\",\"Am\\u00e9rica do Norte\",\"Europa\",\"Europa\",\"\\u00c1frica\",\"Oceania\",\"Am\\u00e9rica do Norte\",\"Am\\u00e9rica do Sul\",\"Am\\u00e9rica do Sul\",\"\\u00c1sia\",\"\\u00c1sia\",\"Oceania\",\"Europa\",\"Europa\",\"\\u00c1sia\",\"Am\\u00e9rica do Norte\",\"\\u00c1frica\",\"\\u00c1frica\",\"Am\\u00e9rica do Sul\",\"Europa\",\"\\u00c1frica\",\"\\u00c1frica\",\"\\u00c1sia\",\"\\u00c1sia\",\"\\u00c1sia\",\"\\u00c1sia\",\"Am\\u00e9rica do Norte\",\"Am\\u00e9rica do Sul\",\"\\u00c1frica\",\"Oceania\",\"\\u00c1sia\",\"\\u00c1frica\",\"Oceania\",\"Europa\",\"Am\\u00e9rica do Sul\",\"\\u00c1sia\",\"Am\\u00e9rica do Norte\",\"Am\\u00e9rica do Norte\",\"Oceania\",\"\\u00c1sia\",\"Europa\",\"Oceania\",\"Europa\",\"Oceania\",\"\\u00c1frica\",\"Oceania\",\"Am\\u00e9rica do Norte\",\"\\u00c1sia\",\"\\u00c1frica\",\"\\u00c1sia\",\"\\u00c1frica\",\"Europa\",\"Am\\u00e9rica do Sul\",\"\\u00c1sia\",\"\\u00c1sia\",\"Am\\u00e9rica do Sul\",\"Am\\u00e9rica do Norte\",\"\\u00c1sia\",\"Oceania\",\"\\u00c1sia\",\"Europa\",\"Oceania\",\"\\u00c1sia\",\"Oceania\",\"Oceania\",\"Am\\u00e9rica do Norte\",\"Europa\",\"Am\\u00e9rica do Sul\",\"Europa\",\"Am\\u00e9rica do Sul\",\"Europa\",\"Am\\u00e9rica do Norte\",\"Europa\",\"Europa\",\"Am\\u00e9rica do Norte\",\"\\u00c1sia\",\"\\u00c1frica\",\"\\u00c1sia\",\"\\u00c1frica\",\"Oceania\",\"Am\\u00e9rica do Norte\",\"\\u00c1sia\",\"Am\\u00e9rica do Sul\",\"Am\\u00e9rica do Sul\",\"Europa\",\"Europa\",\"\\u00c1frica\",\"Europa\",\"Am\\u00e9rica do Sul\",\"Am\\u00e9rica do Sul\",\"Am\\u00e9rica do Sul\",\"Europa\",\"\\u00c1sia\",\"\\u00c1sia\",\"\\u00c1sia\",\"Oceania\",\"\\u00c1sia\",\"Europa\",\"Oceania\",\"Europa\",\"Oceania\",\"\\u00c1sia\",\"\\u00c1frica\",\"\\u00c1sia\",\"Europa\",\"Oceania\",\"Oceania\",\"\\u00c1sia\",\"Am\\u00e9rica do Sul\",\"Europa\",\"Am\\u00e9rica do Norte\",\"Europa\",\"Europa\",\"Oceania\",\"Am\\u00e9rica do Sul\",\"\\u00c1frica\",\"Am\\u00e9rica do Sul\",\"\\u00c1frica\",\"Europa\",\"Europa\",\"Europa\",\"Am\\u00e9rica do Norte\",\"Europa\",\"Am\\u00e9rica do Sul\",\"Am\\u00e9rica do Norte\",\"Oceania\",\"\\u00c1frica\",\"Am\\u00e9rica do Sul\",\"\\u00c1sia\",\"Europa\",\"\\u00c1frica\",\"\\u00c1frica\",\"Europa\",\"\\u00c1frica\",\"\\u00c1frica\",\"\\u00c1frica\",\"\\u00c1sia\",\"\\u00c1sia\",\"Am\\u00e9rica do Sul\",\"Am\\u00e9rica do Norte\",\"Oceania\",\"Europa\",\"\\u00c1frica\",\"Am\\u00e9rica do Sul\",\"Europa\",\"\\u00c1frica\",\"Oceania\",\"Am\\u00e9rica do Sul\",\"\\u00c1sia\",\"\\u00c1frica\",\"\\u00c1sia\",\"Am\\u00e9rica do Norte\",\"Europa\",\"Europa\",\"Am\\u00e9rica do Norte\",\"\\u00c1sia\",\"Am\\u00e9rica do Norte\",\"\\u00c1frica\",\"Oceania\",\"\\u00c1frica\",\"Am\\u00e9rica do Sul\",\"Am\\u00e9rica do Norte\",\"Am\\u00e9rica do Norte\",\"Oceania\",\"Am\\u00e9rica do Norte\",\"Am\\u00e9rica do Sul\",\"Am\\u00e9rica do Norte\",\"Am\\u00e9rica do Norte\",\"\\u00c1sia\",\"Am\\u00e9rica do Norte\",\"Am\\u00e9rica do Sul\",\"Am\\u00e9rica do Sul\",\"\\u00c1frica\",\"Oceania\",\"\\u00c1frica\",\"Europa\",\"\\u00c1frica\",\"Am\\u00e9rica do Norte\",\"Europa\",\"Oceania\",\"\\u00c1frica\",\"\\u00c1frica\",\"Europa\",\"Am\\u00e9rica do Sul\",\"\\u00c1sia\",\"\\u00c1sia\",\"Oceania\",\"Am\\u00e9rica do Norte\",\"Europa\",\"Oceania\",\"Oceania\",\"Oceania\",\"Europa\",\"Oceania\",\"Am\\u00e9rica do Sul\",\"\\u00c1sia\",\"Europa\",\"Am\\u00e9rica do Sul\",\"Am\\u00e9rica do Norte\",\"Am\\u00e9rica do Norte\",\"Am\\u00e9rica do Sul\",\"Am\\u00e9rica do Sul\",\"Europa\",\"Oceania\",\"Am\\u00e9rica do Sul\",\"Europa\",\"Am\\u00e9rica do Norte\",\"Europa\",\"Europa\",\"Oceania\",\"\\u00c1frica\",\"\\u00c1sia\",\"Oceania\",\"Am\\u00e9rica do Sul\",\"\\u00c1frica\",\"Europa\",\"Am\\u00e9rica do Sul\",\"\\u00c1frica\",\"Oceania\",\"Oceania\",\"\\u00c1frica\",\"Oceania\",\"Oceania\",\"Am\\u00e9rica do Sul\",\"Am\\u00e9rica do Norte\",\"Am\\u00e9rica do Norte\",\"Am\\u00e9rica do Sul\",\"Europa\",\"Am\\u00e9rica do Sul\",\"\\u00c1frica\",\"Europa\",\"\\u00c1frica\",\"Am\\u00e9rica do Sul\",\"Am\\u00e9rica do Norte\",\"Am\\u00e9rica do Norte\",\"Am\\u00e9rica do Sul\",\"\\u00c1sia\",\"\\u00c1sia\",\"Europa\",\"Oceania\",\"\\u00c1sia\",\"Europa\",\"Europa\",\"Oceania\",\"Oceania\",\"Oceania\",\"Oceania\",\"\\u00c1frica\",\"\\u00c1frica\",\"Europa\",\"\\u00c1frica\",\"\\u00c1frica\",\"\\u00c1sia\",\"\\u00c1frica\",\"Am\\u00e9rica do Norte\",\"\\u00c1frica\",\"\\u00c1sia\",\"\\u00c1frica\",\"\\u00c1frica\",\"Oceania\",\"Oceania\",\"\\u00c1sia\",\"Am\\u00e9rica do Sul\",\"\\u00c1sia\",\"Europa\",\"\\u00c1frica\",\"Am\\u00e9rica do Sul\",\"\\u00c1frica\",\"\\u00c1sia\",\"Am\\u00e9rica do Sul\",\"\\u00c1frica\",\"Am\\u00e9rica do Norte\",\"Am\\u00e9rica do Norte\",\"\\u00c1frica\",\"Europa\",\"\\u00c1sia\",\"\\u00c1frica\",\"Am\\u00e9rica do Norte\",\"Oceania\",\"Europa\",\"Oceania\",\"\\u00c1frica\",\"\\u00c1sia\",\"Am\\u00e9rica do Norte\",\"Oceania\",\"Am\\u00e9rica do Sul\",\"\\u00c1sia\",\"Am\\u00e9rica do Sul\",\"Am\\u00e9rica do Norte\",\"\\u00c1sia\",\"Europa\",\"Oceania\",\"\\u00c1sia\",\"Europa\",\"\\u00c1frica\",\"\\u00c1sia\",\"Europa\",\"Am\\u00e9rica do Sul\",\"Europa\",\"\\u00c1sia\",\"\\u00c1sia\",\"\\u00c1frica\",\"\\u00c1frica\",\"Am\\u00e9rica do Norte\",\"Am\\u00e9rica do Sul\",\"Am\\u00e9rica do Norte\",\"Oceania\",\"\\u00c1frica\",\"Am\\u00e9rica do Norte\",\"Am\\u00e9rica do Norte\",\"\\u00c1frica\",\"Am\\u00e9rica do Sul\",\"\\u00c1sia\",\"Am\\u00e9rica do Sul\",\"Europa\",\"Oceania\",\"Oceania\",\"Oceania\",\"Europa\",\"Europa\",\"\\u00c1frica\",\"Europa\",\"\\u00c1sia\",\"Am\\u00e9rica do Norte\",\"Europa\",\"Europa\",\"Oceania\",\"Europa\",\"\\u00c1frica\",\"Oceania\",\"Am\\u00e9rica do Norte\",\"\\u00c1sia\",\"Oceania\",\"Am\\u00e9rica do Norte\",\"Oceania\",\"Am\\u00e9rica do Norte\",\"Am\\u00e9rica do Sul\",\"\\u00c1frica\",\"Am\\u00e9rica do Norte\",\"Oceania\",\"Oceania\",\"Am\\u00e9rica do Sul\",\"Oceania\",\"\\u00c1frica\",\"Europa\",\"Oceania\",\"Oceania\",\"Oceania\",\"Oceania\",\"Am\\u00e9rica do Norte\",\"\\u00c1sia\",\"Am\\u00e9rica do Sul\",\"Oceania\",\"Am\\u00e9rica do Sul\",\"Oceania\",\"Europa\",\"Am\\u00e9rica do Sul\",\"Europa\",\"Am\\u00e9rica do Sul\",\"Oceania\",\"Am\\u00e9rica do Sul\",\"Europa\",\"Am\\u00e9rica do Norte\",\"Oceania\",\"Europa\",\"Am\\u00e9rica do Sul\",\"Oceania\",\"\\u00c1frica\",\"\\u00c1sia\",\"\\u00c1frica\",\"Am\\u00e9rica do Norte\",\"Europa\",\"Europa\",\"Oceania\",\"Am\\u00e9rica do Sul\",\"Oceania\",\"\\u00c1sia\",\"Am\\u00e9rica do Norte\",\"Am\\u00e9rica do Sul\",\"Am\\u00e9rica do Norte\",\"Am\\u00e9rica do Norte\",\"Am\\u00e9rica do Sul\",\"Am\\u00e9rica do Sul\",\"Europa\",\"Am\\u00e9rica do Norte\",\"Europa\",\"Oceania\",\"Europa\",\"\\u00c1sia\",\"Am\\u00e9rica do Sul\",\"Am\\u00e9rica do Norte\",\"Europa\",\"Am\\u00e9rica do Sul\",\"Am\\u00e9rica do Sul\",\"Europa\",\"Oceania\",\"\\u00c1frica\",\"Am\\u00e9rica do Sul\",\"Europa\",\"\\u00c1sia\",\"Europa\",\"Am\\u00e9rica do Sul\",\"\\u00c1frica\",\"Europa\",\"Am\\u00e9rica do Sul\",\"\\u00c1sia\",\"\\u00c1frica\",\"\\u00c1frica\",\"Oceania\",\"Am\\u00e9rica do Sul\",\"Europa\",\"Europa\",\"Europa\",\"Am\\u00e9rica do Norte\",\"Oceania\",\"Am\\u00e9rica do Sul\",\"\\u00c1sia\",\"\\u00c1sia\",\"Am\\u00e9rica do Sul\",\"\\u00c1sia\",\"\\u00c1sia\",\"Oceania\",\"Am\\u00e9rica do Norte\",\"\\u00c1frica\",\"\\u00c1sia\",\"Am\\u00e9rica do Sul\"],\"xaxis\":\"x\",\"y\":[92077.16839865176,73802.58524801128,33870.548660100816,216817.5071979006,37217.1947058544,158193.50489483218,64875.53891937431,155851.76637651646,167465.79280092707,102655.47175778862,163233.67695024135,71116.90651186055,151096.14634024608,249096.43791570148,-7697.474962385138,162933.3270083504,15030.491541028505,104485.76780301752,-23771.86596034169,122551.08207224713,155380.2780960375,62214.10732141013,23113.366673282,63087.52332737118,124124.18103885005,61961.663507640784,189586.82902897932,42304.33179457944,98009.27372741816,51086.60056500428,35275.833231144,137970.73446095356,178533.89490845363,75676.33802240274,83512.49401221704,70380.73881899739,111802.88525679291,168661.35164289235,138460.06763879946,136323.94852649918,57903.124979189866,79656.8384890133,107642.01233671424,143455.5310704384,72046.24517779569,62965.10767892825,143639.06675624006,133597.02592892814,144729.18095950346,73123.31491839919,81770.47498622948,130842.54193426562,66740.73949897202,140240.1807350837,174273.38518918978,97419.78282613584,119208.19420129474,229800.5766634402,122405.20210345509,22068.88161907447,121199.24680862715,13373.42888614857,157251.72438398178,64801.51030231799,34139.47525893706,156910.6976637915,109091.34895009673,106560.33189769465,60560.92422612531,11817.189960604606,134498.1397055696,54561.90066041131,102793.11289951208,61273.36973083981,157615.71661290491,136689.36398611852,128614.52985998908,27859.17011570283,101979.40533376872,136011.0133153684,102156.19185288496,103201.84680758708,93073.63911966018,117549.03984125944,73901.25295688445,122200.15969077512,68367.12291649116,106293.16044318392,114981.0252568328,199296.1522675516,13225.94112932845,102924.29988970509,-15420.67860858023,111657.68872382656,124544.07805171184,129169.17052376836,217200.26388643504,99319.52591877076,105332.3059431484,148449.63097671862,165681.3832978519,36185.86199497905,92814.71124059784,172275.90381873958,101330.70829776594,104882.51233822174,142615.1846720819,89201.87070561672,61929.65724060699,165765.46605200492,119516.39235572648,149956.45932364694,37466.71057852219,159961.80253207305,84049.48209351995,228654.8159058045,173323.2769356811,109486.22623200616,-1736.74928746339,65689.32457770745,79204.64415638296,155031.53035885448,126653.3396219391,7054.435479386346,-22543.19187109593,107178.8542487982,130600.15865879088,1910.1298652702967,92417.10242130847,61867.28893463777,57994.24582951216,72293.59859288001,155225.0430951271,120696.12604960216,57240.070856210354,145321.62430094642,98854.76390430827,158976.5140690931,58677.421394531535,184510.70946803817,-55514.95118415941,150830.46533151536,52514.33402860535,37481.156214300616,152253.93283398193,60565.20605096683,81404.79806730553,49900.65740236754,50644.66484064471,118896.28131368516,96673.04484972046,42421.45426855536,125268.41077953736,118826.99799472188,155912.88926776304,140165.57603050585,30314.514515401388,39823.9084330624,71231.9547249396,104626.51580293932,130588.36180066183,101669.90103708324,123790.60315596356,163313.87185336038,100401.83030657,90588.43409896069,130887.08839297794,194001.4401884624,68756.67246905417,115763.24912658591,91440.89110305786,33085.18954684146,130408.63355140896,103726.68375742936,182670.14186437137,112252.1082242342,90435.66613116035,222939.18274451615,35482.261312611874,80840.49117228735,131657.85970654164,114426.67083173814,125844.68553349664,98282.763868999,81395.6343022612,191179.19271131096,151669.1182753359,79740.33094232772,120616.0675990258,113419.05417456174,149078.22559493082,84081.347335756,120191.47209414674,77018.49856439937,87630.95337276983,54949.21183446632,63478.052942034,146816.0639313632,151323.2929859341,91419.7350131536,78750.9082335447,67698.81719580281,41734.0487363697,106730.06163191715,85875.97869780219,77169.11517076369,161348.05702135916,130486.64727482712,185472.2161967202,100754.77253107991,181875.96314110176,131069.28366338562,93472.83718191716,150092.8195681632,185054.55778307296,111578.47841863136,90450.167650978,96487.52682090484,54701.98463353862,154839.34645021646,65092.67686114532,121204.24463848356,88597.43616620087,147140.55718000556,127821.81965366704,120252.28103385432,117293.35455967725,125681.8063631177,156808.2324780593,97916.80490906822,173658.07551425474,132439.29280581334,-16416.43593016638,208030.01931693088,121214.14131724909,114280.34809961363,119962.42213192915,94051.20209938676,41885.36820488055,102560.95884307125,88717.12937261915,92676.26574511788,168189.1842135294,188849.1462582941,113341.5717943748,93829.0451061806,55090.65024455612,141522.8824693018,-11330.865419648037,149282.99366631647,42507.61721878108,84578.79183237316,160352.2149935125,85855.99834177986,146357.32679250985,135356.7775651228,79005.78640290268,99468.47744883936,109321.18343126102,179100.91055698704,54098.12769627038,111896.1387767521,48828.32817273565,122888.49684625198,100674.611780192,56445.31948737554,118030.42794845956,76976.15401054872,900.6931157182698,15554.630754944725,122104.92126881736,160295.3071467971,152715.93185135428,86106.47758669326,127772.8260269742,67904.74527852362,40904.923844720266,139703.38773172433,78731.78953962005,165604.31855271966,112675.27864431655,177012.07627001707,110431.69164342077,20097.074508648657,80175.58222401701,123066.67712484006,63737.07661578021,38769.12173500816,177248.5858558108,36728.14317273412,90996.61696821883,2128.9989044958056,116996.35210588416,56540.330604876086,219378.50770776675,132127.06448996306,90271.23066467592,106423.00715708538,155261.65128073323,84455.93592796034,67051.7778436227,119282.54012710508,123323.30880556464,59474.33168273442,199.62658690813987,120590.8681043174,126001.90544138676,90700.5860485439,-20711.1560292184,112864.03484206996,49569.75301650026,185397.1056919012,46668.86098088129,121688.6477631196,30404.530262752,52717.64706592001,85529.75240156137,62785.29524178745,129593.40318080054,24159.368349445533,149459.23733081843,99319.1498984466,135504.7620423733,84739.11900836987,121579.45083884144,164719.4088746864,112918.3570608113,153303.1495125293,63493.05507338195,65086.16967859744,160096.68097145006,130425.07775750158,22356.700258330093,124139.4670111562,56064.45486039122,84821.58386638638,45990.77626086767,92177.61473918815,188241.75978002552,45906.1903605147,26767.05884762232,45239.68457642011,96291.78953093468,85696.52970497776,118971.8021355194,86837.73496622144,106535.88301692971,139317.89158533403,80235.53055392421,101762.75304459712,90774.05599688514,88240.7106897309,114416.6068219439,89630.58348578226,106190.16458980949,192692.7964324769,132888.98516080098,124831.91880137072,26583.94981068572,81006.81211050088,58510.94583938123,131261.6422720204,120615.94032757165,43389.66483885589,142838.16277032177,114174.73901877175,91438.85672647916,57121.744524296686,25452.292970681578,103593.44646027824,46130.49946228533,142270.09316154817,121579.69396873991,105651.01783647297,127309.78847667364,99945.41354972828,27903.816016968864,120892.52014941808,53306.23898916409,102490.28140110408,54393.09255859389,98628.83024045105,107377.54534433129,166854.88481307996,57805.19518864671,156790.589523741,101531.54937630332,35408.89779341132,69879.74335930825,128556.28135456317,37447.456333786045,25217.862290074365,71437.55085789184,19611.77461767594,90658.91101896268,137432.99810509002,103784.49409909736,68772.6368408142,67174.0216279326,118367.61990685038,69813.55345004547,92012.87288540976,22374.085403602192,150166.1514626909,51928.90248132827,49534.63194639166,161471.98614622751,66327.61624487696,48908.93330379413,124216.9509082346,80807.8735852227,128305.64397479375,144284.62450125953,78006.83469442218,104595.34371791343,-14108.569850249083,73463.29729408475,100234.02077240156,154702.6501301243,138605.15061269718,220308.65203269967,218134.74508438585,135101.1140222578,136811.12378394656,150826.6196903128,112432.5846174757,125719.35518372412,130001.86067132869,112163.90493007688,138851.77164906895,16893.016301042822,109358.63556999016,110104.6721105869,-6703.01798748711,199124.278046341,108282.2559077353,117433.16868902078,165745.5004912791,48930.02901458403,74296.65838761683,63329.03457916241,152336.93874937703,190824.0707465696,159068.5678905775,115280.27718868396,96394.22891993256,121268.8267124022,103847.65997484152,76266.51639267623,56166.80367807028,173695.8878895708,41909.08778163187,22308.739463335616,40367.43498418352,23522.771423746424,84261.17718404939,47109.38326608352,141973.47251108324,121439.31528299242,94918.79666901338,69537.30410211033,86121.55971580038,159238.53287887233,80527.70945114257,78107.63613240942,48106.103368307566,27999.761140799645,100743.74015088793,167424.32100849392,123350.12950414298,94465.77658808234,52808.99068353779,-21887.14603097961,225907.51288710337,129304.65618459778,88134.77030794173,26323.85503330757,67627.20934955089],\"yaxis\":\"y\",\"type\":\"bar\"}],                        {\"template\":{\"data\":{\"histogram2dcontour\":[{\"type\":\"histogram2dcontour\",\"colorbar\":{\"outlinewidth\":0,\"ticks\":\"\"},\"colorscale\":[[0.0,\"#0d0887\"],[0.1111111111111111,\"#46039f\"],[0.2222222222222222,\"#7201a8\"],[0.3333333333333333,\"#9c179e\"],[0.4444444444444444,\"#bd3786\"],[0.5555555555555556,\"#d8576b\"],[0.6666666666666666,\"#ed7953\"],[0.7777777777777778,\"#fb9f3a\"],[0.8888888888888888,\"#fdca26\"],[1.0,\"#f0f921\"]]}],\"choropleth\":[{\"type\":\"choropleth\",\"colorbar\":{\"outlinewidth\":0,\"ticks\":\"\"}}],\"histogram2d\":[{\"type\":\"histogram2d\",\"colorbar\":{\"outlinewidth\":0,\"ticks\":\"\"},\"colorscale\":[[0.0,\"#0d0887\"],[0.1111111111111111,\"#46039f\"],[0.2222222222222222,\"#7201a8\"],[0.3333333333333333,\"#9c179e\"],[0.4444444444444444,\"#bd3786\"],[0.5555555555555556,\"#d8576b\"],[0.6666666666666666,\"#ed7953\"],[0.7777777777777778,\"#fb9f3a\"],[0.8888888888888888,\"#fdca26\"],[1.0,\"#f0f921\"]]}],\"heatmap\":[{\"type\":\"heatmap\",\"colorbar\":{\"outlinewidth\":0,\"ticks\":\"\"},\"colorscale\":[[0.0,\"#0d0887\"],[0.1111111111111111,\"#46039f\"],[0.2222222222222222,\"#7201a8\"],[0.3333333333333333,\"#9c179e\"],[0.4444444444444444,\"#bd3786\"],[0.5555555555555556,\"#d8576b\"],[0.6666666666666666,\"#ed7953\"],[0.7777777777777778,\"#fb9f3a\"],[0.8888888888888888,\"#fdca26\"],[1.0,\"#f0f921\"]]}],\"heatmapgl\":[{\"type\":\"heatmapgl\",\"colorbar\":{\"outlinewidth\":0,\"ticks\":\"\"},\"colorscale\":[[0.0,\"#0d0887\"],[0.1111111111111111,\"#46039f\"],[0.2222222222222222,\"#7201a8\"],[0.3333333333333333,\"#9c179e\"],[0.4444444444444444,\"#bd3786\"],[0.5555555555555556,\"#d8576b\"],[0.6666666666666666,\"#ed7953\"],[0.7777777777777778,\"#fb9f3a\"],[0.8888888888888888,\"#fdca26\"],[1.0,\"#f0f921\"]]}],\"contourcarpet\":[{\"type\":\"contourcarpet\",\"colorbar\":{\"outlinewidth\":0,\"ticks\":\"\"}}],\"contour\":[{\"type\":\"contour\",\"colorbar\":{\"outlinewidth\":0,\"ticks\":\"\"},\"colorscale\":[[0.0,\"#0d0887\"],[0.1111111111111111,\"#46039f\"],[0.2222222222222222,\"#7201a8\"],[0.3333333333333333,\"#9c179e\"],[0.4444444444444444,\"#bd3786\"],[0.5555555555555556,\"#d8576b\"],[0.6666666666666666,\"#ed7953\"],[0.7777777777777778,\"#fb9f3a\"],[0.8888888888888888,\"#fdca26\"],[1.0,\"#f0f921\"]]}],\"surface\":[{\"type\":\"surface\",\"colorbar\":{\"outlinewidth\":0,\"ticks\":\"\"},\"colorscale\":[[0.0,\"#0d0887\"],[0.1111111111111111,\"#46039f\"],[0.2222222222222222,\"#7201a8\"],[0.3333333333333333,\"#9c179e\"],[0.4444444444444444,\"#bd3786\"],[0.5555555555555556,\"#d8576b\"],[0.6666666666666666,\"#ed7953\"],[0.7777777777777778,\"#fb9f3a\"],[0.8888888888888888,\"#fdca26\"],[1.0,\"#f0f921\"]]}],\"mesh3d\":[{\"type\":\"mesh3d\",\"colorbar\":{\"outlinewidth\":0,\"ticks\":\"\"}}],\"scatter\":[{\"fillpattern\":{\"fillmode\":\"overlay\",\"size\":10,\"solidity\":0.2},\"type\":\"scatter\"}],\"parcoords\":[{\"type\":\"parcoords\",\"line\":{\"colorbar\":{\"outlinewidth\":0,\"ticks\":\"\"}}}],\"scatterpolargl\":[{\"type\":\"scatterpolargl\",\"marker\":{\"colorbar\":{\"outlinewidth\":0,\"ticks\":\"\"}}}],\"bar\":[{\"error_x\":{\"color\":\"#2a3f5f\"},\"error_y\":{\"color\":\"#2a3f5f\"},\"marker\":{\"line\":{\"color\":\"#E5ECF6\",\"width\":0.5},\"pattern\":{\"fillmode\":\"overlay\",\"size\":10,\"solidity\":0.2}},\"type\":\"bar\"}],\"scattergeo\":[{\"type\":\"scattergeo\",\"marker\":{\"colorbar\":{\"outlinewidth\":0,\"ticks\":\"\"}}}],\"scatterpolar\":[{\"type\":\"scatterpolar\",\"marker\":{\"colorbar\":{\"outlinewidth\":0,\"ticks\":\"\"}}}],\"histogram\":[{\"marker\":{\"pattern\":{\"fillmode\":\"overlay\",\"size\":10,\"solidity\":0.2}},\"type\":\"histogram\"}],\"scattergl\":[{\"type\":\"scattergl\",\"marker\":{\"colorbar\":{\"outlinewidth\":0,\"ticks\":\"\"}}}],\"scatter3d\":[{\"type\":\"scatter3d\",\"line\":{\"colorbar\":{\"outlinewidth\":0,\"ticks\":\"\"}},\"marker\":{\"colorbar\":{\"outlinewidth\":0,\"ticks\":\"\"}}}],\"scattermapbox\":[{\"type\":\"scattermapbox\",\"marker\":{\"colorbar\":{\"outlinewidth\":0,\"ticks\":\"\"}}}],\"scatterternary\":[{\"type\":\"scatterternary\",\"marker\":{\"colorbar\":{\"outlinewidth\":0,\"ticks\":\"\"}}}],\"scattercarpet\":[{\"type\":\"scattercarpet\",\"marker\":{\"colorbar\":{\"outlinewidth\":0,\"ticks\":\"\"}}}],\"carpet\":[{\"aaxis\":{\"endlinecolor\":\"#2a3f5f\",\"gridcolor\":\"white\",\"linecolor\":\"white\",\"minorgridcolor\":\"white\",\"startlinecolor\":\"#2a3f5f\"},\"baxis\":{\"endlinecolor\":\"#2a3f5f\",\"gridcolor\":\"white\",\"linecolor\":\"white\",\"minorgridcolor\":\"white\",\"startlinecolor\":\"#2a3f5f\"},\"type\":\"carpet\"}],\"table\":[{\"cells\":{\"fill\":{\"color\":\"#EBF0F8\"},\"line\":{\"color\":\"white\"}},\"header\":{\"fill\":{\"color\":\"#C8D4E3\"},\"line\":{\"color\":\"white\"}},\"type\":\"table\"}],\"barpolar\":[{\"marker\":{\"line\":{\"color\":\"#E5ECF6\",\"width\":0.5},\"pattern\":{\"fillmode\":\"overlay\",\"size\":10,\"solidity\":0.2}},\"type\":\"barpolar\"}],\"pie\":[{\"automargin\":true,\"type\":\"pie\"}]},\"layout\":{\"autotypenumbers\":\"strict\",\"colorway\":[\"#636efa\",\"#EF553B\",\"#00cc96\",\"#ab63fa\",\"#FFA15A\",\"#19d3f3\",\"#FF6692\",\"#B6E880\",\"#FF97FF\",\"#FECB52\"],\"font\":{\"color\":\"#2a3f5f\"},\"hovermode\":\"closest\",\"hoverlabel\":{\"align\":\"left\"},\"paper_bgcolor\":\"white\",\"plot_bgcolor\":\"#E5ECF6\",\"polar\":{\"bgcolor\":\"#E5ECF6\",\"angularaxis\":{\"gridcolor\":\"white\",\"linecolor\":\"white\",\"ticks\":\"\"},\"radialaxis\":{\"gridcolor\":\"white\",\"linecolor\":\"white\",\"ticks\":\"\"}},\"ternary\":{\"bgcolor\":\"#E5ECF6\",\"aaxis\":{\"gridcolor\":\"white\",\"linecolor\":\"white\",\"ticks\":\"\"},\"baxis\":{\"gridcolor\":\"white\",\"linecolor\":\"white\",\"ticks\":\"\"},\"caxis\":{\"gridcolor\":\"white\",\"linecolor\":\"white\",\"ticks\":\"\"}},\"coloraxis\":{\"colorbar\":{\"outlinewidth\":0,\"ticks\":\"\"}},\"colorscale\":{\"sequential\":[[0.0,\"#0d0887\"],[0.1111111111111111,\"#46039f\"],[0.2222222222222222,\"#7201a8\"],[0.3333333333333333,\"#9c179e\"],[0.4444444444444444,\"#bd3786\"],[0.5555555555555556,\"#d8576b\"],[0.6666666666666666,\"#ed7953\"],[0.7777777777777778,\"#fb9f3a\"],[0.8888888888888888,\"#fdca26\"],[1.0,\"#f0f921\"]],\"sequentialminus\":[[0.0,\"#0d0887\"],[0.1111111111111111,\"#46039f\"],[0.2222222222222222,\"#7201a8\"],[0.3333333333333333,\"#9c179e\"],[0.4444444444444444,\"#bd3786\"],[0.5555555555555556,\"#d8576b\"],[0.6666666666666666,\"#ed7953\"],[0.7777777777777778,\"#fb9f3a\"],[0.8888888888888888,\"#fdca26\"],[1.0,\"#f0f921\"]],\"diverging\":[[0,\"#8e0152\"],[0.1,\"#c51b7d\"],[0.2,\"#de77ae\"],[0.3,\"#f1b6da\"],[0.4,\"#fde0ef\"],[0.5,\"#f7f7f7\"],[0.6,\"#e6f5d0\"],[0.7,\"#b8e186\"],[0.8,\"#7fbc41\"],[0.9,\"#4d9221\"],[1,\"#276419\"]]},\"xaxis\":{\"gridcolor\":\"white\",\"linecolor\":\"white\",\"ticks\":\"\",\"title\":{\"standoff\":15},\"zerolinecolor\":\"white\",\"automargin\":true,\"zerolinewidth\":2},\"yaxis\":{\"gridcolor\":\"white\",\"linecolor\":\"white\",\"ticks\":\"\",\"title\":{\"standoff\":15},\"zerolinecolor\":\"white\",\"automargin\":true,\"zerolinewidth\":2},\"scene\":{\"xaxis\":{\"backgroundcolor\":\"#E5ECF6\",\"gridcolor\":\"white\",\"linecolor\":\"white\",\"showbackground\":true,\"ticks\":\"\",\"zerolinecolor\":\"white\",\"gridwidth\":2},\"yaxis\":{\"backgroundcolor\":\"#E5ECF6\",\"gridcolor\":\"white\",\"linecolor\":\"white\",\"showbackground\":true,\"ticks\":\"\",\"zerolinecolor\":\"white\",\"gridwidth\":2},\"zaxis\":{\"backgroundcolor\":\"#E5ECF6\",\"gridcolor\":\"white\",\"linecolor\":\"white\",\"showbackground\":true,\"ticks\":\"\",\"zerolinecolor\":\"white\",\"gridwidth\":2}},\"shapedefaults\":{\"line\":{\"color\":\"#2a3f5f\"}},\"annotationdefaults\":{\"arrowcolor\":\"#2a3f5f\",\"arrowhead\":0,\"arrowwidth\":1},\"geo\":{\"bgcolor\":\"white\",\"landcolor\":\"#E5ECF6\",\"subunitcolor\":\"white\",\"showland\":true,\"showlakes\":true,\"lakecolor\":\"white\"},\"title\":{\"x\":0.05},\"mapbox\":{\"style\":\"light\"}}},\"xaxis\":{\"anchor\":\"y\",\"domain\":[0.0,1.0],\"title\":{\"text\":\"Continente\"}},\"yaxis\":{\"anchor\":\"x\",\"domain\":[0.0,1.0],\"title\":{\"text\":\"Emiss\\u00f5es_CO2 (toneladas)\"}},\"legend\":{\"title\":{\"text\":\"Setor\"},\"tracegroupgap\":0},\"title\":{\"text\":\"Contribui\\u00e7\\u00e3o dos Setores para as Emiss\\u00f5es de CO2 por Continente\"},\"barmode\":\"group\"},                        {\"responsive\": true}                    ).then(function(){\n",
       "                            \n",
       "var gd = document.getElementById('e22e7e7d-e7aa-4510-b4ae-0906943eadd5');\n",
       "var x = new MutationObserver(function (mutations, observer) {{\n",
       "        var display = window.getComputedStyle(gd).display;\n",
       "        if (!display || display === 'none') {{\n",
       "            console.log([gd, 'removed!']);\n",
       "            Plotly.purge(gd);\n",
       "            observer.disconnect();\n",
       "        }}\n",
       "}});\n",
       "\n",
       "// Listen for the removal of the full notebook cells\n",
       "var notebookContainer = gd.closest('#notebook-container');\n",
       "if (notebookContainer) {{\n",
       "    x.observe(notebookContainer, {childList: true});\n",
       "}}\n",
       "\n",
       "// Listen for the clearing of the current output cell\n",
       "var outputEl = gd.closest('.output');\n",
       "if (outputEl) {{\n",
       "    x.observe(outputEl, {childList: true});\n",
       "}}\n",
       "\n",
       "                        })                };                });            </script>        </div>"
      ]
     },
     "metadata": {},
     "output_type": "display_data"
    }
   ],
   "source": [
    "fig = px.bar(df, x=\"Continente\", y=\"Emissões_CO2 (toneladas)\", color=\"Setor\",\n",
    "             barmode='group',\n",
    "             title=\"Contribuição dos Setores para as Emissões de CO2 por Continente\", \n",
    "            hover_data=[\"Ano\"])\n",
    "fig.show()"
   ]
  },
  {
   "cell_type": "markdown",
   "id": "4e1f47dd-bb70-4ca3-b417-262aba94b537",
   "metadata": {},
   "source": [
    "### • Crie gráficos de dispersão para analisar a correlação entre o consumo de energia fóssil e as emissões de CO2 por continente, incluindo uma linha de regressão."
   ]
  },
  {
   "cell_type": "code",
   "execution_count": 14,
   "id": "a92c76db-a71e-49fd-91d1-707ea98cbe84",
   "metadata": {},
   "outputs": [
    {
     "ename": "ModuleNotFoundError",
     "evalue": "No module named 'statsmodels'",
     "output_type": "error",
     "traceback": [
      "\u001b[0;31m---------------------------------------------------------------------------\u001b[0m",
      "\u001b[0;31mModuleNotFoundError\u001b[0m                       Traceback (most recent call last)",
      "Cell \u001b[0;32mIn[14], line 1\u001b[0m\n\u001b[0;32m----> 1\u001b[0m fig_2 \u001b[38;5;241m=\u001b[39m \u001b[43mpx\u001b[49m\u001b[38;5;241;43m.\u001b[39;49m\u001b[43mscatter\u001b[49m\u001b[43m(\u001b[49m\u001b[43mdf\u001b[49m\u001b[43m,\u001b[49m\u001b[43m \u001b[49m\u001b[43mx\u001b[49m\u001b[38;5;241;43m=\u001b[39;49m\u001b[38;5;124;43m\"\u001b[39;49m\u001b[38;5;124;43mConsumo_Energia_Fóssil (MWh)\u001b[39;49m\u001b[38;5;124;43m\"\u001b[39;49m\u001b[43m,\u001b[49m\u001b[43m \u001b[49m\u001b[43my\u001b[49m\u001b[38;5;241;43m=\u001b[39;49m\u001b[38;5;124;43m\"\u001b[39;49m\u001b[38;5;124;43mEmissões_CO2 (toneladas)\u001b[39;49m\u001b[38;5;124;43m\"\u001b[39;49m\u001b[43m,\u001b[49m\n\u001b[1;32m      2\u001b[0m \u001b[43m                    \u001b[49m\u001b[43mtrendline\u001b[49m\u001b[38;5;241;43m=\u001b[39;49m\u001b[38;5;124;43m\"\u001b[39;49m\u001b[38;5;124;43mols\u001b[39;49m\u001b[38;5;124;43m\"\u001b[39;49m\u001b[43m,\u001b[49m\u001b[43m \u001b[49m\u001b[43mtrendline_color_override\u001b[49m\u001b[38;5;241;43m=\u001b[39;49m\u001b[38;5;124;43m\"\u001b[39;49m\u001b[38;5;124;43mblack\u001b[39;49m\u001b[38;5;124;43m\"\u001b[39;49m\u001b[43m,\u001b[49m\u001b[43m \u001b[49m\u001b[43mfacet_col\u001b[49m\u001b[38;5;241;43m=\u001b[39;49m\u001b[38;5;124;43m\"\u001b[39;49m\u001b[38;5;124;43mContinente\u001b[39;49m\u001b[38;5;124;43m\"\u001b[39;49m\u001b[43m)\u001b[49m\n\u001b[1;32m      3\u001b[0m fig_2\u001b[38;5;241m.\u001b[39mupdate_layout(\n\u001b[1;32m      4\u001b[0m     title\u001b[38;5;241m=\u001b[39m\u001b[38;5;124m\"\u001b[39m\u001b[38;5;124mCorrelação entre Consumo de Energia Fóssil e Emissões de CO2 por Continente\u001b[39m\u001b[38;5;124m\"\u001b[39m)\n\u001b[1;32m      5\u001b[0m fig_2\u001b[38;5;241m.\u001b[39mshow()\n",
      "File \u001b[0;32m/opt/miniconda3/lib/python3.12/site-packages/plotly/express/_chart_types.py:66\u001b[0m, in \u001b[0;36mscatter\u001b[0;34m(data_frame, x, y, color, symbol, size, hover_name, hover_data, custom_data, text, facet_row, facet_col, facet_col_wrap, facet_row_spacing, facet_col_spacing, error_x, error_x_minus, error_y, error_y_minus, animation_frame, animation_group, category_orders, labels, orientation, color_discrete_sequence, color_discrete_map, color_continuous_scale, range_color, color_continuous_midpoint, symbol_sequence, symbol_map, opacity, size_max, marginal_x, marginal_y, trendline, trendline_options, trendline_color_override, trendline_scope, log_x, log_y, range_x, range_y, render_mode, title, template, width, height)\u001b[0m\n\u001b[1;32m     12\u001b[0m \u001b[38;5;28;01mdef\u001b[39;00m \u001b[38;5;21mscatter\u001b[39m(\n\u001b[1;32m     13\u001b[0m     data_frame\u001b[38;5;241m=\u001b[39m\u001b[38;5;28;01mNone\u001b[39;00m,\n\u001b[1;32m     14\u001b[0m     x\u001b[38;5;241m=\u001b[39m\u001b[38;5;28;01mNone\u001b[39;00m,\n\u001b[0;32m   (...)\u001b[0m\n\u001b[1;32m     60\u001b[0m     height\u001b[38;5;241m=\u001b[39m\u001b[38;5;28;01mNone\u001b[39;00m,\n\u001b[1;32m     61\u001b[0m ) \u001b[38;5;241m-\u001b[39m\u001b[38;5;241m>\u001b[39m go\u001b[38;5;241m.\u001b[39mFigure:\n\u001b[1;32m     62\u001b[0m \u001b[38;5;250m    \u001b[39m\u001b[38;5;124;03m\"\"\"\u001b[39;00m\n\u001b[1;32m     63\u001b[0m \u001b[38;5;124;03m    In a scatter plot, each row of `data_frame` is represented by a symbol\u001b[39;00m\n\u001b[1;32m     64\u001b[0m \u001b[38;5;124;03m    mark in 2D space.\u001b[39;00m\n\u001b[1;32m     65\u001b[0m \u001b[38;5;124;03m    \"\"\"\u001b[39;00m\n\u001b[0;32m---> 66\u001b[0m     \u001b[38;5;28;01mreturn\u001b[39;00m \u001b[43mmake_figure\u001b[49m\u001b[43m(\u001b[49m\u001b[43margs\u001b[49m\u001b[38;5;241;43m=\u001b[39;49m\u001b[38;5;28;43mlocals\u001b[39;49m\u001b[43m(\u001b[49m\u001b[43m)\u001b[49m\u001b[43m,\u001b[49m\u001b[43m \u001b[49m\u001b[43mconstructor\u001b[49m\u001b[38;5;241;43m=\u001b[39;49m\u001b[43mgo\u001b[49m\u001b[38;5;241;43m.\u001b[39;49m\u001b[43mScatter\u001b[49m\u001b[43m)\u001b[49m\n",
      "File \u001b[0;32m/opt/miniconda3/lib/python3.12/site-packages/plotly/express/_core.py:2297\u001b[0m, in \u001b[0;36mmake_figure\u001b[0;34m(args, constructor, trace_patch, layout_patch)\u001b[0m\n\u001b[1;32m   2294\u001b[0m     \u001b[38;5;28;01melif\u001b[39;00m args[\u001b[38;5;124m\"\u001b[39m\u001b[38;5;124mecdfnorm\u001b[39m\u001b[38;5;124m\"\u001b[39m] \u001b[38;5;241m==\u001b[39m \u001b[38;5;124m\"\u001b[39m\u001b[38;5;124mpercent\u001b[39m\u001b[38;5;124m\"\u001b[39m:\n\u001b[1;32m   2295\u001b[0m         group[var] \u001b[38;5;241m=\u001b[39m \u001b[38;5;241m100.0\u001b[39m \u001b[38;5;241m*\u001b[39m group[var] \u001b[38;5;241m/\u001b[39m group_sum\n\u001b[0;32m-> 2297\u001b[0m patch, fit_results \u001b[38;5;241m=\u001b[39m \u001b[43mmake_trace_kwargs\u001b[49m\u001b[43m(\u001b[49m\n\u001b[1;32m   2298\u001b[0m \u001b[43m    \u001b[49m\u001b[43margs\u001b[49m\u001b[43m,\u001b[49m\u001b[43m \u001b[49m\u001b[43mtrace_spec\u001b[49m\u001b[43m,\u001b[49m\u001b[43m \u001b[49m\u001b[43mgroup\u001b[49m\u001b[43m,\u001b[49m\u001b[43m \u001b[49m\u001b[43mmapping_labels\u001b[49m\u001b[38;5;241;43m.\u001b[39;49m\u001b[43mcopy\u001b[49m\u001b[43m(\u001b[49m\u001b[43m)\u001b[49m\u001b[43m,\u001b[49m\u001b[43m \u001b[49m\u001b[43msizeref\u001b[49m\n\u001b[1;32m   2299\u001b[0m \u001b[43m\u001b[49m\u001b[43m)\u001b[49m\n\u001b[1;32m   2300\u001b[0m trace\u001b[38;5;241m.\u001b[39mupdate(patch)\n\u001b[1;32m   2301\u001b[0m \u001b[38;5;28;01mif\u001b[39;00m fit_results \u001b[38;5;129;01mis\u001b[39;00m \u001b[38;5;129;01mnot\u001b[39;00m \u001b[38;5;28;01mNone\u001b[39;00m:\n",
      "File \u001b[0;32m/opt/miniconda3/lib/python3.12/site-packages/plotly/express/_core.py:361\u001b[0m, in \u001b[0;36mmake_trace_kwargs\u001b[0;34m(args, trace_spec, trace_data, mapping_labels, sizeref)\u001b[0m\n\u001b[1;32m    359\u001b[0m trace_patch[\u001b[38;5;124m\"\u001b[39m\u001b[38;5;124mx\u001b[39m\u001b[38;5;124m\"\u001b[39m] \u001b[38;5;241m=\u001b[39m sorted_trace_data[args[\u001b[38;5;124m\"\u001b[39m\u001b[38;5;124mx\u001b[39m\u001b[38;5;124m\"\u001b[39m]][non_missing]\n\u001b[1;32m    360\u001b[0m trendline_function \u001b[38;5;241m=\u001b[39m trendline_functions[attr_value]\n\u001b[0;32m--> 361\u001b[0m y_out, hover_header, fit_results \u001b[38;5;241m=\u001b[39m \u001b[43mtrendline_function\u001b[49m\u001b[43m(\u001b[49m\n\u001b[1;32m    362\u001b[0m \u001b[43m    \u001b[49m\u001b[43margs\u001b[49m\u001b[43m[\u001b[49m\u001b[38;5;124;43m\"\u001b[39;49m\u001b[38;5;124;43mtrendline_options\u001b[39;49m\u001b[38;5;124;43m\"\u001b[39;49m\u001b[43m]\u001b[49m\u001b[43m,\u001b[49m\n\u001b[1;32m    363\u001b[0m \u001b[43m    \u001b[49m\u001b[43msorted_trace_data\u001b[49m\u001b[43m[\u001b[49m\u001b[43margs\u001b[49m\u001b[43m[\u001b[49m\u001b[38;5;124;43m\"\u001b[39;49m\u001b[38;5;124;43mx\u001b[39;49m\u001b[38;5;124;43m\"\u001b[39;49m\u001b[43m]\u001b[49m\u001b[43m]\u001b[49m\u001b[43m,\u001b[49m\n\u001b[1;32m    364\u001b[0m \u001b[43m    \u001b[49m\u001b[43mx\u001b[49m\u001b[43m,\u001b[49m\n\u001b[1;32m    365\u001b[0m \u001b[43m    \u001b[49m\u001b[43my\u001b[49m\u001b[43m,\u001b[49m\n\u001b[1;32m    366\u001b[0m \u001b[43m    \u001b[49m\u001b[43margs\u001b[49m\u001b[43m[\u001b[49m\u001b[38;5;124;43m\"\u001b[39;49m\u001b[38;5;124;43mx\u001b[39;49m\u001b[38;5;124;43m\"\u001b[39;49m\u001b[43m]\u001b[49m\u001b[43m,\u001b[49m\n\u001b[1;32m    367\u001b[0m \u001b[43m    \u001b[49m\u001b[43margs\u001b[49m\u001b[43m[\u001b[49m\u001b[38;5;124;43m\"\u001b[39;49m\u001b[38;5;124;43my\u001b[39;49m\u001b[38;5;124;43m\"\u001b[39;49m\u001b[43m]\u001b[49m\u001b[43m,\u001b[49m\n\u001b[1;32m    368\u001b[0m \u001b[43m    \u001b[49m\u001b[43mnon_missing\u001b[49m\u001b[43m,\u001b[49m\n\u001b[1;32m    369\u001b[0m \u001b[43m\u001b[49m\u001b[43m)\u001b[49m\n\u001b[1;32m    370\u001b[0m \u001b[38;5;28;01massert\u001b[39;00m \u001b[38;5;28mlen\u001b[39m(y_out) \u001b[38;5;241m==\u001b[39m \u001b[38;5;28mlen\u001b[39m(\n\u001b[1;32m    371\u001b[0m     trace_patch[\u001b[38;5;124m\"\u001b[39m\u001b[38;5;124mx\u001b[39m\u001b[38;5;124m\"\u001b[39m]\n\u001b[1;32m    372\u001b[0m ), \u001b[38;5;124m\"\u001b[39m\u001b[38;5;124mmissing-data-handling failure in trendline code\u001b[39m\u001b[38;5;124m\"\u001b[39m\n\u001b[1;32m    373\u001b[0m trace_patch[\u001b[38;5;124m\"\u001b[39m\u001b[38;5;124my\u001b[39m\u001b[38;5;124m\"\u001b[39m] \u001b[38;5;241m=\u001b[39m y_out\n",
      "File \u001b[0;32m/opt/miniconda3/lib/python3.12/site-packages/plotly/express/trendline_functions/__init__.py:43\u001b[0m, in \u001b[0;36mols\u001b[0;34m(trendline_options, x_raw, x, y, x_label, y_label, non_missing)\u001b[0m\n\u001b[1;32m     37\u001b[0m     \u001b[38;5;28;01mif\u001b[39;00m k \u001b[38;5;129;01mnot\u001b[39;00m \u001b[38;5;129;01min\u001b[39;00m valid_options:\n\u001b[1;32m     38\u001b[0m         \u001b[38;5;28;01mraise\u001b[39;00m \u001b[38;5;167;01mValueError\u001b[39;00m(\n\u001b[1;32m     39\u001b[0m             \u001b[38;5;124m\"\u001b[39m\u001b[38;5;124mOLS trendline_options keys must be one of [\u001b[39m\u001b[38;5;132;01m%s\u001b[39;00m\u001b[38;5;124m] but got \u001b[39m\u001b[38;5;124m'\u001b[39m\u001b[38;5;132;01m%s\u001b[39;00m\u001b[38;5;124m'\u001b[39m\u001b[38;5;124m\"\u001b[39m\n\u001b[1;32m     40\u001b[0m             \u001b[38;5;241m%\u001b[39m (\u001b[38;5;124m\"\u001b[39m\u001b[38;5;124m, \u001b[39m\u001b[38;5;124m\"\u001b[39m\u001b[38;5;241m.\u001b[39mjoin(valid_options), k)\n\u001b[1;32m     41\u001b[0m         )\n\u001b[0;32m---> 43\u001b[0m \u001b[38;5;28;01mimport\u001b[39;00m \u001b[38;5;21;01mstatsmodels\u001b[39;00m\u001b[38;5;21;01m.\u001b[39;00m\u001b[38;5;21;01mapi\u001b[39;00m \u001b[38;5;28;01mas\u001b[39;00m \u001b[38;5;21;01msm\u001b[39;00m\n\u001b[1;32m     45\u001b[0m add_constant \u001b[38;5;241m=\u001b[39m trendline_options\u001b[38;5;241m.\u001b[39mget(\u001b[38;5;124m\"\u001b[39m\u001b[38;5;124madd_constant\u001b[39m\u001b[38;5;124m\"\u001b[39m, \u001b[38;5;28;01mTrue\u001b[39;00m)\n\u001b[1;32m     46\u001b[0m log_x \u001b[38;5;241m=\u001b[39m trendline_options\u001b[38;5;241m.\u001b[39mget(\u001b[38;5;124m\"\u001b[39m\u001b[38;5;124mlog_x\u001b[39m\u001b[38;5;124m\"\u001b[39m, \u001b[38;5;28;01mFalse\u001b[39;00m)\n",
      "\u001b[0;31mModuleNotFoundError\u001b[0m: No module named 'statsmodels'"
     ]
    }
   ],
   "source": [
    "fig_2 = px.scatter(df, x=\"Consumo_Energia_Fóssil (MWh)\", y=\"Emissões_CO2 (toneladas)\",\n",
    "                    trendline=\"ols\", trendline_color_override=\"black\", facet_col=\"Continente\")\n",
    "fig_2.update_layout(\n",
    "    title=\"Correlação entre Consumo de Energia Fóssil e Emissões de CO2 por Continente\")\n",
    "fig_2.show()"
   ]
  },
  {
   "cell_type": "markdown",
   "id": "c0b88671-19f5-4ec2-b41e-e6c6c6b8d860",
   "metadata": {},
   "source": [
    "### • Crie gráficos interativos que permitam visualizar como o consumo energético impacta as emissões ao longo do tempo em diferentes regiões."
   ]
  },
  {
   "cell_type": "code",
   "execution_count": 15,
   "id": "7283957e-430d-4231-bf1e-78ccabdb65e7",
   "metadata": {},
   "outputs": [
    {
     "data": {
      "application/vnd.plotly.v1+json": {
       "config": {
        "plotlyServerURL": "https://plot.ly"
       },
       "data": [
        {
         "fillpattern": {
          "shape": ""
         },
         "hovertemplate": "Continente=América do Norte<br>variable=Emissões_CO2 (toneladas)<br>Ano=%{x}<br>value=%{y}<extra></extra>",
         "legendgroup": "América do Norte",
         "line": {
          "color": "#636efa"
         },
         "marker": {
          "symbol": "circle"
         },
         "mode": "lines",
         "name": "América do Norte",
         "orientation": "v",
         "showlegend": true,
         "stackgroup": "1",
         "type": "scatter",
         "x": [
          2000,
          2001,
          2002,
          2003,
          2004,
          2005,
          2006,
          2007,
          2008,
          2009,
          2010,
          2011,
          2012,
          2013,
          2014,
          2015,
          2016,
          2017,
          2018,
          2019,
          2020,
          2021,
          2022
         ],
         "xaxis": "x",
         "y": [
          1474636.3787701845,
          2186439.375625268,
          2553643.959205827,
          910823.8547363281,
          1953556.6642913404,
          1269392.4916141133,
          1731840.7089565918,
          1144124.8982542532,
          993327.4624862933,
          1128248.811080879,
          1300574.4307428345,
          1911932.187220173,
          1658012.0443701472,
          854357.5930176801,
          1495701.5695109295,
          1141551.6792886378,
          1828109.4220061637,
          1009698.9479388711,
          1487834.046461945,
          1850227.7131310904,
          2101591.642868916,
          2561801.587762538,
          1036636.3729096142
         ],
         "yaxis": "y"
        },
        {
         "fillpattern": {
          "shape": ""
         },
         "hovertemplate": "Continente=América do Norte<br>variable=Consumo_Total (MWh)<br>Ano=%{x}<br>value=%{y}<extra></extra>",
         "legendgroup": "América do Norte",
         "line": {
          "color": "#636efa"
         },
         "marker": {
          "symbol": "circle"
         },
         "mode": "lines",
         "name": "América do Norte",
         "orientation": "v",
         "showlegend": false,
         "stackgroup": "1",
         "type": "scatter",
         "x": [
          2000,
          2001,
          2002,
          2003,
          2004,
          2005,
          2006,
          2007,
          2008,
          2009,
          2010,
          2011,
          2012,
          2013,
          2014,
          2015,
          2016,
          2017,
          2018,
          2019,
          2020,
          2021,
          2022
         ],
         "xaxis": "x",
         "y": [
          194776.24821315607,
          337411.744550872,
          391771.327070499,
          135395.72319742446,
          229216.6964204008,
          215209.23799121391,
          292865.1749586877,
          168013.0812043546,
          155721.5223211157,
          184761.75533309736,
          156699.86233547633,
          243231.8547449337,
          183716.05833783752,
          121863.49699254899,
          182219.14974967527,
          191731.744680851,
          220898.7654537069,
          123465.61262586854,
          229078.8953140266,
          280325.45621552016,
          300693.0912983979,
          340971.2726811397,
          164609.04679805855
         ],
         "yaxis": "y"
        },
        {
         "fillpattern": {
          "shape": ""
         },
         "hovertemplate": "Continente=América do Sul<br>variable=Emissões_CO2 (toneladas)<br>Ano=%{x}<br>value=%{y}<extra></extra>",
         "legendgroup": "América do Sul",
         "line": {
          "color": "#EF553B"
         },
         "marker": {
          "symbol": "circle"
         },
         "mode": "lines",
         "name": "América do Sul",
         "orientation": "v",
         "showlegend": true,
         "stackgroup": "1",
         "type": "scatter",
         "x": [
          2000,
          2001,
          2002,
          2003,
          2004,
          2005,
          2006,
          2007,
          2008,
          2009,
          2010,
          2011,
          2012,
          2013,
          2014,
          2015,
          2016,
          2017,
          2018,
          2019,
          2020,
          2021,
          2022
         ],
         "xaxis": "x",
         "y": [
          1467469.4676536247,
          1760928.3234274033,
          864754.2089782401,
          1157288.4738356813,
          782669.7615013274,
          2223295.6461676536,
          2178451.1246870803,
          1176677.0163208193,
          1275498.5322056334,
          2372964.0224875314,
          1764688.0711066432,
          680033.7126618795,
          888766.3632411049,
          1162913.285374646,
          2100941.2307164227,
          1332068.4962827421,
          909641.5392353595,
          1440374.4037104696,
          749794.611057301,
          1927880.315989891,
          1218794.6443726989,
          1462054.2202452684,
          1504839.106407883
         ],
         "yaxis": "y"
        },
        {
         "fillpattern": {
          "shape": ""
         },
         "hovertemplate": "Continente=América do Sul<br>variable=Consumo_Total (MWh)<br>Ano=%{x}<br>value=%{y}<extra></extra>",
         "legendgroup": "América do Sul",
         "line": {
          "color": "#EF553B"
         },
         "marker": {
          "symbol": "circle"
         },
         "mode": "lines",
         "name": "América do Sul",
         "orientation": "v",
         "showlegend": false,
         "stackgroup": "1",
         "type": "scatter",
         "x": [
          2000,
          2001,
          2002,
          2003,
          2004,
          2005,
          2006,
          2007,
          2008,
          2009,
          2010,
          2011,
          2012,
          2013,
          2014,
          2015,
          2016,
          2017,
          2018,
          2019,
          2020,
          2021,
          2022
         ],
         "xaxis": "x",
         "y": [
          272892.1612344109,
          274564.1316083146,
          145058.5367680758,
          194052.27178773706,
          154942.55817770332,
          365907.8318019211,
          347795.9688409137,
          204441.8030921528,
          215816.66993829855,
          337673.04277634213,
          275155.49713133543,
          124610.03209784982,
          189315.37357485743,
          190129.4725014072,
          306787.08995866135,
          194754.77592805465,
          195684.77748803826,
          183525.47005182132,
          122537.3894160436,
          341477.2441475467,
          169819.76173733658,
          261165.40313200274,
          172621.46067027308
         ],
         "yaxis": "y"
        },
        {
         "fillpattern": {
          "shape": ""
         },
         "hovertemplate": "Continente=Europa<br>variable=Emissões_CO2 (toneladas)<br>Ano=%{x}<br>value=%{y}<extra></extra>",
         "legendgroup": "Europa",
         "line": {
          "color": "#00cc96"
         },
         "marker": {
          "symbol": "circle"
         },
         "mode": "lines",
         "name": "Europa",
         "orientation": "v",
         "showlegend": true,
         "stackgroup": "1",
         "type": "scatter",
         "x": [
          2000,
          2001,
          2002,
          2003,
          2004,
          2005,
          2006,
          2007,
          2008,
          2009,
          2010,
          2011,
          2012,
          2013,
          2014,
          2015,
          2016,
          2017,
          2018,
          2019,
          2020,
          2021,
          2022
         ],
         "xaxis": "x",
         "y": [
          1001317.6903070766,
          1836087.075210214,
          1233312.7895708045,
          1036589.8920244179,
          1036642.220196601,
          922486.235493619,
          1233532.3622065613,
          1036704.7302943168,
          1850046.7429656468,
          1373617.593374414,
          1261499.9700615515,
          1574324.4822849077,
          1147882.8837282155,
          1316600.4893307595,
          1247173.6431410986,
          1157655.4864365389,
          1049267.1118452004,
          1202004.2788221694,
          2185743.133218641,
          1253628.7620482314,
          2049212.203542184,
          1980881.0743827138,
          1231588.513443756
         ],
         "yaxis": "y"
        },
        {
         "fillpattern": {
          "shape": ""
         },
         "hovertemplate": "Continente=Europa<br>variable=Consumo_Total (MWh)<br>Ano=%{x}<br>value=%{y}<extra></extra>",
         "legendgroup": "Europa",
         "line": {
          "color": "#00cc96"
         },
         "marker": {
          "symbol": "circle"
         },
         "mode": "lines",
         "name": "Europa",
         "orientation": "v",
         "showlegend": false,
         "stackgroup": "1",
         "type": "scatter",
         "x": [
          2000,
          2001,
          2002,
          2003,
          2004,
          2005,
          2006,
          2007,
          2008,
          2009,
          2010,
          2011,
          2012,
          2013,
          2014,
          2015,
          2016,
          2017,
          2018,
          2019,
          2020,
          2021,
          2022
         ],
         "xaxis": "x",
         "y": [
          113781.74848577917,
          304539.5791398194,
          150187.23926051302,
          273075.3107548763,
          196106.35494522934,
          158015.10090985938,
          240012.16289721464,
          147692.2693382779,
          298416.82549276156,
          174748.2220465642,
          211507.80194530322,
          208190.86998579497,
          152226.1126832812,
          236208.96095456672,
          139684.35857488107,
          184833.12388401118,
          185272.9226414503,
          211051.18886409418,
          379820.9142929422,
          196598.0302196879,
          398928.32434003905,
          286543.92512032425,
          226616.415753814
         ],
         "yaxis": "y"
        },
        {
         "fillpattern": {
          "shape": ""
         },
         "hovertemplate": "Continente=Oceania<br>variable=Emissões_CO2 (toneladas)<br>Ano=%{x}<br>value=%{y}<extra></extra>",
         "legendgroup": "Oceania",
         "line": {
          "color": "#ab63fa"
         },
         "marker": {
          "symbol": "circle"
         },
         "mode": "lines",
         "name": "Oceania",
         "orientation": "v",
         "showlegend": true,
         "stackgroup": "1",
         "type": "scatter",
         "x": [
          2000,
          2001,
          2002,
          2003,
          2004,
          2005,
          2006,
          2007,
          2008,
          2009,
          2010,
          2011,
          2012,
          2013,
          2014,
          2015,
          2016,
          2017,
          2018,
          2019,
          2020,
          2021,
          2022
         ],
         "xaxis": "x",
         "y": [
          1923709.0908708062,
          677145.8273092372,
          1585234.8396193208,
          1194538.4661450067,
          1626859.7110115984,
          2567002.8609985183,
          1400165.5050465849,
          1845398.6426751518,
          952625.7034037539,
          1600203.896301631,
          1521994.6943087676,
          1592237.9447345121,
          1030291.619655505,
          2183067.446063025,
          1197762.8175252227,
          1493809.544490423,
          1347706.0498775984,
          1189057.7827981748,
          1852950.7526948005,
          2041125.980125202,
          1755376.165747321,
          984612.1406991623,
          1016304.4412275343
         ],
         "yaxis": "y"
        },
        {
         "fillpattern": {
          "shape": ""
         },
         "hovertemplate": "Continente=Oceania<br>variable=Consumo_Total (MWh)<br>Ano=%{x}<br>value=%{y}<extra></extra>",
         "legendgroup": "Oceania",
         "line": {
          "color": "#ab63fa"
         },
         "marker": {
          "symbol": "circle"
         },
         "mode": "lines",
         "name": "Oceania",
         "orientation": "v",
         "showlegend": false,
         "stackgroup": "1",
         "type": "scatter",
         "x": [
          2000,
          2001,
          2002,
          2003,
          2004,
          2005,
          2006,
          2007,
          2008,
          2009,
          2010,
          2011,
          2012,
          2013,
          2014,
          2015,
          2016,
          2017,
          2018,
          2019,
          2020,
          2021,
          2022
         ],
         "xaxis": "x",
         "y": [
          291991.1379157113,
          138891.8543872108,
          182417.99129133348,
          151365.5555243417,
          218073.06694632306,
          338460.67873935495,
          149749.33638721769,
          235385.80233058226,
          193911.4857521055,
          223062.25072445962,
          233860.97408300254,
          233738.5278994777,
          124135.47506383085,
          266866.3848928127,
          206761.13060726973,
          180743.74341291457,
          239458.83923777606,
          250779.20827610246,
          318624.4399938113,
          409630.02430785936,
          257938.29977990928,
          212213.24568674044,
          183430.4635622677
         ],
         "yaxis": "y"
        },
        {
         "fillpattern": {
          "shape": ""
         },
         "hovertemplate": "Continente=África<br>variable=Emissões_CO2 (toneladas)<br>Ano=%{x}<br>value=%{y}<extra></extra>",
         "legendgroup": "África",
         "line": {
          "color": "#FFA15A"
         },
         "marker": {
          "symbol": "circle"
         },
         "mode": "lines",
         "name": "África",
         "orientation": "v",
         "showlegend": true,
         "stackgroup": "1",
         "type": "scatter",
         "x": [
          2000,
          2001,
          2002,
          2003,
          2004,
          2005,
          2006,
          2007,
          2008,
          2009,
          2010,
          2011,
          2012,
          2013,
          2014,
          2015,
          2016,
          2017,
          2018,
          2019,
          2020,
          2021,
          2022
         ],
         "xaxis": "x",
         "y": [
          1342009.8126665927,
          1862517.0819358297,
          1156586.3874685725,
          1218757.558270728,
          1791783.6988587454,
          1013783.0658546867,
          1738716.3813957619,
          1056015.770084516,
          859567.8293256722,
          1657649.9123304258,
          2078353.0793986924,
          1492784.9691874918,
          1558281.6091384853,
          1813276.844457597,
          1369583.6302389225,
          1747912.2917939557,
          1533909.6915648808,
          1194899.7013786207,
          1322370.4185382777,
          1529153.9903102482,
          1428994.9565031864,
          1133234.5932696604,
          1402300.8658448097
         ],
         "yaxis": "y"
        },
        {
         "fillpattern": {
          "shape": ""
         },
         "hovertemplate": "Continente=África<br>variable=Consumo_Total (MWh)<br>Ano=%{x}<br>value=%{y}<extra></extra>",
         "legendgroup": "África",
         "line": {
          "color": "#FFA15A"
         },
         "marker": {
          "symbol": "circle"
         },
         "mode": "lines",
         "name": "África",
         "orientation": "v",
         "showlegend": false,
         "stackgroup": "1",
         "type": "scatter",
         "x": [
          2000,
          2001,
          2002,
          2003,
          2004,
          2005,
          2006,
          2007,
          2008,
          2009,
          2010,
          2011,
          2012,
          2013,
          2014,
          2015,
          2016,
          2017,
          2018,
          2019,
          2020,
          2021,
          2022
         ],
         "xaxis": "x",
         "y": [
          274444.4236500358,
          252859.71510768172,
          149678.1376083251,
          259131.1231229063,
          208361.34629198883,
          199154.37335152848,
          256102.1561205145,
          222094.3675645956,
          111010.92578737249,
          252635.42314943,
          261968.55486457344,
          204907.32026576958,
          191353.39252096438,
          182517.86455027538,
          157285.09607819276,
          225482.54284717044,
          249100.70201135176,
          125568.30820051853,
          199580.83213261352,
          170738.54575277024,
          187157.16433148505,
          210666.98399917508,
          175311.16970436004
         ],
         "yaxis": "y"
        },
        {
         "fillpattern": {
          "shape": ""
         },
         "hovertemplate": "Continente=Ásia<br>variable=Emissões_CO2 (toneladas)<br>Ano=%{x}<br>value=%{y}<extra></extra>",
         "legendgroup": "Ásia",
         "line": {
          "color": "#19d3f3"
         },
         "marker": {
          "symbol": "circle"
         },
         "mode": "lines",
         "name": "Ásia",
         "orientation": "v",
         "showlegend": true,
         "stackgroup": "1",
         "type": "scatter",
         "x": [
          2000,
          2001,
          2002,
          2003,
          2004,
          2005,
          2006,
          2007,
          2008,
          2009,
          2010,
          2011,
          2012,
          2013,
          2014,
          2015,
          2016,
          2017,
          2018,
          2019,
          2020,
          2021,
          2022
         ],
         "xaxis": "x",
         "y": [
          1487351.5703305842,
          1807824.6336966837,
          1680985.5638341573,
          1394900.208440911,
          1684604.2635999578,
          2272047.059578021,
          1508506.1449284975,
          1261149.933089184,
          887453.1806538928,
          1499275.7745179133,
          1041187.5368184337,
          860611.0105406629,
          1405668.2318971315,
          944964.1855295245,
          1345676.9161626,
          1775184.7108031888,
          1478954.9572192908,
          1285499.0037735226,
          1410556.1489025485,
          887091.1721947764,
          1501739.3149362972,
          1197657.217497593,
          2076023.5481945914
         ],
         "yaxis": "y"
        },
        {
         "fillpattern": {
          "shape": ""
         },
         "hovertemplate": "Continente=Ásia<br>variable=Consumo_Total (MWh)<br>Ano=%{x}<br>value=%{y}<extra></extra>",
         "legendgroup": "Ásia",
         "line": {
          "color": "#19d3f3"
         },
         "marker": {
          "symbol": "circle"
         },
         "mode": "lines",
         "name": "Ásia",
         "orientation": "v",
         "showlegend": false,
         "stackgroup": "1",
         "type": "scatter",
         "x": [
          2000,
          2001,
          2002,
          2003,
          2004,
          2005,
          2006,
          2007,
          2008,
          2009,
          2010,
          2011,
          2012,
          2013,
          2014,
          2015,
          2016,
          2017,
          2018,
          2019,
          2020,
          2021,
          2022
         ],
         "xaxis": "x",
         "y": [
          249100.5779763102,
          216372.14079029154,
          247960.33728811887,
          237368.32348575193,
          197447.67862610618,
          301173.6340175829,
          209263.60701477632,
          160459.28277004714,
          102839.50442144365,
          255454.1716006471,
          143083.83715894795,
          151999.88228340438,
          213389.4937969989,
          206508.59096104375,
          209545.78644261774,
          285107.95286679233,
          204275.02139461046,
          207639.92327505042,
          183877.24002233852,
          83692.72274321353,
          155066.25105943013,
          185826.60629253343,
          303969.00308708235
         ],
         "yaxis": "y"
        }
       ],
       "layout": {
        "autosize": true,
        "legend": {
         "title": {
          "text": "Continente"
         },
         "tracegroupgap": 0
        },
        "template": {
         "data": {
          "bar": [
           {
            "error_x": {
             "color": "#2a3f5f"
            },
            "error_y": {
             "color": "#2a3f5f"
            },
            "marker": {
             "line": {
              "color": "#E5ECF6",
              "width": 0.5
             },
             "pattern": {
              "fillmode": "overlay",
              "size": 10,
              "solidity": 0.2
             }
            },
            "type": "bar"
           }
          ],
          "barpolar": [
           {
            "marker": {
             "line": {
              "color": "#E5ECF6",
              "width": 0.5
             },
             "pattern": {
              "fillmode": "overlay",
              "size": 10,
              "solidity": 0.2
             }
            },
            "type": "barpolar"
           }
          ],
          "carpet": [
           {
            "aaxis": {
             "endlinecolor": "#2a3f5f",
             "gridcolor": "white",
             "linecolor": "white",
             "minorgridcolor": "white",
             "startlinecolor": "#2a3f5f"
            },
            "baxis": {
             "endlinecolor": "#2a3f5f",
             "gridcolor": "white",
             "linecolor": "white",
             "minorgridcolor": "white",
             "startlinecolor": "#2a3f5f"
            },
            "type": "carpet"
           }
          ],
          "choropleth": [
           {
            "colorbar": {
             "outlinewidth": 0,
             "ticks": ""
            },
            "type": "choropleth"
           }
          ],
          "contour": [
           {
            "colorbar": {
             "outlinewidth": 0,
             "ticks": ""
            },
            "colorscale": [
             [
              0,
              "#0d0887"
             ],
             [
              0.1111111111111111,
              "#46039f"
             ],
             [
              0.2222222222222222,
              "#7201a8"
             ],
             [
              0.3333333333333333,
              "#9c179e"
             ],
             [
              0.4444444444444444,
              "#bd3786"
             ],
             [
              0.5555555555555556,
              "#d8576b"
             ],
             [
              0.6666666666666666,
              "#ed7953"
             ],
             [
              0.7777777777777778,
              "#fb9f3a"
             ],
             [
              0.8888888888888888,
              "#fdca26"
             ],
             [
              1,
              "#f0f921"
             ]
            ],
            "type": "contour"
           }
          ],
          "contourcarpet": [
           {
            "colorbar": {
             "outlinewidth": 0,
             "ticks": ""
            },
            "type": "contourcarpet"
           }
          ],
          "heatmap": [
           {
            "colorbar": {
             "outlinewidth": 0,
             "ticks": ""
            },
            "colorscale": [
             [
              0,
              "#0d0887"
             ],
             [
              0.1111111111111111,
              "#46039f"
             ],
             [
              0.2222222222222222,
              "#7201a8"
             ],
             [
              0.3333333333333333,
              "#9c179e"
             ],
             [
              0.4444444444444444,
              "#bd3786"
             ],
             [
              0.5555555555555556,
              "#d8576b"
             ],
             [
              0.6666666666666666,
              "#ed7953"
             ],
             [
              0.7777777777777778,
              "#fb9f3a"
             ],
             [
              0.8888888888888888,
              "#fdca26"
             ],
             [
              1,
              "#f0f921"
             ]
            ],
            "type": "heatmap"
           }
          ],
          "heatmapgl": [
           {
            "colorbar": {
             "outlinewidth": 0,
             "ticks": ""
            },
            "colorscale": [
             [
              0,
              "#0d0887"
             ],
             [
              0.1111111111111111,
              "#46039f"
             ],
             [
              0.2222222222222222,
              "#7201a8"
             ],
             [
              0.3333333333333333,
              "#9c179e"
             ],
             [
              0.4444444444444444,
              "#bd3786"
             ],
             [
              0.5555555555555556,
              "#d8576b"
             ],
             [
              0.6666666666666666,
              "#ed7953"
             ],
             [
              0.7777777777777778,
              "#fb9f3a"
             ],
             [
              0.8888888888888888,
              "#fdca26"
             ],
             [
              1,
              "#f0f921"
             ]
            ],
            "type": "heatmapgl"
           }
          ],
          "histogram": [
           {
            "marker": {
             "pattern": {
              "fillmode": "overlay",
              "size": 10,
              "solidity": 0.2
             }
            },
            "type": "histogram"
           }
          ],
          "histogram2d": [
           {
            "colorbar": {
             "outlinewidth": 0,
             "ticks": ""
            },
            "colorscale": [
             [
              0,
              "#0d0887"
             ],
             [
              0.1111111111111111,
              "#46039f"
             ],
             [
              0.2222222222222222,
              "#7201a8"
             ],
             [
              0.3333333333333333,
              "#9c179e"
             ],
             [
              0.4444444444444444,
              "#bd3786"
             ],
             [
              0.5555555555555556,
              "#d8576b"
             ],
             [
              0.6666666666666666,
              "#ed7953"
             ],
             [
              0.7777777777777778,
              "#fb9f3a"
             ],
             [
              0.8888888888888888,
              "#fdca26"
             ],
             [
              1,
              "#f0f921"
             ]
            ],
            "type": "histogram2d"
           }
          ],
          "histogram2dcontour": [
           {
            "colorbar": {
             "outlinewidth": 0,
             "ticks": ""
            },
            "colorscale": [
             [
              0,
              "#0d0887"
             ],
             [
              0.1111111111111111,
              "#46039f"
             ],
             [
              0.2222222222222222,
              "#7201a8"
             ],
             [
              0.3333333333333333,
              "#9c179e"
             ],
             [
              0.4444444444444444,
              "#bd3786"
             ],
             [
              0.5555555555555556,
              "#d8576b"
             ],
             [
              0.6666666666666666,
              "#ed7953"
             ],
             [
              0.7777777777777778,
              "#fb9f3a"
             ],
             [
              0.8888888888888888,
              "#fdca26"
             ],
             [
              1,
              "#f0f921"
             ]
            ],
            "type": "histogram2dcontour"
           }
          ],
          "mesh3d": [
           {
            "colorbar": {
             "outlinewidth": 0,
             "ticks": ""
            },
            "type": "mesh3d"
           }
          ],
          "parcoords": [
           {
            "line": {
             "colorbar": {
              "outlinewidth": 0,
              "ticks": ""
             }
            },
            "type": "parcoords"
           }
          ],
          "pie": [
           {
            "automargin": true,
            "type": "pie"
           }
          ],
          "scatter": [
           {
            "fillpattern": {
             "fillmode": "overlay",
             "size": 10,
             "solidity": 0.2
            },
            "type": "scatter"
           }
          ],
          "scatter3d": [
           {
            "line": {
             "colorbar": {
              "outlinewidth": 0,
              "ticks": ""
             }
            },
            "marker": {
             "colorbar": {
              "outlinewidth": 0,
              "ticks": ""
             }
            },
            "type": "scatter3d"
           }
          ],
          "scattercarpet": [
           {
            "marker": {
             "colorbar": {
              "outlinewidth": 0,
              "ticks": ""
             }
            },
            "type": "scattercarpet"
           }
          ],
          "scattergeo": [
           {
            "marker": {
             "colorbar": {
              "outlinewidth": 0,
              "ticks": ""
             }
            },
            "type": "scattergeo"
           }
          ],
          "scattergl": [
           {
            "marker": {
             "colorbar": {
              "outlinewidth": 0,
              "ticks": ""
             }
            },
            "type": "scattergl"
           }
          ],
          "scattermapbox": [
           {
            "marker": {
             "colorbar": {
              "outlinewidth": 0,
              "ticks": ""
             }
            },
            "type": "scattermapbox"
           }
          ],
          "scatterpolar": [
           {
            "marker": {
             "colorbar": {
              "outlinewidth": 0,
              "ticks": ""
             }
            },
            "type": "scatterpolar"
           }
          ],
          "scatterpolargl": [
           {
            "marker": {
             "colorbar": {
              "outlinewidth": 0,
              "ticks": ""
             }
            },
            "type": "scatterpolargl"
           }
          ],
          "scatterternary": [
           {
            "marker": {
             "colorbar": {
              "outlinewidth": 0,
              "ticks": ""
             }
            },
            "type": "scatterternary"
           }
          ],
          "surface": [
           {
            "colorbar": {
             "outlinewidth": 0,
             "ticks": ""
            },
            "colorscale": [
             [
              0,
              "#0d0887"
             ],
             [
              0.1111111111111111,
              "#46039f"
             ],
             [
              0.2222222222222222,
              "#7201a8"
             ],
             [
              0.3333333333333333,
              "#9c179e"
             ],
             [
              0.4444444444444444,
              "#bd3786"
             ],
             [
              0.5555555555555556,
              "#d8576b"
             ],
             [
              0.6666666666666666,
              "#ed7953"
             ],
             [
              0.7777777777777778,
              "#fb9f3a"
             ],
             [
              0.8888888888888888,
              "#fdca26"
             ],
             [
              1,
              "#f0f921"
             ]
            ],
            "type": "surface"
           }
          ],
          "table": [
           {
            "cells": {
             "fill": {
              "color": "#EBF0F8"
             },
             "line": {
              "color": "white"
             }
            },
            "header": {
             "fill": {
              "color": "#C8D4E3"
             },
             "line": {
              "color": "white"
             }
            },
            "type": "table"
           }
          ]
         },
         "layout": {
          "annotationdefaults": {
           "arrowcolor": "#2a3f5f",
           "arrowhead": 0,
           "arrowwidth": 1
          },
          "autotypenumbers": "strict",
          "coloraxis": {
           "colorbar": {
            "outlinewidth": 0,
            "ticks": ""
           }
          },
          "colorscale": {
           "diverging": [
            [
             0,
             "#8e0152"
            ],
            [
             0.1,
             "#c51b7d"
            ],
            [
             0.2,
             "#de77ae"
            ],
            [
             0.3,
             "#f1b6da"
            ],
            [
             0.4,
             "#fde0ef"
            ],
            [
             0.5,
             "#f7f7f7"
            ],
            [
             0.6,
             "#e6f5d0"
            ],
            [
             0.7,
             "#b8e186"
            ],
            [
             0.8,
             "#7fbc41"
            ],
            [
             0.9,
             "#4d9221"
            ],
            [
             1,
             "#276419"
            ]
           ],
           "sequential": [
            [
             0,
             "#0d0887"
            ],
            [
             0.1111111111111111,
             "#46039f"
            ],
            [
             0.2222222222222222,
             "#7201a8"
            ],
            [
             0.3333333333333333,
             "#9c179e"
            ],
            [
             0.4444444444444444,
             "#bd3786"
            ],
            [
             0.5555555555555556,
             "#d8576b"
            ],
            [
             0.6666666666666666,
             "#ed7953"
            ],
            [
             0.7777777777777778,
             "#fb9f3a"
            ],
            [
             0.8888888888888888,
             "#fdca26"
            ],
            [
             1,
             "#f0f921"
            ]
           ],
           "sequentialminus": [
            [
             0,
             "#0d0887"
            ],
            [
             0.1111111111111111,
             "#46039f"
            ],
            [
             0.2222222222222222,
             "#7201a8"
            ],
            [
             0.3333333333333333,
             "#9c179e"
            ],
            [
             0.4444444444444444,
             "#bd3786"
            ],
            [
             0.5555555555555556,
             "#d8576b"
            ],
            [
             0.6666666666666666,
             "#ed7953"
            ],
            [
             0.7777777777777778,
             "#fb9f3a"
            ],
            [
             0.8888888888888888,
             "#fdca26"
            ],
            [
             1,
             "#f0f921"
            ]
           ]
          },
          "colorway": [
           "#636efa",
           "#EF553B",
           "#00cc96",
           "#ab63fa",
           "#FFA15A",
           "#19d3f3",
           "#FF6692",
           "#B6E880",
           "#FF97FF",
           "#FECB52"
          ],
          "font": {
           "color": "#2a3f5f"
          },
          "geo": {
           "bgcolor": "white",
           "lakecolor": "white",
           "landcolor": "#E5ECF6",
           "showlakes": true,
           "showland": true,
           "subunitcolor": "white"
          },
          "hoverlabel": {
           "align": "left"
          },
          "hovermode": "closest",
          "mapbox": {
           "style": "light"
          },
          "paper_bgcolor": "white",
          "plot_bgcolor": "#E5ECF6",
          "polar": {
           "angularaxis": {
            "gridcolor": "white",
            "linecolor": "white",
            "ticks": ""
           },
           "bgcolor": "#E5ECF6",
           "radialaxis": {
            "gridcolor": "white",
            "linecolor": "white",
            "ticks": ""
           }
          },
          "scene": {
           "xaxis": {
            "backgroundcolor": "#E5ECF6",
            "gridcolor": "white",
            "gridwidth": 2,
            "linecolor": "white",
            "showbackground": true,
            "ticks": "",
            "zerolinecolor": "white"
           },
           "yaxis": {
            "backgroundcolor": "#E5ECF6",
            "gridcolor": "white",
            "gridwidth": 2,
            "linecolor": "white",
            "showbackground": true,
            "ticks": "",
            "zerolinecolor": "white"
           },
           "zaxis": {
            "backgroundcolor": "#E5ECF6",
            "gridcolor": "white",
            "gridwidth": 2,
            "linecolor": "white",
            "showbackground": true,
            "ticks": "",
            "zerolinecolor": "white"
           }
          },
          "shapedefaults": {
           "line": {
            "color": "#2a3f5f"
           }
          },
          "ternary": {
           "aaxis": {
            "gridcolor": "white",
            "linecolor": "white",
            "ticks": ""
           },
           "baxis": {
            "gridcolor": "white",
            "linecolor": "white",
            "ticks": ""
           },
           "bgcolor": "#E5ECF6",
           "caxis": {
            "gridcolor": "white",
            "linecolor": "white",
            "ticks": ""
           }
          },
          "title": {
           "x": 0.05
          },
          "xaxis": {
           "automargin": true,
           "gridcolor": "white",
           "linecolor": "white",
           "ticks": "",
           "title": {
            "standoff": 15
           },
           "zerolinecolor": "white",
           "zerolinewidth": 2
          },
          "yaxis": {
           "automargin": true,
           "gridcolor": "white",
           "linecolor": "white",
           "ticks": "",
           "title": {
            "standoff": 15
           },
           "zerolinecolor": "white",
           "zerolinewidth": 2
          }
         }
        },
        "title": {
         "text": "Evolução do Consumo Energético e Emissões por Região"
        },
        "xaxis": {
         "anchor": "y",
         "autorange": true,
         "domain": [
          0,
          1
         ],
         "range": [
          2000,
          2022
         ],
         "title": {
          "text": "Ano"
         },
         "type": "linear"
        },
        "yaxis": {
         "anchor": "x",
         "autorange": true,
         "domain": [
          0,
          1
         ],
         "range": [
          0,
          12469398.122650605
         ],
         "title": {
          "text": "Emissões de CO2 e Consumo Total"
         },
         "type": "linear"
        }
       }
      },
      "image/png": "[encoded data removed]",
      "text/html": [
       "<div>                            <div id=\"9f1161e5-5072-472c-bcc8-cfbde254dbe9\" class=\"plotly-graph-div\" style=\"height:525px; width:100%;\"></div>            <script type=\"text/javascript\">                require([\"plotly\"], function(Plotly) {                    window.PLOTLYENV=window.PLOTLYENV || {};                                    if (document.getElementById(\"9f1161e5-5072-472c-bcc8-cfbde254dbe9\")) {                    Plotly.newPlot(                        \"9f1161e5-5072-472c-bcc8-cfbde254dbe9\",                        [{\"fillpattern\":{\"shape\":\"\"},\"hovertemplate\":\"Continente=Am\\u00e9rica do Norte\\u003cbr\\u003evariable=Emiss\\u00f5es_CO2 (toneladas)\\u003cbr\\u003eAno=%{x}\\u003cbr\\u003evalue=%{y}\\u003cextra\\u003e\\u003c\\u002fextra\\u003e\",\"legendgroup\":\"Am\\u00e9rica do Norte\",\"line\":{\"color\":\"#636efa\"},\"marker\":{\"symbol\":\"circle\"},\"mode\":\"lines\",\"name\":\"Am\\u00e9rica do Norte\",\"orientation\":\"v\",\"showlegend\":true,\"stackgroup\":\"1\",\"x\":[2000,2001,2002,2003,2004,2005,2006,2007,2008,2009,2010,2011,2012,2013,2014,2015,2016,2017,2018,2019,2020,2021,2022],\"xaxis\":\"x\",\"y\":[1474636.3787701845,2186439.375625268,2553643.959205827,910823.8547363281,1953556.6642913404,1269392.4916141133,1731840.7089565918,1144124.8982542532,993327.4624862933,1128248.811080879,1300574.4307428345,1911932.187220173,1658012.0443701472,854357.5930176801,1495701.5695109295,1141551.6792886378,1828109.4220061637,1009698.9479388711,1487834.046461945,1850227.7131310904,2101591.642868916,2561801.587762538,1036636.3729096142],\"yaxis\":\"y\",\"type\":\"scatter\"},{\"fillpattern\":{\"shape\":\"\"},\"hovertemplate\":\"Continente=Am\\u00e9rica do Norte\\u003cbr\\u003evariable=Consumo_Total (MWh)\\u003cbr\\u003eAno=%{x}\\u003cbr\\u003evalue=%{y}\\u003cextra\\u003e\\u003c\\u002fextra\\u003e\",\"legendgroup\":\"Am\\u00e9rica do Norte\",\"line\":{\"color\":\"#636efa\"},\"marker\":{\"symbol\":\"circle\"},\"mode\":\"lines\",\"name\":\"Am\\u00e9rica do Norte\",\"orientation\":\"v\",\"showlegend\":false,\"stackgroup\":\"1\",\"x\":[2000,2001,2002,2003,2004,2005,2006,2007,2008,2009,2010,2011,2012,2013,2014,2015,2016,2017,2018,2019,2020,2021,2022],\"xaxis\":\"x\",\"y\":[194776.24821315607,337411.744550872,391771.327070499,135395.72319742446,229216.6964204008,215209.23799121391,292865.1749586877,168013.0812043546,155721.5223211157,184761.75533309736,156699.86233547633,243231.8547449337,183716.05833783752,121863.49699254899,182219.14974967527,191731.744680851,220898.7654537069,123465.61262586854,229078.8953140266,280325.45621552016,300693.0912983979,340971.2726811397,164609.04679805855],\"yaxis\":\"y\",\"type\":\"scatter\"},{\"fillpattern\":{\"shape\":\"\"},\"hovertemplate\":\"Continente=Am\\u00e9rica do Sul\\u003cbr\\u003evariable=Emiss\\u00f5es_CO2 (toneladas)\\u003cbr\\u003eAno=%{x}\\u003cbr\\u003evalue=%{y}\\u003cextra\\u003e\\u003c\\u002fextra\\u003e\",\"legendgroup\":\"Am\\u00e9rica do Sul\",\"line\":{\"color\":\"#EF553B\"},\"marker\":{\"symbol\":\"circle\"},\"mode\":\"lines\",\"name\":\"Am\\u00e9rica do Sul\",\"orientation\":\"v\",\"showlegend\":true,\"stackgroup\":\"1\",\"x\":[2000,2001,2002,2003,2004,2005,2006,2007,2008,2009,2010,2011,2012,2013,2014,2015,2016,2017,2018,2019,2020,2021,2022],\"xaxis\":\"x\",\"y\":[1467469.4676536247,1760928.3234274033,864754.2089782401,1157288.4738356813,782669.7615013274,2223295.6461676536,2178451.1246870803,1176677.0163208193,1275498.5322056334,2372964.0224875314,1764688.0711066432,680033.7126618795,888766.3632411049,1162913.285374646,2100941.2307164227,1332068.4962827421,909641.5392353595,1440374.4037104696,749794.611057301,1927880.315989891,1218794.6443726989,1462054.2202452684,1504839.106407883],\"yaxis\":\"y\",\"type\":\"scatter\"},{\"fillpattern\":{\"shape\":\"\"},\"hovertemplate\":\"Continente=Am\\u00e9rica do Sul\\u003cbr\\u003evariable=Consumo_Total (MWh)\\u003cbr\\u003eAno=%{x}\\u003cbr\\u003evalue=%{y}\\u003cextra\\u003e\\u003c\\u002fextra\\u003e\",\"legendgroup\":\"Am\\u00e9rica do Sul\",\"line\":{\"color\":\"#EF553B\"},\"marker\":{\"symbol\":\"circle\"},\"mode\":\"lines\",\"name\":\"Am\\u00e9rica do Sul\",\"orientation\":\"v\",\"showlegend\":false,\"stackgroup\":\"1\",\"x\":[2000,2001,2002,2003,2004,2005,2006,2007,2008,2009,2010,2011,2012,2013,2014,2015,2016,2017,2018,2019,2020,2021,2022],\"xaxis\":\"x\",\"y\":[272892.1612344109,274564.1316083146,145058.5367680758,194052.27178773706,154942.55817770332,365907.8318019211,347795.9688409137,204441.8030921528,215816.66993829855,337673.04277634213,275155.49713133543,124610.03209784982,189315.37357485743,190129.4725014072,306787.08995866135,194754.77592805465,195684.77748803826,183525.47005182132,122537.3894160436,341477.2441475467,169819.76173733658,261165.40313200274,172621.46067027308],\"yaxis\":\"y\",\"type\":\"scatter\"},{\"fillpattern\":{\"shape\":\"\"},\"hovertemplate\":\"Continente=Europa\\u003cbr\\u003evariable=Emiss\\u00f5es_CO2 (toneladas)\\u003cbr\\u003eAno=%{x}\\u003cbr\\u003evalue=%{y}\\u003cextra\\u003e\\u003c\\u002fextra\\u003e\",\"legendgroup\":\"Europa\",\"line\":{\"color\":\"#00cc96\"},\"marker\":{\"symbol\":\"circle\"},\"mode\":\"lines\",\"name\":\"Europa\",\"orientation\":\"v\",\"showlegend\":true,\"stackgroup\":\"1\",\"x\":[2000,2001,2002,2003,2004,2005,2006,2007,2008,2009,2010,2011,2012,2013,2014,2015,2016,2017,2018,2019,2020,2021,2022],\"xaxis\":\"x\",\"y\":[1001317.6903070766,1836087.075210214,1233312.7895708045,1036589.8920244179,1036642.220196601,922486.235493619,1233532.3622065613,1036704.7302943168,1850046.7429656468,1373617.593374414,1261499.9700615515,1574324.4822849077,1147882.8837282155,1316600.4893307595,1247173.6431410986,1157655.4864365389,1049267.1118452004,1202004.2788221694,2185743.133218641,1253628.7620482314,2049212.203542184,1980881.0743827138,1231588.513443756],\"yaxis\":\"y\",\"type\":\"scatter\"},{\"fillpattern\":{\"shape\":\"\"},\"hovertemplate\":\"Continente=Europa\\u003cbr\\u003evariable=Consumo_Total (MWh)\\u003cbr\\u003eAno=%{x}\\u003cbr\\u003evalue=%{y}\\u003cextra\\u003e\\u003c\\u002fextra\\u003e\",\"legendgroup\":\"Europa\",\"line\":{\"color\":\"#00cc96\"},\"marker\":{\"symbol\":\"circle\"},\"mode\":\"lines\",\"name\":\"Europa\",\"orientation\":\"v\",\"showlegend\":false,\"stackgroup\":\"1\",\"x\":[2000,2001,2002,2003,2004,2005,2006,2007,2008,2009,2010,2011,2012,2013,2014,2015,2016,2017,2018,2019,2020,2021,2022],\"xaxis\":\"x\",\"y\":[113781.74848577917,304539.5791398194,150187.23926051302,273075.3107548763,196106.35494522934,158015.10090985938,240012.16289721464,147692.2693382779,298416.82549276156,174748.2220465642,211507.80194530322,208190.86998579497,152226.1126832812,236208.96095456672,139684.35857488107,184833.12388401118,185272.9226414503,211051.18886409418,379820.9142929422,196598.0302196879,398928.32434003905,286543.92512032425,226616.415753814],\"yaxis\":\"y\",\"type\":\"scatter\"},{\"fillpattern\":{\"shape\":\"\"},\"hovertemplate\":\"Continente=Oceania\\u003cbr\\u003evariable=Emiss\\u00f5es_CO2 (toneladas)\\u003cbr\\u003eAno=%{x}\\u003cbr\\u003evalue=%{y}\\u003cextra\\u003e\\u003c\\u002fextra\\u003e\",\"legendgroup\":\"Oceania\",\"line\":{\"color\":\"#ab63fa\"},\"marker\":{\"symbol\":\"circle\"},\"mode\":\"lines\",\"name\":\"Oceania\",\"orientation\":\"v\",\"showlegend\":true,\"stackgroup\":\"1\",\"x\":[2000,2001,2002,2003,2004,2005,2006,2007,2008,2009,2010,2011,2012,2013,2014,2015,2016,2017,2018,2019,2020,2021,2022],\"xaxis\":\"x\",\"y\":[1923709.0908708062,677145.8273092372,1585234.8396193208,1194538.4661450067,1626859.7110115984,2567002.8609985183,1400165.5050465849,1845398.6426751518,952625.7034037539,1600203.896301631,1521994.6943087676,1592237.9447345121,1030291.619655505,2183067.446063025,1197762.8175252227,1493809.544490423,1347706.0498775984,1189057.7827981748,1852950.7526948005,2041125.980125202,1755376.165747321,984612.1406991623,1016304.4412275343],\"yaxis\":\"y\",\"type\":\"scatter\"},{\"fillpattern\":{\"shape\":\"\"},\"hovertemplate\":\"Continente=Oceania\\u003cbr\\u003evariable=Consumo_Total (MWh)\\u003cbr\\u003eAno=%{x}\\u003cbr\\u003evalue=%{y}\\u003cextra\\u003e\\u003c\\u002fextra\\u003e\",\"legendgroup\":\"Oceania\",\"line\":{\"color\":\"#ab63fa\"},\"marker\":{\"symbol\":\"circle\"},\"mode\":\"lines\",\"name\":\"Oceania\",\"orientation\":\"v\",\"showlegend\":false,\"stackgroup\":\"1\",\"x\":[2000,2001,2002,2003,2004,2005,2006,2007,2008,2009,2010,2011,2012,2013,2014,2015,2016,2017,2018,2019,2020,2021,2022],\"xaxis\":\"x\",\"y\":[291991.1379157113,138891.8543872108,182417.99129133348,151365.5555243417,218073.06694632306,338460.67873935495,149749.33638721769,235385.80233058226,193911.4857521055,223062.25072445962,233860.97408300254,233738.5278994777,124135.47506383085,266866.3848928127,206761.13060726973,180743.74341291457,239458.83923777606,250779.20827610246,318624.4399938113,409630.02430785936,257938.29977990928,212213.24568674044,183430.4635622677],\"yaxis\":\"y\",\"type\":\"scatter\"},{\"fillpattern\":{\"shape\":\"\"},\"hovertemplate\":\"Continente=\\u00c1frica\\u003cbr\\u003evariable=Emiss\\u00f5es_CO2 (toneladas)\\u003cbr\\u003eAno=%{x}\\u003cbr\\u003evalue=%{y}\\u003cextra\\u003e\\u003c\\u002fextra\\u003e\",\"legendgroup\":\"\\u00c1frica\",\"line\":{\"color\":\"#FFA15A\"},\"marker\":{\"symbol\":\"circle\"},\"mode\":\"lines\",\"name\":\"\\u00c1frica\",\"orientation\":\"v\",\"showlegend\":true,\"stackgroup\":\"1\",\"x\":[2000,2001,2002,2003,2004,2005,2006,2007,2008,2009,2010,2011,2012,2013,2014,2015,2016,2017,2018,2019,2020,2021,2022],\"xaxis\":\"x\",\"y\":[1342009.8126665927,1862517.0819358297,1156586.3874685725,1218757.558270728,1791783.6988587454,1013783.0658546867,1738716.3813957619,1056015.770084516,859567.8293256722,1657649.9123304258,2078353.0793986924,1492784.9691874918,1558281.6091384853,1813276.844457597,1369583.6302389225,1747912.2917939557,1533909.6915648808,1194899.7013786207,1322370.4185382777,1529153.9903102482,1428994.9565031864,1133234.5932696604,1402300.8658448097],\"yaxis\":\"y\",\"type\":\"scatter\"},{\"fillpattern\":{\"shape\":\"\"},\"hovertemplate\":\"Continente=\\u00c1frica\\u003cbr\\u003evariable=Consumo_Total (MWh)\\u003cbr\\u003eAno=%{x}\\u003cbr\\u003evalue=%{y}\\u003cextra\\u003e\\u003c\\u002fextra\\u003e\",\"legendgroup\":\"\\u00c1frica\",\"line\":{\"color\":\"#FFA15A\"},\"marker\":{\"symbol\":\"circle\"},\"mode\":\"lines\",\"name\":\"\\u00c1frica\",\"orientation\":\"v\",\"showlegend\":false,\"stackgroup\":\"1\",\"x\":[2000,2001,2002,2003,2004,2005,2006,2007,2008,2009,2010,2011,2012,2013,2014,2015,2016,2017,2018,2019,2020,2021,2022],\"xaxis\":\"x\",\"y\":[274444.4236500358,252859.71510768172,149678.1376083251,259131.1231229063,208361.34629198883,199154.37335152848,256102.1561205145,222094.3675645956,111010.92578737249,252635.42314943,261968.55486457344,204907.32026576958,191353.39252096438,182517.86455027538,157285.09607819276,225482.54284717044,249100.70201135176,125568.30820051853,199580.83213261352,170738.54575277024,187157.16433148505,210666.98399917508,175311.16970436004],\"yaxis\":\"y\",\"type\":\"scatter\"},{\"fillpattern\":{\"shape\":\"\"},\"hovertemplate\":\"Continente=\\u00c1sia\\u003cbr\\u003evariable=Emiss\\u00f5es_CO2 (toneladas)\\u003cbr\\u003eAno=%{x}\\u003cbr\\u003evalue=%{y}\\u003cextra\\u003e\\u003c\\u002fextra\\u003e\",\"legendgroup\":\"\\u00c1sia\",\"line\":{\"color\":\"#19d3f3\"},\"marker\":{\"symbol\":\"circle\"},\"mode\":\"lines\",\"name\":\"\\u00c1sia\",\"orientation\":\"v\",\"showlegend\":true,\"stackgroup\":\"1\",\"x\":[2000,2001,2002,2003,2004,2005,2006,2007,2008,2009,2010,2011,2012,2013,2014,2015,2016,2017,2018,2019,2020,2021,2022],\"xaxis\":\"x\",\"y\":[1487351.5703305842,1807824.6336966837,1680985.5638341573,1394900.208440911,1684604.2635999578,2272047.059578021,1508506.1449284975,1261149.933089184,887453.1806538928,1499275.7745179133,1041187.5368184337,860611.0105406629,1405668.2318971315,944964.1855295245,1345676.9161626,1775184.7108031888,1478954.9572192908,1285499.0037735226,1410556.1489025485,887091.1721947764,1501739.3149362972,1197657.217497593,2076023.5481945914],\"yaxis\":\"y\",\"type\":\"scatter\"},{\"fillpattern\":{\"shape\":\"\"},\"hovertemplate\":\"Continente=\\u00c1sia\\u003cbr\\u003evariable=Consumo_Total (MWh)\\u003cbr\\u003eAno=%{x}\\u003cbr\\u003evalue=%{y}\\u003cextra\\u003e\\u003c\\u002fextra\\u003e\",\"legendgroup\":\"\\u00c1sia\",\"line\":{\"color\":\"#19d3f3\"},\"marker\":{\"symbol\":\"circle\"},\"mode\":\"lines\",\"name\":\"\\u00c1sia\",\"orientation\":\"v\",\"showlegend\":false,\"stackgroup\":\"1\",\"x\":[2000,2001,2002,2003,2004,2005,2006,2007,2008,2009,2010,2011,2012,2013,2014,2015,2016,2017,2018,2019,2020,2021,2022],\"xaxis\":\"x\",\"y\":[249100.5779763102,216372.14079029154,247960.33728811887,237368.32348575193,197447.67862610618,301173.6340175829,209263.60701477632,160459.28277004714,102839.50442144365,255454.1716006471,143083.83715894795,151999.88228340438,213389.4937969989,206508.59096104375,209545.78644261774,285107.95286679233,204275.02139461046,207639.92327505042,183877.24002233852,83692.72274321353,155066.25105943013,185826.60629253343,303969.00308708235],\"yaxis\":\"y\",\"type\":\"scatter\"}],                        {\"template\":{\"data\":{\"histogram2dcontour\":[{\"type\":\"histogram2dcontour\",\"colorbar\":{\"outlinewidth\":0,\"ticks\":\"\"},\"colorscale\":[[0.0,\"#0d0887\"],[0.1111111111111111,\"#46039f\"],[0.2222222222222222,\"#7201a8\"],[0.3333333333333333,\"#9c179e\"],[0.4444444444444444,\"#bd3786\"],[0.5555555555555556,\"#d8576b\"],[0.6666666666666666,\"#ed7953\"],[0.7777777777777778,\"#fb9f3a\"],[0.8888888888888888,\"#fdca26\"],[1.0,\"#f0f921\"]]}],\"choropleth\":[{\"type\":\"choropleth\",\"colorbar\":{\"outlinewidth\":0,\"ticks\":\"\"}}],\"histogram2d\":[{\"type\":\"histogram2d\",\"colorbar\":{\"outlinewidth\":0,\"ticks\":\"\"},\"colorscale\":[[0.0,\"#0d0887\"],[0.1111111111111111,\"#46039f\"],[0.2222222222222222,\"#7201a8\"],[0.3333333333333333,\"#9c179e\"],[0.4444444444444444,\"#bd3786\"],[0.5555555555555556,\"#d8576b\"],[0.6666666666666666,\"#ed7953\"],[0.7777777777777778,\"#fb9f3a\"],[0.8888888888888888,\"#fdca26\"],[1.0,\"#f0f921\"]]}],\"heatmap\":[{\"type\":\"heatmap\",\"colorbar\":{\"outlinewidth\":0,\"ticks\":\"\"},\"colorscale\":[[0.0,\"#0d0887\"],[0.1111111111111111,\"#46039f\"],[0.2222222222222222,\"#7201a8\"],[0.3333333333333333,\"#9c179e\"],[0.4444444444444444,\"#bd3786\"],[0.5555555555555556,\"#d8576b\"],[0.6666666666666666,\"#ed7953\"],[0.7777777777777778,\"#fb9f3a\"],[0.8888888888888888,\"#fdca26\"],[1.0,\"#f0f921\"]]}],\"heatmapgl\":[{\"type\":\"heatmapgl\",\"colorbar\":{\"outlinewidth\":0,\"ticks\":\"\"},\"colorscale\":[[0.0,\"#0d0887\"],[0.1111111111111111,\"#46039f\"],[0.2222222222222222,\"#7201a8\"],[0.3333333333333333,\"#9c179e\"],[0.4444444444444444,\"#bd3786\"],[0.5555555555555556,\"#d8576b\"],[0.6666666666666666,\"#ed7953\"],[0.7777777777777778,\"#fb9f3a\"],[0.8888888888888888,\"#fdca26\"],[1.0,\"#f0f921\"]]}],\"contourcarpet\":[{\"type\":\"contourcarpet\",\"colorbar\":{\"outlinewidth\":0,\"ticks\":\"\"}}],\"contour\":[{\"type\":\"contour\",\"colorbar\":{\"outlinewidth\":0,\"ticks\":\"\"},\"colorscale\":[[0.0,\"#0d0887\"],[0.1111111111111111,\"#46039f\"],[0.2222222222222222,\"#7201a8\"],[0.3333333333333333,\"#9c179e\"],[0.4444444444444444,\"#bd3786\"],[0.5555555555555556,\"#d8576b\"],[0.6666666666666666,\"#ed7953\"],[0.7777777777777778,\"#fb9f3a\"],[0.8888888888888888,\"#fdca26\"],[1.0,\"#f0f921\"]]}],\"surface\":[{\"type\":\"surface\",\"colorbar\":{\"outlinewidth\":0,\"ticks\":\"\"},\"colorscale\":[[0.0,\"#0d0887\"],[0.1111111111111111,\"#46039f\"],[0.2222222222222222,\"#7201a8\"],[0.3333333333333333,\"#9c179e\"],[0.4444444444444444,\"#bd3786\"],[0.5555555555555556,\"#d8576b\"],[0.6666666666666666,\"#ed7953\"],[0.7777777777777778,\"#fb9f3a\"],[0.8888888888888888,\"#fdca26\"],[1.0,\"#f0f921\"]]}],\"mesh3d\":[{\"type\":\"mesh3d\",\"colorbar\":{\"outlinewidth\":0,\"ticks\":\"\"}}],\"scatter\":[{\"fillpattern\":{\"fillmode\":\"overlay\",\"size\":10,\"solidity\":0.2},\"type\":\"scatter\"}],\"parcoords\":[{\"type\":\"parcoords\",\"line\":{\"colorbar\":{\"outlinewidth\":0,\"ticks\":\"\"}}}],\"scatterpolargl\":[{\"type\":\"scatterpolargl\",\"marker\":{\"colorbar\":{\"outlinewidth\":0,\"ticks\":\"\"}}}],\"bar\":[{\"error_x\":{\"color\":\"#2a3f5f\"},\"error_y\":{\"color\":\"#2a3f5f\"},\"marker\":{\"line\":{\"color\":\"#E5ECF6\",\"width\":0.5},\"pattern\":{\"fillmode\":\"overlay\",\"size\":10,\"solidity\":0.2}},\"type\":\"bar\"}],\"scattergeo\":[{\"type\":\"scattergeo\",\"marker\":{\"colorbar\":{\"outlinewidth\":0,\"ticks\":\"\"}}}],\"scatterpolar\":[{\"type\":\"scatterpolar\",\"marker\":{\"colorbar\":{\"outlinewidth\":0,\"ticks\":\"\"}}}],\"histogram\":[{\"marker\":{\"pattern\":{\"fillmode\":\"overlay\",\"size\":10,\"solidity\":0.2}},\"type\":\"histogram\"}],\"scattergl\":[{\"type\":\"scattergl\",\"marker\":{\"colorbar\":{\"outlinewidth\":0,\"ticks\":\"\"}}}],\"scatter3d\":[{\"type\":\"scatter3d\",\"line\":{\"colorbar\":{\"outlinewidth\":0,\"ticks\":\"\"}},\"marker\":{\"colorbar\":{\"outlinewidth\":0,\"ticks\":\"\"}}}],\"scattermapbox\":[{\"type\":\"scattermapbox\",\"marker\":{\"colorbar\":{\"outlinewidth\":0,\"ticks\":\"\"}}}],\"scatterternary\":[{\"type\":\"scatterternary\",\"marker\":{\"colorbar\":{\"outlinewidth\":0,\"ticks\":\"\"}}}],\"scattercarpet\":[{\"type\":\"scattercarpet\",\"marker\":{\"colorbar\":{\"outlinewidth\":0,\"ticks\":\"\"}}}],\"carpet\":[{\"aaxis\":{\"endlinecolor\":\"#2a3f5f\",\"gridcolor\":\"white\",\"linecolor\":\"white\",\"minorgridcolor\":\"white\",\"startlinecolor\":\"#2a3f5f\"},\"baxis\":{\"endlinecolor\":\"#2a3f5f\",\"gridcolor\":\"white\",\"linecolor\":\"white\",\"minorgridcolor\":\"white\",\"startlinecolor\":\"#2a3f5f\"},\"type\":\"carpet\"}],\"table\":[{\"cells\":{\"fill\":{\"color\":\"#EBF0F8\"},\"line\":{\"color\":\"white\"}},\"header\":{\"fill\":{\"color\":\"#C8D4E3\"},\"line\":{\"color\":\"white\"}},\"type\":\"table\"}],\"barpolar\":[{\"marker\":{\"line\":{\"color\":\"#E5ECF6\",\"width\":0.5},\"pattern\":{\"fillmode\":\"overlay\",\"size\":10,\"solidity\":0.2}},\"type\":\"barpolar\"}],\"pie\":[{\"automargin\":true,\"type\":\"pie\"}]},\"layout\":{\"autotypenumbers\":\"strict\",\"colorway\":[\"#636efa\",\"#EF553B\",\"#00cc96\",\"#ab63fa\",\"#FFA15A\",\"#19d3f3\",\"#FF6692\",\"#B6E880\",\"#FF97FF\",\"#FECB52\"],\"font\":{\"color\":\"#2a3f5f\"},\"hovermode\":\"closest\",\"hoverlabel\":{\"align\":\"left\"},\"paper_bgcolor\":\"white\",\"plot_bgcolor\":\"#E5ECF6\",\"polar\":{\"bgcolor\":\"#E5ECF6\",\"angularaxis\":{\"gridcolor\":\"white\",\"linecolor\":\"white\",\"ticks\":\"\"},\"radialaxis\":{\"gridcolor\":\"white\",\"linecolor\":\"white\",\"ticks\":\"\"}},\"ternary\":{\"bgcolor\":\"#E5ECF6\",\"aaxis\":{\"gridcolor\":\"white\",\"linecolor\":\"white\",\"ticks\":\"\"},\"baxis\":{\"gridcolor\":\"white\",\"linecolor\":\"white\",\"ticks\":\"\"},\"caxis\":{\"gridcolor\":\"white\",\"linecolor\":\"white\",\"ticks\":\"\"}},\"coloraxis\":{\"colorbar\":{\"outlinewidth\":0,\"ticks\":\"\"}},\"colorscale\":{\"sequential\":[[0.0,\"#0d0887\"],[0.1111111111111111,\"#46039f\"],[0.2222222222222222,\"#7201a8\"],[0.3333333333333333,\"#9c179e\"],[0.4444444444444444,\"#bd3786\"],[0.5555555555555556,\"#d8576b\"],[0.6666666666666666,\"#ed7953\"],[0.7777777777777778,\"#fb9f3a\"],[0.8888888888888888,\"#fdca26\"],[1.0,\"#f0f921\"]],\"sequentialminus\":[[0.0,\"#0d0887\"],[0.1111111111111111,\"#46039f\"],[0.2222222222222222,\"#7201a8\"],[0.3333333333333333,\"#9c179e\"],[0.4444444444444444,\"#bd3786\"],[0.5555555555555556,\"#d8576b\"],[0.6666666666666666,\"#ed7953\"],[0.7777777777777778,\"#fb9f3a\"],[0.8888888888888888,\"#fdca26\"],[1.0,\"#f0f921\"]],\"diverging\":[[0,\"#8e0152\"],[0.1,\"#c51b7d\"],[0.2,\"#de77ae\"],[0.3,\"#f1b6da\"],[0.4,\"#fde0ef\"],[0.5,\"#f7f7f7\"],[0.6,\"#e6f5d0\"],[0.7,\"#b8e186\"],[0.8,\"#7fbc41\"],[0.9,\"#4d9221\"],[1,\"#276419\"]]},\"xaxis\":{\"gridcolor\":\"white\",\"linecolor\":\"white\",\"ticks\":\"\",\"title\":{\"standoff\":15},\"zerolinecolor\":\"white\",\"automargin\":true,\"zerolinewidth\":2},\"yaxis\":{\"gridcolor\":\"white\",\"linecolor\":\"white\",\"ticks\":\"\",\"title\":{\"standoff\":15},\"zerolinecolor\":\"white\",\"automargin\":true,\"zerolinewidth\":2},\"scene\":{\"xaxis\":{\"backgroundcolor\":\"#E5ECF6\",\"gridcolor\":\"white\",\"linecolor\":\"white\",\"showbackground\":true,\"ticks\":\"\",\"zerolinecolor\":\"white\",\"gridwidth\":2},\"yaxis\":{\"backgroundcolor\":\"#E5ECF6\",\"gridcolor\":\"white\",\"linecolor\":\"white\",\"showbackground\":true,\"ticks\":\"\",\"zerolinecolor\":\"white\",\"gridwidth\":2},\"zaxis\":{\"backgroundcolor\":\"#E5ECF6\",\"gridcolor\":\"white\",\"linecolor\":\"white\",\"showbackground\":true,\"ticks\":\"\",\"zerolinecolor\":\"white\",\"gridwidth\":2}},\"shapedefaults\":{\"line\":{\"color\":\"#2a3f5f\"}},\"annotationdefaults\":{\"arrowcolor\":\"#2a3f5f\",\"arrowhead\":0,\"arrowwidth\":1},\"geo\":{\"bgcolor\":\"white\",\"landcolor\":\"#E5ECF6\",\"subunitcolor\":\"white\",\"showland\":true,\"showlakes\":true,\"lakecolor\":\"white\"},\"title\":{\"x\":0.05},\"mapbox\":{\"style\":\"light\"}}},\"xaxis\":{\"anchor\":\"y\",\"domain\":[0.0,1.0],\"title\":{\"text\":\"Ano\"}},\"yaxis\":{\"anchor\":\"x\",\"domain\":[0.0,1.0],\"title\":{\"text\":\"Emiss\\u00f5es de CO2 e Consumo Total\"}},\"legend\":{\"title\":{\"text\":\"Continente\"},\"tracegroupgap\":0},\"title\":{\"text\":\"Evolu\\u00e7\\u00e3o do Consumo Energ\\u00e9tico e Emiss\\u00f5es por Regi\\u00e3o\"}},                        {\"responsive\": true}                    ).then(function(){\n",
       "                            \n",
       "var gd = document.getElementById('9f1161e5-5072-472c-bcc8-cfbde254dbe9');\n",
       "var x = new MutationObserver(function (mutations, observer) {{\n",
       "        var display = window.getComputedStyle(gd).display;\n",
       "        if (!display || display === 'none') {{\n",
       "            console.log([gd, 'removed!']);\n",
       "            Plotly.purge(gd);\n",
       "            observer.disconnect();\n",
       "        }}\n",
       "}});\n",
       "\n",
       "// Listen for the removal of the full notebook cells\n",
       "var notebookContainer = gd.closest('#notebook-container');\n",
       "if (notebookContainer) {{\n",
       "    x.observe(notebookContainer, {childList: true});\n",
       "}}\n",
       "\n",
       "// Listen for the clearing of the current output cell\n",
       "var outputEl = gd.closest('.output');\n",
       "if (outputEl) {{\n",
       "    x.observe(outputEl, {childList: true});\n",
       "}}\n",
       "\n",
       "                        })                };                });            </script>        </div>"
      ]
     },
     "metadata": {},
     "output_type": "display_data"
    }
   ],
   "source": [
    "df[\"Consumo_Total (MWh)\"] = df[\"Consumo_Energia_Renovável (MWh)\"] + df['Consumo_Energia_Fóssil (MWh)']\n",
    "df_agrupado2 = df.groupby([\"Continente\", \"Ano\"]).sum().reset_index()\n",
    "fig_3 = px.line(df_agrupado2, x=\"Ano\", y=[\"Emissões_CO2 (toneladas)\"], color=\"Continente\",\n",
    "              title=\"Evolução do Consumo Energético e Emissões por Região\")\n",
    "\n",
    "fig_3 = px.area(df_agrupado2, x=\"Ano\",\n",
    "               y=[\"Emissões_CO2 (toneladas)\", \"Consumo_Total (MWh)\"],\n",
    "               color=\"Continente\",\n",
    "               title=\"Evolução do Consumo Energético e Emissões por Região\",\n",
    "               labels={\n",
    "               })\n",
    "\n",
    "fig_3.update_layout(\n",
    "    yaxis_title=\"Emissões de CO2 e Consumo Total\",\n",
    ")\n",
    "\n",
    "fig_3.show()"
   ]
  },
  {
   "cell_type": "markdown",
   "id": "c8b78071-31a9-4fef-9eb1-1825fc68c4ed",
   "metadata": {},
   "source": [
    "### Explique como o consumo de energia está relacionado às emissões de CO2, destacando diferenças regionais e setoriais."
   ]
  },
  {
   "cell_type": "markdown",
   "id": "75f2668b-bf47-4e61-8a41-2c13e4de0fe4",
   "metadata": {},
   "source": [
    "#### Sabia que a forma como produzimos Energia e á consumimos está gerando um impacto significativo no meio ambiente? Mas Por qué?\n",
    "#### Uma das principales fontes de Energia que consumimos vem da queima de combustivel fossil(carvão, petróleo e gás natural, a diferenção da queima de papel esta influi mais na emissão de CO2 o qual afeta o meio ambiente de forma direta e significativa, gerando mais aquecimento global, mudanças climáticas e poluição do ar e da água, podendo também afetar nossa saude.\n",
    "\n",
    "#### Como podemos ver nos graficos um dos setores que mais tem Consumido Energia e gerado mais CO2 seria o Comercial(Centros Comerciais, Hotéis e Restaurantes), influindo na geração de CO2 de forma drastica, como támbem podemos visualizar que o Continente de America do Norte tem gerado uma grande cantidades de CO2 no seu setor Residencial neste ultimos anos. Outro dos setores que sobre sai seria o setor Industrial, principal mente no continente Europeo, mas agora devem estar se perguntando, como podemos contibuir para que para que esta Emissão de CO2 disminua em vez de aumentar a cada ano.\n",
    "\n",
    "#### Uma das principais soluções seria optar por ussar mais a Energia Renovavel, pois a diferença da Energia Fossil esta gera pouca ou nenhuma emissão de gas, uma destas seria a Energia Solar, esta tem sido muito usada nos ultimos anos, sendo a principal fonte o sol, outras Energias Renovaveis seriam, Energia Eólica, Energia Hidrica, Energia Geotérmica. O uso deste tipo de Energias e seu desenvolvimento pode ajudar na Emissão de CO2, a pesar que já tem varias empresas tomando iniciativa e atuando em pró de combatir a Emissão de CO2, cada um pode fazer a diferença com sua ação individual, lembrando que um grão de areia por si só não seja muito significativo, mas muitos unidos podem criar uma praia!"
   ]
  }
 ],
 "metadata": {
  "kernelspec": {
   "display_name": "Python 3 (ipykernel)",
   "language": "python",
   "name": "python3"
  },
  "language_info": {
   "codemirror_mode": {
    "name": "ipython",
    "version": 3
   },
   "file_extension": ".py",
   "mimetype": "text/x-python",
   "name": "python",
   "nbconvert_exporter": "python",
   "pygments_lexer": "ipython3",
   "version": "3.12.4"
  }
 },
 "nbformat": 4,
 "nbformat_minor": 5
}
