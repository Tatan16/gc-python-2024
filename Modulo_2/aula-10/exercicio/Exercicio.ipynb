{
 "cells": [
  {
   "cell_type": "markdown",
   "id": "c7c450d9-4931-47e4-899a-4fac98dbe94d",
   "metadata": {},
   "source": [
    "### Discretizar atributos numericos que possui os valores abaixo em 3 intervalos\n",
    "\n",
    "### 0,1,2,6,6,9,10,10,10,13,16,17,18,20,20,21,21,25\n",
    "\n",
    "### Larguras iguais\n",
    "### Frequencias iguais \n",
    "### Inspeçao visual"
   ]
  },
  {
   "cell_type": "code",
   "execution_count": 1,
   "id": "211505a0-00f1-45e8-a76e-7bf1d16a0154",
   "metadata": {},
   "outputs": [
    {
     "data": {
      "text/plain": [
       "(0, 1, 2, 6, 6, 9, 10, 10, 10, 13, 16, 17, 18, 20, 20, 21, 21, 25)"
      ]
     },
     "execution_count": 1,
     "metadata": {},
     "output_type": "execute_result"
    }
   ],
   "source": [
    "0,1,2,6,6,9,10,10,10,13,16,17,18,20,20,21,21,25"
   ]
  },
  {
   "cell_type": "code",
   "execution_count": null,
   "id": "aabe7ff4-9125-4418-9baf-b924a6190e5b",
   "metadata": {},
   "outputs": [],
   "source": []
  }
 ],
 "metadata": {
  "kernelspec": {
   "display_name": "Python 3 (ipykernel)",
   "language": "python",
   "name": "python3"
  },
  "language_info": {
   "codemirror_mode": {
    "name": "ipython",
    "version": 3
   },
   "file_extension": ".py",
   "mimetype": "text/x-python",
   "name": "python",
   "nbconvert_exporter": "python",
   "pygments_lexer": "ipython3",
   "version": "3.12.4"
  }
 },
 "nbformat": 4,
 "nbformat_minor": 5
}
