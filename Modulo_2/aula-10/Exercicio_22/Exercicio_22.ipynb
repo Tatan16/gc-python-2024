{
 "cells": [
  {
   "cell_type": "markdown",
   "id": "5bec5791-464b-4795-b586-58ffd9c0a066",
   "metadata": {},
   "source": [
    "### Normalize o atributo Rendimentos utilizando Re-escala [0,1]."
   ]
  },
  {
   "cell_type": "code",
   "execution_count": null,
   "id": "b50e1b8d-8532-48af-968c-a1645e8f4b68",
   "metadata": {},
   "outputs": [],
   "source": [
    "import pandas as pd\n",
    "df = pd.Dataframe({\n",
    "    \"Idade\":[37, 46, 62, 31, 61, 50, 54, 27, 22, 56], \n",
    "    \"Casado\":[\"SIM\",\"NAO\",\"SIM\",\"SIM\", \"SIM\",\"SIM\", \"NAO\", \"NAO\",\"NAO\",\"SIM\"],\n",
    "    \"Filhos\":[2,0,0,1,3,2,0,0,0,3], \n",
    "    \"Financiamento\":[\"NAO\",\"SIM\",\"NAO\",\"SIM\",\"SIM\",\"NAO\",\"SIM\",\"NAO\",\"NAO\",\"SIM\"], \n",
    "    \"Rendimentos\":[]\n",
    "})"
   ]
  }
 ],
 "metadata": {
  "kernelspec": {
   "display_name": "Python 3 (ipykernel)",
   "language": "python",
   "name": "python3"
  },
  "language_info": {
   "codemirror_mode": {
    "name": "ipython",
    "version": 3
   },
   "file_extension": ".py",
   "mimetype": "text/x-python",
   "name": "python",
   "nbconvert_exporter": "python",
   "pygments_lexer": "ipython3",
   "version": "3.12.4"
  }
 },
 "nbformat": 4,
 "nbformat_minor": 5
}
