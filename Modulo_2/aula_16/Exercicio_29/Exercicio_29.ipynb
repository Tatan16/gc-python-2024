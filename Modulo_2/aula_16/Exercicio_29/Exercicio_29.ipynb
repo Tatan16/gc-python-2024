{
 "cells": [
  {
   "cell_type": "markdown",
   "id": "e0f9bc3f-0a71-498f-9abf-aed2dfd5a507",
   "metadata": {},
   "source": [
    "### Exercício\n",
    "### ✦ Execute o algoritmo k-means para a base de dados abaixo, considerando k=2 para os centroides abaixo descritos. Ao final, informe os centroides resultantes e o SSE de cada grupo."
   ]
  },
  {
   "cell_type": "code",
   "execution_count": 1,
   "id": "e22ed773-d79d-433a-8737-888b12f2657c",
   "metadata": {},
   "outputs": [],
   "source": [
    "import numpy as np\n",
    "import pandas as pd\n",
    "from sklearn.preprocessing import MinMaxScaler\n",
    "from sklearn import datasets\n",
    "import seaborn as sns"
   ]
  },
  {
   "cell_type": "code",
   "execution_count": 2,
   "id": "60107f14-bd88-46f5-9b69-20942a43bddb",
   "metadata": {},
   "outputs": [],
   "source": [
    "from IPython.core.interactiveshell import InteractiveShell\n",
    "InteractiveShell.ast_node_interactive=\"all\""
   ]
  },
  {
   "cell_type": "code",
   "execution_count": null,
   "id": "68a745da-26cc-439d-891d-bd155022f38c",
   "metadata": {},
   "outputs": [],
   "source": [
    "df = pd.DataFrame({\n",
    "    \"X\":[1,1,2,3,3,4],\n",
    "})"
   ]
  }
 ],
 "metadata": {
  "kernelspec": {
   "display_name": "Python 3 (ipykernel)",
   "language": "python",
   "name": "python3"
  },
  "language_info": {
   "codemirror_mode": {
    "name": "ipython",
    "version": 3
   },
   "file_extension": ".py",
   "mimetype": "text/x-python",
   "name": "python",
   "nbconvert_exporter": "python",
   "pygments_lexer": "ipython3",
   "version": "3.12.4"
  }
 },
 "nbformat": 4,
 "nbformat_minor": 5
}
