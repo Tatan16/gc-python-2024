{
 "cells": [
  {
   "cell_type": "markdown",
   "id": "d8dd1110-6bac-4579-a726-0a740d021674",
   "metadata": {},
   "source": [
    "## Exercício 21\n",
    "## Análise dos dados da COVID-19\n",
    "### Perguntas\n",
    "### • Como foi a evolução mundial da COVID-19?\n",
    "### • Quais são os 5 países com mais casos e mortes acumulados?\n",
    "### • Quais são os 5 países mais avançados em relação à vacinação da população?\n",
    "### • Como está a evolução de casos e mortes no Brasil em comparação com o mundo?\n",
    "### • Quais são os 5 estados brasileiros com mais casos e mortes acumuladas?\n",
    "\n",
    "## Exploração de diferentes tipos de gráficos:\n",
    "### • Justifique a utilização de cada gráfico. \n",
    "### • Pelo menos duas perguntas devem testar diferentes tipos de gráficos para a mesma análise (por exemplo, comparar gráficos de linha com gráficos de barras). Explicar como a escolha do tipo de gráfico influencia a interpretação dos dados e se há algum tipo de visualização que seja mais adequado para responder à pergunta proposta"
   ]
  },
  {
   "cell_type": "code",
   "execution_count": 21,
   "id": "8f9d94cf-f5ae-4007-92a6-3318b068a8bf",
   "metadata": {},
   "outputs": [
    {
     "data": {
      "text/html": [
       "<div>\n",
       "<style scoped>\n",
       "    .dataframe tbody tr th:only-of-type {\n",
       "        vertical-align: middle;\n",
       "    }\n",
       "\n",
       "    .dataframe tbody tr th {\n",
       "        vertical-align: top;\n",
       "    }\n",
       "\n",
       "    .dataframe thead th {\n",
       "        text-align: right;\n",
       "    }\n",
       "</style>\n",
       "<table border=\"1\" class=\"dataframe\">\n",
       "  <thead>\n",
       "    <tr style=\"text-align: right;\">\n",
       "      <th></th>\n",
       "      <th>date</th>\n",
       "      <th>World</th>\n",
       "      <th>Afghanistan</th>\n",
       "      <th>Africa</th>\n",
       "      <th>Albania</th>\n",
       "      <th>Algeria</th>\n",
       "      <th>American Samoa</th>\n",
       "      <th>Andorra</th>\n",
       "      <th>Angola</th>\n",
       "      <th>Anguilla</th>\n",
       "      <th>...</th>\n",
       "      <th>Uruguay</th>\n",
       "      <th>Uzbekistan</th>\n",
       "      <th>Vanuatu</th>\n",
       "      <th>Vatican</th>\n",
       "      <th>Venezuela</th>\n",
       "      <th>Vietnam</th>\n",
       "      <th>Wallis and Futuna</th>\n",
       "      <th>Yemen</th>\n",
       "      <th>Zambia</th>\n",
       "      <th>Zimbabwe</th>\n",
       "    </tr>\n",
       "  </thead>\n",
       "  <tbody>\n",
       "    <tr>\n",
       "      <th>0</th>\n",
       "      <td>2020-01-05</td>\n",
       "      <td>3</td>\n",
       "      <td>0</td>\n",
       "      <td>0</td>\n",
       "      <td>0</td>\n",
       "      <td>0</td>\n",
       "      <td>0</td>\n",
       "      <td>0</td>\n",
       "      <td>0</td>\n",
       "      <td>0</td>\n",
       "      <td>...</td>\n",
       "      <td>0</td>\n",
       "      <td>0</td>\n",
       "      <td>0</td>\n",
       "      <td>0</td>\n",
       "      <td>0</td>\n",
       "      <td>0</td>\n",
       "      <td>0</td>\n",
       "      <td>0</td>\n",
       "      <td>0</td>\n",
       "      <td>0</td>\n",
       "    </tr>\n",
       "    <tr>\n",
       "      <th>1</th>\n",
       "      <td>2020-01-06</td>\n",
       "      <td>3</td>\n",
       "      <td>0</td>\n",
       "      <td>0</td>\n",
       "      <td>0</td>\n",
       "      <td>0</td>\n",
       "      <td>0</td>\n",
       "      <td>0</td>\n",
       "      <td>0</td>\n",
       "      <td>0</td>\n",
       "      <td>...</td>\n",
       "      <td>0</td>\n",
       "      <td>0</td>\n",
       "      <td>0</td>\n",
       "      <td>0</td>\n",
       "      <td>0</td>\n",
       "      <td>0</td>\n",
       "      <td>0</td>\n",
       "      <td>0</td>\n",
       "      <td>0</td>\n",
       "      <td>0</td>\n",
       "    </tr>\n",
       "    <tr>\n",
       "      <th>2</th>\n",
       "      <td>2020-01-07</td>\n",
       "      <td>3</td>\n",
       "      <td>0</td>\n",
       "      <td>0</td>\n",
       "      <td>0</td>\n",
       "      <td>0</td>\n",
       "      <td>0</td>\n",
       "      <td>0</td>\n",
       "      <td>0</td>\n",
       "      <td>0</td>\n",
       "      <td>...</td>\n",
       "      <td>0</td>\n",
       "      <td>0</td>\n",
       "      <td>0</td>\n",
       "      <td>0</td>\n",
       "      <td>0</td>\n",
       "      <td>0</td>\n",
       "      <td>0</td>\n",
       "      <td>0</td>\n",
       "      <td>0</td>\n",
       "      <td>0</td>\n",
       "    </tr>\n",
       "    <tr>\n",
       "      <th>3</th>\n",
       "      <td>2020-01-08</td>\n",
       "      <td>3</td>\n",
       "      <td>0</td>\n",
       "      <td>0</td>\n",
       "      <td>0</td>\n",
       "      <td>0</td>\n",
       "      <td>0</td>\n",
       "      <td>0</td>\n",
       "      <td>0</td>\n",
       "      <td>0</td>\n",
       "      <td>...</td>\n",
       "      <td>0</td>\n",
       "      <td>0</td>\n",
       "      <td>0</td>\n",
       "      <td>0</td>\n",
       "      <td>0</td>\n",
       "      <td>0</td>\n",
       "      <td>0</td>\n",
       "      <td>0</td>\n",
       "      <td>0</td>\n",
       "      <td>0</td>\n",
       "    </tr>\n",
       "    <tr>\n",
       "      <th>4</th>\n",
       "      <td>2020-01-09</td>\n",
       "      <td>3</td>\n",
       "      <td>0</td>\n",
       "      <td>0</td>\n",
       "      <td>0</td>\n",
       "      <td>0</td>\n",
       "      <td>0</td>\n",
       "      <td>0</td>\n",
       "      <td>0</td>\n",
       "      <td>0</td>\n",
       "      <td>...</td>\n",
       "      <td>0</td>\n",
       "      <td>0</td>\n",
       "      <td>0</td>\n",
       "      <td>0</td>\n",
       "      <td>0</td>\n",
       "      <td>0</td>\n",
       "      <td>0</td>\n",
       "      <td>0</td>\n",
       "      <td>0</td>\n",
       "      <td>0</td>\n",
       "    </tr>\n",
       "  </tbody>\n",
       "</table>\n",
       "<p>5 rows × 247 columns</p>\n",
       "</div>"
      ],
      "text/plain": [
       "         date  World  Afghanistan  Africa  Albania  Algeria  American Samoa  \\\n",
       "0  2020-01-05      3            0       0        0        0               0   \n",
       "1  2020-01-06      3            0       0        0        0               0   \n",
       "2  2020-01-07      3            0       0        0        0               0   \n",
       "3  2020-01-08      3            0       0        0        0               0   \n",
       "4  2020-01-09      3            0       0        0        0               0   \n",
       "\n",
       "   Andorra  Angola  Anguilla  ...  Uruguay  Uzbekistan  Vanuatu  Vatican  \\\n",
       "0        0       0         0  ...        0           0        0        0   \n",
       "1        0       0         0  ...        0           0        0        0   \n",
       "2        0       0         0  ...        0           0        0        0   \n",
       "3        0       0         0  ...        0           0        0        0   \n",
       "4        0       0         0  ...        0           0        0        0   \n",
       "\n",
       "   Venezuela  Vietnam  Wallis and Futuna  Yemen  Zambia  Zimbabwe  \n",
       "0          0        0                  0      0       0         0  \n",
       "1          0        0                  0      0       0         0  \n",
       "2          0        0                  0      0       0         0  \n",
       "3          0        0                  0      0       0         0  \n",
       "4          0        0                  0      0       0         0  \n",
       "\n",
       "[5 rows x 247 columns]"
      ]
     },
     "execution_count": 21,
     "metadata": {},
     "output_type": "execute_result"
    }
   ],
   "source": [
    "import plotly.express as px\n",
    "import pandas as pd\n",
    "df_deads = pd.read_csv(\"total_deaths.csv\")\n",
    "df_deads.head(5)"
   ]
  },
  {
   "cell_type": "code",
   "execution_count": 22,
   "id": "799127f2-c6a2-4037-8de0-811613d65509",
   "metadata": {},
   "outputs": [
    {
     "data": {
      "text/html": [
       "<div>\n",
       "<style scoped>\n",
       "    .dataframe tbody tr th:only-of-type {\n",
       "        vertical-align: middle;\n",
       "    }\n",
       "\n",
       "    .dataframe tbody tr th {\n",
       "        vertical-align: top;\n",
       "    }\n",
       "\n",
       "    .dataframe thead th {\n",
       "        text-align: right;\n",
       "    }\n",
       "</style>\n",
       "<table border=\"1\" class=\"dataframe\">\n",
       "  <thead>\n",
       "    <tr style=\"text-align: right;\">\n",
       "      <th></th>\n",
       "      <th>date</th>\n",
       "      <th>World</th>\n",
       "      <th>Afghanistan</th>\n",
       "      <th>Africa</th>\n",
       "      <th>Albania</th>\n",
       "      <th>Algeria</th>\n",
       "      <th>American Samoa</th>\n",
       "      <th>Andorra</th>\n",
       "      <th>Angola</th>\n",
       "      <th>Anguilla</th>\n",
       "      <th>...</th>\n",
       "      <th>Uruguay</th>\n",
       "      <th>Uzbekistan</th>\n",
       "      <th>Vanuatu</th>\n",
       "      <th>Vatican</th>\n",
       "      <th>Venezuela</th>\n",
       "      <th>Vietnam</th>\n",
       "      <th>Wallis and Futuna</th>\n",
       "      <th>Yemen</th>\n",
       "      <th>Zambia</th>\n",
       "      <th>Zimbabwe</th>\n",
       "    </tr>\n",
       "  </thead>\n",
       "  <tbody>\n",
       "    <tr>\n",
       "      <th>0</th>\n",
       "      <td>2020-01-05</td>\n",
       "      <td>3</td>\n",
       "      <td>0</td>\n",
       "      <td>0</td>\n",
       "      <td>0</td>\n",
       "      <td>0</td>\n",
       "      <td>0</td>\n",
       "      <td>0</td>\n",
       "      <td>0</td>\n",
       "      <td>0</td>\n",
       "      <td>...</td>\n",
       "      <td>0</td>\n",
       "      <td>0</td>\n",
       "      <td>0</td>\n",
       "      <td>0</td>\n",
       "      <td>0</td>\n",
       "      <td>0</td>\n",
       "      <td>0</td>\n",
       "      <td>0</td>\n",
       "      <td>0</td>\n",
       "      <td>0</td>\n",
       "    </tr>\n",
       "    <tr>\n",
       "      <th>1</th>\n",
       "      <td>2020-01-06</td>\n",
       "      <td>3</td>\n",
       "      <td>0</td>\n",
       "      <td>0</td>\n",
       "      <td>0</td>\n",
       "      <td>0</td>\n",
       "      <td>0</td>\n",
       "      <td>0</td>\n",
       "      <td>0</td>\n",
       "      <td>0</td>\n",
       "      <td>...</td>\n",
       "      <td>0</td>\n",
       "      <td>0</td>\n",
       "      <td>0</td>\n",
       "      <td>0</td>\n",
       "      <td>0</td>\n",
       "      <td>0</td>\n",
       "      <td>0</td>\n",
       "      <td>0</td>\n",
       "      <td>0</td>\n",
       "      <td>0</td>\n",
       "    </tr>\n",
       "    <tr>\n",
       "      <th>2</th>\n",
       "      <td>2020-01-07</td>\n",
       "      <td>3</td>\n",
       "      <td>0</td>\n",
       "      <td>0</td>\n",
       "      <td>0</td>\n",
       "      <td>0</td>\n",
       "      <td>0</td>\n",
       "      <td>0</td>\n",
       "      <td>0</td>\n",
       "      <td>0</td>\n",
       "      <td>...</td>\n",
       "      <td>0</td>\n",
       "      <td>0</td>\n",
       "      <td>0</td>\n",
       "      <td>0</td>\n",
       "      <td>0</td>\n",
       "      <td>0</td>\n",
       "      <td>0</td>\n",
       "      <td>0</td>\n",
       "      <td>0</td>\n",
       "      <td>0</td>\n",
       "    </tr>\n",
       "    <tr>\n",
       "      <th>3</th>\n",
       "      <td>2020-01-08</td>\n",
       "      <td>3</td>\n",
       "      <td>0</td>\n",
       "      <td>0</td>\n",
       "      <td>0</td>\n",
       "      <td>0</td>\n",
       "      <td>0</td>\n",
       "      <td>0</td>\n",
       "      <td>0</td>\n",
       "      <td>0</td>\n",
       "      <td>...</td>\n",
       "      <td>0</td>\n",
       "      <td>0</td>\n",
       "      <td>0</td>\n",
       "      <td>0</td>\n",
       "      <td>0</td>\n",
       "      <td>0</td>\n",
       "      <td>0</td>\n",
       "      <td>0</td>\n",
       "      <td>0</td>\n",
       "      <td>0</td>\n",
       "    </tr>\n",
       "    <tr>\n",
       "      <th>4</th>\n",
       "      <td>2020-01-09</td>\n",
       "      <td>3</td>\n",
       "      <td>0</td>\n",
       "      <td>0</td>\n",
       "      <td>0</td>\n",
       "      <td>0</td>\n",
       "      <td>0</td>\n",
       "      <td>0</td>\n",
       "      <td>0</td>\n",
       "      <td>0</td>\n",
       "      <td>...</td>\n",
       "      <td>0</td>\n",
       "      <td>0</td>\n",
       "      <td>0</td>\n",
       "      <td>0</td>\n",
       "      <td>0</td>\n",
       "      <td>0</td>\n",
       "      <td>0</td>\n",
       "      <td>0</td>\n",
       "      <td>0</td>\n",
       "      <td>0</td>\n",
       "    </tr>\n",
       "    <tr>\n",
       "      <th>...</th>\n",
       "      <td>...</td>\n",
       "      <td>...</td>\n",
       "      <td>...</td>\n",
       "      <td>...</td>\n",
       "      <td>...</td>\n",
       "      <td>...</td>\n",
       "      <td>...</td>\n",
       "      <td>...</td>\n",
       "      <td>...</td>\n",
       "      <td>...</td>\n",
       "      <td>...</td>\n",
       "      <td>...</td>\n",
       "      <td>...</td>\n",
       "      <td>...</td>\n",
       "      <td>...</td>\n",
       "      <td>...</td>\n",
       "      <td>...</td>\n",
       "      <td>...</td>\n",
       "      <td>...</td>\n",
       "      <td>...</td>\n",
       "      <td>...</td>\n",
       "    </tr>\n",
       "    <tr>\n",
       "      <th>1669</th>\n",
       "      <td>2024-07-31</td>\n",
       "      <td>7056317</td>\n",
       "      <td>7998</td>\n",
       "      <td>259117</td>\n",
       "      <td>3605</td>\n",
       "      <td>6881</td>\n",
       "      <td>34</td>\n",
       "      <td>159</td>\n",
       "      <td>1937</td>\n",
       "      <td>12</td>\n",
       "      <td>...</td>\n",
       "      <td>7682</td>\n",
       "      <td>1016</td>\n",
       "      <td>14</td>\n",
       "      <td>0</td>\n",
       "      <td>5856</td>\n",
       "      <td>43206</td>\n",
       "      <td>9</td>\n",
       "      <td>2159</td>\n",
       "      <td>4077</td>\n",
       "      <td>5740</td>\n",
       "    </tr>\n",
       "    <tr>\n",
       "      <th>1670</th>\n",
       "      <td>2024-08-01</td>\n",
       "      <td>7056317</td>\n",
       "      <td>7998</td>\n",
       "      <td>259117</td>\n",
       "      <td>3605</td>\n",
       "      <td>6881</td>\n",
       "      <td>34</td>\n",
       "      <td>159</td>\n",
       "      <td>1937</td>\n",
       "      <td>12</td>\n",
       "      <td>...</td>\n",
       "      <td>7682</td>\n",
       "      <td>1016</td>\n",
       "      <td>14</td>\n",
       "      <td>0</td>\n",
       "      <td>5856</td>\n",
       "      <td>43206</td>\n",
       "      <td>9</td>\n",
       "      <td>2159</td>\n",
       "      <td>4077</td>\n",
       "      <td>5740</td>\n",
       "    </tr>\n",
       "    <tr>\n",
       "      <th>1671</th>\n",
       "      <td>2024-08-02</td>\n",
       "      <td>7056317</td>\n",
       "      <td>7998</td>\n",
       "      <td>259117</td>\n",
       "      <td>3605</td>\n",
       "      <td>6881</td>\n",
       "      <td>34</td>\n",
       "      <td>159</td>\n",
       "      <td>1937</td>\n",
       "      <td>12</td>\n",
       "      <td>...</td>\n",
       "      <td>7682</td>\n",
       "      <td>1016</td>\n",
       "      <td>14</td>\n",
       "      <td>0</td>\n",
       "      <td>5856</td>\n",
       "      <td>43206</td>\n",
       "      <td>9</td>\n",
       "      <td>2159</td>\n",
       "      <td>4077</td>\n",
       "      <td>5740</td>\n",
       "    </tr>\n",
       "    <tr>\n",
       "      <th>1672</th>\n",
       "      <td>2024-08-03</td>\n",
       "      <td>7056317</td>\n",
       "      <td>7998</td>\n",
       "      <td>259117</td>\n",
       "      <td>3605</td>\n",
       "      <td>6881</td>\n",
       "      <td>34</td>\n",
       "      <td>159</td>\n",
       "      <td>1937</td>\n",
       "      <td>12</td>\n",
       "      <td>...</td>\n",
       "      <td>7682</td>\n",
       "      <td>1016</td>\n",
       "      <td>14</td>\n",
       "      <td>0</td>\n",
       "      <td>5856</td>\n",
       "      <td>43206</td>\n",
       "      <td>9</td>\n",
       "      <td>2159</td>\n",
       "      <td>4077</td>\n",
       "      <td>5740</td>\n",
       "    </tr>\n",
       "    <tr>\n",
       "      <th>1673</th>\n",
       "      <td>2024-08-04</td>\n",
       "      <td>7057132</td>\n",
       "      <td>7998</td>\n",
       "      <td>259117</td>\n",
       "      <td>3605</td>\n",
       "      <td>6881</td>\n",
       "      <td>34</td>\n",
       "      <td>159</td>\n",
       "      <td>1937</td>\n",
       "      <td>12</td>\n",
       "      <td>...</td>\n",
       "      <td>7682</td>\n",
       "      <td>1016</td>\n",
       "      <td>14</td>\n",
       "      <td>0</td>\n",
       "      <td>5856</td>\n",
       "      <td>43206</td>\n",
       "      <td>9</td>\n",
       "      <td>2159</td>\n",
       "      <td>4077</td>\n",
       "      <td>5740</td>\n",
       "    </tr>\n",
       "  </tbody>\n",
       "</table>\n",
       "<p>1674 rows × 247 columns</p>\n",
       "</div>"
      ],
      "text/plain": [
       "            date    World  Afghanistan  Africa  Albania  Algeria  \\\n",
       "0     2020-01-05        3            0       0        0        0   \n",
       "1     2020-01-06        3            0       0        0        0   \n",
       "2     2020-01-07        3            0       0        0        0   \n",
       "3     2020-01-08        3            0       0        0        0   \n",
       "4     2020-01-09        3            0       0        0        0   \n",
       "...          ...      ...          ...     ...      ...      ...   \n",
       "1669  2024-07-31  7056317         7998  259117     3605     6881   \n",
       "1670  2024-08-01  7056317         7998  259117     3605     6881   \n",
       "1671  2024-08-02  7056317         7998  259117     3605     6881   \n",
       "1672  2024-08-03  7056317         7998  259117     3605     6881   \n",
       "1673  2024-08-04  7057132         7998  259117     3605     6881   \n",
       "\n",
       "      American Samoa  Andorra  Angola  Anguilla  ...  Uruguay  Uzbekistan  \\\n",
       "0                  0        0       0         0  ...        0           0   \n",
       "1                  0        0       0         0  ...        0           0   \n",
       "2                  0        0       0         0  ...        0           0   \n",
       "3                  0        0       0         0  ...        0           0   \n",
       "4                  0        0       0         0  ...        0           0   \n",
       "...              ...      ...     ...       ...  ...      ...         ...   \n",
       "1669              34      159    1937        12  ...     7682        1016   \n",
       "1670              34      159    1937        12  ...     7682        1016   \n",
       "1671              34      159    1937        12  ...     7682        1016   \n",
       "1672              34      159    1937        12  ...     7682        1016   \n",
       "1673              34      159    1937        12  ...     7682        1016   \n",
       "\n",
       "      Vanuatu  Vatican  Venezuela  Vietnam  Wallis and Futuna  Yemen  Zambia  \\\n",
       "0           0        0          0        0                  0      0       0   \n",
       "1           0        0          0        0                  0      0       0   \n",
       "2           0        0          0        0                  0      0       0   \n",
       "3           0        0          0        0                  0      0       0   \n",
       "4           0        0          0        0                  0      0       0   \n",
       "...       ...      ...        ...      ...                ...    ...     ...   \n",
       "1669       14        0       5856    43206                  9   2159    4077   \n",
       "1670       14        0       5856    43206                  9   2159    4077   \n",
       "1671       14        0       5856    43206                  9   2159    4077   \n",
       "1672       14        0       5856    43206                  9   2159    4077   \n",
       "1673       14        0       5856    43206                  9   2159    4077   \n",
       "\n",
       "      Zimbabwe  \n",
       "0            0  \n",
       "1            0  \n",
       "2            0  \n",
       "3            0  \n",
       "4            0  \n",
       "...        ...  \n",
       "1669      5740  \n",
       "1670      5740  \n",
       "1671      5740  \n",
       "1672      5740  \n",
       "1673      5740  \n",
       "\n",
       "[1674 rows x 247 columns]"
      ]
     },
     "metadata": {},
     "output_type": "display_data"
    }
   ],
   "source": [
    "display(df_deads)"
   ]
  },
  {
   "cell_type": "code",
   "execution_count": 12,
   "id": "43056c7c-df68-4525-a8df-884164f87efe",
   "metadata": {},
   "outputs": [],
   "source": [
    "# df_deads_new = df_deads.melt(id_vars=\"date\", var_name=\"Paises\", value_name=\"Total de Mortes\")\n",
    "# df_agrupado= df_deads_new.groupby(\"Paises\")[[\"Total de Mortes\"]].sum()\n",
    "# df_agrupado"
   ]
  },
  {
   "cell_type": "code",
   "execution_count": 16,
   "id": "a323e1f7-f565-4b14-94f2-4da93876a150",
   "metadata": {},
   "outputs": [
    {
     "data": {
      "text/html": [
       "<div>\n",
       "<style scoped>\n",
       "    .dataframe tbody tr th:only-of-type {\n",
       "        vertical-align: middle;\n",
       "    }\n",
       "\n",
       "    .dataframe tbody tr th {\n",
       "        vertical-align: top;\n",
       "    }\n",
       "\n",
       "    .dataframe thead th {\n",
       "        text-align: right;\n",
       "    }\n",
       "</style>\n",
       "<table border=\"1\" class=\"dataframe\">\n",
       "  <thead>\n",
       "    <tr style=\"text-align: right;\">\n",
       "      <th></th>\n",
       "      <th>World</th>\n",
       "      <th>Afghanistan</th>\n",
       "      <th>Africa</th>\n",
       "      <th>Albania</th>\n",
       "      <th>Algeria</th>\n",
       "      <th>American Samoa</th>\n",
       "      <th>Andorra</th>\n",
       "      <th>Angola</th>\n",
       "      <th>Anguilla</th>\n",
       "      <th>Antigua and Barbuda</th>\n",
       "      <th>...</th>\n",
       "      <th>Uruguay</th>\n",
       "      <th>Uzbekistan</th>\n",
       "      <th>Vanuatu</th>\n",
       "      <th>Vatican</th>\n",
       "      <th>Venezuela</th>\n",
       "      <th>Vietnam</th>\n",
       "      <th>Wallis and Futuna</th>\n",
       "      <th>Yemen</th>\n",
       "      <th>Zambia</th>\n",
       "      <th>Zimbabwe</th>\n",
       "    </tr>\n",
       "  </thead>\n",
       "  <tbody>\n",
       "    <tr>\n",
       "      <th>count</th>\n",
       "      <td>1.674000e+03</td>\n",
       "      <td>1674.000000</td>\n",
       "      <td>1674.000000</td>\n",
       "      <td>1674.000000</td>\n",
       "      <td>1674.000000</td>\n",
       "      <td>1674.000000</td>\n",
       "      <td>1674.000000</td>\n",
       "      <td>1674.000000</td>\n",
       "      <td>1674.000000</td>\n",
       "      <td>1674.000000</td>\n",
       "      <td>...</td>\n",
       "      <td>1674.000000</td>\n",
       "      <td>1674.000000</td>\n",
       "      <td>1674.000000</td>\n",
       "      <td>1674.0</td>\n",
       "      <td>1674.000000</td>\n",
       "      <td>1674.000000</td>\n",
       "      <td>1674.000000</td>\n",
       "      <td>1674.000000</td>\n",
       "      <td>1674.000000</td>\n",
       "      <td>1674.000000</td>\n",
       "    </tr>\n",
       "    <tr>\n",
       "      <th>mean</th>\n",
       "      <td>4.784923e+06</td>\n",
       "      <td>5664.603943</td>\n",
       "      <td>183366.675627</td>\n",
       "      <td>2580.754480</td>\n",
       "      <td>5023.457587</td>\n",
       "      <td>16.851254</td>\n",
       "      <td>124.150538</td>\n",
       "      <td>1325.859020</td>\n",
       "      <td>6.434289</td>\n",
       "      <td>92.492234</td>\n",
       "      <td>...</td>\n",
       "      <td>5095.851254</td>\n",
       "      <td>633.985663</td>\n",
       "      <td>7.012545</td>\n",
       "      <td>0.0</td>\n",
       "      <td>4009.543011</td>\n",
       "      <td>25856.700717</td>\n",
       "      <td>5.211470</td>\n",
       "      <td>1563.071685</td>\n",
       "      <td>2811.434289</td>\n",
       "      <td>3811.357826</td>\n",
       "    </tr>\n",
       "    <tr>\n",
       "      <th>std</th>\n",
       "      <td>2.523699e+06</td>\n",
       "      <td>3029.366717</td>\n",
       "      <td>98363.657808</td>\n",
       "      <td>1356.888681</td>\n",
       "      <td>2455.819006</td>\n",
       "      <td>16.695400</td>\n",
       "      <td>47.513864</td>\n",
       "      <td>779.062235</td>\n",
       "      <td>5.532346</td>\n",
       "      <td>62.467083</td>\n",
       "      <td>...</td>\n",
       "      <td>3217.700052</td>\n",
       "      <td>463.491228</td>\n",
       "      <td>6.957421</td>\n",
       "      <td>0.0</td>\n",
       "      <td>2344.718853</td>\n",
       "      <td>20053.353246</td>\n",
       "      <td>3.507071</td>\n",
       "      <td>787.096560</td>\n",
       "      <td>1669.677474</td>\n",
       "      <td>2372.242364</td>\n",
       "    </tr>\n",
       "    <tr>\n",
       "      <th>min</th>\n",
       "      <td>3.000000e+00</td>\n",
       "      <td>0.000000</td>\n",
       "      <td>0.000000</td>\n",
       "      <td>0.000000</td>\n",
       "      <td>0.000000</td>\n",
       "      <td>0.000000</td>\n",
       "      <td>0.000000</td>\n",
       "      <td>0.000000</td>\n",
       "      <td>0.000000</td>\n",
       "      <td>0.000000</td>\n",
       "      <td>...</td>\n",
       "      <td>0.000000</td>\n",
       "      <td>0.000000</td>\n",
       "      <td>0.000000</td>\n",
       "      <td>0.0</td>\n",
       "      <td>0.000000</td>\n",
       "      <td>0.000000</td>\n",
       "      <td>0.000000</td>\n",
       "      <td>0.000000</td>\n",
       "      <td>0.000000</td>\n",
       "      <td>0.000000</td>\n",
       "    </tr>\n",
       "    <tr>\n",
       "      <th>25%</th>\n",
       "      <td>2.620744e+06</td>\n",
       "      <td>2432.000000</td>\n",
       "      <td>101195.000000</td>\n",
       "      <td>1636.000000</td>\n",
       "      <td>2958.000000</td>\n",
       "      <td>0.000000</td>\n",
       "      <td>107.000000</td>\n",
       "      <td>498.000000</td>\n",
       "      <td>0.000000</td>\n",
       "      <td>11.000000</td>\n",
       "      <td>...</td>\n",
       "      <td>563.000000</td>\n",
       "      <td>0.000000</td>\n",
       "      <td>0.000000</td>\n",
       "      <td>0.0</td>\n",
       "      <td>1308.000000</td>\n",
       "      <td>35.000000</td>\n",
       "      <td>0.000000</td>\n",
       "      <td>619.000000</td>\n",
       "      <td>1016.000000</td>\n",
       "      <td>1432.000000</td>\n",
       "    </tr>\n",
       "    <tr>\n",
       "      <th>50%</th>\n",
       "      <td>6.241478e+06</td>\n",
       "      <td>7676.000000</td>\n",
       "      <td>253422.000000</td>\n",
       "      <td>3495.000000</td>\n",
       "      <td>6874.000000</td>\n",
       "      <td>18.000000</td>\n",
       "      <td>153.000000</td>\n",
       "      <td>1900.000000</td>\n",
       "      <td>9.000000</td>\n",
       "      <td>135.000000</td>\n",
       "      <td>...</td>\n",
       "      <td>7193.000000</td>\n",
       "      <td>1016.000000</td>\n",
       "      <td>6.000000</td>\n",
       "      <td>0.0</td>\n",
       "      <td>5700.000000</td>\n",
       "      <td>42944.000000</td>\n",
       "      <td>7.000000</td>\n",
       "      <td>2148.000000</td>\n",
       "      <td>3973.000000</td>\n",
       "      <td>5462.000000</td>\n",
       "    </tr>\n",
       "    <tr>\n",
       "      <th>75%</th>\n",
       "      <td>6.948012e+06</td>\n",
       "      <td>7920.000000</td>\n",
       "      <td>258964.000000</td>\n",
       "      <td>3604.000000</td>\n",
       "      <td>6881.000000</td>\n",
       "      <td>34.000000</td>\n",
       "      <td>159.000000</td>\n",
       "      <td>1936.000000</td>\n",
       "      <td>12.000000</td>\n",
       "      <td>146.000000</td>\n",
       "      <td>...</td>\n",
       "      <td>7625.000000</td>\n",
       "      <td>1016.000000</td>\n",
       "      <td>14.000000</td>\n",
       "      <td>0.0</td>\n",
       "      <td>5856.000000</td>\n",
       "      <td>43206.000000</td>\n",
       "      <td>8.000000</td>\n",
       "      <td>2159.000000</td>\n",
       "      <td>4058.000000</td>\n",
       "      <td>5695.000000</td>\n",
       "    </tr>\n",
       "    <tr>\n",
       "      <th>max</th>\n",
       "      <td>7.057132e+06</td>\n",
       "      <td>7998.000000</td>\n",
       "      <td>259117.000000</td>\n",
       "      <td>3605.000000</td>\n",
       "      <td>6881.000000</td>\n",
       "      <td>34.000000</td>\n",
       "      <td>159.000000</td>\n",
       "      <td>1937.000000</td>\n",
       "      <td>12.000000</td>\n",
       "      <td>146.000000</td>\n",
       "      <td>...</td>\n",
       "      <td>7682.000000</td>\n",
       "      <td>1016.000000</td>\n",
       "      <td>14.000000</td>\n",
       "      <td>0.0</td>\n",
       "      <td>5856.000000</td>\n",
       "      <td>43206.000000</td>\n",
       "      <td>9.000000</td>\n",
       "      <td>2159.000000</td>\n",
       "      <td>4077.000000</td>\n",
       "      <td>5740.000000</td>\n",
       "    </tr>\n",
       "  </tbody>\n",
       "</table>\n",
       "<p>8 rows × 246 columns</p>\n",
       "</div>"
      ],
      "text/plain": [
       "              World  Afghanistan         Africa      Albania      Algeria  \\\n",
       "count  1.674000e+03  1674.000000    1674.000000  1674.000000  1674.000000   \n",
       "mean   4.784923e+06  5664.603943  183366.675627  2580.754480  5023.457587   \n",
       "std    2.523699e+06  3029.366717   98363.657808  1356.888681  2455.819006   \n",
       "min    3.000000e+00     0.000000       0.000000     0.000000     0.000000   \n",
       "25%    2.620744e+06  2432.000000  101195.000000  1636.000000  2958.000000   \n",
       "50%    6.241478e+06  7676.000000  253422.000000  3495.000000  6874.000000   \n",
       "75%    6.948012e+06  7920.000000  258964.000000  3604.000000  6881.000000   \n",
       "max    7.057132e+06  7998.000000  259117.000000  3605.000000  6881.000000   \n",
       "\n",
       "       American Samoa      Andorra       Angola     Anguilla  \\\n",
       "count     1674.000000  1674.000000  1674.000000  1674.000000   \n",
       "mean        16.851254   124.150538  1325.859020     6.434289   \n",
       "std         16.695400    47.513864   779.062235     5.532346   \n",
       "min          0.000000     0.000000     0.000000     0.000000   \n",
       "25%          0.000000   107.000000   498.000000     0.000000   \n",
       "50%         18.000000   153.000000  1900.000000     9.000000   \n",
       "75%         34.000000   159.000000  1936.000000    12.000000   \n",
       "max         34.000000   159.000000  1937.000000    12.000000   \n",
       "\n",
       "       Antigua and Barbuda  ...      Uruguay   Uzbekistan      Vanuatu  \\\n",
       "count          1674.000000  ...  1674.000000  1674.000000  1674.000000   \n",
       "mean             92.492234  ...  5095.851254   633.985663     7.012545   \n",
       "std              62.467083  ...  3217.700052   463.491228     6.957421   \n",
       "min               0.000000  ...     0.000000     0.000000     0.000000   \n",
       "25%              11.000000  ...   563.000000     0.000000     0.000000   \n",
       "50%             135.000000  ...  7193.000000  1016.000000     6.000000   \n",
       "75%             146.000000  ...  7625.000000  1016.000000    14.000000   \n",
       "max             146.000000  ...  7682.000000  1016.000000    14.000000   \n",
       "\n",
       "       Vatican    Venezuela       Vietnam  Wallis and Futuna        Yemen  \\\n",
       "count   1674.0  1674.000000   1674.000000        1674.000000  1674.000000   \n",
       "mean       0.0  4009.543011  25856.700717           5.211470  1563.071685   \n",
       "std        0.0  2344.718853  20053.353246           3.507071   787.096560   \n",
       "min        0.0     0.000000      0.000000           0.000000     0.000000   \n",
       "25%        0.0  1308.000000     35.000000           0.000000   619.000000   \n",
       "50%        0.0  5700.000000  42944.000000           7.000000  2148.000000   \n",
       "75%        0.0  5856.000000  43206.000000           8.000000  2159.000000   \n",
       "max        0.0  5856.000000  43206.000000           9.000000  2159.000000   \n",
       "\n",
       "            Zambia     Zimbabwe  \n",
       "count  1674.000000  1674.000000  \n",
       "mean   2811.434289  3811.357826  \n",
       "std    1669.677474  2372.242364  \n",
       "min       0.000000     0.000000  \n",
       "25%    1016.000000  1432.000000  \n",
       "50%    3973.000000  5462.000000  \n",
       "75%    4058.000000  5695.000000  \n",
       "max    4077.000000  5740.000000  \n",
       "\n",
       "[8 rows x 246 columns]"
      ]
     },
     "execution_count": 16,
     "metadata": {},
     "output_type": "execute_result"
    }
   ],
   "source": [
    "df_deads.describe()"
   ]
  },
  {
   "cell_type": "code",
   "execution_count": 63,
   "id": "9e8664f0-dfec-4e4b-b4ad-cffcaabc0e6b",
   "metadata": {},
   "outputs": [],
   "source": [
    "df_deads_new = pd.melt(df_deads, id_vars='date', var_name='Pais', value_name='Total de Mortes')\n",
    "df_deads_new = df_deads_new[(df_deads_new['Pais'] != \"World\") & (df_deads_new[\"Total de Mortes\"] >= 1)]"
   ]
  },
  {
   "cell_type": "code",
   "execution_count": 68,
   "id": "dc8ba4a6-0e70-4daf-b443-1462f737e2d4",
   "metadata": {},
   "outputs": [
    {
     "data": {
      "text/html": [
       "<div>\n",
       "<style scoped>\n",
       "    .dataframe tbody tr th:only-of-type {\n",
       "        vertical-align: middle;\n",
       "    }\n",
       "\n",
       "    .dataframe tbody tr th {\n",
       "        vertical-align: top;\n",
       "    }\n",
       "\n",
       "    .dataframe thead th {\n",
       "        text-align: right;\n",
       "    }\n",
       "</style>\n",
       "<table border=\"1\" class=\"dataframe\">\n",
       "  <thead>\n",
       "    <tr style=\"text-align: right;\">\n",
       "      <th></th>\n",
       "      <th>Pais</th>\n",
       "      <th>Total de Mortes</th>\n",
       "    </tr>\n",
       "  </thead>\n",
       "  <tbody>\n",
       "    <tr>\n",
       "      <th>0</th>\n",
       "      <td>Afghanistan</td>\n",
       "      <td>5963.866038</td>\n",
       "    </tr>\n",
       "    <tr>\n",
       "      <th>1</th>\n",
       "      <td>Africa</td>\n",
       "      <td>190537.439479</td>\n",
       "    </tr>\n",
       "    <tr>\n",
       "      <th>2</th>\n",
       "      <td>Albania</td>\n",
       "      <td>2693.380923</td>\n",
       "    </tr>\n",
       "    <tr>\n",
       "      <th>3</th>\n",
       "      <td>Algeria</td>\n",
       "      <td>5288.847799</td>\n",
       "    </tr>\n",
       "    <tr>\n",
       "      <th>4</th>\n",
       "      <td>American Samoa</td>\n",
       "      <td>32.725058</td>\n",
       "    </tr>\n",
       "    <tr>\n",
       "      <th>...</th>\n",
       "      <td>...</td>\n",
       "      <td>...</td>\n",
       "    </tr>\n",
       "    <tr>\n",
       "      <th>232</th>\n",
       "      <td>Vietnam</td>\n",
       "      <td>29565.653689</td>\n",
       "    </tr>\n",
       "    <tr>\n",
       "      <th>233</th>\n",
       "      <td>Wallis and Futuna</td>\n",
       "      <td>7.501290</td>\n",
       "    </tr>\n",
       "    <tr>\n",
       "      <th>234</th>\n",
       "      <td>Yemen</td>\n",
       "      <td>1682.689389</td>\n",
       "    </tr>\n",
       "    <tr>\n",
       "      <th>235</th>\n",
       "      <td>Zambia</td>\n",
       "      <td>2973.051800</td>\n",
       "    </tr>\n",
       "    <tr>\n",
       "      <th>236</th>\n",
       "      <td>Zimbabwe</td>\n",
       "      <td>3960.405338</td>\n",
       "    </tr>\n",
       "  </tbody>\n",
       "</table>\n",
       "<p>237 rows × 2 columns</p>\n",
       "</div>"
      ],
      "text/plain": [
       "                  Pais  Total de Mortes\n",
       "0          Afghanistan      5963.866038\n",
       "1               Africa    190537.439479\n",
       "2              Albania      2693.380923\n",
       "3              Algeria      5288.847799\n",
       "4       American Samoa        32.725058\n",
       "..                 ...              ...\n",
       "232            Vietnam     29565.653689\n",
       "233  Wallis and Futuna         7.501290\n",
       "234              Yemen      1682.689389\n",
       "235             Zambia      2973.051800\n",
       "236           Zimbabwe      3960.405338\n",
       "\n",
       "[237 rows x 2 columns]"
      ]
     },
     "execution_count": 68,
     "metadata": {},
     "output_type": "execute_result"
    }
   ],
   "source": [
    "df_grouped = df_deads_new.groupby('Pais')['Total de Mortes'].mean().reset_index()\n",
    "df_grouped"
   ]
  },
  {
   "cell_type": "code",
   "execution_count": 78,
   "id": "c98acaff-1289-4a09-aef6-051234d87e98",
   "metadata": {},
   "outputs": [
    {
     "data": {
      "application/vnd.plotly.v1+json": {
       "config": {
        "plotlyServerURL": "https://plot.ly"
       },
       "data": [
        {
         "alignmentgroup": "True",
         "hovertemplate": "Pais=%{x}<br>Total de Mortes=%{y}<extra></extra>",
         "legendgroup": "Afghanistan",
         "marker": {
          "color": "#636efa"
         },
         "name": "Afghanistan",
         "notched": false,
         "offsetgroup": "Afghanistan",
         "orientation": "v",
         "showlegend": true,
         "type": "box",
         "x": [
          "Afghanistan"
         ],
         "x0": " ",
         "xaxis": "x",
         "y": [
          5963.866037735849
         ],
         "y0": " ",
         "yaxis": "y"
        },
        {
         "alignmentgroup": "True",
         "hovertemplate": "Pais=%{x}<br>Total de Mortes=%{y}<extra></extra>",
         "legendgroup": "Africa",
         "marker": {
          "color": "#EF553B"
         },
         "name": "Africa",
         "notched": false,
         "offsetgroup": "Africa",
         "orientation": "v",
         "showlegend": true,
         "type": "box",
         "x": [
          "Africa"
         ],
         "x0": " ",
         "xaxis": "x",
         "y": [
          190537.43947858474
         ],
         "y0": " ",
         "yaxis": "y"
        },
        {
         "alignmentgroup": "True",
         "hovertemplate": "Pais=%{x}<br>Total de Mortes=%{y}<extra></extra>",
         "legendgroup": "Albania",
         "marker": {
          "color": "#00cc96"
         },
         "name": "Albania",
         "notched": false,
         "offsetgroup": "Albania",
         "orientation": "v",
         "showlegend": true,
         "type": "box",
         "x": [
          "Albania"
         ],
         "x0": " ",
         "xaxis": "x",
         "y": [
          2693.3809226932667
         ],
         "y0": " ",
         "yaxis": "y"
        },
        {
         "alignmentgroup": "True",
         "hovertemplate": "Pais=%{x}<br>Total de Mortes=%{y}<extra></extra>",
         "legendgroup": "Algeria",
         "marker": {
          "color": "#ab63fa"
         },
         "name": "Algeria",
         "notched": false,
         "offsetgroup": "Algeria",
         "orientation": "v",
         "showlegend": true,
         "type": "box",
         "x": [
          "Algeria"
         ],
         "x0": " ",
         "xaxis": "x",
         "y": [
          5288.847798742138
         ],
         "y0": " ",
         "yaxis": "y"
        },
        {
         "alignmentgroup": "True",
         "hovertemplate": "Pais=%{x}<br>Total de Mortes=%{y}<extra></extra>",
         "legendgroup": "American Samoa",
         "marker": {
          "color": "#FFA15A"
         },
         "name": "American Samoa",
         "notched": false,
         "offsetgroup": "American Samoa",
         "orientation": "v",
         "showlegend": true,
         "type": "box",
         "x": [
          "American Samoa"
         ],
         "x0": " ",
         "xaxis": "x",
         "y": [
          32.725058004640374
         ],
         "y0": " ",
         "yaxis": "y"
        },
        {
         "alignmentgroup": "True",
         "hovertemplate": "Pais=%{x}<br>Total de Mortes=%{y}<extra></extra>",
         "legendgroup": "Andorra",
         "marker": {
          "color": "#19d3f3"
         },
         "name": "Andorra",
         "notched": false,
         "offsetgroup": "Andorra",
         "orientation": "v",
         "showlegend": true,
         "type": "box",
         "x": [
          "Andorra"
         ],
         "x0": " ",
         "xaxis": "x",
         "y": [
          130.13650594865373
         ],
         "y0": " ",
         "yaxis": "y"
        },
        {
         "alignmentgroup": "True",
         "hovertemplate": "Pais=%{x}<br>Total de Mortes=%{y}<extra></extra>",
         "legendgroup": "Angola",
         "marker": {
          "color": "#FF6692"
         },
         "name": "Angola",
         "notched": false,
         "offsetgroup": "Angola",
         "orientation": "v",
         "showlegend": true,
         "type": "box",
         "x": [
          "Angola"
         ],
         "x0": " ",
         "xaxis": "x",
         "y": [
          1446.8631029986961
         ],
         "y0": " ",
         "yaxis": "y"
        },
        {
         "alignmentgroup": "True",
         "hovertemplate": "Pais=%{x}<br>Total de Mortes=%{y}<extra></extra>",
         "legendgroup": "Anguilla",
         "marker": {
          "color": "#B6E880"
         },
         "name": "Anguilla",
         "notched": false,
         "offsetgroup": "Anguilla",
         "orientation": "v",
         "showlegend": true,
         "type": "box",
         "x": [
          "Anguilla"
         ],
         "x0": " ",
         "xaxis": "x",
         "y": [
          10.317049808429118
         ],
         "y0": " ",
         "yaxis": "y"
        },
        {
         "alignmentgroup": "True",
         "hovertemplate": "Pais=%{x}<br>Total de Mortes=%{y}<extra></extra>",
         "legendgroup": "Antigua and Barbuda",
         "marker": {
          "color": "#FF97FF"
         },
         "name": "Antigua and Barbuda",
         "notched": false,
         "offsetgroup": "Antigua and Barbuda",
         "orientation": "v",
         "showlegend": true,
         "type": "box",
         "x": [
          "Antigua and Barbuda"
         ],
         "x0": " ",
         "xaxis": "x",
         "y": [
          98.24365482233503
         ],
         "y0": " ",
         "yaxis": "y"
        },
        {
         "alignmentgroup": "True",
         "hovertemplate": "Pais=%{x}<br>Total de Mortes=%{y}<extra></extra>",
         "legendgroup": "Argentina",
         "marker": {
          "color": "#FECB52"
         },
         "name": "Argentina",
         "notched": false,
         "offsetgroup": "Argentina",
         "orientation": "v",
         "showlegend": true,
         "type": "box",
         "x": [
          "Argentina"
         ],
         "x0": " ",
         "xaxis": "x",
         "y": [
          100155.49224084419
         ],
         "y0": " ",
         "yaxis": "y"
        },
        {
         "alignmentgroup": "True",
         "hovertemplate": "Pais=%{x}<br>Total de Mortes=%{y}<extra></extra>",
         "legendgroup": "Armenia",
         "marker": {
          "color": "#636efa"
         },
         "name": "Armenia",
         "notched": false,
         "offsetgroup": "Armenia",
         "orientation": "v",
         "showlegend": true,
         "type": "box",
         "x": [
          "Armenia"
         ],
         "x0": " ",
         "xaxis": "x",
         "y": [
          6403.696226415094
         ],
         "y0": " ",
         "yaxis": "y"
        },
        {
         "alignmentgroup": "True",
         "hovertemplate": "Pais=%{x}<br>Total de Mortes=%{y}<extra></extra>",
         "legendgroup": "Aruba",
         "marker": {
          "color": "#EF553B"
         },
         "name": "Aruba",
         "notched": false,
         "offsetgroup": "Aruba",
         "orientation": "v",
         "showlegend": true,
         "type": "box",
         "x": [
          "Aruba"
         ],
         "x0": " ",
         "xaxis": "x",
         "y": [
          188.57042702358189
         ],
         "y0": " ",
         "yaxis": "y"
        },
        {
         "alignmentgroup": "True",
         "hovertemplate": "Pais=%{x}<br>Total de Mortes=%{y}<extra></extra>",
         "legendgroup": "Asia",
         "marker": {
          "color": "#00cc96"
         },
         "name": "Asia",
         "notched": false,
         "offsetgroup": "Asia",
         "orientation": "v",
         "showlegend": true,
         "type": "box",
         "x": [
          "Asia"
         ],
         "x0": " ",
         "xaxis": "x",
         "y": [
          1074028.1223755248
         ],
         "y0": " ",
         "yaxis": "y"
        },
        {
         "alignmentgroup": "True",
         "hovertemplate": "Pais=%{x}<br>Total de Mortes=%{y}<extra></extra>",
         "legendgroup": "Australia",
         "marker": {
          "color": "#ab63fa"
         },
         "name": "Australia",
         "notched": false,
         "offsetgroup": "Australia",
         "orientation": "v",
         "showlegend": true,
         "type": "box",
         "x": [
          "Australia"
         ],
         "x0": " ",
         "xaxis": "x",
         "y": [
          11194.760397268778
         ],
         "y0": " ",
         "yaxis": "y"
        },
        {
         "alignmentgroup": "True",
         "hovertemplate": "Pais=%{x}<br>Total de Mortes=%{y}<extra></extra>",
         "legendgroup": "Austria",
         "marker": {
          "color": "#FFA15A"
         },
         "name": "Austria",
         "notched": false,
         "offsetgroup": "Austria",
         "orientation": "v",
         "showlegend": true,
         "type": "box",
         "x": [
          "Austria"
         ],
         "x0": " ",
         "xaxis": "x",
         "y": [
          15696.352867830425
         ],
         "y0": " ",
         "yaxis": "y"
        },
        {
         "alignmentgroup": "True",
         "hovertemplate": "Pais=%{x}<br>Total de Mortes=%{y}<extra></extra>",
         "legendgroup": "Azerbaijan",
         "marker": {
          "color": "#19d3f3"
         },
         "name": "Azerbaijan",
         "notched": false,
         "offsetgroup": "Azerbaijan",
         "orientation": "v",
         "showlegend": true,
         "type": "box",
         "x": [
          "Azerbaijan"
         ],
         "x0": " ",
         "xaxis": "x",
         "y": [
          7209.894802755166
         ],
         "y0": " ",
         "yaxis": "y"
        },
        {
         "alignmentgroup": "True",
         "hovertemplate": "Pais=%{x}<br>Total de Mortes=%{y}<extra></extra>",
         "legendgroup": "Bahamas",
         "marker": {
          "color": "#FF6692"
         },
         "name": "Bahamas",
         "notched": false,
         "offsetgroup": "Bahamas",
         "orientation": "v",
         "showlegend": true,
         "type": "box",
         "x": [
          "Bahamas"
         ],
         "x0": " ",
         "xaxis": "x",
         "y": [
          586.4049273531269
         ],
         "y0": " ",
         "yaxis": "y"
        },
        {
         "alignmentgroup": "True",
         "hovertemplate": "Pais=%{x}<br>Total de Mortes=%{y}<extra></extra>",
         "legendgroup": "Bahrain",
         "marker": {
          "color": "#B6E880"
         },
         "name": "Bahrain",
         "notched": false,
         "offsetgroup": "Bahrain",
         "orientation": "v",
         "showlegend": true,
         "type": "box",
         "x": [
          "Bahrain"
         ],
         "x0": " ",
         "xaxis": "x",
         "y": [
          1158.1534126487163
         ],
         "y0": " ",
         "yaxis": "y"
        },
        {
         "alignmentgroup": "True",
         "hovertemplate": "Pais=%{x}<br>Total de Mortes=%{y}<extra></extra>",
         "legendgroup": "Bangladesh",
         "marker": {
          "color": "#FF97FF"
         },
         "name": "Bangladesh",
         "notched": false,
         "offsetgroup": "Bangladesh",
         "orientation": "v",
         "showlegend": true,
         "type": "box",
         "x": [
          "Bangladesh"
         ],
         "x0": " ",
         "xaxis": "x",
         "y": [
          22015.535378835317
         ],
         "y0": " ",
         "yaxis": "y"
        },
        {
         "alignmentgroup": "True",
         "hovertemplate": "Pais=%{x}<br>Total de Mortes=%{y}<extra></extra>",
         "legendgroup": "Barbados",
         "marker": {
          "color": "#FECB52"
         },
         "name": "Barbados",
         "notched": false,
         "offsetgroup": "Barbados",
         "orientation": "v",
         "showlegend": true,
         "type": "box",
         "x": [
          "Barbados"
         ],
         "x0": " ",
         "xaxis": "x",
         "y": [
          339.8984771573604
         ],
         "y0": " ",
         "yaxis": "y"
        },
        {
         "alignmentgroup": "True",
         "hovertemplate": "Pais=%{x}<br>Total de Mortes=%{y}<extra></extra>",
         "legendgroup": "Belarus",
         "marker": {
          "color": "#636efa"
         },
         "name": "Belarus",
         "notched": false,
         "offsetgroup": "Belarus",
         "orientation": "v",
         "showlegend": true,
         "type": "box",
         "x": [
          "Belarus"
         ],
         "x0": " ",
         "xaxis": "x",
         "y": [
          5044.456727732154
         ],
         "y0": " ",
         "yaxis": "y"
        },
        {
         "alignmentgroup": "True",
         "hovertemplate": "Pais=%{x}<br>Total de Mortes=%{y}<extra></extra>",
         "legendgroup": "Belgium",
         "marker": {
          "color": "#EF553B"
         },
         "name": "Belgium",
         "notched": false,
         "offsetgroup": "Belgium",
         "orientation": "v",
         "showlegend": true,
         "type": "box",
         "x": [
          "Belgium"
         ],
         "x0": " ",
         "xaxis": "x",
         "y": [
          26989.349127182046
         ],
         "y0": " ",
         "yaxis": "y"
        },
        {
         "alignmentgroup": "True",
         "hovertemplate": "Pais=%{x}<br>Total de Mortes=%{y}<extra></extra>",
         "legendgroup": "Belize",
         "marker": {
          "color": "#00cc96"
         },
         "name": "Belize",
         "notched": false,
         "offsetgroup": "Belize",
         "orientation": "v",
         "showlegend": true,
         "type": "box",
         "x": [
          "Belize"
         ],
         "x0": " ",
         "xaxis": "x",
         "y": [
          501.7715736040609
         ],
         "y0": " ",
         "yaxis": "y"
        },
        {
         "alignmentgroup": "True",
         "hovertemplate": "Pais=%{x}<br>Total de Mortes=%{y}<extra></extra>",
         "legendgroup": "Benin",
         "marker": {
          "color": "#ab63fa"
         },
         "name": "Benin",
         "notched": false,
         "offsetgroup": "Benin",
         "orientation": "v",
         "showlegend": true,
         "type": "box",
         "x": [
          "Benin"
         ],
         "x0": " ",
         "xaxis": "x",
         "y": [
          129.93118971061094
         ],
         "y0": " ",
         "yaxis": "y"
        },
        {
         "alignmentgroup": "True",
         "hovertemplate": "Pais=%{x}<br>Total de Mortes=%{y}<extra></extra>",
         "legendgroup": "Bermuda",
         "marker": {
          "color": "#FFA15A"
         },
         "name": "Bermuda",
         "notched": false,
         "offsetgroup": "Bermuda",
         "orientation": "v",
         "showlegend": true,
         "type": "box",
         "x": [
          "Bermuda"
         ],
         "x0": " ",
         "xaxis": "x",
         "y": [
          103.6744923857868
         ],
         "y0": " ",
         "yaxis": "y"
        },
        {
         "alignmentgroup": "True",
         "hovertemplate": "Pais=%{x}<br>Total de Mortes=%{y}<extra></extra>",
         "legendgroup": "Bhutan",
         "marker": {
          "color": "#19d3f3"
         },
         "name": "Bhutan",
         "notched": false,
         "offsetgroup": "Bhutan",
         "orientation": "v",
         "showlegend": true,
         "type": "box",
         "x": [
          "Bhutan"
         ],
         "x0": " ",
         "xaxis": "x",
         "y": [
          14.553338449731388
         ],
         "y0": " ",
         "yaxis": "y"
        },
        {
         "alignmentgroup": "True",
         "hovertemplate": "Pais=%{x}<br>Total de Mortes=%{y}<extra></extra>",
         "legendgroup": "Bolivia",
         "marker": {
          "color": "#FF6692"
         },
         "name": "Bolivia",
         "notched": false,
         "offsetgroup": "Bolivia",
         "orientation": "v",
         "showlegend": true,
         "type": "box",
         "x": [
          "Bolivia"
         ],
         "x0": " ",
         "xaxis": "x",
         "y": [
          17556.730259001895
         ],
         "y0": " ",
         "yaxis": "y"
        },
        {
         "alignmentgroup": "True",
         "hovertemplate": "Pais=%{x}<br>Total de Mortes=%{y}<extra></extra>",
         "legendgroup": "Bonaire Sint Eustatius and Saba",
         "marker": {
          "color": "#B6E880"
         },
         "name": "Bonaire Sint Eustatius and Saba",
         "notched": false,
         "offsetgroup": "Bonaire Sint Eustatius and Saba",
         "orientation": "v",
         "showlegend": true,
         "type": "box",
         "x": [
          "Bonaire Sint Eustatius and Saba"
         ],
         "x0": " ",
         "xaxis": "x",
         "y": [
          29.66643109540636
         ],
         "y0": " ",
         "yaxis": "y"
        },
        {
         "alignmentgroup": "True",
         "hovertemplate": "Pais=%{x}<br>Total de Mortes=%{y}<extra></extra>",
         "legendgroup": "Bosnia and Herzegovina",
         "marker": {
          "color": "#FF97FF"
         },
         "name": "Bosnia and Herzegovina",
         "notched": false,
         "offsetgroup": "Bosnia and Herzegovina",
         "orientation": "v",
         "showlegend": true,
         "type": "box",
         "x": [
          "Bosnia and Herzegovina"
         ],
         "x0": " ",
         "xaxis": "x",
         "y": [
          11706.628678772699
         ],
         "y0": " ",
         "yaxis": "y"
        },
        {
         "alignmentgroup": "True",
         "hovertemplate": "Pais=%{x}<br>Total de Mortes=%{y}<extra></extra>",
         "legendgroup": "Botswana",
         "marker": {
          "color": "#FECB52"
         },
         "name": "Botswana",
         "notched": false,
         "offsetgroup": "Botswana",
         "orientation": "v",
         "showlegend": true,
         "type": "box",
         "x": [
          "Botswana"
         ],
         "x0": " ",
         "xaxis": "x",
         "y": [
          1955.0698113207548
         ],
         "y0": " ",
         "yaxis": "y"
        },
        {
         "alignmentgroup": "True",
         "hovertemplate": "Pais=%{x}<br>Total de Mortes=%{y}<extra></extra>",
         "legendgroup": "Brazil",
         "marker": {
          "color": "#636efa"
         },
         "name": "Brazil",
         "notched": false,
         "offsetgroup": "Brazil",
         "orientation": "v",
         "showlegend": true,
         "type": "box",
         "x": [
          "Brazil"
         ],
         "x0": " ",
         "xaxis": "x",
         "y": [
          529451.1596743895
         ],
         "y0": " ",
         "yaxis": "y"
        },
        {
         "alignmentgroup": "True",
         "hovertemplate": "Pais=%{x}<br>Total de Mortes=%{y}<extra></extra>",
         "legendgroup": "British Virgin Islands",
         "marker": {
          "color": "#EF553B"
         },
         "name": "British Virgin Islands",
         "notched": false,
         "offsetgroup": "British Virgin Islands",
         "orientation": "v",
         "showlegend": true,
         "type": "box",
         "x": [
          "British Virgin Islands"
         ],
         "x0": " ",
         "xaxis": "x",
         "y": [
          42.15749039692702
         ],
         "y0": " ",
         "yaxis": "y"
        },
        {
         "alignmentgroup": "True",
         "hovertemplate": "Pais=%{x}<br>Total de Mortes=%{y}<extra></extra>",
         "legendgroup": "Brunei",
         "marker": {
          "color": "#00cc96"
         },
         "name": "Brunei",
         "notched": false,
         "offsetgroup": "Brunei",
         "orientation": "v",
         "showlegend": true,
         "type": "box",
         "x": [
          "Brunei"
         ],
         "x0": " ",
         "xaxis": "x",
         "y": [
          90.6062893081761
         ],
         "y0": " ",
         "yaxis": "y"
        },
        {
         "alignmentgroup": "True",
         "hovertemplate": "Pais=%{x}<br>Total de Mortes=%{y}<extra></extra>",
         "legendgroup": "Bulgaria",
         "marker": {
          "color": "#ab63fa"
         },
         "name": "Bulgaria",
         "notched": false,
         "offsetgroup": "Bulgaria",
         "orientation": "v",
         "showlegend": true,
         "type": "box",
         "x": [
          "Bulgaria"
         ],
         "x0": " ",
         "xaxis": "x",
         "y": [
          26507.125935162094
         ],
         "y0": " ",
         "yaxis": "y"
        },
        {
         "alignmentgroup": "True",
         "hovertemplate": "Pais=%{x}<br>Total de Mortes=%{y}<extra></extra>",
         "legendgroup": "Burkina Faso",
         "marker": {
          "color": "#FFA15A"
         },
         "name": "Burkina Faso",
         "notched": false,
         "offsetgroup": "Burkina Faso",
         "orientation": "v",
         "showlegend": true,
         "type": "box",
         "x": [
          "Burkina Faso"
         ],
         "x0": " ",
         "xaxis": "x",
         "y": [
          281.4514715090795
         ],
         "y0": " ",
         "yaxis": "y"
        },
        {
         "alignmentgroup": "True",
         "hovertemplate": "Pais=%{x}<br>Total de Mortes=%{y}<extra></extra>",
         "legendgroup": "Burundi",
         "marker": {
          "color": "#19d3f3"
         },
         "name": "Burundi",
         "notched": false,
         "offsetgroup": "Burundi",
         "orientation": "v",
         "showlegend": true,
         "type": "box",
         "x": [
          "Burundi"
         ],
         "x0": " ",
         "xaxis": "x",
         "y": [
          11.163161249203315
         ],
         "y0": " ",
         "yaxis": "y"
        },
        {
         "alignmentgroup": "True",
         "hovertemplate": "Pais=%{x}<br>Total de Mortes=%{y}<extra></extra>",
         "legendgroup": "Cambodia",
         "marker": {
          "color": "#FF6692"
         },
         "name": "Cambodia",
         "notched": false,
         "offsetgroup": "Cambodia",
         "orientation": "v",
         "showlegend": true,
         "type": "box",
         "x": [
          "Cambodia"
         ],
         "x0": " ",
         "xaxis": "x",
         "y": [
          2666.7096774193546
         ],
         "y0": " ",
         "yaxis": "y"
        },
        {
         "alignmentgroup": "True",
         "hovertemplate": "Pais=%{x}<br>Total de Mortes=%{y}<extra></extra>",
         "legendgroup": "Cameroon",
         "marker": {
          "color": "#B6E880"
         },
         "name": "Cameroon",
         "notched": false,
         "offsetgroup": "Cameroon",
         "orientation": "v",
         "showlegend": true,
         "type": "box",
         "x": [
          "Cameroon"
         ],
         "x0": " ",
         "xaxis": "x",
         "y": [
          1495.3937106918238
         ],
         "y0": " ",
         "yaxis": "y"
        },
        {
         "alignmentgroup": "True",
         "hovertemplate": "Pais=%{x}<br>Total de Mortes=%{y}<extra></extra>",
         "legendgroup": "Canada",
         "marker": {
          "color": "#FF97FF"
         },
         "name": "Canada",
         "notched": false,
         "offsetgroup": "Canada",
         "orientation": "v",
         "showlegend": true,
         "type": "box",
         "x": [
          "Canada"
         ],
         "x0": " ",
         "xaxis": "x",
         "y": [
          35709.51995012469
         ],
         "y0": " ",
         "yaxis": "y"
        },
        {
         "alignmentgroup": "True",
         "hovertemplate": "Pais=%{x}<br>Total de Mortes=%{y}<extra></extra>",
         "legendgroup": "Cape Verde",
         "marker": {
          "color": "#FECB52"
         },
         "name": "Cape Verde",
         "notched": false,
         "offsetgroup": "Cape Verde",
         "orientation": "v",
         "showlegend": true,
         "type": "box",
         "x": [
          "Cape Verde"
         ],
         "x0": " ",
         "xaxis": "x",
         "y": [
          317.82057877813503
         ],
         "y0": " ",
         "yaxis": "y"
        },
        {
         "alignmentgroup": "True",
         "hovertemplate": "Pais=%{x}<br>Total de Mortes=%{y}<extra></extra>",
         "legendgroup": "Cayman Islands",
         "marker": {
          "color": "#636efa"
         },
         "name": "Cayman Islands",
         "notched": false,
         "offsetgroup": "Cayman Islands",
         "orientation": "v",
         "showlegend": true,
         "type": "box",
         "x": [
          "Cayman Islands"
         ],
         "x0": " ",
         "xaxis": "x",
         "y": [
          20.390274314214462
         ],
         "y0": " ",
         "yaxis": "y"
        },
        {
         "alignmentgroup": "True",
         "hovertemplate": "Pais=%{x}<br>Total de Mortes=%{y}<extra></extra>",
         "legendgroup": "Central African Republic",
         "marker": {
          "color": "#EF553B"
         },
         "name": "Central African Republic",
         "notched": false,
         "offsetgroup": "Central African Republic",
         "orientation": "v",
         "showlegend": true,
         "type": "box",
         "x": [
          "Central African Republic"
         ],
         "x0": " ",
         "xaxis": "x",
         "y": [
          98.20599739243806
         ],
         "y0": " ",
         "yaxis": "y"
        },
        {
         "alignmentgroup": "True",
         "hovertemplate": "Pais=%{x}<br>Total de Mortes=%{y}<extra></extra>",
         "legendgroup": "Chad",
         "marker": {
          "color": "#00cc96"
         },
         "name": "Chad",
         "notched": false,
         "offsetgroup": "Chad",
         "orientation": "v",
         "showlegend": true,
         "type": "box",
         "x": [
          "Chad"
         ],
         "x0": " ",
         "xaxis": "x",
         "y": [
          168.54790996784567
         ],
         "y0": " ",
         "yaxis": "y"
        },
        {
         "alignmentgroup": "True",
         "hovertemplate": "Pais=%{x}<br>Total de Mortes=%{y}<extra></extra>",
         "legendgroup": "Chile",
         "marker": {
          "color": "#ab63fa"
         },
         "name": "Chile",
         "notched": false,
         "offsetgroup": "Chile",
         "orientation": "v",
         "showlegend": true,
         "type": "box",
         "x": [
          "Chile"
         ],
         "x0": " ",
         "xaxis": "x",
         "y": [
          43945.477987421385
         ],
         "y0": " ",
         "yaxis": "y"
        },
        {
         "alignmentgroup": "True",
         "hovertemplate": "Pais=%{x}<br>Total de Mortes=%{y}<extra></extra>",
         "legendgroup": "China",
         "marker": {
          "color": "#FFA15A"
         },
         "name": "China",
         "notched": false,
         "offsetgroup": "China",
         "orientation": "v",
         "showlegend": true,
         "type": "box",
         "x": [
          "China"
         ],
         "x0": " ",
         "xaxis": "x",
         "y": [
          47557.706058788244
         ],
         "y0": " ",
         "yaxis": "y"
        },
        {
         "alignmentgroup": "True",
         "hovertemplate": "Pais=%{x}<br>Total de Mortes=%{y}<extra></extra>",
         "legendgroup": "Colombia",
         "marker": {
          "color": "#19d3f3"
         },
         "name": "Colombia",
         "notched": false,
         "offsetgroup": "Colombia",
         "orientation": "v",
         "showlegend": true,
         "type": "box",
         "x": [
          "Colombia"
         ],
         "x0": " ",
         "xaxis": "x",
         "y": [
          109024.94528301887
         ],
         "y0": " ",
         "yaxis": "y"
        },
        {
         "alignmentgroup": "True",
         "hovertemplate": "Pais=%{x}<br>Total de Mortes=%{y}<extra></extra>",
         "legendgroup": "Comoros",
         "marker": {
          "color": "#FF6692"
         },
         "name": "Comoros",
         "notched": false,
         "offsetgroup": "Comoros",
         "orientation": "v",
         "showlegend": true,
         "type": "box",
         "x": [
          "Comoros"
         ],
         "x0": " ",
         "xaxis": "x",
         "y": [
          130.69315245478037
         ],
         "y0": " ",
         "yaxis": "y"
        },
        {
         "alignmentgroup": "True",
         "hovertemplate": "Pais=%{x}<br>Total de Mortes=%{y}<extra></extra>",
         "legendgroup": "Congo",
         "marker": {
          "color": "#B6E880"
         },
         "name": "Congo",
         "notched": false,
         "offsetgroup": "Congo",
         "orientation": "v",
         "showlegend": true,
         "type": "box",
         "x": [
          "Congo"
         ],
         "x0": " ",
         "xaxis": "x",
         "y": [
          284.74289324068224
         ],
         "y0": " ",
         "yaxis": "y"
        },
        {
         "alignmentgroup": "True",
         "hovertemplate": "Pais=%{x}<br>Total de Mortes=%{y}<extra></extra>",
         "legendgroup": "Cook Islands",
         "marker": {
          "color": "#FF97FF"
         },
         "name": "Cook Islands",
         "notched": false,
         "offsetgroup": "Cook Islands",
         "orientation": "v",
         "showlegend": true,
         "type": "box",
         "x": [
          "Cook Islands"
         ],
         "x0": " ",
         "xaxis": "x",
         "y": [
          1.6558752997601918
         ],
         "y0": " ",
         "yaxis": "y"
        },
        {
         "alignmentgroup": "True",
         "hovertemplate": "Pais=%{x}<br>Total de Mortes=%{y}<extra></extra>",
         "legendgroup": "Costa Rica",
         "marker": {
          "color": "#FECB52"
         },
         "name": "Costa Rica",
         "notched": false,
         "offsetgroup": "Costa Rica",
         "orientation": "v",
         "showlegend": true,
         "type": "box",
         "x": [
          "Costa Rica"
         ],
         "x0": " ",
         "xaxis": "x",
         "y": [
          6513.067626800251
         ],
         "y0": " ",
         "yaxis": "y"
        },
        {
         "alignmentgroup": "True",
         "hovertemplate": "Pais=%{x}<br>Total de Mortes=%{y}<extra></extra>",
         "legendgroup": "Cote d'Ivoire",
         "marker": {
          "color": "#636efa"
         },
         "name": "Cote d'Ivoire",
         "notched": false,
         "offsetgroup": "Cote d'Ivoire",
         "orientation": "v",
         "showlegend": true,
         "type": "box",
         "x": [
          "Cote d'Ivoire"
         ],
         "x0": " ",
         "xaxis": "x",
         "y": [
          596.6506632975363
         ],
         "y0": " ",
         "yaxis": "y"
        },
        {
         "alignmentgroup": "True",
         "hovertemplate": "Pais=%{x}<br>Total de Mortes=%{y}<extra></extra>",
         "legendgroup": "Croatia",
         "marker": {
          "color": "#EF553B"
         },
         "name": "Croatia",
         "notched": false,
         "offsetgroup": "Croatia",
         "orientation": "v",
         "showlegend": true,
         "type": "box",
         "x": [
          "Croatia"
         ],
         "x0": " ",
         "xaxis": "x",
         "y": [
          12205.904195366313
         ],
         "y0": " ",
         "yaxis": "y"
        },
        {
         "alignmentgroup": "True",
         "hovertemplate": "Pais=%{x}<br>Total de Mortes=%{y}<extra></extra>",
         "legendgroup": "Cuba",
         "marker": {
          "color": "#00cc96"
         },
         "name": "Cuba",
         "notched": false,
         "offsetgroup": "Cuba",
         "orientation": "v",
         "showlegend": true,
         "type": "box",
         "x": [
          "Cuba"
         ],
         "x0": " ",
         "xaxis": "x",
         "y": [
          5818.61114589856
         ],
         "y0": " ",
         "yaxis": "y"
        },
        {
         "alignmentgroup": "True",
         "hovertemplate": "Pais=%{x}<br>Total de Mortes=%{y}<extra></extra>",
         "legendgroup": "Curacao",
         "marker": {
          "color": "#ab63fa"
         },
         "name": "Curacao",
         "notched": false,
         "offsetgroup": "Curacao",
         "orientation": "v",
         "showlegend": true,
         "type": "box",
         "x": [
          "Curacao"
         ],
         "x0": " ",
         "xaxis": "x",
         "y": [
          197.926737633062
         ],
         "y0": " ",
         "yaxis": "y"
        },
        {
         "alignmentgroup": "True",
         "hovertemplate": "Pais=%{x}<br>Total de Mortes=%{y}<extra></extra>",
         "legendgroup": "Cyprus",
         "marker": {
          "color": "#FFA15A"
         },
         "name": "Cyprus",
         "notched": false,
         "offsetgroup": "Cyprus",
         "orientation": "v",
         "showlegend": true,
         "type": "box",
         "x": [
          "Cyprus"
         ],
         "x0": " ",
         "xaxis": "x",
         "y": [
          842.8716981132076
         ],
         "y0": " ",
         "yaxis": "y"
        },
        {
         "alignmentgroup": "True",
         "hovertemplate": "Pais=%{x}<br>Total de Mortes=%{y}<extra></extra>",
         "legendgroup": "Czechia",
         "marker": {
          "color": "#19d3f3"
         },
         "name": "Czechia",
         "notched": false,
         "offsetgroup": "Czechia",
         "orientation": "v",
         "showlegend": true,
         "type": "box",
         "x": [
          "Czechia"
         ],
         "x0": " ",
         "xaxis": "x",
         "y": [
          31732.957232704404
         ],
         "y0": " ",
         "yaxis": "y"
        },
        {
         "alignmentgroup": "True",
         "hovertemplate": "Pais=%{x}<br>Total de Mortes=%{y}<extra></extra>",
         "legendgroup": "Democratic Republic of Congo",
         "marker": {
          "color": "#FF6692"
         },
         "name": "Democratic Republic of Congo",
         "notched": false,
         "offsetgroup": "Democratic Republic of Congo",
         "orientation": "v",
         "showlegend": true,
         "type": "box",
         "x": [
          "Democratic Republic of Congo"
         ],
         "x0": " ",
         "xaxis": "x",
         "y": [
          1139.74442319949
         ],
         "y0": " ",
         "yaxis": "y"
        },
        {
         "alignmentgroup": "True",
         "hovertemplate": "Pais=%{x}<br>Total de Mortes=%{y}<extra></extra>",
         "legendgroup": "Denmark",
         "marker": {
          "color": "#B6E880"
         },
         "name": "Denmark",
         "notched": false,
         "offsetgroup": "Denmark",
         "orientation": "v",
         "showlegend": true,
         "type": "box",
         "x": [
          "Denmark"
         ],
         "x0": " ",
         "xaxis": "x",
         "y": [
          5344.52493765586
         ],
         "y0": " ",
         "yaxis": "y"
        },
        {
         "alignmentgroup": "True",
         "hovertemplate": "Pais=%{x}<br>Total de Mortes=%{y}<extra></extra>",
         "legendgroup": "Djibouti",
         "marker": {
          "color": "#FF97FF"
         },
         "name": "Djibouti",
         "notched": false,
         "offsetgroup": "Djibouti",
         "orientation": "v",
         "showlegend": true,
         "type": "box",
         "x": [
          "Djibouti"
         ],
         "x0": " ",
         "xaxis": "x",
         "y": [
          152.45875634517768
         ],
         "y0": " ",
         "yaxis": "y"
        },
        {
         "alignmentgroup": "True",
         "hovertemplate": "Pais=%{x}<br>Total de Mortes=%{y}<extra></extra>",
         "legendgroup": "Dominica",
         "marker": {
          "color": "#FECB52"
         },
         "name": "Dominica",
         "notched": false,
         "offsetgroup": "Dominica",
         "orientation": "v",
         "showlegend": true,
         "type": "box",
         "x": [
          "Dominica"
         ],
         "x0": " ",
         "xaxis": "x",
         "y": [
          65.07970342910102
         ],
         "y0": " ",
         "yaxis": "y"
        },
        {
         "alignmentgroup": "True",
         "hovertemplate": "Pais=%{x}<br>Total de Mortes=%{y}<extra></extra>",
         "legendgroup": "Dominican Republic",
         "marker": {
          "color": "#636efa"
         },
         "name": "Dominican Republic",
         "notched": false,
         "offsetgroup": "Dominican Republic",
         "orientation": "v",
         "showlegend": true,
         "type": "box",
         "x": [
          "Dominican Republic"
         ],
         "x0": " ",
         "xaxis": "x",
         "y": [
          3657.5385097056983
         ],
         "y0": " ",
         "yaxis": "y"
        },
        {
         "alignmentgroup": "True",
         "hovertemplate": "Pais=%{x}<br>Total de Mortes=%{y}<extra></extra>",
         "legendgroup": "East Timor",
         "marker": {
          "color": "#EF553B"
         },
         "name": "East Timor",
         "notched": false,
         "offsetgroup": "East Timor",
         "orientation": "v",
         "showlegend": true,
         "type": "box",
         "x": [
          "East Timor"
         ],
         "x0": " ",
         "xaxis": "x",
         "y": [
          119.81848184818482
         ],
         "y0": " ",
         "yaxis": "y"
        },
        {
         "alignmentgroup": "True",
         "hovertemplate": "Pais=%{x}<br>Total de Mortes=%{y}<extra></extra>",
         "legendgroup": "Ecuador",
         "marker": {
          "color": "#00cc96"
         },
         "name": "Ecuador",
         "notched": false,
         "offsetgroup": "Ecuador",
         "orientation": "v",
         "showlegend": true,
         "type": "box",
         "x": [
          "Ecuador"
         ],
         "x0": " ",
         "xaxis": "x",
         "y": [
          28057.775203506575
         ],
         "y0": " ",
         "yaxis": "y"
        },
        {
         "alignmentgroup": "True",
         "hovertemplate": "Pais=%{x}<br>Total de Mortes=%{y}<extra></extra>",
         "legendgroup": "Egypt",
         "marker": {
          "color": "#ab63fa"
         },
         "name": "Egypt",
         "notched": false,
         "offsetgroup": "Egypt",
         "orientation": "v",
         "showlegend": true,
         "type": "box",
         "x": [
          "Egypt"
         ],
         "x0": " ",
         "xaxis": "x",
         "y": [
          18649.545511221946
         ],
         "y0": " ",
         "yaxis": "y"
        },
        {
         "alignmentgroup": "True",
         "hovertemplate": "Pais=%{x}<br>Total de Mortes=%{y}<extra></extra>",
         "legendgroup": "El Salvador",
         "marker": {
          "color": "#FFA15A"
         },
         "name": "El Salvador",
         "notched": false,
         "offsetgroup": "El Salvador",
         "orientation": "v",
         "showlegend": true,
         "type": "box",
         "x": [
          "El Salvador"
         ],
         "x0": " ",
         "xaxis": "x",
         "y": [
          3193.1111813013267
         ],
         "y0": " ",
         "yaxis": "y"
        },
        {
         "alignmentgroup": "True",
         "hovertemplate": "Pais=%{x}<br>Total de Mortes=%{y}<extra></extra>",
         "legendgroup": "Equatorial Guinea",
         "marker": {
          "color": "#19d3f3"
         },
         "name": "Equatorial Guinea",
         "notched": false,
         "offsetgroup": "Equatorial Guinea",
         "orientation": "v",
         "showlegend": true,
         "type": "box",
         "x": [
          "Equatorial Guinea"
         ],
         "x0": " ",
         "xaxis": "x",
         "y": [
          149.37580025608196
         ],
         "y0": " ",
         "yaxis": "y"
        },
        {
         "alignmentgroup": "True",
         "hovertemplate": "Pais=%{x}<br>Total de Mortes=%{y}<extra></extra>",
         "legendgroup": "Eritrea",
         "marker": {
          "color": "#FF6692"
         },
         "name": "Eritrea",
         "notched": false,
         "offsetgroup": "Eritrea",
         "orientation": "v",
         "showlegend": true,
         "type": "box",
         "x": [
          "Eritrea"
         ],
         "x0": " ",
         "xaxis": "x",
         "y": [
          81.00607441154138
         ],
         "y0": " ",
         "yaxis": "y"
        },
        {
         "alignmentgroup": "True",
         "hovertemplate": "Pais=%{x}<br>Total de Mortes=%{y}<extra></extra>",
         "legendgroup": "Estonia",
         "marker": {
          "color": "#B6E880"
         },
         "name": "Estonia",
         "notched": false,
         "offsetgroup": "Estonia",
         "orientation": "v",
         "showlegend": true,
         "type": "box",
         "x": [
          "Estonia"
         ],
         "x0": " ",
         "xaxis": "x",
         "y": [
          1912.964779874214
         ],
         "y0": " ",
         "yaxis": "y"
        },
        {
         "alignmentgroup": "True",
         "hovertemplate": "Pais=%{x}<br>Total de Mortes=%{y}<extra></extra>",
         "legendgroup": "Eswatini",
         "marker": {
          "color": "#FF97FF"
         },
         "name": "Eswatini",
         "notched": false,
         "offsetgroup": "Eswatini",
         "orientation": "v",
         "showlegend": true,
         "type": "box",
         "x": [
          "Eswatini"
         ],
         "x0": " ",
         "xaxis": "x",
         "y": [
          1062.7010834926705
         ],
         "y0": " ",
         "yaxis": "y"
        },
        {
         "alignmentgroup": "True",
         "hovertemplate": "Pais=%{x}<br>Total de Mortes=%{y}<extra></extra>",
         "legendgroup": "Ethiopia",
         "marker": {
          "color": "#FECB52"
         },
         "name": "Ethiopia",
         "notched": false,
         "offsetgroup": "Ethiopia",
         "orientation": "v",
         "showlegend": true,
         "type": "box",
         "x": [
          "Ethiopia"
         ],
         "x0": " ",
         "xaxis": "x",
         "y": [
          5648.000634517766
         ],
         "y0": " ",
         "yaxis": "y"
        },
        {
         "alignmentgroup": "True",
         "hovertemplate": "Pais=%{x}<br>Total de Mortes=%{y}<extra></extra>",
         "legendgroup": "Europe",
         "marker": {
          "color": "#636efa"
         },
         "name": "Europe",
         "notched": false,
         "offsetgroup": "Europe",
         "orientation": "v",
         "showlegend": true,
         "type": "box",
         "x": [
          "Europe"
         ],
         "x0": " ",
         "xaxis": "x",
         "y": [
          1410457.609916368
         ],
         "y0": " ",
         "yaxis": "y"
        },
        {
         "alignmentgroup": "True",
         "hovertemplate": "Pais=%{x}<br>Total de Mortes=%{y}<extra></extra>",
         "legendgroup": "European Union (27)",
         "marker": {
          "color": "#EF553B"
         },
         "name": "European Union (27)",
         "notched": false,
         "offsetgroup": "European Union (27)",
         "orientation": "v",
         "showlegend": true,
         "type": "box",
         "x": [
          "European Union (27)"
         ],
         "x0": " ",
         "xaxis": "x",
         "y": [
          852482.2956989247
         ],
         "y0": " ",
         "yaxis": "y"
        },
        {
         "alignmentgroup": "True",
         "hovertemplate": "Pais=%{x}<br>Total de Mortes=%{y}<extra></extra>",
         "legendgroup": "Faroe Islands",
         "marker": {
          "color": "#00cc96"
         },
         "name": "Faroe Islands",
         "notched": false,
         "offsetgroup": "Faroe Islands",
         "orientation": "v",
         "showlegend": true,
         "type": "box",
         "x": [
          "Faroe Islands"
         ],
         "x0": " ",
         "xaxis": "x",
         "y": [
          20.68303914044513
         ],
         "y0": " ",
         "yaxis": "y"
        },
        {
         "alignmentgroup": "True",
         "hovertemplate": "Pais=%{x}<br>Total de Mortes=%{y}<extra></extra>",
         "legendgroup": "Fiji",
         "marker": {
          "color": "#ab63fa"
         },
         "name": "Fiji",
         "notched": false,
         "offsetgroup": "Fiji",
         "orientation": "v",
         "showlegend": true,
         "type": "box",
         "x": [
          "Fiji"
         ],
         "x0": " ",
         "xaxis": "x",
         "y": [
          627.1379781420765
         ],
         "y0": " ",
         "yaxis": "y"
        },
        {
         "alignmentgroup": "True",
         "hovertemplate": "Pais=%{x}<br>Total de Mortes=%{y}<extra></extra>",
         "legendgroup": "Finland",
         "marker": {
          "color": "#FFA15A"
         },
         "name": "Finland",
         "notched": false,
         "offsetgroup": "Finland",
         "orientation": "v",
         "showlegend": true,
         "type": "box",
         "x": [
          "Finland"
         ],
         "x0": " ",
         "xaxis": "x",
         "y": [
          5315.472377405338
         ],
         "y0": " ",
         "yaxis": "y"
        },
        {
         "alignmentgroup": "True",
         "hovertemplate": "Pais=%{x}<br>Total de Mortes=%{y}<extra></extra>",
         "legendgroup": "France",
         "marker": {
          "color": "#19d3f3"
         },
         "name": "France",
         "notched": false,
         "offsetgroup": "France",
         "orientation": "v",
         "showlegend": true,
         "type": "box",
         "x": [
          "France"
         ],
         "x0": " ",
         "xaxis": "x",
         "y": [
          123143.88216957606
         ],
         "y0": " ",
         "yaxis": "y"
        },
        {
         "alignmentgroup": "True",
         "hovertemplate": "Pais=%{x}<br>Total de Mortes=%{y}<extra></extra>",
         "legendgroup": "French Guiana",
         "marker": {
          "color": "#FF6692"
         },
         "name": "French Guiana",
         "notched": false,
         "offsetgroup": "French Guiana",
         "orientation": "v",
         "showlegend": true,
         "type": "box",
         "x": [
          "French Guiana"
         ],
         "x0": " ",
         "xaxis": "x",
         "y": [
          294.5377720870679
         ],
         "y0": " ",
         "yaxis": "y"
        },
        {
         "alignmentgroup": "True",
         "hovertemplate": "Pais=%{x}<br>Total de Mortes=%{y}<extra></extra>",
         "legendgroup": "French Polynesia",
         "marker": {
          "color": "#B6E880"
         },
         "name": "French Polynesia",
         "notched": false,
         "offsetgroup": "French Polynesia",
         "orientation": "v",
         "showlegend": true,
         "type": "box",
         "x": [
          "French Polynesia"
         ],
         "x0": " ",
         "xaxis": "x",
         "y": [
          512.225035161744
         ],
         "y0": " ",
         "yaxis": "y"
        },
        {
         "alignmentgroup": "True",
         "hovertemplate": "Pais=%{x}<br>Total de Mortes=%{y}<extra></extra>",
         "legendgroup": "Gabon",
         "marker": {
          "color": "#FF97FF"
         },
         "name": "Gabon",
         "notched": false,
         "offsetgroup": "Gabon",
         "orientation": "v",
         "showlegend": true,
         "type": "box",
         "x": [
          "Gabon"
         ],
         "x0": " ",
         "xaxis": "x",
         "y": [
          226.58622867972204
         ],
         "y0": " ",
         "yaxis": "y"
        },
        {
         "alignmentgroup": "True",
         "hovertemplate": "Pais=%{x}<br>Total de Mortes=%{y}<extra></extra>",
         "legendgroup": "Gambia",
         "marker": {
          "color": "#FECB52"
         },
         "name": "Gambia",
         "notched": false,
         "offsetgroup": "Gambia",
         "orientation": "v",
         "showlegend": true,
         "type": "box",
         "x": [
          "Gambia"
         ],
         "x0": " ",
         "xaxis": "x",
         "y": [
          317.5289079229122
         ],
         "y0": " ",
         "yaxis": "y"
        },
        {
         "alignmentgroup": "True",
         "hovertemplate": "Pais=%{x}<br>Total de Mortes=%{y}<extra></extra>",
         "legendgroup": "Georgia",
         "marker": {
          "color": "#636efa"
         },
         "name": "Georgia",
         "notched": false,
         "offsetgroup": "Georgia",
         "orientation": "v",
         "showlegend": true,
         "type": "box",
         "x": [
          "Georgia"
         ],
         "x0": " ",
         "xaxis": "x",
         "y": [
          11601.445356917246
         ],
         "y0": " ",
         "yaxis": "y"
        },
        {
         "alignmentgroup": "True",
         "hovertemplate": "Pais=%{x}<br>Total de Mortes=%{y}<extra></extra>",
         "legendgroup": "Germany",
         "marker": {
          "color": "#EF553B"
         },
         "name": "Germany",
         "notched": false,
         "offsetgroup": "Germany",
         "orientation": "v",
         "showlegend": true,
         "type": "box",
         "x": [
          "Germany"
         ],
         "x0": " ",
         "xaxis": "x",
         "y": [
          113734.65770609319
         ],
         "y0": " ",
         "yaxis": "y"
        },
        {
         "alignmentgroup": "True",
         "hovertemplate": "Pais=%{x}<br>Total de Mortes=%{y}<extra></extra>",
         "legendgroup": "Ghana",
         "marker": {
          "color": "#00cc96"
         },
         "name": "Ghana",
         "notched": false,
         "offsetgroup": "Ghana",
         "orientation": "v",
         "showlegend": true,
         "type": "box",
         "x": [
          "Ghana"
         ],
         "x0": " ",
         "xaxis": "x",
         "y": [
          1224.1889204545455
         ],
         "y0": " ",
         "yaxis": "y"
        },
        {
         "alignmentgroup": "True",
         "hovertemplate": "Pais=%{x}<br>Total de Mortes=%{y}<extra></extra>",
         "legendgroup": "Gibraltar",
         "marker": {
          "color": "#ab63fa"
         },
         "name": "Gibraltar",
         "notched": false,
         "offsetgroup": "Gibraltar",
         "orientation": "v",
         "showlegend": true,
         "type": "box",
         "x": [
          "Gibraltar"
         ],
         "x0": " ",
         "xaxis": "x",
         "y": [
          100.28771155261221
         ],
         "y0": " ",
         "yaxis": "y"
        },
        {
         "alignmentgroup": "True",
         "hovertemplate": "Pais=%{x}<br>Total de Mortes=%{y}<extra></extra>",
         "legendgroup": "Greece",
         "marker": {
          "color": "#FFA15A"
         },
         "name": "Greece",
         "notched": false,
         "offsetgroup": "Greece",
         "orientation": "v",
         "showlegend": true,
         "type": "box",
         "x": [
          "Greece"
         ],
         "x0": " ",
         "xaxis": "x",
         "y": [
          23372.468827930174
         ],
         "y0": " ",
         "yaxis": "y"
        },
        {
         "alignmentgroup": "True",
         "hovertemplate": "Pais=%{x}<br>Total de Mortes=%{y}<extra></extra>",
         "legendgroup": "Greenland",
         "marker": {
          "color": "#19d3f3"
         },
         "name": "Greenland",
         "notched": false,
         "offsetgroup": "Greenland",
         "orientation": "v",
         "showlegend": true,
         "type": "box",
         "x": [
          "Greenland"
         ],
         "x0": " ",
         "xaxis": "x",
         "y": [
          19.85414480587618
         ],
         "y0": " ",
         "yaxis": "y"
        },
        {
         "alignmentgroup": "True",
         "hovertemplate": "Pais=%{x}<br>Total de Mortes=%{y}<extra></extra>",
         "legendgroup": "Grenada",
         "marker": {
          "color": "#FF6692"
         },
         "name": "Grenada",
         "notched": false,
         "offsetgroup": "Grenada",
         "orientation": "v",
         "showlegend": true,
         "type": "box",
         "x": [
          "Grenada"
         ],
         "x0": " ",
         "xaxis": "x",
         "y": [
          184.207981580967
         ],
         "y0": " ",
         "yaxis": "y"
        },
        {
         "alignmentgroup": "True",
         "hovertemplate": "Pais=%{x}<br>Total de Mortes=%{y}<extra></extra>",
         "legendgroup": "Guadeloupe",
         "marker": {
          "color": "#B6E880"
         },
         "name": "Guadeloupe",
         "notched": false,
         "offsetgroup": "Guadeloupe",
         "orientation": "v",
         "showlegend": true,
         "type": "box",
         "x": [
          "Guadeloupe"
         ],
         "x0": " ",
         "xaxis": "x",
         "y": [
          694.166037735849
         ],
         "y0": " ",
         "yaxis": "y"
        },
        {
         "alignmentgroup": "True",
         "hovertemplate": "Pais=%{x}<br>Total de Mortes=%{y}<extra></extra>",
         "legendgroup": "Guam",
         "marker": {
          "color": "#FF97FF"
         },
         "name": "Guam",
         "notched": false,
         "offsetgroup": "Guam",
         "orientation": "v",
         "showlegend": true,
         "type": "box",
         "x": [
          "Guam"
         ],
         "x0": " ",
         "xaxis": "x",
         "y": [
          279.99056603773585
         ],
         "y0": " ",
         "yaxis": "y"
        },
        {
         "alignmentgroup": "True",
         "hovertemplate": "Pais=%{x}<br>Total de Mortes=%{y}<extra></extra>",
         "legendgroup": "Guatemala",
         "marker": {
          "color": "#FECB52"
         },
         "name": "Guatemala",
         "notched": false,
         "offsetgroup": "Guatemala",
         "orientation": "v",
         "showlegend": true,
         "type": "box",
         "x": [
          "Guatemala"
         ],
         "x0": " ",
         "xaxis": "x",
         "y": [
          14207.8090169067
         ],
         "y0": " ",
         "yaxis": "y"
        },
        {
         "alignmentgroup": "True",
         "hovertemplate": "Pais=%{x}<br>Total de Mortes=%{y}<extra></extra>",
         "legendgroup": "Guernsey",
         "marker": {
          "color": "#636efa"
         },
         "name": "Guernsey",
         "notched": false,
         "offsetgroup": "Guernsey",
         "orientation": "v",
         "showlegend": true,
         "type": "box",
         "x": [
          "Guernsey"
         ],
         "x0": " ",
         "xaxis": "x",
         "y": [
          41.92293114339861
         ],
         "y0": " ",
         "yaxis": "y"
        },
        {
         "alignmentgroup": "True",
         "hovertemplate": "Pais=%{x}<br>Total de Mortes=%{y}<extra></extra>",
         "legendgroup": "Guinea",
         "marker": {
          "color": "#EF553B"
         },
         "name": "Guinea",
         "notched": false,
         "offsetgroup": "Guinea",
         "orientation": "v",
         "showlegend": true,
         "type": "box",
         "x": [
          "Guinea"
         ],
         "x0": " ",
         "xaxis": "x",
         "y": [
          337.3288718929254
         ],
         "y0": " ",
         "yaxis": "y"
        },
        {
         "alignmentgroup": "True",
         "hovertemplate": "Pais=%{x}<br>Total de Mortes=%{y}<extra></extra>",
         "legendgroup": "Guinea-Bissau",
         "marker": {
          "color": "#00cc96"
         },
         "name": "Guinea-Bissau",
         "notched": false,
         "offsetgroup": "Guinea-Bissau",
         "orientation": "v",
         "showlegend": true,
         "type": "box",
         "x": [
          "Guinea-Bissau"
         ],
         "x0": " ",
         "xaxis": "x",
         "y": [
          131.67331189710612
         ],
         "y0": " ",
         "yaxis": "y"
        },
        {
         "alignmentgroup": "True",
         "hovertemplate": "Pais=%{x}<br>Total de Mortes=%{y}<extra></extra>",
         "legendgroup": "Guyana",
         "marker": {
          "color": "#ab63fa"
         },
         "name": "Guyana",
         "notched": false,
         "offsetgroup": "Guyana",
         "orientation": "v",
         "showlegend": true,
         "type": "box",
         "x": [
          "Guyana"
         ],
         "x0": " ",
         "xaxis": "x",
         "y": [
          878.8229426433916
         ],
         "y0": " ",
         "yaxis": "y"
        },
        {
         "alignmentgroup": "True",
         "hovertemplate": "Pais=%{x}<br>Total de Mortes=%{y}<extra></extra>",
         "legendgroup": "Haiti",
         "marker": {
          "color": "#FFA15A"
         },
         "name": "Haiti",
         "notched": false,
         "offsetgroup": "Haiti",
         "orientation": "v",
         "showlegend": true,
         "type": "box",
         "x": [
          "Haiti"
         ],
         "x0": " ",
         "xaxis": "x",
         "y": [
          641.8185279187817
         ],
         "y0": " ",
         "yaxis": "y"
        },
        {
         "alignmentgroup": "True",
         "hovertemplate": "Pais=%{x}<br>Total de Mortes=%{y}<extra></extra>",
         "legendgroup": "High-income countries",
         "marker": {
          "color": "#19d3f3"
         },
         "name": "High-income countries",
         "notched": false,
         "offsetgroup": "High-income countries",
         "orientation": "v",
         "showlegend": true,
         "type": "box",
         "x": [
          "High-income countries"
         ],
         "x0": " ",
         "xaxis": "x",
         "y": [
          1973653.174432497
         ],
         "y0": " ",
         "yaxis": "y"
        },
        {
         "alignmentgroup": "True",
         "hovertemplate": "Pais=%{x}<br>Total de Mortes=%{y}<extra></extra>",
         "legendgroup": "Honduras",
         "marker": {
          "color": "#FF6692"
         },
         "name": "Honduras",
         "notched": false,
         "offsetgroup": "Honduras",
         "orientation": "v",
         "showlegend": true,
         "type": "box",
         "x": [
          "Honduras"
         ],
         "x0": " ",
         "xaxis": "x",
         "y": [
          8429.830188679245
         ],
         "y0": " ",
         "yaxis": "y"
        },
        {
         "alignmentgroup": "True",
         "hovertemplate": "Pais=%{x}<br>Total de Mortes=%{y}<extra></extra>",
         "legendgroup": "Hungary",
         "marker": {
          "color": "#B6E880"
         },
         "name": "Hungary",
         "notched": false,
         "offsetgroup": "Hungary",
         "orientation": "v",
         "showlegend": true,
         "type": "box",
         "x": [
          "Hungary"
         ],
         "x0": " ",
         "xaxis": "x",
         "y": [
          34538.82654978084
         ],
         "y0": " ",
         "yaxis": "y"
        },
        {
         "alignmentgroup": "True",
         "hovertemplate": "Pais=%{x}<br>Total de Mortes=%{y}<extra></extra>",
         "legendgroup": "Iceland",
         "marker": {
          "color": "#FF97FF"
         },
         "name": "Iceland",
         "notched": false,
         "offsetgroup": "Iceland",
         "orientation": "v",
         "showlegend": true,
         "type": "box",
         "x": [
          "Iceland"
         ],
         "x0": " ",
         "xaxis": "x",
         "y": [
          102.02629931120852
         ],
         "y0": " ",
         "yaxis": "y"
        },
        {
         "alignmentgroup": "True",
         "hovertemplate": "Pais=%{x}<br>Total de Mortes=%{y}<extra></extra>",
         "legendgroup": "India",
         "marker": {
          "color": "#FECB52"
         },
         "name": "India",
         "notched": false,
         "offsetgroup": "India",
         "orientation": "v",
         "showlegend": true,
         "type": "box",
         "x": [
          "India"
         ],
         "x0": " ",
         "xaxis": "x",
         "y": [
          396917.7481296758
         ],
         "y0": " ",
         "yaxis": "y"
        },
        {
         "alignmentgroup": "True",
         "hovertemplate": "Pais=%{x}<br>Total de Mortes=%{y}<extra></extra>",
         "legendgroup": "Indonesia",
         "marker": {
          "color": "#636efa"
         },
         "name": "Indonesia",
         "notched": false,
         "offsetgroup": "Indonesia",
         "orientation": "v",
         "showlegend": true,
         "type": "box",
         "x": [
          "Indonesia"
         ],
         "x0": " ",
         "xaxis": "x",
         "y": [
          114112.05922693267
         ],
         "y0": " ",
         "yaxis": "y"
        },
        {
         "alignmentgroup": "True",
         "hovertemplate": "Pais=%{x}<br>Total de Mortes=%{y}<extra></extra>",
         "legendgroup": "Iran",
         "marker": {
          "color": "#EF553B"
         },
         "name": "Iran",
         "notched": false,
         "offsetgroup": "Iran",
         "orientation": "v",
         "showlegend": true,
         "type": "box",
         "x": [
          "Iran"
         ],
         "x0": " ",
         "xaxis": "x",
         "y": [
          107899.62276923077
         ],
         "y0": " ",
         "yaxis": "y"
        },
        {
         "alignmentgroup": "True",
         "hovertemplate": "Pais=%{x}<br>Total de Mortes=%{y}<extra></extra>",
         "legendgroup": "Iraq",
         "marker": {
          "color": "#00cc96"
         },
         "name": "Iraq",
         "notched": false,
         "offsetgroup": "Iraq",
         "orientation": "v",
         "showlegend": true,
         "type": "box",
         "x": [
          "Iraq"
         ],
         "x0": " ",
         "xaxis": "x",
         "y": [
          19915.50837988827
         ],
         "y0": " ",
         "yaxis": "y"
        },
        {
         "alignmentgroup": "True",
         "hovertemplate": "Pais=%{x}<br>Total de Mortes=%{y}<extra></extra>",
         "legendgroup": "Ireland",
         "marker": {
          "color": "#ab63fa"
         },
         "name": "Ireland",
         "notched": false,
         "offsetgroup": "Ireland",
         "orientation": "v",
         "showlegend": true,
         "type": "box",
         "x": [
          "Ireland"
         ],
         "x0": " ",
         "xaxis": "x",
         "y": [
          6433.356300434512
         ],
         "y0": " ",
         "yaxis": "y"
        },
        {
         "alignmentgroup": "True",
         "hovertemplate": "Pais=%{x}<br>Total de Mortes=%{y}<extra></extra>",
         "legendgroup": "Isle of Man",
         "marker": {
          "color": "#FFA15A"
         },
         "name": "Isle of Man",
         "notched": false,
         "offsetgroup": "Isle of Man",
         "orientation": "v",
         "showlegend": true,
         "type": "box",
         "x": [
          "Isle of Man"
         ],
         "x0": " ",
         "xaxis": "x",
         "y": [
          81.79595704358812
         ],
         "y0": " ",
         "yaxis": "y"
        },
        {
         "alignmentgroup": "True",
         "hovertemplate": "Pais=%{x}<br>Total de Mortes=%{y}<extra></extra>",
         "legendgroup": "Israel",
         "marker": {
          "color": "#19d3f3"
         },
         "name": "Israel",
         "notched": false,
         "offsetgroup": "Israel",
         "orientation": "v",
         "showlegend": true,
         "type": "box",
         "x": [
          "Israel"
         ],
         "x0": " ",
         "xaxis": "x",
         "y": [
          8792.268628678772
         ],
         "y0": " ",
         "yaxis": "y"
        },
        {
         "alignmentgroup": "True",
         "hovertemplate": "Pais=%{x}<br>Total de Mortes=%{y}<extra></extra>",
         "legendgroup": "Italy",
         "marker": {
          "color": "#FF6692"
         },
         "name": "Italy",
         "notched": false,
         "offsetgroup": "Italy",
         "orientation": "v",
         "showlegend": true,
         "type": "box",
         "x": [
          "Italy"
         ],
         "x0": " ",
         "xaxis": "x",
         "y": [
          139558.064
         ],
         "y0": " ",
         "yaxis": "y"
        },
        {
         "alignmentgroup": "True",
         "hovertemplate": "Pais=%{x}<br>Total de Mortes=%{y}<extra></extra>",
         "legendgroup": "Jamaica",
         "marker": {
          "color": "#B6E880"
         },
         "name": "Jamaica",
         "notched": false,
         "offsetgroup": "Jamaica",
         "orientation": "v",
         "showlegend": true,
         "type": "box",
         "x": [
          "Jamaica"
         ],
         "x0": " ",
         "xaxis": "x",
         "y": [
          2296.6700062617406
         ],
         "y0": " ",
         "yaxis": "y"
        },
        {
         "alignmentgroup": "True",
         "hovertemplate": "Pais=%{x}<br>Total de Mortes=%{y}<extra></extra>",
         "legendgroup": "Japan",
         "marker": {
          "color": "#FF97FF"
         },
         "name": "Japan",
         "notched": false,
         "offsetgroup": "Japan",
         "orientation": "v",
         "showlegend": true,
         "type": "box",
         "x": [
          "Japan"
         ],
         "x0": " ",
         "xaxis": "x",
         "y": [
          36981.33272058824
         ],
         "y0": " ",
         "yaxis": "y"
        },
        {
         "alignmentgroup": "True",
         "hovertemplate": "Pais=%{x}<br>Total de Mortes=%{y}<extra></extra>",
         "legendgroup": "Jersey",
         "marker": {
          "color": "#FECB52"
         },
         "name": "Jersey",
         "notched": false,
         "offsetgroup": "Jersey",
         "orientation": "v",
         "showlegend": true,
         "type": "box",
         "x": [
          "Jersey"
         ],
         "x0": " ",
         "xaxis": "x",
         "y": [
          109.28364779874214
         ],
         "y0": " ",
         "yaxis": "y"
        },
        {
         "alignmentgroup": "True",
         "hovertemplate": "Pais=%{x}<br>Total de Mortes=%{y}<extra></extra>",
         "legendgroup": "Jordan",
         "marker": {
          "color": "#636efa"
         },
         "name": "Jordan",
         "notched": false,
         "offsetgroup": "Jordan",
         "orientation": "v",
         "showlegend": true,
         "type": "box",
         "x": [
          "Jordan"
         ],
         "x0": " ",
         "xaxis": "x",
         "y": [
          10477.386163522013
         ],
         "y0": " ",
         "yaxis": "y"
        },
        {
         "alignmentgroup": "True",
         "hovertemplate": "Pais=%{x}<br>Total de Mortes=%{y}<extra></extra>",
         "legendgroup": "Kazakhstan",
         "marker": {
          "color": "#EF553B"
         },
         "name": "Kazakhstan",
         "notched": false,
         "offsetgroup": "Kazakhstan",
         "orientation": "v",
         "showlegend": true,
         "type": "box",
         "x": [
          "Kazakhstan"
         ],
         "x0": " ",
         "xaxis": "x",
         "y": [
          13745.110062893082
         ],
         "y0": " ",
         "yaxis": "y"
        },
        {
         "alignmentgroup": "True",
         "hovertemplate": "Pais=%{x}<br>Total de Mortes=%{y}<extra></extra>",
         "legendgroup": "Kenya",
         "marker": {
          "color": "#00cc96"
         },
         "name": "Kenya",
         "notched": false,
         "offsetgroup": "Kenya",
         "orientation": "v",
         "showlegend": true,
         "type": "box",
         "x": [
          "Kenya"
         ],
         "x0": " ",
         "xaxis": "x",
         "y": [
          4294.952201257862
         ],
         "y0": " ",
         "yaxis": "y"
        },
        {
         "alignmentgroup": "True",
         "hovertemplate": "Pais=%{x}<br>Total de Mortes=%{y}<extra></extra>",
         "legendgroup": "Kiribati",
         "marker": {
          "color": "#ab63fa"
         },
         "name": "Kiribati",
         "notched": false,
         "offsetgroup": "Kiribati",
         "orientation": "v",
         "showlegend": true,
         "type": "box",
         "x": [
          "Kiribati"
         ],
         "x0": " ",
         "xaxis": "x",
         "y": [
          19.021017699115045
         ],
         "y0": " ",
         "yaxis": "y"
        },
        {
         "alignmentgroup": "True",
         "hovertemplate": "Pais=%{x}<br>Total de Mortes=%{y}<extra></extra>",
         "legendgroup": "Kosovo",
         "marker": {
          "color": "#FFA15A"
         },
         "name": "Kosovo",
         "notched": false,
         "offsetgroup": "Kosovo",
         "orientation": "v",
         "showlegend": true,
         "type": "box",
         "x": [
          "Kosovo"
         ],
         "x0": " ",
         "xaxis": "x",
         "y": [
          2473.71696931747
         ],
         "y0": " ",
         "yaxis": "y"
        },
        {
         "alignmentgroup": "True",
         "hovertemplate": "Pais=%{x}<br>Total de Mortes=%{y}<extra></extra>",
         "legendgroup": "Kuwait",
         "marker": {
          "color": "#19d3f3"
         },
         "name": "Kuwait",
         "notched": false,
         "offsetgroup": "Kuwait",
         "orientation": "v",
         "showlegend": true,
         "type": "box",
         "x": [
          "Kuwait"
         ],
         "x0": " ",
         "xaxis": "x",
         "y": [
          2043.6645609602022
         ],
         "y0": " ",
         "yaxis": "y"
        },
        {
         "alignmentgroup": "True",
         "hovertemplate": "Pais=%{x}<br>Total de Mortes=%{y}<extra></extra>",
         "legendgroup": "Kyrgyzstan",
         "marker": {
          "color": "#FF6692"
         },
         "name": "Kyrgyzstan",
         "notched": false,
         "offsetgroup": "Kyrgyzstan",
         "orientation": "v",
         "showlegend": true,
         "type": "box",
         "x": [
          "Kyrgyzstan"
         ],
         "x0": " ",
         "xaxis": "x",
         "y": [
          946.4079295154185
         ],
         "y0": " ",
         "yaxis": "y"
        },
        {
         "alignmentgroup": "True",
         "hovertemplate": "Pais=%{x}<br>Total de Mortes=%{y}<extra></extra>",
         "legendgroup": "Laos",
         "marker": {
          "color": "#B6E880"
         },
         "name": "Laos",
         "notched": false,
         "offsetgroup": "Laos",
         "orientation": "v",
         "showlegend": true,
         "type": "box",
         "x": [
          "Laos"
         ],
         "x0": " ",
         "xaxis": "x",
         "y": [
          539.129222972973
         ],
         "y0": " ",
         "yaxis": "y"
        },
        {
         "alignmentgroup": "True",
         "hovertemplate": "Pais=%{x}<br>Total de Mortes=%{y}<extra></extra>",
         "legendgroup": "Latvia",
         "marker": {
          "color": "#FF97FF"
         },
         "name": "Latvia",
         "notched": false,
         "offsetgroup": "Latvia",
         "orientation": "v",
         "showlegend": true,
         "type": "box",
         "x": [
          "Latvia"
         ],
         "x0": " ",
         "xaxis": "x",
         "y": [
          4795.84396715098
         ],
         "y0": " ",
         "yaxis": "y"
        },
        {
         "alignmentgroup": "True",
         "hovertemplate": "Pais=%{x}<br>Total de Mortes=%{y}<extra></extra>",
         "legendgroup": "Lebanon",
         "marker": {
          "color": "#FECB52"
         },
         "name": "Lebanon",
         "notched": false,
         "offsetgroup": "Lebanon",
         "orientation": "v",
         "showlegend": true,
         "type": "box",
         "x": [
          "Lebanon"
         ],
         "x0": " ",
         "xaxis": "x",
         "y": [
          7951.562967581048
         ],
         "y0": " ",
         "yaxis": "y"
        },
        {
         "alignmentgroup": "True",
         "hovertemplate": "Pais=%{x}<br>Total de Mortes=%{y}<extra></extra>",
         "legendgroup": "Lesotho",
         "marker": {
          "color": "#636efa"
         },
         "name": "Lesotho",
         "notched": false,
         "offsetgroup": "Lesotho",
         "orientation": "v",
         "showlegend": true,
         "type": "box",
         "x": [
          "Lesotho"
         ],
         "x0": " ",
         "xaxis": "x",
         "y": [
          554.0666666666667
         ],
         "y0": " ",
         "yaxis": "y"
        },
        {
         "alignmentgroup": "True",
         "hovertemplate": "Pais=%{x}<br>Total de Mortes=%{y}<extra></extra>",
         "legendgroup": "Liberia",
         "marker": {
          "color": "#EF553B"
         },
         "name": "Liberia",
         "notched": false,
         "offsetgroup": "Liberia",
         "orientation": "v",
         "showlegend": true,
         "type": "box",
         "x": [
          "Liberia"
         ],
         "x0": " ",
         "xaxis": "x",
         "y": [
          229.62034112444726
         ],
         "y0": " ",
         "yaxis": "y"
        },
        {
         "alignmentgroup": "True",
         "hovertemplate": "Pais=%{x}<br>Total de Mortes=%{y}<extra></extra>",
         "legendgroup": "Libya",
         "marker": {
          "color": "#00cc96"
         },
         "name": "Libya",
         "notched": false,
         "offsetgroup": "Libya",
         "orientation": "v",
         "showlegend": true,
         "type": "box",
         "x": [
          "Libya"
         ],
         "x0": " ",
         "xaxis": "x",
         "y": [
          4705.868603916614
         ],
         "y0": " ",
         "yaxis": "y"
        },
        {
         "alignmentgroup": "True",
         "hovertemplate": "Pais=%{x}<br>Total de Mortes=%{y}<extra></extra>",
         "legendgroup": "Liechtenstein",
         "marker": {
          "color": "#ab63fa"
         },
         "name": "Liechtenstein",
         "notched": false,
         "offsetgroup": "Liechtenstein",
         "orientation": "v",
         "showlegend": true,
         "type": "box",
         "x": [
          "Liechtenstein"
         ],
         "x0": " ",
         "xaxis": "x",
         "y": [
          65.25394819962098
         ],
         "y0": " ",
         "yaxis": "y"
        },
        {
         "alignmentgroup": "True",
         "hovertemplate": "Pais=%{x}<br>Total de Mortes=%{y}<extra></extra>",
         "legendgroup": "Lithuania",
         "marker": {
          "color": "#FFA15A"
         },
         "name": "Lithuania",
         "notched": false,
         "offsetgroup": "Lithuania",
         "orientation": "v",
         "showlegend": true,
         "type": "box",
         "x": [
          "Lithuania"
         ],
         "x0": " ",
         "xaxis": "x",
         "y": [
          6665.511949685535
         ],
         "y0": " ",
         "yaxis": "y"
        },
        {
         "alignmentgroup": "True",
         "hovertemplate": "Pais=%{x}<br>Total de Mortes=%{y}<extra></extra>",
         "legendgroup": "Low-income countries",
         "marker": {
          "color": "#19d3f3"
         },
         "name": "Low-income countries",
         "notched": false,
         "offsetgroup": "Low-income countries",
         "orientation": "v",
         "showlegend": true,
         "type": "box",
         "x": [
          "Low-income countries"
         ],
         "x0": " ",
         "xaxis": "x",
         "y": [
          31673.95012468828
         ],
         "y0": " ",
         "yaxis": "y"
        },
        {
         "alignmentgroup": "True",
         "hovertemplate": "Pais=%{x}<br>Total de Mortes=%{y}<extra></extra>",
         "legendgroup": "Lower-middle-income countries",
         "marker": {
          "color": "#FF6692"
         },
         "name": "Lower-middle-income countries",
         "notched": false,
         "offsetgroup": "Lower-middle-income countries",
         "orientation": "v",
         "showlegend": true,
         "type": "box",
         "x": [
          "Lower-middle-income countries"
         ],
         "x0": " ",
         "xaxis": "x",
         "y": [
          841928.5085054678
         ],
         "y0": " ",
         "yaxis": "y"
        },
        {
         "alignmentgroup": "True",
         "hovertemplate": "Pais=%{x}<br>Total de Mortes=%{y}<extra></extra>",
         "legendgroup": "Luxembourg",
         "marker": {
          "color": "#B6E880"
         },
         "name": "Luxembourg",
         "notched": false,
         "offsetgroup": "Luxembourg",
         "orientation": "v",
         "showlegend": true,
         "type": "box",
         "x": [
          "Luxembourg"
         ],
         "x0": " ",
         "xaxis": "x",
         "y": [
          690.6733167082294
         ],
         "y0": " ",
         "yaxis": "y"
        },
        {
         "alignmentgroup": "True",
         "hovertemplate": "Pais=%{x}<br>Total de Mortes=%{y}<extra></extra>",
         "legendgroup": "Madagascar",
         "marker": {
          "color": "#FF97FF"
         },
         "name": "Madagascar",
         "notched": false,
         "offsetgroup": "Madagascar",
         "orientation": "v",
         "showlegend": true,
         "type": "box",
         "x": [
          "Madagascar"
         ],
         "x0": " ",
         "xaxis": "x",
         "y": [
          1050.7202572347267
         ],
         "y0": " ",
         "yaxis": "y"
        },
        {
         "alignmentgroup": "True",
         "hovertemplate": "Pais=%{x}<br>Total de Mortes=%{y}<extra></extra>",
         "legendgroup": "Malawi",
         "marker": {
          "color": "#FECB52"
         },
         "name": "Malawi",
         "notched": false,
         "offsetgroup": "Malawi",
         "orientation": "v",
         "showlegend": true,
         "type": "box",
         "x": [
          "Malawi"
         ],
         "x0": " ",
         "xaxis": "x",
         "y": [
          1969.0640862944163
         ],
         "y0": " ",
         "yaxis": "y"
        },
        {
         "alignmentgroup": "True",
         "hovertemplate": "Pais=%{x}<br>Total de Mortes=%{y}<extra></extra>",
         "legendgroup": "Malaysia",
         "marker": {
          "color": "#636efa"
         },
         "name": "Malaysia",
         "notched": false,
         "offsetgroup": "Malaysia",
         "orientation": "v",
         "showlegend": true,
         "type": "box",
         "x": [
          "Malaysia"
         ],
         "x0": " ",
         "xaxis": "x",
         "y": [
          24253.219787100814
         ],
         "y0": " ",
         "yaxis": "y"
        },
        {
         "alignmentgroup": "True",
         "hovertemplate": "Pais=%{x}<br>Total de Mortes=%{y}<extra></extra>",
         "legendgroup": "Maldives",
         "marker": {
          "color": "#EF553B"
         },
         "name": "Maldives",
         "notched": false,
         "offsetgroup": "Maldives",
         "orientation": "v",
         "showlegend": true,
         "type": "box",
         "x": [
          "Maldives"
         ],
         "x0": " ",
         "xaxis": "x",
         "y": [
          230.10032154340837
         ],
         "y0": " ",
         "yaxis": "y"
        },
        {
         "alignmentgroup": "True",
         "hovertemplate": "Pais=%{x}<br>Total de Mortes=%{y}<extra></extra>",
         "legendgroup": "Mali",
         "marker": {
          "color": "#00cc96"
         },
         "name": "Mali",
         "notched": false,
         "offsetgroup": "Mali",
         "orientation": "v",
         "showlegend": true,
         "type": "box",
         "x": [
          "Mali"
         ],
         "x0": " ",
         "xaxis": "x",
         "y": [
          569.937106918239
         ],
         "y0": " ",
         "yaxis": "y"
        },
        {
         "alignmentgroup": "True",
         "hovertemplate": "Pais=%{x}<br>Total de Mortes=%{y}<extra></extra>",
         "legendgroup": "Malta",
         "marker": {
          "color": "#ab63fa"
         },
         "name": "Malta",
         "notched": false,
         "offsetgroup": "Malta",
         "orientation": "v",
         "showlegend": true,
         "type": "box",
         "x": [
          "Malta"
         ],
         "x0": " ",
         "xaxis": "x",
         "y": [
          600.0888324873097
         ],
         "y0": " ",
         "yaxis": "y"
        },
        {
         "alignmentgroup": "True",
         "hovertemplate": "Pais=%{x}<br>Total de Mortes=%{y}<extra></extra>",
         "legendgroup": "Marshall Islands",
         "marker": {
          "color": "#FFA15A"
         },
         "name": "Marshall Islands",
         "notched": false,
         "offsetgroup": "Marshall Islands",
         "orientation": "v",
         "showlegend": true,
         "type": "box",
         "x": [
          "Marshall Islands"
         ],
         "x0": " ",
         "xaxis": "x",
         "y": [
          16.844875346260388
         ],
         "y0": " ",
         "yaxis": "y"
        },
        {
         "alignmentgroup": "True",
         "hovertemplate": "Pais=%{x}<br>Total de Mortes=%{y}<extra></extra>",
         "legendgroup": "Martinique",
         "marker": {
          "color": "#19d3f3"
         },
         "name": "Martinique",
         "notched": false,
         "offsetgroup": "Martinique",
         "orientation": "v",
         "showlegend": true,
         "type": "box",
         "x": [
          "Martinique"
         ],
         "x0": " ",
         "xaxis": "x",
         "y": [
          691.5194968553459
         ],
         "y0": " ",
         "yaxis": "y"
        },
        {
         "alignmentgroup": "True",
         "hovertemplate": "Pais=%{x}<br>Total de Mortes=%{y}<extra></extra>",
         "legendgroup": "Mauritania",
         "marker": {
          "color": "#FF6692"
         },
         "name": "Mauritania",
         "notched": false,
         "offsetgroup": "Mauritania",
         "orientation": "v",
         "showlegend": true,
         "type": "box",
         "x": [
          "Mauritania"
         ],
         "x0": " ",
         "xaxis": "x",
         "y": [
          771.5540113708149
         ],
         "y0": " ",
         "yaxis": "y"
        },
        {
         "alignmentgroup": "True",
         "hovertemplate": "Pais=%{x}<br>Total de Mortes=%{y}<extra></extra>",
         "legendgroup": "Mauritius",
         "marker": {
          "color": "#B6E880"
         },
         "name": "Mauritius",
         "notched": false,
         "offsetgroup": "Mauritius",
         "orientation": "v",
         "showlegend": true,
         "type": "box",
         "x": [
          "Mauritius"
         ],
         "x0": " ",
         "xaxis": "x",
         "y": [
          633.8979336255479
         ],
         "y0": " ",
         "yaxis": "y"
        },
        {
         "alignmentgroup": "True",
         "hovertemplate": "Pais=%{x}<br>Total de Mortes=%{y}<extra></extra>",
         "legendgroup": "Mayotte",
         "marker": {
          "color": "#FF97FF"
         },
         "name": "Mayotte",
         "notched": false,
         "offsetgroup": "Mayotte",
         "orientation": "v",
         "showlegend": true,
         "type": "box",
         "x": [
          "Mayotte"
         ],
         "x0": " ",
         "xaxis": "x",
         "y": [
          153.21604548325962
         ],
         "y0": " ",
         "yaxis": "y"
        },
        {
         "alignmentgroup": "True",
         "hovertemplate": "Pais=%{x}<br>Total de Mortes=%{y}<extra></extra>",
         "legendgroup": "Mexico",
         "marker": {
          "color": "#FECB52"
         },
         "name": "Mexico",
         "notched": false,
         "offsetgroup": "Mexico",
         "orientation": "v",
         "showlegend": true,
         "type": "box",
         "x": [
          "Mexico"
         ],
         "x0": " ",
         "xaxis": "x",
         "y": [
          263790.92360676266
         ],
         "y0": " ",
         "yaxis": "y"
        },
        {
         "alignmentgroup": "True",
         "hovertemplate": "Pais=%{x}<br>Total de Mortes=%{y}<extra></extra>",
         "legendgroup": "Micronesia (country)",
         "marker": {
          "color": "#636efa"
         },
         "name": "Micronesia (country)",
         "notched": false,
         "offsetgroup": "Micronesia (country)",
         "orientation": "v",
         "showlegend": true,
         "type": "box",
         "x": [
          "Micronesia (country)"
         ],
         "x0": " ",
         "xaxis": "x",
         "y": [
          58.9421265141319
         ],
         "y0": " ",
         "yaxis": "y"
        },
        {
         "alignmentgroup": "True",
         "hovertemplate": "Pais=%{x}<br>Total de Mortes=%{y}<extra></extra>",
         "legendgroup": "Moldova",
         "marker": {
          "color": "#EF553B"
         },
         "name": "Moldova",
         "notched": false,
         "offsetgroup": "Moldova",
         "orientation": "v",
         "showlegend": true,
         "type": "box",
         "x": [
          "Moldova"
         ],
         "x0": " ",
         "xaxis": "x",
         "y": [
          8718.48591108328
         ],
         "y0": " ",
         "yaxis": "y"
        },
        {
         "alignmentgroup": "True",
         "hovertemplate": "Pais=%{x}<br>Total de Mortes=%{y}<extra></extra>",
         "legendgroup": "Monaco",
         "marker": {
          "color": "#00cc96"
         },
         "name": "Monaco",
         "notched": false,
         "offsetgroup": "Monaco",
         "orientation": "v",
         "showlegend": true,
         "type": "box",
         "x": [
          "Monaco"
         ],
         "x0": " ",
         "xaxis": "x",
         "y": [
          45.173857868020306
         ],
         "y0": " ",
         "yaxis": "y"
        },
        {
         "alignmentgroup": "True",
         "hovertemplate": "Pais=%{x}<br>Total de Mortes=%{y}<extra></extra>",
         "legendgroup": "Mongolia",
         "marker": {
          "color": "#ab63fa"
         },
         "name": "Mongolia",
         "notched": false,
         "offsetgroup": "Mongolia",
         "orientation": "v",
         "showlegend": true,
         "type": "box",
         "x": [
          "Mongolia"
         ],
         "x0": " ",
         "xaxis": "x",
         "y": [
          1707.345166163142
         ],
         "y0": " ",
         "yaxis": "y"
        },
        {
         "alignmentgroup": "True",
         "hovertemplate": "Pais=%{x}<br>Total de Mortes=%{y}<extra></extra>",
         "legendgroup": "Montenegro",
         "marker": {
          "color": "#FFA15A"
         },
         "name": "Montenegro",
         "notched": false,
         "offsetgroup": "Montenegro",
         "orientation": "v",
         "showlegend": true,
         "type": "box",
         "x": [
          "Montenegro"
         ],
         "x0": " ",
         "xaxis": "x",
         "y": [
          1953.032154340836
         ],
         "y0": " ",
         "yaxis": "y"
        },
        {
         "alignmentgroup": "True",
         "hovertemplate": "Pais=%{x}<br>Total de Mortes=%{y}<extra></extra>",
         "legendgroup": "Montserrat",
         "marker": {
          "color": "#19d3f3"
         },
         "name": "Montserrat",
         "notched": false,
         "offsetgroup": "Montserrat",
         "orientation": "v",
         "showlegend": true,
         "type": "box",
         "x": [
          "Montserrat"
         ],
         "x0": " ",
         "xaxis": "x",
         "y": [
          4.638924455825864
         ],
         "y0": " ",
         "yaxis": "y"
        },
        {
         "alignmentgroup": "True",
         "hovertemplate": "Pais=%{x}<br>Total de Mortes=%{y}<extra></extra>",
         "legendgroup": "Morocco",
         "marker": {
          "color": "#FF6692"
         },
         "name": "Morocco",
         "notched": false,
         "offsetgroup": "Morocco",
         "orientation": "v",
         "showlegend": true,
         "type": "box",
         "x": [
          "Morocco"
         ],
         "x0": " ",
         "xaxis": "x",
         "y": [
          12344.645261845386
         ],
         "y0": " ",
         "yaxis": "y"
        },
        {
         "alignmentgroup": "True",
         "hovertemplate": "Pais=%{x}<br>Total de Mortes=%{y}<extra></extra>",
         "legendgroup": "Mozambique",
         "marker": {
          "color": "#B6E880"
         },
         "name": "Mozambique",
         "notched": false,
         "offsetgroup": "Mozambique",
         "orientation": "v",
         "showlegend": true,
         "type": "box",
         "x": [
          "Mozambique"
         ],
         "x0": " ",
         "xaxis": "x",
         "y": [
          1675.052390307793
         ],
         "y0": " ",
         "yaxis": "y"
        },
        {
         "alignmentgroup": "True",
         "hovertemplate": "Pais=%{x}<br>Total de Mortes=%{y}<extra></extra>",
         "legendgroup": "Myanmar",
         "marker": {
          "color": "#FF97FF"
         },
         "name": "Myanmar",
         "notched": false,
         "offsetgroup": "Myanmar",
         "orientation": "v",
         "showlegend": true,
         "type": "box",
         "x": [
          "Myanmar"
         ],
         "x0": " ",
         "xaxis": "x",
         "y": [
          13833.772583701832
         ],
         "y0": " ",
         "yaxis": "y"
        },
        {
         "alignmentgroup": "True",
         "hovertemplate": "Pais=%{x}<br>Total de Mortes=%{y}<extra></extra>",
         "legendgroup": "Namibia",
         "marker": {
          "color": "#FECB52"
         },
         "name": "Namibia",
         "notched": false,
         "offsetgroup": "Namibia",
         "orientation": "v",
         "showlegend": true,
         "type": "box",
         "x": [
          "Namibia"
         ],
         "x0": " ",
         "xaxis": "x",
         "y": [
          3082.719191919192
         ],
         "y0": " ",
         "yaxis": "y"
        },
        {
         "alignmentgroup": "True",
         "hovertemplate": "Pais=%{x}<br>Total de Mortes=%{y}<extra></extra>",
         "legendgroup": "Nauru",
         "marker": {
          "color": "#636efa"
         },
         "name": "Nauru",
         "notched": false,
         "offsetgroup": "Nauru",
         "orientation": "v",
         "showlegend": true,
         "type": "box",
         "x": [
          "Nauru"
         ],
         "x0": " ",
         "xaxis": "x",
         "y": [
          1
         ],
         "y0": " ",
         "yaxis": "y"
        },
        {
         "alignmentgroup": "True",
         "hovertemplate": "Pais=%{x}<br>Total de Mortes=%{y}<extra></extra>",
         "legendgroup": "Nepal",
         "marker": {
          "color": "#EF553B"
         },
         "name": "Nepal",
         "notched": false,
         "offsetgroup": "Nepal",
         "orientation": "v",
         "showlegend": true,
         "type": "box",
         "x": [
          "Nepal"
         ],
         "x0": " ",
         "xaxis": "x",
         "y": [
          9264.09669046074
         ],
         "y0": " ",
         "yaxis": "y"
        },
        {
         "alignmentgroup": "True",
         "hovertemplate": "Pais=%{x}<br>Total de Mortes=%{y}<extra></extra>",
         "legendgroup": "Netherlands",
         "marker": {
          "color": "#00cc96"
         },
         "name": "Netherlands",
         "notched": false,
         "offsetgroup": "Netherlands",
         "orientation": "v",
         "showlegend": true,
         "type": "box",
         "x": [
          "Netherlands"
         ],
         "x0": " ",
         "xaxis": "x",
         "y": [
          18426.836126629423
         ],
         "y0": " ",
         "yaxis": "y"
        },
        {
         "alignmentgroup": "True",
         "hovertemplate": "Pais=%{x}<br>Total de Mortes=%{y}<extra></extra>",
         "legendgroup": "New Caledonia",
         "marker": {
          "color": "#ab63fa"
         },
         "name": "New Caledonia",
         "notched": false,
         "offsetgroup": "New Caledonia",
         "orientation": "v",
         "showlegend": true,
         "type": "box",
         "x": [
          "New Caledonia"
         ],
         "x0": " ",
         "xaxis": "x",
         "y": [
          301.32986767485824
         ],
         "y0": " ",
         "yaxis": "y"
        },
        {
         "alignmentgroup": "True",
         "hovertemplate": "Pais=%{x}<br>Total de Mortes=%{y}<extra></extra>",
         "legendgroup": "New Zealand",
         "marker": {
          "color": "#FFA15A"
         },
         "name": "New Zealand",
         "notched": false,
         "offsetgroup": "New Zealand",
         "orientation": "v",
         "showlegend": true,
         "type": "box",
         "x": [
          "New Zealand"
         ],
         "x0": " ",
         "xaxis": "x",
         "y": [
          1533.845283018868
         ],
         "y0": " ",
         "yaxis": "y"
        },
        {
         "alignmentgroup": "True",
         "hovertemplate": "Pais=%{x}<br>Total de Mortes=%{y}<extra></extra>",
         "legendgroup": "Nicaragua",
         "marker": {
          "color": "#19d3f3"
         },
         "name": "Nicaragua",
         "notched": false,
         "offsetgroup": "Nicaragua",
         "orientation": "v",
         "showlegend": true,
         "type": "box",
         "x": [
          "Nicaragua"
         ],
         "x0": " ",
         "xaxis": "x",
         "y": [
          204.95911949685535
         ],
         "y0": " ",
         "yaxis": "y"
        },
        {
         "alignmentgroup": "True",
         "hovertemplate": "Pais=%{x}<br>Total de Mortes=%{y}<extra></extra>",
         "legendgroup": "Niger",
         "marker": {
          "color": "#FF6692"
         },
         "name": "Niger",
         "notched": false,
         "offsetgroup": "Niger",
         "orientation": "v",
         "showlegend": true,
         "type": "box",
         "x": [
          "Niger"
         ],
         "x0": " ",
         "xaxis": "x",
         "y": [
          246.914718888187
         ],
         "y0": " ",
         "yaxis": "y"
        },
        {
         "alignmentgroup": "True",
         "hovertemplate": "Pais=%{x}<br>Total de Mortes=%{y}<extra></extra>",
         "legendgroup": "Nigeria",
         "marker": {
          "color": "#B6E880"
         },
         "name": "Nigeria",
         "notched": false,
         "offsetgroup": "Nigeria",
         "orientation": "v",
         "showlegend": true,
         "type": "box",
         "x": [
          "Nigeria"
         ],
         "x0": " ",
         "xaxis": "x",
         "y": [
          2522.6578616352203
         ],
         "y0": " ",
         "yaxis": "y"
        },
        {
         "alignmentgroup": "True",
         "hovertemplate": "Pais=%{x}<br>Total de Mortes=%{y}<extra></extra>",
         "legendgroup": "North America",
         "marker": {
          "color": "#FF97FF"
         },
         "name": "North America",
         "notched": false,
         "offsetgroup": "North America",
         "orientation": "v",
         "showlegend": true,
         "type": "box",
         "x": [
          "North America"
         ],
         "x0": " ",
         "xaxis": "x",
         "y": [
          1162321.4320148332
         ],
         "y0": " ",
         "yaxis": "y"
        },
        {
         "alignmentgroup": "True",
         "hovertemplate": "Pais=%{x}<br>Total de Mortes=%{y}<extra></extra>",
         "legendgroup": "North Macedonia",
         "marker": {
          "color": "#FECB52"
         },
         "name": "North Macedonia",
         "notched": false,
         "offsetgroup": "North Macedonia",
         "orientation": "v",
         "showlegend": true,
         "type": "box",
         "x": [
          "North Macedonia"
         ],
         "x0": " ",
         "xaxis": "x",
         "y": [
          7270.932999373826
         ],
         "y0": " ",
         "yaxis": "y"
        },
        {
         "alignmentgroup": "True",
         "hovertemplate": "Pais=%{x}<br>Total de Mortes=%{y}<extra></extra>",
         "legendgroup": "Northern Mariana Islands",
         "marker": {
          "color": "#636efa"
         },
         "name": "Northern Mariana Islands",
         "notched": false,
         "offsetgroup": "Northern Mariana Islands",
         "orientation": "v",
         "showlegend": true,
         "type": "box",
         "x": [
          "Northern Mariana Islands"
         ],
         "x0": " ",
         "xaxis": "x",
         "y": [
          23.917877447883765
         ],
         "y0": " ",
         "yaxis": "y"
        },
        {
         "alignmentgroup": "True",
         "hovertemplate": "Pais=%{x}<br>Total de Mortes=%{y}<extra></extra>",
         "legendgroup": "Norway",
         "marker": {
          "color": "#EF553B"
         },
         "name": "Norway",
         "notched": false,
         "offsetgroup": "Norway",
         "orientation": "v",
         "showlegend": true,
         "type": "box",
         "x": [
          "Norway"
         ],
         "x0": " ",
         "xaxis": "x",
         "y": [
          2993.040523690773
         ],
         "y0": " ",
         "yaxis": "y"
        },
        {
         "alignmentgroup": "True",
         "hovertemplate": "Pais=%{x}<br>Total de Mortes=%{y}<extra></extra>",
         "legendgroup": "Oceania",
         "marker": {
          "color": "#00cc96"
         },
         "name": "Oceania",
         "notched": false,
         "offsetgroup": "Oceania",
         "orientation": "v",
         "showlegend": true,
         "type": "box",
         "x": [
          "Oceania"
         ],
         "x0": " ",
         "xaxis": "x",
         "y": [
          14856.487895716946
         ],
         "y0": " ",
         "yaxis": "y"
        },
        {
         "alignmentgroup": "True",
         "hovertemplate": "Pais=%{x}<br>Total de Mortes=%{y}<extra></extra>",
         "legendgroup": "Oman",
         "marker": {
          "color": "#ab63fa"
         },
         "name": "Oman",
         "notched": false,
         "offsetgroup": "Oman",
         "orientation": "v",
         "showlegend": true,
         "type": "box",
         "x": [
          "Oman"
         ],
         "x0": " ",
         "xaxis": "x",
         "y": [
          3588.0290587492104
         ],
         "y0": " ",
         "yaxis": "y"
        },
        {
         "alignmentgroup": "True",
         "hovertemplate": "Pais=%{x}<br>Total de Mortes=%{y}<extra></extra>",
         "legendgroup": "Pakistan",
         "marker": {
          "color": "#FFA15A"
         },
         "name": "Pakistan",
         "notched": false,
         "offsetgroup": "Pakistan",
         "orientation": "v",
         "showlegend": true,
         "type": "box",
         "x": [
          "Pakistan"
         ],
         "x0": " ",
         "xaxis": "x",
         "y": [
          23730.124608641203
         ],
         "y0": " ",
         "yaxis": "y"
        },
        {
         "alignmentgroup": "True",
         "hovertemplate": "Pais=%{x}<br>Total de Mortes=%{y}<extra></extra>",
         "legendgroup": "Palau",
         "marker": {
          "color": "#19d3f3"
         },
         "name": "Palau",
         "notched": false,
         "offsetgroup": "Palau",
         "orientation": "v",
         "showlegend": true,
         "type": "box",
         "x": [
          "Palau"
         ],
         "x0": " ",
         "xaxis": "x",
         "y": [
          8.226769911504425
         ],
         "y0": " ",
         "yaxis": "y"
        },
        {
         "alignmentgroup": "True",
         "hovertemplate": "Pais=%{x}<br>Total de Mortes=%{y}<extra></extra>",
         "legendgroup": "Palestine",
         "marker": {
          "color": "#FF6692"
         },
         "name": "Palestine",
         "notched": false,
         "offsetgroup": "Palestine",
         "orientation": "v",
         "showlegend": true,
         "type": "box",
         "x": [
          "Palestine"
         ],
         "x0": " ",
         "xaxis": "x",
         "y": [
          4242.649056603774
         ],
         "y0": " ",
         "yaxis": "y"
        },
        {
         "alignmentgroup": "True",
         "hovertemplate": "Pais=%{x}<br>Total de Mortes=%{y}<extra></extra>",
         "legendgroup": "Panama",
         "marker": {
          "color": "#B6E880"
         },
         "name": "Panama",
         "notched": false,
         "offsetgroup": "Panama",
         "orientation": "v",
         "showlegend": true,
         "type": "box",
         "x": [
          "Panama"
         ],
         "x0": " ",
         "xaxis": "x",
         "y": [
          6759.982543640897
         ],
         "y0": " ",
         "yaxis": "y"
        },
        {
         "alignmentgroup": "True",
         "hovertemplate": "Pais=%{x}<br>Total de Mortes=%{y}<extra></extra>",
         "legendgroup": "Papua New Guinea",
         "marker": {
          "color": "#FF97FF"
         },
         "name": "Papua New Guinea",
         "notched": false,
         "offsetgroup": "Papua New Guinea",
         "orientation": "v",
         "showlegend": true,
         "type": "box",
         "x": [
          "Papua New Guinea"
         ],
         "x0": " ",
         "xaxis": "x",
         "y": [
          474.8606557377049
         ],
         "y0": " ",
         "yaxis": "y"
        },
        {
         "alignmentgroup": "True",
         "hovertemplate": "Pais=%{x}<br>Total de Mortes=%{y}<extra></extra>",
         "legendgroup": "Paraguay",
         "marker": {
          "color": "#FECB52"
         },
         "name": "Paraguay",
         "notched": false,
         "offsetgroup": "Paraguay",
         "orientation": "v",
         "showlegend": true,
         "type": "box",
         "x": [
          "Paraguay"
         ],
         "x0": " ",
         "xaxis": "x",
         "y": [
          14053.79524107702
         ],
         "y0": " ",
         "yaxis": "y"
        },
        {
         "alignmentgroup": "True",
         "hovertemplate": "Pais=%{x}<br>Total de Mortes=%{y}<extra></extra>",
         "legendgroup": "Peru",
         "marker": {
          "color": "#636efa"
         },
         "name": "Peru",
         "notched": false,
         "offsetgroup": "Peru",
         "orientation": "v",
         "showlegend": true,
         "type": "box",
         "x": [
          "Peru"
         ],
         "x0": " ",
         "xaxis": "x",
         "y": [
          175752.8361266294
         ],
         "y0": " ",
         "yaxis": "y"
        },
        {
         "alignmentgroup": "True",
         "hovertemplate": "Pais=%{x}<br>Total de Mortes=%{y}<extra></extra>",
         "legendgroup": "Philippines",
         "marker": {
          "color": "#EF553B"
         },
         "name": "Philippines",
         "notched": false,
         "offsetgroup": "Philippines",
         "orientation": "v",
         "showlegend": true,
         "type": "box",
         "x": [
          "Philippines"
         ],
         "x0": " ",
         "xaxis": "x",
         "y": [
          43404.614216281894
         ],
         "y0": " ",
         "yaxis": "y"
        },
        {
         "alignmentgroup": "True",
         "hovertemplate": "Pais=%{x}<br>Total de Mortes=%{y}<extra></extra>",
         "legendgroup": "Poland",
         "marker": {
          "color": "#00cc96"
         },
         "name": "Poland",
         "notched": false,
         "offsetgroup": "Poland",
         "orientation": "v",
         "showlegend": true,
         "type": "box",
         "x": [
          "Poland"
         ],
         "x0": " ",
         "xaxis": "x",
         "y": [
          85512.36471321696
         ],
         "y0": " ",
         "yaxis": "y"
        },
        {
         "alignmentgroup": "True",
         "hovertemplate": "Pais=%{x}<br>Total de Mortes=%{y}<extra></extra>",
         "legendgroup": "Portugal",
         "marker": {
          "color": "#ab63fa"
         },
         "name": "Portugal",
         "notched": false,
         "offsetgroup": "Portugal",
         "orientation": "v",
         "showlegend": true,
         "type": "box",
         "x": [
          "Portugal"
         ],
         "x0": " ",
         "xaxis": "x",
         "y": [
          19488.21728240451
         ],
         "y0": " ",
         "yaxis": "y"
        },
        {
         "alignmentgroup": "True",
         "hovertemplate": "Pais=%{x}<br>Total de Mortes=%{y}<extra></extra>",
         "legendgroup": "Puerto Rico",
         "marker": {
          "color": "#FFA15A"
         },
         "name": "Puerto Rico",
         "notched": false,
         "offsetgroup": "Puerto Rico",
         "orientation": "v",
         "showlegend": true,
         "type": "box",
         "x": [
          "Puerto Rico"
         ],
         "x0": " ",
         "xaxis": "x",
         "y": [
          3889.2310582341893
         ],
         "y0": " ",
         "yaxis": "y"
        },
        {
         "alignmentgroup": "True",
         "hovertemplate": "Pais=%{x}<br>Total de Mortes=%{y}<extra></extra>",
         "legendgroup": "Qatar",
         "marker": {
          "color": "#19d3f3"
         },
         "name": "Qatar",
         "notched": false,
         "offsetgroup": "Qatar",
         "orientation": "v",
         "showlegend": true,
         "type": "box",
         "x": [
          "Qatar"
         ],
         "x0": " ",
         "xaxis": "x",
         "y": [
          544.0081761006289
         ],
         "y0": " ",
         "yaxis": "y"
        },
        {
         "alignmentgroup": "True",
         "hovertemplate": "Pais=%{x}<br>Total de Mortes=%{y}<extra></extra>",
         "legendgroup": "Reunion",
         "marker": {
          "color": "#FF6692"
         },
         "name": "Reunion",
         "notched": false,
         "offsetgroup": "Reunion",
         "orientation": "v",
         "showlegend": true,
         "type": "box",
         "x": [
          "Reunion"
         ],
         "x0": " ",
         "xaxis": "x",
         "y": [
          587.6010430247718
         ],
         "y0": " ",
         "yaxis": "y"
        },
        {
         "alignmentgroup": "True",
         "hovertemplate": "Pais=%{x}<br>Total de Mortes=%{y}<extra></extra>",
         "legendgroup": "Romania",
         "marker": {
          "color": "#B6E880"
         },
         "name": "Romania",
         "notched": false,
         "offsetgroup": "Romania",
         "orientation": "v",
         "showlegend": true,
         "type": "box",
         "x": [
          "Romania"
         ],
         "x0": " ",
         "xaxis": "x",
         "y": [
          48353.764150943396
         ],
         "y0": " ",
         "yaxis": "y"
        },
        {
         "alignmentgroup": "True",
         "hovertemplate": "Pais=%{x}<br>Total de Mortes=%{y}<extra></extra>",
         "legendgroup": "Russia",
         "marker": {
          "color": "#FF97FF"
         },
         "name": "Russia",
         "notched": false,
         "offsetgroup": "Russia",
         "orientation": "v",
         "showlegend": true,
         "type": "box",
         "x": [
          "Russia"
         ],
         "x0": " ",
         "xaxis": "x",
         "y": [
          270504.8710691824
         ],
         "y0": " ",
         "yaxis": "y"
        },
        {
         "alignmentgroup": "True",
         "hovertemplate": "Pais=%{x}<br>Total de Mortes=%{y}<extra></extra>",
         "legendgroup": "Rwanda",
         "marker": {
          "color": "#FECB52"
         },
         "name": "Rwanda",
         "notched": false,
         "offsetgroup": "Rwanda",
         "orientation": "v",
         "showlegend": true,
         "type": "box",
         "x": [
          "Rwanda"
         ],
         "x0": " ",
         "xaxis": "x",
         "y": [
          1076.9718402095612
         ],
         "y0": " ",
         "yaxis": "y"
        },
        {
         "alignmentgroup": "True",
         "hovertemplate": "Pais=%{x}<br>Total de Mortes=%{y}<extra></extra>",
         "legendgroup": "Saint Barthelemy",
         "marker": {
          "color": "#636efa"
         },
         "name": "Saint Barthelemy",
         "notched": false,
         "offsetgroup": "Saint Barthelemy",
         "orientation": "v",
         "showlegend": true,
         "type": "box",
         "x": [
          "Saint Barthelemy"
         ],
         "x0": " ",
         "xaxis": "x",
         "y": [
          4.14758064516129
         ],
         "y0": " ",
         "yaxis": "y"
        },
        {
         "alignmentgroup": "True",
         "hovertemplate": "Pais=%{x}<br>Total de Mortes=%{y}<extra></extra>",
         "legendgroup": "Saint Kitts and Nevis",
         "marker": {
          "color": "#EF553B"
         },
         "name": "Saint Kitts and Nevis",
         "notched": false,
         "offsetgroup": "Saint Kitts and Nevis",
         "orientation": "v",
         "showlegend": true,
         "type": "box",
         "x": [
          "Saint Kitts and Nevis"
         ],
         "x0": " ",
         "xaxis": "x",
         "y": [
          39.35551663747811
         ],
         "y0": " ",
         "yaxis": "y"
        },
        {
         "alignmentgroup": "True",
         "hovertemplate": "Pais=%{x}<br>Total de Mortes=%{y}<extra></extra>",
         "legendgroup": "Saint Lucia",
         "marker": {
          "color": "#00cc96"
         },
         "name": "Saint Lucia",
         "notched": false,
         "offsetgroup": "Saint Lucia",
         "orientation": "v",
         "showlegend": true,
         "type": "box",
         "x": [
          "Saint Lucia"
         ],
         "x0": " ",
         "xaxis": "x",
         "y": [
          307.6578366445916
         ],
         "y0": " ",
         "yaxis": "y"
        },
        {
         "alignmentgroup": "True",
         "hovertemplate": "Pais=%{x}<br>Total de Mortes=%{y}<extra></extra>",
         "legendgroup": "Saint Martin (French part)",
         "marker": {
          "color": "#ab63fa"
         },
         "name": "Saint Martin (French part)",
         "notched": false,
         "offsetgroup": "Saint Martin (French part)",
         "orientation": "v",
         "showlegend": true,
         "type": "box",
         "x": [
          "Saint Martin (French part)"
         ],
         "x0": " ",
         "xaxis": "x",
         "y": [
          33.90145293746052
         ],
         "y0": " ",
         "yaxis": "y"
        },
        {
         "alignmentgroup": "True",
         "hovertemplate": "Pais=%{x}<br>Total de Mortes=%{y}<extra></extra>",
         "legendgroup": "Saint Pierre and Miquelon",
         "marker": {
          "color": "#FFA15A"
         },
         "name": "Saint Pierre and Miquelon",
         "notched": false,
         "offsetgroup": "Saint Pierre and Miquelon",
         "orientation": "v",
         "showlegend": true,
         "type": "box",
         "x": [
          "Saint Pierre and Miquelon"
         ],
         "x0": " ",
         "xaxis": "x",
         "y": [
          1.6695938529088914
         ],
         "y0": " ",
         "yaxis": "y"
        },
        {
         "alignmentgroup": "True",
         "hovertemplate": "Pais=%{x}<br>Total de Mortes=%{y}<extra></extra>",
         "legendgroup": "Saint Vincent and the Grenadines",
         "marker": {
          "color": "#19d3f3"
         },
         "name": "Saint Vincent and the Grenadines",
         "notched": false,
         "offsetgroup": "Saint Vincent and the Grenadines",
         "orientation": "v",
         "showlegend": true,
         "type": "box",
         "x": [
          "Saint Vincent and the Grenadines"
         ],
         "x0": " ",
         "xaxis": "x",
         "y": [
          92.67283950617283
         ],
         "y0": " ",
         "yaxis": "y"
        },
        {
         "alignmentgroup": "True",
         "hovertemplate": "Pais=%{x}<br>Total de Mortes=%{y}<extra></extra>",
         "legendgroup": "Samoa",
         "marker": {
          "color": "#FF6692"
         },
         "name": "Samoa",
         "notched": false,
         "offsetgroup": "Samoa",
         "orientation": "v",
         "showlegend": true,
         "type": "box",
         "x": [
          "Samoa"
         ],
         "x0": " ",
         "xaxis": "x",
         "y": [
          29.20701754385965
         ],
         "y0": " ",
         "yaxis": "y"
        },
        {
         "alignmentgroup": "True",
         "hovertemplate": "Pais=%{x}<br>Total de Mortes=%{y}<extra></extra>",
         "legendgroup": "San Marino",
         "marker": {
          "color": "#B6E880"
         },
         "name": "San Marino",
         "notched": false,
         "offsetgroup": "San Marino",
         "orientation": "v",
         "showlegend": true,
         "type": "box",
         "x": [
          "San Marino"
         ],
         "x0": " ",
         "xaxis": "x",
         "y": [
          97.98261949099938
         ],
         "y0": " ",
         "yaxis": "y"
        },
        {
         "alignmentgroup": "True",
         "hovertemplate": "Pais=%{x}<br>Total de Mortes=%{y}<extra></extra>",
         "legendgroup": "Sao Tome and Principe",
         "marker": {
          "color": "#FF97FF"
         },
         "name": "Sao Tome and Principe",
         "notched": false,
         "offsetgroup": "Sao Tome and Principe",
         "orientation": "v",
         "showlegend": true,
         "type": "box",
         "x": [
          "Sao Tome and Principe"
         ],
         "x0": " ",
         "xaxis": "x",
         "y": [
          58.18971061093247
         ],
         "y0": " ",
         "yaxis": "y"
        },
        {
         "alignmentgroup": "True",
         "hovertemplate": "Pais=%{x}<br>Total de Mortes=%{y}<extra></extra>",
         "legendgroup": "Saudi Arabia",
         "marker": {
          "color": "#FECB52"
         },
         "name": "Saudi Arabia",
         "notched": false,
         "offsetgroup": "Saudi Arabia",
         "orientation": "v",
         "showlegend": true,
         "type": "box",
         "x": [
          "Saudi Arabia"
         ],
         "x0": " ",
         "xaxis": "x",
         "y": [
          7932.289937106918
         ],
         "y0": " ",
         "yaxis": "y"
        },
        {
         "alignmentgroup": "True",
         "hovertemplate": "Pais=%{x}<br>Total de Mortes=%{y}<extra></extra>",
         "legendgroup": "Senegal",
         "marker": {
          "color": "#636efa"
         },
         "name": "Senegal",
         "notched": false,
         "offsetgroup": "Senegal",
         "orientation": "v",
         "showlegend": true,
         "type": "box",
         "x": [
          "Senegal"
         ],
         "x0": " ",
         "xaxis": "x",
         "y": [
          1610.596632996633
         ],
         "y0": " ",
         "yaxis": "y"
        },
        {
         "alignmentgroup": "True",
         "hovertemplate": "Pais=%{x}<br>Total de Mortes=%{y}<extra></extra>",
         "legendgroup": "Serbia",
         "marker": {
          "color": "#EF553B"
         },
         "name": "Serbia",
         "notched": false,
         "offsetgroup": "Serbia",
         "orientation": "v",
         "showlegend": true,
         "type": "box",
         "x": [
          "Serbia"
         ],
         "x0": " ",
         "xaxis": "x",
         "y": [
          11969.717595491547
         ],
         "y0": " ",
         "yaxis": "y"
        },
        {
         "alignmentgroup": "True",
         "hovertemplate": "Pais=%{x}<br>Total de Mortes=%{y}<extra></extra>",
         "legendgroup": "Seychelles",
         "marker": {
          "color": "#00cc96"
         },
         "name": "Seychelles",
         "notched": false,
         "offsetgroup": "Seychelles",
         "orientation": "v",
         "showlegend": true,
         "type": "box",
         "x": [
          "Seychelles"
         ],
         "x0": " ",
         "xaxis": "x",
         "y": [
          140.1105141980046
         ],
         "y0": " ",
         "yaxis": "y"
        },
        {
         "alignmentgroup": "True",
         "hovertemplate": "Pais=%{x}<br>Total de Mortes=%{y}<extra></extra>",
         "legendgroup": "Sierra Leone",
         "marker": {
          "color": "#ab63fa"
         },
         "name": "Sierra Leone",
         "notched": false,
         "offsetgroup": "Sierra Leone",
         "orientation": "v",
         "showlegend": true,
         "type": "box",
         "x": [
          "Sierra Leone"
         ],
         "x0": " ",
         "xaxis": "x",
         "y": [
          108.88476312419975
         ],
         "y0": " ",
         "yaxis": "y"
        },
        {
         "alignmentgroup": "True",
         "hovertemplate": "Pais=%{x}<br>Total de Mortes=%{y}<extra></extra>",
         "legendgroup": "Singapore",
         "marker": {
          "color": "#FFA15A"
         },
         "name": "Singapore",
         "notched": false,
         "offsetgroup": "Singapore",
         "orientation": "v",
         "showlegend": true,
         "type": "box",
         "x": [
          "Singapore"
         ],
         "x0": " ",
         "xaxis": "x",
         "y": [
          1048.7733249843457
         ],
         "y0": " ",
         "yaxis": "y"
        },
        {
         "alignmentgroup": "True",
         "hovertemplate": "Pais=%{x}<br>Total de Mortes=%{y}<extra></extra>",
         "legendgroup": "Sint Maarten (Dutch part)",
         "marker": {
          "color": "#19d3f3"
         },
         "name": "Sint Maarten (Dutch part)",
         "notched": false,
         "offsetgroup": "Sint Maarten (Dutch part)",
         "orientation": "v",
         "showlegend": true,
         "type": "box",
         "x": [
          "Sint Maarten (Dutch part)"
         ],
         "x0": " ",
         "xaxis": "x",
         "y": [
          66.34365129500948
         ],
         "y0": " ",
         "yaxis": "y"
        },
        {
         "alignmentgroup": "True",
         "hovertemplate": "Pais=%{x}<br>Total de Mortes=%{y}<extra></extra>",
         "legendgroup": "Slovakia",
         "marker": {
          "color": "#FF6692"
         },
         "name": "Slovakia",
         "notched": false,
         "offsetgroup": "Slovakia",
         "orientation": "v",
         "showlegend": true,
         "type": "box",
         "x": [
          "Slovakia"
         ],
         "x0": " ",
         "xaxis": "x",
         "y": [
          14903.41313960834
         ],
         "y0": " ",
         "yaxis": "y"
        },
        {
         "alignmentgroup": "True",
         "hovertemplate": "Pais=%{x}<br>Total de Mortes=%{y}<extra></extra>",
         "legendgroup": "Slovenia",
         "marker": {
          "color": "#B6E880"
         },
         "name": "Slovenia",
         "notched": false,
         "offsetgroup": "Slovenia",
         "orientation": "v",
         "showlegend": true,
         "type": "box",
         "x": [
          "Slovenia"
         ],
         "x0": " ",
         "xaxis": "x",
         "y": [
          6403.56608478803
         ],
         "y0": " ",
         "yaxis": "y"
        },
        {
         "alignmentgroup": "True",
         "hovertemplate": "Pais=%{x}<br>Total de Mortes=%{y}<extra></extra>",
         "legendgroup": "Solomon Islands",
         "marker": {
          "color": "#FF97FF"
         },
         "name": "Solomon Islands",
         "notched": false,
         "offsetgroup": "Solomon Islands",
         "orientation": "v",
         "showlegend": true,
         "type": "box",
         "x": [
          "Solomon Islands"
         ],
         "x0": " ",
         "xaxis": "x",
         "y": [
          163.0239651416122
         ],
         "y0": " ",
         "yaxis": "y"
        },
        {
         "alignmentgroup": "True",
         "hovertemplate": "Pais=%{x}<br>Total de Mortes=%{y}<extra></extra>",
         "legendgroup": "Somalia",
         "marker": {
          "color": "#FECB52"
         },
         "name": "Somalia",
         "notched": false,
         "offsetgroup": "Somalia",
         "orientation": "v",
         "showlegend": true,
         "type": "box",
         "x": [
          "Somalia"
         ],
         "x0": " ",
         "xaxis": "x",
         "y": [
          1010.0672588832488
         ],
         "y0": " ",
         "yaxis": "y"
        },
        {
         "alignmentgroup": "True",
         "hovertemplate": "Pais=%{x}<br>Total de Mortes=%{y}<extra></extra>",
         "legendgroup": "South Africa",
         "marker": {
          "color": "#636efa"
         },
         "name": "South Africa",
         "notched": false,
         "offsetgroup": "South Africa",
         "orientation": "v",
         "showlegend": true,
         "type": "box",
         "x": [
          "South Africa"
         ],
         "x0": " ",
         "xaxis": "x",
         "y": [
          77806.00566037736
         ],
         "y0": " ",
         "yaxis": "y"
        },
        {
         "alignmentgroup": "True",
         "hovertemplate": "Pais=%{x}<br>Total de Mortes=%{y}<extra></extra>",
         "legendgroup": "South America",
         "marker": {
          "color": "#EF553B"
         },
         "name": "South America",
         "notched": false,
         "offsetgroup": "South America",
         "orientation": "v",
         "showlegend": true,
         "type": "box",
         "x": [
          "South America"
         ],
         "x0": " ",
         "xaxis": "x",
         "y": [
          1022299.4239602732
         ],
         "y0": " ",
         "yaxis": "y"
        },
        {
         "alignmentgroup": "True",
         "hovertemplate": "Pais=%{x}<br>Total de Mortes=%{y}<extra></extra>",
         "legendgroup": "South Korea",
         "marker": {
          "color": "#00cc96"
         },
         "name": "South Korea",
         "notched": false,
         "offsetgroup": "South Korea",
         "orientation": "v",
         "showlegend": true,
         "type": "box",
         "x": [
          "South Korea"
         ],
         "x0": " ",
         "xaxis": "x",
         "y": [
          18077.702153846152
         ],
         "y0": " ",
         "yaxis": "y"
        },
        {
         "alignmentgroup": "True",
         "hovertemplate": "Pais=%{x}<br>Total de Mortes=%{y}<extra></extra>",
         "legendgroup": "South Sudan",
         "marker": {
          "color": "#ab63fa"
         },
         "name": "South Sudan",
         "notched": false,
         "offsetgroup": "South Sudan",
         "orientation": "v",
         "showlegend": true,
         "type": "box",
         "x": [
          "South Sudan"
         ],
         "x0": " ",
         "xaxis": "x",
         "y": [
          120.00389357560026
         ],
         "y0": " ",
         "yaxis": "y"
        },
        {
         "alignmentgroup": "True",
         "hovertemplate": "Pais=%{x}<br>Total de Mortes=%{y}<extra></extra>",
         "legendgroup": "Spain",
         "marker": {
          "color": "#FFA15A"
         },
         "name": "Spain",
         "notched": false,
         "offsetgroup": "Spain",
         "orientation": "v",
         "showlegend": true,
         "type": "box",
         "x": [
          "Spain"
         ],
         "x0": " ",
         "xaxis": "x",
         "y": [
          91624.84620098039
         ],
         "y0": " ",
         "yaxis": "y"
        },
        {
         "alignmentgroup": "True",
         "hovertemplate": "Pais=%{x}<br>Total de Mortes=%{y}<extra></extra>",
         "legendgroup": "Sri Lanka",
         "marker": {
          "color": "#19d3f3"
         },
         "name": "Sri Lanka",
         "notched": false,
         "offsetgroup": "Sri Lanka",
         "orientation": "v",
         "showlegend": true,
         "type": "box",
         "x": [
          "Sri Lanka"
         ],
         "x0": " ",
         "xaxis": "x",
         "y": [
          11249.225786163523
         ],
         "y0": " ",
         "yaxis": "y"
        },
        {
         "alignmentgroup": "True",
         "hovertemplate": "Pais=%{x}<br>Total de Mortes=%{y}<extra></extra>",
         "legendgroup": "Sudan",
         "marker": {
          "color": "#FF6692"
         },
         "name": "Sudan",
         "notched": false,
         "offsetgroup": "Sudan",
         "orientation": "v",
         "showlegend": true,
         "type": "box",
         "x": [
          "Sudan"
         ],
         "x0": " ",
         "xaxis": "x",
         "y": [
          3595.887157107232
         ],
         "y0": " ",
         "yaxis": "y"
        },
        {
         "alignmentgroup": "True",
         "hovertemplate": "Pais=%{x}<br>Total de Mortes=%{y}<extra></extra>",
         "legendgroup": "Suriname",
         "marker": {
          "color": "#B6E880"
         },
         "name": "Suriname",
         "notched": false,
         "offsetgroup": "Suriname",
         "orientation": "v",
         "showlegend": true,
         "type": "box",
         "x": [
          "Suriname"
         ],
         "x0": " ",
         "xaxis": "x",
         "y": [
          966.3502538071066
         ],
         "y0": " ",
         "yaxis": "y"
        },
        {
         "alignmentgroup": "True",
         "hovertemplate": "Pais=%{x}<br>Total de Mortes=%{y}<extra></extra>",
         "legendgroup": "Sweden",
         "marker": {
          "color": "#FF97FF"
         },
         "name": "Sweden",
         "notched": false,
         "offsetgroup": "Sweden",
         "orientation": "v",
         "showlegend": true,
         "type": "box",
         "x": [
          "Sweden"
         ],
         "x0": " ",
         "xaxis": "x",
         "y": [
          17708.41645885287
         ],
         "y0": " ",
         "yaxis": "y"
        },
        {
         "alignmentgroup": "True",
         "hovertemplate": "Pais=%{x}<br>Total de Mortes=%{y}<extra></extra>",
         "legendgroup": "Switzerland",
         "marker": {
          "color": "#FECB52"
         },
         "name": "Switzerland",
         "notched": false,
         "offsetgroup": "Switzerland",
         "orientation": "v",
         "showlegend": true,
         "type": "box",
         "x": [
          "Switzerland"
         ],
         "x0": " ",
         "xaxis": "x",
         "y": [
          10805.23339540658
         ],
         "y0": " ",
         "yaxis": "y"
        },
        {
         "alignmentgroup": "True",
         "hovertemplate": "Pais=%{x}<br>Total de Mortes=%{y}<extra></extra>",
         "legendgroup": "Syria",
         "marker": {
          "color": "#636efa"
         },
         "name": "Syria",
         "notched": false,
         "offsetgroup": "Syria",
         "orientation": "v",
         "showlegend": true,
         "type": "box",
         "x": [
          "Syria"
         ],
         "x0": " ",
         "xaxis": "x",
         "y": [
          2322.1288692356284
         ],
         "y0": " ",
         "yaxis": "y"
        },
        {
         "alignmentgroup": "True",
         "hovertemplate": "Pais=%{x}<br>Total de Mortes=%{y}<extra></extra>",
         "legendgroup": "Tajikistan",
         "marker": {
          "color": "#EF553B"
         },
         "name": "Tajikistan",
         "notched": false,
         "offsetgroup": "Tajikistan",
         "orientation": "v",
         "showlegend": true,
         "type": "box",
         "x": [
          "Tajikistan"
         ],
         "x0": " ",
         "xaxis": "x",
         "y": [
          111.23408360128617
         ],
         "y0": " ",
         "yaxis": "y"
        },
        {
         "alignmentgroup": "True",
         "hovertemplate": "Pais=%{x}<br>Total de Mortes=%{y}<extra></extra>",
         "legendgroup": "Tanzania",
         "marker": {
          "color": "#00cc96"
         },
         "name": "Tanzania",
         "notched": false,
         "offsetgroup": "Tanzania",
         "orientation": "v",
         "showlegend": true,
         "type": "box",
         "x": [
          "Tanzania"
         ],
         "x0": " ",
         "xaxis": "x",
         "y": [
          572.8142766898294
         ],
         "y0": " ",
         "yaxis": "y"
        },
        {
         "alignmentgroup": "True",
         "hovertemplate": "Pais=%{x}<br>Total de Mortes=%{y}<extra></extra>",
         "legendgroup": "Thailand",
         "marker": {
          "color": "#ab63fa"
         },
         "name": "Thailand",
         "notched": false,
         "offsetgroup": "Thailand",
         "orientation": "v",
         "showlegend": true,
         "type": "box",
         "x": [
          "Thailand"
         ],
         "x0": " ",
         "xaxis": "x",
         "y": [
          20643.527001862196
         ],
         "y0": " ",
         "yaxis": "y"
        },
        {
         "alignmentgroup": "True",
         "hovertemplate": "Pais=%{x}<br>Total de Mortes=%{y}<extra></extra>",
         "legendgroup": "Togo",
         "marker": {
          "color": "#FFA15A"
         },
         "name": "Togo",
         "notched": false,
         "offsetgroup": "Togo",
         "orientation": "v",
         "showlegend": true,
         "type": "box",
         "x": [
          "Togo"
         ],
         "x0": " ",
         "xaxis": "x",
         "y": [
          210.32327044025158
         ],
         "y0": " ",
         "yaxis": "y"
        },
        {
         "alignmentgroup": "True",
         "hovertemplate": "Pais=%{x}<br>Total de Mortes=%{y}<extra></extra>",
         "legendgroup": "Tonga",
         "marker": {
          "color": "#19d3f3"
         },
         "name": "Tonga",
         "notched": false,
         "offsetgroup": "Tonga",
         "orientation": "v",
         "showlegend": true,
         "type": "box",
         "x": [
          "Tonga"
         ],
         "x0": " ",
         "xaxis": "x",
         "y": [
          11.664383561643836
         ],
         "y0": " ",
         "yaxis": "y"
        },
        {
         "alignmentgroup": "True",
         "hovertemplate": "Pais=%{x}<br>Total de Mortes=%{y}<extra></extra>",
         "legendgroup": "Trinidad and Tobago",
         "marker": {
          "color": "#FF6692"
         },
         "name": "Trinidad and Tobago",
         "notched": false,
         "offsetgroup": "Trinidad and Tobago",
         "orientation": "v",
         "showlegend": true,
         "type": "box",
         "x": [
          "Trinidad and Tobago"
         ],
         "x0": " ",
         "xaxis": "x",
         "y": [
          2713.7465408805033
         ],
         "y0": " ",
         "yaxis": "y"
        },
        {
         "alignmentgroup": "True",
         "hovertemplate": "Pais=%{x}<br>Total de Mortes=%{y}<extra></extra>",
         "legendgroup": "Tunisia",
         "marker": {
          "color": "#B6E880"
         },
         "name": "Tunisia",
         "notched": false,
         "offsetgroup": "Tunisia",
         "orientation": "v",
         "showlegend": true,
         "type": "box",
         "x": [
          "Tunisia"
         ],
         "x0": " ",
         "xaxis": "x",
         "y": [
          21047.265497808392
         ],
         "y0": " ",
         "yaxis": "y"
        },
        {
         "alignmentgroup": "True",
         "hovertemplate": "Pais=%{x}<br>Total de Mortes=%{y}<extra></extra>",
         "legendgroup": "Turkey",
         "marker": {
          "color": "#FF97FF"
         },
         "name": "Turkey",
         "notched": false,
         "offsetgroup": "Turkey",
         "orientation": "v",
         "showlegend": true,
         "type": "box",
         "x": [
          "Turkey"
         ],
         "x0": " ",
         "xaxis": "x",
         "y": [
          71719.8409517846
         ],
         "y0": " ",
         "yaxis": "y"
        },
        {
         "alignmentgroup": "True",
         "hovertemplate": "Pais=%{x}<br>Total de Mortes=%{y}<extra></extra>",
         "legendgroup": "Turks and Caicos Islands",
         "marker": {
          "color": "#FECB52"
         },
         "name": "Turks and Caicos Islands",
         "notched": false,
         "offsetgroup": "Turks and Caicos Islands",
         "orientation": "v",
         "showlegend": true,
         "type": "box",
         "x": [
          "Turks and Caicos Islands"
         ],
         "x0": " ",
         "xaxis": "x",
         "y": [
          27.310279187817258
         ],
         "y0": " ",
         "yaxis": "y"
        },
        {
         "alignmentgroup": "True",
         "hovertemplate": "Pais=%{x}<br>Total de Mortes=%{y}<extra></extra>",
         "legendgroup": "Tuvalu",
         "marker": {
          "color": "#636efa"
         },
         "name": "Tuvalu",
         "notched": false,
         "offsetgroup": "Tuvalu",
         "orientation": "v",
         "showlegend": true,
         "type": "box",
         "x": [
          "Tuvalu"
         ],
         "x0": " ",
         "xaxis": "x",
         "y": [
          1
         ],
         "y0": " ",
         "yaxis": "y"
        },
        {
         "alignmentgroup": "True",
         "hovertemplate": "Pais=%{x}<br>Total de Mortes=%{y}<extra></extra>",
         "legendgroup": "Uganda",
         "marker": {
          "color": "#EF553B"
         },
         "name": "Uganda",
         "notched": false,
         "offsetgroup": "Uganda",
         "orientation": "v",
         "showlegend": true,
         "type": "box",
         "x": [
          "Uganda"
         ],
         "x0": " ",
         "xaxis": "x",
         "y": [
          2756.8477226376613
         ],
         "y0": " ",
         "yaxis": "y"
        },
        {
         "alignmentgroup": "True",
         "hovertemplate": "Pais=%{x}<br>Total de Mortes=%{y}<extra></extra>",
         "legendgroup": "Ukraine",
         "marker": {
          "color": "#00cc96"
         },
         "name": "Ukraine",
         "notched": false,
         "offsetgroup": "Ukraine",
         "orientation": "v",
         "showlegend": true,
         "type": "box",
         "x": [
          "Ukraine"
         ],
         "x0": " ",
         "xaxis": "x",
         "y": [
          74975.95199501247
         ],
         "y0": " ",
         "yaxis": "y"
        },
        {
         "alignmentgroup": "True",
         "hovertemplate": "Pais=%{x}<br>Total de Mortes=%{y}<extra></extra>",
         "legendgroup": "United Arab Emirates",
         "marker": {
          "color": "#ab63fa"
         },
         "name": "United Arab Emirates",
         "notched": false,
         "offsetgroup": "United Arab Emirates",
         "orientation": "v",
         "showlegend": true,
         "type": "box",
         "x": [
          "United Arab Emirates"
         ],
         "x0": " ",
         "xaxis": "x",
         "y": [
          1831.4909204758924
         ],
         "y0": " ",
         "yaxis": "y"
        },
        {
         "alignmentgroup": "True",
         "hovertemplate": "Pais=%{x}<br>Total de Mortes=%{y}<extra></extra>",
         "legendgroup": "United Kingdom",
         "marker": {
          "color": "#FFA15A"
         },
         "name": "United Kingdom",
         "notched": false,
         "offsetgroup": "United Kingdom",
         "orientation": "v",
         "showlegend": true,
         "type": "box",
         "x": [
          "United Kingdom"
         ],
         "x0": " ",
         "xaxis": "x",
         "y": [
          168653.22357229647
         ],
         "y0": " ",
         "yaxis": "y"
        },
        {
         "alignmentgroup": "True",
         "hovertemplate": "Pais=%{x}<br>Total de Mortes=%{y}<extra></extra>",
         "legendgroup": "United States",
         "marker": {
          "color": "#19d3f3"
         },
         "name": "United States",
         "notched": false,
         "offsetgroup": "United States",
         "orientation": "v",
         "showlegend": true,
         "type": "box",
         "x": [
          "United States"
         ],
         "x0": " ",
         "xaxis": "x",
         "y": [
          804833.9517923362
         ],
         "y0": " ",
         "yaxis": "y"
        },
        {
         "alignmentgroup": "True",
         "hovertemplate": "Pais=%{x}<br>Total de Mortes=%{y}<extra></extra>",
         "legendgroup": "United States Virgin Islands",
         "marker": {
          "color": "#FF6692"
         },
         "name": "United States Virgin Islands",
         "notched": false,
         "offsetgroup": "United States Virgin Islands",
         "orientation": "v",
         "showlegend": true,
         "type": "box",
         "x": [
          "United States Virgin Islands"
         ],
         "x0": " ",
         "xaxis": "x",
         "y": [
          87.69923857868021
         ],
         "y0": " ",
         "yaxis": "y"
        },
        {
         "alignmentgroup": "True",
         "hovertemplate": "Pais=%{x}<br>Total de Mortes=%{y}<extra></extra>",
         "legendgroup": "Upper-middle-income countries",
         "marker": {
          "color": "#B6E880"
         },
         "name": "Upper-middle-income countries",
         "notched": false,
         "offsetgroup": "Upper-middle-income countries",
         "orientation": "v",
         "showlegend": true,
         "type": "box",
         "x": [
          "Upper-middle-income countries"
         ],
         "x0": " ",
         "xaxis": "x",
         "y": [
          1958947.00239952
         ],
         "y0": " ",
         "yaxis": "y"
        },
        {
         "alignmentgroup": "True",
         "hovertemplate": "Pais=%{x}<br>Total de Mortes=%{y}<extra></extra>",
         "legendgroup": "Uruguay",
         "marker": {
          "color": "#FF97FF"
         },
         "name": "Uruguay",
         "notched": false,
         "offsetgroup": "Uruguay",
         "orientation": "v",
         "showlegend": true,
         "type": "box",
         "x": [
          "Uruguay"
         ],
         "x0": " ",
         "xaxis": "x",
         "y": [
          5388.790271636134
         ],
         "y0": " ",
         "yaxis": "y"
        },
        {
         "alignmentgroup": "True",
         "hovertemplate": "Pais=%{x}<br>Total de Mortes=%{y}<extra></extra>",
         "legendgroup": "Uzbekistan",
         "marker": {
          "color": "#FECB52"
         },
         "name": "Uzbekistan",
         "notched": false,
         "offsetgroup": "Uzbekistan",
         "orientation": "v",
         "showlegend": true,
         "type": "box",
         "x": [
          "Uzbekistan"
         ],
         "x0": " ",
         "xaxis": "x",
         "y": [
          865.6541598694943
         ],
         "y0": " ",
         "yaxis": "y"
        },
        {
         "alignmentgroup": "True",
         "hovertemplate": "Pais=%{x}<br>Total de Mortes=%{y}<extra></extra>",
         "legendgroup": "Vanuatu",
         "marker": {
          "color": "#636efa"
         },
         "name": "Vanuatu",
         "notched": false,
         "offsetgroup": "Vanuatu",
         "orientation": "v",
         "showlegend": true,
         "type": "box",
         "x": [
          "Vanuatu"
         ],
         "x0": " ",
         "xaxis": "x",
         "y": [
          13.72982456140351
         ],
         "y0": " ",
         "yaxis": "y"
        },
        {
         "alignmentgroup": "True",
         "hovertemplate": "Pais=%{x}<br>Total de Mortes=%{y}<extra></extra>",
         "legendgroup": "Venezuela",
         "marker": {
          "color": "#EF553B"
         },
         "name": "Venezuela",
         "notched": false,
         "offsetgroup": "Venezuela",
         "orientation": "v",
         "showlegend": true,
         "type": "box",
         "x": [
          "Venezuela"
         ],
         "x0": " ",
         "xaxis": "x",
         "y": [
          4221.367924528302
         ],
         "y0": " ",
         "yaxis": "y"
        },
        {
         "alignmentgroup": "True",
         "hovertemplate": "Pais=%{x}<br>Total de Mortes=%{y}<extra></extra>",
         "legendgroup": "Vietnam",
         "marker": {
          "color": "#00cc96"
         },
         "name": "Vietnam",
         "notched": false,
         "offsetgroup": "Vietnam",
         "orientation": "v",
         "showlegend": true,
         "type": "box",
         "x": [
          "Vietnam"
         ],
         "x0": " ",
         "xaxis": "x",
         "y": [
          29565.65368852459
         ],
         "y0": " ",
         "yaxis": "y"
        },
        {
         "alignmentgroup": "True",
         "hovertemplate": "Pais=%{x}<br>Total de Mortes=%{y}<extra></extra>",
         "legendgroup": "Wallis and Futuna",
         "marker": {
          "color": "#ab63fa"
         },
         "name": "Wallis and Futuna",
         "notched": false,
         "offsetgroup": "Wallis and Futuna",
         "orientation": "v",
         "showlegend": true,
         "type": "box",
         "x": [
          "Wallis and Futuna"
         ],
         "x0": " ",
         "xaxis": "x",
         "y": [
          7.501289767841788
         ],
         "y0": " ",
         "yaxis": "y"
        },
        {
         "alignmentgroup": "True",
         "hovertemplate": "Pais=%{x}<br>Total de Mortes=%{y}<extra></extra>",
         "legendgroup": "Yemen",
         "marker": {
          "color": "#FFA15A"
         },
         "name": "Yemen",
         "notched": false,
         "offsetgroup": "Yemen",
         "orientation": "v",
         "showlegend": true,
         "type": "box",
         "x": [
          "Yemen"
         ],
         "x0": " ",
         "xaxis": "x",
         "y": [
          1682.6893890675242
         ],
         "y0": " ",
         "yaxis": "y"
        },
        {
         "alignmentgroup": "True",
         "hovertemplate": "Pais=%{x}<br>Total de Mortes=%{y}<extra></extra>",
         "legendgroup": "Zambia",
         "marker": {
          "color": "#19d3f3"
         },
         "name": "Zambia",
         "notched": false,
         "offsetgroup": "Zambia",
         "orientation": "v",
         "showlegend": true,
         "type": "box",
         "x": [
          "Zambia"
         ],
         "x0": " ",
         "xaxis": "x",
         "y": [
          2973.051800379027
         ],
         "y0": " ",
         "yaxis": "y"
        },
        {
         "alignmentgroup": "True",
         "hovertemplate": "Pais=%{x}<br>Total de Mortes=%{y}<extra></extra>",
         "legendgroup": "Zimbabwe",
         "marker": {
          "color": "#FF6692"
         },
         "name": "Zimbabwe",
         "notched": false,
         "offsetgroup": "Zimbabwe",
         "orientation": "v",
         "showlegend": true,
         "type": "box",
         "x": [
          "Zimbabwe"
         ],
         "x0": " ",
         "xaxis": "x",
         "y": [
          3960.405338299193
         ],
         "y0": " ",
         "yaxis": "y"
        }
       ],
       "layout": {
        "autosize": true,
        "boxmode": "overlay",
        "legend": {
         "title": {
          "text": "Pais"
         },
         "tracegroupgap": 0
        },
        "margin": {
         "t": 60
        },
        "template": {
         "data": {
          "bar": [
           {
            "error_x": {
             "color": "#2a3f5f"
            },
            "error_y": {
             "color": "#2a3f5f"
            },
            "marker": {
             "line": {
              "color": "#E5ECF6",
              "width": 0.5
             },
             "pattern": {
              "fillmode": "overlay",
              "size": 10,
              "solidity": 0.2
             }
            },
            "type": "bar"
           }
          ],
          "barpolar": [
           {
            "marker": {
             "line": {
              "color": "#E5ECF6",
              "width": 0.5
             },
             "pattern": {
              "fillmode": "overlay",
              "size": 10,
              "solidity": 0.2
             }
            },
            "type": "barpolar"
           }
          ],
          "carpet": [
           {
            "aaxis": {
             "endlinecolor": "#2a3f5f",
             "gridcolor": "white",
             "linecolor": "white",
             "minorgridcolor": "white",
             "startlinecolor": "#2a3f5f"
            },
            "baxis": {
             "endlinecolor": "#2a3f5f",
             "gridcolor": "white",
             "linecolor": "white",
             "minorgridcolor": "white",
             "startlinecolor": "#2a3f5f"
            },
            "type": "carpet"
           }
          ],
          "choropleth": [
           {
            "colorbar": {
             "outlinewidth": 0,
             "ticks": ""
            },
            "type": "choropleth"
           }
          ],
          "contour": [
           {
            "colorbar": {
             "outlinewidth": 0,
             "ticks": ""
            },
            "colorscale": [
             [
              0,
              "#0d0887"
             ],
             [
              0.1111111111111111,
              "#46039f"
             ],
             [
              0.2222222222222222,
              "#7201a8"
             ],
             [
              0.3333333333333333,
              "#9c179e"
             ],
             [
              0.4444444444444444,
              "#bd3786"
             ],
             [
              0.5555555555555556,
              "#d8576b"
             ],
             [
              0.6666666666666666,
              "#ed7953"
             ],
             [
              0.7777777777777778,
              "#fb9f3a"
             ],
             [
              0.8888888888888888,
              "#fdca26"
             ],
             [
              1,
              "#f0f921"
             ]
            ],
            "type": "contour"
           }
          ],
          "contourcarpet": [
           {
            "colorbar": {
             "outlinewidth": 0,
             "ticks": ""
            },
            "type": "contourcarpet"
           }
          ],
          "heatmap": [
           {
            "colorbar": {
             "outlinewidth": 0,
             "ticks": ""
            },
            "colorscale": [
             [
              0,
              "#0d0887"
             ],
             [
              0.1111111111111111,
              "#46039f"
             ],
             [
              0.2222222222222222,
              "#7201a8"
             ],
             [
              0.3333333333333333,
              "#9c179e"
             ],
             [
              0.4444444444444444,
              "#bd3786"
             ],
             [
              0.5555555555555556,
              "#d8576b"
             ],
             [
              0.6666666666666666,
              "#ed7953"
             ],
             [
              0.7777777777777778,
              "#fb9f3a"
             ],
             [
              0.8888888888888888,
              "#fdca26"
             ],
             [
              1,
              "#f0f921"
             ]
            ],
            "type": "heatmap"
           }
          ],
          "heatmapgl": [
           {
            "colorbar": {
             "outlinewidth": 0,
             "ticks": ""
            },
            "colorscale": [
             [
              0,
              "#0d0887"
             ],
             [
              0.1111111111111111,
              "#46039f"
             ],
             [
              0.2222222222222222,
              "#7201a8"
             ],
             [
              0.3333333333333333,
              "#9c179e"
             ],
             [
              0.4444444444444444,
              "#bd3786"
             ],
             [
              0.5555555555555556,
              "#d8576b"
             ],
             [
              0.6666666666666666,
              "#ed7953"
             ],
             [
              0.7777777777777778,
              "#fb9f3a"
             ],
             [
              0.8888888888888888,
              "#fdca26"
             ],
             [
              1,
              "#f0f921"
             ]
            ],
            "type": "heatmapgl"
           }
          ],
          "histogram": [
           {
            "marker": {
             "pattern": {
              "fillmode": "overlay",
              "size": 10,
              "solidity": 0.2
             }
            },
            "type": "histogram"
           }
          ],
          "histogram2d": [
           {
            "colorbar": {
             "outlinewidth": 0,
             "ticks": ""
            },
            "colorscale": [
             [
              0,
              "#0d0887"
             ],
             [
              0.1111111111111111,
              "#46039f"
             ],
             [
              0.2222222222222222,
              "#7201a8"
             ],
             [
              0.3333333333333333,
              "#9c179e"
             ],
             [
              0.4444444444444444,
              "#bd3786"
             ],
             [
              0.5555555555555556,
              "#d8576b"
             ],
             [
              0.6666666666666666,
              "#ed7953"
             ],
             [
              0.7777777777777778,
              "#fb9f3a"
             ],
             [
              0.8888888888888888,
              "#fdca26"
             ],
             [
              1,
              "#f0f921"
             ]
            ],
            "type": "histogram2d"
           }
          ],
          "histogram2dcontour": [
           {
            "colorbar": {
             "outlinewidth": 0,
             "ticks": ""
            },
            "colorscale": [
             [
              0,
              "#0d0887"
             ],
             [
              0.1111111111111111,
              "#46039f"
             ],
             [
              0.2222222222222222,
              "#7201a8"
             ],
             [
              0.3333333333333333,
              "#9c179e"
             ],
             [
              0.4444444444444444,
              "#bd3786"
             ],
             [
              0.5555555555555556,
              "#d8576b"
             ],
             [
              0.6666666666666666,
              "#ed7953"
             ],
             [
              0.7777777777777778,
              "#fb9f3a"
             ],
             [
              0.8888888888888888,
              "#fdca26"
             ],
             [
              1,
              "#f0f921"
             ]
            ],
            "type": "histogram2dcontour"
           }
          ],
          "mesh3d": [
           {
            "colorbar": {
             "outlinewidth": 0,
             "ticks": ""
            },
            "type": "mesh3d"
           }
          ],
          "parcoords": [
           {
            "line": {
             "colorbar": {
              "outlinewidth": 0,
              "ticks": ""
             }
            },
            "type": "parcoords"
           }
          ],
          "pie": [
           {
            "automargin": true,
            "type": "pie"
           }
          ],
          "scatter": [
           {
            "fillpattern": {
             "fillmode": "overlay",
             "size": 10,
             "solidity": 0.2
            },
            "type": "scatter"
           }
          ],
          "scatter3d": [
           {
            "line": {
             "colorbar": {
              "outlinewidth": 0,
              "ticks": ""
             }
            },
            "marker": {
             "colorbar": {
              "outlinewidth": 0,
              "ticks": ""
             }
            },
            "type": "scatter3d"
           }
          ],
          "scattercarpet": [
           {
            "marker": {
             "colorbar": {
              "outlinewidth": 0,
              "ticks": ""
             }
            },
            "type": "scattercarpet"
           }
          ],
          "scattergeo": [
           {
            "marker": {
             "colorbar": {
              "outlinewidth": 0,
              "ticks": ""
             }
            },
            "type": "scattergeo"
           }
          ],
          "scattergl": [
           {
            "marker": {
             "colorbar": {
              "outlinewidth": 0,
              "ticks": ""
             }
            },
            "type": "scattergl"
           }
          ],
          "scattermapbox": [
           {
            "marker": {
             "colorbar": {
              "outlinewidth": 0,
              "ticks": ""
             }
            },
            "type": "scattermapbox"
           }
          ],
          "scatterpolar": [
           {
            "marker": {
             "colorbar": {
              "outlinewidth": 0,
              "ticks": ""
             }
            },
            "type": "scatterpolar"
           }
          ],
          "scatterpolargl": [
           {
            "marker": {
             "colorbar": {
              "outlinewidth": 0,
              "ticks": ""
             }
            },
            "type": "scatterpolargl"
           }
          ],
          "scatterternary": [
           {
            "marker": {
             "colorbar": {
              "outlinewidth": 0,
              "ticks": ""
             }
            },
            "type": "scatterternary"
           }
          ],
          "surface": [
           {
            "colorbar": {
             "outlinewidth": 0,
             "ticks": ""
            },
            "colorscale": [
             [
              0,
              "#0d0887"
             ],
             [
              0.1111111111111111,
              "#46039f"
             ],
             [
              0.2222222222222222,
              "#7201a8"
             ],
             [
              0.3333333333333333,
              "#9c179e"
             ],
             [
              0.4444444444444444,
              "#bd3786"
             ],
             [
              0.5555555555555556,
              "#d8576b"
             ],
             [
              0.6666666666666666,
              "#ed7953"
             ],
             [
              0.7777777777777778,
              "#fb9f3a"
             ],
             [
              0.8888888888888888,
              "#fdca26"
             ],
             [
              1,
              "#f0f921"
             ]
            ],
            "type": "surface"
           }
          ],
          "table": [
           {
            "cells": {
             "fill": {
              "color": "#EBF0F8"
             },
             "line": {
              "color": "white"
             }
            },
            "header": {
             "fill": {
              "color": "#C8D4E3"
             },
             "line": {
              "color": "white"
             }
            },
            "type": "table"
           }
          ]
         },
         "layout": {
          "annotationdefaults": {
           "arrowcolor": "#2a3f5f",
           "arrowhead": 0,
           "arrowwidth": 1
          },
          "autotypenumbers": "strict",
          "coloraxis": {
           "colorbar": {
            "outlinewidth": 0,
            "ticks": ""
           }
          },
          "colorscale": {
           "diverging": [
            [
             0,
             "#8e0152"
            ],
            [
             0.1,
             "#c51b7d"
            ],
            [
             0.2,
             "#de77ae"
            ],
            [
             0.3,
             "#f1b6da"
            ],
            [
             0.4,
             "#fde0ef"
            ],
            [
             0.5,
             "#f7f7f7"
            ],
            [
             0.6,
             "#e6f5d0"
            ],
            [
             0.7,
             "#b8e186"
            ],
            [
             0.8,
             "#7fbc41"
            ],
            [
             0.9,
             "#4d9221"
            ],
            [
             1,
             "#276419"
            ]
           ],
           "sequential": [
            [
             0,
             "#0d0887"
            ],
            [
             0.1111111111111111,
             "#46039f"
            ],
            [
             0.2222222222222222,
             "#7201a8"
            ],
            [
             0.3333333333333333,
             "#9c179e"
            ],
            [
             0.4444444444444444,
             "#bd3786"
            ],
            [
             0.5555555555555556,
             "#d8576b"
            ],
            [
             0.6666666666666666,
             "#ed7953"
            ],
            [
             0.7777777777777778,
             "#fb9f3a"
            ],
            [
             0.8888888888888888,
             "#fdca26"
            ],
            [
             1,
             "#f0f921"
            ]
           ],
           "sequentialminus": [
            [
             0,
             "#0d0887"
            ],
            [
             0.1111111111111111,
             "#46039f"
            ],
            [
             0.2222222222222222,
             "#7201a8"
            ],
            [
             0.3333333333333333,
             "#9c179e"
            ],
            [
             0.4444444444444444,
             "#bd3786"
            ],
            [
             0.5555555555555556,
             "#d8576b"
            ],
            [
             0.6666666666666666,
             "#ed7953"
            ],
            [
             0.7777777777777778,
             "#fb9f3a"
            ],
            [
             0.8888888888888888,
             "#fdca26"
            ],
            [
             1,
             "#f0f921"
            ]
           ]
          },
          "colorway": [
           "#636efa",
           "#EF553B",
           "#00cc96",
           "#ab63fa",
           "#FFA15A",
           "#19d3f3",
           "#FF6692",
           "#B6E880",
           "#FF97FF",
           "#FECB52"
          ],
          "font": {
           "color": "#2a3f5f"
          },
          "geo": {
           "bgcolor": "white",
           "lakecolor": "white",
           "landcolor": "#E5ECF6",
           "showlakes": true,
           "showland": true,
           "subunitcolor": "white"
          },
          "hoverlabel": {
           "align": "left"
          },
          "hovermode": "closest",
          "mapbox": {
           "style": "light"
          },
          "paper_bgcolor": "white",
          "plot_bgcolor": "#E5ECF6",
          "polar": {
           "angularaxis": {
            "gridcolor": "white",
            "linecolor": "white",
            "ticks": ""
           },
           "bgcolor": "#E5ECF6",
           "radialaxis": {
            "gridcolor": "white",
            "linecolor": "white",
            "ticks": ""
           }
          },
          "scene": {
           "xaxis": {
            "backgroundcolor": "#E5ECF6",
            "gridcolor": "white",
            "gridwidth": 2,
            "linecolor": "white",
            "showbackground": true,
            "ticks": "",
            "zerolinecolor": "white"
           },
           "yaxis": {
            "backgroundcolor": "#E5ECF6",
            "gridcolor": "white",
            "gridwidth": 2,
            "linecolor": "white",
            "showbackground": true,
            "ticks": "",
            "zerolinecolor": "white"
           },
           "zaxis": {
            "backgroundcolor": "#E5ECF6",
            "gridcolor": "white",
            "gridwidth": 2,
            "linecolor": "white",
            "showbackground": true,
            "ticks": "",
            "zerolinecolor": "white"
           }
          },
          "shapedefaults": {
           "line": {
            "color": "#2a3f5f"
           }
          },
          "ternary": {
           "aaxis": {
            "gridcolor": "white",
            "linecolor": "white",
            "ticks": ""
           },
           "baxis": {
            "gridcolor": "white",
            "linecolor": "white",
            "ticks": ""
           },
           "bgcolor": "#E5ECF6",
           "caxis": {
            "gridcolor": "white",
            "linecolor": "white",
            "ticks": ""
           }
          },
          "title": {
           "x": 0.05
          },
          "xaxis": {
           "automargin": true,
           "gridcolor": "white",
           "linecolor": "white",
           "ticks": "",
           "title": {
            "standoff": 15
           },
           "zerolinecolor": "white",
           "zerolinewidth": 2
          },
          "yaxis": {
           "automargin": true,
           "gridcolor": "white",
           "linecolor": "white",
           "ticks": "",
           "title": {
            "standoff": 15
           },
           "zerolinecolor": "white",
           "zerolinewidth": 2
          }
         }
        },
        "xaxis": {
         "anchor": "y",
         "autorange": true,
         "categoryarray": [
          "Afghanistan",
          "Africa",
          "Albania",
          "Algeria",
          "American Samoa",
          "Andorra",
          "Angola",
          "Anguilla",
          "Antigua and Barbuda",
          "Argentina",
          "Armenia",
          "Aruba",
          "Asia",
          "Australia",
          "Austria",
          "Azerbaijan",
          "Bahamas",
          "Bahrain",
          "Bangladesh",
          "Barbados",
          "Belarus",
          "Belgium",
          "Belize",
          "Benin",
          "Bermuda",
          "Bhutan",
          "Bolivia",
          "Bonaire Sint Eustatius and Saba",
          "Bosnia and Herzegovina",
          "Botswana",
          "Brazil",
          "British Virgin Islands",
          "Brunei",
          "Bulgaria",
          "Burkina Faso",
          "Burundi",
          "Cambodia",
          "Cameroon",
          "Canada",
          "Cape Verde",
          "Cayman Islands",
          "Central African Republic",
          "Chad",
          "Chile",
          "China",
          "Colombia",
          "Comoros",
          "Congo",
          "Cook Islands",
          "Costa Rica",
          "Cote d'Ivoire",
          "Croatia",
          "Cuba",
          "Curacao",
          "Cyprus",
          "Czechia",
          "Democratic Republic of Congo",
          "Denmark",
          "Djibouti",
          "Dominica",
          "Dominican Republic",
          "East Timor",
          "Ecuador",
          "Egypt",
          "El Salvador",
          "Equatorial Guinea",
          "Eritrea",
          "Estonia",
          "Eswatini",
          "Ethiopia",
          "Europe",
          "European Union (27)",
          "Faroe Islands",
          "Fiji",
          "Finland",
          "France",
          "French Guiana",
          "French Polynesia",
          "Gabon",
          "Gambia",
          "Georgia",
          "Germany",
          "Ghana",
          "Gibraltar",
          "Greece",
          "Greenland",
          "Grenada",
          "Guadeloupe",
          "Guam",
          "Guatemala",
          "Guernsey",
          "Guinea",
          "Guinea-Bissau",
          "Guyana",
          "Haiti",
          "High-income countries",
          "Honduras",
          "Hungary",
          "Iceland",
          "India",
          "Indonesia",
          "Iran",
          "Iraq",
          "Ireland",
          "Isle of Man",
          "Israel",
          "Italy",
          "Jamaica",
          "Japan",
          "Jersey",
          "Jordan",
          "Kazakhstan",
          "Kenya",
          "Kiribati",
          "Kosovo",
          "Kuwait",
          "Kyrgyzstan",
          "Laos",
          "Latvia",
          "Lebanon",
          "Lesotho",
          "Liberia",
          "Libya",
          "Liechtenstein",
          "Lithuania",
          "Low-income countries",
          "Lower-middle-income countries",
          "Luxembourg",
          "Madagascar",
          "Malawi",
          "Malaysia",
          "Maldives",
          "Mali",
          "Malta",
          "Marshall Islands",
          "Martinique",
          "Mauritania",
          "Mauritius",
          "Mayotte",
          "Mexico",
          "Micronesia (country)",
          "Moldova",
          "Monaco",
          "Mongolia",
          "Montenegro",
          "Montserrat",
          "Morocco",
          "Mozambique",
          "Myanmar",
          "Namibia",
          "Nauru",
          "Nepal",
          "Netherlands",
          "New Caledonia",
          "New Zealand",
          "Nicaragua",
          "Niger",
          "Nigeria",
          "North America",
          "North Macedonia",
          "Northern Mariana Islands",
          "Norway",
          "Oceania",
          "Oman",
          "Pakistan",
          "Palau",
          "Palestine",
          "Panama",
          "Papua New Guinea",
          "Paraguay",
          "Peru",
          "Philippines",
          "Poland",
          "Portugal",
          "Puerto Rico",
          "Qatar",
          "Reunion",
          "Romania",
          "Russia",
          "Rwanda",
          "Saint Barthelemy",
          "Saint Kitts and Nevis",
          "Saint Lucia",
          "Saint Martin (French part)",
          "Saint Pierre and Miquelon",
          "Saint Vincent and the Grenadines",
          "Samoa",
          "San Marino",
          "Sao Tome and Principe",
          "Saudi Arabia",
          "Senegal",
          "Serbia",
          "Seychelles",
          "Sierra Leone",
          "Singapore",
          "Sint Maarten (Dutch part)",
          "Slovakia",
          "Slovenia",
          "Solomon Islands",
          "Somalia",
          "South Africa",
          "South America",
          "South Korea",
          "South Sudan",
          "Spain",
          "Sri Lanka",
          "Sudan",
          "Suriname",
          "Sweden",
          "Switzerland",
          "Syria",
          "Tajikistan",
          "Tanzania",
          "Thailand",
          "Togo",
          "Tonga",
          "Trinidad and Tobago",
          "Tunisia",
          "Turkey",
          "Turks and Caicos Islands",
          "Tuvalu",
          "Uganda",
          "Ukraine",
          "United Arab Emirates",
          "United Kingdom",
          "United States",
          "United States Virgin Islands",
          "Upper-middle-income countries",
          "Uruguay",
          "Uzbekistan",
          "Vanuatu",
          "Venezuela",
          "Vietnam",
          "Wallis and Futuna",
          "Yemen",
          "Zambia",
          "Zimbabwe"
         ],
         "categoryorder": "array",
         "domain": [
          0,
          1
         ],
         "range": [
          -0.5,
          236.5
         ],
         "title": {
          "text": "Pais"
         },
         "type": "category"
        },
        "yaxis": {
         "anchor": "x",
         "autorange": true,
         "domain": [
          0,
          1
         ],
         "range": [
          -109646.34302402764,
          2083300.5174565245
         ],
         "title": {
          "text": "Total de Mortes"
         },
         "type": "linear"
        }
       }
      },
      "image/png": "[encoded data removed]",
      "text/html": [
       "<div>                            <div id=\"af28a43a-ab3c-44f7-9e4c-8d1a9e220852\" class=\"plotly-graph-div\" style=\"height:525px; width:100%;\"></div>            <script type=\"text/javascript\">                require([\"plotly\"], function(Plotly) {                    window.PLOTLYENV=window.PLOTLYENV || {};                                    if (document.getElementById(\"af28a43a-ab3c-44f7-9e4c-8d1a9e220852\")) {                    Plotly.newPlot(                        \"af28a43a-ab3c-44f7-9e4c-8d1a9e220852\",                        [{\"alignmentgroup\":\"True\",\"hovertemplate\":\"Pais=%{x}\\u003cbr\\u003eTotal de Mortes=%{y}\\u003cextra\\u003e\\u003c\\u002fextra\\u003e\",\"legendgroup\":\"Afghanistan\",\"marker\":{\"color\":\"#636efa\"},\"name\":\"Afghanistan\",\"notched\":false,\"offsetgroup\":\"Afghanistan\",\"orientation\":\"v\",\"showlegend\":true,\"x\":[\"Afghanistan\"],\"x0\":\" \",\"xaxis\":\"x\",\"y\":[5963.866037735849],\"y0\":\" \",\"yaxis\":\"y\",\"type\":\"box\"},{\"alignmentgroup\":\"True\",\"hovertemplate\":\"Pais=%{x}\\u003cbr\\u003eTotal de Mortes=%{y}\\u003cextra\\u003e\\u003c\\u002fextra\\u003e\",\"legendgroup\":\"Africa\",\"marker\":{\"color\":\"#EF553B\"},\"name\":\"Africa\",\"notched\":false,\"offsetgroup\":\"Africa\",\"orientation\":\"v\",\"showlegend\":true,\"x\":[\"Africa\"],\"x0\":\" \",\"xaxis\":\"x\",\"y\":[190537.43947858474],\"y0\":\" \",\"yaxis\":\"y\",\"type\":\"box\"},{\"alignmentgroup\":\"True\",\"hovertemplate\":\"Pais=%{x}\\u003cbr\\u003eTotal de Mortes=%{y}\\u003cextra\\u003e\\u003c\\u002fextra\\u003e\",\"legendgroup\":\"Albania\",\"marker\":{\"color\":\"#00cc96\"},\"name\":\"Albania\",\"notched\":false,\"offsetgroup\":\"Albania\",\"orientation\":\"v\",\"showlegend\":true,\"x\":[\"Albania\"],\"x0\":\" \",\"xaxis\":\"x\",\"y\":[2693.3809226932667],\"y0\":\" \",\"yaxis\":\"y\",\"type\":\"box\"},{\"alignmentgroup\":\"True\",\"hovertemplate\":\"Pais=%{x}\\u003cbr\\u003eTotal de Mortes=%{y}\\u003cextra\\u003e\\u003c\\u002fextra\\u003e\",\"legendgroup\":\"Algeria\",\"marker\":{\"color\":\"#ab63fa\"},\"name\":\"Algeria\",\"notched\":false,\"offsetgroup\":\"Algeria\",\"orientation\":\"v\",\"showlegend\":true,\"x\":[\"Algeria\"],\"x0\":\" \",\"xaxis\":\"x\",\"y\":[5288.847798742138],\"y0\":\" \",\"yaxis\":\"y\",\"type\":\"box\"},{\"alignmentgroup\":\"True\",\"hovertemplate\":\"Pais=%{x}\\u003cbr\\u003eTotal de Mortes=%{y}\\u003cextra\\u003e\\u003c\\u002fextra\\u003e\",\"legendgroup\":\"American Samoa\",\"marker\":{\"color\":\"#FFA15A\"},\"name\":\"American Samoa\",\"notched\":false,\"offsetgroup\":\"American Samoa\",\"orientation\":\"v\",\"showlegend\":true,\"x\":[\"American Samoa\"],\"x0\":\" \",\"xaxis\":\"x\",\"y\":[32.725058004640374],\"y0\":\" \",\"yaxis\":\"y\",\"type\":\"box\"},{\"alignmentgroup\":\"True\",\"hovertemplate\":\"Pais=%{x}\\u003cbr\\u003eTotal de Mortes=%{y}\\u003cextra\\u003e\\u003c\\u002fextra\\u003e\",\"legendgroup\":\"Andorra\",\"marker\":{\"color\":\"#19d3f3\"},\"name\":\"Andorra\",\"notched\":false,\"offsetgroup\":\"Andorra\",\"orientation\":\"v\",\"showlegend\":true,\"x\":[\"Andorra\"],\"x0\":\" \",\"xaxis\":\"x\",\"y\":[130.13650594865373],\"y0\":\" \",\"yaxis\":\"y\",\"type\":\"box\"},{\"alignmentgroup\":\"True\",\"hovertemplate\":\"Pais=%{x}\\u003cbr\\u003eTotal de Mortes=%{y}\\u003cextra\\u003e\\u003c\\u002fextra\\u003e\",\"legendgroup\":\"Angola\",\"marker\":{\"color\":\"#FF6692\"},\"name\":\"Angola\",\"notched\":false,\"offsetgroup\":\"Angola\",\"orientation\":\"v\",\"showlegend\":true,\"x\":[\"Angola\"],\"x0\":\" \",\"xaxis\":\"x\",\"y\":[1446.8631029986961],\"y0\":\" \",\"yaxis\":\"y\",\"type\":\"box\"},{\"alignmentgroup\":\"True\",\"hovertemplate\":\"Pais=%{x}\\u003cbr\\u003eTotal de Mortes=%{y}\\u003cextra\\u003e\\u003c\\u002fextra\\u003e\",\"legendgroup\":\"Anguilla\",\"marker\":{\"color\":\"#B6E880\"},\"name\":\"Anguilla\",\"notched\":false,\"offsetgroup\":\"Anguilla\",\"orientation\":\"v\",\"showlegend\":true,\"x\":[\"Anguilla\"],\"x0\":\" \",\"xaxis\":\"x\",\"y\":[10.317049808429118],\"y0\":\" \",\"yaxis\":\"y\",\"type\":\"box\"},{\"alignmentgroup\":\"True\",\"hovertemplate\":\"Pais=%{x}\\u003cbr\\u003eTotal de Mortes=%{y}\\u003cextra\\u003e\\u003c\\u002fextra\\u003e\",\"legendgroup\":\"Antigua and Barbuda\",\"marker\":{\"color\":\"#FF97FF\"},\"name\":\"Antigua and Barbuda\",\"notched\":false,\"offsetgroup\":\"Antigua and Barbuda\",\"orientation\":\"v\",\"showlegend\":true,\"x\":[\"Antigua and Barbuda\"],\"x0\":\" \",\"xaxis\":\"x\",\"y\":[98.24365482233503],\"y0\":\" \",\"yaxis\":\"y\",\"type\":\"box\"},{\"alignmentgroup\":\"True\",\"hovertemplate\":\"Pais=%{x}\\u003cbr\\u003eTotal de Mortes=%{y}\\u003cextra\\u003e\\u003c\\u002fextra\\u003e\",\"legendgroup\":\"Argentina\",\"marker\":{\"color\":\"#FECB52\"},\"name\":\"Argentina\",\"notched\":false,\"offsetgroup\":\"Argentina\",\"orientation\":\"v\",\"showlegend\":true,\"x\":[\"Argentina\"],\"x0\":\" \",\"xaxis\":\"x\",\"y\":[100155.49224084419],\"y0\":\" \",\"yaxis\":\"y\",\"type\":\"box\"},{\"alignmentgroup\":\"True\",\"hovertemplate\":\"Pais=%{x}\\u003cbr\\u003eTotal de Mortes=%{y}\\u003cextra\\u003e\\u003c\\u002fextra\\u003e\",\"legendgroup\":\"Armenia\",\"marker\":{\"color\":\"#636efa\"},\"name\":\"Armenia\",\"notched\":false,\"offsetgroup\":\"Armenia\",\"orientation\":\"v\",\"showlegend\":true,\"x\":[\"Armenia\"],\"x0\":\" \",\"xaxis\":\"x\",\"y\":[6403.696226415094],\"y0\":\" \",\"yaxis\":\"y\",\"type\":\"box\"},{\"alignmentgroup\":\"True\",\"hovertemplate\":\"Pais=%{x}\\u003cbr\\u003eTotal de Mortes=%{y}\\u003cextra\\u003e\\u003c\\u002fextra\\u003e\",\"legendgroup\":\"Aruba\",\"marker\":{\"color\":\"#EF553B\"},\"name\":\"Aruba\",\"notched\":false,\"offsetgroup\":\"Aruba\",\"orientation\":\"v\",\"showlegend\":true,\"x\":[\"Aruba\"],\"x0\":\" \",\"xaxis\":\"x\",\"y\":[188.57042702358189],\"y0\":\" \",\"yaxis\":\"y\",\"type\":\"box\"},{\"alignmentgroup\":\"True\",\"hovertemplate\":\"Pais=%{x}\\u003cbr\\u003eTotal de Mortes=%{y}\\u003cextra\\u003e\\u003c\\u002fextra\\u003e\",\"legendgroup\":\"Asia\",\"marker\":{\"color\":\"#00cc96\"},\"name\":\"Asia\",\"notched\":false,\"offsetgroup\":\"Asia\",\"orientation\":\"v\",\"showlegend\":true,\"x\":[\"Asia\"],\"x0\":\" \",\"xaxis\":\"x\",\"y\":[1074028.1223755248],\"y0\":\" \",\"yaxis\":\"y\",\"type\":\"box\"},{\"alignmentgroup\":\"True\",\"hovertemplate\":\"Pais=%{x}\\u003cbr\\u003eTotal de Mortes=%{y}\\u003cextra\\u003e\\u003c\\u002fextra\\u003e\",\"legendgroup\":\"Australia\",\"marker\":{\"color\":\"#ab63fa\"},\"name\":\"Australia\",\"notched\":false,\"offsetgroup\":\"Australia\",\"orientation\":\"v\",\"showlegend\":true,\"x\":[\"Australia\"],\"x0\":\" \",\"xaxis\":\"x\",\"y\":[11194.760397268778],\"y0\":\" \",\"yaxis\":\"y\",\"type\":\"box\"},{\"alignmentgroup\":\"True\",\"hovertemplate\":\"Pais=%{x}\\u003cbr\\u003eTotal de Mortes=%{y}\\u003cextra\\u003e\\u003c\\u002fextra\\u003e\",\"legendgroup\":\"Austria\",\"marker\":{\"color\":\"#FFA15A\"},\"name\":\"Austria\",\"notched\":false,\"offsetgroup\":\"Austria\",\"orientation\":\"v\",\"showlegend\":true,\"x\":[\"Austria\"],\"x0\":\" \",\"xaxis\":\"x\",\"y\":[15696.352867830425],\"y0\":\" \",\"yaxis\":\"y\",\"type\":\"box\"},{\"alignmentgroup\":\"True\",\"hovertemplate\":\"Pais=%{x}\\u003cbr\\u003eTotal de Mortes=%{y}\\u003cextra\\u003e\\u003c\\u002fextra\\u003e\",\"legendgroup\":\"Azerbaijan\",\"marker\":{\"color\":\"#19d3f3\"},\"name\":\"Azerbaijan\",\"notched\":false,\"offsetgroup\":\"Azerbaijan\",\"orientation\":\"v\",\"showlegend\":true,\"x\":[\"Azerbaijan\"],\"x0\":\" \",\"xaxis\":\"x\",\"y\":[7209.894802755166],\"y0\":\" \",\"yaxis\":\"y\",\"type\":\"box\"},{\"alignmentgroup\":\"True\",\"hovertemplate\":\"Pais=%{x}\\u003cbr\\u003eTotal de Mortes=%{y}\\u003cextra\\u003e\\u003c\\u002fextra\\u003e\",\"legendgroup\":\"Bahamas\",\"marker\":{\"color\":\"#FF6692\"},\"name\":\"Bahamas\",\"notched\":false,\"offsetgroup\":\"Bahamas\",\"orientation\":\"v\",\"showlegend\":true,\"x\":[\"Bahamas\"],\"x0\":\" \",\"xaxis\":\"x\",\"y\":[586.4049273531269],\"y0\":\" \",\"yaxis\":\"y\",\"type\":\"box\"},{\"alignmentgroup\":\"True\",\"hovertemplate\":\"Pais=%{x}\\u003cbr\\u003eTotal de Mortes=%{y}\\u003cextra\\u003e\\u003c\\u002fextra\\u003e\",\"legendgroup\":\"Bahrain\",\"marker\":{\"color\":\"#B6E880\"},\"name\":\"Bahrain\",\"notched\":false,\"offsetgroup\":\"Bahrain\",\"orientation\":\"v\",\"showlegend\":true,\"x\":[\"Bahrain\"],\"x0\":\" \",\"xaxis\":\"x\",\"y\":[1158.1534126487163],\"y0\":\" \",\"yaxis\":\"y\",\"type\":\"box\"},{\"alignmentgroup\":\"True\",\"hovertemplate\":\"Pais=%{x}\\u003cbr\\u003eTotal de Mortes=%{y}\\u003cextra\\u003e\\u003c\\u002fextra\\u003e\",\"legendgroup\":\"Bangladesh\",\"marker\":{\"color\":\"#FF97FF\"},\"name\":\"Bangladesh\",\"notched\":false,\"offsetgroup\":\"Bangladesh\",\"orientation\":\"v\",\"showlegend\":true,\"x\":[\"Bangladesh\"],\"x0\":\" \",\"xaxis\":\"x\",\"y\":[22015.535378835317],\"y0\":\" \",\"yaxis\":\"y\",\"type\":\"box\"},{\"alignmentgroup\":\"True\",\"hovertemplate\":\"Pais=%{x}\\u003cbr\\u003eTotal de Mortes=%{y}\\u003cextra\\u003e\\u003c\\u002fextra\\u003e\",\"legendgroup\":\"Barbados\",\"marker\":{\"color\":\"#FECB52\"},\"name\":\"Barbados\",\"notched\":false,\"offsetgroup\":\"Barbados\",\"orientation\":\"v\",\"showlegend\":true,\"x\":[\"Barbados\"],\"x0\":\" \",\"xaxis\":\"x\",\"y\":[339.8984771573604],\"y0\":\" \",\"yaxis\":\"y\",\"type\":\"box\"},{\"alignmentgroup\":\"True\",\"hovertemplate\":\"Pais=%{x}\\u003cbr\\u003eTotal de Mortes=%{y}\\u003cextra\\u003e\\u003c\\u002fextra\\u003e\",\"legendgroup\":\"Belarus\",\"marker\":{\"color\":\"#636efa\"},\"name\":\"Belarus\",\"notched\":false,\"offsetgroup\":\"Belarus\",\"orientation\":\"v\",\"showlegend\":true,\"x\":[\"Belarus\"],\"x0\":\" \",\"xaxis\":\"x\",\"y\":[5044.456727732154],\"y0\":\" \",\"yaxis\":\"y\",\"type\":\"box\"},{\"alignmentgroup\":\"True\",\"hovertemplate\":\"Pais=%{x}\\u003cbr\\u003eTotal de Mortes=%{y}\\u003cextra\\u003e\\u003c\\u002fextra\\u003e\",\"legendgroup\":\"Belgium\",\"marker\":{\"color\":\"#EF553B\"},\"name\":\"Belgium\",\"notched\":false,\"offsetgroup\":\"Belgium\",\"orientation\":\"v\",\"showlegend\":true,\"x\":[\"Belgium\"],\"x0\":\" \",\"xaxis\":\"x\",\"y\":[26989.349127182046],\"y0\":\" \",\"yaxis\":\"y\",\"type\":\"box\"},{\"alignmentgroup\":\"True\",\"hovertemplate\":\"Pais=%{x}\\u003cbr\\u003eTotal de Mortes=%{y}\\u003cextra\\u003e\\u003c\\u002fextra\\u003e\",\"legendgroup\":\"Belize\",\"marker\":{\"color\":\"#00cc96\"},\"name\":\"Belize\",\"notched\":false,\"offsetgroup\":\"Belize\",\"orientation\":\"v\",\"showlegend\":true,\"x\":[\"Belize\"],\"x0\":\" \",\"xaxis\":\"x\",\"y\":[501.7715736040609],\"y0\":\" \",\"yaxis\":\"y\",\"type\":\"box\"},{\"alignmentgroup\":\"True\",\"hovertemplate\":\"Pais=%{x}\\u003cbr\\u003eTotal de Mortes=%{y}\\u003cextra\\u003e\\u003c\\u002fextra\\u003e\",\"legendgroup\":\"Benin\",\"marker\":{\"color\":\"#ab63fa\"},\"name\":\"Benin\",\"notched\":false,\"offsetgroup\":\"Benin\",\"orientation\":\"v\",\"showlegend\":true,\"x\":[\"Benin\"],\"x0\":\" \",\"xaxis\":\"x\",\"y\":[129.93118971061094],\"y0\":\" \",\"yaxis\":\"y\",\"type\":\"box\"},{\"alignmentgroup\":\"True\",\"hovertemplate\":\"Pais=%{x}\\u003cbr\\u003eTotal de Mortes=%{y}\\u003cextra\\u003e\\u003c\\u002fextra\\u003e\",\"legendgroup\":\"Bermuda\",\"marker\":{\"color\":\"#FFA15A\"},\"name\":\"Bermuda\",\"notched\":false,\"offsetgroup\":\"Bermuda\",\"orientation\":\"v\",\"showlegend\":true,\"x\":[\"Bermuda\"],\"x0\":\" \",\"xaxis\":\"x\",\"y\":[103.6744923857868],\"y0\":\" \",\"yaxis\":\"y\",\"type\":\"box\"},{\"alignmentgroup\":\"True\",\"hovertemplate\":\"Pais=%{x}\\u003cbr\\u003eTotal de Mortes=%{y}\\u003cextra\\u003e\\u003c\\u002fextra\\u003e\",\"legendgroup\":\"Bhutan\",\"marker\":{\"color\":\"#19d3f3\"},\"name\":\"Bhutan\",\"notched\":false,\"offsetgroup\":\"Bhutan\",\"orientation\":\"v\",\"showlegend\":true,\"x\":[\"Bhutan\"],\"x0\":\" \",\"xaxis\":\"x\",\"y\":[14.553338449731388],\"y0\":\" \",\"yaxis\":\"y\",\"type\":\"box\"},{\"alignmentgroup\":\"True\",\"hovertemplate\":\"Pais=%{x}\\u003cbr\\u003eTotal de Mortes=%{y}\\u003cextra\\u003e\\u003c\\u002fextra\\u003e\",\"legendgroup\":\"Bolivia\",\"marker\":{\"color\":\"#FF6692\"},\"name\":\"Bolivia\",\"notched\":false,\"offsetgroup\":\"Bolivia\",\"orientation\":\"v\",\"showlegend\":true,\"x\":[\"Bolivia\"],\"x0\":\" \",\"xaxis\":\"x\",\"y\":[17556.730259001895],\"y0\":\" \",\"yaxis\":\"y\",\"type\":\"box\"},{\"alignmentgroup\":\"True\",\"hovertemplate\":\"Pais=%{x}\\u003cbr\\u003eTotal de Mortes=%{y}\\u003cextra\\u003e\\u003c\\u002fextra\\u003e\",\"legendgroup\":\"Bonaire Sint Eustatius and Saba\",\"marker\":{\"color\":\"#B6E880\"},\"name\":\"Bonaire Sint Eustatius and Saba\",\"notched\":false,\"offsetgroup\":\"Bonaire Sint Eustatius and Saba\",\"orientation\":\"v\",\"showlegend\":true,\"x\":[\"Bonaire Sint Eustatius and Saba\"],\"x0\":\" \",\"xaxis\":\"x\",\"y\":[29.66643109540636],\"y0\":\" \",\"yaxis\":\"y\",\"type\":\"box\"},{\"alignmentgroup\":\"True\",\"hovertemplate\":\"Pais=%{x}\\u003cbr\\u003eTotal de Mortes=%{y}\\u003cextra\\u003e\\u003c\\u002fextra\\u003e\",\"legendgroup\":\"Bosnia and Herzegovina\",\"marker\":{\"color\":\"#FF97FF\"},\"name\":\"Bosnia and Herzegovina\",\"notched\":false,\"offsetgroup\":\"Bosnia and Herzegovina\",\"orientation\":\"v\",\"showlegend\":true,\"x\":[\"Bosnia and Herzegovina\"],\"x0\":\" \",\"xaxis\":\"x\",\"y\":[11706.628678772699],\"y0\":\" \",\"yaxis\":\"y\",\"type\":\"box\"},{\"alignmentgroup\":\"True\",\"hovertemplate\":\"Pais=%{x}\\u003cbr\\u003eTotal de Mortes=%{y}\\u003cextra\\u003e\\u003c\\u002fextra\\u003e\",\"legendgroup\":\"Botswana\",\"marker\":{\"color\":\"#FECB52\"},\"name\":\"Botswana\",\"notched\":false,\"offsetgroup\":\"Botswana\",\"orientation\":\"v\",\"showlegend\":true,\"x\":[\"Botswana\"],\"x0\":\" \",\"xaxis\":\"x\",\"y\":[1955.0698113207548],\"y0\":\" \",\"yaxis\":\"y\",\"type\":\"box\"},{\"alignmentgroup\":\"True\",\"hovertemplate\":\"Pais=%{x}\\u003cbr\\u003eTotal de Mortes=%{y}\\u003cextra\\u003e\\u003c\\u002fextra\\u003e\",\"legendgroup\":\"Brazil\",\"marker\":{\"color\":\"#636efa\"},\"name\":\"Brazil\",\"notched\":false,\"offsetgroup\":\"Brazil\",\"orientation\":\"v\",\"showlegend\":true,\"x\":[\"Brazil\"],\"x0\":\" \",\"xaxis\":\"x\",\"y\":[529451.1596743895],\"y0\":\" \",\"yaxis\":\"y\",\"type\":\"box\"},{\"alignmentgroup\":\"True\",\"hovertemplate\":\"Pais=%{x}\\u003cbr\\u003eTotal de Mortes=%{y}\\u003cextra\\u003e\\u003c\\u002fextra\\u003e\",\"legendgroup\":\"British Virgin Islands\",\"marker\":{\"color\":\"#EF553B\"},\"name\":\"British Virgin Islands\",\"notched\":false,\"offsetgroup\":\"British Virgin Islands\",\"orientation\":\"v\",\"showlegend\":true,\"x\":[\"British Virgin Islands\"],\"x0\":\" \",\"xaxis\":\"x\",\"y\":[42.15749039692702],\"y0\":\" \",\"yaxis\":\"y\",\"type\":\"box\"},{\"alignmentgroup\":\"True\",\"hovertemplate\":\"Pais=%{x}\\u003cbr\\u003eTotal de Mortes=%{y}\\u003cextra\\u003e\\u003c\\u002fextra\\u003e\",\"legendgroup\":\"Brunei\",\"marker\":{\"color\":\"#00cc96\"},\"name\":\"Brunei\",\"notched\":false,\"offsetgroup\":\"Brunei\",\"orientation\":\"v\",\"showlegend\":true,\"x\":[\"Brunei\"],\"x0\":\" \",\"xaxis\":\"x\",\"y\":[90.6062893081761],\"y0\":\" \",\"yaxis\":\"y\",\"type\":\"box\"},{\"alignmentgroup\":\"True\",\"hovertemplate\":\"Pais=%{x}\\u003cbr\\u003eTotal de Mortes=%{y}\\u003cextra\\u003e\\u003c\\u002fextra\\u003e\",\"legendgroup\":\"Bulgaria\",\"marker\":{\"color\":\"#ab63fa\"},\"name\":\"Bulgaria\",\"notched\":false,\"offsetgroup\":\"Bulgaria\",\"orientation\":\"v\",\"showlegend\":true,\"x\":[\"Bulgaria\"],\"x0\":\" \",\"xaxis\":\"x\",\"y\":[26507.125935162094],\"y0\":\" \",\"yaxis\":\"y\",\"type\":\"box\"},{\"alignmentgroup\":\"True\",\"hovertemplate\":\"Pais=%{x}\\u003cbr\\u003eTotal de Mortes=%{y}\\u003cextra\\u003e\\u003c\\u002fextra\\u003e\",\"legendgroup\":\"Burkina Faso\",\"marker\":{\"color\":\"#FFA15A\"},\"name\":\"Burkina Faso\",\"notched\":false,\"offsetgroup\":\"Burkina Faso\",\"orientation\":\"v\",\"showlegend\":true,\"x\":[\"Burkina Faso\"],\"x0\":\" \",\"xaxis\":\"x\",\"y\":[281.4514715090795],\"y0\":\" \",\"yaxis\":\"y\",\"type\":\"box\"},{\"alignmentgroup\":\"True\",\"hovertemplate\":\"Pais=%{x}\\u003cbr\\u003eTotal de Mortes=%{y}\\u003cextra\\u003e\\u003c\\u002fextra\\u003e\",\"legendgroup\":\"Burundi\",\"marker\":{\"color\":\"#19d3f3\"},\"name\":\"Burundi\",\"notched\":false,\"offsetgroup\":\"Burundi\",\"orientation\":\"v\",\"showlegend\":true,\"x\":[\"Burundi\"],\"x0\":\" \",\"xaxis\":\"x\",\"y\":[11.163161249203315],\"y0\":\" \",\"yaxis\":\"y\",\"type\":\"box\"},{\"alignmentgroup\":\"True\",\"hovertemplate\":\"Pais=%{x}\\u003cbr\\u003eTotal de Mortes=%{y}\\u003cextra\\u003e\\u003c\\u002fextra\\u003e\",\"legendgroup\":\"Cambodia\",\"marker\":{\"color\":\"#FF6692\"},\"name\":\"Cambodia\",\"notched\":false,\"offsetgroup\":\"Cambodia\",\"orientation\":\"v\",\"showlegend\":true,\"x\":[\"Cambodia\"],\"x0\":\" \",\"xaxis\":\"x\",\"y\":[2666.7096774193546],\"y0\":\" \",\"yaxis\":\"y\",\"type\":\"box\"},{\"alignmentgroup\":\"True\",\"hovertemplate\":\"Pais=%{x}\\u003cbr\\u003eTotal de Mortes=%{y}\\u003cextra\\u003e\\u003c\\u002fextra\\u003e\",\"legendgroup\":\"Cameroon\",\"marker\":{\"color\":\"#B6E880\"},\"name\":\"Cameroon\",\"notched\":false,\"offsetgroup\":\"Cameroon\",\"orientation\":\"v\",\"showlegend\":true,\"x\":[\"Cameroon\"],\"x0\":\" \",\"xaxis\":\"x\",\"y\":[1495.3937106918238],\"y0\":\" \",\"yaxis\":\"y\",\"type\":\"box\"},{\"alignmentgroup\":\"True\",\"hovertemplate\":\"Pais=%{x}\\u003cbr\\u003eTotal de Mortes=%{y}\\u003cextra\\u003e\\u003c\\u002fextra\\u003e\",\"legendgroup\":\"Canada\",\"marker\":{\"color\":\"#FF97FF\"},\"name\":\"Canada\",\"notched\":false,\"offsetgroup\":\"Canada\",\"orientation\":\"v\",\"showlegend\":true,\"x\":[\"Canada\"],\"x0\":\" \",\"xaxis\":\"x\",\"y\":[35709.51995012469],\"y0\":\" \",\"yaxis\":\"y\",\"type\":\"box\"},{\"alignmentgroup\":\"True\",\"hovertemplate\":\"Pais=%{x}\\u003cbr\\u003eTotal de Mortes=%{y}\\u003cextra\\u003e\\u003c\\u002fextra\\u003e\",\"legendgroup\":\"Cape Verde\",\"marker\":{\"color\":\"#FECB52\"},\"name\":\"Cape Verde\",\"notched\":false,\"offsetgroup\":\"Cape Verde\",\"orientation\":\"v\",\"showlegend\":true,\"x\":[\"Cape Verde\"],\"x0\":\" \",\"xaxis\":\"x\",\"y\":[317.82057877813503],\"y0\":\" \",\"yaxis\":\"y\",\"type\":\"box\"},{\"alignmentgroup\":\"True\",\"hovertemplate\":\"Pais=%{x}\\u003cbr\\u003eTotal de Mortes=%{y}\\u003cextra\\u003e\\u003c\\u002fextra\\u003e\",\"legendgroup\":\"Cayman Islands\",\"marker\":{\"color\":\"#636efa\"},\"name\":\"Cayman Islands\",\"notched\":false,\"offsetgroup\":\"Cayman Islands\",\"orientation\":\"v\",\"showlegend\":true,\"x\":[\"Cayman Islands\"],\"x0\":\" \",\"xaxis\":\"x\",\"y\":[20.390274314214462],\"y0\":\" \",\"yaxis\":\"y\",\"type\":\"box\"},{\"alignmentgroup\":\"True\",\"hovertemplate\":\"Pais=%{x}\\u003cbr\\u003eTotal de Mortes=%{y}\\u003cextra\\u003e\\u003c\\u002fextra\\u003e\",\"legendgroup\":\"Central African Republic\",\"marker\":{\"color\":\"#EF553B\"},\"name\":\"Central African Republic\",\"notched\":false,\"offsetgroup\":\"Central African Republic\",\"orientation\":\"v\",\"showlegend\":true,\"x\":[\"Central African Republic\"],\"x0\":\" \",\"xaxis\":\"x\",\"y\":[98.20599739243806],\"y0\":\" \",\"yaxis\":\"y\",\"type\":\"box\"},{\"alignmentgroup\":\"True\",\"hovertemplate\":\"Pais=%{x}\\u003cbr\\u003eTotal de Mortes=%{y}\\u003cextra\\u003e\\u003c\\u002fextra\\u003e\",\"legendgroup\":\"Chad\",\"marker\":{\"color\":\"#00cc96\"},\"name\":\"Chad\",\"notched\":false,\"offsetgroup\":\"Chad\",\"orientation\":\"v\",\"showlegend\":true,\"x\":[\"Chad\"],\"x0\":\" \",\"xaxis\":\"x\",\"y\":[168.54790996784567],\"y0\":\" \",\"yaxis\":\"y\",\"type\":\"box\"},{\"alignmentgroup\":\"True\",\"hovertemplate\":\"Pais=%{x}\\u003cbr\\u003eTotal de Mortes=%{y}\\u003cextra\\u003e\\u003c\\u002fextra\\u003e\",\"legendgroup\":\"Chile\",\"marker\":{\"color\":\"#ab63fa\"},\"name\":\"Chile\",\"notched\":false,\"offsetgroup\":\"Chile\",\"orientation\":\"v\",\"showlegend\":true,\"x\":[\"Chile\"],\"x0\":\" \",\"xaxis\":\"x\",\"y\":[43945.477987421385],\"y0\":\" \",\"yaxis\":\"y\",\"type\":\"box\"},{\"alignmentgroup\":\"True\",\"hovertemplate\":\"Pais=%{x}\\u003cbr\\u003eTotal de Mortes=%{y}\\u003cextra\\u003e\\u003c\\u002fextra\\u003e\",\"legendgroup\":\"China\",\"marker\":{\"color\":\"#FFA15A\"},\"name\":\"China\",\"notched\":false,\"offsetgroup\":\"China\",\"orientation\":\"v\",\"showlegend\":true,\"x\":[\"China\"],\"x0\":\" \",\"xaxis\":\"x\",\"y\":[47557.706058788244],\"y0\":\" \",\"yaxis\":\"y\",\"type\":\"box\"},{\"alignmentgroup\":\"True\",\"hovertemplate\":\"Pais=%{x}\\u003cbr\\u003eTotal de Mortes=%{y}\\u003cextra\\u003e\\u003c\\u002fextra\\u003e\",\"legendgroup\":\"Colombia\",\"marker\":{\"color\":\"#19d3f3\"},\"name\":\"Colombia\",\"notched\":false,\"offsetgroup\":\"Colombia\",\"orientation\":\"v\",\"showlegend\":true,\"x\":[\"Colombia\"],\"x0\":\" \",\"xaxis\":\"x\",\"y\":[109024.94528301887],\"y0\":\" \",\"yaxis\":\"y\",\"type\":\"box\"},{\"alignmentgroup\":\"True\",\"hovertemplate\":\"Pais=%{x}\\u003cbr\\u003eTotal de Mortes=%{y}\\u003cextra\\u003e\\u003c\\u002fextra\\u003e\",\"legendgroup\":\"Comoros\",\"marker\":{\"color\":\"#FF6692\"},\"name\":\"Comoros\",\"notched\":false,\"offsetgroup\":\"Comoros\",\"orientation\":\"v\",\"showlegend\":true,\"x\":[\"Comoros\"],\"x0\":\" \",\"xaxis\":\"x\",\"y\":[130.69315245478037],\"y0\":\" \",\"yaxis\":\"y\",\"type\":\"box\"},{\"alignmentgroup\":\"True\",\"hovertemplate\":\"Pais=%{x}\\u003cbr\\u003eTotal de Mortes=%{y}\\u003cextra\\u003e\\u003c\\u002fextra\\u003e\",\"legendgroup\":\"Congo\",\"marker\":{\"color\":\"#B6E880\"},\"name\":\"Congo\",\"notched\":false,\"offsetgroup\":\"Congo\",\"orientation\":\"v\",\"showlegend\":true,\"x\":[\"Congo\"],\"x0\":\" \",\"xaxis\":\"x\",\"y\":[284.74289324068224],\"y0\":\" \",\"yaxis\":\"y\",\"type\":\"box\"},{\"alignmentgroup\":\"True\",\"hovertemplate\":\"Pais=%{x}\\u003cbr\\u003eTotal de Mortes=%{y}\\u003cextra\\u003e\\u003c\\u002fextra\\u003e\",\"legendgroup\":\"Cook Islands\",\"marker\":{\"color\":\"#FF97FF\"},\"name\":\"Cook Islands\",\"notched\":false,\"offsetgroup\":\"Cook Islands\",\"orientation\":\"v\",\"showlegend\":true,\"x\":[\"Cook Islands\"],\"x0\":\" \",\"xaxis\":\"x\",\"y\":[1.6558752997601918],\"y0\":\" \",\"yaxis\":\"y\",\"type\":\"box\"},{\"alignmentgroup\":\"True\",\"hovertemplate\":\"Pais=%{x}\\u003cbr\\u003eTotal de Mortes=%{y}\\u003cextra\\u003e\\u003c\\u002fextra\\u003e\",\"legendgroup\":\"Costa Rica\",\"marker\":{\"color\":\"#FECB52\"},\"name\":\"Costa Rica\",\"notched\":false,\"offsetgroup\":\"Costa Rica\",\"orientation\":\"v\",\"showlegend\":true,\"x\":[\"Costa Rica\"],\"x0\":\" \",\"xaxis\":\"x\",\"y\":[6513.067626800251],\"y0\":\" \",\"yaxis\":\"y\",\"type\":\"box\"},{\"alignmentgroup\":\"True\",\"hovertemplate\":\"Pais=%{x}\\u003cbr\\u003eTotal de Mortes=%{y}\\u003cextra\\u003e\\u003c\\u002fextra\\u003e\",\"legendgroup\":\"Cote d'Ivoire\",\"marker\":{\"color\":\"#636efa\"},\"name\":\"Cote d'Ivoire\",\"notched\":false,\"offsetgroup\":\"Cote d'Ivoire\",\"orientation\":\"v\",\"showlegend\":true,\"x\":[\"Cote d'Ivoire\"],\"x0\":\" \",\"xaxis\":\"x\",\"y\":[596.6506632975363],\"y0\":\" \",\"yaxis\":\"y\",\"type\":\"box\"},{\"alignmentgroup\":\"True\",\"hovertemplate\":\"Pais=%{x}\\u003cbr\\u003eTotal de Mortes=%{y}\\u003cextra\\u003e\\u003c\\u002fextra\\u003e\",\"legendgroup\":\"Croatia\",\"marker\":{\"color\":\"#EF553B\"},\"name\":\"Croatia\",\"notched\":false,\"offsetgroup\":\"Croatia\",\"orientation\":\"v\",\"showlegend\":true,\"x\":[\"Croatia\"],\"x0\":\" \",\"xaxis\":\"x\",\"y\":[12205.904195366313],\"y0\":\" \",\"yaxis\":\"y\",\"type\":\"box\"},{\"alignmentgroup\":\"True\",\"hovertemplate\":\"Pais=%{x}\\u003cbr\\u003eTotal de Mortes=%{y}\\u003cextra\\u003e\\u003c\\u002fextra\\u003e\",\"legendgroup\":\"Cuba\",\"marker\":{\"color\":\"#00cc96\"},\"name\":\"Cuba\",\"notched\":false,\"offsetgroup\":\"Cuba\",\"orientation\":\"v\",\"showlegend\":true,\"x\":[\"Cuba\"],\"x0\":\" \",\"xaxis\":\"x\",\"y\":[5818.61114589856],\"y0\":\" \",\"yaxis\":\"y\",\"type\":\"box\"},{\"alignmentgroup\":\"True\",\"hovertemplate\":\"Pais=%{x}\\u003cbr\\u003eTotal de Mortes=%{y}\\u003cextra\\u003e\\u003c\\u002fextra\\u003e\",\"legendgroup\":\"Curacao\",\"marker\":{\"color\":\"#ab63fa\"},\"name\":\"Curacao\",\"notched\":false,\"offsetgroup\":\"Curacao\",\"orientation\":\"v\",\"showlegend\":true,\"x\":[\"Curacao\"],\"x0\":\" \",\"xaxis\":\"x\",\"y\":[197.926737633062],\"y0\":\" \",\"yaxis\":\"y\",\"type\":\"box\"},{\"alignmentgroup\":\"True\",\"hovertemplate\":\"Pais=%{x}\\u003cbr\\u003eTotal de Mortes=%{y}\\u003cextra\\u003e\\u003c\\u002fextra\\u003e\",\"legendgroup\":\"Cyprus\",\"marker\":{\"color\":\"#FFA15A\"},\"name\":\"Cyprus\",\"notched\":false,\"offsetgroup\":\"Cyprus\",\"orientation\":\"v\",\"showlegend\":true,\"x\":[\"Cyprus\"],\"x0\":\" \",\"xaxis\":\"x\",\"y\":[842.8716981132076],\"y0\":\" \",\"yaxis\":\"y\",\"type\":\"box\"},{\"alignmentgroup\":\"True\",\"hovertemplate\":\"Pais=%{x}\\u003cbr\\u003eTotal de Mortes=%{y}\\u003cextra\\u003e\\u003c\\u002fextra\\u003e\",\"legendgroup\":\"Czechia\",\"marker\":{\"color\":\"#19d3f3\"},\"name\":\"Czechia\",\"notched\":false,\"offsetgroup\":\"Czechia\",\"orientation\":\"v\",\"showlegend\":true,\"x\":[\"Czechia\"],\"x0\":\" \",\"xaxis\":\"x\",\"y\":[31732.957232704404],\"y0\":\" \",\"yaxis\":\"y\",\"type\":\"box\"},{\"alignmentgroup\":\"True\",\"hovertemplate\":\"Pais=%{x}\\u003cbr\\u003eTotal de Mortes=%{y}\\u003cextra\\u003e\\u003c\\u002fextra\\u003e\",\"legendgroup\":\"Democratic Republic of Congo\",\"marker\":{\"color\":\"#FF6692\"},\"name\":\"Democratic Republic of Congo\",\"notched\":false,\"offsetgroup\":\"Democratic Republic of Congo\",\"orientation\":\"v\",\"showlegend\":true,\"x\":[\"Democratic Republic of Congo\"],\"x0\":\" \",\"xaxis\":\"x\",\"y\":[1139.74442319949],\"y0\":\" \",\"yaxis\":\"y\",\"type\":\"box\"},{\"alignmentgroup\":\"True\",\"hovertemplate\":\"Pais=%{x}\\u003cbr\\u003eTotal de Mortes=%{y}\\u003cextra\\u003e\\u003c\\u002fextra\\u003e\",\"legendgroup\":\"Denmark\",\"marker\":{\"color\":\"#B6E880\"},\"name\":\"Denmark\",\"notched\":false,\"offsetgroup\":\"Denmark\",\"orientation\":\"v\",\"showlegend\":true,\"x\":[\"Denmark\"],\"x0\":\" \",\"xaxis\":\"x\",\"y\":[5344.52493765586],\"y0\":\" \",\"yaxis\":\"y\",\"type\":\"box\"},{\"alignmentgroup\":\"True\",\"hovertemplate\":\"Pais=%{x}\\u003cbr\\u003eTotal de Mortes=%{y}\\u003cextra\\u003e\\u003c\\u002fextra\\u003e\",\"legendgroup\":\"Djibouti\",\"marker\":{\"color\":\"#FF97FF\"},\"name\":\"Djibouti\",\"notched\":false,\"offsetgroup\":\"Djibouti\",\"orientation\":\"v\",\"showlegend\":true,\"x\":[\"Djibouti\"],\"x0\":\" \",\"xaxis\":\"x\",\"y\":[152.45875634517768],\"y0\":\" \",\"yaxis\":\"y\",\"type\":\"box\"},{\"alignmentgroup\":\"True\",\"hovertemplate\":\"Pais=%{x}\\u003cbr\\u003eTotal de Mortes=%{y}\\u003cextra\\u003e\\u003c\\u002fextra\\u003e\",\"legendgroup\":\"Dominica\",\"marker\":{\"color\":\"#FECB52\"},\"name\":\"Dominica\",\"notched\":false,\"offsetgroup\":\"Dominica\",\"orientation\":\"v\",\"showlegend\":true,\"x\":[\"Dominica\"],\"x0\":\" \",\"xaxis\":\"x\",\"y\":[65.07970342910102],\"y0\":\" \",\"yaxis\":\"y\",\"type\":\"box\"},{\"alignmentgroup\":\"True\",\"hovertemplate\":\"Pais=%{x}\\u003cbr\\u003eTotal de Mortes=%{y}\\u003cextra\\u003e\\u003c\\u002fextra\\u003e\",\"legendgroup\":\"Dominican Republic\",\"marker\":{\"color\":\"#636efa\"},\"name\":\"Dominican Republic\",\"notched\":false,\"offsetgroup\":\"Dominican Republic\",\"orientation\":\"v\",\"showlegend\":true,\"x\":[\"Dominican Republic\"],\"x0\":\" \",\"xaxis\":\"x\",\"y\":[3657.5385097056983],\"y0\":\" \",\"yaxis\":\"y\",\"type\":\"box\"},{\"alignmentgroup\":\"True\",\"hovertemplate\":\"Pais=%{x}\\u003cbr\\u003eTotal de Mortes=%{y}\\u003cextra\\u003e\\u003c\\u002fextra\\u003e\",\"legendgroup\":\"East Timor\",\"marker\":{\"color\":\"#EF553B\"},\"name\":\"East Timor\",\"notched\":false,\"offsetgroup\":\"East Timor\",\"orientation\":\"v\",\"showlegend\":true,\"x\":[\"East Timor\"],\"x0\":\" \",\"xaxis\":\"x\",\"y\":[119.81848184818482],\"y0\":\" \",\"yaxis\":\"y\",\"type\":\"box\"},{\"alignmentgroup\":\"True\",\"hovertemplate\":\"Pais=%{x}\\u003cbr\\u003eTotal de Mortes=%{y}\\u003cextra\\u003e\\u003c\\u002fextra\\u003e\",\"legendgroup\":\"Ecuador\",\"marker\":{\"color\":\"#00cc96\"},\"name\":\"Ecuador\",\"notched\":false,\"offsetgroup\":\"Ecuador\",\"orientation\":\"v\",\"showlegend\":true,\"x\":[\"Ecuador\"],\"x0\":\" \",\"xaxis\":\"x\",\"y\":[28057.775203506575],\"y0\":\" \",\"yaxis\":\"y\",\"type\":\"box\"},{\"alignmentgroup\":\"True\",\"hovertemplate\":\"Pais=%{x}\\u003cbr\\u003eTotal de Mortes=%{y}\\u003cextra\\u003e\\u003c\\u002fextra\\u003e\",\"legendgroup\":\"Egypt\",\"marker\":{\"color\":\"#ab63fa\"},\"name\":\"Egypt\",\"notched\":false,\"offsetgroup\":\"Egypt\",\"orientation\":\"v\",\"showlegend\":true,\"x\":[\"Egypt\"],\"x0\":\" \",\"xaxis\":\"x\",\"y\":[18649.545511221946],\"y0\":\" \",\"yaxis\":\"y\",\"type\":\"box\"},{\"alignmentgroup\":\"True\",\"hovertemplate\":\"Pais=%{x}\\u003cbr\\u003eTotal de Mortes=%{y}\\u003cextra\\u003e\\u003c\\u002fextra\\u003e\",\"legendgroup\":\"El Salvador\",\"marker\":{\"color\":\"#FFA15A\"},\"name\":\"El Salvador\",\"notched\":false,\"offsetgroup\":\"El Salvador\",\"orientation\":\"v\",\"showlegend\":true,\"x\":[\"El Salvador\"],\"x0\":\" \",\"xaxis\":\"x\",\"y\":[3193.1111813013267],\"y0\":\" \",\"yaxis\":\"y\",\"type\":\"box\"},{\"alignmentgroup\":\"True\",\"hovertemplate\":\"Pais=%{x}\\u003cbr\\u003eTotal de Mortes=%{y}\\u003cextra\\u003e\\u003c\\u002fextra\\u003e\",\"legendgroup\":\"Equatorial Guinea\",\"marker\":{\"color\":\"#19d3f3\"},\"name\":\"Equatorial Guinea\",\"notched\":false,\"offsetgroup\":\"Equatorial Guinea\",\"orientation\":\"v\",\"showlegend\":true,\"x\":[\"Equatorial Guinea\"],\"x0\":\" \",\"xaxis\":\"x\",\"y\":[149.37580025608196],\"y0\":\" \",\"yaxis\":\"y\",\"type\":\"box\"},{\"alignmentgroup\":\"True\",\"hovertemplate\":\"Pais=%{x}\\u003cbr\\u003eTotal de Mortes=%{y}\\u003cextra\\u003e\\u003c\\u002fextra\\u003e\",\"legendgroup\":\"Eritrea\",\"marker\":{\"color\":\"#FF6692\"},\"name\":\"Eritrea\",\"notched\":false,\"offsetgroup\":\"Eritrea\",\"orientation\":\"v\",\"showlegend\":true,\"x\":[\"Eritrea\"],\"x0\":\" \",\"xaxis\":\"x\",\"y\":[81.00607441154138],\"y0\":\" \",\"yaxis\":\"y\",\"type\":\"box\"},{\"alignmentgroup\":\"True\",\"hovertemplate\":\"Pais=%{x}\\u003cbr\\u003eTotal de Mortes=%{y}\\u003cextra\\u003e\\u003c\\u002fextra\\u003e\",\"legendgroup\":\"Estonia\",\"marker\":{\"color\":\"#B6E880\"},\"name\":\"Estonia\",\"notched\":false,\"offsetgroup\":\"Estonia\",\"orientation\":\"v\",\"showlegend\":true,\"x\":[\"Estonia\"],\"x0\":\" \",\"xaxis\":\"x\",\"y\":[1912.964779874214],\"y0\":\" \",\"yaxis\":\"y\",\"type\":\"box\"},{\"alignmentgroup\":\"True\",\"hovertemplate\":\"Pais=%{x}\\u003cbr\\u003eTotal de Mortes=%{y}\\u003cextra\\u003e\\u003c\\u002fextra\\u003e\",\"legendgroup\":\"Eswatini\",\"marker\":{\"color\":\"#FF97FF\"},\"name\":\"Eswatini\",\"notched\":false,\"offsetgroup\":\"Eswatini\",\"orientation\":\"v\",\"showlegend\":true,\"x\":[\"Eswatini\"],\"x0\":\" \",\"xaxis\":\"x\",\"y\":[1062.7010834926705],\"y0\":\" \",\"yaxis\":\"y\",\"type\":\"box\"},{\"alignmentgroup\":\"True\",\"hovertemplate\":\"Pais=%{x}\\u003cbr\\u003eTotal de Mortes=%{y}\\u003cextra\\u003e\\u003c\\u002fextra\\u003e\",\"legendgroup\":\"Ethiopia\",\"marker\":{\"color\":\"#FECB52\"},\"name\":\"Ethiopia\",\"notched\":false,\"offsetgroup\":\"Ethiopia\",\"orientation\":\"v\",\"showlegend\":true,\"x\":[\"Ethiopia\"],\"x0\":\" \",\"xaxis\":\"x\",\"y\":[5648.000634517766],\"y0\":\" \",\"yaxis\":\"y\",\"type\":\"box\"},{\"alignmentgroup\":\"True\",\"hovertemplate\":\"Pais=%{x}\\u003cbr\\u003eTotal de Mortes=%{y}\\u003cextra\\u003e\\u003c\\u002fextra\\u003e\",\"legendgroup\":\"Europe\",\"marker\":{\"color\":\"#636efa\"},\"name\":\"Europe\",\"notched\":false,\"offsetgroup\":\"Europe\",\"orientation\":\"v\",\"showlegend\":true,\"x\":[\"Europe\"],\"x0\":\" \",\"xaxis\":\"x\",\"y\":[1410457.609916368],\"y0\":\" \",\"yaxis\":\"y\",\"type\":\"box\"},{\"alignmentgroup\":\"True\",\"hovertemplate\":\"Pais=%{x}\\u003cbr\\u003eTotal de Mortes=%{y}\\u003cextra\\u003e\\u003c\\u002fextra\\u003e\",\"legendgroup\":\"European Union (27)\",\"marker\":{\"color\":\"#EF553B\"},\"name\":\"European Union (27)\",\"notched\":false,\"offsetgroup\":\"European Union (27)\",\"orientation\":\"v\",\"showlegend\":true,\"x\":[\"European Union (27)\"],\"x0\":\" \",\"xaxis\":\"x\",\"y\":[852482.2956989247],\"y0\":\" \",\"yaxis\":\"y\",\"type\":\"box\"},{\"alignmentgroup\":\"True\",\"hovertemplate\":\"Pais=%{x}\\u003cbr\\u003eTotal de Mortes=%{y}\\u003cextra\\u003e\\u003c\\u002fextra\\u003e\",\"legendgroup\":\"Faroe Islands\",\"marker\":{\"color\":\"#00cc96\"},\"name\":\"Faroe Islands\",\"notched\":false,\"offsetgroup\":\"Faroe Islands\",\"orientation\":\"v\",\"showlegend\":true,\"x\":[\"Faroe Islands\"],\"x0\":\" \",\"xaxis\":\"x\",\"y\":[20.68303914044513],\"y0\":\" \",\"yaxis\":\"y\",\"type\":\"box\"},{\"alignmentgroup\":\"True\",\"hovertemplate\":\"Pais=%{x}\\u003cbr\\u003eTotal de Mortes=%{y}\\u003cextra\\u003e\\u003c\\u002fextra\\u003e\",\"legendgroup\":\"Fiji\",\"marker\":{\"color\":\"#ab63fa\"},\"name\":\"Fiji\",\"notched\":false,\"offsetgroup\":\"Fiji\",\"orientation\":\"v\",\"showlegend\":true,\"x\":[\"Fiji\"],\"x0\":\" \",\"xaxis\":\"x\",\"y\":[627.1379781420765],\"y0\":\" \",\"yaxis\":\"y\",\"type\":\"box\"},{\"alignmentgroup\":\"True\",\"hovertemplate\":\"Pais=%{x}\\u003cbr\\u003eTotal de Mortes=%{y}\\u003cextra\\u003e\\u003c\\u002fextra\\u003e\",\"legendgroup\":\"Finland\",\"marker\":{\"color\":\"#FFA15A\"},\"name\":\"Finland\",\"notched\":false,\"offsetgroup\":\"Finland\",\"orientation\":\"v\",\"showlegend\":true,\"x\":[\"Finland\"],\"x0\":\" \",\"xaxis\":\"x\",\"y\":[5315.472377405338],\"y0\":\" \",\"yaxis\":\"y\",\"type\":\"box\"},{\"alignmentgroup\":\"True\",\"hovertemplate\":\"Pais=%{x}\\u003cbr\\u003eTotal de Mortes=%{y}\\u003cextra\\u003e\\u003c\\u002fextra\\u003e\",\"legendgroup\":\"France\",\"marker\":{\"color\":\"#19d3f3\"},\"name\":\"France\",\"notched\":false,\"offsetgroup\":\"France\",\"orientation\":\"v\",\"showlegend\":true,\"x\":[\"France\"],\"x0\":\" \",\"xaxis\":\"x\",\"y\":[123143.88216957606],\"y0\":\" \",\"yaxis\":\"y\",\"type\":\"box\"},{\"alignmentgroup\":\"True\",\"hovertemplate\":\"Pais=%{x}\\u003cbr\\u003eTotal de Mortes=%{y}\\u003cextra\\u003e\\u003c\\u002fextra\\u003e\",\"legendgroup\":\"French Guiana\",\"marker\":{\"color\":\"#FF6692\"},\"name\":\"French Guiana\",\"notched\":false,\"offsetgroup\":\"French Guiana\",\"orientation\":\"v\",\"showlegend\":true,\"x\":[\"French Guiana\"],\"x0\":\" \",\"xaxis\":\"x\",\"y\":[294.5377720870679],\"y0\":\" \",\"yaxis\":\"y\",\"type\":\"box\"},{\"alignmentgroup\":\"True\",\"hovertemplate\":\"Pais=%{x}\\u003cbr\\u003eTotal de Mortes=%{y}\\u003cextra\\u003e\\u003c\\u002fextra\\u003e\",\"legendgroup\":\"French Polynesia\",\"marker\":{\"color\":\"#B6E880\"},\"name\":\"French Polynesia\",\"notched\":false,\"offsetgroup\":\"French Polynesia\",\"orientation\":\"v\",\"showlegend\":true,\"x\":[\"French Polynesia\"],\"x0\":\" \",\"xaxis\":\"x\",\"y\":[512.225035161744],\"y0\":\" \",\"yaxis\":\"y\",\"type\":\"box\"},{\"alignmentgroup\":\"True\",\"hovertemplate\":\"Pais=%{x}\\u003cbr\\u003eTotal de Mortes=%{y}\\u003cextra\\u003e\\u003c\\u002fextra\\u003e\",\"legendgroup\":\"Gabon\",\"marker\":{\"color\":\"#FF97FF\"},\"name\":\"Gabon\",\"notched\":false,\"offsetgroup\":\"Gabon\",\"orientation\":\"v\",\"showlegend\":true,\"x\":[\"Gabon\"],\"x0\":\" \",\"xaxis\":\"x\",\"y\":[226.58622867972204],\"y0\":\" \",\"yaxis\":\"y\",\"type\":\"box\"},{\"alignmentgroup\":\"True\",\"hovertemplate\":\"Pais=%{x}\\u003cbr\\u003eTotal de Mortes=%{y}\\u003cextra\\u003e\\u003c\\u002fextra\\u003e\",\"legendgroup\":\"Gambia\",\"marker\":{\"color\":\"#FECB52\"},\"name\":\"Gambia\",\"notched\":false,\"offsetgroup\":\"Gambia\",\"orientation\":\"v\",\"showlegend\":true,\"x\":[\"Gambia\"],\"x0\":\" \",\"xaxis\":\"x\",\"y\":[317.5289079229122],\"y0\":\" \",\"yaxis\":\"y\",\"type\":\"box\"},{\"alignmentgroup\":\"True\",\"hovertemplate\":\"Pais=%{x}\\u003cbr\\u003eTotal de Mortes=%{y}\\u003cextra\\u003e\\u003c\\u002fextra\\u003e\",\"legendgroup\":\"Georgia\",\"marker\":{\"color\":\"#636efa\"},\"name\":\"Georgia\",\"notched\":false,\"offsetgroup\":\"Georgia\",\"orientation\":\"v\",\"showlegend\":true,\"x\":[\"Georgia\"],\"x0\":\" \",\"xaxis\":\"x\",\"y\":[11601.445356917246],\"y0\":\" \",\"yaxis\":\"y\",\"type\":\"box\"},{\"alignmentgroup\":\"True\",\"hovertemplate\":\"Pais=%{x}\\u003cbr\\u003eTotal de Mortes=%{y}\\u003cextra\\u003e\\u003c\\u002fextra\\u003e\",\"legendgroup\":\"Germany\",\"marker\":{\"color\":\"#EF553B\"},\"name\":\"Germany\",\"notched\":false,\"offsetgroup\":\"Germany\",\"orientation\":\"v\",\"showlegend\":true,\"x\":[\"Germany\"],\"x0\":\" \",\"xaxis\":\"x\",\"y\":[113734.65770609319],\"y0\":\" \",\"yaxis\":\"y\",\"type\":\"box\"},{\"alignmentgroup\":\"True\",\"hovertemplate\":\"Pais=%{x}\\u003cbr\\u003eTotal de Mortes=%{y}\\u003cextra\\u003e\\u003c\\u002fextra\\u003e\",\"legendgroup\":\"Ghana\",\"marker\":{\"color\":\"#00cc96\"},\"name\":\"Ghana\",\"notched\":false,\"offsetgroup\":\"Ghana\",\"orientation\":\"v\",\"showlegend\":true,\"x\":[\"Ghana\"],\"x0\":\" \",\"xaxis\":\"x\",\"y\":[1224.1889204545455],\"y0\":\" \",\"yaxis\":\"y\",\"type\":\"box\"},{\"alignmentgroup\":\"True\",\"hovertemplate\":\"Pais=%{x}\\u003cbr\\u003eTotal de Mortes=%{y}\\u003cextra\\u003e\\u003c\\u002fextra\\u003e\",\"legendgroup\":\"Gibraltar\",\"marker\":{\"color\":\"#ab63fa\"},\"name\":\"Gibraltar\",\"notched\":false,\"offsetgroup\":\"Gibraltar\",\"orientation\":\"v\",\"showlegend\":true,\"x\":[\"Gibraltar\"],\"x0\":\" \",\"xaxis\":\"x\",\"y\":[100.28771155261221],\"y0\":\" \",\"yaxis\":\"y\",\"type\":\"box\"},{\"alignmentgroup\":\"True\",\"hovertemplate\":\"Pais=%{x}\\u003cbr\\u003eTotal de Mortes=%{y}\\u003cextra\\u003e\\u003c\\u002fextra\\u003e\",\"legendgroup\":\"Greece\",\"marker\":{\"color\":\"#FFA15A\"},\"name\":\"Greece\",\"notched\":false,\"offsetgroup\":\"Greece\",\"orientation\":\"v\",\"showlegend\":true,\"x\":[\"Greece\"],\"x0\":\" \",\"xaxis\":\"x\",\"y\":[23372.468827930174],\"y0\":\" \",\"yaxis\":\"y\",\"type\":\"box\"},{\"alignmentgroup\":\"True\",\"hovertemplate\":\"Pais=%{x}\\u003cbr\\u003eTotal de Mortes=%{y}\\u003cextra\\u003e\\u003c\\u002fextra\\u003e\",\"legendgroup\":\"Greenland\",\"marker\":{\"color\":\"#19d3f3\"},\"name\":\"Greenland\",\"notched\":false,\"offsetgroup\":\"Greenland\",\"orientation\":\"v\",\"showlegend\":true,\"x\":[\"Greenland\"],\"x0\":\" \",\"xaxis\":\"x\",\"y\":[19.85414480587618],\"y0\":\" \",\"yaxis\":\"y\",\"type\":\"box\"},{\"alignmentgroup\":\"True\",\"hovertemplate\":\"Pais=%{x}\\u003cbr\\u003eTotal de Mortes=%{y}\\u003cextra\\u003e\\u003c\\u002fextra\\u003e\",\"legendgroup\":\"Grenada\",\"marker\":{\"color\":\"#FF6692\"},\"name\":\"Grenada\",\"notched\":false,\"offsetgroup\":\"Grenada\",\"orientation\":\"v\",\"showlegend\":true,\"x\":[\"Grenada\"],\"x0\":\" \",\"xaxis\":\"x\",\"y\":[184.207981580967],\"y0\":\" \",\"yaxis\":\"y\",\"type\":\"box\"},{\"alignmentgroup\":\"True\",\"hovertemplate\":\"Pais=%{x}\\u003cbr\\u003eTotal de Mortes=%{y}\\u003cextra\\u003e\\u003c\\u002fextra\\u003e\",\"legendgroup\":\"Guadeloupe\",\"marker\":{\"color\":\"#B6E880\"},\"name\":\"Guadeloupe\",\"notched\":false,\"offsetgroup\":\"Guadeloupe\",\"orientation\":\"v\",\"showlegend\":true,\"x\":[\"Guadeloupe\"],\"x0\":\" \",\"xaxis\":\"x\",\"y\":[694.166037735849],\"y0\":\" \",\"yaxis\":\"y\",\"type\":\"box\"},{\"alignmentgroup\":\"True\",\"hovertemplate\":\"Pais=%{x}\\u003cbr\\u003eTotal de Mortes=%{y}\\u003cextra\\u003e\\u003c\\u002fextra\\u003e\",\"legendgroup\":\"Guam\",\"marker\":{\"color\":\"#FF97FF\"},\"name\":\"Guam\",\"notched\":false,\"offsetgroup\":\"Guam\",\"orientation\":\"v\",\"showlegend\":true,\"x\":[\"Guam\"],\"x0\":\" \",\"xaxis\":\"x\",\"y\":[279.99056603773585],\"y0\":\" \",\"yaxis\":\"y\",\"type\":\"box\"},{\"alignmentgroup\":\"True\",\"hovertemplate\":\"Pais=%{x}\\u003cbr\\u003eTotal de Mortes=%{y}\\u003cextra\\u003e\\u003c\\u002fextra\\u003e\",\"legendgroup\":\"Guatemala\",\"marker\":{\"color\":\"#FECB52\"},\"name\":\"Guatemala\",\"notched\":false,\"offsetgroup\":\"Guatemala\",\"orientation\":\"v\",\"showlegend\":true,\"x\":[\"Guatemala\"],\"x0\":\" \",\"xaxis\":\"x\",\"y\":[14207.8090169067],\"y0\":\" \",\"yaxis\":\"y\",\"type\":\"box\"},{\"alignmentgroup\":\"True\",\"hovertemplate\":\"Pais=%{x}\\u003cbr\\u003eTotal de Mortes=%{y}\\u003cextra\\u003e\\u003c\\u002fextra\\u003e\",\"legendgroup\":\"Guernsey\",\"marker\":{\"color\":\"#636efa\"},\"name\":\"Guernsey\",\"notched\":false,\"offsetgroup\":\"Guernsey\",\"orientation\":\"v\",\"showlegend\":true,\"x\":[\"Guernsey\"],\"x0\":\" \",\"xaxis\":\"x\",\"y\":[41.92293114339861],\"y0\":\" \",\"yaxis\":\"y\",\"type\":\"box\"},{\"alignmentgroup\":\"True\",\"hovertemplate\":\"Pais=%{x}\\u003cbr\\u003eTotal de Mortes=%{y}\\u003cextra\\u003e\\u003c\\u002fextra\\u003e\",\"legendgroup\":\"Guinea\",\"marker\":{\"color\":\"#EF553B\"},\"name\":\"Guinea\",\"notched\":false,\"offsetgroup\":\"Guinea\",\"orientation\":\"v\",\"showlegend\":true,\"x\":[\"Guinea\"],\"x0\":\" \",\"xaxis\":\"x\",\"y\":[337.3288718929254],\"y0\":\" \",\"yaxis\":\"y\",\"type\":\"box\"},{\"alignmentgroup\":\"True\",\"hovertemplate\":\"Pais=%{x}\\u003cbr\\u003eTotal de Mortes=%{y}\\u003cextra\\u003e\\u003c\\u002fextra\\u003e\",\"legendgroup\":\"Guinea-Bissau\",\"marker\":{\"color\":\"#00cc96\"},\"name\":\"Guinea-Bissau\",\"notched\":false,\"offsetgroup\":\"Guinea-Bissau\",\"orientation\":\"v\",\"showlegend\":true,\"x\":[\"Guinea-Bissau\"],\"x0\":\" \",\"xaxis\":\"x\",\"y\":[131.67331189710612],\"y0\":\" \",\"yaxis\":\"y\",\"type\":\"box\"},{\"alignmentgroup\":\"True\",\"hovertemplate\":\"Pais=%{x}\\u003cbr\\u003eTotal de Mortes=%{y}\\u003cextra\\u003e\\u003c\\u002fextra\\u003e\",\"legendgroup\":\"Guyana\",\"marker\":{\"color\":\"#ab63fa\"},\"name\":\"Guyana\",\"notched\":false,\"offsetgroup\":\"Guyana\",\"orientation\":\"v\",\"showlegend\":true,\"x\":[\"Guyana\"],\"x0\":\" \",\"xaxis\":\"x\",\"y\":[878.8229426433916],\"y0\":\" \",\"yaxis\":\"y\",\"type\":\"box\"},{\"alignmentgroup\":\"True\",\"hovertemplate\":\"Pais=%{x}\\u003cbr\\u003eTotal de Mortes=%{y}\\u003cextra\\u003e\\u003c\\u002fextra\\u003e\",\"legendgroup\":\"Haiti\",\"marker\":{\"color\":\"#FFA15A\"},\"name\":\"Haiti\",\"notched\":false,\"offsetgroup\":\"Haiti\",\"orientation\":\"v\",\"showlegend\":true,\"x\":[\"Haiti\"],\"x0\":\" \",\"xaxis\":\"x\",\"y\":[641.8185279187817],\"y0\":\" \",\"yaxis\":\"y\",\"type\":\"box\"},{\"alignmentgroup\":\"True\",\"hovertemplate\":\"Pais=%{x}\\u003cbr\\u003eTotal de Mortes=%{y}\\u003cextra\\u003e\\u003c\\u002fextra\\u003e\",\"legendgroup\":\"High-income countries\",\"marker\":{\"color\":\"#19d3f3\"},\"name\":\"High-income countries\",\"notched\":false,\"offsetgroup\":\"High-income countries\",\"orientation\":\"v\",\"showlegend\":true,\"x\":[\"High-income countries\"],\"x0\":\" \",\"xaxis\":\"x\",\"y\":[1973653.174432497],\"y0\":\" \",\"yaxis\":\"y\",\"type\":\"box\"},{\"alignmentgroup\":\"True\",\"hovertemplate\":\"Pais=%{x}\\u003cbr\\u003eTotal de Mortes=%{y}\\u003cextra\\u003e\\u003c\\u002fextra\\u003e\",\"legendgroup\":\"Honduras\",\"marker\":{\"color\":\"#FF6692\"},\"name\":\"Honduras\",\"notched\":false,\"offsetgroup\":\"Honduras\",\"orientation\":\"v\",\"showlegend\":true,\"x\":[\"Honduras\"],\"x0\":\" \",\"xaxis\":\"x\",\"y\":[8429.830188679245],\"y0\":\" \",\"yaxis\":\"y\",\"type\":\"box\"},{\"alignmentgroup\":\"True\",\"hovertemplate\":\"Pais=%{x}\\u003cbr\\u003eTotal de Mortes=%{y}\\u003cextra\\u003e\\u003c\\u002fextra\\u003e\",\"legendgroup\":\"Hungary\",\"marker\":{\"color\":\"#B6E880\"},\"name\":\"Hungary\",\"notched\":false,\"offsetgroup\":\"Hungary\",\"orientation\":\"v\",\"showlegend\":true,\"x\":[\"Hungary\"],\"x0\":\" \",\"xaxis\":\"x\",\"y\":[34538.82654978084],\"y0\":\" \",\"yaxis\":\"y\",\"type\":\"box\"},{\"alignmentgroup\":\"True\",\"hovertemplate\":\"Pais=%{x}\\u003cbr\\u003eTotal de Mortes=%{y}\\u003cextra\\u003e\\u003c\\u002fextra\\u003e\",\"legendgroup\":\"Iceland\",\"marker\":{\"color\":\"#FF97FF\"},\"name\":\"Iceland\",\"notched\":false,\"offsetgroup\":\"Iceland\",\"orientation\":\"v\",\"showlegend\":true,\"x\":[\"Iceland\"],\"x0\":\" \",\"xaxis\":\"x\",\"y\":[102.02629931120852],\"y0\":\" \",\"yaxis\":\"y\",\"type\":\"box\"},{\"alignmentgroup\":\"True\",\"hovertemplate\":\"Pais=%{x}\\u003cbr\\u003eTotal de Mortes=%{y}\\u003cextra\\u003e\\u003c\\u002fextra\\u003e\",\"legendgroup\":\"India\",\"marker\":{\"color\":\"#FECB52\"},\"name\":\"India\",\"notched\":false,\"offsetgroup\":\"India\",\"orientation\":\"v\",\"showlegend\":true,\"x\":[\"India\"],\"x0\":\" \",\"xaxis\":\"x\",\"y\":[396917.7481296758],\"y0\":\" \",\"yaxis\":\"y\",\"type\":\"box\"},{\"alignmentgroup\":\"True\",\"hovertemplate\":\"Pais=%{x}\\u003cbr\\u003eTotal de Mortes=%{y}\\u003cextra\\u003e\\u003c\\u002fextra\\u003e\",\"legendgroup\":\"Indonesia\",\"marker\":{\"color\":\"#636efa\"},\"name\":\"Indonesia\",\"notched\":false,\"offsetgroup\":\"Indonesia\",\"orientation\":\"v\",\"showlegend\":true,\"x\":[\"Indonesia\"],\"x0\":\" \",\"xaxis\":\"x\",\"y\":[114112.05922693267],\"y0\":\" \",\"yaxis\":\"y\",\"type\":\"box\"},{\"alignmentgroup\":\"True\",\"hovertemplate\":\"Pais=%{x}\\u003cbr\\u003eTotal de Mortes=%{y}\\u003cextra\\u003e\\u003c\\u002fextra\\u003e\",\"legendgroup\":\"Iran\",\"marker\":{\"color\":\"#EF553B\"},\"name\":\"Iran\",\"notched\":false,\"offsetgroup\":\"Iran\",\"orientation\":\"v\",\"showlegend\":true,\"x\":[\"Iran\"],\"x0\":\" \",\"xaxis\":\"x\",\"y\":[107899.62276923077],\"y0\":\" \",\"yaxis\":\"y\",\"type\":\"box\"},{\"alignmentgroup\":\"True\",\"hovertemplate\":\"Pais=%{x}\\u003cbr\\u003eTotal de Mortes=%{y}\\u003cextra\\u003e\\u003c\\u002fextra\\u003e\",\"legendgroup\":\"Iraq\",\"marker\":{\"color\":\"#00cc96\"},\"name\":\"Iraq\",\"notched\":false,\"offsetgroup\":\"Iraq\",\"orientation\":\"v\",\"showlegend\":true,\"x\":[\"Iraq\"],\"x0\":\" \",\"xaxis\":\"x\",\"y\":[19915.50837988827],\"y0\":\" \",\"yaxis\":\"y\",\"type\":\"box\"},{\"alignmentgroup\":\"True\",\"hovertemplate\":\"Pais=%{x}\\u003cbr\\u003eTotal de Mortes=%{y}\\u003cextra\\u003e\\u003c\\u002fextra\\u003e\",\"legendgroup\":\"Ireland\",\"marker\":{\"color\":\"#ab63fa\"},\"name\":\"Ireland\",\"notched\":false,\"offsetgroup\":\"Ireland\",\"orientation\":\"v\",\"showlegend\":true,\"x\":[\"Ireland\"],\"x0\":\" \",\"xaxis\":\"x\",\"y\":[6433.356300434512],\"y0\":\" \",\"yaxis\":\"y\",\"type\":\"box\"},{\"alignmentgroup\":\"True\",\"hovertemplate\":\"Pais=%{x}\\u003cbr\\u003eTotal de Mortes=%{y}\\u003cextra\\u003e\\u003c\\u002fextra\\u003e\",\"legendgroup\":\"Isle of Man\",\"marker\":{\"color\":\"#FFA15A\"},\"name\":\"Isle of Man\",\"notched\":false,\"offsetgroup\":\"Isle of Man\",\"orientation\":\"v\",\"showlegend\":true,\"x\":[\"Isle of Man\"],\"x0\":\" \",\"xaxis\":\"x\",\"y\":[81.79595704358812],\"y0\":\" \",\"yaxis\":\"y\",\"type\":\"box\"},{\"alignmentgroup\":\"True\",\"hovertemplate\":\"Pais=%{x}\\u003cbr\\u003eTotal de Mortes=%{y}\\u003cextra\\u003e\\u003c\\u002fextra\\u003e\",\"legendgroup\":\"Israel\",\"marker\":{\"color\":\"#19d3f3\"},\"name\":\"Israel\",\"notched\":false,\"offsetgroup\":\"Israel\",\"orientation\":\"v\",\"showlegend\":true,\"x\":[\"Israel\"],\"x0\":\" \",\"xaxis\":\"x\",\"y\":[8792.268628678772],\"y0\":\" \",\"yaxis\":\"y\",\"type\":\"box\"},{\"alignmentgroup\":\"True\",\"hovertemplate\":\"Pais=%{x}\\u003cbr\\u003eTotal de Mortes=%{y}\\u003cextra\\u003e\\u003c\\u002fextra\\u003e\",\"legendgroup\":\"Italy\",\"marker\":{\"color\":\"#FF6692\"},\"name\":\"Italy\",\"notched\":false,\"offsetgroup\":\"Italy\",\"orientation\":\"v\",\"showlegend\":true,\"x\":[\"Italy\"],\"x0\":\" \",\"xaxis\":\"x\",\"y\":[139558.064],\"y0\":\" \",\"yaxis\":\"y\",\"type\":\"box\"},{\"alignmentgroup\":\"True\",\"hovertemplate\":\"Pais=%{x}\\u003cbr\\u003eTotal de Mortes=%{y}\\u003cextra\\u003e\\u003c\\u002fextra\\u003e\",\"legendgroup\":\"Jamaica\",\"marker\":{\"color\":\"#B6E880\"},\"name\":\"Jamaica\",\"notched\":false,\"offsetgroup\":\"Jamaica\",\"orientation\":\"v\",\"showlegend\":true,\"x\":[\"Jamaica\"],\"x0\":\" \",\"xaxis\":\"x\",\"y\":[2296.6700062617406],\"y0\":\" \",\"yaxis\":\"y\",\"type\":\"box\"},{\"alignmentgroup\":\"True\",\"hovertemplate\":\"Pais=%{x}\\u003cbr\\u003eTotal de Mortes=%{y}\\u003cextra\\u003e\\u003c\\u002fextra\\u003e\",\"legendgroup\":\"Japan\",\"marker\":{\"color\":\"#FF97FF\"},\"name\":\"Japan\",\"notched\":false,\"offsetgroup\":\"Japan\",\"orientation\":\"v\",\"showlegend\":true,\"x\":[\"Japan\"],\"x0\":\" \",\"xaxis\":\"x\",\"y\":[36981.33272058824],\"y0\":\" \",\"yaxis\":\"y\",\"type\":\"box\"},{\"alignmentgroup\":\"True\",\"hovertemplate\":\"Pais=%{x}\\u003cbr\\u003eTotal de Mortes=%{y}\\u003cextra\\u003e\\u003c\\u002fextra\\u003e\",\"legendgroup\":\"Jersey\",\"marker\":{\"color\":\"#FECB52\"},\"name\":\"Jersey\",\"notched\":false,\"offsetgroup\":\"Jersey\",\"orientation\":\"v\",\"showlegend\":true,\"x\":[\"Jersey\"],\"x0\":\" \",\"xaxis\":\"x\",\"y\":[109.28364779874214],\"y0\":\" \",\"yaxis\":\"y\",\"type\":\"box\"},{\"alignmentgroup\":\"True\",\"hovertemplate\":\"Pais=%{x}\\u003cbr\\u003eTotal de Mortes=%{y}\\u003cextra\\u003e\\u003c\\u002fextra\\u003e\",\"legendgroup\":\"Jordan\",\"marker\":{\"color\":\"#636efa\"},\"name\":\"Jordan\",\"notched\":false,\"offsetgroup\":\"Jordan\",\"orientation\":\"v\",\"showlegend\":true,\"x\":[\"Jordan\"],\"x0\":\" \",\"xaxis\":\"x\",\"y\":[10477.386163522013],\"y0\":\" \",\"yaxis\":\"y\",\"type\":\"box\"},{\"alignmentgroup\":\"True\",\"hovertemplate\":\"Pais=%{x}\\u003cbr\\u003eTotal de Mortes=%{y}\\u003cextra\\u003e\\u003c\\u002fextra\\u003e\",\"legendgroup\":\"Kazakhstan\",\"marker\":{\"color\":\"#EF553B\"},\"name\":\"Kazakhstan\",\"notched\":false,\"offsetgroup\":\"Kazakhstan\",\"orientation\":\"v\",\"showlegend\":true,\"x\":[\"Kazakhstan\"],\"x0\":\" \",\"xaxis\":\"x\",\"y\":[13745.110062893082],\"y0\":\" \",\"yaxis\":\"y\",\"type\":\"box\"},{\"alignmentgroup\":\"True\",\"hovertemplate\":\"Pais=%{x}\\u003cbr\\u003eTotal de Mortes=%{y}\\u003cextra\\u003e\\u003c\\u002fextra\\u003e\",\"legendgroup\":\"Kenya\",\"marker\":{\"color\":\"#00cc96\"},\"name\":\"Kenya\",\"notched\":false,\"offsetgroup\":\"Kenya\",\"orientation\":\"v\",\"showlegend\":true,\"x\":[\"Kenya\"],\"x0\":\" \",\"xaxis\":\"x\",\"y\":[4294.952201257862],\"y0\":\" \",\"yaxis\":\"y\",\"type\":\"box\"},{\"alignmentgroup\":\"True\",\"hovertemplate\":\"Pais=%{x}\\u003cbr\\u003eTotal de Mortes=%{y}\\u003cextra\\u003e\\u003c\\u002fextra\\u003e\",\"legendgroup\":\"Kiribati\",\"marker\":{\"color\":\"#ab63fa\"},\"name\":\"Kiribati\",\"notched\":false,\"offsetgroup\":\"Kiribati\",\"orientation\":\"v\",\"showlegend\":true,\"x\":[\"Kiribati\"],\"x0\":\" \",\"xaxis\":\"x\",\"y\":[19.021017699115045],\"y0\":\" \",\"yaxis\":\"y\",\"type\":\"box\"},{\"alignmentgroup\":\"True\",\"hovertemplate\":\"Pais=%{x}\\u003cbr\\u003eTotal de Mortes=%{y}\\u003cextra\\u003e\\u003c\\u002fextra\\u003e\",\"legendgroup\":\"Kosovo\",\"marker\":{\"color\":\"#FFA15A\"},\"name\":\"Kosovo\",\"notched\":false,\"offsetgroup\":\"Kosovo\",\"orientation\":\"v\",\"showlegend\":true,\"x\":[\"Kosovo\"],\"x0\":\" \",\"xaxis\":\"x\",\"y\":[2473.71696931747],\"y0\":\" \",\"yaxis\":\"y\",\"type\":\"box\"},{\"alignmentgroup\":\"True\",\"hovertemplate\":\"Pais=%{x}\\u003cbr\\u003eTotal de Mortes=%{y}\\u003cextra\\u003e\\u003c\\u002fextra\\u003e\",\"legendgroup\":\"Kuwait\",\"marker\":{\"color\":\"#19d3f3\"},\"name\":\"Kuwait\",\"notched\":false,\"offsetgroup\":\"Kuwait\",\"orientation\":\"v\",\"showlegend\":true,\"x\":[\"Kuwait\"],\"x0\":\" \",\"xaxis\":\"x\",\"y\":[2043.6645609602022],\"y0\":\" \",\"yaxis\":\"y\",\"type\":\"box\"},{\"alignmentgroup\":\"True\",\"hovertemplate\":\"Pais=%{x}\\u003cbr\\u003eTotal de Mortes=%{y}\\u003cextra\\u003e\\u003c\\u002fextra\\u003e\",\"legendgroup\":\"Kyrgyzstan\",\"marker\":{\"color\":\"#FF6692\"},\"name\":\"Kyrgyzstan\",\"notched\":false,\"offsetgroup\":\"Kyrgyzstan\",\"orientation\":\"v\",\"showlegend\":true,\"x\":[\"Kyrgyzstan\"],\"x0\":\" \",\"xaxis\":\"x\",\"y\":[946.4079295154185],\"y0\":\" \",\"yaxis\":\"y\",\"type\":\"box\"},{\"alignmentgroup\":\"True\",\"hovertemplate\":\"Pais=%{x}\\u003cbr\\u003eTotal de Mortes=%{y}\\u003cextra\\u003e\\u003c\\u002fextra\\u003e\",\"legendgroup\":\"Laos\",\"marker\":{\"color\":\"#B6E880\"},\"name\":\"Laos\",\"notched\":false,\"offsetgroup\":\"Laos\",\"orientation\":\"v\",\"showlegend\":true,\"x\":[\"Laos\"],\"x0\":\" \",\"xaxis\":\"x\",\"y\":[539.129222972973],\"y0\":\" \",\"yaxis\":\"y\",\"type\":\"box\"},{\"alignmentgroup\":\"True\",\"hovertemplate\":\"Pais=%{x}\\u003cbr\\u003eTotal de Mortes=%{y}\\u003cextra\\u003e\\u003c\\u002fextra\\u003e\",\"legendgroup\":\"Latvia\",\"marker\":{\"color\":\"#FF97FF\"},\"name\":\"Latvia\",\"notched\":false,\"offsetgroup\":\"Latvia\",\"orientation\":\"v\",\"showlegend\":true,\"x\":[\"Latvia\"],\"x0\":\" \",\"xaxis\":\"x\",\"y\":[4795.84396715098],\"y0\":\" \",\"yaxis\":\"y\",\"type\":\"box\"},{\"alignmentgroup\":\"True\",\"hovertemplate\":\"Pais=%{x}\\u003cbr\\u003eTotal de Mortes=%{y}\\u003cextra\\u003e\\u003c\\u002fextra\\u003e\",\"legendgroup\":\"Lebanon\",\"marker\":{\"color\":\"#FECB52\"},\"name\":\"Lebanon\",\"notched\":false,\"offsetgroup\":\"Lebanon\",\"orientation\":\"v\",\"showlegend\":true,\"x\":[\"Lebanon\"],\"x0\":\" \",\"xaxis\":\"x\",\"y\":[7951.562967581048],\"y0\":\" \",\"yaxis\":\"y\",\"type\":\"box\"},{\"alignmentgroup\":\"True\",\"hovertemplate\":\"Pais=%{x}\\u003cbr\\u003eTotal de Mortes=%{y}\\u003cextra\\u003e\\u003c\\u002fextra\\u003e\",\"legendgroup\":\"Lesotho\",\"marker\":{\"color\":\"#636efa\"},\"name\":\"Lesotho\",\"notched\":false,\"offsetgroup\":\"Lesotho\",\"orientation\":\"v\",\"showlegend\":true,\"x\":[\"Lesotho\"],\"x0\":\" \",\"xaxis\":\"x\",\"y\":[554.0666666666667],\"y0\":\" \",\"yaxis\":\"y\",\"type\":\"box\"},{\"alignmentgroup\":\"True\",\"hovertemplate\":\"Pais=%{x}\\u003cbr\\u003eTotal de Mortes=%{y}\\u003cextra\\u003e\\u003c\\u002fextra\\u003e\",\"legendgroup\":\"Liberia\",\"marker\":{\"color\":\"#EF553B\"},\"name\":\"Liberia\",\"notched\":false,\"offsetgroup\":\"Liberia\",\"orientation\":\"v\",\"showlegend\":true,\"x\":[\"Liberia\"],\"x0\":\" \",\"xaxis\":\"x\",\"y\":[229.62034112444726],\"y0\":\" \",\"yaxis\":\"y\",\"type\":\"box\"},{\"alignmentgroup\":\"True\",\"hovertemplate\":\"Pais=%{x}\\u003cbr\\u003eTotal de Mortes=%{y}\\u003cextra\\u003e\\u003c\\u002fextra\\u003e\",\"legendgroup\":\"Libya\",\"marker\":{\"color\":\"#00cc96\"},\"name\":\"Libya\",\"notched\":false,\"offsetgroup\":\"Libya\",\"orientation\":\"v\",\"showlegend\":true,\"x\":[\"Libya\"],\"x0\":\" \",\"xaxis\":\"x\",\"y\":[4705.868603916614],\"y0\":\" \",\"yaxis\":\"y\",\"type\":\"box\"},{\"alignmentgroup\":\"True\",\"hovertemplate\":\"Pais=%{x}\\u003cbr\\u003eTotal de Mortes=%{y}\\u003cextra\\u003e\\u003c\\u002fextra\\u003e\",\"legendgroup\":\"Liechtenstein\",\"marker\":{\"color\":\"#ab63fa\"},\"name\":\"Liechtenstein\",\"notched\":false,\"offsetgroup\":\"Liechtenstein\",\"orientation\":\"v\",\"showlegend\":true,\"x\":[\"Liechtenstein\"],\"x0\":\" \",\"xaxis\":\"x\",\"y\":[65.25394819962098],\"y0\":\" \",\"yaxis\":\"y\",\"type\":\"box\"},{\"alignmentgroup\":\"True\",\"hovertemplate\":\"Pais=%{x}\\u003cbr\\u003eTotal de Mortes=%{y}\\u003cextra\\u003e\\u003c\\u002fextra\\u003e\",\"legendgroup\":\"Lithuania\",\"marker\":{\"color\":\"#FFA15A\"},\"name\":\"Lithuania\",\"notched\":false,\"offsetgroup\":\"Lithuania\",\"orientation\":\"v\",\"showlegend\":true,\"x\":[\"Lithuania\"],\"x0\":\" \",\"xaxis\":\"x\",\"y\":[6665.511949685535],\"y0\":\" \",\"yaxis\":\"y\",\"type\":\"box\"},{\"alignmentgroup\":\"True\",\"hovertemplate\":\"Pais=%{x}\\u003cbr\\u003eTotal de Mortes=%{y}\\u003cextra\\u003e\\u003c\\u002fextra\\u003e\",\"legendgroup\":\"Low-income countries\",\"marker\":{\"color\":\"#19d3f3\"},\"name\":\"Low-income countries\",\"notched\":false,\"offsetgroup\":\"Low-income countries\",\"orientation\":\"v\",\"showlegend\":true,\"x\":[\"Low-income countries\"],\"x0\":\" \",\"xaxis\":\"x\",\"y\":[31673.95012468828],\"y0\":\" \",\"yaxis\":\"y\",\"type\":\"box\"},{\"alignmentgroup\":\"True\",\"hovertemplate\":\"Pais=%{x}\\u003cbr\\u003eTotal de Mortes=%{y}\\u003cextra\\u003e\\u003c\\u002fextra\\u003e\",\"legendgroup\":\"Lower-middle-income countries\",\"marker\":{\"color\":\"#FF6692\"},\"name\":\"Lower-middle-income countries\",\"notched\":false,\"offsetgroup\":\"Lower-middle-income countries\",\"orientation\":\"v\",\"showlegend\":true,\"x\":[\"Lower-middle-income countries\"],\"x0\":\" \",\"xaxis\":\"x\",\"y\":[841928.5085054678],\"y0\":\" \",\"yaxis\":\"y\",\"type\":\"box\"},{\"alignmentgroup\":\"True\",\"hovertemplate\":\"Pais=%{x}\\u003cbr\\u003eTotal de Mortes=%{y}\\u003cextra\\u003e\\u003c\\u002fextra\\u003e\",\"legendgroup\":\"Luxembourg\",\"marker\":{\"color\":\"#B6E880\"},\"name\":\"Luxembourg\",\"notched\":false,\"offsetgroup\":\"Luxembourg\",\"orientation\":\"v\",\"showlegend\":true,\"x\":[\"Luxembourg\"],\"x0\":\" \",\"xaxis\":\"x\",\"y\":[690.6733167082294],\"y0\":\" \",\"yaxis\":\"y\",\"type\":\"box\"},{\"alignmentgroup\":\"True\",\"hovertemplate\":\"Pais=%{x}\\u003cbr\\u003eTotal de Mortes=%{y}\\u003cextra\\u003e\\u003c\\u002fextra\\u003e\",\"legendgroup\":\"Madagascar\",\"marker\":{\"color\":\"#FF97FF\"},\"name\":\"Madagascar\",\"notched\":false,\"offsetgroup\":\"Madagascar\",\"orientation\":\"v\",\"showlegend\":true,\"x\":[\"Madagascar\"],\"x0\":\" \",\"xaxis\":\"x\",\"y\":[1050.7202572347267],\"y0\":\" \",\"yaxis\":\"y\",\"type\":\"box\"},{\"alignmentgroup\":\"True\",\"hovertemplate\":\"Pais=%{x}\\u003cbr\\u003eTotal de Mortes=%{y}\\u003cextra\\u003e\\u003c\\u002fextra\\u003e\",\"legendgroup\":\"Malawi\",\"marker\":{\"color\":\"#FECB52\"},\"name\":\"Malawi\",\"notched\":false,\"offsetgroup\":\"Malawi\",\"orientation\":\"v\",\"showlegend\":true,\"x\":[\"Malawi\"],\"x0\":\" \",\"xaxis\":\"x\",\"y\":[1969.0640862944163],\"y0\":\" \",\"yaxis\":\"y\",\"type\":\"box\"},{\"alignmentgroup\":\"True\",\"hovertemplate\":\"Pais=%{x}\\u003cbr\\u003eTotal de Mortes=%{y}\\u003cextra\\u003e\\u003c\\u002fextra\\u003e\",\"legendgroup\":\"Malaysia\",\"marker\":{\"color\":\"#636efa\"},\"name\":\"Malaysia\",\"notched\":false,\"offsetgroup\":\"Malaysia\",\"orientation\":\"v\",\"showlegend\":true,\"x\":[\"Malaysia\"],\"x0\":\" \",\"xaxis\":\"x\",\"y\":[24253.219787100814],\"y0\":\" \",\"yaxis\":\"y\",\"type\":\"box\"},{\"alignmentgroup\":\"True\",\"hovertemplate\":\"Pais=%{x}\\u003cbr\\u003eTotal de Mortes=%{y}\\u003cextra\\u003e\\u003c\\u002fextra\\u003e\",\"legendgroup\":\"Maldives\",\"marker\":{\"color\":\"#EF553B\"},\"name\":\"Maldives\",\"notched\":false,\"offsetgroup\":\"Maldives\",\"orientation\":\"v\",\"showlegend\":true,\"x\":[\"Maldives\"],\"x0\":\" \",\"xaxis\":\"x\",\"y\":[230.10032154340837],\"y0\":\" \",\"yaxis\":\"y\",\"type\":\"box\"},{\"alignmentgroup\":\"True\",\"hovertemplate\":\"Pais=%{x}\\u003cbr\\u003eTotal de Mortes=%{y}\\u003cextra\\u003e\\u003c\\u002fextra\\u003e\",\"legendgroup\":\"Mali\",\"marker\":{\"color\":\"#00cc96\"},\"name\":\"Mali\",\"notched\":false,\"offsetgroup\":\"Mali\",\"orientation\":\"v\",\"showlegend\":true,\"x\":[\"Mali\"],\"x0\":\" \",\"xaxis\":\"x\",\"y\":[569.937106918239],\"y0\":\" \",\"yaxis\":\"y\",\"type\":\"box\"},{\"alignmentgroup\":\"True\",\"hovertemplate\":\"Pais=%{x}\\u003cbr\\u003eTotal de Mortes=%{y}\\u003cextra\\u003e\\u003c\\u002fextra\\u003e\",\"legendgroup\":\"Malta\",\"marker\":{\"color\":\"#ab63fa\"},\"name\":\"Malta\",\"notched\":false,\"offsetgroup\":\"Malta\",\"orientation\":\"v\",\"showlegend\":true,\"x\":[\"Malta\"],\"x0\":\" \",\"xaxis\":\"x\",\"y\":[600.0888324873097],\"y0\":\" \",\"yaxis\":\"y\",\"type\":\"box\"},{\"alignmentgroup\":\"True\",\"hovertemplate\":\"Pais=%{x}\\u003cbr\\u003eTotal de Mortes=%{y}\\u003cextra\\u003e\\u003c\\u002fextra\\u003e\",\"legendgroup\":\"Marshall Islands\",\"marker\":{\"color\":\"#FFA15A\"},\"name\":\"Marshall Islands\",\"notched\":false,\"offsetgroup\":\"Marshall Islands\",\"orientation\":\"v\",\"showlegend\":true,\"x\":[\"Marshall Islands\"],\"x0\":\" \",\"xaxis\":\"x\",\"y\":[16.844875346260388],\"y0\":\" \",\"yaxis\":\"y\",\"type\":\"box\"},{\"alignmentgroup\":\"True\",\"hovertemplate\":\"Pais=%{x}\\u003cbr\\u003eTotal de Mortes=%{y}\\u003cextra\\u003e\\u003c\\u002fextra\\u003e\",\"legendgroup\":\"Martinique\",\"marker\":{\"color\":\"#19d3f3\"},\"name\":\"Martinique\",\"notched\":false,\"offsetgroup\":\"Martinique\",\"orientation\":\"v\",\"showlegend\":true,\"x\":[\"Martinique\"],\"x0\":\" \",\"xaxis\":\"x\",\"y\":[691.5194968553459],\"y0\":\" \",\"yaxis\":\"y\",\"type\":\"box\"},{\"alignmentgroup\":\"True\",\"hovertemplate\":\"Pais=%{x}\\u003cbr\\u003eTotal de Mortes=%{y}\\u003cextra\\u003e\\u003c\\u002fextra\\u003e\",\"legendgroup\":\"Mauritania\",\"marker\":{\"color\":\"#FF6692\"},\"name\":\"Mauritania\",\"notched\":false,\"offsetgroup\":\"Mauritania\",\"orientation\":\"v\",\"showlegend\":true,\"x\":[\"Mauritania\"],\"x0\":\" \",\"xaxis\":\"x\",\"y\":[771.5540113708149],\"y0\":\" \",\"yaxis\":\"y\",\"type\":\"box\"},{\"alignmentgroup\":\"True\",\"hovertemplate\":\"Pais=%{x}\\u003cbr\\u003eTotal de Mortes=%{y}\\u003cextra\\u003e\\u003c\\u002fextra\\u003e\",\"legendgroup\":\"Mauritius\",\"marker\":{\"color\":\"#B6E880\"},\"name\":\"Mauritius\",\"notched\":false,\"offsetgroup\":\"Mauritius\",\"orientation\":\"v\",\"showlegend\":true,\"x\":[\"Mauritius\"],\"x0\":\" \",\"xaxis\":\"x\",\"y\":[633.8979336255479],\"y0\":\" \",\"yaxis\":\"y\",\"type\":\"box\"},{\"alignmentgroup\":\"True\",\"hovertemplate\":\"Pais=%{x}\\u003cbr\\u003eTotal de Mortes=%{y}\\u003cextra\\u003e\\u003c\\u002fextra\\u003e\",\"legendgroup\":\"Mayotte\",\"marker\":{\"color\":\"#FF97FF\"},\"name\":\"Mayotte\",\"notched\":false,\"offsetgroup\":\"Mayotte\",\"orientation\":\"v\",\"showlegend\":true,\"x\":[\"Mayotte\"],\"x0\":\" \",\"xaxis\":\"x\",\"y\":[153.21604548325962],\"y0\":\" \",\"yaxis\":\"y\",\"type\":\"box\"},{\"alignmentgroup\":\"True\",\"hovertemplate\":\"Pais=%{x}\\u003cbr\\u003eTotal de Mortes=%{y}\\u003cextra\\u003e\\u003c\\u002fextra\\u003e\",\"legendgroup\":\"Mexico\",\"marker\":{\"color\":\"#FECB52\"},\"name\":\"Mexico\",\"notched\":false,\"offsetgroup\":\"Mexico\",\"orientation\":\"v\",\"showlegend\":true,\"x\":[\"Mexico\"],\"x0\":\" \",\"xaxis\":\"x\",\"y\":[263790.92360676266],\"y0\":\" \",\"yaxis\":\"y\",\"type\":\"box\"},{\"alignmentgroup\":\"True\",\"hovertemplate\":\"Pais=%{x}\\u003cbr\\u003eTotal de Mortes=%{y}\\u003cextra\\u003e\\u003c\\u002fextra\\u003e\",\"legendgroup\":\"Micronesia (country)\",\"marker\":{\"color\":\"#636efa\"},\"name\":\"Micronesia (country)\",\"notched\":false,\"offsetgroup\":\"Micronesia (country)\",\"orientation\":\"v\",\"showlegend\":true,\"x\":[\"Micronesia (country)\"],\"x0\":\" \",\"xaxis\":\"x\",\"y\":[58.9421265141319],\"y0\":\" \",\"yaxis\":\"y\",\"type\":\"box\"},{\"alignmentgroup\":\"True\",\"hovertemplate\":\"Pais=%{x}\\u003cbr\\u003eTotal de Mortes=%{y}\\u003cextra\\u003e\\u003c\\u002fextra\\u003e\",\"legendgroup\":\"Moldova\",\"marker\":{\"color\":\"#EF553B\"},\"name\":\"Moldova\",\"notched\":false,\"offsetgroup\":\"Moldova\",\"orientation\":\"v\",\"showlegend\":true,\"x\":[\"Moldova\"],\"x0\":\" \",\"xaxis\":\"x\",\"y\":[8718.48591108328],\"y0\":\" \",\"yaxis\":\"y\",\"type\":\"box\"},{\"alignmentgroup\":\"True\",\"hovertemplate\":\"Pais=%{x}\\u003cbr\\u003eTotal de Mortes=%{y}\\u003cextra\\u003e\\u003c\\u002fextra\\u003e\",\"legendgroup\":\"Monaco\",\"marker\":{\"color\":\"#00cc96\"},\"name\":\"Monaco\",\"notched\":false,\"offsetgroup\":\"Monaco\",\"orientation\":\"v\",\"showlegend\":true,\"x\":[\"Monaco\"],\"x0\":\" \",\"xaxis\":\"x\",\"y\":[45.173857868020306],\"y0\":\" \",\"yaxis\":\"y\",\"type\":\"box\"},{\"alignmentgroup\":\"True\",\"hovertemplate\":\"Pais=%{x}\\u003cbr\\u003eTotal de Mortes=%{y}\\u003cextra\\u003e\\u003c\\u002fextra\\u003e\",\"legendgroup\":\"Mongolia\",\"marker\":{\"color\":\"#ab63fa\"},\"name\":\"Mongolia\",\"notched\":false,\"offsetgroup\":\"Mongolia\",\"orientation\":\"v\",\"showlegend\":true,\"x\":[\"Mongolia\"],\"x0\":\" \",\"xaxis\":\"x\",\"y\":[1707.345166163142],\"y0\":\" \",\"yaxis\":\"y\",\"type\":\"box\"},{\"alignmentgroup\":\"True\",\"hovertemplate\":\"Pais=%{x}\\u003cbr\\u003eTotal de Mortes=%{y}\\u003cextra\\u003e\\u003c\\u002fextra\\u003e\",\"legendgroup\":\"Montenegro\",\"marker\":{\"color\":\"#FFA15A\"},\"name\":\"Montenegro\",\"notched\":false,\"offsetgroup\":\"Montenegro\",\"orientation\":\"v\",\"showlegend\":true,\"x\":[\"Montenegro\"],\"x0\":\" \",\"xaxis\":\"x\",\"y\":[1953.032154340836],\"y0\":\" \",\"yaxis\":\"y\",\"type\":\"box\"},{\"alignmentgroup\":\"True\",\"hovertemplate\":\"Pais=%{x}\\u003cbr\\u003eTotal de Mortes=%{y}\\u003cextra\\u003e\\u003c\\u002fextra\\u003e\",\"legendgroup\":\"Montserrat\",\"marker\":{\"color\":\"#19d3f3\"},\"name\":\"Montserrat\",\"notched\":false,\"offsetgroup\":\"Montserrat\",\"orientation\":\"v\",\"showlegend\":true,\"x\":[\"Montserrat\"],\"x0\":\" \",\"xaxis\":\"x\",\"y\":[4.638924455825864],\"y0\":\" \",\"yaxis\":\"y\",\"type\":\"box\"},{\"alignmentgroup\":\"True\",\"hovertemplate\":\"Pais=%{x}\\u003cbr\\u003eTotal de Mortes=%{y}\\u003cextra\\u003e\\u003c\\u002fextra\\u003e\",\"legendgroup\":\"Morocco\",\"marker\":{\"color\":\"#FF6692\"},\"name\":\"Morocco\",\"notched\":false,\"offsetgroup\":\"Morocco\",\"orientation\":\"v\",\"showlegend\":true,\"x\":[\"Morocco\"],\"x0\":\" \",\"xaxis\":\"x\",\"y\":[12344.645261845386],\"y0\":\" \",\"yaxis\":\"y\",\"type\":\"box\"},{\"alignmentgroup\":\"True\",\"hovertemplate\":\"Pais=%{x}\\u003cbr\\u003eTotal de Mortes=%{y}\\u003cextra\\u003e\\u003c\\u002fextra\\u003e\",\"legendgroup\":\"Mozambique\",\"marker\":{\"color\":\"#B6E880\"},\"name\":\"Mozambique\",\"notched\":false,\"offsetgroup\":\"Mozambique\",\"orientation\":\"v\",\"showlegend\":true,\"x\":[\"Mozambique\"],\"x0\":\" \",\"xaxis\":\"x\",\"y\":[1675.052390307793],\"y0\":\" \",\"yaxis\":\"y\",\"type\":\"box\"},{\"alignmentgroup\":\"True\",\"hovertemplate\":\"Pais=%{x}\\u003cbr\\u003eTotal de Mortes=%{y}\\u003cextra\\u003e\\u003c\\u002fextra\\u003e\",\"legendgroup\":\"Myanmar\",\"marker\":{\"color\":\"#FF97FF\"},\"name\":\"Myanmar\",\"notched\":false,\"offsetgroup\":\"Myanmar\",\"orientation\":\"v\",\"showlegend\":true,\"x\":[\"Myanmar\"],\"x0\":\" \",\"xaxis\":\"x\",\"y\":[13833.772583701832],\"y0\":\" \",\"yaxis\":\"y\",\"type\":\"box\"},{\"alignmentgroup\":\"True\",\"hovertemplate\":\"Pais=%{x}\\u003cbr\\u003eTotal de Mortes=%{y}\\u003cextra\\u003e\\u003c\\u002fextra\\u003e\",\"legendgroup\":\"Namibia\",\"marker\":{\"color\":\"#FECB52\"},\"name\":\"Namibia\",\"notched\":false,\"offsetgroup\":\"Namibia\",\"orientation\":\"v\",\"showlegend\":true,\"x\":[\"Namibia\"],\"x0\":\" \",\"xaxis\":\"x\",\"y\":[3082.719191919192],\"y0\":\" \",\"yaxis\":\"y\",\"type\":\"box\"},{\"alignmentgroup\":\"True\",\"hovertemplate\":\"Pais=%{x}\\u003cbr\\u003eTotal de Mortes=%{y}\\u003cextra\\u003e\\u003c\\u002fextra\\u003e\",\"legendgroup\":\"Nauru\",\"marker\":{\"color\":\"#636efa\"},\"name\":\"Nauru\",\"notched\":false,\"offsetgroup\":\"Nauru\",\"orientation\":\"v\",\"showlegend\":true,\"x\":[\"Nauru\"],\"x0\":\" \",\"xaxis\":\"x\",\"y\":[1.0],\"y0\":\" \",\"yaxis\":\"y\",\"type\":\"box\"},{\"alignmentgroup\":\"True\",\"hovertemplate\":\"Pais=%{x}\\u003cbr\\u003eTotal de Mortes=%{y}\\u003cextra\\u003e\\u003c\\u002fextra\\u003e\",\"legendgroup\":\"Nepal\",\"marker\":{\"color\":\"#EF553B\"},\"name\":\"Nepal\",\"notched\":false,\"offsetgroup\":\"Nepal\",\"orientation\":\"v\",\"showlegend\":true,\"x\":[\"Nepal\"],\"x0\":\" \",\"xaxis\":\"x\",\"y\":[9264.09669046074],\"y0\":\" \",\"yaxis\":\"y\",\"type\":\"box\"},{\"alignmentgroup\":\"True\",\"hovertemplate\":\"Pais=%{x}\\u003cbr\\u003eTotal de Mortes=%{y}\\u003cextra\\u003e\\u003c\\u002fextra\\u003e\",\"legendgroup\":\"Netherlands\",\"marker\":{\"color\":\"#00cc96\"},\"name\":\"Netherlands\",\"notched\":false,\"offsetgroup\":\"Netherlands\",\"orientation\":\"v\",\"showlegend\":true,\"x\":[\"Netherlands\"],\"x0\":\" \",\"xaxis\":\"x\",\"y\":[18426.836126629423],\"y0\":\" \",\"yaxis\":\"y\",\"type\":\"box\"},{\"alignmentgroup\":\"True\",\"hovertemplate\":\"Pais=%{x}\\u003cbr\\u003eTotal de Mortes=%{y}\\u003cextra\\u003e\\u003c\\u002fextra\\u003e\",\"legendgroup\":\"New Caledonia\",\"marker\":{\"color\":\"#ab63fa\"},\"name\":\"New Caledonia\",\"notched\":false,\"offsetgroup\":\"New Caledonia\",\"orientation\":\"v\",\"showlegend\":true,\"x\":[\"New Caledonia\"],\"x0\":\" \",\"xaxis\":\"x\",\"y\":[301.32986767485824],\"y0\":\" \",\"yaxis\":\"y\",\"type\":\"box\"},{\"alignmentgroup\":\"True\",\"hovertemplate\":\"Pais=%{x}\\u003cbr\\u003eTotal de Mortes=%{y}\\u003cextra\\u003e\\u003c\\u002fextra\\u003e\",\"legendgroup\":\"New Zealand\",\"marker\":{\"color\":\"#FFA15A\"},\"name\":\"New Zealand\",\"notched\":false,\"offsetgroup\":\"New Zealand\",\"orientation\":\"v\",\"showlegend\":true,\"x\":[\"New Zealand\"],\"x0\":\" \",\"xaxis\":\"x\",\"y\":[1533.845283018868],\"y0\":\" \",\"yaxis\":\"y\",\"type\":\"box\"},{\"alignmentgroup\":\"True\",\"hovertemplate\":\"Pais=%{x}\\u003cbr\\u003eTotal de Mortes=%{y}\\u003cextra\\u003e\\u003c\\u002fextra\\u003e\",\"legendgroup\":\"Nicaragua\",\"marker\":{\"color\":\"#19d3f3\"},\"name\":\"Nicaragua\",\"notched\":false,\"offsetgroup\":\"Nicaragua\",\"orientation\":\"v\",\"showlegend\":true,\"x\":[\"Nicaragua\"],\"x0\":\" \",\"xaxis\":\"x\",\"y\":[204.95911949685535],\"y0\":\" \",\"yaxis\":\"y\",\"type\":\"box\"},{\"alignmentgroup\":\"True\",\"hovertemplate\":\"Pais=%{x}\\u003cbr\\u003eTotal de Mortes=%{y}\\u003cextra\\u003e\\u003c\\u002fextra\\u003e\",\"legendgroup\":\"Niger\",\"marker\":{\"color\":\"#FF6692\"},\"name\":\"Niger\",\"notched\":false,\"offsetgroup\":\"Niger\",\"orientation\":\"v\",\"showlegend\":true,\"x\":[\"Niger\"],\"x0\":\" \",\"xaxis\":\"x\",\"y\":[246.914718888187],\"y0\":\" \",\"yaxis\":\"y\",\"type\":\"box\"},{\"alignmentgroup\":\"True\",\"hovertemplate\":\"Pais=%{x}\\u003cbr\\u003eTotal de Mortes=%{y}\\u003cextra\\u003e\\u003c\\u002fextra\\u003e\",\"legendgroup\":\"Nigeria\",\"marker\":{\"color\":\"#B6E880\"},\"name\":\"Nigeria\",\"notched\":false,\"offsetgroup\":\"Nigeria\",\"orientation\":\"v\",\"showlegend\":true,\"x\":[\"Nigeria\"],\"x0\":\" \",\"xaxis\":\"x\",\"y\":[2522.6578616352203],\"y0\":\" \",\"yaxis\":\"y\",\"type\":\"box\"},{\"alignmentgroup\":\"True\",\"hovertemplate\":\"Pais=%{x}\\u003cbr\\u003eTotal de Mortes=%{y}\\u003cextra\\u003e\\u003c\\u002fextra\\u003e\",\"legendgroup\":\"North America\",\"marker\":{\"color\":\"#FF97FF\"},\"name\":\"North America\",\"notched\":false,\"offsetgroup\":\"North America\",\"orientation\":\"v\",\"showlegend\":true,\"x\":[\"North America\"],\"x0\":\" \",\"xaxis\":\"x\",\"y\":[1162321.4320148332],\"y0\":\" \",\"yaxis\":\"y\",\"type\":\"box\"},{\"alignmentgroup\":\"True\",\"hovertemplate\":\"Pais=%{x}\\u003cbr\\u003eTotal de Mortes=%{y}\\u003cextra\\u003e\\u003c\\u002fextra\\u003e\",\"legendgroup\":\"North Macedonia\",\"marker\":{\"color\":\"#FECB52\"},\"name\":\"North Macedonia\",\"notched\":false,\"offsetgroup\":\"North Macedonia\",\"orientation\":\"v\",\"showlegend\":true,\"x\":[\"North Macedonia\"],\"x0\":\" \",\"xaxis\":\"x\",\"y\":[7270.932999373826],\"y0\":\" \",\"yaxis\":\"y\",\"type\":\"box\"},{\"alignmentgroup\":\"True\",\"hovertemplate\":\"Pais=%{x}\\u003cbr\\u003eTotal de Mortes=%{y}\\u003cextra\\u003e\\u003c\\u002fextra\\u003e\",\"legendgroup\":\"Northern Mariana Islands\",\"marker\":{\"color\":\"#636efa\"},\"name\":\"Northern Mariana Islands\",\"notched\":false,\"offsetgroup\":\"Northern Mariana Islands\",\"orientation\":\"v\",\"showlegend\":true,\"x\":[\"Northern Mariana Islands\"],\"x0\":\" \",\"xaxis\":\"x\",\"y\":[23.917877447883765],\"y0\":\" \",\"yaxis\":\"y\",\"type\":\"box\"},{\"alignmentgroup\":\"True\",\"hovertemplate\":\"Pais=%{x}\\u003cbr\\u003eTotal de Mortes=%{y}\\u003cextra\\u003e\\u003c\\u002fextra\\u003e\",\"legendgroup\":\"Norway\",\"marker\":{\"color\":\"#EF553B\"},\"name\":\"Norway\",\"notched\":false,\"offsetgroup\":\"Norway\",\"orientation\":\"v\",\"showlegend\":true,\"x\":[\"Norway\"],\"x0\":\" \",\"xaxis\":\"x\",\"y\":[2993.040523690773],\"y0\":\" \",\"yaxis\":\"y\",\"type\":\"box\"},{\"alignmentgroup\":\"True\",\"hovertemplate\":\"Pais=%{x}\\u003cbr\\u003eTotal de Mortes=%{y}\\u003cextra\\u003e\\u003c\\u002fextra\\u003e\",\"legendgroup\":\"Oceania\",\"marker\":{\"color\":\"#00cc96\"},\"name\":\"Oceania\",\"notched\":false,\"offsetgroup\":\"Oceania\",\"orientation\":\"v\",\"showlegend\":true,\"x\":[\"Oceania\"],\"x0\":\" \",\"xaxis\":\"x\",\"y\":[14856.487895716946],\"y0\":\" \",\"yaxis\":\"y\",\"type\":\"box\"},{\"alignmentgroup\":\"True\",\"hovertemplate\":\"Pais=%{x}\\u003cbr\\u003eTotal de Mortes=%{y}\\u003cextra\\u003e\\u003c\\u002fextra\\u003e\",\"legendgroup\":\"Oman\",\"marker\":{\"color\":\"#ab63fa\"},\"name\":\"Oman\",\"notched\":false,\"offsetgroup\":\"Oman\",\"orientation\":\"v\",\"showlegend\":true,\"x\":[\"Oman\"],\"x0\":\" \",\"xaxis\":\"x\",\"y\":[3588.0290587492104],\"y0\":\" \",\"yaxis\":\"y\",\"type\":\"box\"},{\"alignmentgroup\":\"True\",\"hovertemplate\":\"Pais=%{x}\\u003cbr\\u003eTotal de Mortes=%{y}\\u003cextra\\u003e\\u003c\\u002fextra\\u003e\",\"legendgroup\":\"Pakistan\",\"marker\":{\"color\":\"#FFA15A\"},\"name\":\"Pakistan\",\"notched\":false,\"offsetgroup\":\"Pakistan\",\"orientation\":\"v\",\"showlegend\":true,\"x\":[\"Pakistan\"],\"x0\":\" \",\"xaxis\":\"x\",\"y\":[23730.124608641203],\"y0\":\" \",\"yaxis\":\"y\",\"type\":\"box\"},{\"alignmentgroup\":\"True\",\"hovertemplate\":\"Pais=%{x}\\u003cbr\\u003eTotal de Mortes=%{y}\\u003cextra\\u003e\\u003c\\u002fextra\\u003e\",\"legendgroup\":\"Palau\",\"marker\":{\"color\":\"#19d3f3\"},\"name\":\"Palau\",\"notched\":false,\"offsetgroup\":\"Palau\",\"orientation\":\"v\",\"showlegend\":true,\"x\":[\"Palau\"],\"x0\":\" \",\"xaxis\":\"x\",\"y\":[8.226769911504425],\"y0\":\" \",\"yaxis\":\"y\",\"type\":\"box\"},{\"alignmentgroup\":\"True\",\"hovertemplate\":\"Pais=%{x}\\u003cbr\\u003eTotal de Mortes=%{y}\\u003cextra\\u003e\\u003c\\u002fextra\\u003e\",\"legendgroup\":\"Palestine\",\"marker\":{\"color\":\"#FF6692\"},\"name\":\"Palestine\",\"notched\":false,\"offsetgroup\":\"Palestine\",\"orientation\":\"v\",\"showlegend\":true,\"x\":[\"Palestine\"],\"x0\":\" \",\"xaxis\":\"x\",\"y\":[4242.649056603774],\"y0\":\" \",\"yaxis\":\"y\",\"type\":\"box\"},{\"alignmentgroup\":\"True\",\"hovertemplate\":\"Pais=%{x}\\u003cbr\\u003eTotal de Mortes=%{y}\\u003cextra\\u003e\\u003c\\u002fextra\\u003e\",\"legendgroup\":\"Panama\",\"marker\":{\"color\":\"#B6E880\"},\"name\":\"Panama\",\"notched\":false,\"offsetgroup\":\"Panama\",\"orientation\":\"v\",\"showlegend\":true,\"x\":[\"Panama\"],\"x0\":\" \",\"xaxis\":\"x\",\"y\":[6759.982543640897],\"y0\":\" \",\"yaxis\":\"y\",\"type\":\"box\"},{\"alignmentgroup\":\"True\",\"hovertemplate\":\"Pais=%{x}\\u003cbr\\u003eTotal de Mortes=%{y}\\u003cextra\\u003e\\u003c\\u002fextra\\u003e\",\"legendgroup\":\"Papua New Guinea\",\"marker\":{\"color\":\"#FF97FF\"},\"name\":\"Papua New Guinea\",\"notched\":false,\"offsetgroup\":\"Papua New Guinea\",\"orientation\":\"v\",\"showlegend\":true,\"x\":[\"Papua New Guinea\"],\"x0\":\" \",\"xaxis\":\"x\",\"y\":[474.8606557377049],\"y0\":\" \",\"yaxis\":\"y\",\"type\":\"box\"},{\"alignmentgroup\":\"True\",\"hovertemplate\":\"Pais=%{x}\\u003cbr\\u003eTotal de Mortes=%{y}\\u003cextra\\u003e\\u003c\\u002fextra\\u003e\",\"legendgroup\":\"Paraguay\",\"marker\":{\"color\":\"#FECB52\"},\"name\":\"Paraguay\",\"notched\":false,\"offsetgroup\":\"Paraguay\",\"orientation\":\"v\",\"showlegend\":true,\"x\":[\"Paraguay\"],\"x0\":\" \",\"xaxis\":\"x\",\"y\":[14053.79524107702],\"y0\":\" \",\"yaxis\":\"y\",\"type\":\"box\"},{\"alignmentgroup\":\"True\",\"hovertemplate\":\"Pais=%{x}\\u003cbr\\u003eTotal de Mortes=%{y}\\u003cextra\\u003e\\u003c\\u002fextra\\u003e\",\"legendgroup\":\"Peru\",\"marker\":{\"color\":\"#636efa\"},\"name\":\"Peru\",\"notched\":false,\"offsetgroup\":\"Peru\",\"orientation\":\"v\",\"showlegend\":true,\"x\":[\"Peru\"],\"x0\":\" \",\"xaxis\":\"x\",\"y\":[175752.8361266294],\"y0\":\" \",\"yaxis\":\"y\",\"type\":\"box\"},{\"alignmentgroup\":\"True\",\"hovertemplate\":\"Pais=%{x}\\u003cbr\\u003eTotal de Mortes=%{y}\\u003cextra\\u003e\\u003c\\u002fextra\\u003e\",\"legendgroup\":\"Philippines\",\"marker\":{\"color\":\"#EF553B\"},\"name\":\"Philippines\",\"notched\":false,\"offsetgroup\":\"Philippines\",\"orientation\":\"v\",\"showlegend\":true,\"x\":[\"Philippines\"],\"x0\":\" \",\"xaxis\":\"x\",\"y\":[43404.614216281894],\"y0\":\" \",\"yaxis\":\"y\",\"type\":\"box\"},{\"alignmentgroup\":\"True\",\"hovertemplate\":\"Pais=%{x}\\u003cbr\\u003eTotal de Mortes=%{y}\\u003cextra\\u003e\\u003c\\u002fextra\\u003e\",\"legendgroup\":\"Poland\",\"marker\":{\"color\":\"#00cc96\"},\"name\":\"Poland\",\"notched\":false,\"offsetgroup\":\"Poland\",\"orientation\":\"v\",\"showlegend\":true,\"x\":[\"Poland\"],\"x0\":\" \",\"xaxis\":\"x\",\"y\":[85512.36471321696],\"y0\":\" \",\"yaxis\":\"y\",\"type\":\"box\"},{\"alignmentgroup\":\"True\",\"hovertemplate\":\"Pais=%{x}\\u003cbr\\u003eTotal de Mortes=%{y}\\u003cextra\\u003e\\u003c\\u002fextra\\u003e\",\"legendgroup\":\"Portugal\",\"marker\":{\"color\":\"#ab63fa\"},\"name\":\"Portugal\",\"notched\":false,\"offsetgroup\":\"Portugal\",\"orientation\":\"v\",\"showlegend\":true,\"x\":[\"Portugal\"],\"x0\":\" \",\"xaxis\":\"x\",\"y\":[19488.21728240451],\"y0\":\" \",\"yaxis\":\"y\",\"type\":\"box\"},{\"alignmentgroup\":\"True\",\"hovertemplate\":\"Pais=%{x}\\u003cbr\\u003eTotal de Mortes=%{y}\\u003cextra\\u003e\\u003c\\u002fextra\\u003e\",\"legendgroup\":\"Puerto Rico\",\"marker\":{\"color\":\"#FFA15A\"},\"name\":\"Puerto Rico\",\"notched\":false,\"offsetgroup\":\"Puerto Rico\",\"orientation\":\"v\",\"showlegend\":true,\"x\":[\"Puerto Rico\"],\"x0\":\" \",\"xaxis\":\"x\",\"y\":[3889.2310582341893],\"y0\":\" \",\"yaxis\":\"y\",\"type\":\"box\"},{\"alignmentgroup\":\"True\",\"hovertemplate\":\"Pais=%{x}\\u003cbr\\u003eTotal de Mortes=%{y}\\u003cextra\\u003e\\u003c\\u002fextra\\u003e\",\"legendgroup\":\"Qatar\",\"marker\":{\"color\":\"#19d3f3\"},\"name\":\"Qatar\",\"notched\":false,\"offsetgroup\":\"Qatar\",\"orientation\":\"v\",\"showlegend\":true,\"x\":[\"Qatar\"],\"x0\":\" \",\"xaxis\":\"x\",\"y\":[544.0081761006289],\"y0\":\" \",\"yaxis\":\"y\",\"type\":\"box\"},{\"alignmentgroup\":\"True\",\"hovertemplate\":\"Pais=%{x}\\u003cbr\\u003eTotal de Mortes=%{y}\\u003cextra\\u003e\\u003c\\u002fextra\\u003e\",\"legendgroup\":\"Reunion\",\"marker\":{\"color\":\"#FF6692\"},\"name\":\"Reunion\",\"notched\":false,\"offsetgroup\":\"Reunion\",\"orientation\":\"v\",\"showlegend\":true,\"x\":[\"Reunion\"],\"x0\":\" \",\"xaxis\":\"x\",\"y\":[587.6010430247718],\"y0\":\" \",\"yaxis\":\"y\",\"type\":\"box\"},{\"alignmentgroup\":\"True\",\"hovertemplate\":\"Pais=%{x}\\u003cbr\\u003eTotal de Mortes=%{y}\\u003cextra\\u003e\\u003c\\u002fextra\\u003e\",\"legendgroup\":\"Romania\",\"marker\":{\"color\":\"#B6E880\"},\"name\":\"Romania\",\"notched\":false,\"offsetgroup\":\"Romania\",\"orientation\":\"v\",\"showlegend\":true,\"x\":[\"Romania\"],\"x0\":\" \",\"xaxis\":\"x\",\"y\":[48353.764150943396],\"y0\":\" \",\"yaxis\":\"y\",\"type\":\"box\"},{\"alignmentgroup\":\"True\",\"hovertemplate\":\"Pais=%{x}\\u003cbr\\u003eTotal de Mortes=%{y}\\u003cextra\\u003e\\u003c\\u002fextra\\u003e\",\"legendgroup\":\"Russia\",\"marker\":{\"color\":\"#FF97FF\"},\"name\":\"Russia\",\"notched\":false,\"offsetgroup\":\"Russia\",\"orientation\":\"v\",\"showlegend\":true,\"x\":[\"Russia\"],\"x0\":\" \",\"xaxis\":\"x\",\"y\":[270504.8710691824],\"y0\":\" \",\"yaxis\":\"y\",\"type\":\"box\"},{\"alignmentgroup\":\"True\",\"hovertemplate\":\"Pais=%{x}\\u003cbr\\u003eTotal de Mortes=%{y}\\u003cextra\\u003e\\u003c\\u002fextra\\u003e\",\"legendgroup\":\"Rwanda\",\"marker\":{\"color\":\"#FECB52\"},\"name\":\"Rwanda\",\"notched\":false,\"offsetgroup\":\"Rwanda\",\"orientation\":\"v\",\"showlegend\":true,\"x\":[\"Rwanda\"],\"x0\":\" \",\"xaxis\":\"x\",\"y\":[1076.9718402095612],\"y0\":\" \",\"yaxis\":\"y\",\"type\":\"box\"},{\"alignmentgroup\":\"True\",\"hovertemplate\":\"Pais=%{x}\\u003cbr\\u003eTotal de Mortes=%{y}\\u003cextra\\u003e\\u003c\\u002fextra\\u003e\",\"legendgroup\":\"Saint Barthelemy\",\"marker\":{\"color\":\"#636efa\"},\"name\":\"Saint Barthelemy\",\"notched\":false,\"offsetgroup\":\"Saint Barthelemy\",\"orientation\":\"v\",\"showlegend\":true,\"x\":[\"Saint Barthelemy\"],\"x0\":\" \",\"xaxis\":\"x\",\"y\":[4.14758064516129],\"y0\":\" \",\"yaxis\":\"y\",\"type\":\"box\"},{\"alignmentgroup\":\"True\",\"hovertemplate\":\"Pais=%{x}\\u003cbr\\u003eTotal de Mortes=%{y}\\u003cextra\\u003e\\u003c\\u002fextra\\u003e\",\"legendgroup\":\"Saint Kitts and Nevis\",\"marker\":{\"color\":\"#EF553B\"},\"name\":\"Saint Kitts and Nevis\",\"notched\":false,\"offsetgroup\":\"Saint Kitts and Nevis\",\"orientation\":\"v\",\"showlegend\":true,\"x\":[\"Saint Kitts and Nevis\"],\"x0\":\" \",\"xaxis\":\"x\",\"y\":[39.35551663747811],\"y0\":\" \",\"yaxis\":\"y\",\"type\":\"box\"},{\"alignmentgroup\":\"True\",\"hovertemplate\":\"Pais=%{x}\\u003cbr\\u003eTotal de Mortes=%{y}\\u003cextra\\u003e\\u003c\\u002fextra\\u003e\",\"legendgroup\":\"Saint Lucia\",\"marker\":{\"color\":\"#00cc96\"},\"name\":\"Saint Lucia\",\"notched\":false,\"offsetgroup\":\"Saint Lucia\",\"orientation\":\"v\",\"showlegend\":true,\"x\":[\"Saint Lucia\"],\"x0\":\" \",\"xaxis\":\"x\",\"y\":[307.6578366445916],\"y0\":\" \",\"yaxis\":\"y\",\"type\":\"box\"},{\"alignmentgroup\":\"True\",\"hovertemplate\":\"Pais=%{x}\\u003cbr\\u003eTotal de Mortes=%{y}\\u003cextra\\u003e\\u003c\\u002fextra\\u003e\",\"legendgroup\":\"Saint Martin (French part)\",\"marker\":{\"color\":\"#ab63fa\"},\"name\":\"Saint Martin (French part)\",\"notched\":false,\"offsetgroup\":\"Saint Martin (French part)\",\"orientation\":\"v\",\"showlegend\":true,\"x\":[\"Saint Martin (French part)\"],\"x0\":\" \",\"xaxis\":\"x\",\"y\":[33.90145293746052],\"y0\":\" \",\"yaxis\":\"y\",\"type\":\"box\"},{\"alignmentgroup\":\"True\",\"hovertemplate\":\"Pais=%{x}\\u003cbr\\u003eTotal de Mortes=%{y}\\u003cextra\\u003e\\u003c\\u002fextra\\u003e\",\"legendgroup\":\"Saint Pierre and Miquelon\",\"marker\":{\"color\":\"#FFA15A\"},\"name\":\"Saint Pierre and Miquelon\",\"notched\":false,\"offsetgroup\":\"Saint Pierre and Miquelon\",\"orientation\":\"v\",\"showlegend\":true,\"x\":[\"Saint Pierre and Miquelon\"],\"x0\":\" \",\"xaxis\":\"x\",\"y\":[1.6695938529088914],\"y0\":\" \",\"yaxis\":\"y\",\"type\":\"box\"},{\"alignmentgroup\":\"True\",\"hovertemplate\":\"Pais=%{x}\\u003cbr\\u003eTotal de Mortes=%{y}\\u003cextra\\u003e\\u003c\\u002fextra\\u003e\",\"legendgroup\":\"Saint Vincent and the Grenadines\",\"marker\":{\"color\":\"#19d3f3\"},\"name\":\"Saint Vincent and the Grenadines\",\"notched\":false,\"offsetgroup\":\"Saint Vincent and the Grenadines\",\"orientation\":\"v\",\"showlegend\":true,\"x\":[\"Saint Vincent and the Grenadines\"],\"x0\":\" \",\"xaxis\":\"x\",\"y\":[92.67283950617283],\"y0\":\" \",\"yaxis\":\"y\",\"type\":\"box\"},{\"alignmentgroup\":\"True\",\"hovertemplate\":\"Pais=%{x}\\u003cbr\\u003eTotal de Mortes=%{y}\\u003cextra\\u003e\\u003c\\u002fextra\\u003e\",\"legendgroup\":\"Samoa\",\"marker\":{\"color\":\"#FF6692\"},\"name\":\"Samoa\",\"notched\":false,\"offsetgroup\":\"Samoa\",\"orientation\":\"v\",\"showlegend\":true,\"x\":[\"Samoa\"],\"x0\":\" \",\"xaxis\":\"x\",\"y\":[29.20701754385965],\"y0\":\" \",\"yaxis\":\"y\",\"type\":\"box\"},{\"alignmentgroup\":\"True\",\"hovertemplate\":\"Pais=%{x}\\u003cbr\\u003eTotal de Mortes=%{y}\\u003cextra\\u003e\\u003c\\u002fextra\\u003e\",\"legendgroup\":\"San Marino\",\"marker\":{\"color\":\"#B6E880\"},\"name\":\"San Marino\",\"notched\":false,\"offsetgroup\":\"San Marino\",\"orientation\":\"v\",\"showlegend\":true,\"x\":[\"San Marino\"],\"x0\":\" \",\"xaxis\":\"x\",\"y\":[97.98261949099938],\"y0\":\" \",\"yaxis\":\"y\",\"type\":\"box\"},{\"alignmentgroup\":\"True\",\"hovertemplate\":\"Pais=%{x}\\u003cbr\\u003eTotal de Mortes=%{y}\\u003cextra\\u003e\\u003c\\u002fextra\\u003e\",\"legendgroup\":\"Sao Tome and Principe\",\"marker\":{\"color\":\"#FF97FF\"},\"name\":\"Sao Tome and Principe\",\"notched\":false,\"offsetgroup\":\"Sao Tome and Principe\",\"orientation\":\"v\",\"showlegend\":true,\"x\":[\"Sao Tome and Principe\"],\"x0\":\" \",\"xaxis\":\"x\",\"y\":[58.18971061093247],\"y0\":\" \",\"yaxis\":\"y\",\"type\":\"box\"},{\"alignmentgroup\":\"True\",\"hovertemplate\":\"Pais=%{x}\\u003cbr\\u003eTotal de Mortes=%{y}\\u003cextra\\u003e\\u003c\\u002fextra\\u003e\",\"legendgroup\":\"Saudi Arabia\",\"marker\":{\"color\":\"#FECB52\"},\"name\":\"Saudi Arabia\",\"notched\":false,\"offsetgroup\":\"Saudi Arabia\",\"orientation\":\"v\",\"showlegend\":true,\"x\":[\"Saudi Arabia\"],\"x0\":\" \",\"xaxis\":\"x\",\"y\":[7932.289937106918],\"y0\":\" \",\"yaxis\":\"y\",\"type\":\"box\"},{\"alignmentgroup\":\"True\",\"hovertemplate\":\"Pais=%{x}\\u003cbr\\u003eTotal de Mortes=%{y}\\u003cextra\\u003e\\u003c\\u002fextra\\u003e\",\"legendgroup\":\"Senegal\",\"marker\":{\"color\":\"#636efa\"},\"name\":\"Senegal\",\"notched\":false,\"offsetgroup\":\"Senegal\",\"orientation\":\"v\",\"showlegend\":true,\"x\":[\"Senegal\"],\"x0\":\" \",\"xaxis\":\"x\",\"y\":[1610.596632996633],\"y0\":\" \",\"yaxis\":\"y\",\"type\":\"box\"},{\"alignmentgroup\":\"True\",\"hovertemplate\":\"Pais=%{x}\\u003cbr\\u003eTotal de Mortes=%{y}\\u003cextra\\u003e\\u003c\\u002fextra\\u003e\",\"legendgroup\":\"Serbia\",\"marker\":{\"color\":\"#EF553B\"},\"name\":\"Serbia\",\"notched\":false,\"offsetgroup\":\"Serbia\",\"orientation\":\"v\",\"showlegend\":true,\"x\":[\"Serbia\"],\"x0\":\" \",\"xaxis\":\"x\",\"y\":[11969.717595491547],\"y0\":\" \",\"yaxis\":\"y\",\"type\":\"box\"},{\"alignmentgroup\":\"True\",\"hovertemplate\":\"Pais=%{x}\\u003cbr\\u003eTotal de Mortes=%{y}\\u003cextra\\u003e\\u003c\\u002fextra\\u003e\",\"legendgroup\":\"Seychelles\",\"marker\":{\"color\":\"#00cc96\"},\"name\":\"Seychelles\",\"notched\":false,\"offsetgroup\":\"Seychelles\",\"orientation\":\"v\",\"showlegend\":true,\"x\":[\"Seychelles\"],\"x0\":\" \",\"xaxis\":\"x\",\"y\":[140.1105141980046],\"y0\":\" \",\"yaxis\":\"y\",\"type\":\"box\"},{\"alignmentgroup\":\"True\",\"hovertemplate\":\"Pais=%{x}\\u003cbr\\u003eTotal de Mortes=%{y}\\u003cextra\\u003e\\u003c\\u002fextra\\u003e\",\"legendgroup\":\"Sierra Leone\",\"marker\":{\"color\":\"#ab63fa\"},\"name\":\"Sierra Leone\",\"notched\":false,\"offsetgroup\":\"Sierra Leone\",\"orientation\":\"v\",\"showlegend\":true,\"x\":[\"Sierra Leone\"],\"x0\":\" \",\"xaxis\":\"x\",\"y\":[108.88476312419975],\"y0\":\" \",\"yaxis\":\"y\",\"type\":\"box\"},{\"alignmentgroup\":\"True\",\"hovertemplate\":\"Pais=%{x}\\u003cbr\\u003eTotal de Mortes=%{y}\\u003cextra\\u003e\\u003c\\u002fextra\\u003e\",\"legendgroup\":\"Singapore\",\"marker\":{\"color\":\"#FFA15A\"},\"name\":\"Singapore\",\"notched\":false,\"offsetgroup\":\"Singapore\",\"orientation\":\"v\",\"showlegend\":true,\"x\":[\"Singapore\"],\"x0\":\" \",\"xaxis\":\"x\",\"y\":[1048.7733249843457],\"y0\":\" \",\"yaxis\":\"y\",\"type\":\"box\"},{\"alignmentgroup\":\"True\",\"hovertemplate\":\"Pais=%{x}\\u003cbr\\u003eTotal de Mortes=%{y}\\u003cextra\\u003e\\u003c\\u002fextra\\u003e\",\"legendgroup\":\"Sint Maarten (Dutch part)\",\"marker\":{\"color\":\"#19d3f3\"},\"name\":\"Sint Maarten (Dutch part)\",\"notched\":false,\"offsetgroup\":\"Sint Maarten (Dutch part)\",\"orientation\":\"v\",\"showlegend\":true,\"x\":[\"Sint Maarten (Dutch part)\"],\"x0\":\" \",\"xaxis\":\"x\",\"y\":[66.34365129500948],\"y0\":\" \",\"yaxis\":\"y\",\"type\":\"box\"},{\"alignmentgroup\":\"True\",\"hovertemplate\":\"Pais=%{x}\\u003cbr\\u003eTotal de Mortes=%{y}\\u003cextra\\u003e\\u003c\\u002fextra\\u003e\",\"legendgroup\":\"Slovakia\",\"marker\":{\"color\":\"#FF6692\"},\"name\":\"Slovakia\",\"notched\":false,\"offsetgroup\":\"Slovakia\",\"orientation\":\"v\",\"showlegend\":true,\"x\":[\"Slovakia\"],\"x0\":\" \",\"xaxis\":\"x\",\"y\":[14903.41313960834],\"y0\":\" \",\"yaxis\":\"y\",\"type\":\"box\"},{\"alignmentgroup\":\"True\",\"hovertemplate\":\"Pais=%{x}\\u003cbr\\u003eTotal de Mortes=%{y}\\u003cextra\\u003e\\u003c\\u002fextra\\u003e\",\"legendgroup\":\"Slovenia\",\"marker\":{\"color\":\"#B6E880\"},\"name\":\"Slovenia\",\"notched\":false,\"offsetgroup\":\"Slovenia\",\"orientation\":\"v\",\"showlegend\":true,\"x\":[\"Slovenia\"],\"x0\":\" \",\"xaxis\":\"x\",\"y\":[6403.56608478803],\"y0\":\" \",\"yaxis\":\"y\",\"type\":\"box\"},{\"alignmentgroup\":\"True\",\"hovertemplate\":\"Pais=%{x}\\u003cbr\\u003eTotal de Mortes=%{y}\\u003cextra\\u003e\\u003c\\u002fextra\\u003e\",\"legendgroup\":\"Solomon Islands\",\"marker\":{\"color\":\"#FF97FF\"},\"name\":\"Solomon Islands\",\"notched\":false,\"offsetgroup\":\"Solomon Islands\",\"orientation\":\"v\",\"showlegend\":true,\"x\":[\"Solomon Islands\"],\"x0\":\" \",\"xaxis\":\"x\",\"y\":[163.0239651416122],\"y0\":\" \",\"yaxis\":\"y\",\"type\":\"box\"},{\"alignmentgroup\":\"True\",\"hovertemplate\":\"Pais=%{x}\\u003cbr\\u003eTotal de Mortes=%{y}\\u003cextra\\u003e\\u003c\\u002fextra\\u003e\",\"legendgroup\":\"Somalia\",\"marker\":{\"color\":\"#FECB52\"},\"name\":\"Somalia\",\"notched\":false,\"offsetgroup\":\"Somalia\",\"orientation\":\"v\",\"showlegend\":true,\"x\":[\"Somalia\"],\"x0\":\" \",\"xaxis\":\"x\",\"y\":[1010.0672588832488],\"y0\":\" \",\"yaxis\":\"y\",\"type\":\"box\"},{\"alignmentgroup\":\"True\",\"hovertemplate\":\"Pais=%{x}\\u003cbr\\u003eTotal de Mortes=%{y}\\u003cextra\\u003e\\u003c\\u002fextra\\u003e\",\"legendgroup\":\"South Africa\",\"marker\":{\"color\":\"#636efa\"},\"name\":\"South Africa\",\"notched\":false,\"offsetgroup\":\"South Africa\",\"orientation\":\"v\",\"showlegend\":true,\"x\":[\"South Africa\"],\"x0\":\" \",\"xaxis\":\"x\",\"y\":[77806.00566037736],\"y0\":\" \",\"yaxis\":\"y\",\"type\":\"box\"},{\"alignmentgroup\":\"True\",\"hovertemplate\":\"Pais=%{x}\\u003cbr\\u003eTotal de Mortes=%{y}\\u003cextra\\u003e\\u003c\\u002fextra\\u003e\",\"legendgroup\":\"South America\",\"marker\":{\"color\":\"#EF553B\"},\"name\":\"South America\",\"notched\":false,\"offsetgroup\":\"South America\",\"orientation\":\"v\",\"showlegend\":true,\"x\":[\"South America\"],\"x0\":\" \",\"xaxis\":\"x\",\"y\":[1022299.4239602732],\"y0\":\" \",\"yaxis\":\"y\",\"type\":\"box\"},{\"alignmentgroup\":\"True\",\"hovertemplate\":\"Pais=%{x}\\u003cbr\\u003eTotal de Mortes=%{y}\\u003cextra\\u003e\\u003c\\u002fextra\\u003e\",\"legendgroup\":\"South Korea\",\"marker\":{\"color\":\"#00cc96\"},\"name\":\"South Korea\",\"notched\":false,\"offsetgroup\":\"South Korea\",\"orientation\":\"v\",\"showlegend\":true,\"x\":[\"South Korea\"],\"x0\":\" \",\"xaxis\":\"x\",\"y\":[18077.702153846152],\"y0\":\" \",\"yaxis\":\"y\",\"type\":\"box\"},{\"alignmentgroup\":\"True\",\"hovertemplate\":\"Pais=%{x}\\u003cbr\\u003eTotal de Mortes=%{y}\\u003cextra\\u003e\\u003c\\u002fextra\\u003e\",\"legendgroup\":\"South Sudan\",\"marker\":{\"color\":\"#ab63fa\"},\"name\":\"South Sudan\",\"notched\":false,\"offsetgroup\":\"South Sudan\",\"orientation\":\"v\",\"showlegend\":true,\"x\":[\"South Sudan\"],\"x0\":\" \",\"xaxis\":\"x\",\"y\":[120.00389357560026],\"y0\":\" \",\"yaxis\":\"y\",\"type\":\"box\"},{\"alignmentgroup\":\"True\",\"hovertemplate\":\"Pais=%{x}\\u003cbr\\u003eTotal de Mortes=%{y}\\u003cextra\\u003e\\u003c\\u002fextra\\u003e\",\"legendgroup\":\"Spain\",\"marker\":{\"color\":\"#FFA15A\"},\"name\":\"Spain\",\"notched\":false,\"offsetgroup\":\"Spain\",\"orientation\":\"v\",\"showlegend\":true,\"x\":[\"Spain\"],\"x0\":\" \",\"xaxis\":\"x\",\"y\":[91624.84620098039],\"y0\":\" \",\"yaxis\":\"y\",\"type\":\"box\"},{\"alignmentgroup\":\"True\",\"hovertemplate\":\"Pais=%{x}\\u003cbr\\u003eTotal de Mortes=%{y}\\u003cextra\\u003e\\u003c\\u002fextra\\u003e\",\"legendgroup\":\"Sri Lanka\",\"marker\":{\"color\":\"#19d3f3\"},\"name\":\"Sri Lanka\",\"notched\":false,\"offsetgroup\":\"Sri Lanka\",\"orientation\":\"v\",\"showlegend\":true,\"x\":[\"Sri Lanka\"],\"x0\":\" \",\"xaxis\":\"x\",\"y\":[11249.225786163523],\"y0\":\" \",\"yaxis\":\"y\",\"type\":\"box\"},{\"alignmentgroup\":\"True\",\"hovertemplate\":\"Pais=%{x}\\u003cbr\\u003eTotal de Mortes=%{y}\\u003cextra\\u003e\\u003c\\u002fextra\\u003e\",\"legendgroup\":\"Sudan\",\"marker\":{\"color\":\"#FF6692\"},\"name\":\"Sudan\",\"notched\":false,\"offsetgroup\":\"Sudan\",\"orientation\":\"v\",\"showlegend\":true,\"x\":[\"Sudan\"],\"x0\":\" \",\"xaxis\":\"x\",\"y\":[3595.887157107232],\"y0\":\" \",\"yaxis\":\"y\",\"type\":\"box\"},{\"alignmentgroup\":\"True\",\"hovertemplate\":\"Pais=%{x}\\u003cbr\\u003eTotal de Mortes=%{y}\\u003cextra\\u003e\\u003c\\u002fextra\\u003e\",\"legendgroup\":\"Suriname\",\"marker\":{\"color\":\"#B6E880\"},\"name\":\"Suriname\",\"notched\":false,\"offsetgroup\":\"Suriname\",\"orientation\":\"v\",\"showlegend\":true,\"x\":[\"Suriname\"],\"x0\":\" \",\"xaxis\":\"x\",\"y\":[966.3502538071066],\"y0\":\" \",\"yaxis\":\"y\",\"type\":\"box\"},{\"alignmentgroup\":\"True\",\"hovertemplate\":\"Pais=%{x}\\u003cbr\\u003eTotal de Mortes=%{y}\\u003cextra\\u003e\\u003c\\u002fextra\\u003e\",\"legendgroup\":\"Sweden\",\"marker\":{\"color\":\"#FF97FF\"},\"name\":\"Sweden\",\"notched\":false,\"offsetgroup\":\"Sweden\",\"orientation\":\"v\",\"showlegend\":true,\"x\":[\"Sweden\"],\"x0\":\" \",\"xaxis\":\"x\",\"y\":[17708.41645885287],\"y0\":\" \",\"yaxis\":\"y\",\"type\":\"box\"},{\"alignmentgroup\":\"True\",\"hovertemplate\":\"Pais=%{x}\\u003cbr\\u003eTotal de Mortes=%{y}\\u003cextra\\u003e\\u003c\\u002fextra\\u003e\",\"legendgroup\":\"Switzerland\",\"marker\":{\"color\":\"#FECB52\"},\"name\":\"Switzerland\",\"notched\":false,\"offsetgroup\":\"Switzerland\",\"orientation\":\"v\",\"showlegend\":true,\"x\":[\"Switzerland\"],\"x0\":\" \",\"xaxis\":\"x\",\"y\":[10805.23339540658],\"y0\":\" \",\"yaxis\":\"y\",\"type\":\"box\"},{\"alignmentgroup\":\"True\",\"hovertemplate\":\"Pais=%{x}\\u003cbr\\u003eTotal de Mortes=%{y}\\u003cextra\\u003e\\u003c\\u002fextra\\u003e\",\"legendgroup\":\"Syria\",\"marker\":{\"color\":\"#636efa\"},\"name\":\"Syria\",\"notched\":false,\"offsetgroup\":\"Syria\",\"orientation\":\"v\",\"showlegend\":true,\"x\":[\"Syria\"],\"x0\":\" \",\"xaxis\":\"x\",\"y\":[2322.1288692356284],\"y0\":\" \",\"yaxis\":\"y\",\"type\":\"box\"},{\"alignmentgroup\":\"True\",\"hovertemplate\":\"Pais=%{x}\\u003cbr\\u003eTotal de Mortes=%{y}\\u003cextra\\u003e\\u003c\\u002fextra\\u003e\",\"legendgroup\":\"Tajikistan\",\"marker\":{\"color\":\"#EF553B\"},\"name\":\"Tajikistan\",\"notched\":false,\"offsetgroup\":\"Tajikistan\",\"orientation\":\"v\",\"showlegend\":true,\"x\":[\"Tajikistan\"],\"x0\":\" \",\"xaxis\":\"x\",\"y\":[111.23408360128617],\"y0\":\" \",\"yaxis\":\"y\",\"type\":\"box\"},{\"alignmentgroup\":\"True\",\"hovertemplate\":\"Pais=%{x}\\u003cbr\\u003eTotal de Mortes=%{y}\\u003cextra\\u003e\\u003c\\u002fextra\\u003e\",\"legendgroup\":\"Tanzania\",\"marker\":{\"color\":\"#00cc96\"},\"name\":\"Tanzania\",\"notched\":false,\"offsetgroup\":\"Tanzania\",\"orientation\":\"v\",\"showlegend\":true,\"x\":[\"Tanzania\"],\"x0\":\" \",\"xaxis\":\"x\",\"y\":[572.8142766898294],\"y0\":\" \",\"yaxis\":\"y\",\"type\":\"box\"},{\"alignmentgroup\":\"True\",\"hovertemplate\":\"Pais=%{x}\\u003cbr\\u003eTotal de Mortes=%{y}\\u003cextra\\u003e\\u003c\\u002fextra\\u003e\",\"legendgroup\":\"Thailand\",\"marker\":{\"color\":\"#ab63fa\"},\"name\":\"Thailand\",\"notched\":false,\"offsetgroup\":\"Thailand\",\"orientation\":\"v\",\"showlegend\":true,\"x\":[\"Thailand\"],\"x0\":\" \",\"xaxis\":\"x\",\"y\":[20643.527001862196],\"y0\":\" \",\"yaxis\":\"y\",\"type\":\"box\"},{\"alignmentgroup\":\"True\",\"hovertemplate\":\"Pais=%{x}\\u003cbr\\u003eTotal de Mortes=%{y}\\u003cextra\\u003e\\u003c\\u002fextra\\u003e\",\"legendgroup\":\"Togo\",\"marker\":{\"color\":\"#FFA15A\"},\"name\":\"Togo\",\"notched\":false,\"offsetgroup\":\"Togo\",\"orientation\":\"v\",\"showlegend\":true,\"x\":[\"Togo\"],\"x0\":\" \",\"xaxis\":\"x\",\"y\":[210.32327044025158],\"y0\":\" \",\"yaxis\":\"y\",\"type\":\"box\"},{\"alignmentgroup\":\"True\",\"hovertemplate\":\"Pais=%{x}\\u003cbr\\u003eTotal de Mortes=%{y}\\u003cextra\\u003e\\u003c\\u002fextra\\u003e\",\"legendgroup\":\"Tonga\",\"marker\":{\"color\":\"#19d3f3\"},\"name\":\"Tonga\",\"notched\":false,\"offsetgroup\":\"Tonga\",\"orientation\":\"v\",\"showlegend\":true,\"x\":[\"Tonga\"],\"x0\":\" \",\"xaxis\":\"x\",\"y\":[11.664383561643836],\"y0\":\" \",\"yaxis\":\"y\",\"type\":\"box\"},{\"alignmentgroup\":\"True\",\"hovertemplate\":\"Pais=%{x}\\u003cbr\\u003eTotal de Mortes=%{y}\\u003cextra\\u003e\\u003c\\u002fextra\\u003e\",\"legendgroup\":\"Trinidad and Tobago\",\"marker\":{\"color\":\"#FF6692\"},\"name\":\"Trinidad and Tobago\",\"notched\":false,\"offsetgroup\":\"Trinidad and Tobago\",\"orientation\":\"v\",\"showlegend\":true,\"x\":[\"Trinidad and Tobago\"],\"x0\":\" \",\"xaxis\":\"x\",\"y\":[2713.7465408805033],\"y0\":\" \",\"yaxis\":\"y\",\"type\":\"box\"},{\"alignmentgroup\":\"True\",\"hovertemplate\":\"Pais=%{x}\\u003cbr\\u003eTotal de Mortes=%{y}\\u003cextra\\u003e\\u003c\\u002fextra\\u003e\",\"legendgroup\":\"Tunisia\",\"marker\":{\"color\":\"#B6E880\"},\"name\":\"Tunisia\",\"notched\":false,\"offsetgroup\":\"Tunisia\",\"orientation\":\"v\",\"showlegend\":true,\"x\":[\"Tunisia\"],\"x0\":\" \",\"xaxis\":\"x\",\"y\":[21047.265497808392],\"y0\":\" \",\"yaxis\":\"y\",\"type\":\"box\"},{\"alignmentgroup\":\"True\",\"hovertemplate\":\"Pais=%{x}\\u003cbr\\u003eTotal de Mortes=%{y}\\u003cextra\\u003e\\u003c\\u002fextra\\u003e\",\"legendgroup\":\"Turkey\",\"marker\":{\"color\":\"#FF97FF\"},\"name\":\"Turkey\",\"notched\":false,\"offsetgroup\":\"Turkey\",\"orientation\":\"v\",\"showlegend\":true,\"x\":[\"Turkey\"],\"x0\":\" \",\"xaxis\":\"x\",\"y\":[71719.8409517846],\"y0\":\" \",\"yaxis\":\"y\",\"type\":\"box\"},{\"alignmentgroup\":\"True\",\"hovertemplate\":\"Pais=%{x}\\u003cbr\\u003eTotal de Mortes=%{y}\\u003cextra\\u003e\\u003c\\u002fextra\\u003e\",\"legendgroup\":\"Turks and Caicos Islands\",\"marker\":{\"color\":\"#FECB52\"},\"name\":\"Turks and Caicos Islands\",\"notched\":false,\"offsetgroup\":\"Turks and Caicos Islands\",\"orientation\":\"v\",\"showlegend\":true,\"x\":[\"Turks and Caicos Islands\"],\"x0\":\" \",\"xaxis\":\"x\",\"y\":[27.310279187817258],\"y0\":\" \",\"yaxis\":\"y\",\"type\":\"box\"},{\"alignmentgroup\":\"True\",\"hovertemplate\":\"Pais=%{x}\\u003cbr\\u003eTotal de Mortes=%{y}\\u003cextra\\u003e\\u003c\\u002fextra\\u003e\",\"legendgroup\":\"Tuvalu\",\"marker\":{\"color\":\"#636efa\"},\"name\":\"Tuvalu\",\"notched\":false,\"offsetgroup\":\"Tuvalu\",\"orientation\":\"v\",\"showlegend\":true,\"x\":[\"Tuvalu\"],\"x0\":\" \",\"xaxis\":\"x\",\"y\":[1.0],\"y0\":\" \",\"yaxis\":\"y\",\"type\":\"box\"},{\"alignmentgroup\":\"True\",\"hovertemplate\":\"Pais=%{x}\\u003cbr\\u003eTotal de Mortes=%{y}\\u003cextra\\u003e\\u003c\\u002fextra\\u003e\",\"legendgroup\":\"Uganda\",\"marker\":{\"color\":\"#EF553B\"},\"name\":\"Uganda\",\"notched\":false,\"offsetgroup\":\"Uganda\",\"orientation\":\"v\",\"showlegend\":true,\"x\":[\"Uganda\"],\"x0\":\" \",\"xaxis\":\"x\",\"y\":[2756.8477226376613],\"y0\":\" \",\"yaxis\":\"y\",\"type\":\"box\"},{\"alignmentgroup\":\"True\",\"hovertemplate\":\"Pais=%{x}\\u003cbr\\u003eTotal de Mortes=%{y}\\u003cextra\\u003e\\u003c\\u002fextra\\u003e\",\"legendgroup\":\"Ukraine\",\"marker\":{\"color\":\"#00cc96\"},\"name\":\"Ukraine\",\"notched\":false,\"offsetgroup\":\"Ukraine\",\"orientation\":\"v\",\"showlegend\":true,\"x\":[\"Ukraine\"],\"x0\":\" \",\"xaxis\":\"x\",\"y\":[74975.95199501247],\"y0\":\" \",\"yaxis\":\"y\",\"type\":\"box\"},{\"alignmentgroup\":\"True\",\"hovertemplate\":\"Pais=%{x}\\u003cbr\\u003eTotal de Mortes=%{y}\\u003cextra\\u003e\\u003c\\u002fextra\\u003e\",\"legendgroup\":\"United Arab Emirates\",\"marker\":{\"color\":\"#ab63fa\"},\"name\":\"United Arab Emirates\",\"notched\":false,\"offsetgroup\":\"United Arab Emirates\",\"orientation\":\"v\",\"showlegend\":true,\"x\":[\"United Arab Emirates\"],\"x0\":\" \",\"xaxis\":\"x\",\"y\":[1831.4909204758924],\"y0\":\" \",\"yaxis\":\"y\",\"type\":\"box\"},{\"alignmentgroup\":\"True\",\"hovertemplate\":\"Pais=%{x}\\u003cbr\\u003eTotal de Mortes=%{y}\\u003cextra\\u003e\\u003c\\u002fextra\\u003e\",\"legendgroup\":\"United Kingdom\",\"marker\":{\"color\":\"#FFA15A\"},\"name\":\"United Kingdom\",\"notched\":false,\"offsetgroup\":\"United Kingdom\",\"orientation\":\"v\",\"showlegend\":true,\"x\":[\"United Kingdom\"],\"x0\":\" \",\"xaxis\":\"x\",\"y\":[168653.22357229647],\"y0\":\" \",\"yaxis\":\"y\",\"type\":\"box\"},{\"alignmentgroup\":\"True\",\"hovertemplate\":\"Pais=%{x}\\u003cbr\\u003eTotal de Mortes=%{y}\\u003cextra\\u003e\\u003c\\u002fextra\\u003e\",\"legendgroup\":\"United States\",\"marker\":{\"color\":\"#19d3f3\"},\"name\":\"United States\",\"notched\":false,\"offsetgroup\":\"United States\",\"orientation\":\"v\",\"showlegend\":true,\"x\":[\"United States\"],\"x0\":\" \",\"xaxis\":\"x\",\"y\":[804833.9517923362],\"y0\":\" \",\"yaxis\":\"y\",\"type\":\"box\"},{\"alignmentgroup\":\"True\",\"hovertemplate\":\"Pais=%{x}\\u003cbr\\u003eTotal de Mortes=%{y}\\u003cextra\\u003e\\u003c\\u002fextra\\u003e\",\"legendgroup\":\"United States Virgin Islands\",\"marker\":{\"color\":\"#FF6692\"},\"name\":\"United States Virgin Islands\",\"notched\":false,\"offsetgroup\":\"United States Virgin Islands\",\"orientation\":\"v\",\"showlegend\":true,\"x\":[\"United States Virgin Islands\"],\"x0\":\" \",\"xaxis\":\"x\",\"y\":[87.69923857868021],\"y0\":\" \",\"yaxis\":\"y\",\"type\":\"box\"},{\"alignmentgroup\":\"True\",\"hovertemplate\":\"Pais=%{x}\\u003cbr\\u003eTotal de Mortes=%{y}\\u003cextra\\u003e\\u003c\\u002fextra\\u003e\",\"legendgroup\":\"Upper-middle-income countries\",\"marker\":{\"color\":\"#B6E880\"},\"name\":\"Upper-middle-income countries\",\"notched\":false,\"offsetgroup\":\"Upper-middle-income countries\",\"orientation\":\"v\",\"showlegend\":true,\"x\":[\"Upper-middle-income countries\"],\"x0\":\" \",\"xaxis\":\"x\",\"y\":[1958947.00239952],\"y0\":\" \",\"yaxis\":\"y\",\"type\":\"box\"},{\"alignmentgroup\":\"True\",\"hovertemplate\":\"Pais=%{x}\\u003cbr\\u003eTotal de Mortes=%{y}\\u003cextra\\u003e\\u003c\\u002fextra\\u003e\",\"legendgroup\":\"Uruguay\",\"marker\":{\"color\":\"#FF97FF\"},\"name\":\"Uruguay\",\"notched\":false,\"offsetgroup\":\"Uruguay\",\"orientation\":\"v\",\"showlegend\":true,\"x\":[\"Uruguay\"],\"x0\":\" \",\"xaxis\":\"x\",\"y\":[5388.790271636134],\"y0\":\" \",\"yaxis\":\"y\",\"type\":\"box\"},{\"alignmentgroup\":\"True\",\"hovertemplate\":\"Pais=%{x}\\u003cbr\\u003eTotal de Mortes=%{y}\\u003cextra\\u003e\\u003c\\u002fextra\\u003e\",\"legendgroup\":\"Uzbekistan\",\"marker\":{\"color\":\"#FECB52\"},\"name\":\"Uzbekistan\",\"notched\":false,\"offsetgroup\":\"Uzbekistan\",\"orientation\":\"v\",\"showlegend\":true,\"x\":[\"Uzbekistan\"],\"x0\":\" \",\"xaxis\":\"x\",\"y\":[865.6541598694943],\"y0\":\" \",\"yaxis\":\"y\",\"type\":\"box\"},{\"alignmentgroup\":\"True\",\"hovertemplate\":\"Pais=%{x}\\u003cbr\\u003eTotal de Mortes=%{y}\\u003cextra\\u003e\\u003c\\u002fextra\\u003e\",\"legendgroup\":\"Vanuatu\",\"marker\":{\"color\":\"#636efa\"},\"name\":\"Vanuatu\",\"notched\":false,\"offsetgroup\":\"Vanuatu\",\"orientation\":\"v\",\"showlegend\":true,\"x\":[\"Vanuatu\"],\"x0\":\" \",\"xaxis\":\"x\",\"y\":[13.72982456140351],\"y0\":\" \",\"yaxis\":\"y\",\"type\":\"box\"},{\"alignmentgroup\":\"True\",\"hovertemplate\":\"Pais=%{x}\\u003cbr\\u003eTotal de Mortes=%{y}\\u003cextra\\u003e\\u003c\\u002fextra\\u003e\",\"legendgroup\":\"Venezuela\",\"marker\":{\"color\":\"#EF553B\"},\"name\":\"Venezuela\",\"notched\":false,\"offsetgroup\":\"Venezuela\",\"orientation\":\"v\",\"showlegend\":true,\"x\":[\"Venezuela\"],\"x0\":\" \",\"xaxis\":\"x\",\"y\":[4221.367924528302],\"y0\":\" \",\"yaxis\":\"y\",\"type\":\"box\"},{\"alignmentgroup\":\"True\",\"hovertemplate\":\"Pais=%{x}\\u003cbr\\u003eTotal de Mortes=%{y}\\u003cextra\\u003e\\u003c\\u002fextra\\u003e\",\"legendgroup\":\"Vietnam\",\"marker\":{\"color\":\"#00cc96\"},\"name\":\"Vietnam\",\"notched\":false,\"offsetgroup\":\"Vietnam\",\"orientation\":\"v\",\"showlegend\":true,\"x\":[\"Vietnam\"],\"x0\":\" \",\"xaxis\":\"x\",\"y\":[29565.65368852459],\"y0\":\" \",\"yaxis\":\"y\",\"type\":\"box\"},{\"alignmentgroup\":\"True\",\"hovertemplate\":\"Pais=%{x}\\u003cbr\\u003eTotal de Mortes=%{y}\\u003cextra\\u003e\\u003c\\u002fextra\\u003e\",\"legendgroup\":\"Wallis and Futuna\",\"marker\":{\"color\":\"#ab63fa\"},\"name\":\"Wallis and Futuna\",\"notched\":false,\"offsetgroup\":\"Wallis and Futuna\",\"orientation\":\"v\",\"showlegend\":true,\"x\":[\"Wallis and Futuna\"],\"x0\":\" \",\"xaxis\":\"x\",\"y\":[7.501289767841788],\"y0\":\" \",\"yaxis\":\"y\",\"type\":\"box\"},{\"alignmentgroup\":\"True\",\"hovertemplate\":\"Pais=%{x}\\u003cbr\\u003eTotal de Mortes=%{y}\\u003cextra\\u003e\\u003c\\u002fextra\\u003e\",\"legendgroup\":\"Yemen\",\"marker\":{\"color\":\"#FFA15A\"},\"name\":\"Yemen\",\"notched\":false,\"offsetgroup\":\"Yemen\",\"orientation\":\"v\",\"showlegend\":true,\"x\":[\"Yemen\"],\"x0\":\" \",\"xaxis\":\"x\",\"y\":[1682.6893890675242],\"y0\":\" \",\"yaxis\":\"y\",\"type\":\"box\"},{\"alignmentgroup\":\"True\",\"hovertemplate\":\"Pais=%{x}\\u003cbr\\u003eTotal de Mortes=%{y}\\u003cextra\\u003e\\u003c\\u002fextra\\u003e\",\"legendgroup\":\"Zambia\",\"marker\":{\"color\":\"#19d3f3\"},\"name\":\"Zambia\",\"notched\":false,\"offsetgroup\":\"Zambia\",\"orientation\":\"v\",\"showlegend\":true,\"x\":[\"Zambia\"],\"x0\":\" \",\"xaxis\":\"x\",\"y\":[2973.051800379027],\"y0\":\" \",\"yaxis\":\"y\",\"type\":\"box\"},{\"alignmentgroup\":\"True\",\"hovertemplate\":\"Pais=%{x}\\u003cbr\\u003eTotal de Mortes=%{y}\\u003cextra\\u003e\\u003c\\u002fextra\\u003e\",\"legendgroup\":\"Zimbabwe\",\"marker\":{\"color\":\"#FF6692\"},\"name\":\"Zimbabwe\",\"notched\":false,\"offsetgroup\":\"Zimbabwe\",\"orientation\":\"v\",\"showlegend\":true,\"x\":[\"Zimbabwe\"],\"x0\":\" \",\"xaxis\":\"x\",\"y\":[3960.405338299193],\"y0\":\" \",\"yaxis\":\"y\",\"type\":\"box\"}],                        {\"template\":{\"data\":{\"histogram2dcontour\":[{\"type\":\"histogram2dcontour\",\"colorbar\":{\"outlinewidth\":0,\"ticks\":\"\"},\"colorscale\":[[0.0,\"#0d0887\"],[0.1111111111111111,\"#46039f\"],[0.2222222222222222,\"#7201a8\"],[0.3333333333333333,\"#9c179e\"],[0.4444444444444444,\"#bd3786\"],[0.5555555555555556,\"#d8576b\"],[0.6666666666666666,\"#ed7953\"],[0.7777777777777778,\"#fb9f3a\"],[0.8888888888888888,\"#fdca26\"],[1.0,\"#f0f921\"]]}],\"choropleth\":[{\"type\":\"choropleth\",\"colorbar\":{\"outlinewidth\":0,\"ticks\":\"\"}}],\"histogram2d\":[{\"type\":\"histogram2d\",\"colorbar\":{\"outlinewidth\":0,\"ticks\":\"\"},\"colorscale\":[[0.0,\"#0d0887\"],[0.1111111111111111,\"#46039f\"],[0.2222222222222222,\"#7201a8\"],[0.3333333333333333,\"#9c179e\"],[0.4444444444444444,\"#bd3786\"],[0.5555555555555556,\"#d8576b\"],[0.6666666666666666,\"#ed7953\"],[0.7777777777777778,\"#fb9f3a\"],[0.8888888888888888,\"#fdca26\"],[1.0,\"#f0f921\"]]}],\"heatmap\":[{\"type\":\"heatmap\",\"colorbar\":{\"outlinewidth\":0,\"ticks\":\"\"},\"colorscale\":[[0.0,\"#0d0887\"],[0.1111111111111111,\"#46039f\"],[0.2222222222222222,\"#7201a8\"],[0.3333333333333333,\"#9c179e\"],[0.4444444444444444,\"#bd3786\"],[0.5555555555555556,\"#d8576b\"],[0.6666666666666666,\"#ed7953\"],[0.7777777777777778,\"#fb9f3a\"],[0.8888888888888888,\"#fdca26\"],[1.0,\"#f0f921\"]]}],\"heatmapgl\":[{\"type\":\"heatmapgl\",\"colorbar\":{\"outlinewidth\":0,\"ticks\":\"\"},\"colorscale\":[[0.0,\"#0d0887\"],[0.1111111111111111,\"#46039f\"],[0.2222222222222222,\"#7201a8\"],[0.3333333333333333,\"#9c179e\"],[0.4444444444444444,\"#bd3786\"],[0.5555555555555556,\"#d8576b\"],[0.6666666666666666,\"#ed7953\"],[0.7777777777777778,\"#fb9f3a\"],[0.8888888888888888,\"#fdca26\"],[1.0,\"#f0f921\"]]}],\"contourcarpet\":[{\"type\":\"contourcarpet\",\"colorbar\":{\"outlinewidth\":0,\"ticks\":\"\"}}],\"contour\":[{\"type\":\"contour\",\"colorbar\":{\"outlinewidth\":0,\"ticks\":\"\"},\"colorscale\":[[0.0,\"#0d0887\"],[0.1111111111111111,\"#46039f\"],[0.2222222222222222,\"#7201a8\"],[0.3333333333333333,\"#9c179e\"],[0.4444444444444444,\"#bd3786\"],[0.5555555555555556,\"#d8576b\"],[0.6666666666666666,\"#ed7953\"],[0.7777777777777778,\"#fb9f3a\"],[0.8888888888888888,\"#fdca26\"],[1.0,\"#f0f921\"]]}],\"surface\":[{\"type\":\"surface\",\"colorbar\":{\"outlinewidth\":0,\"ticks\":\"\"},\"colorscale\":[[0.0,\"#0d0887\"],[0.1111111111111111,\"#46039f\"],[0.2222222222222222,\"#7201a8\"],[0.3333333333333333,\"#9c179e\"],[0.4444444444444444,\"#bd3786\"],[0.5555555555555556,\"#d8576b\"],[0.6666666666666666,\"#ed7953\"],[0.7777777777777778,\"#fb9f3a\"],[0.8888888888888888,\"#fdca26\"],[1.0,\"#f0f921\"]]}],\"mesh3d\":[{\"type\":\"mesh3d\",\"colorbar\":{\"outlinewidth\":0,\"ticks\":\"\"}}],\"scatter\":[{\"fillpattern\":{\"fillmode\":\"overlay\",\"size\":10,\"solidity\":0.2},\"type\":\"scatter\"}],\"parcoords\":[{\"type\":\"parcoords\",\"line\":{\"colorbar\":{\"outlinewidth\":0,\"ticks\":\"\"}}}],\"scatterpolargl\":[{\"type\":\"scatterpolargl\",\"marker\":{\"colorbar\":{\"outlinewidth\":0,\"ticks\":\"\"}}}],\"bar\":[{\"error_x\":{\"color\":\"#2a3f5f\"},\"error_y\":{\"color\":\"#2a3f5f\"},\"marker\":{\"line\":{\"color\":\"#E5ECF6\",\"width\":0.5},\"pattern\":{\"fillmode\":\"overlay\",\"size\":10,\"solidity\":0.2}},\"type\":\"bar\"}],\"scattergeo\":[{\"type\":\"scattergeo\",\"marker\":{\"colorbar\":{\"outlinewidth\":0,\"ticks\":\"\"}}}],\"scatterpolar\":[{\"type\":\"scatterpolar\",\"marker\":{\"colorbar\":{\"outlinewidth\":0,\"ticks\":\"\"}}}],\"histogram\":[{\"marker\":{\"pattern\":{\"fillmode\":\"overlay\",\"size\":10,\"solidity\":0.2}},\"type\":\"histogram\"}],\"scattergl\":[{\"type\":\"scattergl\",\"marker\":{\"colorbar\":{\"outlinewidth\":0,\"ticks\":\"\"}}}],\"scatter3d\":[{\"type\":\"scatter3d\",\"line\":{\"colorbar\":{\"outlinewidth\":0,\"ticks\":\"\"}},\"marker\":{\"colorbar\":{\"outlinewidth\":0,\"ticks\":\"\"}}}],\"scattermapbox\":[{\"type\":\"scattermapbox\",\"marker\":{\"colorbar\":{\"outlinewidth\":0,\"ticks\":\"\"}}}],\"scatterternary\":[{\"type\":\"scatterternary\",\"marker\":{\"colorbar\":{\"outlinewidth\":0,\"ticks\":\"\"}}}],\"scattercarpet\":[{\"type\":\"scattercarpet\",\"marker\":{\"colorbar\":{\"outlinewidth\":0,\"ticks\":\"\"}}}],\"carpet\":[{\"aaxis\":{\"endlinecolor\":\"#2a3f5f\",\"gridcolor\":\"white\",\"linecolor\":\"white\",\"minorgridcolor\":\"white\",\"startlinecolor\":\"#2a3f5f\"},\"baxis\":{\"endlinecolor\":\"#2a3f5f\",\"gridcolor\":\"white\",\"linecolor\":\"white\",\"minorgridcolor\":\"white\",\"startlinecolor\":\"#2a3f5f\"},\"type\":\"carpet\"}],\"table\":[{\"cells\":{\"fill\":{\"color\":\"#EBF0F8\"},\"line\":{\"color\":\"white\"}},\"header\":{\"fill\":{\"color\":\"#C8D4E3\"},\"line\":{\"color\":\"white\"}},\"type\":\"table\"}],\"barpolar\":[{\"marker\":{\"line\":{\"color\":\"#E5ECF6\",\"width\":0.5},\"pattern\":{\"fillmode\":\"overlay\",\"size\":10,\"solidity\":0.2}},\"type\":\"barpolar\"}],\"pie\":[{\"automargin\":true,\"type\":\"pie\"}]},\"layout\":{\"autotypenumbers\":\"strict\",\"colorway\":[\"#636efa\",\"#EF553B\",\"#00cc96\",\"#ab63fa\",\"#FFA15A\",\"#19d3f3\",\"#FF6692\",\"#B6E880\",\"#FF97FF\",\"#FECB52\"],\"font\":{\"color\":\"#2a3f5f\"},\"hovermode\":\"closest\",\"hoverlabel\":{\"align\":\"left\"},\"paper_bgcolor\":\"white\",\"plot_bgcolor\":\"#E5ECF6\",\"polar\":{\"bgcolor\":\"#E5ECF6\",\"angularaxis\":{\"gridcolor\":\"white\",\"linecolor\":\"white\",\"ticks\":\"\"},\"radialaxis\":{\"gridcolor\":\"white\",\"linecolor\":\"white\",\"ticks\":\"\"}},\"ternary\":{\"bgcolor\":\"#E5ECF6\",\"aaxis\":{\"gridcolor\":\"white\",\"linecolor\":\"white\",\"ticks\":\"\"},\"baxis\":{\"gridcolor\":\"white\",\"linecolor\":\"white\",\"ticks\":\"\"},\"caxis\":{\"gridcolor\":\"white\",\"linecolor\":\"white\",\"ticks\":\"\"}},\"coloraxis\":{\"colorbar\":{\"outlinewidth\":0,\"ticks\":\"\"}},\"colorscale\":{\"sequential\":[[0.0,\"#0d0887\"],[0.1111111111111111,\"#46039f\"],[0.2222222222222222,\"#7201a8\"],[0.3333333333333333,\"#9c179e\"],[0.4444444444444444,\"#bd3786\"],[0.5555555555555556,\"#d8576b\"],[0.6666666666666666,\"#ed7953\"],[0.7777777777777778,\"#fb9f3a\"],[0.8888888888888888,\"#fdca26\"],[1.0,\"#f0f921\"]],\"sequentialminus\":[[0.0,\"#0d0887\"],[0.1111111111111111,\"#46039f\"],[0.2222222222222222,\"#7201a8\"],[0.3333333333333333,\"#9c179e\"],[0.4444444444444444,\"#bd3786\"],[0.5555555555555556,\"#d8576b\"],[0.6666666666666666,\"#ed7953\"],[0.7777777777777778,\"#fb9f3a\"],[0.8888888888888888,\"#fdca26\"],[1.0,\"#f0f921\"]],\"diverging\":[[0,\"#8e0152\"],[0.1,\"#c51b7d\"],[0.2,\"#de77ae\"],[0.3,\"#f1b6da\"],[0.4,\"#fde0ef\"],[0.5,\"#f7f7f7\"],[0.6,\"#e6f5d0\"],[0.7,\"#b8e186\"],[0.8,\"#7fbc41\"],[0.9,\"#4d9221\"],[1,\"#276419\"]]},\"xaxis\":{\"gridcolor\":\"white\",\"linecolor\":\"white\",\"ticks\":\"\",\"title\":{\"standoff\":15},\"zerolinecolor\":\"white\",\"automargin\":true,\"zerolinewidth\":2},\"yaxis\":{\"gridcolor\":\"white\",\"linecolor\":\"white\",\"ticks\":\"\",\"title\":{\"standoff\":15},\"zerolinecolor\":\"white\",\"automargin\":true,\"zerolinewidth\":2},\"scene\":{\"xaxis\":{\"backgroundcolor\":\"#E5ECF6\",\"gridcolor\":\"white\",\"linecolor\":\"white\",\"showbackground\":true,\"ticks\":\"\",\"zerolinecolor\":\"white\",\"gridwidth\":2},\"yaxis\":{\"backgroundcolor\":\"#E5ECF6\",\"gridcolor\":\"white\",\"linecolor\":\"white\",\"showbackground\":true,\"ticks\":\"\",\"zerolinecolor\":\"white\",\"gridwidth\":2},\"zaxis\":{\"backgroundcolor\":\"#E5ECF6\",\"gridcolor\":\"white\",\"linecolor\":\"white\",\"showbackground\":true,\"ticks\":\"\",\"zerolinecolor\":\"white\",\"gridwidth\":2}},\"shapedefaults\":{\"line\":{\"color\":\"#2a3f5f\"}},\"annotationdefaults\":{\"arrowcolor\":\"#2a3f5f\",\"arrowhead\":0,\"arrowwidth\":1},\"geo\":{\"bgcolor\":\"white\",\"landcolor\":\"#E5ECF6\",\"subunitcolor\":\"white\",\"showland\":true,\"showlakes\":true,\"lakecolor\":\"white\"},\"title\":{\"x\":0.05},\"mapbox\":{\"style\":\"light\"}}},\"xaxis\":{\"anchor\":\"y\",\"domain\":[0.0,1.0],\"title\":{\"text\":\"Pais\"},\"categoryorder\":\"array\",\"categoryarray\":[\"Afghanistan\",\"Africa\",\"Albania\",\"Algeria\",\"American Samoa\",\"Andorra\",\"Angola\",\"Anguilla\",\"Antigua and Barbuda\",\"Argentina\",\"Armenia\",\"Aruba\",\"Asia\",\"Australia\",\"Austria\",\"Azerbaijan\",\"Bahamas\",\"Bahrain\",\"Bangladesh\",\"Barbados\",\"Belarus\",\"Belgium\",\"Belize\",\"Benin\",\"Bermuda\",\"Bhutan\",\"Bolivia\",\"Bonaire Sint Eustatius and Saba\",\"Bosnia and Herzegovina\",\"Botswana\",\"Brazil\",\"British Virgin Islands\",\"Brunei\",\"Bulgaria\",\"Burkina Faso\",\"Burundi\",\"Cambodia\",\"Cameroon\",\"Canada\",\"Cape Verde\",\"Cayman Islands\",\"Central African Republic\",\"Chad\",\"Chile\",\"China\",\"Colombia\",\"Comoros\",\"Congo\",\"Cook Islands\",\"Costa Rica\",\"Cote d'Ivoire\",\"Croatia\",\"Cuba\",\"Curacao\",\"Cyprus\",\"Czechia\",\"Democratic Republic of Congo\",\"Denmark\",\"Djibouti\",\"Dominica\",\"Dominican Republic\",\"East Timor\",\"Ecuador\",\"Egypt\",\"El Salvador\",\"Equatorial Guinea\",\"Eritrea\",\"Estonia\",\"Eswatini\",\"Ethiopia\",\"Europe\",\"European Union (27)\",\"Faroe Islands\",\"Fiji\",\"Finland\",\"France\",\"French Guiana\",\"French Polynesia\",\"Gabon\",\"Gambia\",\"Georgia\",\"Germany\",\"Ghana\",\"Gibraltar\",\"Greece\",\"Greenland\",\"Grenada\",\"Guadeloupe\",\"Guam\",\"Guatemala\",\"Guernsey\",\"Guinea\",\"Guinea-Bissau\",\"Guyana\",\"Haiti\",\"High-income countries\",\"Honduras\",\"Hungary\",\"Iceland\",\"India\",\"Indonesia\",\"Iran\",\"Iraq\",\"Ireland\",\"Isle of Man\",\"Israel\",\"Italy\",\"Jamaica\",\"Japan\",\"Jersey\",\"Jordan\",\"Kazakhstan\",\"Kenya\",\"Kiribati\",\"Kosovo\",\"Kuwait\",\"Kyrgyzstan\",\"Laos\",\"Latvia\",\"Lebanon\",\"Lesotho\",\"Liberia\",\"Libya\",\"Liechtenstein\",\"Lithuania\",\"Low-income countries\",\"Lower-middle-income countries\",\"Luxembourg\",\"Madagascar\",\"Malawi\",\"Malaysia\",\"Maldives\",\"Mali\",\"Malta\",\"Marshall Islands\",\"Martinique\",\"Mauritania\",\"Mauritius\",\"Mayotte\",\"Mexico\",\"Micronesia (country)\",\"Moldova\",\"Monaco\",\"Mongolia\",\"Montenegro\",\"Montserrat\",\"Morocco\",\"Mozambique\",\"Myanmar\",\"Namibia\",\"Nauru\",\"Nepal\",\"Netherlands\",\"New Caledonia\",\"New Zealand\",\"Nicaragua\",\"Niger\",\"Nigeria\",\"North America\",\"North Macedonia\",\"Northern Mariana Islands\",\"Norway\",\"Oceania\",\"Oman\",\"Pakistan\",\"Palau\",\"Palestine\",\"Panama\",\"Papua New Guinea\",\"Paraguay\",\"Peru\",\"Philippines\",\"Poland\",\"Portugal\",\"Puerto Rico\",\"Qatar\",\"Reunion\",\"Romania\",\"Russia\",\"Rwanda\",\"Saint Barthelemy\",\"Saint Kitts and Nevis\",\"Saint Lucia\",\"Saint Martin (French part)\",\"Saint Pierre and Miquelon\",\"Saint Vincent and the Grenadines\",\"Samoa\",\"San Marino\",\"Sao Tome and Principe\",\"Saudi Arabia\",\"Senegal\",\"Serbia\",\"Seychelles\",\"Sierra Leone\",\"Singapore\",\"Sint Maarten (Dutch part)\",\"Slovakia\",\"Slovenia\",\"Solomon Islands\",\"Somalia\",\"South Africa\",\"South America\",\"South Korea\",\"South Sudan\",\"Spain\",\"Sri Lanka\",\"Sudan\",\"Suriname\",\"Sweden\",\"Switzerland\",\"Syria\",\"Tajikistan\",\"Tanzania\",\"Thailand\",\"Togo\",\"Tonga\",\"Trinidad and Tobago\",\"Tunisia\",\"Turkey\",\"Turks and Caicos Islands\",\"Tuvalu\",\"Uganda\",\"Ukraine\",\"United Arab Emirates\",\"United Kingdom\",\"United States\",\"United States Virgin Islands\",\"Upper-middle-income countries\",\"Uruguay\",\"Uzbekistan\",\"Vanuatu\",\"Venezuela\",\"Vietnam\",\"Wallis and Futuna\",\"Yemen\",\"Zambia\",\"Zimbabwe\"]},\"yaxis\":{\"anchor\":\"x\",\"domain\":[0.0,1.0],\"title\":{\"text\":\"Total de Mortes\"}},\"legend\":{\"title\":{\"text\":\"Pais\"},\"tracegroupgap\":0},\"margin\":{\"t\":60},\"boxmode\":\"overlay\"},                        {\"responsive\": true}                    ).then(function(){\n",
       "                            \n",
       "var gd = document.getElementById('af28a43a-ab3c-44f7-9e4c-8d1a9e220852');\n",
       "var x = new MutationObserver(function (mutations, observer) {{\n",
       "        var display = window.getComputedStyle(gd).display;\n",
       "        if (!display || display === 'none') {{\n",
       "            console.log([gd, 'removed!']);\n",
       "            Plotly.purge(gd);\n",
       "            observer.disconnect();\n",
       "        }}\n",
       "}});\n",
       "\n",
       "// Listen for the removal of the full notebook cells\n",
       "var notebookContainer = gd.closest('#notebook-container');\n",
       "if (notebookContainer) {{\n",
       "    x.observe(notebookContainer, {childList: true});\n",
       "}}\n",
       "\n",
       "// Listen for the clearing of the current output cell\n",
       "var outputEl = gd.closest('.output');\n",
       "if (outputEl) {{\n",
       "    x.observe(outputEl, {childList: true});\n",
       "}}\n",
       "\n",
       "                        })                };                });            </script>        </div>"
      ]
     },
     "metadata": {},
     "output_type": "display_data"
    }
   ],
   "source": []
  },
  {
   "cell_type": "code",
   "execution_count": null,
   "id": "a98f7b15-659a-47a6-8735-97a2a26807bb",
   "metadata": {},
   "outputs": [],
   "source": []
  }
 ],
 "metadata": {
  "kernelspec": {
   "display_name": "Python 3 (ipykernel)",
   "language": "python",
   "name": "python3"
  },
  "language_info": {
   "codemirror_mode": {
    "name": "ipython",
    "version": 3
   },
   "file_extension": ".py",
   "mimetype": "text/x-python",
   "name": "python",
   "nbconvert_exporter": "python",
   "pygments_lexer": "ipython3",
   "version": "3.12.4"
  }
 },
 "nbformat": 4,
 "nbformat_minor": 5
}
