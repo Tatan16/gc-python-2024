{
 "cells": [
  {
   "cell_type": "code",
   "execution_count": 2,
   "id": "ac924db4-ec0e-4bd8-8586-0d9e64332309",
   "metadata": {},
   "outputs": [],
   "source": [
    "nome = \"Jhonathan\"\n",
    "eh_professor = True\n",
    "nota = 10\n",
    "dinheiro_na_carteira = 20,00"
   ]
  },
  {
   "cell_type": "code",
   "execution_count": 3,
   "id": "e3503933-5c78-405a-bc11-5bfab246e149",
   "metadata": {},
   "outputs": [],
   "source": [
    "if 10 < 6:\n",
    "    print(\"10 e maior que 6\")"
   ]
  },
  {
   "cell_type": "code",
   "execution_count": null,
   "id": "ceda9328-09ae-4dc1-b86c-8d5b66a4712f",
   "metadata": {},
   "outputs": [],
   "source": [
    "lista_de_compras = [\"Maça\", \"Banana\"]\n",
    "\n"
   ]
  }
 ],
 "metadata": {
  "kernelspec": {
   "display_name": "Python 3 (ipykernel)",
   "language": "python",
   "name": "python3"
  },
  "language_info": {
   "codemirror_mode": {
    "name": "ipython",
    "version": 3
   },
   "file_extension": ".py",
   "mimetype": "text/x-python",
   "name": "python",
   "nbconvert_exporter": "python",
   "pygments_lexer": "ipython3",
   "version": "3.12.4"
  }
 },
 "nbformat": 4,
 "nbformat_minor": 5
}
